{
 "cells": [
  {
   "cell_type": "markdown",
   "id": "cd97c972",
   "metadata": {},
   "source": [
    "# Reward Competition Elo rating Calculation"
   ]
  },
  {
   "cell_type": "markdown",
   "id": "2e0f58e4",
   "metadata": {},
   "source": [
    "## Importing other Python Libraries/Modules"
   ]
  },
  {
   "cell_type": "code",
   "execution_count": 1,
   "id": "cf755b46",
   "metadata": {},
   "outputs": [],
   "source": [
    "import copy\n",
    "import re\n",
    "import os\n",
    "import sys\n",
    "import string\n",
    "import glob\n",
    "import ast\n",
    "from collections import Counter\n",
    "from collections import defaultdict\n",
    "import warnings"
   ]
  },
  {
   "cell_type": "code",
   "execution_count": 2,
   "id": "1c9bfe6f",
   "metadata": {},
   "outputs": [],
   "source": [
    "import matplotlib.pyplot as plt\n",
    "import pandas as pd"
   ]
  },
  {
   "cell_type": "code",
   "execution_count": 3,
   "id": "b6770f9e",
   "metadata": {},
   "outputs": [],
   "source": [
    "import git\n",
    "# Getting the path of the root directory so that we can import repo specific functions\n",
    "git_repo_object = git.Repo('.', search_parent_directories=True)\n",
    "git_repo_directory = git_repo_object.working_tree_dir"
   ]
  },
  {
   "cell_type": "code",
   "execution_count": 4,
   "id": "2e3d2466",
   "metadata": {},
   "outputs": [],
   "source": [
    "# Setting path so that we can import functions\n",
    "sys.path.append(os.path.join(git_repo_directory, \"src\"))"
   ]
  },
  {
   "cell_type": "code",
   "execution_count": 5,
   "id": "20c74742",
   "metadata": {},
   "outputs": [
    {
     "data": {
      "text/plain": [
       "'/nancy/projects/dominance_strain_comparison/src'"
      ]
     },
     "execution_count": 5,
     "metadata": {},
     "output_type": "execute_result"
    }
   ],
   "source": [
    "os.path.join(git_repo_directory, \"src\")\n"
   ]
  },
  {
   "cell_type": "code",
   "execution_count": 6,
   "id": "104016aa",
   "metadata": {},
   "outputs": [],
   "source": [
    "from elorating import calculation\n",
    "from elorating import dataframe"
   ]
  },
  {
   "cell_type": "code",
   "execution_count": 7,
   "id": "6ea31ca1",
   "metadata": {},
   "outputs": [],
   "source": [
    "# Increase size of plot in jupyter\n",
    "\n",
    "plt.rcParams[\"figure.figsize\"] = (18,10)"
   ]
  },
  {
   "cell_type": "markdown",
   "id": "8b7c1562",
   "metadata": {},
   "source": [
    "# Summary"
   ]
  },
  {
   "cell_type": "markdown",
   "id": "0a4c2448",
   "metadata": {},
   "source": [
    "TODO: Add summary"
   ]
  },
  {
   "cell_type": "markdown",
   "id": "018b9d08",
   "metadata": {},
   "source": [
    "- Experiment\n",
    "    - Observing competitve behavior between two mice inside a tube. Mice are categorized as winner and loser based on if they pushed the other mouse out of the tube or were pushed.\n",
    "- Data\n",
    "    - Excel spreadsheet of recorded tube test results. The relevant columns are those of the \"Date\" of the recording, the \"winner\" of the interaction, and the \"loser\" of the interaction. Each row will be for one interaction between two mice.\n",
    "    - There is a cage for each sheet of the spreadsheet\n",
    "    - For each recording session, we will assume that the date will be specified for that first row. We will use this to seperate all the rows into seperate sessions.\n",
    "- Purpose of this Jupyter Notebook\n",
    "    - To calculate the Elo rating of each mice after each interaction. The mice start off with an Elo rating of 1000. Elo ratings are calculated with the formula from here: https://www.omnicalculator.com/sports/elo . Then we will plot the change of Elo rating across all interactions. With the number of interactions on the X-Axis and the current Elo rating on the Y. There will be a line for mice."
   ]
  },
  {
   "cell_type": "markdown",
   "id": "6944ae01",
   "metadata": {},
   "source": [
    "## Name of protocol for naming"
   ]
  },
  {
   "cell_type": "markdown",
   "id": "2aa7153c",
   "metadata": {},
   "source": [
    "- This name will be used to name files and title plots. Please change if you are using a different protocol or adding more details\n",
    "    - **NOTE**: This should be changed based on the name the protocol"
   ]
  },
  {
   "cell_type": "code",
   "execution_count": 8,
   "id": "a8b74f87",
   "metadata": {},
   "outputs": [],
   "source": [
    "protocol_name = \"reward_competition\""
   ]
  },
  {
   "cell_type": "code",
   "execution_count": 9,
   "id": "60d5b1c3",
   "metadata": {},
   "outputs": [],
   "source": [
    "prefix_name = \"rc\""
   ]
  },
  {
   "cell_type": "code",
   "execution_count": 10,
   "id": "af647bb1",
   "metadata": {},
   "outputs": [],
   "source": [
    "cohort_name = \"\""
   ]
  },
  {
   "cell_type": "code",
   "execution_count": 11,
   "id": "df447ed7",
   "metadata": {},
   "outputs": [
    {
     "name": "stdout",
     "output_type": "stream",
     "text": [
      "Type out the name of the cohort you are using. \n",
      "                        Make sure that this is typed as one word with individual words separated by underscore. i.e. pilot_3pilot_1\n"
     ]
    }
   ],
   "source": [
    "if not cohort_name:\n",
    "    cohort_name = input(\"\"\"Type out the name of the cohort you are using. \n",
    "                        Make sure that this is typed as one word with individual words separated by underscore. i.e. pilot_3\"\"\")"
   ]
  },
  {
   "cell_type": "markdown",
   "id": "a5269e1e",
   "metadata": {},
   "source": [
    "## Getting the file name of the raw data"
   ]
  },
  {
   "cell_type": "markdown",
   "id": "7fe8bdd3",
   "metadata": {},
   "source": [
    "- Default input folder and keyword to search the files for \n",
    "    - **NOTE**: This should not be changed unless there is a consistent change with the file naming convention"
   ]
  },
  {
   "cell_type": "code",
   "execution_count": 12,
   "id": "f7b97a31",
   "metadata": {},
   "outputs": [],
   "source": [
    "input_folder = os.path.join(git_repo_directory, \"data\")"
   ]
  },
  {
   "cell_type": "code",
   "execution_count": 13,
   "id": "57f07dee",
   "metadata": {},
   "outputs": [],
   "source": [
    "# Accomodates for both capitalization of the file names\n",
    "raw_data_file_keyword = 'pilot_1/*[rR]eward*'"
   ]
  },
  {
   "cell_type": "markdown",
   "id": "c077260f",
   "metadata": {},
   "source": [
    "# NOTE: If there is a set excel file used for this notebook, make the cell below into a code cell and put the path in the \"\" (quotation marks)"
   ]
  },
  {
   "cell_type": "code",
   "execution_count": 14,
   "id": "cb949aa6",
   "metadata": {},
   "outputs": [],
   "source": [
    "raw_data_file_path = \"\""
   ]
  },
  {
   "cell_type": "markdown",
   "id": "76ea0990",
   "metadata": {},
   "source": [
    "- Asking the user what the path to the recording files are, with the option of using wildcards"
   ]
  },
  {
   "cell_type": "code",
   "execution_count": 15,
   "id": "906e10d0",
   "metadata": {
    "scrolled": false
   },
   "outputs": [
    {
     "name": "stdout",
     "output_type": "stream",
     "text": [
      "Type out the path(address) of the raw behavioral recording excel sheets.\n",
      "    Remember that if you are using a relative path, it will be based off of the location of this Jupyter Notebook.\n",
      "\n",
      "    Globbing can also be used if you want to search with a wild card(Capitalization matters). \n",
      "    i.e. './data/*Home*' will be able to find './data/Homecage_observations.xlsx'\n",
      "\n",
      "    NOTE: If left blank, the path will automatically be guessed off of the default settings \n",
      "    \n"
     ]
    }
   ],
   "source": [
    "if not raw_data_file_path:\n",
    "    raw_data_glob_pattern = input(\"\"\"Type out the path(address) of the raw behavioral recording excel sheets.\n",
    "    Remember that if you are using a relative path, it will be based off of the location of this Jupyter Notebook.\n",
    "\n",
    "    Globbing can also be used if you want to search with a wild card(Capitalization matters). \n",
    "    i.e. './data/*Home*' will be able to find './data/Homecage_observations.xlsx'\n",
    "\n",
    "    NOTE: If left blank, the path will automatically be guessed off of the default settings \n",
    "    \"\"\")"
   ]
  },
  {
   "cell_type": "markdown",
   "id": "964be5c0",
   "metadata": {},
   "source": [
    "- By default, this will search for files that are in the `./data` folder (in the folder that this notebook is in) that have key word you specified in the file name"
   ]
  },
  {
   "cell_type": "code",
   "execution_count": 16,
   "id": "3d963fb9",
   "metadata": {},
   "outputs": [],
   "source": [
    "if not raw_data_file_path:\n",
    "    # Using the user inputted path/pattern\n",
    "    if raw_data_glob_pattern.strip():\n",
    "        # Getting a list of all matching files\n",
    "        raw_data_files_list = glob.glob(raw_data_glob_pattern.strip(), recursive=True)\n",
    "        # Checking if there were any files that matched\n",
    "        if not raw_data_files_list:\n",
    "            raise ValueError(\"No files were found with the path/pattern of {}. Please rerun the previous cell with the correct path\".format(raw_data_glob_pattern))\n",
    "\n",
    "    # Using the default pattern\n",
    "    else:\n",
    "        raw_data_glob_pattern = os.path.join(input_folder, raw_data_file_keyword)\n",
    "        raw_data_files_list = glob.glob(raw_data_glob_pattern.strip(), recursive=True)\n",
    "        # Searching for matching files with recursion\n",
    "        if not raw_data_files_list:\n",
    "            raise ValueError(\"No files were found in {} that had the keyword {} in it\".format(input_folder, raw_data_file_keyword))\n"
   ]
  },
  {
   "cell_type": "code",
   "execution_count": 17,
   "id": "bfc46b29",
   "metadata": {},
   "outputs": [
    {
     "data": {
      "text/plain": [
       "'/nancy/projects/dominance_strain_comparison/data/pilot_1/*[rR]eward*'"
      ]
     },
     "execution_count": 17,
     "metadata": {},
     "output_type": "execute_result"
    }
   ],
   "source": [
    "raw_data_glob_pattern"
   ]
  },
  {
   "cell_type": "markdown",
   "id": "6fbd008a",
   "metadata": {},
   "source": [
    "- Checking to see if only one file is specified"
   ]
  },
  {
   "cell_type": "code",
   "execution_count": 18,
   "id": "af8c1417",
   "metadata": {},
   "outputs": [],
   "source": [
    "if not raw_data_file_path:\n",
    "    if len(raw_data_files_list) >= 2:\n",
    "        raise ValueError(\"More than one file was found with the path/pattern of {}. Please rerun the previous cell with the correct path\".format(raw_data_glob_pattern))\n",
    "    else:\n",
    "        # Using the first(and only file) as the file path\n",
    "        raw_data_file_path = raw_data_files_list[0]"
   ]
  },
  {
   "cell_type": "code",
   "execution_count": 19,
   "id": "76129103",
   "metadata": {},
   "outputs": [
    {
     "data": {
      "text/plain": [
       "'/nancy/projects/dominance_strain_comparison/data/pilot_1/pilot_1_Reward Competition Video Scoring Assignments.xlsx'"
      ]
     },
     "execution_count": 19,
     "metadata": {},
     "output_type": "execute_result"
    }
   ],
   "source": [
    "raw_data_file_path"
   ]
  },
  {
   "cell_type": "markdown",
   "id": "539ffb33",
   "metadata": {},
   "source": [
    "## Getting a list of all the sheets"
   ]
  },
  {
   "cell_type": "code",
   "execution_count": 20,
   "id": "bb3ff67b",
   "metadata": {},
   "outputs": [],
   "source": [
    "# Getting the sheet names for the excel file\n",
    "xls = pd.ExcelFile(raw_data_file_path)\n",
    "raw_data_sheet_names = xls.sheet_names"
   ]
  },
  {
   "cell_type": "code",
   "execution_count": 21,
   "id": "aeb563da",
   "metadata": {
    "scrolled": false
   },
   "outputs": [
    {
     "data": {
      "text/plain": [
       "['Master Master',\n",
       " 'back up',\n",
       " 'Sheet2',\n",
       " 'Master List',\n",
       " 'Master Day 2',\n",
       " 'Master Day 1',\n",
       " 'Meghan',\n",
       " 'Jocelyn',\n",
       " 'Erika',\n",
       " 'Ezra',\n",
       " 'Naeliz']"
      ]
     },
     "execution_count": 21,
     "metadata": {},
     "output_type": "execute_result"
    }
   ],
   "source": [
    "raw_data_sheet_names"
   ]
  },
  {
   "cell_type": "markdown",
   "id": "823f8e5e",
   "metadata": {},
   "source": [
    "# NOTE: If there is a set sheet names used for this notebook, edit the cell below with the name of the sheets each in quotation marks seperated by commas in the brackets\n",
    "   - i.e. `['CAGE 1', 'CAGE 2', 'CAGE 3', 'CAGE 4']`"
   ]
  },
  {
   "cell_type": "code",
   "execution_count": 22,
   "id": "853bd6ed",
   "metadata": {},
   "outputs": [],
   "source": [
    "inputted_sheet_names_list = []"
   ]
  },
  {
   "cell_type": "markdown",
   "id": "7e40c9d6",
   "metadata": {},
   "source": [
    "- Asking the user what sheets they want to use"
   ]
  },
  {
   "cell_type": "code",
   "execution_count": 23,
   "id": "59c3aa13",
   "metadata": {},
   "outputs": [
    {
     "name": "stdout",
     "output_type": "stream",
     "text": [
      "Type out the name of the sheets that you want to be processed. \n",
      "    Each name must be put in quotes and seperated by a comma(,). i.e. \"CAGE3\", \"CAGE4\"\n",
      "\n",
      "    The available sheets are: ['Master Master', 'back up', 'Sheet2', 'Master List', 'Master Day 2', 'Master Day 1', 'Meghan', 'Jocelyn', 'Erika', 'Ezra', 'Naeliz']\n",
      "\n",
      "    Alternatively, you can use the index of the list of names above. \n",
      "    Remember, that Python is zero indexed so the first item will be have the 0 index, second the 1 index, and so on. \n",
      "    i.e. 1, 2\n",
      "\n",
      "    NOTE: If left blank, all sheets will be used\n",
      "    'Master Master'\n"
     ]
    }
   ],
   "source": [
    "if not inputted_sheet_names_list:\n",
    "    inputted_sheet_names_string = input(\"\"\"Type out the name of the sheets that you want to be processed. \n",
    "    Each name must be put in quotes and seperated by a comma(,). i.e. \"CAGE3\", \"CAGE4\"\n",
    "\n",
    "    The available sheets are: {}\n",
    "\n",
    "    Alternatively, you can use the index of the list of names above. \n",
    "    Remember, that Python is zero indexed so the first item will be have the 0 index, second the 1 index, and so on. \n",
    "    i.e. 1, 2\n",
    "\n",
    "    NOTE: If left blank, all sheets will be used\n",
    "    \"\"\".format(raw_data_sheet_names))"
   ]
  },
  {
   "cell_type": "code",
   "execution_count": 24,
   "id": "06b1581e",
   "metadata": {},
   "outputs": [],
   "source": [
    "if not inputted_sheet_names_list:\n",
    "    # Making a list out of the string of inputted sheet names\n",
    "    if inputted_sheet_names_string:\n",
    "        inputted_sheet_names_string = \"[\" + inputted_sheet_names_string + \"]\"\n",
    "        # Turning the string into a list\n",
    "        inputted_sheet_names_list = ast.literal_eval(inputted_sheet_names_string)\n",
    "    # Using all the sheet names if no sheet name is specified\n",
    "    else:\n",
    "        inputted_sheet_names_list =  raw_data_sheet_names"
   ]
  },
  {
   "cell_type": "code",
   "execution_count": 25,
   "id": "0ee3a658",
   "metadata": {},
   "outputs": [
    {
     "data": {
      "text/plain": [
       "['Master Master']"
      ]
     },
     "execution_count": 25,
     "metadata": {},
     "output_type": "execute_result"
    }
   ],
   "source": [
    "inputted_sheet_names_list"
   ]
  },
  {
   "cell_type": "markdown",
   "id": "3deda2bf",
   "metadata": {},
   "source": [
    "- Converting all the numbers into the sheet name that the index of the number corresponds to"
   ]
  },
  {
   "cell_type": "code",
   "execution_count": 26,
   "id": "4bac1b3f",
   "metadata": {},
   "outputs": [],
   "source": [
    "if inputted_sheet_names_list:\n",
    "    for index, sheet in enumerate(inputted_sheet_names_list):\n",
    "        # Checking if the sheet name was a number\n",
    "        if isinstance(sheet, int) and str(sheet).isdigit():\n",
    "            inputted_sheet_names_list[index] =  raw_data_sheet_names[sheet]"
   ]
  },
  {
   "cell_type": "code",
   "execution_count": 27,
   "id": "6bdf26ca",
   "metadata": {},
   "outputs": [
    {
     "data": {
      "text/plain": [
       "['Master Master']"
      ]
     },
     "execution_count": 27,
     "metadata": {},
     "output_type": "execute_result"
    }
   ],
   "source": [
    "inputted_sheet_names_list"
   ]
  },
  {
   "cell_type": "markdown",
   "id": "b35a8c85",
   "metadata": {},
   "source": [
    "- Checking to see if all the sheets are in the excel file"
   ]
  },
  {
   "cell_type": "code",
   "execution_count": 28,
   "id": "1caa55ee",
   "metadata": {},
   "outputs": [],
   "source": [
    "if not set(inputted_sheet_names_list).issubset(raw_data_sheet_names):\n",
    "    # Getting all the sheets that were not in the original spreadsheet\n",
    "    not_included_sheet_names = set(inputted_sheet_names_list) - set(raw_data_sheet_names)\n",
    "    raise ValueError(\"All the listed sheet names are not in {}\".format(not_included_sheet_names))"
   ]
  },
  {
   "cell_type": "markdown",
   "id": "a934ef8f",
   "metadata": {},
   "source": [
    "## Finding the row for the header"
   ]
  },
  {
   "cell_type": "markdown",
   "id": "bc1c2300",
   "metadata": {},
   "source": [
    "- Headers are the row in a spreadsheet that has all the column names. Sometimes spreadsheets don't use the first row as the row with the column names. So, the row for the header will be asked or assumed to be the first row"
   ]
  },
  {
   "cell_type": "markdown",
   "id": "b70c4452",
   "metadata": {},
   "source": [
    "# NOTE: If there is a set row that has the column names, then enter the row number in the quotation marks"
   ]
  },
  {
   "cell_type": "code",
   "execution_count": 29,
   "id": "952c8063",
   "metadata": {},
   "outputs": [],
   "source": [
    "# Making the row number a string, so that \"0\" is treated as a True value\n",
    "all_header_row = \"\"\n",
    "if not all_header_row:\n",
    "    all_header_row = False\n",
    "else:\n",
    "    all_header_row = int(all_header_row)\n"
   ]
  },
  {
   "cell_type": "code",
   "execution_count": 30,
   "id": "de68ae7a",
   "metadata": {},
   "outputs": [
    {
     "name": "stdout",
     "output_type": "stream",
     "text": [
      "\n",
      "Current Sheet Name: Master Master\n",
      "Columns Names: Index(['Date', 'Cage', 'Box', 'Match', 'Scorer', 'Trial 1 Time',\n",
      "       'Trial 1 Winner', 'Trial 2 Time ', 'Trial 2 Winner', 'Trial 3 Time',\n",
      "       'Trial 3 Winner', 'Trial 4 Time', 'Trial 4 Winner', 'Trial 5 Time',\n",
      "       'Trial 5 Winner', 'Trial 6 Time', 'Trial 6 Winner', 'Trial 7 Time',\n",
      "       'Trial 7 Winner', 'Trial 8 Time', 'Trial 8 Winner', 'Trial 9 Time',\n",
      "       'Trial 9 Winner', 'Trial 10 Time ', 'Trial 10 Winner', 'Trial 11 Time',\n",
      "       'Trial 11 Winner', 'Trial 12 Time ', 'Trial 12 Winner', 'Trial 13 Time',\n",
      "       'Trial 13 Winner', 'Trial 14 Time', 'Trial 14 Winner', 'Trial 15 Time',\n",
      "       'Trial 15 Winner', 'Trial 16 Time ', 'Trial 16 Winner', 'Trial 17 Time',\n",
      "       'Trial 17 Winner', 'Trial 18 Time', 'Trial 18 Winner', 'Trial 19 Time',\n",
      "       'Trial 19 Winner', 'Trial 20 Time', 'Trial 20 Winner', 'Mouse 1 Wins',\n",
      "       'Mouse 2 Wins', 'Ties '],\n",
      "      dtype='object')\n",
      "First few rows of this dataframe:\n",
      "        Date  Cage  Box      Match  Scorer Trial 1 Time Trial 1 Winner  \\\n",
      "0 2022-05-19     1  1.0  1.1 v 1.2     NaN    1:12-1:22            1.1   \n",
      "1 2022-05-19     1  2.0  1.3 v 1.4     NaN    1:12-1:22            1.4   \n",
      "2 2022-05-19     1  3.0  1.1 v 1.3     NaN    1:07-1:17            1.3   \n",
      "3 2022-05-19     1  4.0  1.2 v 1.4     NaN    1:06-1:16            1.4   \n",
      "4 2022-05-19     1  2.0  1.2 v 1.3     NaN    1:11-1:21            1.2   \n",
      "\n",
      "  Trial 2 Time  Trial 2 Winner Trial 3 Time  ... Trial 17 Winner  \\\n",
      "0     2:31-2:41            1.1    4:00-4:10  ...             1.1   \n",
      "1     2:30-2:40            1.4    3:59-4:09  ...             1.4   \n",
      "2     3:56-4:06            tie    5:14-5:24  ...             1.3   \n",
      "3     2:25-2:35            1.2    3:54-4:04  ...             1.2   \n",
      "4     2:30-2:40            1.3    4:00-4:10  ...             1.3   \n",
      "\n",
      "  Trial 18 Time Trial 18 Winner Trial 19 Time Trial 19 Winner Trial 20 Time  \\\n",
      "0   27:00-27:10             1.2   28:19-28:29             1.1   29:53-30:03   \n",
      "1   27:01-27:11             1.4   28:20-28:30             1.3   29:53-30:03   \n",
      "2   28:16-28:26             1.3   29:49-29:59             1.3           NaN   \n",
      "3   26:56-27:06             1.4   28:15-28:25             1.4   29:48-29:58   \n",
      "4   27:01-27:11             1.2   28:19-28:29             1.2   29:53-30:03   \n",
      "\n",
      "  Trial 20 Winner Mouse 1 Wins       Mouse 2 Wins Ties   \n",
      "0             1.1         11.0                  0   0.0  \n",
      "1             1.3          0.0                  9   0.0  \n",
      "2             NaN          NaN                NaN   NaN  \n",
      "3             1.4          NaN  checked whole row   NaN  \n",
      "4             1.2          NaN  checked whole row   NaN  \n",
      "\n",
      "[5 rows x 48 columns]\n",
      "Type the row number to be used as the header\n",
      "        (AKA the row with the column name that you want to use.)\n",
      "        If you want to keep the column names that were displayed, type 0.\n",
      "        If you want to use a different row, then type the corresponding number. \n",
      "\n",
      "        The rows displayed in this cell are dataframes created from Pandas. \n",
      "        To use the row with the 0 index for column names, type 1. \n",
      "        For the row with the 1 index, it will be 2 and so on. i.e. 2\n",
      "\n",
      "        If you are looking at the original spread sheet, remember that Python is zero indexed. \n",
      "        So the first row will be 0, second will be 1, and so on. \n",
      "        i.e. 1\n",
      "\n",
      "        NOTE: If left blank, the original row that was used will be used.\n",
      "        \n"
     ]
    }
   ],
   "source": [
    "sheet_name_to_everything = defaultdict(dict)\n",
    "for sheet in inputted_sheet_names_list:\n",
    "    if all_header_row is False:\n",
    "\n",
    "        print(\"\\nCurrent Sheet Name: {}\".format(sheet))    \n",
    "        per_sheet_dataframe = pd.read_excel(raw_data_file_path, sheet_name=sheet, header=0)\n",
    "\n",
    "        # Showing the columns that are chosen with the header being the 0th row\n",
    "        print(\"Columns Names: {}\".format(per_sheet_dataframe.columns))\n",
    "        # Show the dataframe that would be created with the header being the 0th row\n",
    "        print(\"First few rows of this dataframe:\")\n",
    "        print(pd.read_excel(raw_data_file_path, sheet_name=sheet, header=0).head())\n",
    "\n",
    "        # Allowing the user the choose the row number for the header\n",
    "        header_row = input(\"\"\"Type the row number to be used as the header\n",
    "        (AKA the row with the column name that you want to use.)\n",
    "        If you want to keep the column names that were displayed, type 0.\n",
    "        If you want to use a different row, then type the corresponding number. \n",
    "\n",
    "        The rows displayed in this cell are dataframes created from Pandas. \n",
    "        To use the row with the 0 index for column names, type 1. \n",
    "        For the row with the 1 index, it will be 2 and so on. i.e. 2\n",
    "\n",
    "        If you are looking at the original spread sheet, remember that Python is zero indexed. \n",
    "        So the first row will be 0, second will be 1, and so on. \n",
    "        i.e. 1\n",
    "\n",
    "        NOTE: If left blank, the original row that was used will be used.\n",
    "        \"\"\").strip()\n",
    "\n",
    "        if header_row == \"\":\n",
    "            header_row = 0\n",
    "        else:\n",
    "            header_row = int(header_row)\n",
    "    \n",
    "    # Checking if any of the column names are from empty cells\n",
    "    column_names = \"\".join([str(col) for col in pd.read_excel(raw_data_file_path, sheet_name=sheet, header=header_row).columns])\n",
    "    # If a column name came from an empty cell, it would have \"Unnamed\" in it\n",
    "    if \"Unnamed\" in column_names:\n",
    "        raise ValueError(\"\"\"Not all the cells in the chosen row are filled in.\n",
    "                         Please choose a row that has the name of the columns\n",
    "                         \n",
    "                         The values in this row are: {}\"\"\".format(column_names))\n",
    "    else:\n",
    "        sheet_name_to_everything[sheet][\"header_row\"] = header_row"
   ]
  },
  {
   "cell_type": "code",
   "execution_count": 31,
   "id": "ca5ea725",
   "metadata": {},
   "outputs": [
    {
     "data": {
      "text/plain": [
       "defaultdict(dict, {'Master Master': {'header_row': 0}})"
      ]
     },
     "execution_count": 31,
     "metadata": {},
     "output_type": "execute_result"
    }
   ],
   "source": [
    "sheet_name_to_everything"
   ]
  },
  {
   "cell_type": "markdown",
   "id": "04cc8630",
   "metadata": {},
   "source": [
    "## Reading in all the spreadsheets"
   ]
  },
  {
   "cell_type": "code",
   "execution_count": 32,
   "id": "f35a7cd1",
   "metadata": {},
   "outputs": [],
   "source": [
    "# Going through each sheet and creating a dataframe of it\n",
    "for key, value in sheet_name_to_everything.items():\n",
    "    value[\"original_behavior_recording_dataframe\"] = pd.read_excel(raw_data_file_path, sheet_name=key, header=value[\"header_row\"])"
   ]
  },
  {
   "cell_type": "code",
   "execution_count": 33,
   "id": "99dc8c44",
   "metadata": {},
   "outputs": [
    {
     "data": {
      "text/html": [
       "<div>\n",
       "<style scoped>\n",
       "    .dataframe tbody tr th:only-of-type {\n",
       "        vertical-align: middle;\n",
       "    }\n",
       "\n",
       "    .dataframe tbody tr th {\n",
       "        vertical-align: top;\n",
       "    }\n",
       "\n",
       "    .dataframe thead th {\n",
       "        text-align: right;\n",
       "    }\n",
       "</style>\n",
       "<table border=\"1\" class=\"dataframe\">\n",
       "  <thead>\n",
       "    <tr style=\"text-align: right;\">\n",
       "      <th></th>\n",
       "      <th>Date</th>\n",
       "      <th>Cage</th>\n",
       "      <th>Box</th>\n",
       "      <th>Match</th>\n",
       "      <th>Scorer</th>\n",
       "      <th>Trial 1 Time</th>\n",
       "      <th>Trial 1 Winner</th>\n",
       "      <th>Trial 2 Time</th>\n",
       "      <th>Trial 2 Winner</th>\n",
       "      <th>Trial 3 Time</th>\n",
       "      <th>...</th>\n",
       "      <th>Trial 17 Winner</th>\n",
       "      <th>Trial 18 Time</th>\n",
       "      <th>Trial 18 Winner</th>\n",
       "      <th>Trial 19 Time</th>\n",
       "      <th>Trial 19 Winner</th>\n",
       "      <th>Trial 20 Time</th>\n",
       "      <th>Trial 20 Winner</th>\n",
       "      <th>Mouse 1 Wins</th>\n",
       "      <th>Mouse 2 Wins</th>\n",
       "      <th>Ties</th>\n",
       "    </tr>\n",
       "  </thead>\n",
       "  <tbody>\n",
       "    <tr>\n",
       "      <th>0</th>\n",
       "      <td>2022-05-19</td>\n",
       "      <td>1</td>\n",
       "      <td>1.0</td>\n",
       "      <td>1.1 v 1.2</td>\n",
       "      <td>NaN</td>\n",
       "      <td>1:12-1:22</td>\n",
       "      <td>1.1</td>\n",
       "      <td>2:31-2:41</td>\n",
       "      <td>1.1</td>\n",
       "      <td>4:00-4:10</td>\n",
       "      <td>...</td>\n",
       "      <td>1.1</td>\n",
       "      <td>27:00-27:10</td>\n",
       "      <td>1.2</td>\n",
       "      <td>28:19-28:29</td>\n",
       "      <td>1.1</td>\n",
       "      <td>29:53-30:03</td>\n",
       "      <td>1.1</td>\n",
       "      <td>11.0</td>\n",
       "      <td>0</td>\n",
       "      <td>0.0</td>\n",
       "    </tr>\n",
       "    <tr>\n",
       "      <th>1</th>\n",
       "      <td>2022-05-19</td>\n",
       "      <td>1</td>\n",
       "      <td>2.0</td>\n",
       "      <td>1.3 v 1.4</td>\n",
       "      <td>NaN</td>\n",
       "      <td>1:12-1:22</td>\n",
       "      <td>1.4</td>\n",
       "      <td>2:30-2:40</td>\n",
       "      <td>1.4</td>\n",
       "      <td>3:59-4:09</td>\n",
       "      <td>...</td>\n",
       "      <td>1.4</td>\n",
       "      <td>27:01-27:11</td>\n",
       "      <td>1.4</td>\n",
       "      <td>28:20-28:30</td>\n",
       "      <td>1.3</td>\n",
       "      <td>29:53-30:03</td>\n",
       "      <td>1.3</td>\n",
       "      <td>0.0</td>\n",
       "      <td>9</td>\n",
       "      <td>0.0</td>\n",
       "    </tr>\n",
       "    <tr>\n",
       "      <th>2</th>\n",
       "      <td>2022-05-19</td>\n",
       "      <td>1</td>\n",
       "      <td>3.0</td>\n",
       "      <td>1.1 v 1.3</td>\n",
       "      <td>NaN</td>\n",
       "      <td>1:07-1:17</td>\n",
       "      <td>1.3</td>\n",
       "      <td>3:56-4:06</td>\n",
       "      <td>tie</td>\n",
       "      <td>5:14-5:24</td>\n",
       "      <td>...</td>\n",
       "      <td>1.3</td>\n",
       "      <td>28:16-28:26</td>\n",
       "      <td>1.3</td>\n",
       "      <td>29:49-29:59</td>\n",
       "      <td>1.3</td>\n",
       "      <td>NaN</td>\n",
       "      <td>NaN</td>\n",
       "      <td>NaN</td>\n",
       "      <td>NaN</td>\n",
       "      <td>NaN</td>\n",
       "    </tr>\n",
       "    <tr>\n",
       "      <th>3</th>\n",
       "      <td>2022-05-19</td>\n",
       "      <td>1</td>\n",
       "      <td>4.0</td>\n",
       "      <td>1.2 v 1.4</td>\n",
       "      <td>NaN</td>\n",
       "      <td>1:06-1:16</td>\n",
       "      <td>1.4</td>\n",
       "      <td>2:25-2:35</td>\n",
       "      <td>1.2</td>\n",
       "      <td>3:54-4:04</td>\n",
       "      <td>...</td>\n",
       "      <td>1.2</td>\n",
       "      <td>26:56-27:06</td>\n",
       "      <td>1.4</td>\n",
       "      <td>28:15-28:25</td>\n",
       "      <td>1.4</td>\n",
       "      <td>29:48-29:58</td>\n",
       "      <td>1.4</td>\n",
       "      <td>NaN</td>\n",
       "      <td>checked whole row</td>\n",
       "      <td>NaN</td>\n",
       "    </tr>\n",
       "    <tr>\n",
       "      <th>4</th>\n",
       "      <td>2022-05-19</td>\n",
       "      <td>1</td>\n",
       "      <td>2.0</td>\n",
       "      <td>1.2 v 1.3</td>\n",
       "      <td>NaN</td>\n",
       "      <td>1:11-1:21</td>\n",
       "      <td>1.2</td>\n",
       "      <td>2:30-2:40</td>\n",
       "      <td>1.3</td>\n",
       "      <td>4:00-4:10</td>\n",
       "      <td>...</td>\n",
       "      <td>1.3</td>\n",
       "      <td>27:01-27:11</td>\n",
       "      <td>1.2</td>\n",
       "      <td>28:19-28:29</td>\n",
       "      <td>1.2</td>\n",
       "      <td>29:53-30:03</td>\n",
       "      <td>1.2</td>\n",
       "      <td>NaN</td>\n",
       "      <td>checked whole row</td>\n",
       "      <td>NaN</td>\n",
       "    </tr>\n",
       "  </tbody>\n",
       "</table>\n",
       "<p>5 rows × 48 columns</p>\n",
       "</div>"
      ],
      "text/plain": [
       "        Date  Cage  Box      Match  Scorer Trial 1 Time Trial 1 Winner  \\\n",
       "0 2022-05-19     1  1.0  1.1 v 1.2     NaN    1:12-1:22            1.1   \n",
       "1 2022-05-19     1  2.0  1.3 v 1.4     NaN    1:12-1:22            1.4   \n",
       "2 2022-05-19     1  3.0  1.1 v 1.3     NaN    1:07-1:17            1.3   \n",
       "3 2022-05-19     1  4.0  1.2 v 1.4     NaN    1:06-1:16            1.4   \n",
       "4 2022-05-19     1  2.0  1.2 v 1.3     NaN    1:11-1:21            1.2   \n",
       "\n",
       "  Trial 2 Time  Trial 2 Winner Trial 3 Time  ... Trial 17 Winner  \\\n",
       "0     2:31-2:41            1.1    4:00-4:10  ...             1.1   \n",
       "1     2:30-2:40            1.4    3:59-4:09  ...             1.4   \n",
       "2     3:56-4:06            tie    5:14-5:24  ...             1.3   \n",
       "3     2:25-2:35            1.2    3:54-4:04  ...             1.2   \n",
       "4     2:30-2:40            1.3    4:00-4:10  ...             1.3   \n",
       "\n",
       "  Trial 18 Time Trial 18 Winner Trial 19 Time Trial 19 Winner Trial 20 Time  \\\n",
       "0   27:00-27:10             1.2   28:19-28:29             1.1   29:53-30:03   \n",
       "1   27:01-27:11             1.4   28:20-28:30             1.3   29:53-30:03   \n",
       "2   28:16-28:26             1.3   29:49-29:59             1.3           NaN   \n",
       "3   26:56-27:06             1.4   28:15-28:25             1.4   29:48-29:58   \n",
       "4   27:01-27:11             1.2   28:19-28:29             1.2   29:53-30:03   \n",
       "\n",
       "  Trial 20 Winner Mouse 1 Wins       Mouse 2 Wins Ties   \n",
       "0             1.1         11.0                  0   0.0  \n",
       "1             1.3          0.0                  9   0.0  \n",
       "2             NaN          NaN                NaN   NaN  \n",
       "3             1.4          NaN  checked whole row   NaN  \n",
       "4             1.2          NaN  checked whole row   NaN  \n",
       "\n",
       "[5 rows x 48 columns]"
      ]
     },
     "execution_count": 33,
     "metadata": {},
     "output_type": "execute_result"
    }
   ],
   "source": [
    "value[\"original_behavior_recording_dataframe\"].head()"
   ]
  },
  {
   "cell_type": "code",
   "execution_count": 34,
   "id": "ed0c66f9",
   "metadata": {},
   "outputs": [
    {
     "data": {
      "text/html": [
       "<div>\n",
       "<style scoped>\n",
       "    .dataframe tbody tr th:only-of-type {\n",
       "        vertical-align: middle;\n",
       "    }\n",
       "\n",
       "    .dataframe tbody tr th {\n",
       "        vertical-align: top;\n",
       "    }\n",
       "\n",
       "    .dataframe thead th {\n",
       "        text-align: right;\n",
       "    }\n",
       "</style>\n",
       "<table border=\"1\" class=\"dataframe\">\n",
       "  <thead>\n",
       "    <tr style=\"text-align: right;\">\n",
       "      <th></th>\n",
       "      <th>Date</th>\n",
       "      <th>Cage</th>\n",
       "      <th>Box</th>\n",
       "      <th>Match</th>\n",
       "      <th>Scorer</th>\n",
       "      <th>Trial 1 Time</th>\n",
       "      <th>Trial 1 Winner</th>\n",
       "      <th>Trial 2 Time</th>\n",
       "      <th>Trial 2 Winner</th>\n",
       "      <th>Trial 3 Time</th>\n",
       "      <th>...</th>\n",
       "      <th>Trial 17 Winner</th>\n",
       "      <th>Trial 18 Time</th>\n",
       "      <th>Trial 18 Winner</th>\n",
       "      <th>Trial 19 Time</th>\n",
       "      <th>Trial 19 Winner</th>\n",
       "      <th>Trial 20 Time</th>\n",
       "      <th>Trial 20 Winner</th>\n",
       "      <th>Mouse 1 Wins</th>\n",
       "      <th>Mouse 2 Wins</th>\n",
       "      <th>Ties</th>\n",
       "    </tr>\n",
       "  </thead>\n",
       "  <tbody>\n",
       "    <tr>\n",
       "      <th>43</th>\n",
       "      <td>2022-05-20</td>\n",
       "      <td>4</td>\n",
       "      <td>1.0</td>\n",
       "      <td>4.2 v 4.3</td>\n",
       "      <td>NaN</td>\n",
       "      <td>1:13-1:23</td>\n",
       "      <td>4.3</td>\n",
       "      <td>2:31-2:41</td>\n",
       "      <td>4.3</td>\n",
       "      <td>4:00-4:10</td>\n",
       "      <td>...</td>\n",
       "      <td>4.3</td>\n",
       "      <td>27:01-27:11</td>\n",
       "      <td>4.3</td>\n",
       "      <td>28:20-28:30</td>\n",
       "      <td>4.3</td>\n",
       "      <td>29:54-30:04</td>\n",
       "      <td>4.2</td>\n",
       "      <td>0.0</td>\n",
       "      <td>0</td>\n",
       "      <td>4.0</td>\n",
       "    </tr>\n",
       "    <tr>\n",
       "      <th>44</th>\n",
       "      <td>2022-05-20</td>\n",
       "      <td>4</td>\n",
       "      <td>4.0</td>\n",
       "      <td>4.1 v 4.3</td>\n",
       "      <td>NaN</td>\n",
       "      <td>2:56-3:06</td>\n",
       "      <td>4.3</td>\n",
       "      <td>4:15-4:25</td>\n",
       "      <td>4.3</td>\n",
       "      <td>5:44-5:54</td>\n",
       "      <td>...</td>\n",
       "      <td>4.1</td>\n",
       "      <td>28:46-28:56</td>\n",
       "      <td>4.1</td>\n",
       "      <td>30:05-30:15</td>\n",
       "      <td>4.1</td>\n",
       "      <td>NaN</td>\n",
       "      <td>NaN</td>\n",
       "      <td>0.0</td>\n",
       "      <td>0</td>\n",
       "      <td>1.0</td>\n",
       "    </tr>\n",
       "    <tr>\n",
       "      <th>45</th>\n",
       "      <td>2022-05-20</td>\n",
       "      <td>4</td>\n",
       "      <td>3.0</td>\n",
       "      <td>4.2 v 4.4</td>\n",
       "      <td>NaN</td>\n",
       "      <td>2:57-3:07</td>\n",
       "      <td>4.4</td>\n",
       "      <td>4:15-4:25</td>\n",
       "      <td>4.4</td>\n",
       "      <td>5:44-5:54</td>\n",
       "      <td>...</td>\n",
       "      <td>4.2</td>\n",
       "      <td>28:46-28:56</td>\n",
       "      <td>4.4</td>\n",
       "      <td>30:05-30:15</td>\n",
       "      <td>4.2</td>\n",
       "      <td>NaN</td>\n",
       "      <td>NaN</td>\n",
       "      <td>NaN</td>\n",
       "      <td>checked whole row</td>\n",
       "      <td>NaN</td>\n",
       "    </tr>\n",
       "    <tr>\n",
       "      <th>46</th>\n",
       "      <td>2022-05-20</td>\n",
       "      <td>4</td>\n",
       "      <td>2.0</td>\n",
       "      <td>4.1 v 4.2</td>\n",
       "      <td>NaN</td>\n",
       "      <td>1:11-1:21</td>\n",
       "      <td>4.1</td>\n",
       "      <td>2:30-2:40</td>\n",
       "      <td>4.2</td>\n",
       "      <td>3:58-4:08</td>\n",
       "      <td>...</td>\n",
       "      <td>4.1</td>\n",
       "      <td>27:00-27:10</td>\n",
       "      <td>4.1</td>\n",
       "      <td>28:19-28:29</td>\n",
       "      <td>4.1</td>\n",
       "      <td>29:52-30:02</td>\n",
       "      <td>4.1</td>\n",
       "      <td>NaN</td>\n",
       "      <td>checked whole row</td>\n",
       "      <td>NaN</td>\n",
       "    </tr>\n",
       "    <tr>\n",
       "      <th>47</th>\n",
       "      <td>2022-05-20</td>\n",
       "      <td>4</td>\n",
       "      <td>1.0</td>\n",
       "      <td>4.3 v 4.4</td>\n",
       "      <td>NaN</td>\n",
       "      <td>1:12-1:22</td>\n",
       "      <td>4.3</td>\n",
       "      <td>2:30-2:40</td>\n",
       "      <td>4.3</td>\n",
       "      <td>3:58-4:08</td>\n",
       "      <td>...</td>\n",
       "      <td>4.4</td>\n",
       "      <td>27:00-27:10</td>\n",
       "      <td>Tie</td>\n",
       "      <td>28:19-28:29</td>\n",
       "      <td>4.4</td>\n",
       "      <td>29:53-30:03</td>\n",
       "      <td>4.3</td>\n",
       "      <td>0.0</td>\n",
       "      <td>0</td>\n",
       "      <td>1.0</td>\n",
       "    </tr>\n",
       "  </tbody>\n",
       "</table>\n",
       "<p>5 rows × 48 columns</p>\n",
       "</div>"
      ],
      "text/plain": [
       "         Date  Cage  Box      Match  Scorer Trial 1 Time Trial 1 Winner  \\\n",
       "43 2022-05-20     4  1.0  4.2 v 4.3     NaN    1:13-1:23            4.3   \n",
       "44 2022-05-20     4  4.0  4.1 v 4.3     NaN    2:56-3:06            4.3   \n",
       "45 2022-05-20     4  3.0  4.2 v 4.4     NaN    2:57-3:07            4.4   \n",
       "46 2022-05-20     4  2.0  4.1 v 4.2     NaN    1:11-1:21            4.1   \n",
       "47 2022-05-20     4  1.0  4.3 v 4.4     NaN    1:12-1:22            4.3   \n",
       "\n",
       "   Trial 2 Time  Trial 2 Winner Trial 3 Time  ... Trial 17 Winner  \\\n",
       "43     2:31-2:41            4.3    4:00-4:10  ...             4.3   \n",
       "44     4:15-4:25            4.3    5:44-5:54  ...             4.1   \n",
       "45     4:15-4:25            4.4    5:44-5:54  ...             4.2   \n",
       "46     2:30-2:40            4.2    3:58-4:08  ...             4.1   \n",
       "47     2:30-2:40            4.3    3:58-4:08  ...             4.4   \n",
       "\n",
       "   Trial 18 Time Trial 18 Winner Trial 19 Time Trial 19 Winner Trial 20 Time  \\\n",
       "43   27:01-27:11             4.3   28:20-28:30             4.3   29:54-30:04   \n",
       "44   28:46-28:56             4.1   30:05-30:15             4.1           NaN   \n",
       "45   28:46-28:56             4.4   30:05-30:15             4.2           NaN   \n",
       "46   27:00-27:10             4.1   28:19-28:29             4.1   29:52-30:02   \n",
       "47   27:00-27:10             Tie   28:19-28:29             4.4   29:53-30:03   \n",
       "\n",
       "   Trial 20 Winner Mouse 1 Wins       Mouse 2 Wins Ties   \n",
       "43             4.2          0.0                  0   4.0  \n",
       "44             NaN          0.0                  0   1.0  \n",
       "45             NaN          NaN  checked whole row   NaN  \n",
       "46             4.1          NaN  checked whole row   NaN  \n",
       "47             4.3          0.0                  0   1.0  \n",
       "\n",
       "[5 rows x 48 columns]"
      ]
     },
     "execution_count": 34,
     "metadata": {},
     "output_type": "execute_result"
    }
   ],
   "source": [
    "value[\"original_behavior_recording_dataframe\"].tail()"
   ]
  },
  {
   "cell_type": "markdown",
   "id": "15834e87",
   "metadata": {},
   "source": [
    "## Standarizing the Columns"
   ]
  },
  {
   "cell_type": "markdown",
   "id": "af7890d3",
   "metadata": {},
   "source": [
    "- Making all the column names lower case and removing any extra spaces in the beginning and at the end\n",
    "    - One dictionary per sheet"
   ]
  },
  {
   "cell_type": "code",
   "execution_count": 35,
   "id": "13d5c711",
   "metadata": {},
   "outputs": [],
   "source": [
    "for key, value in sheet_name_to_everything.items():\n",
    "    # Creating a dictionary that maps the original column name to the standarized one\n",
    "    column_name_to_standarized = defaultdict(dict)\n",
    "    for col in value[\"original_behavior_recording_dataframe\"]:\n",
    "        # Making the column name lower case and removing the spaces\n",
    "        column_name_to_standarized[col] = \"_\".join(str(col).lower().strip().split(\" \"))\n",
    "    value[\"column_name_to_standarized\"] = column_name_to_standarized"
   ]
  },
  {
   "cell_type": "code",
   "execution_count": 36,
   "id": "47e30c5b",
   "metadata": {},
   "outputs": [
    {
     "data": {
      "text/plain": [
       "defaultdict(dict,\n",
       "            {'Date': 'date',\n",
       "             'Cage': 'cage',\n",
       "             'Box': 'box',\n",
       "             'Match': 'match',\n",
       "             'Scorer': 'scorer',\n",
       "             'Trial 1 Time': 'trial_1_time',\n",
       "             'Trial 1 Winner': 'trial_1_winner',\n",
       "             'Trial 2 Time ': 'trial_2_time',\n",
       "             'Trial 2 Winner': 'trial_2_winner',\n",
       "             'Trial 3 Time': 'trial_3_time',\n",
       "             'Trial 3 Winner': 'trial_3_winner',\n",
       "             'Trial 4 Time': 'trial_4_time',\n",
       "             'Trial 4 Winner': 'trial_4_winner',\n",
       "             'Trial 5 Time': 'trial_5_time',\n",
       "             'Trial 5 Winner': 'trial_5_winner',\n",
       "             'Trial 6 Time': 'trial_6_time',\n",
       "             'Trial 6 Winner': 'trial_6_winner',\n",
       "             'Trial 7 Time': 'trial_7_time',\n",
       "             'Trial 7 Winner': 'trial_7_winner',\n",
       "             'Trial 8 Time': 'trial_8_time',\n",
       "             'Trial 8 Winner': 'trial_8_winner',\n",
       "             'Trial 9 Time': 'trial_9_time',\n",
       "             'Trial 9 Winner': 'trial_9_winner',\n",
       "             'Trial 10 Time ': 'trial_10_time',\n",
       "             'Trial 10 Winner': 'trial_10_winner',\n",
       "             'Trial 11 Time': 'trial_11_time',\n",
       "             'Trial 11 Winner': 'trial_11_winner',\n",
       "             'Trial 12 Time ': 'trial_12_time',\n",
       "             'Trial 12 Winner': 'trial_12_winner',\n",
       "             'Trial 13 Time': 'trial_13_time',\n",
       "             'Trial 13 Winner': 'trial_13_winner',\n",
       "             'Trial 14 Time': 'trial_14_time',\n",
       "             'Trial 14 Winner': 'trial_14_winner',\n",
       "             'Trial 15 Time': 'trial_15_time',\n",
       "             'Trial 15 Winner': 'trial_15_winner',\n",
       "             'Trial 16 Time ': 'trial_16_time',\n",
       "             'Trial 16 Winner': 'trial_16_winner',\n",
       "             'Trial 17 Time': 'trial_17_time',\n",
       "             'Trial 17 Winner': 'trial_17_winner',\n",
       "             'Trial 18 Time': 'trial_18_time',\n",
       "             'Trial 18 Winner': 'trial_18_winner',\n",
       "             'Trial 19 Time': 'trial_19_time',\n",
       "             'Trial 19 Winner': 'trial_19_winner',\n",
       "             'Trial 20 Time': 'trial_20_time',\n",
       "             'Trial 20 Winner': 'trial_20_winner',\n",
       "             'Mouse 1 Wins': 'mouse_1_wins',\n",
       "             'Mouse 2 Wins': 'mouse_2_wins',\n",
       "             'Ties ': 'ties'})"
      ]
     },
     "execution_count": 36,
     "metadata": {},
     "output_type": "execute_result"
    }
   ],
   "source": [
    "value[\"column_name_to_standarized\"]"
   ]
  },
  {
   "cell_type": "code",
   "execution_count": 37,
   "id": "8fafcc6f",
   "metadata": {},
   "outputs": [],
   "source": [
    "# Renaming all the columns to the lower case and space removed version\n",
    "for key, value in sheet_name_to_everything.items():\n",
    "    value[\"processed_behavior_recording_dataframe\"] = value[\"original_behavior_recording_dataframe\"].rename(columns=value[\"column_name_to_standarized\"])\n",
    "    value[\"processed_behavior_recording_dataframe\"][\"sheet_name\"] = key"
   ]
  },
  {
   "cell_type": "code",
   "execution_count": 38,
   "id": "49758e21",
   "metadata": {
    "scrolled": true
   },
   "outputs": [
    {
     "data": {
      "text/html": [
       "<div>\n",
       "<style scoped>\n",
       "    .dataframe tbody tr th:only-of-type {\n",
       "        vertical-align: middle;\n",
       "    }\n",
       "\n",
       "    .dataframe tbody tr th {\n",
       "        vertical-align: top;\n",
       "    }\n",
       "\n",
       "    .dataframe thead th {\n",
       "        text-align: right;\n",
       "    }\n",
       "</style>\n",
       "<table border=\"1\" class=\"dataframe\">\n",
       "  <thead>\n",
       "    <tr style=\"text-align: right;\">\n",
       "      <th></th>\n",
       "      <th>date</th>\n",
       "      <th>cage</th>\n",
       "      <th>box</th>\n",
       "      <th>match</th>\n",
       "      <th>scorer</th>\n",
       "      <th>trial_1_time</th>\n",
       "      <th>trial_1_winner</th>\n",
       "      <th>trial_2_time</th>\n",
       "      <th>trial_2_winner</th>\n",
       "      <th>trial_3_time</th>\n",
       "      <th>...</th>\n",
       "      <th>trial_18_time</th>\n",
       "      <th>trial_18_winner</th>\n",
       "      <th>trial_19_time</th>\n",
       "      <th>trial_19_winner</th>\n",
       "      <th>trial_20_time</th>\n",
       "      <th>trial_20_winner</th>\n",
       "      <th>mouse_1_wins</th>\n",
       "      <th>mouse_2_wins</th>\n",
       "      <th>ties</th>\n",
       "      <th>sheet_name</th>\n",
       "    </tr>\n",
       "  </thead>\n",
       "  <tbody>\n",
       "    <tr>\n",
       "      <th>0</th>\n",
       "      <td>2022-05-19</td>\n",
       "      <td>1</td>\n",
       "      <td>1.0</td>\n",
       "      <td>1.1 v 1.2</td>\n",
       "      <td>NaN</td>\n",
       "      <td>1:12-1:22</td>\n",
       "      <td>1.1</td>\n",
       "      <td>2:31-2:41</td>\n",
       "      <td>1.1</td>\n",
       "      <td>4:00-4:10</td>\n",
       "      <td>...</td>\n",
       "      <td>27:00-27:10</td>\n",
       "      <td>1.2</td>\n",
       "      <td>28:19-28:29</td>\n",
       "      <td>1.1</td>\n",
       "      <td>29:53-30:03</td>\n",
       "      <td>1.1</td>\n",
       "      <td>11.0</td>\n",
       "      <td>0</td>\n",
       "      <td>0.0</td>\n",
       "      <td>Master Master</td>\n",
       "    </tr>\n",
       "    <tr>\n",
       "      <th>1</th>\n",
       "      <td>2022-05-19</td>\n",
       "      <td>1</td>\n",
       "      <td>2.0</td>\n",
       "      <td>1.3 v 1.4</td>\n",
       "      <td>NaN</td>\n",
       "      <td>1:12-1:22</td>\n",
       "      <td>1.4</td>\n",
       "      <td>2:30-2:40</td>\n",
       "      <td>1.4</td>\n",
       "      <td>3:59-4:09</td>\n",
       "      <td>...</td>\n",
       "      <td>27:01-27:11</td>\n",
       "      <td>1.4</td>\n",
       "      <td>28:20-28:30</td>\n",
       "      <td>1.3</td>\n",
       "      <td>29:53-30:03</td>\n",
       "      <td>1.3</td>\n",
       "      <td>0.0</td>\n",
       "      <td>9</td>\n",
       "      <td>0.0</td>\n",
       "      <td>Master Master</td>\n",
       "    </tr>\n",
       "    <tr>\n",
       "      <th>2</th>\n",
       "      <td>2022-05-19</td>\n",
       "      <td>1</td>\n",
       "      <td>3.0</td>\n",
       "      <td>1.1 v 1.3</td>\n",
       "      <td>NaN</td>\n",
       "      <td>1:07-1:17</td>\n",
       "      <td>1.3</td>\n",
       "      <td>3:56-4:06</td>\n",
       "      <td>tie</td>\n",
       "      <td>5:14-5:24</td>\n",
       "      <td>...</td>\n",
       "      <td>28:16-28:26</td>\n",
       "      <td>1.3</td>\n",
       "      <td>29:49-29:59</td>\n",
       "      <td>1.3</td>\n",
       "      <td>NaN</td>\n",
       "      <td>NaN</td>\n",
       "      <td>NaN</td>\n",
       "      <td>NaN</td>\n",
       "      <td>NaN</td>\n",
       "      <td>Master Master</td>\n",
       "    </tr>\n",
       "    <tr>\n",
       "      <th>3</th>\n",
       "      <td>2022-05-19</td>\n",
       "      <td>1</td>\n",
       "      <td>4.0</td>\n",
       "      <td>1.2 v 1.4</td>\n",
       "      <td>NaN</td>\n",
       "      <td>1:06-1:16</td>\n",
       "      <td>1.4</td>\n",
       "      <td>2:25-2:35</td>\n",
       "      <td>1.2</td>\n",
       "      <td>3:54-4:04</td>\n",
       "      <td>...</td>\n",
       "      <td>26:56-27:06</td>\n",
       "      <td>1.4</td>\n",
       "      <td>28:15-28:25</td>\n",
       "      <td>1.4</td>\n",
       "      <td>29:48-29:58</td>\n",
       "      <td>1.4</td>\n",
       "      <td>NaN</td>\n",
       "      <td>checked whole row</td>\n",
       "      <td>NaN</td>\n",
       "      <td>Master Master</td>\n",
       "    </tr>\n",
       "    <tr>\n",
       "      <th>4</th>\n",
       "      <td>2022-05-19</td>\n",
       "      <td>1</td>\n",
       "      <td>2.0</td>\n",
       "      <td>1.2 v 1.3</td>\n",
       "      <td>NaN</td>\n",
       "      <td>1:11-1:21</td>\n",
       "      <td>1.2</td>\n",
       "      <td>2:30-2:40</td>\n",
       "      <td>1.3</td>\n",
       "      <td>4:00-4:10</td>\n",
       "      <td>...</td>\n",
       "      <td>27:01-27:11</td>\n",
       "      <td>1.2</td>\n",
       "      <td>28:19-28:29</td>\n",
       "      <td>1.2</td>\n",
       "      <td>29:53-30:03</td>\n",
       "      <td>1.2</td>\n",
       "      <td>NaN</td>\n",
       "      <td>checked whole row</td>\n",
       "      <td>NaN</td>\n",
       "      <td>Master Master</td>\n",
       "    </tr>\n",
       "  </tbody>\n",
       "</table>\n",
       "<p>5 rows × 49 columns</p>\n",
       "</div>"
      ],
      "text/plain": [
       "        date  cage  box      match  scorer trial_1_time trial_1_winner  \\\n",
       "0 2022-05-19     1  1.0  1.1 v 1.2     NaN    1:12-1:22            1.1   \n",
       "1 2022-05-19     1  2.0  1.3 v 1.4     NaN    1:12-1:22            1.4   \n",
       "2 2022-05-19     1  3.0  1.1 v 1.3     NaN    1:07-1:17            1.3   \n",
       "3 2022-05-19     1  4.0  1.2 v 1.4     NaN    1:06-1:16            1.4   \n",
       "4 2022-05-19     1  2.0  1.2 v 1.3     NaN    1:11-1:21            1.2   \n",
       "\n",
       "  trial_2_time trial_2_winner trial_3_time  ... trial_18_time trial_18_winner  \\\n",
       "0    2:31-2:41            1.1    4:00-4:10  ...   27:00-27:10             1.2   \n",
       "1    2:30-2:40            1.4    3:59-4:09  ...   27:01-27:11             1.4   \n",
       "2    3:56-4:06            tie    5:14-5:24  ...   28:16-28:26             1.3   \n",
       "3    2:25-2:35            1.2    3:54-4:04  ...   26:56-27:06             1.4   \n",
       "4    2:30-2:40            1.3    4:00-4:10  ...   27:01-27:11             1.2   \n",
       "\n",
       "  trial_19_time trial_19_winner trial_20_time trial_20_winner mouse_1_wins  \\\n",
       "0   28:19-28:29             1.1   29:53-30:03             1.1         11.0   \n",
       "1   28:20-28:30             1.3   29:53-30:03             1.3          0.0   \n",
       "2   29:49-29:59             1.3           NaN             NaN          NaN   \n",
       "3   28:15-28:25             1.4   29:48-29:58             1.4          NaN   \n",
       "4   28:19-28:29             1.2   29:53-30:03             1.2          NaN   \n",
       "\n",
       "        mouse_2_wins ties     sheet_name  \n",
       "0                  0  0.0  Master Master  \n",
       "1                  9  0.0  Master Master  \n",
       "2                NaN  NaN  Master Master  \n",
       "3  checked whole row  NaN  Master Master  \n",
       "4  checked whole row  NaN  Master Master  \n",
       "\n",
       "[5 rows x 49 columns]"
      ]
     },
     "execution_count": 38,
     "metadata": {},
     "output_type": "execute_result"
    }
   ],
   "source": [
    "value[\"processed_behavior_recording_dataframe\"].head()"
   ]
  },
  {
   "cell_type": "markdown",
   "id": "147257ba",
   "metadata": {},
   "source": [
    "# Add Stuff afterm"
   ]
  },
  {
   "cell_type": "code",
   "execution_count": 39,
   "id": "e9bf900f",
   "metadata": {},
   "outputs": [],
   "source": [
    "reward_competition_df = sheet_name_to_everything[key][\"processed_behavior_recording_dataframe\"]"
   ]
  },
  {
   "cell_type": "code",
   "execution_count": 40,
   "id": "93e80a7c",
   "metadata": {},
   "outputs": [
    {
     "data": {
      "text/plain": [
       "Index(['date', 'cage', 'box', 'match', 'scorer', 'trial_1_time',\n",
       "       'trial_1_winner', 'trial_2_time', 'trial_2_winner', 'trial_3_time',\n",
       "       'trial_3_winner', 'trial_4_time', 'trial_4_winner', 'trial_5_time',\n",
       "       'trial_5_winner', 'trial_6_time', 'trial_6_winner', 'trial_7_time',\n",
       "       'trial_7_winner', 'trial_8_time', 'trial_8_winner', 'trial_9_time',\n",
       "       'trial_9_winner', 'trial_10_time', 'trial_10_winner', 'trial_11_time',\n",
       "       'trial_11_winner', 'trial_12_time', 'trial_12_winner', 'trial_13_time',\n",
       "       'trial_13_winner', 'trial_14_time', 'trial_14_winner', 'trial_15_time',\n",
       "       'trial_15_winner', 'trial_16_time', 'trial_16_winner', 'trial_17_time',\n",
       "       'trial_17_winner', 'trial_18_time', 'trial_18_winner', 'trial_19_time',\n",
       "       'trial_19_winner', 'trial_20_time', 'trial_20_winner', 'mouse_1_wins',\n",
       "       'mouse_2_wins', 'ties', 'sheet_name'],\n",
       "      dtype='object')"
      ]
     },
     "execution_count": 40,
     "metadata": {},
     "output_type": "execute_result"
    }
   ],
   "source": [
    "reward_competition_df.columns"
   ]
  },
  {
   "cell_type": "code",
   "execution_count": 41,
   "id": "610f7cc7",
   "metadata": {},
   "outputs": [],
   "source": [
    "reward_competition_df = reward_competition_df.drop([col for col in reward_competition_df.columns if \"wins\" in col or \"ties\" in col], axis=1, errors=\"ignore\")"
   ]
  },
  {
   "cell_type": "code",
   "execution_count": 42,
   "id": "03065829",
   "metadata": {},
   "outputs": [],
   "source": [
    "columns_to_keep = [col for col in reward_competition_df.columns if \"time\" not in col.lower().strip()]"
   ]
  },
  {
   "cell_type": "code",
   "execution_count": 43,
   "id": "22dfd2e9",
   "metadata": {},
   "outputs": [
    {
     "data": {
      "text/plain": [
       "['date',\n",
       " 'cage',\n",
       " 'box',\n",
       " 'match',\n",
       " 'scorer',\n",
       " 'trial_1_winner',\n",
       " 'trial_2_winner',\n",
       " 'trial_3_winner',\n",
       " 'trial_4_winner',\n",
       " 'trial_5_winner',\n",
       " 'trial_6_winner',\n",
       " 'trial_7_winner',\n",
       " 'trial_8_winner',\n",
       " 'trial_9_winner',\n",
       " 'trial_10_winner',\n",
       " 'trial_11_winner',\n",
       " 'trial_12_winner',\n",
       " 'trial_13_winner',\n",
       " 'trial_14_winner',\n",
       " 'trial_15_winner',\n",
       " 'trial_16_winner',\n",
       " 'trial_17_winner',\n",
       " 'trial_18_winner',\n",
       " 'trial_19_winner',\n",
       " 'trial_20_winner',\n",
       " 'sheet_name']"
      ]
     },
     "execution_count": 43,
     "metadata": {},
     "output_type": "execute_result"
    }
   ],
   "source": [
    "columns_to_keep"
   ]
  },
  {
   "cell_type": "code",
   "execution_count": 44,
   "id": "86c796a8",
   "metadata": {},
   "outputs": [],
   "source": [
    "reward_competition_df = reward_competition_df[columns_to_keep].copy()"
   ]
  },
  {
   "cell_type": "code",
   "execution_count": 45,
   "id": "ae303843",
   "metadata": {},
   "outputs": [
    {
     "data": {
      "text/html": [
       "<div>\n",
       "<style scoped>\n",
       "    .dataframe tbody tr th:only-of-type {\n",
       "        vertical-align: middle;\n",
       "    }\n",
       "\n",
       "    .dataframe tbody tr th {\n",
       "        vertical-align: top;\n",
       "    }\n",
       "\n",
       "    .dataframe thead th {\n",
       "        text-align: right;\n",
       "    }\n",
       "</style>\n",
       "<table border=\"1\" class=\"dataframe\">\n",
       "  <thead>\n",
       "    <tr style=\"text-align: right;\">\n",
       "      <th></th>\n",
       "      <th>date</th>\n",
       "      <th>cage</th>\n",
       "      <th>box</th>\n",
       "      <th>match</th>\n",
       "      <th>scorer</th>\n",
       "      <th>trial_1_winner</th>\n",
       "      <th>trial_2_winner</th>\n",
       "      <th>trial_3_winner</th>\n",
       "      <th>trial_4_winner</th>\n",
       "      <th>trial_5_winner</th>\n",
       "      <th>...</th>\n",
       "      <th>trial_12_winner</th>\n",
       "      <th>trial_13_winner</th>\n",
       "      <th>trial_14_winner</th>\n",
       "      <th>trial_15_winner</th>\n",
       "      <th>trial_16_winner</th>\n",
       "      <th>trial_17_winner</th>\n",
       "      <th>trial_18_winner</th>\n",
       "      <th>trial_19_winner</th>\n",
       "      <th>trial_20_winner</th>\n",
       "      <th>sheet_name</th>\n",
       "    </tr>\n",
       "  </thead>\n",
       "  <tbody>\n",
       "    <tr>\n",
       "      <th>0</th>\n",
       "      <td>2022-05-19</td>\n",
       "      <td>1</td>\n",
       "      <td>1.0</td>\n",
       "      <td>1.1 v 1.2</td>\n",
       "      <td>NaN</td>\n",
       "      <td>1.1</td>\n",
       "      <td>1.1</td>\n",
       "      <td>1.1</td>\n",
       "      <td>1.1</td>\n",
       "      <td>1.2</td>\n",
       "      <td>...</td>\n",
       "      <td>1.2</td>\n",
       "      <td>1.2</td>\n",
       "      <td>1.2</td>\n",
       "      <td>1.2</td>\n",
       "      <td>1.2</td>\n",
       "      <td>1.1</td>\n",
       "      <td>1.2</td>\n",
       "      <td>1.1</td>\n",
       "      <td>1.1</td>\n",
       "      <td>Master Master</td>\n",
       "    </tr>\n",
       "    <tr>\n",
       "      <th>1</th>\n",
       "      <td>2022-05-19</td>\n",
       "      <td>1</td>\n",
       "      <td>2.0</td>\n",
       "      <td>1.3 v 1.4</td>\n",
       "      <td>NaN</td>\n",
       "      <td>1.4</td>\n",
       "      <td>1.4</td>\n",
       "      <td>1.3</td>\n",
       "      <td>1.3</td>\n",
       "      <td>1.4</td>\n",
       "      <td>...</td>\n",
       "      <td>1.3</td>\n",
       "      <td>1.3</td>\n",
       "      <td>1.3</td>\n",
       "      <td>1.4</td>\n",
       "      <td>1.4</td>\n",
       "      <td>1.4</td>\n",
       "      <td>1.4</td>\n",
       "      <td>1.3</td>\n",
       "      <td>1.3</td>\n",
       "      <td>Master Master</td>\n",
       "    </tr>\n",
       "    <tr>\n",
       "      <th>2</th>\n",
       "      <td>2022-05-19</td>\n",
       "      <td>1</td>\n",
       "      <td>3.0</td>\n",
       "      <td>1.1 v 1.3</td>\n",
       "      <td>NaN</td>\n",
       "      <td>1.3</td>\n",
       "      <td>tie</td>\n",
       "      <td>1.3</td>\n",
       "      <td>1.1</td>\n",
       "      <td>1.1</td>\n",
       "      <td>...</td>\n",
       "      <td>1.3</td>\n",
       "      <td>1.1</td>\n",
       "      <td>1.3</td>\n",
       "      <td>1.3</td>\n",
       "      <td>1.3</td>\n",
       "      <td>1.3</td>\n",
       "      <td>1.3</td>\n",
       "      <td>1.3</td>\n",
       "      <td>NaN</td>\n",
       "      <td>Master Master</td>\n",
       "    </tr>\n",
       "    <tr>\n",
       "      <th>3</th>\n",
       "      <td>2022-05-19</td>\n",
       "      <td>1</td>\n",
       "      <td>4.0</td>\n",
       "      <td>1.2 v 1.4</td>\n",
       "      <td>NaN</td>\n",
       "      <td>1.4</td>\n",
       "      <td>1.2</td>\n",
       "      <td>1.2</td>\n",
       "      <td>1.2</td>\n",
       "      <td>1.4</td>\n",
       "      <td>...</td>\n",
       "      <td>1.4</td>\n",
       "      <td>1.2</td>\n",
       "      <td>1.2</td>\n",
       "      <td>1.4</td>\n",
       "      <td>1.2</td>\n",
       "      <td>1.2</td>\n",
       "      <td>1.4</td>\n",
       "      <td>1.4</td>\n",
       "      <td>1.4</td>\n",
       "      <td>Master Master</td>\n",
       "    </tr>\n",
       "    <tr>\n",
       "      <th>4</th>\n",
       "      <td>2022-05-19</td>\n",
       "      <td>1</td>\n",
       "      <td>2.0</td>\n",
       "      <td>1.2 v 1.3</td>\n",
       "      <td>NaN</td>\n",
       "      <td>1.2</td>\n",
       "      <td>1.3</td>\n",
       "      <td>1.3</td>\n",
       "      <td>1.3</td>\n",
       "      <td>1.2</td>\n",
       "      <td>...</td>\n",
       "      <td>tie</td>\n",
       "      <td>1.2</td>\n",
       "      <td>1.3</td>\n",
       "      <td>1.2</td>\n",
       "      <td>1.2</td>\n",
       "      <td>1.3</td>\n",
       "      <td>1.2</td>\n",
       "      <td>1.2</td>\n",
       "      <td>1.2</td>\n",
       "      <td>Master Master</td>\n",
       "    </tr>\n",
       "  </tbody>\n",
       "</table>\n",
       "<p>5 rows × 26 columns</p>\n",
       "</div>"
      ],
      "text/plain": [
       "        date  cage  box      match  scorer trial_1_winner trial_2_winner  \\\n",
       "0 2022-05-19     1  1.0  1.1 v 1.2     NaN            1.1            1.1   \n",
       "1 2022-05-19     1  2.0  1.3 v 1.4     NaN            1.4            1.4   \n",
       "2 2022-05-19     1  3.0  1.1 v 1.3     NaN            1.3            tie   \n",
       "3 2022-05-19     1  4.0  1.2 v 1.4     NaN            1.4            1.2   \n",
       "4 2022-05-19     1  2.0  1.2 v 1.3     NaN            1.2            1.3   \n",
       "\n",
       "  trial_3_winner trial_4_winner trial_5_winner  ... trial_12_winner  \\\n",
       "0            1.1            1.1            1.2  ...             1.2   \n",
       "1            1.3            1.3            1.4  ...             1.3   \n",
       "2            1.3            1.1            1.1  ...             1.3   \n",
       "3            1.2            1.2            1.4  ...             1.4   \n",
       "4            1.3            1.3            1.2  ...             tie   \n",
       "\n",
       "  trial_13_winner trial_14_winner trial_15_winner trial_16_winner  \\\n",
       "0             1.2             1.2             1.2             1.2   \n",
       "1             1.3             1.3             1.4             1.4   \n",
       "2             1.1             1.3             1.3             1.3   \n",
       "3             1.2             1.2             1.4             1.2   \n",
       "4             1.2             1.3             1.2             1.2   \n",
       "\n",
       "  trial_17_winner trial_18_winner trial_19_winner trial_20_winner  \\\n",
       "0             1.1             1.2             1.1             1.1   \n",
       "1             1.4             1.4             1.3             1.3   \n",
       "2             1.3             1.3             1.3             NaN   \n",
       "3             1.2             1.4             1.4             1.4   \n",
       "4             1.3             1.2             1.2             1.2   \n",
       "\n",
       "      sheet_name  \n",
       "0  Master Master  \n",
       "1  Master Master  \n",
       "2  Master Master  \n",
       "3  Master Master  \n",
       "4  Master Master  \n",
       "\n",
       "[5 rows x 26 columns]"
      ]
     },
     "execution_count": 45,
     "metadata": {},
     "output_type": "execute_result"
    }
   ],
   "source": [
    "reward_competition_df.head()"
   ]
  },
  {
   "cell_type": "code",
   "execution_count": 46,
   "id": "678675bc",
   "metadata": {},
   "outputs": [],
   "source": [
    "reward_competition_df = reward_competition_df.dropna(subset=[\"trial_1_winner\"])"
   ]
  },
  {
   "cell_type": "markdown",
   "id": "842d3520",
   "metadata": {},
   "source": [
    "## Add both IDs as a column"
   ]
  },
  {
   "cell_type": "code",
   "execution_count": 47,
   "id": "68b27e11",
   "metadata": {},
   "outputs": [],
   "source": [
    "reward_competition_df[\"animal_ids\"] = reward_competition_df[\"match\"].apply(lambda x: tuple(sorted([all_ids.strip() for all_ids in re.findall(r\"[-+]?(?:\\d*\\.\\d+|\\d+)\", x)])))"
   ]
  },
  {
   "cell_type": "code",
   "execution_count": 48,
   "id": "27a2e030",
   "metadata": {},
   "outputs": [
    {
     "data": {
      "text/html": [
       "<div>\n",
       "<style scoped>\n",
       "    .dataframe tbody tr th:only-of-type {\n",
       "        vertical-align: middle;\n",
       "    }\n",
       "\n",
       "    .dataframe tbody tr th {\n",
       "        vertical-align: top;\n",
       "    }\n",
       "\n",
       "    .dataframe thead th {\n",
       "        text-align: right;\n",
       "    }\n",
       "</style>\n",
       "<table border=\"1\" class=\"dataframe\">\n",
       "  <thead>\n",
       "    <tr style=\"text-align: right;\">\n",
       "      <th></th>\n",
       "      <th>date</th>\n",
       "      <th>cage</th>\n",
       "      <th>box</th>\n",
       "      <th>match</th>\n",
       "      <th>scorer</th>\n",
       "      <th>trial_1_winner</th>\n",
       "      <th>trial_2_winner</th>\n",
       "      <th>trial_3_winner</th>\n",
       "      <th>trial_4_winner</th>\n",
       "      <th>trial_5_winner</th>\n",
       "      <th>...</th>\n",
       "      <th>trial_13_winner</th>\n",
       "      <th>trial_14_winner</th>\n",
       "      <th>trial_15_winner</th>\n",
       "      <th>trial_16_winner</th>\n",
       "      <th>trial_17_winner</th>\n",
       "      <th>trial_18_winner</th>\n",
       "      <th>trial_19_winner</th>\n",
       "      <th>trial_20_winner</th>\n",
       "      <th>sheet_name</th>\n",
       "      <th>animal_ids</th>\n",
       "    </tr>\n",
       "  </thead>\n",
       "  <tbody>\n",
       "    <tr>\n",
       "      <th>0</th>\n",
       "      <td>2022-05-19</td>\n",
       "      <td>1</td>\n",
       "      <td>1.0</td>\n",
       "      <td>1.1 v 1.2</td>\n",
       "      <td>NaN</td>\n",
       "      <td>1.1</td>\n",
       "      <td>1.1</td>\n",
       "      <td>1.1</td>\n",
       "      <td>1.1</td>\n",
       "      <td>1.2</td>\n",
       "      <td>...</td>\n",
       "      <td>1.2</td>\n",
       "      <td>1.2</td>\n",
       "      <td>1.2</td>\n",
       "      <td>1.2</td>\n",
       "      <td>1.1</td>\n",
       "      <td>1.2</td>\n",
       "      <td>1.1</td>\n",
       "      <td>1.1</td>\n",
       "      <td>Master Master</td>\n",
       "      <td>(1.1, 1.2)</td>\n",
       "    </tr>\n",
       "    <tr>\n",
       "      <th>1</th>\n",
       "      <td>2022-05-19</td>\n",
       "      <td>1</td>\n",
       "      <td>2.0</td>\n",
       "      <td>1.3 v 1.4</td>\n",
       "      <td>NaN</td>\n",
       "      <td>1.4</td>\n",
       "      <td>1.4</td>\n",
       "      <td>1.3</td>\n",
       "      <td>1.3</td>\n",
       "      <td>1.4</td>\n",
       "      <td>...</td>\n",
       "      <td>1.3</td>\n",
       "      <td>1.3</td>\n",
       "      <td>1.4</td>\n",
       "      <td>1.4</td>\n",
       "      <td>1.4</td>\n",
       "      <td>1.4</td>\n",
       "      <td>1.3</td>\n",
       "      <td>1.3</td>\n",
       "      <td>Master Master</td>\n",
       "      <td>(1.3, 1.4)</td>\n",
       "    </tr>\n",
       "    <tr>\n",
       "      <th>2</th>\n",
       "      <td>2022-05-19</td>\n",
       "      <td>1</td>\n",
       "      <td>3.0</td>\n",
       "      <td>1.1 v 1.3</td>\n",
       "      <td>NaN</td>\n",
       "      <td>1.3</td>\n",
       "      <td>tie</td>\n",
       "      <td>1.3</td>\n",
       "      <td>1.1</td>\n",
       "      <td>1.1</td>\n",
       "      <td>...</td>\n",
       "      <td>1.1</td>\n",
       "      <td>1.3</td>\n",
       "      <td>1.3</td>\n",
       "      <td>1.3</td>\n",
       "      <td>1.3</td>\n",
       "      <td>1.3</td>\n",
       "      <td>1.3</td>\n",
       "      <td>NaN</td>\n",
       "      <td>Master Master</td>\n",
       "      <td>(1.1, 1.3)</td>\n",
       "    </tr>\n",
       "    <tr>\n",
       "      <th>3</th>\n",
       "      <td>2022-05-19</td>\n",
       "      <td>1</td>\n",
       "      <td>4.0</td>\n",
       "      <td>1.2 v 1.4</td>\n",
       "      <td>NaN</td>\n",
       "      <td>1.4</td>\n",
       "      <td>1.2</td>\n",
       "      <td>1.2</td>\n",
       "      <td>1.2</td>\n",
       "      <td>1.4</td>\n",
       "      <td>...</td>\n",
       "      <td>1.2</td>\n",
       "      <td>1.2</td>\n",
       "      <td>1.4</td>\n",
       "      <td>1.2</td>\n",
       "      <td>1.2</td>\n",
       "      <td>1.4</td>\n",
       "      <td>1.4</td>\n",
       "      <td>1.4</td>\n",
       "      <td>Master Master</td>\n",
       "      <td>(1.2, 1.4)</td>\n",
       "    </tr>\n",
       "    <tr>\n",
       "      <th>4</th>\n",
       "      <td>2022-05-19</td>\n",
       "      <td>1</td>\n",
       "      <td>2.0</td>\n",
       "      <td>1.2 v 1.3</td>\n",
       "      <td>NaN</td>\n",
       "      <td>1.2</td>\n",
       "      <td>1.3</td>\n",
       "      <td>1.3</td>\n",
       "      <td>1.3</td>\n",
       "      <td>1.2</td>\n",
       "      <td>...</td>\n",
       "      <td>1.2</td>\n",
       "      <td>1.3</td>\n",
       "      <td>1.2</td>\n",
       "      <td>1.2</td>\n",
       "      <td>1.3</td>\n",
       "      <td>1.2</td>\n",
       "      <td>1.2</td>\n",
       "      <td>1.2</td>\n",
       "      <td>Master Master</td>\n",
       "      <td>(1.2, 1.3)</td>\n",
       "    </tr>\n",
       "  </tbody>\n",
       "</table>\n",
       "<p>5 rows × 27 columns</p>\n",
       "</div>"
      ],
      "text/plain": [
       "        date  cage  box      match  scorer trial_1_winner trial_2_winner  \\\n",
       "0 2022-05-19     1  1.0  1.1 v 1.2     NaN            1.1            1.1   \n",
       "1 2022-05-19     1  2.0  1.3 v 1.4     NaN            1.4            1.4   \n",
       "2 2022-05-19     1  3.0  1.1 v 1.3     NaN            1.3            tie   \n",
       "3 2022-05-19     1  4.0  1.2 v 1.4     NaN            1.4            1.2   \n",
       "4 2022-05-19     1  2.0  1.2 v 1.3     NaN            1.2            1.3   \n",
       "\n",
       "  trial_3_winner trial_4_winner trial_5_winner  ... trial_13_winner  \\\n",
       "0            1.1            1.1            1.2  ...             1.2   \n",
       "1            1.3            1.3            1.4  ...             1.3   \n",
       "2            1.3            1.1            1.1  ...             1.1   \n",
       "3            1.2            1.2            1.4  ...             1.2   \n",
       "4            1.3            1.3            1.2  ...             1.2   \n",
       "\n",
       "  trial_14_winner trial_15_winner trial_16_winner trial_17_winner  \\\n",
       "0             1.2             1.2             1.2             1.1   \n",
       "1             1.3             1.4             1.4             1.4   \n",
       "2             1.3             1.3             1.3             1.3   \n",
       "3             1.2             1.4             1.2             1.2   \n",
       "4             1.3             1.2             1.2             1.3   \n",
       "\n",
       "  trial_18_winner trial_19_winner trial_20_winner     sheet_name  animal_ids  \n",
       "0             1.2             1.1             1.1  Master Master  (1.1, 1.2)  \n",
       "1             1.4             1.3             1.3  Master Master  (1.3, 1.4)  \n",
       "2             1.3             1.3             NaN  Master Master  (1.1, 1.3)  \n",
       "3             1.4             1.4             1.4  Master Master  (1.2, 1.4)  \n",
       "4             1.2             1.2             1.2  Master Master  (1.2, 1.3)  \n",
       "\n",
       "[5 rows x 27 columns]"
      ]
     },
     "execution_count": 48,
     "metadata": {},
     "output_type": "execute_result"
    }
   ],
   "source": [
    "reward_competition_df.head()"
   ]
  },
  {
   "cell_type": "code",
   "execution_count": 49,
   "id": "b46f05ca",
   "metadata": {},
   "outputs": [],
   "source": [
    "reward_competition_df[\"cohort\"] = cohort_name"
   ]
  },
  {
   "cell_type": "code",
   "execution_count": 50,
   "id": "2ac1aa6f",
   "metadata": {},
   "outputs": [],
   "source": [
    "cage_to_strain = {\"1\": \"C57\", \"2\": \"C57\", \"3\": \"CD1\", \"4\": \"CD1\"}"
   ]
  },
  {
   "cell_type": "markdown",
   "id": "aec020f6",
   "metadata": {},
   "source": [
    "# NOTE: If there are strains that are associated to each cage, then create a dictionary of cage numbers to strains inside the `{}`\n",
    "- i.e. `cage_to_strain = {\"1\": \"C57\", \"2\": \"C57\", \"3\": \"C57\", \"4\": \"CD1\", \"5\": \"CD1\", \"6\": \"CD1\"}`"
   ]
  },
  {
   "cell_type": "code",
   "execution_count": 51,
   "id": "d6893337",
   "metadata": {},
   "outputs": [],
   "source": [
    "reward_competition_df[\"strain\"] = reward_competition_df[\"cage\"].astype(str).map(cage_to_strain)"
   ]
  },
  {
   "cell_type": "code",
   "execution_count": 52,
   "id": "0408a474",
   "metadata": {},
   "outputs": [],
   "source": [
    "all_cages = \"_\".join([str(cage) for cage in sorted(reward_competition_df[\"cage\"].unique())])"
   ]
  },
  {
   "cell_type": "code",
   "execution_count": 53,
   "id": "9cb985e7",
   "metadata": {},
   "outputs": [
    {
     "data": {
      "text/plain": [
       "'1_2_3_4'"
      ]
     },
     "execution_count": 53,
     "metadata": {},
     "output_type": "execute_result"
    }
   ],
   "source": [
    "all_cages"
   ]
  },
  {
   "cell_type": "code",
   "execution_count": 54,
   "id": "5a42738a",
   "metadata": {},
   "outputs": [],
   "source": [
    "earliest_date = reward_competition_df[\"date\"].min()\n",
    "latest_date = reward_competition_df[\"date\"].max()"
   ]
  },
  {
   "cell_type": "code",
   "execution_count": 55,
   "id": "0e2bacdd",
   "metadata": {},
   "outputs": [],
   "source": [
    "earliest_date = str(earliest_date.date()).replace(\"-\", \"\")"
   ]
  },
  {
   "cell_type": "code",
   "execution_count": 56,
   "id": "ce05a0c3",
   "metadata": {},
   "outputs": [],
   "source": [
    "latest_date = str(latest_date.date()).replace(\"-\", \"\")"
   ]
  },
  {
   "cell_type": "code",
   "execution_count": 57,
   "id": "2e58f7a4",
   "metadata": {},
   "outputs": [
    {
     "data": {
      "text/plain": [
       "'20220519'"
      ]
     },
     "execution_count": 57,
     "metadata": {},
     "output_type": "execute_result"
    }
   ],
   "source": [
    "earliest_date"
   ]
  },
  {
   "cell_type": "code",
   "execution_count": 58,
   "id": "e2536a99",
   "metadata": {},
   "outputs": [
    {
     "data": {
      "text/plain": [
       "'20220520'"
      ]
     },
     "execution_count": 58,
     "metadata": {},
     "output_type": "execute_result"
    }
   ],
   "source": [
    "latest_date"
   ]
  },
  {
   "cell_type": "markdown",
   "id": "274fb92d",
   "metadata": {},
   "source": [
    "- Creating a subfolder to put the Elo rating Spreadsheets"
   ]
  },
  {
   "cell_type": "code",
   "execution_count": 59,
   "id": "96d3f120",
   "metadata": {},
   "outputs": [],
   "source": [
    "elo_rating_spreadsheet_output_directory = os.path.join(\".\", \"proc\", \"elo_rating_spread_sheets\", \"{}\".format(protocol_name))"
   ]
  },
  {
   "cell_type": "code",
   "execution_count": 60,
   "id": "db44537b",
   "metadata": {},
   "outputs": [
    {
     "data": {
      "text/plain": [
       "'./proc/elo_rating_spread_sheets/reward_competition'"
      ]
     },
     "execution_count": 60,
     "metadata": {},
     "output_type": "execute_result"
    }
   ],
   "source": [
    "elo_rating_spreadsheet_output_directory"
   ]
  },
  {
   "cell_type": "code",
   "execution_count": 61,
   "id": "4c3c5dc2",
   "metadata": {},
   "outputs": [],
   "source": [
    "os.makedirs(elo_rating_spreadsheet_output_directory, exist_ok=True)"
   ]
  },
  {
   "cell_type": "code",
   "execution_count": 62,
   "id": "7e379ac3",
   "metadata": {},
   "outputs": [],
   "source": [
    "file_name = \"{}_{}_trial_as_columns_cages_{}_date_{}_{}.csv\".format(cohort_name, protocol_name, all_cages, earliest_date, latest_date)\n",
    "\n",
    "reward_competition_df.to_csv(os.path.join(elo_rating_spreadsheet_output_directory, file_name))"
   ]
  },
  {
   "cell_type": "markdown",
   "id": "e4a23e23",
   "metadata": {},
   "source": [
    "## Melt "
   ]
  },
  {
   "cell_type": "code",
   "execution_count": 63,
   "id": "93438071",
   "metadata": {},
   "outputs": [],
   "source": [
    "reward_competition_df[\"index\"] = reward_competition_df.index\n",
    "reward_competition_df = reward_competition_df.reset_index(drop=True)"
   ]
  },
  {
   "cell_type": "code",
   "execution_count": 64,
   "id": "5437ef1b",
   "metadata": {},
   "outputs": [
    {
     "data": {
      "text/html": [
       "<div>\n",
       "<style scoped>\n",
       "    .dataframe tbody tr th:only-of-type {\n",
       "        vertical-align: middle;\n",
       "    }\n",
       "\n",
       "    .dataframe tbody tr th {\n",
       "        vertical-align: top;\n",
       "    }\n",
       "\n",
       "    .dataframe thead th {\n",
       "        text-align: right;\n",
       "    }\n",
       "</style>\n",
       "<table border=\"1\" class=\"dataframe\">\n",
       "  <thead>\n",
       "    <tr style=\"text-align: right;\">\n",
       "      <th></th>\n",
       "      <th>date</th>\n",
       "      <th>cage</th>\n",
       "      <th>box</th>\n",
       "      <th>match</th>\n",
       "      <th>scorer</th>\n",
       "      <th>trial_1_winner</th>\n",
       "      <th>trial_2_winner</th>\n",
       "      <th>trial_3_winner</th>\n",
       "      <th>trial_4_winner</th>\n",
       "      <th>trial_5_winner</th>\n",
       "      <th>...</th>\n",
       "      <th>trial_16_winner</th>\n",
       "      <th>trial_17_winner</th>\n",
       "      <th>trial_18_winner</th>\n",
       "      <th>trial_19_winner</th>\n",
       "      <th>trial_20_winner</th>\n",
       "      <th>sheet_name</th>\n",
       "      <th>animal_ids</th>\n",
       "      <th>cohort</th>\n",
       "      <th>strain</th>\n",
       "      <th>index</th>\n",
       "    </tr>\n",
       "  </thead>\n",
       "  <tbody>\n",
       "    <tr>\n",
       "      <th>0</th>\n",
       "      <td>2022-05-19</td>\n",
       "      <td>1</td>\n",
       "      <td>1.0</td>\n",
       "      <td>1.1 v 1.2</td>\n",
       "      <td>NaN</td>\n",
       "      <td>1.1</td>\n",
       "      <td>1.1</td>\n",
       "      <td>1.1</td>\n",
       "      <td>1.1</td>\n",
       "      <td>1.2</td>\n",
       "      <td>...</td>\n",
       "      <td>1.2</td>\n",
       "      <td>1.1</td>\n",
       "      <td>1.2</td>\n",
       "      <td>1.1</td>\n",
       "      <td>1.1</td>\n",
       "      <td>Master Master</td>\n",
       "      <td>(1.1, 1.2)</td>\n",
       "      <td>pilot_1</td>\n",
       "      <td>C57</td>\n",
       "      <td>0</td>\n",
       "    </tr>\n",
       "    <tr>\n",
       "      <th>1</th>\n",
       "      <td>2022-05-19</td>\n",
       "      <td>1</td>\n",
       "      <td>2.0</td>\n",
       "      <td>1.3 v 1.4</td>\n",
       "      <td>NaN</td>\n",
       "      <td>1.4</td>\n",
       "      <td>1.4</td>\n",
       "      <td>1.3</td>\n",
       "      <td>1.3</td>\n",
       "      <td>1.4</td>\n",
       "      <td>...</td>\n",
       "      <td>1.4</td>\n",
       "      <td>1.4</td>\n",
       "      <td>1.4</td>\n",
       "      <td>1.3</td>\n",
       "      <td>1.3</td>\n",
       "      <td>Master Master</td>\n",
       "      <td>(1.3, 1.4)</td>\n",
       "      <td>pilot_1</td>\n",
       "      <td>C57</td>\n",
       "      <td>1</td>\n",
       "    </tr>\n",
       "    <tr>\n",
       "      <th>2</th>\n",
       "      <td>2022-05-19</td>\n",
       "      <td>1</td>\n",
       "      <td>3.0</td>\n",
       "      <td>1.1 v 1.3</td>\n",
       "      <td>NaN</td>\n",
       "      <td>1.3</td>\n",
       "      <td>tie</td>\n",
       "      <td>1.3</td>\n",
       "      <td>1.1</td>\n",
       "      <td>1.1</td>\n",
       "      <td>...</td>\n",
       "      <td>1.3</td>\n",
       "      <td>1.3</td>\n",
       "      <td>1.3</td>\n",
       "      <td>1.3</td>\n",
       "      <td>NaN</td>\n",
       "      <td>Master Master</td>\n",
       "      <td>(1.1, 1.3)</td>\n",
       "      <td>pilot_1</td>\n",
       "      <td>C57</td>\n",
       "      <td>2</td>\n",
       "    </tr>\n",
       "    <tr>\n",
       "      <th>3</th>\n",
       "      <td>2022-05-19</td>\n",
       "      <td>1</td>\n",
       "      <td>4.0</td>\n",
       "      <td>1.2 v 1.4</td>\n",
       "      <td>NaN</td>\n",
       "      <td>1.4</td>\n",
       "      <td>1.2</td>\n",
       "      <td>1.2</td>\n",
       "      <td>1.2</td>\n",
       "      <td>1.4</td>\n",
       "      <td>...</td>\n",
       "      <td>1.2</td>\n",
       "      <td>1.2</td>\n",
       "      <td>1.4</td>\n",
       "      <td>1.4</td>\n",
       "      <td>1.4</td>\n",
       "      <td>Master Master</td>\n",
       "      <td>(1.2, 1.4)</td>\n",
       "      <td>pilot_1</td>\n",
       "      <td>C57</td>\n",
       "      <td>3</td>\n",
       "    </tr>\n",
       "    <tr>\n",
       "      <th>4</th>\n",
       "      <td>2022-05-19</td>\n",
       "      <td>1</td>\n",
       "      <td>2.0</td>\n",
       "      <td>1.2 v 1.3</td>\n",
       "      <td>NaN</td>\n",
       "      <td>1.2</td>\n",
       "      <td>1.3</td>\n",
       "      <td>1.3</td>\n",
       "      <td>1.3</td>\n",
       "      <td>1.2</td>\n",
       "      <td>...</td>\n",
       "      <td>1.2</td>\n",
       "      <td>1.3</td>\n",
       "      <td>1.2</td>\n",
       "      <td>1.2</td>\n",
       "      <td>1.2</td>\n",
       "      <td>Master Master</td>\n",
       "      <td>(1.2, 1.3)</td>\n",
       "      <td>pilot_1</td>\n",
       "      <td>C57</td>\n",
       "      <td>4</td>\n",
       "    </tr>\n",
       "  </tbody>\n",
       "</table>\n",
       "<p>5 rows × 30 columns</p>\n",
       "</div>"
      ],
      "text/plain": [
       "        date  cage  box      match  scorer trial_1_winner trial_2_winner  \\\n",
       "0 2022-05-19     1  1.0  1.1 v 1.2     NaN            1.1            1.1   \n",
       "1 2022-05-19     1  2.0  1.3 v 1.4     NaN            1.4            1.4   \n",
       "2 2022-05-19     1  3.0  1.1 v 1.3     NaN            1.3            tie   \n",
       "3 2022-05-19     1  4.0  1.2 v 1.4     NaN            1.4            1.2   \n",
       "4 2022-05-19     1  2.0  1.2 v 1.3     NaN            1.2            1.3   \n",
       "\n",
       "  trial_3_winner trial_4_winner trial_5_winner  ... trial_16_winner  \\\n",
       "0            1.1            1.1            1.2  ...             1.2   \n",
       "1            1.3            1.3            1.4  ...             1.4   \n",
       "2            1.3            1.1            1.1  ...             1.3   \n",
       "3            1.2            1.2            1.4  ...             1.2   \n",
       "4            1.3            1.3            1.2  ...             1.2   \n",
       "\n",
       "  trial_17_winner trial_18_winner trial_19_winner trial_20_winner  \\\n",
       "0             1.1             1.2             1.1             1.1   \n",
       "1             1.4             1.4             1.3             1.3   \n",
       "2             1.3             1.3             1.3             NaN   \n",
       "3             1.2             1.4             1.4             1.4   \n",
       "4             1.3             1.2             1.2             1.2   \n",
       "\n",
       "      sheet_name  animal_ids   cohort strain index  \n",
       "0  Master Master  (1.1, 1.2)  pilot_1    C57     0  \n",
       "1  Master Master  (1.3, 1.4)  pilot_1    C57     1  \n",
       "2  Master Master  (1.1, 1.3)  pilot_1    C57     2  \n",
       "3  Master Master  (1.2, 1.4)  pilot_1    C57     3  \n",
       "4  Master Master  (1.2, 1.3)  pilot_1    C57     4  \n",
       "\n",
       "[5 rows x 30 columns]"
      ]
     },
     "execution_count": 64,
     "metadata": {},
     "output_type": "execute_result"
    }
   ],
   "source": [
    "reward_competition_df.head()"
   ]
  },
  {
   "cell_type": "code",
   "execution_count": 65,
   "id": "cc4bd323",
   "metadata": {},
   "outputs": [],
   "source": [
    "melted_reward_competition_df = reward_competition_df.melt(id_vars=[\"index\", \"date\", \"cage\", \"box\", \"match\", \"scorer\", \"animal_ids\"], \n",
    "        var_name=\"trial\", \n",
    "        value_name=\"winner\")"
   ]
  },
  {
   "cell_type": "code",
   "execution_count": 66,
   "id": "dba1e8c8",
   "metadata": {},
   "outputs": [
    {
     "data": {
      "text/html": [
       "<div>\n",
       "<style scoped>\n",
       "    .dataframe tbody tr th:only-of-type {\n",
       "        vertical-align: middle;\n",
       "    }\n",
       "\n",
       "    .dataframe tbody tr th {\n",
       "        vertical-align: top;\n",
       "    }\n",
       "\n",
       "    .dataframe thead th {\n",
       "        text-align: right;\n",
       "    }\n",
       "</style>\n",
       "<table border=\"1\" class=\"dataframe\">\n",
       "  <thead>\n",
       "    <tr style=\"text-align: right;\">\n",
       "      <th></th>\n",
       "      <th>index</th>\n",
       "      <th>date</th>\n",
       "      <th>cage</th>\n",
       "      <th>box</th>\n",
       "      <th>match</th>\n",
       "      <th>scorer</th>\n",
       "      <th>animal_ids</th>\n",
       "      <th>trial</th>\n",
       "      <th>winner</th>\n",
       "    </tr>\n",
       "  </thead>\n",
       "  <tbody>\n",
       "    <tr>\n",
       "      <th>0</th>\n",
       "      <td>0</td>\n",
       "      <td>2022-05-19</td>\n",
       "      <td>1</td>\n",
       "      <td>1.0</td>\n",
       "      <td>1.1 v 1.2</td>\n",
       "      <td>NaN</td>\n",
       "      <td>(1.1, 1.2)</td>\n",
       "      <td>trial_1_winner</td>\n",
       "      <td>1.1</td>\n",
       "    </tr>\n",
       "    <tr>\n",
       "      <th>1</th>\n",
       "      <td>1</td>\n",
       "      <td>2022-05-19</td>\n",
       "      <td>1</td>\n",
       "      <td>2.0</td>\n",
       "      <td>1.3 v 1.4</td>\n",
       "      <td>NaN</td>\n",
       "      <td>(1.3, 1.4)</td>\n",
       "      <td>trial_1_winner</td>\n",
       "      <td>1.4</td>\n",
       "    </tr>\n",
       "    <tr>\n",
       "      <th>2</th>\n",
       "      <td>2</td>\n",
       "      <td>2022-05-19</td>\n",
       "      <td>1</td>\n",
       "      <td>3.0</td>\n",
       "      <td>1.1 v 1.3</td>\n",
       "      <td>NaN</td>\n",
       "      <td>(1.1, 1.3)</td>\n",
       "      <td>trial_1_winner</td>\n",
       "      <td>1.3</td>\n",
       "    </tr>\n",
       "    <tr>\n",
       "      <th>3</th>\n",
       "      <td>3</td>\n",
       "      <td>2022-05-19</td>\n",
       "      <td>1</td>\n",
       "      <td>4.0</td>\n",
       "      <td>1.2 v 1.4</td>\n",
       "      <td>NaN</td>\n",
       "      <td>(1.2, 1.4)</td>\n",
       "      <td>trial_1_winner</td>\n",
       "      <td>1.4</td>\n",
       "    </tr>\n",
       "    <tr>\n",
       "      <th>4</th>\n",
       "      <td>4</td>\n",
       "      <td>2022-05-19</td>\n",
       "      <td>1</td>\n",
       "      <td>2.0</td>\n",
       "      <td>1.2 v 1.3</td>\n",
       "      <td>NaN</td>\n",
       "      <td>(1.2, 1.3)</td>\n",
       "      <td>trial_1_winner</td>\n",
       "      <td>1.2</td>\n",
       "    </tr>\n",
       "  </tbody>\n",
       "</table>\n",
       "</div>"
      ],
      "text/plain": [
       "   index       date  cage  box      match  scorer  animal_ids           trial  \\\n",
       "0      0 2022-05-19     1  1.0  1.1 v 1.2     NaN  (1.1, 1.2)  trial_1_winner   \n",
       "1      1 2022-05-19     1  2.0  1.3 v 1.4     NaN  (1.3, 1.4)  trial_1_winner   \n",
       "2      2 2022-05-19     1  3.0  1.1 v 1.3     NaN  (1.1, 1.3)  trial_1_winner   \n",
       "3      3 2022-05-19     1  4.0  1.2 v 1.4     NaN  (1.2, 1.4)  trial_1_winner   \n",
       "4      4 2022-05-19     1  2.0  1.2 v 1.3     NaN  (1.2, 1.3)  trial_1_winner   \n",
       "\n",
       "  winner  \n",
       "0    1.1  \n",
       "1    1.4  \n",
       "2    1.3  \n",
       "3    1.4  \n",
       "4    1.2  "
      ]
     },
     "execution_count": 66,
     "metadata": {},
     "output_type": "execute_result"
    }
   ],
   "source": [
    "melted_reward_competition_df.head()"
   ]
  },
  {
   "cell_type": "markdown",
   "id": "5b4f9b17",
   "metadata": {},
   "source": [
    "- Dropping all rows that don't contain Winner"
   ]
  },
  {
   "cell_type": "code",
   "execution_count": 67,
   "id": "0901cf92",
   "metadata": {},
   "outputs": [],
   "source": [
    "melted_reward_competition_df = melted_reward_competition_df.dropna(subset=\"winner\")"
   ]
  },
  {
   "cell_type": "markdown",
   "id": "1661cb6a",
   "metadata": {},
   "source": [
    "- Making all the ids into string"
   ]
  },
  {
   "cell_type": "code",
   "execution_count": 68,
   "id": "cbbd07a0",
   "metadata": {},
   "outputs": [],
   "source": [
    "melted_reward_competition_df[\"winner\"] = melted_reward_competition_df[\"winner\"].astype(str)\n",
    "melted_reward_competition_df[\"winner\"] = melted_reward_competition_df[\"winner\"].apply(lambda x: x.lower().strip())"
   ]
  },
  {
   "cell_type": "code",
   "execution_count": 69,
   "id": "0ed390a8",
   "metadata": {},
   "outputs": [
    {
     "data": {
      "text/plain": [
       "array(['1.1 v 1.2', '1.3 v 1.4', '1.1 v 1.3', '1.2 v 1.4', '1.2 v 1.3',\n",
       "       '1.1 v 1.4', '2.1 v 2.2', '2.3 v 2.4', '2.1 v 2.3', '2.2 v 2.4',\n",
       "       '2.1 v 2.4', '2.2 v 2.3', '3.1 v 3.2', '3.3 v 3.4', '3.1 v 3.3',\n",
       "       '3.2 v 3.4', '3.1 v 3.4', '3.2 v 3.3', '4.1 v 4.2', '4.3 v 4.4',\n",
       "       '4.1 v 4.3', '4.2 v 4.4', '4.1 v 4.4', '4.2 v 4.3'], dtype=object)"
      ]
     },
     "execution_count": 69,
     "metadata": {},
     "output_type": "execute_result"
    }
   ],
   "source": [
    "melted_reward_competition_df[\"match\"].unique()"
   ]
  },
  {
   "cell_type": "markdown",
   "id": "0a088c99",
   "metadata": {},
   "source": [
    "- Making a different column for ties"
   ]
  },
  {
   "cell_type": "code",
   "execution_count": 70,
   "id": "b26a713a",
   "metadata": {},
   "outputs": [],
   "source": [
    "melted_reward_competition_df[\"tie\"] = melted_reward_competition_df[\"winner\"].apply(lambda x: True if \"tie\" in x.lower().strip() else False)"
   ]
  },
  {
   "cell_type": "markdown",
   "id": "10b1133c",
   "metadata": {},
   "source": [
    "- Replacing tie with the first animal id for elo score plotting"
   ]
  },
  {
   "cell_type": "code",
   "execution_count": 71,
   "id": "842a423a",
   "metadata": {},
   "outputs": [],
   "source": [
    "melted_reward_competition_df[\"winner\"] = melted_reward_competition_df.apply(lambda x: x[\"animal_ids\"][0] if x[\"tie\"] else x[\"winner\"], axis=1)"
   ]
  },
  {
   "cell_type": "code",
   "execution_count": 72,
   "id": "bc79a05c",
   "metadata": {},
   "outputs": [
    {
     "data": {
      "text/html": [
       "<div>\n",
       "<style scoped>\n",
       "    .dataframe tbody tr th:only-of-type {\n",
       "        vertical-align: middle;\n",
       "    }\n",
       "\n",
       "    .dataframe tbody tr th {\n",
       "        vertical-align: top;\n",
       "    }\n",
       "\n",
       "    .dataframe thead th {\n",
       "        text-align: right;\n",
       "    }\n",
       "</style>\n",
       "<table border=\"1\" class=\"dataframe\">\n",
       "  <thead>\n",
       "    <tr style=\"text-align: right;\">\n",
       "      <th></th>\n",
       "      <th>index</th>\n",
       "      <th>date</th>\n",
       "      <th>cage</th>\n",
       "      <th>box</th>\n",
       "      <th>match</th>\n",
       "      <th>scorer</th>\n",
       "      <th>animal_ids</th>\n",
       "      <th>trial</th>\n",
       "      <th>winner</th>\n",
       "      <th>tie</th>\n",
       "    </tr>\n",
       "  </thead>\n",
       "  <tbody>\n",
       "    <tr>\n",
       "      <th>29</th>\n",
       "      <td>29</td>\n",
       "      <td>2022-05-19</td>\n",
       "      <td>3</td>\n",
       "      <td>2.0</td>\n",
       "      <td>3.2 v 3.3</td>\n",
       "      <td>NaN</td>\n",
       "      <td>(3.2, 3.3)</td>\n",
       "      <td>trial_1_winner</td>\n",
       "      <td>3.2</td>\n",
       "      <td>True</td>\n",
       "    </tr>\n",
       "    <tr>\n",
       "      <th>32</th>\n",
       "      <td>32</td>\n",
       "      <td>2022-05-20</td>\n",
       "      <td>3</td>\n",
       "      <td>2.0</td>\n",
       "      <td>3.1 v 3.3</td>\n",
       "      <td>NaN</td>\n",
       "      <td>(3.1, 3.3)</td>\n",
       "      <td>trial_1_winner</td>\n",
       "      <td>3.1</td>\n",
       "      <td>True</td>\n",
       "    </tr>\n",
       "    <tr>\n",
       "      <th>50</th>\n",
       "      <td>2</td>\n",
       "      <td>2022-05-19</td>\n",
       "      <td>1</td>\n",
       "      <td>3.0</td>\n",
       "      <td>1.1 v 1.3</td>\n",
       "      <td>NaN</td>\n",
       "      <td>(1.1, 1.3)</td>\n",
       "      <td>trial_2_winner</td>\n",
       "      <td>1.1</td>\n",
       "      <td>True</td>\n",
       "    </tr>\n",
       "    <tr>\n",
       "      <th>56</th>\n",
       "      <td>8</td>\n",
       "      <td>2022-05-20</td>\n",
       "      <td>1</td>\n",
       "      <td>2.0</td>\n",
       "      <td>1.1 v 1.3</td>\n",
       "      <td>NaN</td>\n",
       "      <td>(1.1, 1.3)</td>\n",
       "      <td>trial_2_winner</td>\n",
       "      <td>1.1</td>\n",
       "      <td>True</td>\n",
       "    </tr>\n",
       "    <tr>\n",
       "      <th>58</th>\n",
       "      <td>10</td>\n",
       "      <td>2022-05-20</td>\n",
       "      <td>1</td>\n",
       "      <td>4.0</td>\n",
       "      <td>1.1 v 1.2</td>\n",
       "      <td>NaN</td>\n",
       "      <td>(1.1, 1.2)</td>\n",
       "      <td>trial_2_winner</td>\n",
       "      <td>1.1</td>\n",
       "      <td>True</td>\n",
       "    </tr>\n",
       "    <tr>\n",
       "      <th>...</th>\n",
       "      <td>...</td>\n",
       "      <td>...</td>\n",
       "      <td>...</td>\n",
       "      <td>...</td>\n",
       "      <td>...</td>\n",
       "      <td>...</td>\n",
       "      <td>...</td>\n",
       "      <td>...</td>\n",
       "      <td>...</td>\n",
       "      <td>...</td>\n",
       "    </tr>\n",
       "    <tr>\n",
       "      <th>863</th>\n",
       "      <td>47</td>\n",
       "      <td>2022-05-20</td>\n",
       "      <td>4</td>\n",
       "      <td>1.0</td>\n",
       "      <td>4.3 v 4.4</td>\n",
       "      <td>NaN</td>\n",
       "      <td>(4.3, 4.4)</td>\n",
       "      <td>trial_18_winner</td>\n",
       "      <td>4.3</td>\n",
       "      <td>True</td>\n",
       "    </tr>\n",
       "    <tr>\n",
       "      <th>874</th>\n",
       "      <td>10</td>\n",
       "      <td>2022-05-20</td>\n",
       "      <td>1</td>\n",
       "      <td>4.0</td>\n",
       "      <td>1.1 v 1.2</td>\n",
       "      <td>NaN</td>\n",
       "      <td>(1.1, 1.2)</td>\n",
       "      <td>trial_19_winner</td>\n",
       "      <td>1.1</td>\n",
       "      <td>True</td>\n",
       "    </tr>\n",
       "    <tr>\n",
       "      <th>884</th>\n",
       "      <td>20</td>\n",
       "      <td>2022-05-20</td>\n",
       "      <td>2</td>\n",
       "      <td>4.0</td>\n",
       "      <td>2.1 v 2.3</td>\n",
       "      <td>NaN</td>\n",
       "      <td>(2.1, 2.3)</td>\n",
       "      <td>trial_19_winner</td>\n",
       "      <td>2.1</td>\n",
       "      <td>True</td>\n",
       "    </tr>\n",
       "    <tr>\n",
       "      <th>885</th>\n",
       "      <td>21</td>\n",
       "      <td>2022-05-20</td>\n",
       "      <td>2</td>\n",
       "      <td>3.0</td>\n",
       "      <td>2.2 v 2.4</td>\n",
       "      <td>NaN</td>\n",
       "      <td>(2.2, 2.4)</td>\n",
       "      <td>trial_19_winner</td>\n",
       "      <td>2.2</td>\n",
       "      <td>True</td>\n",
       "    </tr>\n",
       "    <tr>\n",
       "      <th>886</th>\n",
       "      <td>22</td>\n",
       "      <td>2022-05-20</td>\n",
       "      <td>2</td>\n",
       "      <td>2.0</td>\n",
       "      <td>2.1 v 2.2</td>\n",
       "      <td>NaN</td>\n",
       "      <td>(2.1, 2.2)</td>\n",
       "      <td>trial_19_winner</td>\n",
       "      <td>2.1</td>\n",
       "      <td>True</td>\n",
       "    </tr>\n",
       "  </tbody>\n",
       "</table>\n",
       "<p>70 rows × 10 columns</p>\n",
       "</div>"
      ],
      "text/plain": [
       "     index       date  cage  box      match  scorer  animal_ids  \\\n",
       "29      29 2022-05-19     3  2.0  3.2 v 3.3     NaN  (3.2, 3.3)   \n",
       "32      32 2022-05-20     3  2.0  3.1 v 3.3     NaN  (3.1, 3.3)   \n",
       "50       2 2022-05-19     1  3.0  1.1 v 1.3     NaN  (1.1, 1.3)   \n",
       "56       8 2022-05-20     1  2.0  1.1 v 1.3     NaN  (1.1, 1.3)   \n",
       "58      10 2022-05-20     1  4.0  1.1 v 1.2     NaN  (1.1, 1.2)   \n",
       "..     ...        ...   ...  ...        ...     ...         ...   \n",
       "863     47 2022-05-20     4  1.0  4.3 v 4.4     NaN  (4.3, 4.4)   \n",
       "874     10 2022-05-20     1  4.0  1.1 v 1.2     NaN  (1.1, 1.2)   \n",
       "884     20 2022-05-20     2  4.0  2.1 v 2.3     NaN  (2.1, 2.3)   \n",
       "885     21 2022-05-20     2  3.0  2.2 v 2.4     NaN  (2.2, 2.4)   \n",
       "886     22 2022-05-20     2  2.0  2.1 v 2.2     NaN  (2.1, 2.2)   \n",
       "\n",
       "               trial winner   tie  \n",
       "29    trial_1_winner    3.2  True  \n",
       "32    trial_1_winner    3.1  True  \n",
       "50    trial_2_winner    1.1  True  \n",
       "56    trial_2_winner    1.1  True  \n",
       "58    trial_2_winner    1.1  True  \n",
       "..               ...    ...   ...  \n",
       "863  trial_18_winner    4.3  True  \n",
       "874  trial_19_winner    1.1  True  \n",
       "884  trial_19_winner    2.1  True  \n",
       "885  trial_19_winner    2.2  True  \n",
       "886  trial_19_winner    2.1  True  \n",
       "\n",
       "[70 rows x 10 columns]"
      ]
     },
     "execution_count": 72,
     "metadata": {},
     "output_type": "execute_result"
    }
   ],
   "source": [
    "melted_reward_competition_df[melted_reward_competition_df[\"tie\"]]"
   ]
  },
  {
   "cell_type": "markdown",
   "id": "c5cd382d",
   "metadata": {},
   "source": [
    "- Dropping all non tie and competition rows"
   ]
  },
  {
   "cell_type": "code",
   "execution_count": 73,
   "id": "eb59f541",
   "metadata": {},
   "outputs": [],
   "source": [
    "melted_reward_competition_df[\"winner_is_number\"] = melted_reward_competition_df[\"winner\"].apply(lambda x: True if re.match(r'^-?\\d+(?:\\.\\d+)$', x) else False)\n"
   ]
  },
  {
   "cell_type": "code",
   "execution_count": 74,
   "id": "7690bd8e",
   "metadata": {},
   "outputs": [],
   "source": [
    "melted_reward_competition_df = melted_reward_competition_df[melted_reward_competition_df[\"winner_is_number\"] == True]\n",
    "melted_reward_competition_df = melted_reward_competition_df.drop(columns=[\"winner_is_number\"])"
   ]
  },
  {
   "cell_type": "code",
   "execution_count": 75,
   "id": "fba72cae",
   "metadata": {},
   "outputs": [
    {
     "data": {
      "text/html": [
       "<div>\n",
       "<style scoped>\n",
       "    .dataframe tbody tr th:only-of-type {\n",
       "        vertical-align: middle;\n",
       "    }\n",
       "\n",
       "    .dataframe tbody tr th {\n",
       "        vertical-align: top;\n",
       "    }\n",
       "\n",
       "    .dataframe thead th {\n",
       "        text-align: right;\n",
       "    }\n",
       "</style>\n",
       "<table border=\"1\" class=\"dataframe\">\n",
       "  <thead>\n",
       "    <tr style=\"text-align: right;\">\n",
       "      <th></th>\n",
       "      <th>index</th>\n",
       "      <th>date</th>\n",
       "      <th>cage</th>\n",
       "      <th>box</th>\n",
       "      <th>match</th>\n",
       "      <th>scorer</th>\n",
       "      <th>animal_ids</th>\n",
       "      <th>trial</th>\n",
       "      <th>winner</th>\n",
       "      <th>tie</th>\n",
       "    </tr>\n",
       "  </thead>\n",
       "  <tbody>\n",
       "    <tr>\n",
       "      <th>0</th>\n",
       "      <td>0</td>\n",
       "      <td>2022-05-19</td>\n",
       "      <td>1</td>\n",
       "      <td>1.0</td>\n",
       "      <td>1.1 v 1.2</td>\n",
       "      <td>NaN</td>\n",
       "      <td>(1.1, 1.2)</td>\n",
       "      <td>trial_1_winner</td>\n",
       "      <td>1.1</td>\n",
       "      <td>False</td>\n",
       "    </tr>\n",
       "    <tr>\n",
       "      <th>1</th>\n",
       "      <td>1</td>\n",
       "      <td>2022-05-19</td>\n",
       "      <td>1</td>\n",
       "      <td>2.0</td>\n",
       "      <td>1.3 v 1.4</td>\n",
       "      <td>NaN</td>\n",
       "      <td>(1.3, 1.4)</td>\n",
       "      <td>trial_1_winner</td>\n",
       "      <td>1.4</td>\n",
       "      <td>False</td>\n",
       "    </tr>\n",
       "    <tr>\n",
       "      <th>2</th>\n",
       "      <td>2</td>\n",
       "      <td>2022-05-19</td>\n",
       "      <td>1</td>\n",
       "      <td>3.0</td>\n",
       "      <td>1.1 v 1.3</td>\n",
       "      <td>NaN</td>\n",
       "      <td>(1.1, 1.3)</td>\n",
       "      <td>trial_1_winner</td>\n",
       "      <td>1.3</td>\n",
       "      <td>False</td>\n",
       "    </tr>\n",
       "    <tr>\n",
       "      <th>3</th>\n",
       "      <td>3</td>\n",
       "      <td>2022-05-19</td>\n",
       "      <td>1</td>\n",
       "      <td>4.0</td>\n",
       "      <td>1.2 v 1.4</td>\n",
       "      <td>NaN</td>\n",
       "      <td>(1.2, 1.4)</td>\n",
       "      <td>trial_1_winner</td>\n",
       "      <td>1.4</td>\n",
       "      <td>False</td>\n",
       "    </tr>\n",
       "    <tr>\n",
       "      <th>4</th>\n",
       "      <td>4</td>\n",
       "      <td>2022-05-19</td>\n",
       "      <td>1</td>\n",
       "      <td>2.0</td>\n",
       "      <td>1.2 v 1.3</td>\n",
       "      <td>NaN</td>\n",
       "      <td>(1.2, 1.3)</td>\n",
       "      <td>trial_1_winner</td>\n",
       "      <td>1.2</td>\n",
       "      <td>False</td>\n",
       "    </tr>\n",
       "  </tbody>\n",
       "</table>\n",
       "</div>"
      ],
      "text/plain": [
       "   index       date  cage  box      match  scorer  animal_ids           trial  \\\n",
       "0      0 2022-05-19     1  1.0  1.1 v 1.2     NaN  (1.1, 1.2)  trial_1_winner   \n",
       "1      1 2022-05-19     1  2.0  1.3 v 1.4     NaN  (1.3, 1.4)  trial_1_winner   \n",
       "2      2 2022-05-19     1  3.0  1.1 v 1.3     NaN  (1.1, 1.3)  trial_1_winner   \n",
       "3      3 2022-05-19     1  4.0  1.2 v 1.4     NaN  (1.2, 1.4)  trial_1_winner   \n",
       "4      4 2022-05-19     1  2.0  1.2 v 1.3     NaN  (1.2, 1.3)  trial_1_winner   \n",
       "\n",
       "  winner    tie  \n",
       "0    1.1  False  \n",
       "1    1.4  False  \n",
       "2    1.3  False  \n",
       "3    1.4  False  \n",
       "4    1.2  False  "
      ]
     },
     "execution_count": 75,
     "metadata": {},
     "output_type": "execute_result"
    }
   ],
   "source": [
    "melted_reward_competition_df.head()"
   ]
  },
  {
   "cell_type": "markdown",
   "id": "1b47cd30",
   "metadata": {},
   "source": [
    "- Getting the number of the trial so that we can order by number(instead of string, which would make 11 come before 2)"
   ]
  },
  {
   "cell_type": "code",
   "execution_count": 76,
   "id": "87155772",
   "metadata": {},
   "outputs": [],
   "source": [
    "melted_reward_competition_df[\"trial_number\"] = melted_reward_competition_df[\"trial\"].apply(lambda x: int(x.lower().strip(\"trial\").strip(\"winner\").strip(\"_\")))"
   ]
  },
  {
   "cell_type": "code",
   "execution_count": 77,
   "id": "f00f352d",
   "metadata": {},
   "outputs": [],
   "source": [
    "melted_reward_competition_df = melted_reward_competition_df.sort_values([\"index\", \"trial_number\"])"
   ]
  },
  {
   "cell_type": "code",
   "execution_count": 78,
   "id": "5ad13471",
   "metadata": {},
   "outputs": [
    {
     "data": {
      "text/html": [
       "<div>\n",
       "<style scoped>\n",
       "    .dataframe tbody tr th:only-of-type {\n",
       "        vertical-align: middle;\n",
       "    }\n",
       "\n",
       "    .dataframe tbody tr th {\n",
       "        vertical-align: top;\n",
       "    }\n",
       "\n",
       "    .dataframe thead th {\n",
       "        text-align: right;\n",
       "    }\n",
       "</style>\n",
       "<table border=\"1\" class=\"dataframe\">\n",
       "  <thead>\n",
       "    <tr style=\"text-align: right;\">\n",
       "      <th></th>\n",
       "      <th>index</th>\n",
       "      <th>date</th>\n",
       "      <th>cage</th>\n",
       "      <th>box</th>\n",
       "      <th>match</th>\n",
       "      <th>scorer</th>\n",
       "      <th>animal_ids</th>\n",
       "      <th>trial</th>\n",
       "      <th>winner</th>\n",
       "      <th>tie</th>\n",
       "      <th>trial_number</th>\n",
       "    </tr>\n",
       "  </thead>\n",
       "  <tbody>\n",
       "    <tr>\n",
       "      <th>0</th>\n",
       "      <td>0</td>\n",
       "      <td>2022-05-19</td>\n",
       "      <td>1</td>\n",
       "      <td>1.0</td>\n",
       "      <td>1.1 v 1.2</td>\n",
       "      <td>NaN</td>\n",
       "      <td>(1.1, 1.2)</td>\n",
       "      <td>trial_1_winner</td>\n",
       "      <td>1.1</td>\n",
       "      <td>False</td>\n",
       "      <td>1</td>\n",
       "    </tr>\n",
       "    <tr>\n",
       "      <th>48</th>\n",
       "      <td>0</td>\n",
       "      <td>2022-05-19</td>\n",
       "      <td>1</td>\n",
       "      <td>1.0</td>\n",
       "      <td>1.1 v 1.2</td>\n",
       "      <td>NaN</td>\n",
       "      <td>(1.1, 1.2)</td>\n",
       "      <td>trial_2_winner</td>\n",
       "      <td>1.1</td>\n",
       "      <td>False</td>\n",
       "      <td>2</td>\n",
       "    </tr>\n",
       "    <tr>\n",
       "      <th>96</th>\n",
       "      <td>0</td>\n",
       "      <td>2022-05-19</td>\n",
       "      <td>1</td>\n",
       "      <td>1.0</td>\n",
       "      <td>1.1 v 1.2</td>\n",
       "      <td>NaN</td>\n",
       "      <td>(1.1, 1.2)</td>\n",
       "      <td>trial_3_winner</td>\n",
       "      <td>1.1</td>\n",
       "      <td>False</td>\n",
       "      <td>3</td>\n",
       "    </tr>\n",
       "    <tr>\n",
       "      <th>144</th>\n",
       "      <td>0</td>\n",
       "      <td>2022-05-19</td>\n",
       "      <td>1</td>\n",
       "      <td>1.0</td>\n",
       "      <td>1.1 v 1.2</td>\n",
       "      <td>NaN</td>\n",
       "      <td>(1.1, 1.2)</td>\n",
       "      <td>trial_4_winner</td>\n",
       "      <td>1.1</td>\n",
       "      <td>False</td>\n",
       "      <td>4</td>\n",
       "    </tr>\n",
       "    <tr>\n",
       "      <th>192</th>\n",
       "      <td>0</td>\n",
       "      <td>2022-05-19</td>\n",
       "      <td>1</td>\n",
       "      <td>1.0</td>\n",
       "      <td>1.1 v 1.2</td>\n",
       "      <td>NaN</td>\n",
       "      <td>(1.1, 1.2)</td>\n",
       "      <td>trial_5_winner</td>\n",
       "      <td>1.2</td>\n",
       "      <td>False</td>\n",
       "      <td>5</td>\n",
       "    </tr>\n",
       "  </tbody>\n",
       "</table>\n",
       "</div>"
      ],
      "text/plain": [
       "     index       date  cage  box      match  scorer  animal_ids  \\\n",
       "0        0 2022-05-19     1  1.0  1.1 v 1.2     NaN  (1.1, 1.2)   \n",
       "48       0 2022-05-19     1  1.0  1.1 v 1.2     NaN  (1.1, 1.2)   \n",
       "96       0 2022-05-19     1  1.0  1.1 v 1.2     NaN  (1.1, 1.2)   \n",
       "144      0 2022-05-19     1  1.0  1.1 v 1.2     NaN  (1.1, 1.2)   \n",
       "192      0 2022-05-19     1  1.0  1.1 v 1.2     NaN  (1.1, 1.2)   \n",
       "\n",
       "              trial winner    tie  trial_number  \n",
       "0    trial_1_winner    1.1  False             1  \n",
       "48   trial_2_winner    1.1  False             2  \n",
       "96   trial_3_winner    1.1  False             3  \n",
       "144  trial_4_winner    1.1  False             4  \n",
       "192  trial_5_winner    1.2  False             5  "
      ]
     },
     "execution_count": 78,
     "metadata": {},
     "output_type": "execute_result"
    }
   ],
   "source": [
    "melted_reward_competition_df.head()"
   ]
  },
  {
   "cell_type": "code",
   "execution_count": 79,
   "id": "a0ac32dc",
   "metadata": {},
   "outputs": [
    {
     "data": {
      "text/plain": [
       "array([ 1,  2,  3,  4,  5,  6,  7,  8,  9, 10, 11, 12, 13, 14, 15, 16, 17,\n",
       "       18, 19, 20])"
      ]
     },
     "execution_count": 79,
     "metadata": {},
     "output_type": "execute_result"
    }
   ],
   "source": [
    "melted_reward_competition_df[\"trial_number\"].unique()"
   ]
  },
  {
   "cell_type": "markdown",
   "id": "9c411bb4",
   "metadata": {},
   "source": [
    "## Add a column for the loser ID"
   ]
  },
  {
   "cell_type": "code",
   "execution_count": 80,
   "id": "a899a01a",
   "metadata": {},
   "outputs": [
    {
     "data": {
      "text/plain": [
       "Index(['index', 'date', 'cage', 'box', 'match', 'scorer', 'animal_ids',\n",
       "       'trial', 'winner', 'tie', 'trial_number'],\n",
       "      dtype='object')"
      ]
     },
     "execution_count": 80,
     "metadata": {},
     "output_type": "execute_result"
    }
   ],
   "source": [
    "melted_reward_competition_df.columns"
   ]
  },
  {
   "cell_type": "code",
   "execution_count": 81,
   "id": "1cc18e58",
   "metadata": {},
   "outputs": [
    {
     "data": {
      "text/html": [
       "<div>\n",
       "<style scoped>\n",
       "    .dataframe tbody tr th:only-of-type {\n",
       "        vertical-align: middle;\n",
       "    }\n",
       "\n",
       "    .dataframe tbody tr th {\n",
       "        vertical-align: top;\n",
       "    }\n",
       "\n",
       "    .dataframe thead th {\n",
       "        text-align: right;\n",
       "    }\n",
       "</style>\n",
       "<table border=\"1\" class=\"dataframe\">\n",
       "  <thead>\n",
       "    <tr style=\"text-align: right;\">\n",
       "      <th></th>\n",
       "      <th>index</th>\n",
       "      <th>date</th>\n",
       "      <th>cage</th>\n",
       "      <th>box</th>\n",
       "      <th>match</th>\n",
       "      <th>scorer</th>\n",
       "      <th>animal_ids</th>\n",
       "      <th>trial</th>\n",
       "      <th>winner</th>\n",
       "      <th>tie</th>\n",
       "      <th>trial_number</th>\n",
       "    </tr>\n",
       "  </thead>\n",
       "  <tbody>\n",
       "    <tr>\n",
       "      <th>0</th>\n",
       "      <td>0</td>\n",
       "      <td>2022-05-19</td>\n",
       "      <td>1</td>\n",
       "      <td>1.0</td>\n",
       "      <td>1.1 v 1.2</td>\n",
       "      <td>NaN</td>\n",
       "      <td>(1.1, 1.2)</td>\n",
       "      <td>trial_1_winner</td>\n",
       "      <td>1.1</td>\n",
       "      <td>False</td>\n",
       "      <td>1</td>\n",
       "    </tr>\n",
       "    <tr>\n",
       "      <th>48</th>\n",
       "      <td>0</td>\n",
       "      <td>2022-05-19</td>\n",
       "      <td>1</td>\n",
       "      <td>1.0</td>\n",
       "      <td>1.1 v 1.2</td>\n",
       "      <td>NaN</td>\n",
       "      <td>(1.1, 1.2)</td>\n",
       "      <td>trial_2_winner</td>\n",
       "      <td>1.1</td>\n",
       "      <td>False</td>\n",
       "      <td>2</td>\n",
       "    </tr>\n",
       "    <tr>\n",
       "      <th>96</th>\n",
       "      <td>0</td>\n",
       "      <td>2022-05-19</td>\n",
       "      <td>1</td>\n",
       "      <td>1.0</td>\n",
       "      <td>1.1 v 1.2</td>\n",
       "      <td>NaN</td>\n",
       "      <td>(1.1, 1.2)</td>\n",
       "      <td>trial_3_winner</td>\n",
       "      <td>1.1</td>\n",
       "      <td>False</td>\n",
       "      <td>3</td>\n",
       "    </tr>\n",
       "    <tr>\n",
       "      <th>144</th>\n",
       "      <td>0</td>\n",
       "      <td>2022-05-19</td>\n",
       "      <td>1</td>\n",
       "      <td>1.0</td>\n",
       "      <td>1.1 v 1.2</td>\n",
       "      <td>NaN</td>\n",
       "      <td>(1.1, 1.2)</td>\n",
       "      <td>trial_4_winner</td>\n",
       "      <td>1.1</td>\n",
       "      <td>False</td>\n",
       "      <td>4</td>\n",
       "    </tr>\n",
       "    <tr>\n",
       "      <th>192</th>\n",
       "      <td>0</td>\n",
       "      <td>2022-05-19</td>\n",
       "      <td>1</td>\n",
       "      <td>1.0</td>\n",
       "      <td>1.1 v 1.2</td>\n",
       "      <td>NaN</td>\n",
       "      <td>(1.1, 1.2)</td>\n",
       "      <td>trial_5_winner</td>\n",
       "      <td>1.2</td>\n",
       "      <td>False</td>\n",
       "      <td>5</td>\n",
       "    </tr>\n",
       "  </tbody>\n",
       "</table>\n",
       "</div>"
      ],
      "text/plain": [
       "     index       date  cage  box      match  scorer  animal_ids  \\\n",
       "0        0 2022-05-19     1  1.0  1.1 v 1.2     NaN  (1.1, 1.2)   \n",
       "48       0 2022-05-19     1  1.0  1.1 v 1.2     NaN  (1.1, 1.2)   \n",
       "96       0 2022-05-19     1  1.0  1.1 v 1.2     NaN  (1.1, 1.2)   \n",
       "144      0 2022-05-19     1  1.0  1.1 v 1.2     NaN  (1.1, 1.2)   \n",
       "192      0 2022-05-19     1  1.0  1.1 v 1.2     NaN  (1.1, 1.2)   \n",
       "\n",
       "              trial winner    tie  trial_number  \n",
       "0    trial_1_winner    1.1  False             1  \n",
       "48   trial_2_winner    1.1  False             2  \n",
       "96   trial_3_winner    1.1  False             3  \n",
       "144  trial_4_winner    1.1  False             4  \n",
       "192  trial_5_winner    1.2  False             5  "
      ]
     },
     "execution_count": 81,
     "metadata": {},
     "output_type": "execute_result"
    }
   ],
   "source": [
    "melted_reward_competition_df.head()"
   ]
  },
  {
   "cell_type": "code",
   "execution_count": 82,
   "id": "cf4cb336",
   "metadata": {},
   "outputs": [],
   "source": [
    "melted_reward_competition_df[\"loser\"] = melted_reward_competition_df.apply(lambda x: (list(set(x[\"animal_ids\"]) - set([x[\"winner\"]]))[0]), axis=1)"
   ]
  },
  {
   "cell_type": "code",
   "execution_count": 83,
   "id": "7bf33309",
   "metadata": {},
   "outputs": [
    {
     "data": {
      "text/plain": [
       "array(['1.2', '1.1', '1.3', '1.4', '2.2', '2.1', '2.4', '2.3', '3.2',\n",
       "       '3.1', '3.4', '3.3', '4.2', '4.1', '4.4', '4.3'], dtype=object)"
      ]
     },
     "execution_count": 83,
     "metadata": {},
     "output_type": "execute_result"
    }
   ],
   "source": [
    "melted_reward_competition_df[\"loser\"].unique()"
   ]
  },
  {
   "cell_type": "code",
   "execution_count": 84,
   "id": "ff5cba8f",
   "metadata": {},
   "outputs": [
    {
     "data": {
      "text/html": [
       "<div>\n",
       "<style scoped>\n",
       "    .dataframe tbody tr th:only-of-type {\n",
       "        vertical-align: middle;\n",
       "    }\n",
       "\n",
       "    .dataframe tbody tr th {\n",
       "        vertical-align: top;\n",
       "    }\n",
       "\n",
       "    .dataframe thead th {\n",
       "        text-align: right;\n",
       "    }\n",
       "</style>\n",
       "<table border=\"1\" class=\"dataframe\">\n",
       "  <thead>\n",
       "    <tr style=\"text-align: right;\">\n",
       "      <th></th>\n",
       "      <th>index</th>\n",
       "      <th>date</th>\n",
       "      <th>cage</th>\n",
       "      <th>box</th>\n",
       "      <th>match</th>\n",
       "      <th>scorer</th>\n",
       "      <th>animal_ids</th>\n",
       "      <th>trial</th>\n",
       "      <th>winner</th>\n",
       "      <th>tie</th>\n",
       "      <th>trial_number</th>\n",
       "      <th>loser</th>\n",
       "    </tr>\n",
       "  </thead>\n",
       "  <tbody>\n",
       "    <tr>\n",
       "      <th>0</th>\n",
       "      <td>0</td>\n",
       "      <td>2022-05-19</td>\n",
       "      <td>1</td>\n",
       "      <td>1.0</td>\n",
       "      <td>1.1 v 1.2</td>\n",
       "      <td>NaN</td>\n",
       "      <td>(1.1, 1.2)</td>\n",
       "      <td>trial_1_winner</td>\n",
       "      <td>1.1</td>\n",
       "      <td>False</td>\n",
       "      <td>1</td>\n",
       "      <td>1.2</td>\n",
       "    </tr>\n",
       "    <tr>\n",
       "      <th>48</th>\n",
       "      <td>0</td>\n",
       "      <td>2022-05-19</td>\n",
       "      <td>1</td>\n",
       "      <td>1.0</td>\n",
       "      <td>1.1 v 1.2</td>\n",
       "      <td>NaN</td>\n",
       "      <td>(1.1, 1.2)</td>\n",
       "      <td>trial_2_winner</td>\n",
       "      <td>1.1</td>\n",
       "      <td>False</td>\n",
       "      <td>2</td>\n",
       "      <td>1.2</td>\n",
       "    </tr>\n",
       "    <tr>\n",
       "      <th>96</th>\n",
       "      <td>0</td>\n",
       "      <td>2022-05-19</td>\n",
       "      <td>1</td>\n",
       "      <td>1.0</td>\n",
       "      <td>1.1 v 1.2</td>\n",
       "      <td>NaN</td>\n",
       "      <td>(1.1, 1.2)</td>\n",
       "      <td>trial_3_winner</td>\n",
       "      <td>1.1</td>\n",
       "      <td>False</td>\n",
       "      <td>3</td>\n",
       "      <td>1.2</td>\n",
       "    </tr>\n",
       "    <tr>\n",
       "      <th>144</th>\n",
       "      <td>0</td>\n",
       "      <td>2022-05-19</td>\n",
       "      <td>1</td>\n",
       "      <td>1.0</td>\n",
       "      <td>1.1 v 1.2</td>\n",
       "      <td>NaN</td>\n",
       "      <td>(1.1, 1.2)</td>\n",
       "      <td>trial_4_winner</td>\n",
       "      <td>1.1</td>\n",
       "      <td>False</td>\n",
       "      <td>4</td>\n",
       "      <td>1.2</td>\n",
       "    </tr>\n",
       "    <tr>\n",
       "      <th>192</th>\n",
       "      <td>0</td>\n",
       "      <td>2022-05-19</td>\n",
       "      <td>1</td>\n",
       "      <td>1.0</td>\n",
       "      <td>1.1 v 1.2</td>\n",
       "      <td>NaN</td>\n",
       "      <td>(1.1, 1.2)</td>\n",
       "      <td>trial_5_winner</td>\n",
       "      <td>1.2</td>\n",
       "      <td>False</td>\n",
       "      <td>5</td>\n",
       "      <td>1.1</td>\n",
       "    </tr>\n",
       "  </tbody>\n",
       "</table>\n",
       "</div>"
      ],
      "text/plain": [
       "     index       date  cage  box      match  scorer  animal_ids  \\\n",
       "0        0 2022-05-19     1  1.0  1.1 v 1.2     NaN  (1.1, 1.2)   \n",
       "48       0 2022-05-19     1  1.0  1.1 v 1.2     NaN  (1.1, 1.2)   \n",
       "96       0 2022-05-19     1  1.0  1.1 v 1.2     NaN  (1.1, 1.2)   \n",
       "144      0 2022-05-19     1  1.0  1.1 v 1.2     NaN  (1.1, 1.2)   \n",
       "192      0 2022-05-19     1  1.0  1.1 v 1.2     NaN  (1.1, 1.2)   \n",
       "\n",
       "              trial winner    tie  trial_number loser  \n",
       "0    trial_1_winner    1.1  False             1   1.2  \n",
       "48   trial_2_winner    1.1  False             2   1.2  \n",
       "96   trial_3_winner    1.1  False             3   1.2  \n",
       "144  trial_4_winner    1.1  False             4   1.2  \n",
       "192  trial_5_winner    1.2  False             5   1.1  "
      ]
     },
     "execution_count": 84,
     "metadata": {},
     "output_type": "execute_result"
    }
   ],
   "source": [
    "melted_reward_competition_df.head(n=5)"
   ]
  },
  {
   "cell_type": "code",
   "execution_count": 85,
   "id": "4bef5093",
   "metadata": {},
   "outputs": [
    {
     "data": {
      "text/html": [
       "<div>\n",
       "<style scoped>\n",
       "    .dataframe tbody tr th:only-of-type {\n",
       "        vertical-align: middle;\n",
       "    }\n",
       "\n",
       "    .dataframe tbody tr th {\n",
       "        vertical-align: top;\n",
       "    }\n",
       "\n",
       "    .dataframe thead th {\n",
       "        text-align: right;\n",
       "    }\n",
       "</style>\n",
       "<table border=\"1\" class=\"dataframe\">\n",
       "  <thead>\n",
       "    <tr style=\"text-align: right;\">\n",
       "      <th></th>\n",
       "      <th>index</th>\n",
       "      <th>date</th>\n",
       "      <th>cage</th>\n",
       "      <th>box</th>\n",
       "      <th>match</th>\n",
       "      <th>scorer</th>\n",
       "      <th>animal_ids</th>\n",
       "      <th>trial</th>\n",
       "      <th>winner</th>\n",
       "      <th>tie</th>\n",
       "      <th>trial_number</th>\n",
       "      <th>loser</th>\n",
       "    </tr>\n",
       "  </thead>\n",
       "  <tbody>\n",
       "    <tr>\n",
       "      <th>767</th>\n",
       "      <td>47</td>\n",
       "      <td>2022-05-20</td>\n",
       "      <td>4</td>\n",
       "      <td>1.0</td>\n",
       "      <td>4.3 v 4.4</td>\n",
       "      <td>NaN</td>\n",
       "      <td>(4.3, 4.4)</td>\n",
       "      <td>trial_16_winner</td>\n",
       "      <td>4.3</td>\n",
       "      <td>False</td>\n",
       "      <td>16</td>\n",
       "      <td>4.4</td>\n",
       "    </tr>\n",
       "    <tr>\n",
       "      <th>815</th>\n",
       "      <td>47</td>\n",
       "      <td>2022-05-20</td>\n",
       "      <td>4</td>\n",
       "      <td>1.0</td>\n",
       "      <td>4.3 v 4.4</td>\n",
       "      <td>NaN</td>\n",
       "      <td>(4.3, 4.4)</td>\n",
       "      <td>trial_17_winner</td>\n",
       "      <td>4.4</td>\n",
       "      <td>False</td>\n",
       "      <td>17</td>\n",
       "      <td>4.3</td>\n",
       "    </tr>\n",
       "    <tr>\n",
       "      <th>863</th>\n",
       "      <td>47</td>\n",
       "      <td>2022-05-20</td>\n",
       "      <td>4</td>\n",
       "      <td>1.0</td>\n",
       "      <td>4.3 v 4.4</td>\n",
       "      <td>NaN</td>\n",
       "      <td>(4.3, 4.4)</td>\n",
       "      <td>trial_18_winner</td>\n",
       "      <td>4.3</td>\n",
       "      <td>True</td>\n",
       "      <td>18</td>\n",
       "      <td>4.4</td>\n",
       "    </tr>\n",
       "    <tr>\n",
       "      <th>911</th>\n",
       "      <td>47</td>\n",
       "      <td>2022-05-20</td>\n",
       "      <td>4</td>\n",
       "      <td>1.0</td>\n",
       "      <td>4.3 v 4.4</td>\n",
       "      <td>NaN</td>\n",
       "      <td>(4.3, 4.4)</td>\n",
       "      <td>trial_19_winner</td>\n",
       "      <td>4.4</td>\n",
       "      <td>False</td>\n",
       "      <td>19</td>\n",
       "      <td>4.3</td>\n",
       "    </tr>\n",
       "    <tr>\n",
       "      <th>959</th>\n",
       "      <td>47</td>\n",
       "      <td>2022-05-20</td>\n",
       "      <td>4</td>\n",
       "      <td>1.0</td>\n",
       "      <td>4.3 v 4.4</td>\n",
       "      <td>NaN</td>\n",
       "      <td>(4.3, 4.4)</td>\n",
       "      <td>trial_20_winner</td>\n",
       "      <td>4.3</td>\n",
       "      <td>False</td>\n",
       "      <td>20</td>\n",
       "      <td>4.4</td>\n",
       "    </tr>\n",
       "  </tbody>\n",
       "</table>\n",
       "</div>"
      ],
      "text/plain": [
       "     index       date  cage  box      match  scorer  animal_ids  \\\n",
       "767     47 2022-05-20     4  1.0  4.3 v 4.4     NaN  (4.3, 4.4)   \n",
       "815     47 2022-05-20     4  1.0  4.3 v 4.4     NaN  (4.3, 4.4)   \n",
       "863     47 2022-05-20     4  1.0  4.3 v 4.4     NaN  (4.3, 4.4)   \n",
       "911     47 2022-05-20     4  1.0  4.3 v 4.4     NaN  (4.3, 4.4)   \n",
       "959     47 2022-05-20     4  1.0  4.3 v 4.4     NaN  (4.3, 4.4)   \n",
       "\n",
       "               trial winner    tie  trial_number loser  \n",
       "767  trial_16_winner    4.3  False            16   4.4  \n",
       "815  trial_17_winner    4.4  False            17   4.3  \n",
       "863  trial_18_winner    4.3   True            18   4.4  \n",
       "911  trial_19_winner    4.4  False            19   4.3  \n",
       "959  trial_20_winner    4.3  False            20   4.4  "
      ]
     },
     "execution_count": 85,
     "metadata": {},
     "output_type": "execute_result"
    }
   ],
   "source": [
    "melted_reward_competition_df.tail(n=5)"
   ]
  },
  {
   "cell_type": "code",
   "execution_count": null,
   "id": "94ac5e9c",
   "metadata": {},
   "outputs": [],
   "source": []
  },
  {
   "cell_type": "code",
   "execution_count": null,
   "id": "71728e9d",
   "metadata": {},
   "outputs": [],
   "source": []
  },
  {
   "cell_type": "code",
   "execution_count": null,
   "id": "12724ee7",
   "metadata": {},
   "outputs": [],
   "source": []
  },
  {
   "cell_type": "code",
   "execution_count": null,
   "id": "d8536fe0",
   "metadata": {},
   "outputs": [],
   "source": []
  },
  {
   "cell_type": "code",
   "execution_count": null,
   "id": "e652682f",
   "metadata": {},
   "outputs": [],
   "source": []
  },
  {
   "cell_type": "code",
   "execution_count": null,
   "id": "7b00db03",
   "metadata": {},
   "outputs": [],
   "source": []
  },
  {
   "cell_type": "markdown",
   "id": "642f1c81",
   "metadata": {},
   "source": [
    "# ADD stuff before this"
   ]
  },
  {
   "cell_type": "markdown",
   "id": "461d46d2",
   "metadata": {},
   "source": [
    "# Finding the rows with ties"
   ]
  },
  {
   "cell_type": "markdown",
   "id": "7f26bc3c",
   "metadata": {},
   "source": [
    "- If a trial is a tie, there should be another column that indicates that it is a tie. The points will be counted for less. If there is no column, then none of the trials will be counted as ties."
   ]
  },
  {
   "cell_type": "markdown",
   "id": "cca06551",
   "metadata": {},
   "source": [
    "# NOTE: If there is a set column that denotes whether the match has a winner or not, then replace the `None` with the name of the column with quotation marks"
   ]
  },
  {
   "cell_type": "code",
   "execution_count": 86,
   "id": "219bc564",
   "metadata": {},
   "outputs": [],
   "source": [
    "all_ties_column = None"
   ]
  },
  {
   "cell_type": "code",
   "execution_count": 87,
   "id": "5e7a6a45",
   "metadata": {
    "scrolled": true
   },
   "outputs": [],
   "source": [
    "for key, value in sheet_name_to_everything.items():\n",
    "    \n",
    "    if all_ties_column is None:\n",
    "        value[\"ties_column\"] = None\n",
    "    elif all_ties_column:\n",
    "        value[\"ties_column\"] = all_ties_column\n",
    "    else:\n",
    "    \n",
    "        # Asking users to specify which column is the one with the winner's information\n",
    "        value[\"ties_column\"] = input(\"\"\"Type the name of the column that specifies whether or not a tie has occured\n",
    "        i.e. \"tie\"\n",
    "\n",
    "        The available columns are: {}\n",
    "\n",
    "        Note: If left blank, the column with \"ties\" in the name will be used as the column. \n",
    "        If there are none, then this part will be skipped\n",
    "\n",
    "        \"\"\".format(value[\"processed_behavior_recording_dataframe\"].columns))\n",
    "\n",
    "        # Looks for columns with \"tie\" in them if none of inputted\n",
    "        if not value[\"ties_column\"]:\n",
    "            if [col for col in value[\"processed_behavior_recording_dataframe\"].columns if \"tie\" in col.lower()]:\n",
    "                value[\"ties_column\"] = [col for col in value[\"processed_behavior_recording_dataframe\"].columns if \"tie\" in col.lower()][0]\n",
    "            else: \n",
    "                value[\"ties_column\"] = None\n",
    "    current_processed_behavior_recording_dataframe = value[\"processed_behavior_recording_dataframe\"].copy()\n",
    "    try:\n",
    "        # Standarizing the name of the tie column\n",
    "        value[\"processed_behavior_recording_dataframe\"] = value[\"processed_behavior_recording_dataframe\"].rename(columns={value[\"ties_column\"]: \"match_is_tie\"})\n",
    "        value[\"ties_column\"] = \"match_is_tie\"\n",
    "        # Fillling in the tie column with 0s so that we can fill in the other columns with the previous values\n",
    "        value[\"processed_behavior_recording_dataframe\"][value[\"ties_column\"]] = value[\"processed_behavior_recording_dataframe\"][value[\"ties_column\"]].fillna()\n",
    "        # Converting all the tie values into bool so we can filter for the cells with ties\n",
    "        value[\"processed_behavior_recording_dataframe\"][value[\"ties_column\"]] = value[\"processed_behavior_recording_dataframe\"][value[\"ties_column\"]].astype(bool)\n",
    "    except:\n",
    "        value[\"processed_behavior_recording_dataframe\"] = current_processed_behavior_recording_dataframe\n",
    "        value[\"ties_column\"] = None"
   ]
  },
  {
   "cell_type": "markdown",
   "id": "10a8cf50",
   "metadata": {},
   "source": [
    "## Adding the session number"
   ]
  },
  {
   "cell_type": "markdown",
   "id": "1b477728",
   "metadata": {},
   "source": [
    "- We are adding the session number to all the trials. The session number is counting the number of recording sessions that have happened up until that trial. Usually, each session in the spreadsheet is divided up by a session's first row having the date filled in. So we will label a new session when a date is filled in."
   ]
  },
  {
   "cell_type": "markdown",
   "id": "3d0684e8",
   "metadata": {},
   "source": [
    "# NOTE: If there is a set column that divides the rows up by session, then enter it in the cell below between the quotation marks. Default is `\"date\"`"
   ]
  },
  {
   "cell_type": "markdown",
   "id": "221fc47a",
   "metadata": {},
   "source": [
    "# TODO: Recheck starting here"
   ]
  },
  {
   "cell_type": "code",
   "execution_count": 88,
   "id": "3850841d",
   "metadata": {},
   "outputs": [],
   "source": [
    "all_session_divider_column = \"\""
   ]
  },
  {
   "cell_type": "code",
   "execution_count": 89,
   "id": "f348210b",
   "metadata": {
    "scrolled": true
   },
   "outputs": [
    {
     "name": "stdout",
     "output_type": "stream",
     "text": [
      "Type the name of the column to be used to divide the rows into sessions. \n",
      "        Pick a column that has a value in the cell only with the first row of each session.\n",
      "        This is usually the \"date\" column.\n",
      "\n",
      "        If left blank, the default session divider column will be used. The default is \"date\"\n",
      "\n",
      "        The available columns are: Index(['date', 'cage', 'box', 'match', 'scorer', 'trial_1_time',\n",
      "       'trial_1_winner', 'trial_2_time', 'trial_2_winner', 'trial_3_time',\n",
      "       'trial_3_winner', 'trial_4_time', 'trial_4_winner', 'trial_5_time',\n",
      "       'trial_5_winner', 'trial_6_time', 'trial_6_winner', 'trial_7_time',\n",
      "       'trial_7_winner', 'trial_8_time', 'trial_8_winner', 'trial_9_time',\n",
      "       'trial_9_winner', 'trial_10_time', 'trial_10_winner', 'trial_11_time',\n",
      "       'trial_11_winner', 'trial_12_time', 'trial_12_winner', 'trial_13_time',\n",
      "       'trial_13_winner', 'trial_14_time', 'trial_14_winner', 'trial_15_time',\n",
      "       'trial_15_winner', 'trial_16_time', 'trial_16_winner', 'trial_17_time',\n",
      "       'trial_17_winner', 'trial_18_time', 'trial_18_winner', 'trial_19_time',\n",
      "       'trial_19_winner', 'trial_20_time', 'trial_20_winner', 'mouse_1_wins',\n",
      "       'mouse_2_wins', 'ties', 'sheet_name'],\n",
      "      dtype='object')\n",
      "\n",
      "        NOTE: If left blank, the column with \"date\" in the name will be used as the column\n",
      "        \n"
     ]
    }
   ],
   "source": [
    "for key, value in sheet_name_to_everything.items():\n",
    "    if not all_session_divider_column:\n",
    "        # Allowing the user to choose the column that indicates a new session\n",
    "        session_divider_column = input(\"\"\"Type the name of the column to be used to divide the rows into sessions. \n",
    "        Pick a column that has a value in the cell only with the first row of each session.\n",
    "        This is usually the \"date\" column.\n",
    "\n",
    "        If left blank, the default session divider column will be used. The default is \"date\"\n",
    "\n",
    "        The available columns are: {}\n",
    "\n",
    "        NOTE: If left blank, the column with \"date\" in the name will be used as the column\n",
    "        \"\"\".format(value[\"processed_behavior_recording_dataframe\"].columns))\n",
    "    else:\n",
    "        session_divider_column = all_session_divider_column\n",
    "        \n",
    "    # Making the column name lowercase and removing any punctuation\n",
    "    value[\"session_divider_column\"] = session_divider_column.lower().strip('\"').strip(\"'\").strip()\n",
    "\n",
    "    # Looks for columns with \"date\" in them if none is inputted\n",
    "    if not value[\"session_divider_column\"]:\n",
    "        value[\"session_divider_column\"] = [col for col in value[\"processed_behavior_recording_dataframe\"].columns if \"date\" in col.lower()][0]\n",
    "\n",
    "    # Checks if that column is in the dataframe\n",
    "    if value[\"session_divider_column\"] not in value[\"processed_behavior_recording_dataframe\"].columns:\n",
    "        print(\"WARNING: {} is not a column in {}\".format(value[\"session_divider_column\"], key))\n",
    "        warnings.warn(\"Look at warning from above or below\")\n",
    "        value[\"session_divider_column\"] = None\n",
    "    \n",
    "    # Standarizing all the session divider columns so that they are named date\n",
    "    if value[\"session_divider_column\"]:\n",
    "        value[\"processed_behavior_recording_dataframe\"] = value[\"processed_behavior_recording_dataframe\"].rename(columns={value[\"session_divider_column\"]: \"date\"})\n",
    "        value[\"session_divider_column\"] = \"date\""
   ]
  },
  {
   "cell_type": "code",
   "execution_count": null,
   "id": "a788c391",
   "metadata": {},
   "outputs": [],
   "source": []
  },
  {
   "cell_type": "markdown",
   "id": "5556e988",
   "metadata": {},
   "source": [
    "# TODO: Make this standarized between sheets and get difference for each row"
   ]
  },
  {
   "cell_type": "code",
   "execution_count": 90,
   "id": "192347f7",
   "metadata": {},
   "outputs": [],
   "source": [
    "for key, value in sheet_name_to_everything.items():\n",
    "    current_processed_behavior_recording_dataframe = value[\"processed_behavior_recording_dataframe\"].copy()\n",
    "    try:\n",
    "        value[\"processed_behavior_recording_dataframe\"][value[\"session_divider_column\"]] = value[\"processed_behavior_recording_dataframe\"][value[\"session_divider_column\"]].fillna(method='ffill')\n",
    "\n",
    "    except:\n",
    "        print(\"WARNING: {} does not have a session divider column\".format(key))\n",
    "        warnings.warn(\"Look at warning from above or below\")\n",
    "        value[\"processed_behavior_recording_dataframe\"] = current_processed_behavior_recording_dataframe"
   ]
  },
  {
   "cell_type": "code",
   "execution_count": 91,
   "id": "75cf8c7d",
   "metadata": {
    "scrolled": true
   },
   "outputs": [
    {
     "data": {
      "text/html": [
       "<div>\n",
       "<style scoped>\n",
       "    .dataframe tbody tr th:only-of-type {\n",
       "        vertical-align: middle;\n",
       "    }\n",
       "\n",
       "    .dataframe tbody tr th {\n",
       "        vertical-align: top;\n",
       "    }\n",
       "\n",
       "    .dataframe thead th {\n",
       "        text-align: right;\n",
       "    }\n",
       "</style>\n",
       "<table border=\"1\" class=\"dataframe\">\n",
       "  <thead>\n",
       "    <tr style=\"text-align: right;\">\n",
       "      <th></th>\n",
       "      <th>date</th>\n",
       "      <th>cage</th>\n",
       "      <th>box</th>\n",
       "      <th>match</th>\n",
       "      <th>scorer</th>\n",
       "      <th>trial_1_time</th>\n",
       "      <th>trial_1_winner</th>\n",
       "      <th>trial_2_time</th>\n",
       "      <th>trial_2_winner</th>\n",
       "      <th>trial_3_time</th>\n",
       "      <th>...</th>\n",
       "      <th>trial_18_time</th>\n",
       "      <th>trial_18_winner</th>\n",
       "      <th>trial_19_time</th>\n",
       "      <th>trial_19_winner</th>\n",
       "      <th>trial_20_time</th>\n",
       "      <th>trial_20_winner</th>\n",
       "      <th>mouse_1_wins</th>\n",
       "      <th>mouse_2_wins</th>\n",
       "      <th>ties</th>\n",
       "      <th>sheet_name</th>\n",
       "    </tr>\n",
       "  </thead>\n",
       "  <tbody>\n",
       "    <tr>\n",
       "      <th>0</th>\n",
       "      <td>2022-05-19</td>\n",
       "      <td>1</td>\n",
       "      <td>1.0</td>\n",
       "      <td>1.1 v 1.2</td>\n",
       "      <td>NaN</td>\n",
       "      <td>1:12-1:22</td>\n",
       "      <td>1.1</td>\n",
       "      <td>2:31-2:41</td>\n",
       "      <td>1.1</td>\n",
       "      <td>4:00-4:10</td>\n",
       "      <td>...</td>\n",
       "      <td>27:00-27:10</td>\n",
       "      <td>1.2</td>\n",
       "      <td>28:19-28:29</td>\n",
       "      <td>1.1</td>\n",
       "      <td>29:53-30:03</td>\n",
       "      <td>1.1</td>\n",
       "      <td>11.0</td>\n",
       "      <td>0</td>\n",
       "      <td>0.0</td>\n",
       "      <td>Master Master</td>\n",
       "    </tr>\n",
       "    <tr>\n",
       "      <th>1</th>\n",
       "      <td>2022-05-19</td>\n",
       "      <td>1</td>\n",
       "      <td>2.0</td>\n",
       "      <td>1.3 v 1.4</td>\n",
       "      <td>NaN</td>\n",
       "      <td>1:12-1:22</td>\n",
       "      <td>1.4</td>\n",
       "      <td>2:30-2:40</td>\n",
       "      <td>1.4</td>\n",
       "      <td>3:59-4:09</td>\n",
       "      <td>...</td>\n",
       "      <td>27:01-27:11</td>\n",
       "      <td>1.4</td>\n",
       "      <td>28:20-28:30</td>\n",
       "      <td>1.3</td>\n",
       "      <td>29:53-30:03</td>\n",
       "      <td>1.3</td>\n",
       "      <td>0.0</td>\n",
       "      <td>9</td>\n",
       "      <td>0.0</td>\n",
       "      <td>Master Master</td>\n",
       "    </tr>\n",
       "    <tr>\n",
       "      <th>2</th>\n",
       "      <td>2022-05-19</td>\n",
       "      <td>1</td>\n",
       "      <td>3.0</td>\n",
       "      <td>1.1 v 1.3</td>\n",
       "      <td>NaN</td>\n",
       "      <td>1:07-1:17</td>\n",
       "      <td>1.3</td>\n",
       "      <td>3:56-4:06</td>\n",
       "      <td>tie</td>\n",
       "      <td>5:14-5:24</td>\n",
       "      <td>...</td>\n",
       "      <td>28:16-28:26</td>\n",
       "      <td>1.3</td>\n",
       "      <td>29:49-29:59</td>\n",
       "      <td>1.3</td>\n",
       "      <td>NaN</td>\n",
       "      <td>NaN</td>\n",
       "      <td>NaN</td>\n",
       "      <td>NaN</td>\n",
       "      <td>NaN</td>\n",
       "      <td>Master Master</td>\n",
       "    </tr>\n",
       "    <tr>\n",
       "      <th>3</th>\n",
       "      <td>2022-05-19</td>\n",
       "      <td>1</td>\n",
       "      <td>4.0</td>\n",
       "      <td>1.2 v 1.4</td>\n",
       "      <td>NaN</td>\n",
       "      <td>1:06-1:16</td>\n",
       "      <td>1.4</td>\n",
       "      <td>2:25-2:35</td>\n",
       "      <td>1.2</td>\n",
       "      <td>3:54-4:04</td>\n",
       "      <td>...</td>\n",
       "      <td>26:56-27:06</td>\n",
       "      <td>1.4</td>\n",
       "      <td>28:15-28:25</td>\n",
       "      <td>1.4</td>\n",
       "      <td>29:48-29:58</td>\n",
       "      <td>1.4</td>\n",
       "      <td>NaN</td>\n",
       "      <td>checked whole row</td>\n",
       "      <td>NaN</td>\n",
       "      <td>Master Master</td>\n",
       "    </tr>\n",
       "    <tr>\n",
       "      <th>4</th>\n",
       "      <td>2022-05-19</td>\n",
       "      <td>1</td>\n",
       "      <td>2.0</td>\n",
       "      <td>1.2 v 1.3</td>\n",
       "      <td>NaN</td>\n",
       "      <td>1:11-1:21</td>\n",
       "      <td>1.2</td>\n",
       "      <td>2:30-2:40</td>\n",
       "      <td>1.3</td>\n",
       "      <td>4:00-4:10</td>\n",
       "      <td>...</td>\n",
       "      <td>27:01-27:11</td>\n",
       "      <td>1.2</td>\n",
       "      <td>28:19-28:29</td>\n",
       "      <td>1.2</td>\n",
       "      <td>29:53-30:03</td>\n",
       "      <td>1.2</td>\n",
       "      <td>NaN</td>\n",
       "      <td>checked whole row</td>\n",
       "      <td>NaN</td>\n",
       "      <td>Master Master</td>\n",
       "    </tr>\n",
       "  </tbody>\n",
       "</table>\n",
       "<p>5 rows × 49 columns</p>\n",
       "</div>"
      ],
      "text/plain": [
       "        date  cage  box      match  scorer trial_1_time trial_1_winner  \\\n",
       "0 2022-05-19     1  1.0  1.1 v 1.2     NaN    1:12-1:22            1.1   \n",
       "1 2022-05-19     1  2.0  1.3 v 1.4     NaN    1:12-1:22            1.4   \n",
       "2 2022-05-19     1  3.0  1.1 v 1.3     NaN    1:07-1:17            1.3   \n",
       "3 2022-05-19     1  4.0  1.2 v 1.4     NaN    1:06-1:16            1.4   \n",
       "4 2022-05-19     1  2.0  1.2 v 1.3     NaN    1:11-1:21            1.2   \n",
       "\n",
       "  trial_2_time trial_2_winner trial_3_time  ... trial_18_time trial_18_winner  \\\n",
       "0    2:31-2:41            1.1    4:00-4:10  ...   27:00-27:10             1.2   \n",
       "1    2:30-2:40            1.4    3:59-4:09  ...   27:01-27:11             1.4   \n",
       "2    3:56-4:06            tie    5:14-5:24  ...   28:16-28:26             1.3   \n",
       "3    2:25-2:35            1.2    3:54-4:04  ...   26:56-27:06             1.4   \n",
       "4    2:30-2:40            1.3    4:00-4:10  ...   27:01-27:11             1.2   \n",
       "\n",
       "  trial_19_time trial_19_winner trial_20_time trial_20_winner mouse_1_wins  \\\n",
       "0   28:19-28:29             1.1   29:53-30:03             1.1         11.0   \n",
       "1   28:20-28:30             1.3   29:53-30:03             1.3          0.0   \n",
       "2   29:49-29:59             1.3           NaN             NaN          NaN   \n",
       "3   28:15-28:25             1.4   29:48-29:58             1.4          NaN   \n",
       "4   28:19-28:29             1.2   29:53-30:03             1.2          NaN   \n",
       "\n",
       "        mouse_2_wins ties     sheet_name  \n",
       "0                  0  0.0  Master Master  \n",
       "1                  9  0.0  Master Master  \n",
       "2                NaN  NaN  Master Master  \n",
       "3  checked whole row  NaN  Master Master  \n",
       "4  checked whole row  NaN  Master Master  \n",
       "\n",
       "[5 rows x 49 columns]"
      ]
     },
     "execution_count": 91,
     "metadata": {},
     "output_type": "execute_result"
    }
   ],
   "source": [
    "value[\"processed_behavior_recording_dataframe\"].head()"
   ]
  },
  {
   "cell_type": "code",
   "execution_count": 92,
   "id": "ca567b95",
   "metadata": {},
   "outputs": [
    {
     "data": {
      "text/html": [
       "<div>\n",
       "<style scoped>\n",
       "    .dataframe tbody tr th:only-of-type {\n",
       "        vertical-align: middle;\n",
       "    }\n",
       "\n",
       "    .dataframe tbody tr th {\n",
       "        vertical-align: top;\n",
       "    }\n",
       "\n",
       "    .dataframe thead th {\n",
       "        text-align: right;\n",
       "    }\n",
       "</style>\n",
       "<table border=\"1\" class=\"dataframe\">\n",
       "  <thead>\n",
       "    <tr style=\"text-align: right;\">\n",
       "      <th></th>\n",
       "      <th>date</th>\n",
       "      <th>cage</th>\n",
       "      <th>box</th>\n",
       "      <th>match</th>\n",
       "      <th>scorer</th>\n",
       "      <th>trial_1_time</th>\n",
       "      <th>trial_1_winner</th>\n",
       "      <th>trial_2_time</th>\n",
       "      <th>trial_2_winner</th>\n",
       "      <th>trial_3_time</th>\n",
       "      <th>...</th>\n",
       "      <th>trial_18_time</th>\n",
       "      <th>trial_18_winner</th>\n",
       "      <th>trial_19_time</th>\n",
       "      <th>trial_19_winner</th>\n",
       "      <th>trial_20_time</th>\n",
       "      <th>trial_20_winner</th>\n",
       "      <th>mouse_1_wins</th>\n",
       "      <th>mouse_2_wins</th>\n",
       "      <th>ties</th>\n",
       "      <th>sheet_name</th>\n",
       "    </tr>\n",
       "  </thead>\n",
       "  <tbody>\n",
       "    <tr>\n",
       "      <th>43</th>\n",
       "      <td>2022-05-20</td>\n",
       "      <td>4</td>\n",
       "      <td>1.0</td>\n",
       "      <td>4.2 v 4.3</td>\n",
       "      <td>NaN</td>\n",
       "      <td>1:13-1:23</td>\n",
       "      <td>4.3</td>\n",
       "      <td>2:31-2:41</td>\n",
       "      <td>4.3</td>\n",
       "      <td>4:00-4:10</td>\n",
       "      <td>...</td>\n",
       "      <td>27:01-27:11</td>\n",
       "      <td>4.3</td>\n",
       "      <td>28:20-28:30</td>\n",
       "      <td>4.3</td>\n",
       "      <td>29:54-30:04</td>\n",
       "      <td>4.2</td>\n",
       "      <td>0.0</td>\n",
       "      <td>0</td>\n",
       "      <td>4.0</td>\n",
       "      <td>Master Master</td>\n",
       "    </tr>\n",
       "    <tr>\n",
       "      <th>44</th>\n",
       "      <td>2022-05-20</td>\n",
       "      <td>4</td>\n",
       "      <td>4.0</td>\n",
       "      <td>4.1 v 4.3</td>\n",
       "      <td>NaN</td>\n",
       "      <td>2:56-3:06</td>\n",
       "      <td>4.3</td>\n",
       "      <td>4:15-4:25</td>\n",
       "      <td>4.3</td>\n",
       "      <td>5:44-5:54</td>\n",
       "      <td>...</td>\n",
       "      <td>28:46-28:56</td>\n",
       "      <td>4.1</td>\n",
       "      <td>30:05-30:15</td>\n",
       "      <td>4.1</td>\n",
       "      <td>NaN</td>\n",
       "      <td>NaN</td>\n",
       "      <td>0.0</td>\n",
       "      <td>0</td>\n",
       "      <td>1.0</td>\n",
       "      <td>Master Master</td>\n",
       "    </tr>\n",
       "    <tr>\n",
       "      <th>45</th>\n",
       "      <td>2022-05-20</td>\n",
       "      <td>4</td>\n",
       "      <td>3.0</td>\n",
       "      <td>4.2 v 4.4</td>\n",
       "      <td>NaN</td>\n",
       "      <td>2:57-3:07</td>\n",
       "      <td>4.4</td>\n",
       "      <td>4:15-4:25</td>\n",
       "      <td>4.4</td>\n",
       "      <td>5:44-5:54</td>\n",
       "      <td>...</td>\n",
       "      <td>28:46-28:56</td>\n",
       "      <td>4.4</td>\n",
       "      <td>30:05-30:15</td>\n",
       "      <td>4.2</td>\n",
       "      <td>NaN</td>\n",
       "      <td>NaN</td>\n",
       "      <td>NaN</td>\n",
       "      <td>checked whole row</td>\n",
       "      <td>NaN</td>\n",
       "      <td>Master Master</td>\n",
       "    </tr>\n",
       "    <tr>\n",
       "      <th>46</th>\n",
       "      <td>2022-05-20</td>\n",
       "      <td>4</td>\n",
       "      <td>2.0</td>\n",
       "      <td>4.1 v 4.2</td>\n",
       "      <td>NaN</td>\n",
       "      <td>1:11-1:21</td>\n",
       "      <td>4.1</td>\n",
       "      <td>2:30-2:40</td>\n",
       "      <td>4.2</td>\n",
       "      <td>3:58-4:08</td>\n",
       "      <td>...</td>\n",
       "      <td>27:00-27:10</td>\n",
       "      <td>4.1</td>\n",
       "      <td>28:19-28:29</td>\n",
       "      <td>4.1</td>\n",
       "      <td>29:52-30:02</td>\n",
       "      <td>4.1</td>\n",
       "      <td>NaN</td>\n",
       "      <td>checked whole row</td>\n",
       "      <td>NaN</td>\n",
       "      <td>Master Master</td>\n",
       "    </tr>\n",
       "    <tr>\n",
       "      <th>47</th>\n",
       "      <td>2022-05-20</td>\n",
       "      <td>4</td>\n",
       "      <td>1.0</td>\n",
       "      <td>4.3 v 4.4</td>\n",
       "      <td>NaN</td>\n",
       "      <td>1:12-1:22</td>\n",
       "      <td>4.3</td>\n",
       "      <td>2:30-2:40</td>\n",
       "      <td>4.3</td>\n",
       "      <td>3:58-4:08</td>\n",
       "      <td>...</td>\n",
       "      <td>27:00-27:10</td>\n",
       "      <td>Tie</td>\n",
       "      <td>28:19-28:29</td>\n",
       "      <td>4.4</td>\n",
       "      <td>29:53-30:03</td>\n",
       "      <td>4.3</td>\n",
       "      <td>0.0</td>\n",
       "      <td>0</td>\n",
       "      <td>1.0</td>\n",
       "      <td>Master Master</td>\n",
       "    </tr>\n",
       "  </tbody>\n",
       "</table>\n",
       "<p>5 rows × 49 columns</p>\n",
       "</div>"
      ],
      "text/plain": [
       "         date  cage  box      match  scorer trial_1_time trial_1_winner  \\\n",
       "43 2022-05-20     4  1.0  4.2 v 4.3     NaN    1:13-1:23            4.3   \n",
       "44 2022-05-20     4  4.0  4.1 v 4.3     NaN    2:56-3:06            4.3   \n",
       "45 2022-05-20     4  3.0  4.2 v 4.4     NaN    2:57-3:07            4.4   \n",
       "46 2022-05-20     4  2.0  4.1 v 4.2     NaN    1:11-1:21            4.1   \n",
       "47 2022-05-20     4  1.0  4.3 v 4.4     NaN    1:12-1:22            4.3   \n",
       "\n",
       "   trial_2_time trial_2_winner trial_3_time  ... trial_18_time  \\\n",
       "43    2:31-2:41            4.3    4:00-4:10  ...   27:01-27:11   \n",
       "44    4:15-4:25            4.3    5:44-5:54  ...   28:46-28:56   \n",
       "45    4:15-4:25            4.4    5:44-5:54  ...   28:46-28:56   \n",
       "46    2:30-2:40            4.2    3:58-4:08  ...   27:00-27:10   \n",
       "47    2:30-2:40            4.3    3:58-4:08  ...   27:00-27:10   \n",
       "\n",
       "   trial_18_winner trial_19_time trial_19_winner trial_20_time  \\\n",
       "43             4.3   28:20-28:30             4.3   29:54-30:04   \n",
       "44             4.1   30:05-30:15             4.1           NaN   \n",
       "45             4.4   30:05-30:15             4.2           NaN   \n",
       "46             4.1   28:19-28:29             4.1   29:52-30:02   \n",
       "47             Tie   28:19-28:29             4.4   29:53-30:03   \n",
       "\n",
       "   trial_20_winner mouse_1_wins       mouse_2_wins ties     sheet_name  \n",
       "43             4.2          0.0                  0  4.0  Master Master  \n",
       "44             NaN          0.0                  0  1.0  Master Master  \n",
       "45             NaN          NaN  checked whole row  NaN  Master Master  \n",
       "46             4.1          NaN  checked whole row  NaN  Master Master  \n",
       "47             4.3          0.0                  0  1.0  Master Master  \n",
       "\n",
       "[5 rows x 49 columns]"
      ]
     },
     "execution_count": 92,
     "metadata": {},
     "output_type": "execute_result"
    }
   ],
   "source": [
    "value[\"processed_behavior_recording_dataframe\"].tail()"
   ]
  },
  {
   "cell_type": "markdown",
   "id": "f708c8a8",
   "metadata": {},
   "source": [
    "# Getting the Session number differences"
   ]
  },
  {
   "cell_type": "markdown",
   "id": "7ee5244c",
   "metadata": {},
   "source": [
    "- Getting the indexes of where each new session starts. So that we can add the session number to each row."
   ]
  },
  {
   "cell_type": "markdown",
   "id": "74411454",
   "metadata": {},
   "source": [
    "# TODO: Can remove set about not including tie columns"
   ]
  },
  {
   "cell_type": "code",
   "execution_count": 93,
   "id": "a581a200",
   "metadata": {
    "scrolled": false
   },
   "outputs": [
    {
     "data": {
      "text/plain": [
       "['trial_7_winner',\n",
       " 'trial_2_winner',\n",
       " 'trial_17_winner',\n",
       " 'date',\n",
       " 'trial_7_time',\n",
       " 'trial_13_time',\n",
       " 'trial_14_winner',\n",
       " 'trial_10_time',\n",
       " 'trial_2_time',\n",
       " 'trial_8_winner',\n",
       " 'trial_3_time',\n",
       " 'match',\n",
       " 'trial_15_time',\n",
       " 'trial_5_winner',\n",
       " 'trial_1_winner',\n",
       " 'trial_12_winner',\n",
       " 'trial_18_time',\n",
       " 'sheet_name',\n",
       " 'trial_19_winner',\n",
       " 'trial_20_time',\n",
       " 'box',\n",
       " 'trial_9_time',\n",
       " 'trial_18_winner',\n",
       " 'trial_1_time',\n",
       " 'trial_19_time',\n",
       " 'trial_12_time',\n",
       " 'trial_11_winner',\n",
       " 'trial_14_time',\n",
       " 'trial_8_time',\n",
       " 'trial_6_time',\n",
       " 'mouse_1_wins',\n",
       " 'trial_3_winner',\n",
       " 'ties',\n",
       " 'trial_6_winner',\n",
       " 'trial_20_winner',\n",
       " 'mouse_2_wins',\n",
       " 'trial_16_winner',\n",
       " 'trial_5_time',\n",
       " 'trial_9_winner',\n",
       " 'trial_13_winner',\n",
       " 'trial_15_winner',\n",
       " 'scorer',\n",
       " 'trial_17_time',\n",
       " 'trial_4_time',\n",
       " 'trial_11_time',\n",
       " 'trial_4_winner',\n",
       " 'trial_10_winner',\n",
       " 'trial_16_time',\n",
       " 'cage']"
      ]
     },
     "execution_count": 93,
     "metadata": {},
     "output_type": "execute_result"
    }
   ],
   "source": [
    "# Example of the columns that will be kept, removing the ties column\n",
    "list(set(value[\"processed_behavior_recording_dataframe\"].columns) - set([value[\"ties_column\"]]))"
   ]
  },
  {
   "cell_type": "code",
   "execution_count": 94,
   "id": "e3e8c273",
   "metadata": {},
   "outputs": [],
   "source": [
    "for key, value in sheet_name_to_everything.items():\n",
    "    # Removing tie columns because not all rows are ties, so we do not want to fill them in\n",
    "    if value[\"ties_column\"]:\n",
    "        non_ties_columns = list(set(value[\"processed_behavior_recording_dataframe\"].columns) - set([value[\"ties_column\"]]))\n",
    "        value[\"processed_behavior_recording_dataframe\"][non_ties_columns] = value[\"processed_behavior_recording_dataframe\"][non_ties_columns].fillna(method='ffill')\n",
    "    else:\n",
    "        # Filling all the empty cells with the value in the previous cell\n",
    "        value[\"processed_behavior_recording_dataframe\"] = value[\"processed_behavior_recording_dataframe\"].fillna(method='ffill')\n",
    "\n",
    "    try:\n",
    "        # Seeing which rows have a different session than the previous one\n",
    "        # This will be used to plot vertical lines for each new session\n",
    "        value[\"processed_behavior_recording_dataframe\"][\"session_number_difference\"] = value[\"processed_behavior_recording_dataframe\"][value[\"session_divider_column\"]].astype('category').cat.codes.diff()\n",
    "\n",
    "    \n",
    "    except:\n",
    "        print(\"WARNING: {} does not have a session divider column\".format(key))\n",
    "        warnings.warn(\"Look at warning from above or below\")"
   ]
  },
  {
   "cell_type": "code",
   "execution_count": 95,
   "id": "3a4a0b36",
   "metadata": {},
   "outputs": [
    {
     "data": {
      "text/html": [
       "<div>\n",
       "<style scoped>\n",
       "    .dataframe tbody tr th:only-of-type {\n",
       "        vertical-align: middle;\n",
       "    }\n",
       "\n",
       "    .dataframe tbody tr th {\n",
       "        vertical-align: top;\n",
       "    }\n",
       "\n",
       "    .dataframe thead th {\n",
       "        text-align: right;\n",
       "    }\n",
       "</style>\n",
       "<table border=\"1\" class=\"dataframe\">\n",
       "  <thead>\n",
       "    <tr style=\"text-align: right;\">\n",
       "      <th></th>\n",
       "      <th>date</th>\n",
       "      <th>cage</th>\n",
       "      <th>box</th>\n",
       "      <th>match</th>\n",
       "      <th>scorer</th>\n",
       "      <th>trial_1_time</th>\n",
       "      <th>trial_1_winner</th>\n",
       "      <th>trial_2_time</th>\n",
       "      <th>trial_2_winner</th>\n",
       "      <th>trial_3_time</th>\n",
       "      <th>...</th>\n",
       "      <th>trial_18_winner</th>\n",
       "      <th>trial_19_time</th>\n",
       "      <th>trial_19_winner</th>\n",
       "      <th>trial_20_time</th>\n",
       "      <th>trial_20_winner</th>\n",
       "      <th>mouse_1_wins</th>\n",
       "      <th>mouse_2_wins</th>\n",
       "      <th>ties</th>\n",
       "      <th>sheet_name</th>\n",
       "      <th>session_number_difference</th>\n",
       "    </tr>\n",
       "  </thead>\n",
       "  <tbody>\n",
       "    <tr>\n",
       "      <th>0</th>\n",
       "      <td>2022-05-19</td>\n",
       "      <td>1</td>\n",
       "      <td>1.0</td>\n",
       "      <td>1.1 v 1.2</td>\n",
       "      <td>NaN</td>\n",
       "      <td>1:12-1:22</td>\n",
       "      <td>1.1</td>\n",
       "      <td>2:31-2:41</td>\n",
       "      <td>1.1</td>\n",
       "      <td>4:00-4:10</td>\n",
       "      <td>...</td>\n",
       "      <td>1.2</td>\n",
       "      <td>28:19-28:29</td>\n",
       "      <td>1.1</td>\n",
       "      <td>29:53-30:03</td>\n",
       "      <td>1.1</td>\n",
       "      <td>11.0</td>\n",
       "      <td>0</td>\n",
       "      <td>0.0</td>\n",
       "      <td>Master Master</td>\n",
       "      <td>NaN</td>\n",
       "    </tr>\n",
       "    <tr>\n",
       "      <th>1</th>\n",
       "      <td>2022-05-19</td>\n",
       "      <td>1</td>\n",
       "      <td>2.0</td>\n",
       "      <td>1.3 v 1.4</td>\n",
       "      <td>NaN</td>\n",
       "      <td>1:12-1:22</td>\n",
       "      <td>1.4</td>\n",
       "      <td>2:30-2:40</td>\n",
       "      <td>1.4</td>\n",
       "      <td>3:59-4:09</td>\n",
       "      <td>...</td>\n",
       "      <td>1.4</td>\n",
       "      <td>28:20-28:30</td>\n",
       "      <td>1.3</td>\n",
       "      <td>29:53-30:03</td>\n",
       "      <td>1.3</td>\n",
       "      <td>0.0</td>\n",
       "      <td>9</td>\n",
       "      <td>0.0</td>\n",
       "      <td>Master Master</td>\n",
       "      <td>0.0</td>\n",
       "    </tr>\n",
       "    <tr>\n",
       "      <th>2</th>\n",
       "      <td>2022-05-19</td>\n",
       "      <td>1</td>\n",
       "      <td>3.0</td>\n",
       "      <td>1.1 v 1.3</td>\n",
       "      <td>NaN</td>\n",
       "      <td>1:07-1:17</td>\n",
       "      <td>1.3</td>\n",
       "      <td>3:56-4:06</td>\n",
       "      <td>tie</td>\n",
       "      <td>5:14-5:24</td>\n",
       "      <td>...</td>\n",
       "      <td>1.3</td>\n",
       "      <td>29:49-29:59</td>\n",
       "      <td>1.3</td>\n",
       "      <td>29:53-30:03</td>\n",
       "      <td>1.3</td>\n",
       "      <td>0.0</td>\n",
       "      <td>9</td>\n",
       "      <td>0.0</td>\n",
       "      <td>Master Master</td>\n",
       "      <td>0.0</td>\n",
       "    </tr>\n",
       "    <tr>\n",
       "      <th>3</th>\n",
       "      <td>2022-05-19</td>\n",
       "      <td>1</td>\n",
       "      <td>4.0</td>\n",
       "      <td>1.2 v 1.4</td>\n",
       "      <td>NaN</td>\n",
       "      <td>1:06-1:16</td>\n",
       "      <td>1.4</td>\n",
       "      <td>2:25-2:35</td>\n",
       "      <td>1.2</td>\n",
       "      <td>3:54-4:04</td>\n",
       "      <td>...</td>\n",
       "      <td>1.4</td>\n",
       "      <td>28:15-28:25</td>\n",
       "      <td>1.4</td>\n",
       "      <td>29:48-29:58</td>\n",
       "      <td>1.4</td>\n",
       "      <td>0.0</td>\n",
       "      <td>checked whole row</td>\n",
       "      <td>0.0</td>\n",
       "      <td>Master Master</td>\n",
       "      <td>0.0</td>\n",
       "    </tr>\n",
       "    <tr>\n",
       "      <th>4</th>\n",
       "      <td>2022-05-19</td>\n",
       "      <td>1</td>\n",
       "      <td>2.0</td>\n",
       "      <td>1.2 v 1.3</td>\n",
       "      <td>NaN</td>\n",
       "      <td>1:11-1:21</td>\n",
       "      <td>1.2</td>\n",
       "      <td>2:30-2:40</td>\n",
       "      <td>1.3</td>\n",
       "      <td>4:00-4:10</td>\n",
       "      <td>...</td>\n",
       "      <td>1.2</td>\n",
       "      <td>28:19-28:29</td>\n",
       "      <td>1.2</td>\n",
       "      <td>29:53-30:03</td>\n",
       "      <td>1.2</td>\n",
       "      <td>0.0</td>\n",
       "      <td>checked whole row</td>\n",
       "      <td>0.0</td>\n",
       "      <td>Master Master</td>\n",
       "      <td>0.0</td>\n",
       "    </tr>\n",
       "    <tr>\n",
       "      <th>5</th>\n",
       "      <td>2022-05-19</td>\n",
       "      <td>1</td>\n",
       "      <td>1.0</td>\n",
       "      <td>1.1 v 1.4</td>\n",
       "      <td>NaN</td>\n",
       "      <td>1.12-1.22</td>\n",
       "      <td>1.4</td>\n",
       "      <td>1.30-1.40</td>\n",
       "      <td>1.1</td>\n",
       "      <td>4.00-4.10</td>\n",
       "      <td>...</td>\n",
       "      <td>1.4</td>\n",
       "      <td>28.20-28.30</td>\n",
       "      <td>1.4</td>\n",
       "      <td>29.53-30.03</td>\n",
       "      <td>1.1</td>\n",
       "      <td>0.0</td>\n",
       "      <td>checked whole row</td>\n",
       "      <td>0.0</td>\n",
       "      <td>Master Master</td>\n",
       "      <td>0.0</td>\n",
       "    </tr>\n",
       "    <tr>\n",
       "      <th>6</th>\n",
       "      <td>2022-05-20</td>\n",
       "      <td>1</td>\n",
       "      <td>4.0</td>\n",
       "      <td>1.1 v 1.4</td>\n",
       "      <td>NaN</td>\n",
       "      <td>1:08-1:18</td>\n",
       "      <td>1.1</td>\n",
       "      <td>2:28-2:38</td>\n",
       "      <td>1.1</td>\n",
       "      <td>3:56-4:06</td>\n",
       "      <td>...</td>\n",
       "      <td>Tie</td>\n",
       "      <td>28:17-28:27</td>\n",
       "      <td>1.4</td>\n",
       "      <td>NO TRIAL</td>\n",
       "      <td>NO TRIAL</td>\n",
       "      <td>16.0</td>\n",
       "      <td>2</td>\n",
       "      <td>1.0</td>\n",
       "      <td>Master Master</td>\n",
       "      <td>1.0</td>\n",
       "    </tr>\n",
       "    <tr>\n",
       "      <th>7</th>\n",
       "      <td>2022-05-20</td>\n",
       "      <td>1</td>\n",
       "      <td>3.0</td>\n",
       "      <td>1.2 v 1.3</td>\n",
       "      <td>NaN</td>\n",
       "      <td>1:10-1:20</td>\n",
       "      <td>1.2</td>\n",
       "      <td>2:28-2:38</td>\n",
       "      <td>1.2</td>\n",
       "      <td>3:57-4:07</td>\n",
       "      <td>...</td>\n",
       "      <td>1.2</td>\n",
       "      <td>28:19-28:29</td>\n",
       "      <td>1.3</td>\n",
       "      <td>NO TRIAL</td>\n",
       "      <td>NO TRIAL</td>\n",
       "      <td>16.0</td>\n",
       "      <td>2</td>\n",
       "      <td>1.0</td>\n",
       "      <td>Master Master</td>\n",
       "      <td>0.0</td>\n",
       "    </tr>\n",
       "    <tr>\n",
       "      <th>8</th>\n",
       "      <td>2022-05-20</td>\n",
       "      <td>1</td>\n",
       "      <td>2.0</td>\n",
       "      <td>1.1 v 1.3</td>\n",
       "      <td>NaN</td>\n",
       "      <td>1:05-1:15</td>\n",
       "      <td>1.1</td>\n",
       "      <td>2:24-2:34</td>\n",
       "      <td>tie</td>\n",
       "      <td>3:53-4:03</td>\n",
       "      <td>...</td>\n",
       "      <td>1.1</td>\n",
       "      <td>28:13-28:23</td>\n",
       "      <td>1.1</td>\n",
       "      <td>29:47-29:57</td>\n",
       "      <td>1.1</td>\n",
       "      <td>16.0</td>\n",
       "      <td>checked whole row</td>\n",
       "      <td>1.0</td>\n",
       "      <td>Master Master</td>\n",
       "      <td>0.0</td>\n",
       "    </tr>\n",
       "    <tr>\n",
       "      <th>9</th>\n",
       "      <td>2022-05-20</td>\n",
       "      <td>1</td>\n",
       "      <td>1.0</td>\n",
       "      <td>1.2 v 1.4</td>\n",
       "      <td>NaN</td>\n",
       "      <td>1:05-1:15</td>\n",
       "      <td>1.2</td>\n",
       "      <td>2:26-2:36</td>\n",
       "      <td>1.4</td>\n",
       "      <td>3:52-4:02</td>\n",
       "      <td>...</td>\n",
       "      <td>1.2</td>\n",
       "      <td>28:15-28_26</td>\n",
       "      <td>1.2</td>\n",
       "      <td>29:47-29:57</td>\n",
       "      <td>1.1</td>\n",
       "      <td>16.0</td>\n",
       "      <td>checked whole row</td>\n",
       "      <td>1.0</td>\n",
       "      <td>Master Master</td>\n",
       "      <td>0.0</td>\n",
       "    </tr>\n",
       "    <tr>\n",
       "      <th>10</th>\n",
       "      <td>2022-05-20</td>\n",
       "      <td>1</td>\n",
       "      <td>4.0</td>\n",
       "      <td>1.1 v 1.2</td>\n",
       "      <td>NaN</td>\n",
       "      <td>1:06-1:16</td>\n",
       "      <td>1.1</td>\n",
       "      <td>2:25-2:35</td>\n",
       "      <td>Tie</td>\n",
       "      <td>3:54-4:04</td>\n",
       "      <td>...</td>\n",
       "      <td>1.1</td>\n",
       "      <td>28:15-28:25</td>\n",
       "      <td>Tie</td>\n",
       "      <td>NO TRIAL</td>\n",
       "      <td>NO TRIAL</td>\n",
       "      <td>5.0</td>\n",
       "      <td>0</td>\n",
       "      <td>10.0</td>\n",
       "      <td>Master Master</td>\n",
       "      <td>0.0</td>\n",
       "    </tr>\n",
       "    <tr>\n",
       "      <th>11</th>\n",
       "      <td>2022-05-20</td>\n",
       "      <td>1</td>\n",
       "      <td>3.0</td>\n",
       "      <td>1.3 v 1.4</td>\n",
       "      <td>NaN</td>\n",
       "      <td>1:07-1:17</td>\n",
       "      <td>1.4</td>\n",
       "      <td>2:26-2:36</td>\n",
       "      <td>1.3</td>\n",
       "      <td>3:55-4:05</td>\n",
       "      <td>...</td>\n",
       "      <td>1.4</td>\n",
       "      <td>28:15-28:25</td>\n",
       "      <td>1.4</td>\n",
       "      <td>29:47-29:57</td>\n",
       "      <td>1.3</td>\n",
       "      <td>5.0</td>\n",
       "      <td>0</td>\n",
       "      <td>10.0</td>\n",
       "      <td>Master Master</td>\n",
       "      <td>0.0</td>\n",
       "    </tr>\n",
       "    <tr>\n",
       "      <th>12</th>\n",
       "      <td>2022-05-19</td>\n",
       "      <td>2</td>\n",
       "      <td>3.0</td>\n",
       "      <td>2.1 v 2.2</td>\n",
       "      <td>NaN</td>\n",
       "      <td>1:14-1:24</td>\n",
       "      <td>2.1</td>\n",
       "      <td>02:34-02:44</td>\n",
       "      <td>2.1</td>\n",
       "      <td>4:03-4:13</td>\n",
       "      <td>...</td>\n",
       "      <td>2.2</td>\n",
       "      <td>28:25-28:35</td>\n",
       "      <td>2.2</td>\n",
       "      <td>29:58-30:08</td>\n",
       "      <td>2.1</td>\n",
       "      <td>5.0</td>\n",
       "      <td>0</td>\n",
       "      <td>10.0</td>\n",
       "      <td>Master Master</td>\n",
       "      <td>-1.0</td>\n",
       "    </tr>\n",
       "    <tr>\n",
       "      <th>13</th>\n",
       "      <td>2022-05-19</td>\n",
       "      <td>2</td>\n",
       "      <td>4.0</td>\n",
       "      <td>2.3 v 2.4</td>\n",
       "      <td>NaN</td>\n",
       "      <td>2.15-2.25</td>\n",
       "      <td>2.3</td>\n",
       "      <td>2.33-2.43</td>\n",
       "      <td>2.3</td>\n",
       "      <td>4.02-4.12</td>\n",
       "      <td>...</td>\n",
       "      <td>2.4</td>\n",
       "      <td>28.24-28.34</td>\n",
       "      <td>2.3</td>\n",
       "      <td>29.57-30.07</td>\n",
       "      <td>2.3</td>\n",
       "      <td>5.0</td>\n",
       "      <td>0</td>\n",
       "      <td>10.0</td>\n",
       "      <td>Master Master</td>\n",
       "      <td>0.0</td>\n",
       "    </tr>\n",
       "    <tr>\n",
       "      <th>14</th>\n",
       "      <td>2022-05-19</td>\n",
       "      <td>2</td>\n",
       "      <td>1.0</td>\n",
       "      <td>2.1 v 2.3</td>\n",
       "      <td>NaN</td>\n",
       "      <td>1:04-1:14</td>\n",
       "      <td>2.3</td>\n",
       "      <td>2:24-2:34</td>\n",
       "      <td>2.3</td>\n",
       "      <td>3:53-4:03</td>\n",
       "      <td>...</td>\n",
       "      <td>2.1</td>\n",
       "      <td>28:13-28:23</td>\n",
       "      <td>2.3</td>\n",
       "      <td>29.57-30.07</td>\n",
       "      <td>2.3</td>\n",
       "      <td>7.0</td>\n",
       "      <td>0</td>\n",
       "      <td>0.0</td>\n",
       "      <td>Master Master</td>\n",
       "      <td>0.0</td>\n",
       "    </tr>\n",
       "  </tbody>\n",
       "</table>\n",
       "<p>15 rows × 50 columns</p>\n",
       "</div>"
      ],
      "text/plain": [
       "         date  cage  box      match  scorer trial_1_time trial_1_winner  \\\n",
       "0  2022-05-19     1  1.0  1.1 v 1.2     NaN    1:12-1:22            1.1   \n",
       "1  2022-05-19     1  2.0  1.3 v 1.4     NaN    1:12-1:22            1.4   \n",
       "2  2022-05-19     1  3.0  1.1 v 1.3     NaN    1:07-1:17            1.3   \n",
       "3  2022-05-19     1  4.0  1.2 v 1.4     NaN    1:06-1:16            1.4   \n",
       "4  2022-05-19     1  2.0  1.2 v 1.3     NaN    1:11-1:21            1.2   \n",
       "5  2022-05-19     1  1.0  1.1 v 1.4     NaN    1.12-1.22            1.4   \n",
       "6  2022-05-20     1  4.0  1.1 v 1.4     NaN    1:08-1:18            1.1   \n",
       "7  2022-05-20     1  3.0  1.2 v 1.3     NaN    1:10-1:20            1.2   \n",
       "8  2022-05-20     1  2.0  1.1 v 1.3     NaN    1:05-1:15            1.1   \n",
       "9  2022-05-20     1  1.0  1.2 v 1.4     NaN    1:05-1:15            1.2   \n",
       "10 2022-05-20     1  4.0  1.1 v 1.2     NaN    1:06-1:16            1.1   \n",
       "11 2022-05-20     1  3.0  1.3 v 1.4     NaN    1:07-1:17            1.4   \n",
       "12 2022-05-19     2  3.0  2.1 v 2.2     NaN    1:14-1:24            2.1   \n",
       "13 2022-05-19     2  4.0  2.3 v 2.4     NaN    2.15-2.25            2.3   \n",
       "14 2022-05-19     2  1.0  2.1 v 2.3     NaN    1:04-1:14            2.3   \n",
       "\n",
       "   trial_2_time trial_2_winner trial_3_time  ... trial_18_winner  \\\n",
       "0     2:31-2:41            1.1    4:00-4:10  ...             1.2   \n",
       "1     2:30-2:40            1.4    3:59-4:09  ...             1.4   \n",
       "2     3:56-4:06            tie    5:14-5:24  ...             1.3   \n",
       "3     2:25-2:35            1.2    3:54-4:04  ...             1.4   \n",
       "4     2:30-2:40            1.3    4:00-4:10  ...             1.2   \n",
       "5     1.30-1.40            1.1    4.00-4.10  ...             1.4   \n",
       "6     2:28-2:38            1.1    3:56-4:06  ...             Tie   \n",
       "7     2:28-2:38            1.2    3:57-4:07  ...             1.2   \n",
       "8     2:24-2:34            tie    3:53-4:03  ...             1.1   \n",
       "9     2:26-2:36            1.4    3:52-4:02  ...             1.2   \n",
       "10    2:25-2:35            Tie    3:54-4:04  ...             1.1   \n",
       "11    2:26-2:36            1.3    3:55-4:05  ...             1.4   \n",
       "12  02:34-02:44            2.1    4:03-4:13  ...             2.2   \n",
       "13    2.33-2.43            2.3    4.02-4.12  ...             2.4   \n",
       "14    2:24-2:34            2.3    3:53-4:03  ...             2.1   \n",
       "\n",
       "   trial_19_time trial_19_winner trial_20_time trial_20_winner mouse_1_wins  \\\n",
       "0    28:19-28:29             1.1   29:53-30:03             1.1         11.0   \n",
       "1    28:20-28:30             1.3   29:53-30:03             1.3          0.0   \n",
       "2    29:49-29:59             1.3   29:53-30:03             1.3          0.0   \n",
       "3    28:15-28:25             1.4   29:48-29:58             1.4          0.0   \n",
       "4    28:19-28:29             1.2   29:53-30:03             1.2          0.0   \n",
       "5    28.20-28.30             1.4   29.53-30.03             1.1          0.0   \n",
       "6    28:17-28:27             1.4      NO TRIAL        NO TRIAL         16.0   \n",
       "7    28:19-28:29             1.3      NO TRIAL        NO TRIAL         16.0   \n",
       "8    28:13-28:23             1.1   29:47-29:57             1.1         16.0   \n",
       "9    28:15-28_26             1.2   29:47-29:57             1.1         16.0   \n",
       "10   28:15-28:25             Tie      NO TRIAL        NO TRIAL          5.0   \n",
       "11   28:15-28:25             1.4   29:47-29:57             1.3          5.0   \n",
       "12   28:25-28:35             2.2   29:58-30:08             2.1          5.0   \n",
       "13   28.24-28.34             2.3   29.57-30.07             2.3          5.0   \n",
       "14   28:13-28:23             2.3   29.57-30.07             2.3          7.0   \n",
       "\n",
       "         mouse_2_wins  ties     sheet_name session_number_difference  \n",
       "0                   0   0.0  Master Master                       NaN  \n",
       "1                   9   0.0  Master Master                       0.0  \n",
       "2                   9   0.0  Master Master                       0.0  \n",
       "3   checked whole row   0.0  Master Master                       0.0  \n",
       "4   checked whole row   0.0  Master Master                       0.0  \n",
       "5   checked whole row   0.0  Master Master                       0.0  \n",
       "6                   2   1.0  Master Master                       1.0  \n",
       "7                   2   1.0  Master Master                       0.0  \n",
       "8   checked whole row   1.0  Master Master                       0.0  \n",
       "9   checked whole row   1.0  Master Master                       0.0  \n",
       "10                  0  10.0  Master Master                       0.0  \n",
       "11                  0  10.0  Master Master                       0.0  \n",
       "12                  0  10.0  Master Master                      -1.0  \n",
       "13                  0  10.0  Master Master                       0.0  \n",
       "14                  0   0.0  Master Master                       0.0  \n",
       "\n",
       "[15 rows x 50 columns]"
      ]
     },
     "execution_count": 95,
     "metadata": {},
     "output_type": "execute_result"
    }
   ],
   "source": [
    "value[\"processed_behavior_recording_dataframe\"].head(n=15)"
   ]
  },
  {
   "cell_type": "code",
   "execution_count": 96,
   "id": "d8cfbbb2",
   "metadata": {},
   "outputs": [
    {
     "data": {
      "text/html": [
       "<div>\n",
       "<style scoped>\n",
       "    .dataframe tbody tr th:only-of-type {\n",
       "        vertical-align: middle;\n",
       "    }\n",
       "\n",
       "    .dataframe tbody tr th {\n",
       "        vertical-align: top;\n",
       "    }\n",
       "\n",
       "    .dataframe thead th {\n",
       "        text-align: right;\n",
       "    }\n",
       "</style>\n",
       "<table border=\"1\" class=\"dataframe\">\n",
       "  <thead>\n",
       "    <tr style=\"text-align: right;\">\n",
       "      <th></th>\n",
       "      <th>date</th>\n",
       "      <th>cage</th>\n",
       "      <th>box</th>\n",
       "      <th>match</th>\n",
       "      <th>scorer</th>\n",
       "      <th>trial_1_time</th>\n",
       "      <th>trial_1_winner</th>\n",
       "      <th>trial_2_time</th>\n",
       "      <th>trial_2_winner</th>\n",
       "      <th>trial_3_time</th>\n",
       "      <th>...</th>\n",
       "      <th>trial_18_winner</th>\n",
       "      <th>trial_19_time</th>\n",
       "      <th>trial_19_winner</th>\n",
       "      <th>trial_20_time</th>\n",
       "      <th>trial_20_winner</th>\n",
       "      <th>mouse_1_wins</th>\n",
       "      <th>mouse_2_wins</th>\n",
       "      <th>ties</th>\n",
       "      <th>sheet_name</th>\n",
       "      <th>session_number_difference</th>\n",
       "    </tr>\n",
       "  </thead>\n",
       "  <tbody>\n",
       "    <tr>\n",
       "      <th>0</th>\n",
       "      <td>2022-05-19</td>\n",
       "      <td>1</td>\n",
       "      <td>1.0</td>\n",
       "      <td>1.1 v 1.2</td>\n",
       "      <td>NaN</td>\n",
       "      <td>1:12-1:22</td>\n",
       "      <td>1.1</td>\n",
       "      <td>2:31-2:41</td>\n",
       "      <td>1.1</td>\n",
       "      <td>4:00-4:10</td>\n",
       "      <td>...</td>\n",
       "      <td>1.2</td>\n",
       "      <td>28:19-28:29</td>\n",
       "      <td>1.1</td>\n",
       "      <td>29:53-30:03</td>\n",
       "      <td>1.1</td>\n",
       "      <td>11.0</td>\n",
       "      <td>0</td>\n",
       "      <td>0.0</td>\n",
       "      <td>Master Master</td>\n",
       "      <td>NaN</td>\n",
       "    </tr>\n",
       "    <tr>\n",
       "      <th>1</th>\n",
       "      <td>2022-05-19</td>\n",
       "      <td>1</td>\n",
       "      <td>2.0</td>\n",
       "      <td>1.3 v 1.4</td>\n",
       "      <td>NaN</td>\n",
       "      <td>1:12-1:22</td>\n",
       "      <td>1.4</td>\n",
       "      <td>2:30-2:40</td>\n",
       "      <td>1.4</td>\n",
       "      <td>3:59-4:09</td>\n",
       "      <td>...</td>\n",
       "      <td>1.4</td>\n",
       "      <td>28:20-28:30</td>\n",
       "      <td>1.3</td>\n",
       "      <td>29:53-30:03</td>\n",
       "      <td>1.3</td>\n",
       "      <td>0.0</td>\n",
       "      <td>9</td>\n",
       "      <td>0.0</td>\n",
       "      <td>Master Master</td>\n",
       "      <td>0.0</td>\n",
       "    </tr>\n",
       "    <tr>\n",
       "      <th>2</th>\n",
       "      <td>2022-05-19</td>\n",
       "      <td>1</td>\n",
       "      <td>3.0</td>\n",
       "      <td>1.1 v 1.3</td>\n",
       "      <td>NaN</td>\n",
       "      <td>1:07-1:17</td>\n",
       "      <td>1.3</td>\n",
       "      <td>3:56-4:06</td>\n",
       "      <td>tie</td>\n",
       "      <td>5:14-5:24</td>\n",
       "      <td>...</td>\n",
       "      <td>1.3</td>\n",
       "      <td>29:49-29:59</td>\n",
       "      <td>1.3</td>\n",
       "      <td>29:53-30:03</td>\n",
       "      <td>1.3</td>\n",
       "      <td>0.0</td>\n",
       "      <td>9</td>\n",
       "      <td>0.0</td>\n",
       "      <td>Master Master</td>\n",
       "      <td>0.0</td>\n",
       "    </tr>\n",
       "    <tr>\n",
       "      <th>3</th>\n",
       "      <td>2022-05-19</td>\n",
       "      <td>1</td>\n",
       "      <td>4.0</td>\n",
       "      <td>1.2 v 1.4</td>\n",
       "      <td>NaN</td>\n",
       "      <td>1:06-1:16</td>\n",
       "      <td>1.4</td>\n",
       "      <td>2:25-2:35</td>\n",
       "      <td>1.2</td>\n",
       "      <td>3:54-4:04</td>\n",
       "      <td>...</td>\n",
       "      <td>1.4</td>\n",
       "      <td>28:15-28:25</td>\n",
       "      <td>1.4</td>\n",
       "      <td>29:48-29:58</td>\n",
       "      <td>1.4</td>\n",
       "      <td>0.0</td>\n",
       "      <td>checked whole row</td>\n",
       "      <td>0.0</td>\n",
       "      <td>Master Master</td>\n",
       "      <td>0.0</td>\n",
       "    </tr>\n",
       "    <tr>\n",
       "      <th>4</th>\n",
       "      <td>2022-05-19</td>\n",
       "      <td>1</td>\n",
       "      <td>2.0</td>\n",
       "      <td>1.2 v 1.3</td>\n",
       "      <td>NaN</td>\n",
       "      <td>1:11-1:21</td>\n",
       "      <td>1.2</td>\n",
       "      <td>2:30-2:40</td>\n",
       "      <td>1.3</td>\n",
       "      <td>4:00-4:10</td>\n",
       "      <td>...</td>\n",
       "      <td>1.2</td>\n",
       "      <td>28:19-28:29</td>\n",
       "      <td>1.2</td>\n",
       "      <td>29:53-30:03</td>\n",
       "      <td>1.2</td>\n",
       "      <td>0.0</td>\n",
       "      <td>checked whole row</td>\n",
       "      <td>0.0</td>\n",
       "      <td>Master Master</td>\n",
       "      <td>0.0</td>\n",
       "    </tr>\n",
       "    <tr>\n",
       "      <th>5</th>\n",
       "      <td>2022-05-19</td>\n",
       "      <td>1</td>\n",
       "      <td>1.0</td>\n",
       "      <td>1.1 v 1.4</td>\n",
       "      <td>NaN</td>\n",
       "      <td>1.12-1.22</td>\n",
       "      <td>1.4</td>\n",
       "      <td>1.30-1.40</td>\n",
       "      <td>1.1</td>\n",
       "      <td>4.00-4.10</td>\n",
       "      <td>...</td>\n",
       "      <td>1.4</td>\n",
       "      <td>28.20-28.30</td>\n",
       "      <td>1.4</td>\n",
       "      <td>29.53-30.03</td>\n",
       "      <td>1.1</td>\n",
       "      <td>0.0</td>\n",
       "      <td>checked whole row</td>\n",
       "      <td>0.0</td>\n",
       "      <td>Master Master</td>\n",
       "      <td>0.0</td>\n",
       "    </tr>\n",
       "    <tr>\n",
       "      <th>6</th>\n",
       "      <td>2022-05-20</td>\n",
       "      <td>1</td>\n",
       "      <td>4.0</td>\n",
       "      <td>1.1 v 1.4</td>\n",
       "      <td>NaN</td>\n",
       "      <td>1:08-1:18</td>\n",
       "      <td>1.1</td>\n",
       "      <td>2:28-2:38</td>\n",
       "      <td>1.1</td>\n",
       "      <td>3:56-4:06</td>\n",
       "      <td>...</td>\n",
       "      <td>Tie</td>\n",
       "      <td>28:17-28:27</td>\n",
       "      <td>1.4</td>\n",
       "      <td>NO TRIAL</td>\n",
       "      <td>NO TRIAL</td>\n",
       "      <td>16.0</td>\n",
       "      <td>2</td>\n",
       "      <td>1.0</td>\n",
       "      <td>Master Master</td>\n",
       "      <td>1.0</td>\n",
       "    </tr>\n",
       "    <tr>\n",
       "      <th>7</th>\n",
       "      <td>2022-05-20</td>\n",
       "      <td>1</td>\n",
       "      <td>3.0</td>\n",
       "      <td>1.2 v 1.3</td>\n",
       "      <td>NaN</td>\n",
       "      <td>1:10-1:20</td>\n",
       "      <td>1.2</td>\n",
       "      <td>2:28-2:38</td>\n",
       "      <td>1.2</td>\n",
       "      <td>3:57-4:07</td>\n",
       "      <td>...</td>\n",
       "      <td>1.2</td>\n",
       "      <td>28:19-28:29</td>\n",
       "      <td>1.3</td>\n",
       "      <td>NO TRIAL</td>\n",
       "      <td>NO TRIAL</td>\n",
       "      <td>16.0</td>\n",
       "      <td>2</td>\n",
       "      <td>1.0</td>\n",
       "      <td>Master Master</td>\n",
       "      <td>0.0</td>\n",
       "    </tr>\n",
       "    <tr>\n",
       "      <th>8</th>\n",
       "      <td>2022-05-20</td>\n",
       "      <td>1</td>\n",
       "      <td>2.0</td>\n",
       "      <td>1.1 v 1.3</td>\n",
       "      <td>NaN</td>\n",
       "      <td>1:05-1:15</td>\n",
       "      <td>1.1</td>\n",
       "      <td>2:24-2:34</td>\n",
       "      <td>tie</td>\n",
       "      <td>3:53-4:03</td>\n",
       "      <td>...</td>\n",
       "      <td>1.1</td>\n",
       "      <td>28:13-28:23</td>\n",
       "      <td>1.1</td>\n",
       "      <td>29:47-29:57</td>\n",
       "      <td>1.1</td>\n",
       "      <td>16.0</td>\n",
       "      <td>checked whole row</td>\n",
       "      <td>1.0</td>\n",
       "      <td>Master Master</td>\n",
       "      <td>0.0</td>\n",
       "    </tr>\n",
       "    <tr>\n",
       "      <th>9</th>\n",
       "      <td>2022-05-20</td>\n",
       "      <td>1</td>\n",
       "      <td>1.0</td>\n",
       "      <td>1.2 v 1.4</td>\n",
       "      <td>NaN</td>\n",
       "      <td>1:05-1:15</td>\n",
       "      <td>1.2</td>\n",
       "      <td>2:26-2:36</td>\n",
       "      <td>1.4</td>\n",
       "      <td>3:52-4:02</td>\n",
       "      <td>...</td>\n",
       "      <td>1.2</td>\n",
       "      <td>28:15-28_26</td>\n",
       "      <td>1.2</td>\n",
       "      <td>29:47-29:57</td>\n",
       "      <td>1.1</td>\n",
       "      <td>16.0</td>\n",
       "      <td>checked whole row</td>\n",
       "      <td>1.0</td>\n",
       "      <td>Master Master</td>\n",
       "      <td>0.0</td>\n",
       "    </tr>\n",
       "    <tr>\n",
       "      <th>10</th>\n",
       "      <td>2022-05-20</td>\n",
       "      <td>1</td>\n",
       "      <td>4.0</td>\n",
       "      <td>1.1 v 1.2</td>\n",
       "      <td>NaN</td>\n",
       "      <td>1:06-1:16</td>\n",
       "      <td>1.1</td>\n",
       "      <td>2:25-2:35</td>\n",
       "      <td>Tie</td>\n",
       "      <td>3:54-4:04</td>\n",
       "      <td>...</td>\n",
       "      <td>1.1</td>\n",
       "      <td>28:15-28:25</td>\n",
       "      <td>Tie</td>\n",
       "      <td>NO TRIAL</td>\n",
       "      <td>NO TRIAL</td>\n",
       "      <td>5.0</td>\n",
       "      <td>0</td>\n",
       "      <td>10.0</td>\n",
       "      <td>Master Master</td>\n",
       "      <td>0.0</td>\n",
       "    </tr>\n",
       "    <tr>\n",
       "      <th>11</th>\n",
       "      <td>2022-05-20</td>\n",
       "      <td>1</td>\n",
       "      <td>3.0</td>\n",
       "      <td>1.3 v 1.4</td>\n",
       "      <td>NaN</td>\n",
       "      <td>1:07-1:17</td>\n",
       "      <td>1.4</td>\n",
       "      <td>2:26-2:36</td>\n",
       "      <td>1.3</td>\n",
       "      <td>3:55-4:05</td>\n",
       "      <td>...</td>\n",
       "      <td>1.4</td>\n",
       "      <td>28:15-28:25</td>\n",
       "      <td>1.4</td>\n",
       "      <td>29:47-29:57</td>\n",
       "      <td>1.3</td>\n",
       "      <td>5.0</td>\n",
       "      <td>0</td>\n",
       "      <td>10.0</td>\n",
       "      <td>Master Master</td>\n",
       "      <td>0.0</td>\n",
       "    </tr>\n",
       "    <tr>\n",
       "      <th>12</th>\n",
       "      <td>2022-05-19</td>\n",
       "      <td>2</td>\n",
       "      <td>3.0</td>\n",
       "      <td>2.1 v 2.2</td>\n",
       "      <td>NaN</td>\n",
       "      <td>1:14-1:24</td>\n",
       "      <td>2.1</td>\n",
       "      <td>02:34-02:44</td>\n",
       "      <td>2.1</td>\n",
       "      <td>4:03-4:13</td>\n",
       "      <td>...</td>\n",
       "      <td>2.2</td>\n",
       "      <td>28:25-28:35</td>\n",
       "      <td>2.2</td>\n",
       "      <td>29:58-30:08</td>\n",
       "      <td>2.1</td>\n",
       "      <td>5.0</td>\n",
       "      <td>0</td>\n",
       "      <td>10.0</td>\n",
       "      <td>Master Master</td>\n",
       "      <td>-1.0</td>\n",
       "    </tr>\n",
       "    <tr>\n",
       "      <th>13</th>\n",
       "      <td>2022-05-19</td>\n",
       "      <td>2</td>\n",
       "      <td>4.0</td>\n",
       "      <td>2.3 v 2.4</td>\n",
       "      <td>NaN</td>\n",
       "      <td>2.15-2.25</td>\n",
       "      <td>2.3</td>\n",
       "      <td>2.33-2.43</td>\n",
       "      <td>2.3</td>\n",
       "      <td>4.02-4.12</td>\n",
       "      <td>...</td>\n",
       "      <td>2.4</td>\n",
       "      <td>28.24-28.34</td>\n",
       "      <td>2.3</td>\n",
       "      <td>29.57-30.07</td>\n",
       "      <td>2.3</td>\n",
       "      <td>5.0</td>\n",
       "      <td>0</td>\n",
       "      <td>10.0</td>\n",
       "      <td>Master Master</td>\n",
       "      <td>0.0</td>\n",
       "    </tr>\n",
       "    <tr>\n",
       "      <th>14</th>\n",
       "      <td>2022-05-19</td>\n",
       "      <td>2</td>\n",
       "      <td>1.0</td>\n",
       "      <td>2.1 v 2.3</td>\n",
       "      <td>NaN</td>\n",
       "      <td>1:04-1:14</td>\n",
       "      <td>2.3</td>\n",
       "      <td>2:24-2:34</td>\n",
       "      <td>2.3</td>\n",
       "      <td>3:53-4:03</td>\n",
       "      <td>...</td>\n",
       "      <td>2.1</td>\n",
       "      <td>28:13-28:23</td>\n",
       "      <td>2.3</td>\n",
       "      <td>29.57-30.07</td>\n",
       "      <td>2.3</td>\n",
       "      <td>7.0</td>\n",
       "      <td>0</td>\n",
       "      <td>0.0</td>\n",
       "      <td>Master Master</td>\n",
       "      <td>0.0</td>\n",
       "    </tr>\n",
       "  </tbody>\n",
       "</table>\n",
       "<p>15 rows × 50 columns</p>\n",
       "</div>"
      ],
      "text/plain": [
       "         date  cage  box      match  scorer trial_1_time trial_1_winner  \\\n",
       "0  2022-05-19     1  1.0  1.1 v 1.2     NaN    1:12-1:22            1.1   \n",
       "1  2022-05-19     1  2.0  1.3 v 1.4     NaN    1:12-1:22            1.4   \n",
       "2  2022-05-19     1  3.0  1.1 v 1.3     NaN    1:07-1:17            1.3   \n",
       "3  2022-05-19     1  4.0  1.2 v 1.4     NaN    1:06-1:16            1.4   \n",
       "4  2022-05-19     1  2.0  1.2 v 1.3     NaN    1:11-1:21            1.2   \n",
       "5  2022-05-19     1  1.0  1.1 v 1.4     NaN    1.12-1.22            1.4   \n",
       "6  2022-05-20     1  4.0  1.1 v 1.4     NaN    1:08-1:18            1.1   \n",
       "7  2022-05-20     1  3.0  1.2 v 1.3     NaN    1:10-1:20            1.2   \n",
       "8  2022-05-20     1  2.0  1.1 v 1.3     NaN    1:05-1:15            1.1   \n",
       "9  2022-05-20     1  1.0  1.2 v 1.4     NaN    1:05-1:15            1.2   \n",
       "10 2022-05-20     1  4.0  1.1 v 1.2     NaN    1:06-1:16            1.1   \n",
       "11 2022-05-20     1  3.0  1.3 v 1.4     NaN    1:07-1:17            1.4   \n",
       "12 2022-05-19     2  3.0  2.1 v 2.2     NaN    1:14-1:24            2.1   \n",
       "13 2022-05-19     2  4.0  2.3 v 2.4     NaN    2.15-2.25            2.3   \n",
       "14 2022-05-19     2  1.0  2.1 v 2.3     NaN    1:04-1:14            2.3   \n",
       "\n",
       "   trial_2_time trial_2_winner trial_3_time  ... trial_18_winner  \\\n",
       "0     2:31-2:41            1.1    4:00-4:10  ...             1.2   \n",
       "1     2:30-2:40            1.4    3:59-4:09  ...             1.4   \n",
       "2     3:56-4:06            tie    5:14-5:24  ...             1.3   \n",
       "3     2:25-2:35            1.2    3:54-4:04  ...             1.4   \n",
       "4     2:30-2:40            1.3    4:00-4:10  ...             1.2   \n",
       "5     1.30-1.40            1.1    4.00-4.10  ...             1.4   \n",
       "6     2:28-2:38            1.1    3:56-4:06  ...             Tie   \n",
       "7     2:28-2:38            1.2    3:57-4:07  ...             1.2   \n",
       "8     2:24-2:34            tie    3:53-4:03  ...             1.1   \n",
       "9     2:26-2:36            1.4    3:52-4:02  ...             1.2   \n",
       "10    2:25-2:35            Tie    3:54-4:04  ...             1.1   \n",
       "11    2:26-2:36            1.3    3:55-4:05  ...             1.4   \n",
       "12  02:34-02:44            2.1    4:03-4:13  ...             2.2   \n",
       "13    2.33-2.43            2.3    4.02-4.12  ...             2.4   \n",
       "14    2:24-2:34            2.3    3:53-4:03  ...             2.1   \n",
       "\n",
       "   trial_19_time trial_19_winner trial_20_time trial_20_winner mouse_1_wins  \\\n",
       "0    28:19-28:29             1.1   29:53-30:03             1.1         11.0   \n",
       "1    28:20-28:30             1.3   29:53-30:03             1.3          0.0   \n",
       "2    29:49-29:59             1.3   29:53-30:03             1.3          0.0   \n",
       "3    28:15-28:25             1.4   29:48-29:58             1.4          0.0   \n",
       "4    28:19-28:29             1.2   29:53-30:03             1.2          0.0   \n",
       "5    28.20-28.30             1.4   29.53-30.03             1.1          0.0   \n",
       "6    28:17-28:27             1.4      NO TRIAL        NO TRIAL         16.0   \n",
       "7    28:19-28:29             1.3      NO TRIAL        NO TRIAL         16.0   \n",
       "8    28:13-28:23             1.1   29:47-29:57             1.1         16.0   \n",
       "9    28:15-28_26             1.2   29:47-29:57             1.1         16.0   \n",
       "10   28:15-28:25             Tie      NO TRIAL        NO TRIAL          5.0   \n",
       "11   28:15-28:25             1.4   29:47-29:57             1.3          5.0   \n",
       "12   28:25-28:35             2.2   29:58-30:08             2.1          5.0   \n",
       "13   28.24-28.34             2.3   29.57-30.07             2.3          5.0   \n",
       "14   28:13-28:23             2.3   29.57-30.07             2.3          7.0   \n",
       "\n",
       "         mouse_2_wins  ties     sheet_name session_number_difference  \n",
       "0                   0   0.0  Master Master                       NaN  \n",
       "1                   9   0.0  Master Master                       0.0  \n",
       "2                   9   0.0  Master Master                       0.0  \n",
       "3   checked whole row   0.0  Master Master                       0.0  \n",
       "4   checked whole row   0.0  Master Master                       0.0  \n",
       "5   checked whole row   0.0  Master Master                       0.0  \n",
       "6                   2   1.0  Master Master                       1.0  \n",
       "7                   2   1.0  Master Master                       0.0  \n",
       "8   checked whole row   1.0  Master Master                       0.0  \n",
       "9   checked whole row   1.0  Master Master                       0.0  \n",
       "10                  0  10.0  Master Master                       0.0  \n",
       "11                  0  10.0  Master Master                       0.0  \n",
       "12                  0  10.0  Master Master                      -1.0  \n",
       "13                  0  10.0  Master Master                       0.0  \n",
       "14                  0   0.0  Master Master                       0.0  \n",
       "\n",
       "[15 rows x 50 columns]"
      ]
     },
     "execution_count": 96,
     "metadata": {},
     "output_type": "execute_result"
    }
   ],
   "source": [
    "value[\"processed_behavior_recording_dataframe\"].head(n=15)"
   ]
  },
  {
   "cell_type": "code",
   "execution_count": 97,
   "id": "5fd9704d",
   "metadata": {
    "scrolled": false
   },
   "outputs": [
    {
     "data": {
      "text/html": [
       "<div>\n",
       "<style scoped>\n",
       "    .dataframe tbody tr th:only-of-type {\n",
       "        vertical-align: middle;\n",
       "    }\n",
       "\n",
       "    .dataframe tbody tr th {\n",
       "        vertical-align: top;\n",
       "    }\n",
       "\n",
       "    .dataframe thead th {\n",
       "        text-align: right;\n",
       "    }\n",
       "</style>\n",
       "<table border=\"1\" class=\"dataframe\">\n",
       "  <thead>\n",
       "    <tr style=\"text-align: right;\">\n",
       "      <th></th>\n",
       "      <th>date</th>\n",
       "      <th>cage</th>\n",
       "      <th>box</th>\n",
       "      <th>match</th>\n",
       "      <th>scorer</th>\n",
       "      <th>trial_1_time</th>\n",
       "      <th>trial_1_winner</th>\n",
       "      <th>trial_2_time</th>\n",
       "      <th>trial_2_winner</th>\n",
       "      <th>trial_3_time</th>\n",
       "      <th>...</th>\n",
       "      <th>trial_18_winner</th>\n",
       "      <th>trial_19_time</th>\n",
       "      <th>trial_19_winner</th>\n",
       "      <th>trial_20_time</th>\n",
       "      <th>trial_20_winner</th>\n",
       "      <th>mouse_1_wins</th>\n",
       "      <th>mouse_2_wins</th>\n",
       "      <th>ties</th>\n",
       "      <th>sheet_name</th>\n",
       "      <th>session_number_difference</th>\n",
       "    </tr>\n",
       "  </thead>\n",
       "  <tbody>\n",
       "    <tr>\n",
       "      <th>33</th>\n",
       "      <td>2022-05-20</td>\n",
       "      <td>3</td>\n",
       "      <td>1.0</td>\n",
       "      <td>3.2 v 3.4</td>\n",
       "      <td>NaN</td>\n",
       "      <td>1:08-1:18</td>\n",
       "      <td>3.2</td>\n",
       "      <td>2:27-2:37</td>\n",
       "      <td>3.2</td>\n",
       "      <td>3:55-4:05</td>\n",
       "      <td>...</td>\n",
       "      <td>3.4</td>\n",
       "      <td>28:16-28:26</td>\n",
       "      <td>3.4</td>\n",
       "      <td>NO TRIAL</td>\n",
       "      <td>NO TRIAL</td>\n",
       "      <td>0.0</td>\n",
       "      <td>0</td>\n",
       "      <td>1.0</td>\n",
       "      <td>Master Master</td>\n",
       "      <td>0.0</td>\n",
       "    </tr>\n",
       "    <tr>\n",
       "      <th>34</th>\n",
       "      <td>2022-05-20</td>\n",
       "      <td>3</td>\n",
       "      <td>3.0</td>\n",
       "      <td>3.3 v 3.4</td>\n",
       "      <td>NaN</td>\n",
       "      <td>1:31-1:41</td>\n",
       "      <td>3.4</td>\n",
       "      <td>2:50-3:00</td>\n",
       "      <td>3.3</td>\n",
       "      <td>4:18-4:28</td>\n",
       "      <td>...</td>\n",
       "      <td>3.4</td>\n",
       "      <td>28:39-28:49</td>\n",
       "      <td>3.4</td>\n",
       "      <td>30:14-30:24</td>\n",
       "      <td>3.4</td>\n",
       "      <td>0.0</td>\n",
       "      <td>checked whole row</td>\n",
       "      <td>1.0</td>\n",
       "      <td>Master Master</td>\n",
       "      <td>0.0</td>\n",
       "    </tr>\n",
       "    <tr>\n",
       "      <th>35</th>\n",
       "      <td>2022-05-20</td>\n",
       "      <td>3</td>\n",
       "      <td>1.4</td>\n",
       "      <td>3.1 v 3.4</td>\n",
       "      <td>NaN</td>\n",
       "      <td>1:14-1:25</td>\n",
       "      <td>3.4</td>\n",
       "      <td>2:33-2:43</td>\n",
       "      <td>3.4</td>\n",
       "      <td>4:02-4:13</td>\n",
       "      <td>...</td>\n",
       "      <td>3.1</td>\n",
       "      <td>28:22-28:32</td>\n",
       "      <td>3.1</td>\n",
       "      <td>29:56-30:06</td>\n",
       "      <td>3.1</td>\n",
       "      <td>0.0</td>\n",
       "      <td>0</td>\n",
       "      <td>0.0</td>\n",
       "      <td>Master Master</td>\n",
       "      <td>0.0</td>\n",
       "    </tr>\n",
       "    <tr>\n",
       "      <th>36</th>\n",
       "      <td>2022-05-19</td>\n",
       "      <td>4</td>\n",
       "      <td>3.0</td>\n",
       "      <td>4.1 v 4.2</td>\n",
       "      <td>NaN</td>\n",
       "      <td>1:14-1:24</td>\n",
       "      <td>4.1</td>\n",
       "      <td>2:33-2:43</td>\n",
       "      <td>4.1</td>\n",
       "      <td>4:02-4:12</td>\n",
       "      <td>...</td>\n",
       "      <td>4.1</td>\n",
       "      <td>28:23-28:33</td>\n",
       "      <td>4.1</td>\n",
       "      <td>29:57-30:07</td>\n",
       "      <td>4.1</td>\n",
       "      <td>0.0</td>\n",
       "      <td>0</td>\n",
       "      <td>0.0</td>\n",
       "      <td>Master Master</td>\n",
       "      <td>-1.0</td>\n",
       "    </tr>\n",
       "    <tr>\n",
       "      <th>37</th>\n",
       "      <td>2022-05-19</td>\n",
       "      <td>4</td>\n",
       "      <td>4.0</td>\n",
       "      <td>4.3 v 4.4</td>\n",
       "      <td>NaN</td>\n",
       "      <td>1.14-1.24</td>\n",
       "      <td>4.3</td>\n",
       "      <td>1.33-1.43</td>\n",
       "      <td>4.4</td>\n",
       "      <td>4.03-4.13</td>\n",
       "      <td>...</td>\n",
       "      <td>4.3</td>\n",
       "      <td>28.23-28.33</td>\n",
       "      <td>4.3</td>\n",
       "      <td>29.57-30.07</td>\n",
       "      <td>4.3</td>\n",
       "      <td>0.0</td>\n",
       "      <td>0</td>\n",
       "      <td>0.0</td>\n",
       "      <td>Master Master</td>\n",
       "      <td>0.0</td>\n",
       "    </tr>\n",
       "    <tr>\n",
       "      <th>38</th>\n",
       "      <td>2022-05-19</td>\n",
       "      <td>4</td>\n",
       "      <td>1.0</td>\n",
       "      <td>4.1 v 4.3</td>\n",
       "      <td>NaN</td>\n",
       "      <td>1:26-1:36</td>\n",
       "      <td>4.1</td>\n",
       "      <td>2:45-2:55</td>\n",
       "      <td>4.1</td>\n",
       "      <td>4:14-4:24</td>\n",
       "      <td>...</td>\n",
       "      <td>4.1</td>\n",
       "      <td>28:34-28:44</td>\n",
       "      <td>4.3</td>\n",
       "      <td>29.57-30.07</td>\n",
       "      <td>4.3</td>\n",
       "      <td>0.0</td>\n",
       "      <td>0</td>\n",
       "      <td>3.0</td>\n",
       "      <td>Master Master</td>\n",
       "      <td>0.0</td>\n",
       "    </tr>\n",
       "    <tr>\n",
       "      <th>39</th>\n",
       "      <td>2022-05-19</td>\n",
       "      <td>4</td>\n",
       "      <td>2.0</td>\n",
       "      <td>4.2 v 4.4</td>\n",
       "      <td>NaN</td>\n",
       "      <td>1:27-1:37</td>\n",
       "      <td>4.4</td>\n",
       "      <td>2:45-2:55</td>\n",
       "      <td>4.2</td>\n",
       "      <td>4:14-4:24</td>\n",
       "      <td>...</td>\n",
       "      <td>4.4</td>\n",
       "      <td>28:34-28:44</td>\n",
       "      <td>4.2</td>\n",
       "      <td>NO TRIAL</td>\n",
       "      <td>NO TRIAL</td>\n",
       "      <td>0.0</td>\n",
       "      <td>0</td>\n",
       "      <td>0.0</td>\n",
       "      <td>Master Master</td>\n",
       "      <td>0.0</td>\n",
       "    </tr>\n",
       "    <tr>\n",
       "      <th>40</th>\n",
       "      <td>2022-05-19</td>\n",
       "      <td>4</td>\n",
       "      <td>3.0</td>\n",
       "      <td>4.1 v 4.4</td>\n",
       "      <td>NaN</td>\n",
       "      <td>1:12-1:22</td>\n",
       "      <td>4.1</td>\n",
       "      <td>2:31-2:41</td>\n",
       "      <td>4.1</td>\n",
       "      <td>4:00-4:10</td>\n",
       "      <td>...</td>\n",
       "      <td>4.1</td>\n",
       "      <td>28:20-28:30</td>\n",
       "      <td>4.4</td>\n",
       "      <td>29:54-30:04</td>\n",
       "      <td>4.4</td>\n",
       "      <td>0.0</td>\n",
       "      <td>checked whole row</td>\n",
       "      <td>0.0</td>\n",
       "      <td>Master Master</td>\n",
       "      <td>0.0</td>\n",
       "    </tr>\n",
       "    <tr>\n",
       "      <th>41</th>\n",
       "      <td>2022-05-19</td>\n",
       "      <td>4</td>\n",
       "      <td>4.0</td>\n",
       "      <td>4.2 v 4.3</td>\n",
       "      <td>NaN</td>\n",
       "      <td>2:22-2:32</td>\n",
       "      <td>4.2</td>\n",
       "      <td>3:41-3:51</td>\n",
       "      <td>4.2</td>\n",
       "      <td>5:09-5:19</td>\n",
       "      <td>...</td>\n",
       "      <td>4.3</td>\n",
       "      <td>29:30-29:40</td>\n",
       "      <td>4.2</td>\n",
       "      <td>29:54-30:04</td>\n",
       "      <td>4.4</td>\n",
       "      <td>0.0</td>\n",
       "      <td>0</td>\n",
       "      <td>2.0</td>\n",
       "      <td>Master Master</td>\n",
       "      <td>0.0</td>\n",
       "    </tr>\n",
       "    <tr>\n",
       "      <th>42</th>\n",
       "      <td>2022-05-20</td>\n",
       "      <td>4</td>\n",
       "      <td>2.0</td>\n",
       "      <td>4.1 v 4.4</td>\n",
       "      <td>NaN</td>\n",
       "      <td>1.13-1.23</td>\n",
       "      <td>4.1</td>\n",
       "      <td>1.32-1.42</td>\n",
       "      <td>4.1</td>\n",
       "      <td>4.01-4.11</td>\n",
       "      <td>...</td>\n",
       "      <td>4.1</td>\n",
       "      <td>28.21-28.31</td>\n",
       "      <td>4.4</td>\n",
       "      <td>29.55-30.05</td>\n",
       "      <td>4.4</td>\n",
       "      <td>0.0</td>\n",
       "      <td>0</td>\n",
       "      <td>2.0</td>\n",
       "      <td>Master Master</td>\n",
       "      <td>1.0</td>\n",
       "    </tr>\n",
       "    <tr>\n",
       "      <th>43</th>\n",
       "      <td>2022-05-20</td>\n",
       "      <td>4</td>\n",
       "      <td>1.0</td>\n",
       "      <td>4.2 v 4.3</td>\n",
       "      <td>NaN</td>\n",
       "      <td>1:13-1:23</td>\n",
       "      <td>4.3</td>\n",
       "      <td>2:31-2:41</td>\n",
       "      <td>4.3</td>\n",
       "      <td>4:00-4:10</td>\n",
       "      <td>...</td>\n",
       "      <td>4.3</td>\n",
       "      <td>28:20-28:30</td>\n",
       "      <td>4.3</td>\n",
       "      <td>29:54-30:04</td>\n",
       "      <td>4.2</td>\n",
       "      <td>0.0</td>\n",
       "      <td>0</td>\n",
       "      <td>4.0</td>\n",
       "      <td>Master Master</td>\n",
       "      <td>0.0</td>\n",
       "    </tr>\n",
       "    <tr>\n",
       "      <th>44</th>\n",
       "      <td>2022-05-20</td>\n",
       "      <td>4</td>\n",
       "      <td>4.0</td>\n",
       "      <td>4.1 v 4.3</td>\n",
       "      <td>NaN</td>\n",
       "      <td>2:56-3:06</td>\n",
       "      <td>4.3</td>\n",
       "      <td>4:15-4:25</td>\n",
       "      <td>4.3</td>\n",
       "      <td>5:44-5:54</td>\n",
       "      <td>...</td>\n",
       "      <td>4.1</td>\n",
       "      <td>30:05-30:15</td>\n",
       "      <td>4.1</td>\n",
       "      <td>29:54-30:04</td>\n",
       "      <td>4.2</td>\n",
       "      <td>0.0</td>\n",
       "      <td>0</td>\n",
       "      <td>1.0</td>\n",
       "      <td>Master Master</td>\n",
       "      <td>0.0</td>\n",
       "    </tr>\n",
       "    <tr>\n",
       "      <th>45</th>\n",
       "      <td>2022-05-20</td>\n",
       "      <td>4</td>\n",
       "      <td>3.0</td>\n",
       "      <td>4.2 v 4.4</td>\n",
       "      <td>NaN</td>\n",
       "      <td>2:57-3:07</td>\n",
       "      <td>4.4</td>\n",
       "      <td>4:15-4:25</td>\n",
       "      <td>4.4</td>\n",
       "      <td>5:44-5:54</td>\n",
       "      <td>...</td>\n",
       "      <td>4.4</td>\n",
       "      <td>30:05-30:15</td>\n",
       "      <td>4.2</td>\n",
       "      <td>29:54-30:04</td>\n",
       "      <td>4.2</td>\n",
       "      <td>0.0</td>\n",
       "      <td>checked whole row</td>\n",
       "      <td>1.0</td>\n",
       "      <td>Master Master</td>\n",
       "      <td>0.0</td>\n",
       "    </tr>\n",
       "    <tr>\n",
       "      <th>46</th>\n",
       "      <td>2022-05-20</td>\n",
       "      <td>4</td>\n",
       "      <td>2.0</td>\n",
       "      <td>4.1 v 4.2</td>\n",
       "      <td>NaN</td>\n",
       "      <td>1:11-1:21</td>\n",
       "      <td>4.1</td>\n",
       "      <td>2:30-2:40</td>\n",
       "      <td>4.2</td>\n",
       "      <td>3:58-4:08</td>\n",
       "      <td>...</td>\n",
       "      <td>4.1</td>\n",
       "      <td>28:19-28:29</td>\n",
       "      <td>4.1</td>\n",
       "      <td>29:52-30:02</td>\n",
       "      <td>4.1</td>\n",
       "      <td>0.0</td>\n",
       "      <td>checked whole row</td>\n",
       "      <td>1.0</td>\n",
       "      <td>Master Master</td>\n",
       "      <td>0.0</td>\n",
       "    </tr>\n",
       "    <tr>\n",
       "      <th>47</th>\n",
       "      <td>2022-05-20</td>\n",
       "      <td>4</td>\n",
       "      <td>1.0</td>\n",
       "      <td>4.3 v 4.4</td>\n",
       "      <td>NaN</td>\n",
       "      <td>1:12-1:22</td>\n",
       "      <td>4.3</td>\n",
       "      <td>2:30-2:40</td>\n",
       "      <td>4.3</td>\n",
       "      <td>3:58-4:08</td>\n",
       "      <td>...</td>\n",
       "      <td>Tie</td>\n",
       "      <td>28:19-28:29</td>\n",
       "      <td>4.4</td>\n",
       "      <td>29:53-30:03</td>\n",
       "      <td>4.3</td>\n",
       "      <td>0.0</td>\n",
       "      <td>0</td>\n",
       "      <td>1.0</td>\n",
       "      <td>Master Master</td>\n",
       "      <td>0.0</td>\n",
       "    </tr>\n",
       "  </tbody>\n",
       "</table>\n",
       "<p>15 rows × 50 columns</p>\n",
       "</div>"
      ],
      "text/plain": [
       "         date  cage  box      match  scorer trial_1_time trial_1_winner  \\\n",
       "33 2022-05-20     3  1.0  3.2 v 3.4     NaN    1:08-1:18            3.2   \n",
       "34 2022-05-20     3  3.0  3.3 v 3.4     NaN    1:31-1:41            3.4   \n",
       "35 2022-05-20     3  1.4  3.1 v 3.4     NaN    1:14-1:25            3.4   \n",
       "36 2022-05-19     4  3.0  4.1 v 4.2     NaN    1:14-1:24            4.1   \n",
       "37 2022-05-19     4  4.0  4.3 v 4.4     NaN    1.14-1.24            4.3   \n",
       "38 2022-05-19     4  1.0  4.1 v 4.3     NaN    1:26-1:36            4.1   \n",
       "39 2022-05-19     4  2.0  4.2 v 4.4     NaN    1:27-1:37            4.4   \n",
       "40 2022-05-19     4  3.0  4.1 v 4.4     NaN    1:12-1:22            4.1   \n",
       "41 2022-05-19     4  4.0  4.2 v 4.3     NaN    2:22-2:32            4.2   \n",
       "42 2022-05-20     4  2.0  4.1 v 4.4     NaN    1.13-1.23            4.1   \n",
       "43 2022-05-20     4  1.0  4.2 v 4.3     NaN    1:13-1:23            4.3   \n",
       "44 2022-05-20     4  4.0  4.1 v 4.3     NaN    2:56-3:06            4.3   \n",
       "45 2022-05-20     4  3.0  4.2 v 4.4     NaN    2:57-3:07            4.4   \n",
       "46 2022-05-20     4  2.0  4.1 v 4.2     NaN    1:11-1:21            4.1   \n",
       "47 2022-05-20     4  1.0  4.3 v 4.4     NaN    1:12-1:22            4.3   \n",
       "\n",
       "   trial_2_time trial_2_winner trial_3_time  ... trial_18_winner  \\\n",
       "33    2:27-2:37            3.2    3:55-4:05  ...             3.4   \n",
       "34    2:50-3:00            3.3    4:18-4:28  ...             3.4   \n",
       "35    2:33-2:43            3.4    4:02-4:13  ...             3.1   \n",
       "36    2:33-2:43            4.1    4:02-4:12  ...             4.1   \n",
       "37    1.33-1.43            4.4    4.03-4.13  ...             4.3   \n",
       "38    2:45-2:55            4.1    4:14-4:24  ...             4.1   \n",
       "39    2:45-2:55            4.2    4:14-4:24  ...             4.4   \n",
       "40    2:31-2:41            4.1    4:00-4:10  ...             4.1   \n",
       "41    3:41-3:51            4.2    5:09-5:19  ...             4.3   \n",
       "42    1.32-1.42            4.1    4.01-4.11  ...             4.1   \n",
       "43    2:31-2:41            4.3    4:00-4:10  ...             4.3   \n",
       "44    4:15-4:25            4.3    5:44-5:54  ...             4.1   \n",
       "45    4:15-4:25            4.4    5:44-5:54  ...             4.4   \n",
       "46    2:30-2:40            4.2    3:58-4:08  ...             4.1   \n",
       "47    2:30-2:40            4.3    3:58-4:08  ...             Tie   \n",
       "\n",
       "   trial_19_time trial_19_winner trial_20_time trial_20_winner mouse_1_wins  \\\n",
       "33   28:16-28:26             3.4      NO TRIAL        NO TRIAL          0.0   \n",
       "34   28:39-28:49             3.4   30:14-30:24             3.4          0.0   \n",
       "35   28:22-28:32             3.1   29:56-30:06             3.1          0.0   \n",
       "36   28:23-28:33             4.1   29:57-30:07             4.1          0.0   \n",
       "37   28.23-28.33             4.3   29.57-30.07             4.3          0.0   \n",
       "38   28:34-28:44             4.3   29.57-30.07             4.3          0.0   \n",
       "39   28:34-28:44             4.2      NO TRIAL        NO TRIAL          0.0   \n",
       "40   28:20-28:30             4.4   29:54-30:04             4.4          0.0   \n",
       "41   29:30-29:40             4.2   29:54-30:04             4.4          0.0   \n",
       "42   28.21-28.31             4.4   29.55-30.05             4.4          0.0   \n",
       "43   28:20-28:30             4.3   29:54-30:04             4.2          0.0   \n",
       "44   30:05-30:15             4.1   29:54-30:04             4.2          0.0   \n",
       "45   30:05-30:15             4.2   29:54-30:04             4.2          0.0   \n",
       "46   28:19-28:29             4.1   29:52-30:02             4.1          0.0   \n",
       "47   28:19-28:29             4.4   29:53-30:03             4.3          0.0   \n",
       "\n",
       "         mouse_2_wins ties     sheet_name session_number_difference  \n",
       "33                  0  1.0  Master Master                       0.0  \n",
       "34  checked whole row  1.0  Master Master                       0.0  \n",
       "35                  0  0.0  Master Master                       0.0  \n",
       "36                  0  0.0  Master Master                      -1.0  \n",
       "37                  0  0.0  Master Master                       0.0  \n",
       "38                  0  3.0  Master Master                       0.0  \n",
       "39                  0  0.0  Master Master                       0.0  \n",
       "40  checked whole row  0.0  Master Master                       0.0  \n",
       "41                  0  2.0  Master Master                       0.0  \n",
       "42                  0  2.0  Master Master                       1.0  \n",
       "43                  0  4.0  Master Master                       0.0  \n",
       "44                  0  1.0  Master Master                       0.0  \n",
       "45  checked whole row  1.0  Master Master                       0.0  \n",
       "46  checked whole row  1.0  Master Master                       0.0  \n",
       "47                  0  1.0  Master Master                       0.0  \n",
       "\n",
       "[15 rows x 50 columns]"
      ]
     },
     "execution_count": 97,
     "metadata": {},
     "output_type": "execute_result"
    }
   ],
   "source": [
    "value[\"processed_behavior_recording_dataframe\"].tail(n=15)"
   ]
  },
  {
   "cell_type": "markdown",
   "id": "c9ec4831",
   "metadata": {},
   "source": [
    "## Getting the cage number"
   ]
  },
  {
   "cell_type": "markdown",
   "id": "1121860b",
   "metadata": {},
   "source": [
    "- The cage number is sometimes not consistent throughout a spreadsheet for the same cage. So we will try to standarize it into one value.\n",
    "    - **NOTE**: This assumes cage numbers are actual numbers. And not entirely consisting of letters. If that isn't the case, then you must edit this cell for your needs."
   ]
  },
  {
   "cell_type": "markdown",
   "id": "3cd993b5",
   "metadata": {},
   "source": [
    "# NOTE: If there is a column that has the cage number information, replace the `None` with the column name in quotation marks"
   ]
  },
  {
   "cell_type": "markdown",
   "id": "93b3eea0",
   "metadata": {},
   "source": [
    "# TODO: Refactor starting here"
   ]
  },
  {
   "cell_type": "markdown",
   "id": "a10da7d2",
   "metadata": {},
   "source": [
    "- Change this when you have winner and loser cage"
   ]
  },
  {
   "cell_type": "code",
   "execution_count": 98,
   "id": "33a28850",
   "metadata": {},
   "outputs": [],
   "source": [
    "cage_num_of_winner_column = None\n",
    "cage_num_of_loser_column = None"
   ]
  },
  {
   "cell_type": "markdown",
   "id": "dde331ee",
   "metadata": {},
   "source": [
    "- Change this when you have id to cage"
   ]
  },
  {
   "cell_type": "code",
   "execution_count": 99,
   "id": "beb4ca9d",
   "metadata": {},
   "outputs": [],
   "source": [
    "id_to_cage = {}"
   ]
  },
  {
   "cell_type": "code",
   "execution_count": 100,
   "id": "d37595b0",
   "metadata": {
    "scrolled": false
   },
   "outputs": [
    {
     "name": "stdout",
     "output_type": "stream",
     "text": [
      "Type the name of the column of the cage of the WINNER subject\n",
      "        i.e. \"cage_num_of_winner\"\n",
      "\n",
      "        The available columns are: Index(['date', 'cage', 'box', 'match', 'scorer', 'trial_1_time',\n",
      "       'trial_1_winner', 'trial_2_time', 'trial_2_winner', 'trial_3_time',\n",
      "       'trial_3_winner', 'trial_4_time', 'trial_4_winner', 'trial_5_time',\n",
      "       'trial_5_winner', 'trial_6_time', 'trial_6_winner', 'trial_7_time',\n",
      "       'trial_7_winner', 'trial_8_time', 'trial_8_winner', 'trial_9_time',\n",
      "       'trial_9_winner', 'trial_10_time', 'trial_10_winner', 'trial_11_time',\n",
      "       'trial_11_winner', 'trial_12_time', 'trial_12_winner', 'trial_13_time',\n",
      "       'trial_13_winner', 'trial_14_time', 'trial_14_winner', 'trial_15_time',\n",
      "       'trial_15_winner', 'trial_16_time', 'trial_16_winner', 'trial_17_time',\n",
      "       'trial_17_winner', 'trial_18_time', 'trial_18_winner', 'trial_19_time',\n",
      "       'trial_19_winner', 'trial_20_time', 'trial_20_winner', 'mouse_1_wins',\n",
      "       'mouse_2_wins', 'ties', 'sheet_name', 'session_number_difference'],\n",
      "      dtype='object')\n",
      "\n",
      "        Note: If left blank, the column with \"winner\" and \"cage\" will be used as the column. If there is none, then the sheet name will be used.\n",
      "        \n",
      "Type the name of the column of the cage of the LOSER subject\n",
      "        i.e. \"cage_num_of_loser\"\n",
      "\n",
      "        The available columns are: Index(['date', 'cage', 'box', 'match', 'scorer', 'trial_1_time',\n",
      "       'trial_1_winner', 'trial_2_time', 'trial_2_winner', 'trial_3_time',\n",
      "       'trial_3_winner', 'trial_4_time', 'trial_4_winner', 'trial_5_time',\n",
      "       'trial_5_winner', 'trial_6_time', 'trial_6_winner', 'trial_7_time',\n",
      "       'trial_7_winner', 'trial_8_time', 'trial_8_winner', 'trial_9_time',\n",
      "       'trial_9_winner', 'trial_10_time', 'trial_10_winner', 'trial_11_time',\n",
      "       'trial_11_winner', 'trial_12_time', 'trial_12_winner', 'trial_13_time',\n",
      "       'trial_13_winner', 'trial_14_time', 'trial_14_winner', 'trial_15_time',\n",
      "       'trial_15_winner', 'trial_16_time', 'trial_16_winner', 'trial_17_time',\n",
      "       'trial_17_winner', 'trial_18_time', 'trial_18_winner', 'trial_19_time',\n",
      "       'trial_19_winner', 'trial_20_time', 'trial_20_winner', 'mouse_1_wins',\n",
      "       'mouse_2_wins', 'ties', 'sheet_name', 'session_number_difference'],\n",
      "      dtype='object')\n",
      "\n",
      "        Note: If left blank, the column with \"loser\" and \"cage\" will be used as the column. If there is none, then the sheet name will be used.\n",
      "        \n"
     ]
    }
   ],
   "source": [
    "for key, value in sheet_name_to_everything.items():   \n",
    "    # When you have a dictionary of IDs to Cage Numbers\n",
    "    if id_to_cage:\n",
    "        # Specifying the name by default\n",
    "        value[\"cage_num_of_winner_column\"] = \"original_cage_num_of_winner\"\n",
    "        value[\"cage_num_of_loser_column\"] = \"original_cage_num_of_loser\"\n",
    "        # Mapping the IDs to the cage number\n",
    "        value[\"processed_behavior_recording_dataframe\"][value[\"cage_num_of_winner_column\"]] = value[\"processed_behavior_recording_dataframe\"][value[\"winner_id_column\"]].map(id_to_cage)\n",
    "        value[\"processed_behavior_recording_dataframe\"][value[\"cage_num_of_loser_column\"]] = value[\"processed_behavior_recording_dataframe\"][value[\"loser_id_column\"]].map(id_to_cage)\n",
    "        continue\n",
    "        \n",
    "    # When you have a column that specifies the cage number\n",
    "    elif cage_num_of_winner_column and cage_num_of_loser_column:\n",
    "        value[\"cage_num_of_winner_column\"] = cage_num_of_winner_column\n",
    "        value[\"cage_num_of_loser_column\"] = cage_num_of_loser_column\n",
    "    elif cage_num_of_winner_column:\n",
    "        value[\"cage_num_of_winner_column\"] = cage_num_of_winner_column\n",
    "    elif cage_num_of_loser_column:\n",
    "        value[\"cage_num_of_loser_column\"] = cage_num_of_loser_column\n",
    "\n",
    "    \n",
    "    if not cage_num_of_winner_column:\n",
    "        # Asking the user which column has the cage number\n",
    "        value[\"cage_num_of_winner_column\"] = input(\"\"\"Type the name of the column of the cage of the WINNER subject\n",
    "        i.e. \"cage_num_of_winner\"\n",
    "\n",
    "        The available columns are: {}\n",
    "\n",
    "        Note: If left blank, the column with \"winner\" and \"cage\" will be used as the column. If there is none, then the sheet name will be used.\n",
    "        \"\"\".format(value[\"processed_behavior_recording_dataframe\"].columns))        \n",
    "        \n",
    "        # Getting the column that has \"winner\" and \"cage\" in its name if no column is specified\n",
    "        if not value[\"cage_num_of_winner_column\"]:\n",
    "            # Checking to see if there are any columns with the winner and cage in the name\n",
    "            column_names_with_cage = [col for col in value[\"processed_behavior_recording_dataframe\"].columns if \"cage\" in col.lower() and \"winner\" in col.lower()]\n",
    "            # Using the column with cage in the name if there are none with winner and cage\n",
    "            column_names_with_cage += [col for col in value[\"processed_behavior_recording_dataframe\"].columns if \"cage\" in col.lower()]\n",
    "            if column_names_with_cage:\n",
    "                value[\"winnner_cage_column\"] = column_names_with_cage[0]\n",
    "            else:\n",
    "                # Using the default name as the cage column name if there are none\n",
    "                value[\"cage_num_of_winner_column\"] = \"original_cage_num_of_winner\"\n",
    "    \n",
    "    if not cage_num_of_loser_column:\n",
    "        # Asking the user which column has the cage number\n",
    "        value[\"cage_num_of_loser_column\"] = input(\"\"\"Type the name of the column of the cage of the LOSER subject\n",
    "        i.e. \"cage_num_of_loser\"\n",
    "\n",
    "        The available columns are: {}\n",
    "\n",
    "        Note: If left blank, the column with \"loser\" and \"cage\" will be used as the column. If there is none, then the sheet name will be used.\n",
    "        \"\"\".format(value[\"processed_behavior_recording_dataframe\"].columns))        \n",
    "        \n",
    "        # Getting the column that has \"loser\" and \"cage\" in its name if no column is specified\n",
    "        if not value[\"cage_num_of_loser_column\"]:\n",
    "            # Checking to see if there are any columns with the loser and cage in the name\n",
    "            column_names_with_cage = [col for col in value[\"processed_behavior_recording_dataframe\"].columns if \"cage\" in col.lower() and \"loser\" in col.lower()]\n",
    "            # Using the column with cage in the name if there are none with loser and cage\n",
    "            column_names_with_cage += [col for col in value[\"processed_behavior_recording_dataframe\"].columns if \"cage\" in col.lower()]\n",
    "            if column_names_with_cage:\n",
    "                value[\"winnner_cage_column\"] = column_names_with_cage[0]\n",
    "            else:\n",
    "                # Using the default name as the cage column name if there are none\n",
    "                value[\"cage_num_of_loser_column\"] = \"original_cage_num_of_loser\"\n",
    "    \n",
    "    # Using the spreadsheet name as the cage number if there are no columns that match\n",
    "    if value[\"cage_num_of_winner_column\"] not in value[\"processed_behavior_recording_dataframe\"].columns:\n",
    "        value[\"processed_behavior_recording_dataframe\"][value[\"cage_num_of_winner_column\"]] = key\n",
    "\n",
    "    if value[\"cage_num_of_loser_column\"] not in value[\"processed_behavior_recording_dataframe\"].columns:\n",
    "        value[\"processed_behavior_recording_dataframe\"][value[\"cage_num_of_loser_column\"]] = key       \n",
    "    \n",
    "    # Turning the cage names into the float number only\n",
    "    # Or using the same name if there are no floats\n",
    "    value[\"processed_behavior_recording_dataframe\"][\"processed_cage_num_of_winner\"] = value[\"processed_behavior_recording_dataframe\"][value[\"cage_num_of_winner_column\"]].apply(lambda x: re.findall(r'\\d+', str(x))[0] if re.findall(r'\\d+', str(x)) else x)\n",
    "    value[\"processed_behavior_recording_dataframe\"][\"processed_cage_num_of_loser\"] = value[\"processed_behavior_recording_dataframe\"][value[\"cage_num_of_loser_column\"]].apply(lambda x: re.findall(r'\\d+', str(x))[0] if re.findall(r'\\d+', str(x)) else x)\n",
    "\n",
    "    "
   ]
  },
  {
   "cell_type": "code",
   "execution_count": 101,
   "id": "cdc5d88d",
   "metadata": {},
   "outputs": [
    {
     "data": {
      "text/html": [
       "<div>\n",
       "<style scoped>\n",
       "    .dataframe tbody tr th:only-of-type {\n",
       "        vertical-align: middle;\n",
       "    }\n",
       "\n",
       "    .dataframe tbody tr th {\n",
       "        vertical-align: top;\n",
       "    }\n",
       "\n",
       "    .dataframe thead th {\n",
       "        text-align: right;\n",
       "    }\n",
       "</style>\n",
       "<table border=\"1\" class=\"dataframe\">\n",
       "  <thead>\n",
       "    <tr style=\"text-align: right;\">\n",
       "      <th></th>\n",
       "      <th>date</th>\n",
       "      <th>cage</th>\n",
       "      <th>box</th>\n",
       "      <th>match</th>\n",
       "      <th>scorer</th>\n",
       "      <th>trial_1_time</th>\n",
       "      <th>trial_1_winner</th>\n",
       "      <th>trial_2_time</th>\n",
       "      <th>trial_2_winner</th>\n",
       "      <th>trial_3_time</th>\n",
       "      <th>...</th>\n",
       "      <th>trial_20_time</th>\n",
       "      <th>trial_20_winner</th>\n",
       "      <th>mouse_1_wins</th>\n",
       "      <th>mouse_2_wins</th>\n",
       "      <th>ties</th>\n",
       "      <th>sheet_name</th>\n",
       "      <th>session_number_difference</th>\n",
       "      <th></th>\n",
       "      <th>processed_cage_num_of_winner</th>\n",
       "      <th>processed_cage_num_of_loser</th>\n",
       "    </tr>\n",
       "  </thead>\n",
       "  <tbody>\n",
       "    <tr>\n",
       "      <th>0</th>\n",
       "      <td>2022-05-19</td>\n",
       "      <td>1</td>\n",
       "      <td>1.0</td>\n",
       "      <td>1.1 v 1.2</td>\n",
       "      <td>NaN</td>\n",
       "      <td>1:12-1:22</td>\n",
       "      <td>1.1</td>\n",
       "      <td>2:31-2:41</td>\n",
       "      <td>1.1</td>\n",
       "      <td>4:00-4:10</td>\n",
       "      <td>...</td>\n",
       "      <td>29:53-30:03</td>\n",
       "      <td>1.1</td>\n",
       "      <td>11.0</td>\n",
       "      <td>0</td>\n",
       "      <td>0.0</td>\n",
       "      <td>Master Master</td>\n",
       "      <td>NaN</td>\n",
       "      <td>Master Master</td>\n",
       "      <td>Master Master</td>\n",
       "      <td>Master Master</td>\n",
       "    </tr>\n",
       "    <tr>\n",
       "      <th>1</th>\n",
       "      <td>2022-05-19</td>\n",
       "      <td>1</td>\n",
       "      <td>2.0</td>\n",
       "      <td>1.3 v 1.4</td>\n",
       "      <td>NaN</td>\n",
       "      <td>1:12-1:22</td>\n",
       "      <td>1.4</td>\n",
       "      <td>2:30-2:40</td>\n",
       "      <td>1.4</td>\n",
       "      <td>3:59-4:09</td>\n",
       "      <td>...</td>\n",
       "      <td>29:53-30:03</td>\n",
       "      <td>1.3</td>\n",
       "      <td>0.0</td>\n",
       "      <td>9</td>\n",
       "      <td>0.0</td>\n",
       "      <td>Master Master</td>\n",
       "      <td>0.0</td>\n",
       "      <td>Master Master</td>\n",
       "      <td>Master Master</td>\n",
       "      <td>Master Master</td>\n",
       "    </tr>\n",
       "    <tr>\n",
       "      <th>2</th>\n",
       "      <td>2022-05-19</td>\n",
       "      <td>1</td>\n",
       "      <td>3.0</td>\n",
       "      <td>1.1 v 1.3</td>\n",
       "      <td>NaN</td>\n",
       "      <td>1:07-1:17</td>\n",
       "      <td>1.3</td>\n",
       "      <td>3:56-4:06</td>\n",
       "      <td>tie</td>\n",
       "      <td>5:14-5:24</td>\n",
       "      <td>...</td>\n",
       "      <td>29:53-30:03</td>\n",
       "      <td>1.3</td>\n",
       "      <td>0.0</td>\n",
       "      <td>9</td>\n",
       "      <td>0.0</td>\n",
       "      <td>Master Master</td>\n",
       "      <td>0.0</td>\n",
       "      <td>Master Master</td>\n",
       "      <td>Master Master</td>\n",
       "      <td>Master Master</td>\n",
       "    </tr>\n",
       "    <tr>\n",
       "      <th>3</th>\n",
       "      <td>2022-05-19</td>\n",
       "      <td>1</td>\n",
       "      <td>4.0</td>\n",
       "      <td>1.2 v 1.4</td>\n",
       "      <td>NaN</td>\n",
       "      <td>1:06-1:16</td>\n",
       "      <td>1.4</td>\n",
       "      <td>2:25-2:35</td>\n",
       "      <td>1.2</td>\n",
       "      <td>3:54-4:04</td>\n",
       "      <td>...</td>\n",
       "      <td>29:48-29:58</td>\n",
       "      <td>1.4</td>\n",
       "      <td>0.0</td>\n",
       "      <td>checked whole row</td>\n",
       "      <td>0.0</td>\n",
       "      <td>Master Master</td>\n",
       "      <td>0.0</td>\n",
       "      <td>Master Master</td>\n",
       "      <td>Master Master</td>\n",
       "      <td>Master Master</td>\n",
       "    </tr>\n",
       "    <tr>\n",
       "      <th>4</th>\n",
       "      <td>2022-05-19</td>\n",
       "      <td>1</td>\n",
       "      <td>2.0</td>\n",
       "      <td>1.2 v 1.3</td>\n",
       "      <td>NaN</td>\n",
       "      <td>1:11-1:21</td>\n",
       "      <td>1.2</td>\n",
       "      <td>2:30-2:40</td>\n",
       "      <td>1.3</td>\n",
       "      <td>4:00-4:10</td>\n",
       "      <td>...</td>\n",
       "      <td>29:53-30:03</td>\n",
       "      <td>1.2</td>\n",
       "      <td>0.0</td>\n",
       "      <td>checked whole row</td>\n",
       "      <td>0.0</td>\n",
       "      <td>Master Master</td>\n",
       "      <td>0.0</td>\n",
       "      <td>Master Master</td>\n",
       "      <td>Master Master</td>\n",
       "      <td>Master Master</td>\n",
       "    </tr>\n",
       "    <tr>\n",
       "      <th>5</th>\n",
       "      <td>2022-05-19</td>\n",
       "      <td>1</td>\n",
       "      <td>1.0</td>\n",
       "      <td>1.1 v 1.4</td>\n",
       "      <td>NaN</td>\n",
       "      <td>1.12-1.22</td>\n",
       "      <td>1.4</td>\n",
       "      <td>1.30-1.40</td>\n",
       "      <td>1.1</td>\n",
       "      <td>4.00-4.10</td>\n",
       "      <td>...</td>\n",
       "      <td>29.53-30.03</td>\n",
       "      <td>1.1</td>\n",
       "      <td>0.0</td>\n",
       "      <td>checked whole row</td>\n",
       "      <td>0.0</td>\n",
       "      <td>Master Master</td>\n",
       "      <td>0.0</td>\n",
       "      <td>Master Master</td>\n",
       "      <td>Master Master</td>\n",
       "      <td>Master Master</td>\n",
       "    </tr>\n",
       "    <tr>\n",
       "      <th>6</th>\n",
       "      <td>2022-05-20</td>\n",
       "      <td>1</td>\n",
       "      <td>4.0</td>\n",
       "      <td>1.1 v 1.4</td>\n",
       "      <td>NaN</td>\n",
       "      <td>1:08-1:18</td>\n",
       "      <td>1.1</td>\n",
       "      <td>2:28-2:38</td>\n",
       "      <td>1.1</td>\n",
       "      <td>3:56-4:06</td>\n",
       "      <td>...</td>\n",
       "      <td>NO TRIAL</td>\n",
       "      <td>NO TRIAL</td>\n",
       "      <td>16.0</td>\n",
       "      <td>2</td>\n",
       "      <td>1.0</td>\n",
       "      <td>Master Master</td>\n",
       "      <td>1.0</td>\n",
       "      <td>Master Master</td>\n",
       "      <td>Master Master</td>\n",
       "      <td>Master Master</td>\n",
       "    </tr>\n",
       "    <tr>\n",
       "      <th>7</th>\n",
       "      <td>2022-05-20</td>\n",
       "      <td>1</td>\n",
       "      <td>3.0</td>\n",
       "      <td>1.2 v 1.3</td>\n",
       "      <td>NaN</td>\n",
       "      <td>1:10-1:20</td>\n",
       "      <td>1.2</td>\n",
       "      <td>2:28-2:38</td>\n",
       "      <td>1.2</td>\n",
       "      <td>3:57-4:07</td>\n",
       "      <td>...</td>\n",
       "      <td>NO TRIAL</td>\n",
       "      <td>NO TRIAL</td>\n",
       "      <td>16.0</td>\n",
       "      <td>2</td>\n",
       "      <td>1.0</td>\n",
       "      <td>Master Master</td>\n",
       "      <td>0.0</td>\n",
       "      <td>Master Master</td>\n",
       "      <td>Master Master</td>\n",
       "      <td>Master Master</td>\n",
       "    </tr>\n",
       "    <tr>\n",
       "      <th>8</th>\n",
       "      <td>2022-05-20</td>\n",
       "      <td>1</td>\n",
       "      <td>2.0</td>\n",
       "      <td>1.1 v 1.3</td>\n",
       "      <td>NaN</td>\n",
       "      <td>1:05-1:15</td>\n",
       "      <td>1.1</td>\n",
       "      <td>2:24-2:34</td>\n",
       "      <td>tie</td>\n",
       "      <td>3:53-4:03</td>\n",
       "      <td>...</td>\n",
       "      <td>29:47-29:57</td>\n",
       "      <td>1.1</td>\n",
       "      <td>16.0</td>\n",
       "      <td>checked whole row</td>\n",
       "      <td>1.0</td>\n",
       "      <td>Master Master</td>\n",
       "      <td>0.0</td>\n",
       "      <td>Master Master</td>\n",
       "      <td>Master Master</td>\n",
       "      <td>Master Master</td>\n",
       "    </tr>\n",
       "    <tr>\n",
       "      <th>9</th>\n",
       "      <td>2022-05-20</td>\n",
       "      <td>1</td>\n",
       "      <td>1.0</td>\n",
       "      <td>1.2 v 1.4</td>\n",
       "      <td>NaN</td>\n",
       "      <td>1:05-1:15</td>\n",
       "      <td>1.2</td>\n",
       "      <td>2:26-2:36</td>\n",
       "      <td>1.4</td>\n",
       "      <td>3:52-4:02</td>\n",
       "      <td>...</td>\n",
       "      <td>29:47-29:57</td>\n",
       "      <td>1.1</td>\n",
       "      <td>16.0</td>\n",
       "      <td>checked whole row</td>\n",
       "      <td>1.0</td>\n",
       "      <td>Master Master</td>\n",
       "      <td>0.0</td>\n",
       "      <td>Master Master</td>\n",
       "      <td>Master Master</td>\n",
       "      <td>Master Master</td>\n",
       "    </tr>\n",
       "    <tr>\n",
       "      <th>10</th>\n",
       "      <td>2022-05-20</td>\n",
       "      <td>1</td>\n",
       "      <td>4.0</td>\n",
       "      <td>1.1 v 1.2</td>\n",
       "      <td>NaN</td>\n",
       "      <td>1:06-1:16</td>\n",
       "      <td>1.1</td>\n",
       "      <td>2:25-2:35</td>\n",
       "      <td>Tie</td>\n",
       "      <td>3:54-4:04</td>\n",
       "      <td>...</td>\n",
       "      <td>NO TRIAL</td>\n",
       "      <td>NO TRIAL</td>\n",
       "      <td>5.0</td>\n",
       "      <td>0</td>\n",
       "      <td>10.0</td>\n",
       "      <td>Master Master</td>\n",
       "      <td>0.0</td>\n",
       "      <td>Master Master</td>\n",
       "      <td>Master Master</td>\n",
       "      <td>Master Master</td>\n",
       "    </tr>\n",
       "    <tr>\n",
       "      <th>11</th>\n",
       "      <td>2022-05-20</td>\n",
       "      <td>1</td>\n",
       "      <td>3.0</td>\n",
       "      <td>1.3 v 1.4</td>\n",
       "      <td>NaN</td>\n",
       "      <td>1:07-1:17</td>\n",
       "      <td>1.4</td>\n",
       "      <td>2:26-2:36</td>\n",
       "      <td>1.3</td>\n",
       "      <td>3:55-4:05</td>\n",
       "      <td>...</td>\n",
       "      <td>29:47-29:57</td>\n",
       "      <td>1.3</td>\n",
       "      <td>5.0</td>\n",
       "      <td>0</td>\n",
       "      <td>10.0</td>\n",
       "      <td>Master Master</td>\n",
       "      <td>0.0</td>\n",
       "      <td>Master Master</td>\n",
       "      <td>Master Master</td>\n",
       "      <td>Master Master</td>\n",
       "    </tr>\n",
       "    <tr>\n",
       "      <th>12</th>\n",
       "      <td>2022-05-19</td>\n",
       "      <td>2</td>\n",
       "      <td>3.0</td>\n",
       "      <td>2.1 v 2.2</td>\n",
       "      <td>NaN</td>\n",
       "      <td>1:14-1:24</td>\n",
       "      <td>2.1</td>\n",
       "      <td>02:34-02:44</td>\n",
       "      <td>2.1</td>\n",
       "      <td>4:03-4:13</td>\n",
       "      <td>...</td>\n",
       "      <td>29:58-30:08</td>\n",
       "      <td>2.1</td>\n",
       "      <td>5.0</td>\n",
       "      <td>0</td>\n",
       "      <td>10.0</td>\n",
       "      <td>Master Master</td>\n",
       "      <td>-1.0</td>\n",
       "      <td>Master Master</td>\n",
       "      <td>Master Master</td>\n",
       "      <td>Master Master</td>\n",
       "    </tr>\n",
       "    <tr>\n",
       "      <th>13</th>\n",
       "      <td>2022-05-19</td>\n",
       "      <td>2</td>\n",
       "      <td>4.0</td>\n",
       "      <td>2.3 v 2.4</td>\n",
       "      <td>NaN</td>\n",
       "      <td>2.15-2.25</td>\n",
       "      <td>2.3</td>\n",
       "      <td>2.33-2.43</td>\n",
       "      <td>2.3</td>\n",
       "      <td>4.02-4.12</td>\n",
       "      <td>...</td>\n",
       "      <td>29.57-30.07</td>\n",
       "      <td>2.3</td>\n",
       "      <td>5.0</td>\n",
       "      <td>0</td>\n",
       "      <td>10.0</td>\n",
       "      <td>Master Master</td>\n",
       "      <td>0.0</td>\n",
       "      <td>Master Master</td>\n",
       "      <td>Master Master</td>\n",
       "      <td>Master Master</td>\n",
       "    </tr>\n",
       "    <tr>\n",
       "      <th>14</th>\n",
       "      <td>2022-05-19</td>\n",
       "      <td>2</td>\n",
       "      <td>1.0</td>\n",
       "      <td>2.1 v 2.3</td>\n",
       "      <td>NaN</td>\n",
       "      <td>1:04-1:14</td>\n",
       "      <td>2.3</td>\n",
       "      <td>2:24-2:34</td>\n",
       "      <td>2.3</td>\n",
       "      <td>3:53-4:03</td>\n",
       "      <td>...</td>\n",
       "      <td>29.57-30.07</td>\n",
       "      <td>2.3</td>\n",
       "      <td>7.0</td>\n",
       "      <td>0</td>\n",
       "      <td>0.0</td>\n",
       "      <td>Master Master</td>\n",
       "      <td>0.0</td>\n",
       "      <td>Master Master</td>\n",
       "      <td>Master Master</td>\n",
       "      <td>Master Master</td>\n",
       "    </tr>\n",
       "    <tr>\n",
       "      <th>15</th>\n",
       "      <td>2022-05-19</td>\n",
       "      <td>2</td>\n",
       "      <td>2.0</td>\n",
       "      <td>2.2 v 2.4</td>\n",
       "      <td>NaN</td>\n",
       "      <td>1:05-1:15</td>\n",
       "      <td>2.4</td>\n",
       "      <td>2:25-2:35</td>\n",
       "      <td>2.4</td>\n",
       "      <td>3:53-4:03</td>\n",
       "      <td>...</td>\n",
       "      <td>29:46-29:56</td>\n",
       "      <td>2.2</td>\n",
       "      <td>7.0</td>\n",
       "      <td>0</td>\n",
       "      <td>0.0</td>\n",
       "      <td>Master Master</td>\n",
       "      <td>0.0</td>\n",
       "      <td>Master Master</td>\n",
       "      <td>Master Master</td>\n",
       "      <td>Master Master</td>\n",
       "    </tr>\n",
       "    <tr>\n",
       "      <th>16</th>\n",
       "      <td>2022-05-19</td>\n",
       "      <td>2</td>\n",
       "      <td>3.0</td>\n",
       "      <td>2.1 v 2.4</td>\n",
       "      <td>NaN</td>\n",
       "      <td>2:36-2:46</td>\n",
       "      <td>2.1</td>\n",
       "      <td>4:05:4:15</td>\n",
       "      <td>2.4</td>\n",
       "      <td>5:24-5:34</td>\n",
       "      <td>...</td>\n",
       "      <td>1:18-1:28</td>\n",
       "      <td>2.1</td>\n",
       "      <td>7.0</td>\n",
       "      <td>0</td>\n",
       "      <td>0.0</td>\n",
       "      <td>Master Master</td>\n",
       "      <td>0.0</td>\n",
       "      <td>Master Master</td>\n",
       "      <td>Master Master</td>\n",
       "      <td>Master Master</td>\n",
       "    </tr>\n",
       "    <tr>\n",
       "      <th>17</th>\n",
       "      <td>2022-05-19</td>\n",
       "      <td>2</td>\n",
       "      <td>4.0</td>\n",
       "      <td>2.2 v 2.3</td>\n",
       "      <td>NaN</td>\n",
       "      <td>1:17-1:27</td>\n",
       "      <td>2.2</td>\n",
       "      <td>2:35-2:45</td>\n",
       "      <td>2.3</td>\n",
       "      <td>4:04-4:14</td>\n",
       "      <td>...</td>\n",
       "      <td>29:57-30:07</td>\n",
       "      <td>2.2</td>\n",
       "      <td>0.0</td>\n",
       "      <td>0</td>\n",
       "      <td>3.0</td>\n",
       "      <td>Master Master</td>\n",
       "      <td>0.0</td>\n",
       "      <td>Master Master</td>\n",
       "      <td>Master Master</td>\n",
       "      <td>Master Master</td>\n",
       "    </tr>\n",
       "    <tr>\n",
       "      <th>18</th>\n",
       "      <td>2022-05-20</td>\n",
       "      <td>2</td>\n",
       "      <td>2.0</td>\n",
       "      <td>2.1 v 2.4</td>\n",
       "      <td>NaN</td>\n",
       "      <td>1:09-1:19</td>\n",
       "      <td>2.1</td>\n",
       "      <td>2:26-2:36</td>\n",
       "      <td>2.4</td>\n",
       "      <td>3:55-4:05</td>\n",
       "      <td>...</td>\n",
       "      <td>29:50-30:00</td>\n",
       "      <td>2.1</td>\n",
       "      <td>0.0</td>\n",
       "      <td>0</td>\n",
       "      <td>3.0</td>\n",
       "      <td>Master Master</td>\n",
       "      <td>1.0</td>\n",
       "      <td>Master Master</td>\n",
       "      <td>Master Master</td>\n",
       "      <td>Master Master</td>\n",
       "    </tr>\n",
       "    <tr>\n",
       "      <th>19</th>\n",
       "      <td>2022-05-20</td>\n",
       "      <td>2</td>\n",
       "      <td>1.0</td>\n",
       "      <td>2.2 v 2.3</td>\n",
       "      <td>NaN</td>\n",
       "      <td>2.07-2.17</td>\n",
       "      <td>2.3</td>\n",
       "      <td>2.26-2.36</td>\n",
       "      <td>2.2</td>\n",
       "      <td>3.54-4.04</td>\n",
       "      <td>...</td>\n",
       "      <td>29.47-29.57</td>\n",
       "      <td>2.3</td>\n",
       "      <td>0.0</td>\n",
       "      <td>0</td>\n",
       "      <td>3.0</td>\n",
       "      <td>Master Master</td>\n",
       "      <td>0.0</td>\n",
       "      <td>Master Master</td>\n",
       "      <td>Master Master</td>\n",
       "      <td>Master Master</td>\n",
       "    </tr>\n",
       "    <tr>\n",
       "      <th>20</th>\n",
       "      <td>2022-05-20</td>\n",
       "      <td>2</td>\n",
       "      <td>4.0</td>\n",
       "      <td>2.1 v 2.3</td>\n",
       "      <td>NaN</td>\n",
       "      <td>1:10-1:20</td>\n",
       "      <td>2.3</td>\n",
       "      <td>2:29-2:39</td>\n",
       "      <td>tie</td>\n",
       "      <td>3:58-4:08</td>\n",
       "      <td>...</td>\n",
       "      <td>29:53-30:03</td>\n",
       "      <td>2.1</td>\n",
       "      <td>6.0</td>\n",
       "      <td>0</td>\n",
       "      <td>10.0</td>\n",
       "      <td>Master Master</td>\n",
       "      <td>0.0</td>\n",
       "      <td>Master Master</td>\n",
       "      <td>Master Master</td>\n",
       "      <td>Master Master</td>\n",
       "    </tr>\n",
       "    <tr>\n",
       "      <th>21</th>\n",
       "      <td>2022-05-20</td>\n",
       "      <td>2</td>\n",
       "      <td>3.0</td>\n",
       "      <td>2.2 v 2.4</td>\n",
       "      <td>NaN</td>\n",
       "      <td>1:10-1:20</td>\n",
       "      <td>2.4</td>\n",
       "      <td>2:29-2:39</td>\n",
       "      <td>2.4</td>\n",
       "      <td>3:59-4:09</td>\n",
       "      <td>...</td>\n",
       "      <td>29:52-30:02</td>\n",
       "      <td>2.4</td>\n",
       "      <td>0.0</td>\n",
       "      <td>11</td>\n",
       "      <td>4.0</td>\n",
       "      <td>Master Master</td>\n",
       "      <td>0.0</td>\n",
       "      <td>Master Master</td>\n",
       "      <td>Master Master</td>\n",
       "      <td>Master Master</td>\n",
       "    </tr>\n",
       "    <tr>\n",
       "      <th>22</th>\n",
       "      <td>2022-05-20</td>\n",
       "      <td>2</td>\n",
       "      <td>2.0</td>\n",
       "      <td>2.1 v 2.2</td>\n",
       "      <td>NaN</td>\n",
       "      <td>1:06-1:16</td>\n",
       "      <td>2.1</td>\n",
       "      <td>2:25-2:35</td>\n",
       "      <td>2.2</td>\n",
       "      <td>3:54-4:04</td>\n",
       "      <td>...</td>\n",
       "      <td>29:45-29:55</td>\n",
       "      <td>2.1</td>\n",
       "      <td>0.0</td>\n",
       "      <td>11</td>\n",
       "      <td>4.0</td>\n",
       "      <td>Master Master</td>\n",
       "      <td>0.0</td>\n",
       "      <td>Master Master</td>\n",
       "      <td>Master Master</td>\n",
       "      <td>Master Master</td>\n",
       "    </tr>\n",
       "    <tr>\n",
       "      <th>23</th>\n",
       "      <td>2022-05-20</td>\n",
       "      <td>2</td>\n",
       "      <td>1.0</td>\n",
       "      <td>2.3 v 2.4</td>\n",
       "      <td>NaN</td>\n",
       "      <td>2.06-2.16</td>\n",
       "      <td>2.3</td>\n",
       "      <td>2.25-2.35</td>\n",
       "      <td>2.3</td>\n",
       "      <td>3.53-4.03</td>\n",
       "      <td>...</td>\n",
       "      <td>29.46-29.56</td>\n",
       "      <td>2.4</td>\n",
       "      <td>0.0</td>\n",
       "      <td>11</td>\n",
       "      <td>4.0</td>\n",
       "      <td>Master Master</td>\n",
       "      <td>0.0</td>\n",
       "      <td>Master Master</td>\n",
       "      <td>Master Master</td>\n",
       "      <td>Master Master</td>\n",
       "    </tr>\n",
       "    <tr>\n",
       "      <th>24</th>\n",
       "      <td>2022-05-19</td>\n",
       "      <td>3</td>\n",
       "      <td>1.0</td>\n",
       "      <td>3.1 v 3.2</td>\n",
       "      <td>NaN</td>\n",
       "      <td>1:12-1:22</td>\n",
       "      <td>3.1</td>\n",
       "      <td>2:31-2:41</td>\n",
       "      <td>3.1</td>\n",
       "      <td>4:00-4:10</td>\n",
       "      <td>...</td>\n",
       "      <td>29:54-30:04</td>\n",
       "      <td>3.2</td>\n",
       "      <td>0.0</td>\n",
       "      <td>checked whole row</td>\n",
       "      <td>4.0</td>\n",
       "      <td>Master Master</td>\n",
       "      <td>-1.0</td>\n",
       "      <td>Master Master</td>\n",
       "      <td>Master Master</td>\n",
       "      <td>Master Master</td>\n",
       "    </tr>\n",
       "    <tr>\n",
       "      <th>25</th>\n",
       "      <td>2022-05-19</td>\n",
       "      <td>3</td>\n",
       "      <td>2.0</td>\n",
       "      <td>3.3 v 3.4</td>\n",
       "      <td>NaN</td>\n",
       "      <td>1:12-1:22</td>\n",
       "      <td>3.3</td>\n",
       "      <td>2:31-2:41</td>\n",
       "      <td>3.4</td>\n",
       "      <td>4:00-4:10</td>\n",
       "      <td>...</td>\n",
       "      <td>29:54-30:04</td>\n",
       "      <td>3.3</td>\n",
       "      <td>0.0</td>\n",
       "      <td>0</td>\n",
       "      <td>0.0</td>\n",
       "      <td>Master Master</td>\n",
       "      <td>0.0</td>\n",
       "      <td>Master Master</td>\n",
       "      <td>Master Master</td>\n",
       "      <td>Master Master</td>\n",
       "    </tr>\n",
       "    <tr>\n",
       "      <th>26</th>\n",
       "      <td>2022-05-19</td>\n",
       "      <td>3</td>\n",
       "      <td>3.0</td>\n",
       "      <td>3.1 v 3.3</td>\n",
       "      <td>NaN</td>\n",
       "      <td>1.40-1.50</td>\n",
       "      <td>3.3</td>\n",
       "      <td>1.58-3.08</td>\n",
       "      <td>3.1</td>\n",
       "      <td>3.28-3.38</td>\n",
       "      <td>...</td>\n",
       "      <td>29:54-30:04</td>\n",
       "      <td>3.3</td>\n",
       "      <td>0.0</td>\n",
       "      <td>0</td>\n",
       "      <td>0.0</td>\n",
       "      <td>Master Master</td>\n",
       "      <td>0.0</td>\n",
       "      <td>Master Master</td>\n",
       "      <td>Master Master</td>\n",
       "      <td>Master Master</td>\n",
       "    </tr>\n",
       "    <tr>\n",
       "      <th>27</th>\n",
       "      <td>2022-05-19</td>\n",
       "      <td>3</td>\n",
       "      <td>4.0</td>\n",
       "      <td>3.2 v 3.4</td>\n",
       "      <td>NaN</td>\n",
       "      <td>1:39-1:49</td>\n",
       "      <td>3.4</td>\n",
       "      <td>2:58-3:08</td>\n",
       "      <td>3.2</td>\n",
       "      <td>4:27-4:37</td>\n",
       "      <td>...</td>\n",
       "      <td>29:54-30:04</td>\n",
       "      <td>3.3</td>\n",
       "      <td>0.0</td>\n",
       "      <td>checked whole row</td>\n",
       "      <td>0.0</td>\n",
       "      <td>Master Master</td>\n",
       "      <td>0.0</td>\n",
       "      <td>Master Master</td>\n",
       "      <td>Master Master</td>\n",
       "      <td>Master Master</td>\n",
       "    </tr>\n",
       "    <tr>\n",
       "      <th>28</th>\n",
       "      <td>2022-05-19</td>\n",
       "      <td>3</td>\n",
       "      <td>1.0</td>\n",
       "      <td>3.1 v 3.4</td>\n",
       "      <td>NaN</td>\n",
       "      <td>2:08-2:18</td>\n",
       "      <td>3.4</td>\n",
       "      <td>3:28-3:38</td>\n",
       "      <td>3.4</td>\n",
       "      <td>4:56-5:06</td>\n",
       "      <td>...</td>\n",
       "      <td>NO TRIAL</td>\n",
       "      <td>NO TRIAL</td>\n",
       "      <td>0.0</td>\n",
       "      <td>0</td>\n",
       "      <td>1.0</td>\n",
       "      <td>Master Master</td>\n",
       "      <td>0.0</td>\n",
       "      <td>Master Master</td>\n",
       "      <td>Master Master</td>\n",
       "      <td>Master Master</td>\n",
       "    </tr>\n",
       "    <tr>\n",
       "      <th>29</th>\n",
       "      <td>2022-05-19</td>\n",
       "      <td>3</td>\n",
       "      <td>2.0</td>\n",
       "      <td>3.2 v 3.3</td>\n",
       "      <td>NaN</td>\n",
       "      <td>1.09-1.19</td>\n",
       "      <td>tie</td>\n",
       "      <td>3.28-3.38</td>\n",
       "      <td>3.2</td>\n",
       "      <td>3.56-5.06</td>\n",
       "      <td>...</td>\n",
       "      <td>NO TRIAL</td>\n",
       "      <td>NO TRIAL</td>\n",
       "      <td>0.0</td>\n",
       "      <td>0</td>\n",
       "      <td>1.0</td>\n",
       "      <td>Master Master</td>\n",
       "      <td>0.0</td>\n",
       "      <td>Master Master</td>\n",
       "      <td>Master Master</td>\n",
       "      <td>Master Master</td>\n",
       "    </tr>\n",
       "    <tr>\n",
       "      <th>30</th>\n",
       "      <td>2022-05-20</td>\n",
       "      <td>3</td>\n",
       "      <td>4.0</td>\n",
       "      <td>3.1 v 3.4</td>\n",
       "      <td>NaN</td>\n",
       "      <td>1:14-1:24</td>\n",
       "      <td>3.4</td>\n",
       "      <td>2:33-2:43</td>\n",
       "      <td>3.4</td>\n",
       "      <td>4:02-4:12</td>\n",
       "      <td>...</td>\n",
       "      <td>29:56-30:06</td>\n",
       "      <td>3.1</td>\n",
       "      <td>0.0</td>\n",
       "      <td>0</td>\n",
       "      <td>0.0</td>\n",
       "      <td>Master Master</td>\n",
       "      <td>1.0</td>\n",
       "      <td>Master Master</td>\n",
       "      <td>Master Master</td>\n",
       "      <td>Master Master</td>\n",
       "    </tr>\n",
       "    <tr>\n",
       "      <th>31</th>\n",
       "      <td>2022-05-20</td>\n",
       "      <td>3</td>\n",
       "      <td>3.0</td>\n",
       "      <td>3.2 v 3.3</td>\n",
       "      <td>NaN</td>\n",
       "      <td>1:13-1:24</td>\n",
       "      <td>3.2</td>\n",
       "      <td>2:33-2:43</td>\n",
       "      <td>3.2</td>\n",
       "      <td>4:01-4:11</td>\n",
       "      <td>...</td>\n",
       "      <td>29:56-30:06</td>\n",
       "      <td>3.3</td>\n",
       "      <td>0.0</td>\n",
       "      <td>checked whole row</td>\n",
       "      <td>0.0</td>\n",
       "      <td>Master Master</td>\n",
       "      <td>0.0</td>\n",
       "      <td>Master Master</td>\n",
       "      <td>Master Master</td>\n",
       "      <td>Master Master</td>\n",
       "    </tr>\n",
       "    <tr>\n",
       "      <th>32</th>\n",
       "      <td>2022-05-20</td>\n",
       "      <td>3</td>\n",
       "      <td>2.0</td>\n",
       "      <td>3.1 v 3.3</td>\n",
       "      <td>NaN</td>\n",
       "      <td>1.08-1.18</td>\n",
       "      <td>tie</td>\n",
       "      <td>1.26-1.36</td>\n",
       "      <td>3.1</td>\n",
       "      <td>3.55-3.05</td>\n",
       "      <td>...</td>\n",
       "      <td>29.45-29.55</td>\n",
       "      <td>3.1</td>\n",
       "      <td>0.0</td>\n",
       "      <td>checked whole row</td>\n",
       "      <td>0.0</td>\n",
       "      <td>Master Master</td>\n",
       "      <td>0.0</td>\n",
       "      <td>Master Master</td>\n",
       "      <td>Master Master</td>\n",
       "      <td>Master Master</td>\n",
       "    </tr>\n",
       "    <tr>\n",
       "      <th>33</th>\n",
       "      <td>2022-05-20</td>\n",
       "      <td>3</td>\n",
       "      <td>1.0</td>\n",
       "      <td>3.2 v 3.4</td>\n",
       "      <td>NaN</td>\n",
       "      <td>1:08-1:18</td>\n",
       "      <td>3.2</td>\n",
       "      <td>2:27-2:37</td>\n",
       "      <td>3.2</td>\n",
       "      <td>3:55-4:05</td>\n",
       "      <td>...</td>\n",
       "      <td>NO TRIAL</td>\n",
       "      <td>NO TRIAL</td>\n",
       "      <td>0.0</td>\n",
       "      <td>0</td>\n",
       "      <td>1.0</td>\n",
       "      <td>Master Master</td>\n",
       "      <td>0.0</td>\n",
       "      <td>Master Master</td>\n",
       "      <td>Master Master</td>\n",
       "      <td>Master Master</td>\n",
       "    </tr>\n",
       "    <tr>\n",
       "      <th>34</th>\n",
       "      <td>2022-05-20</td>\n",
       "      <td>3</td>\n",
       "      <td>3.0</td>\n",
       "      <td>3.3 v 3.4</td>\n",
       "      <td>NaN</td>\n",
       "      <td>1:31-1:41</td>\n",
       "      <td>3.4</td>\n",
       "      <td>2:50-3:00</td>\n",
       "      <td>3.3</td>\n",
       "      <td>4:18-4:28</td>\n",
       "      <td>...</td>\n",
       "      <td>30:14-30:24</td>\n",
       "      <td>3.4</td>\n",
       "      <td>0.0</td>\n",
       "      <td>checked whole row</td>\n",
       "      <td>1.0</td>\n",
       "      <td>Master Master</td>\n",
       "      <td>0.0</td>\n",
       "      <td>Master Master</td>\n",
       "      <td>Master Master</td>\n",
       "      <td>Master Master</td>\n",
       "    </tr>\n",
       "    <tr>\n",
       "      <th>35</th>\n",
       "      <td>2022-05-20</td>\n",
       "      <td>3</td>\n",
       "      <td>1.4</td>\n",
       "      <td>3.1 v 3.4</td>\n",
       "      <td>NaN</td>\n",
       "      <td>1:14-1:25</td>\n",
       "      <td>3.4</td>\n",
       "      <td>2:33-2:43</td>\n",
       "      <td>3.4</td>\n",
       "      <td>4:02-4:13</td>\n",
       "      <td>...</td>\n",
       "      <td>29:56-30:06</td>\n",
       "      <td>3.1</td>\n",
       "      <td>0.0</td>\n",
       "      <td>0</td>\n",
       "      <td>0.0</td>\n",
       "      <td>Master Master</td>\n",
       "      <td>0.0</td>\n",
       "      <td>Master Master</td>\n",
       "      <td>Master Master</td>\n",
       "      <td>Master Master</td>\n",
       "    </tr>\n",
       "    <tr>\n",
       "      <th>36</th>\n",
       "      <td>2022-05-19</td>\n",
       "      <td>4</td>\n",
       "      <td>3.0</td>\n",
       "      <td>4.1 v 4.2</td>\n",
       "      <td>NaN</td>\n",
       "      <td>1:14-1:24</td>\n",
       "      <td>4.1</td>\n",
       "      <td>2:33-2:43</td>\n",
       "      <td>4.1</td>\n",
       "      <td>4:02-4:12</td>\n",
       "      <td>...</td>\n",
       "      <td>29:57-30:07</td>\n",
       "      <td>4.1</td>\n",
       "      <td>0.0</td>\n",
       "      <td>0</td>\n",
       "      <td>0.0</td>\n",
       "      <td>Master Master</td>\n",
       "      <td>-1.0</td>\n",
       "      <td>Master Master</td>\n",
       "      <td>Master Master</td>\n",
       "      <td>Master Master</td>\n",
       "    </tr>\n",
       "    <tr>\n",
       "      <th>37</th>\n",
       "      <td>2022-05-19</td>\n",
       "      <td>4</td>\n",
       "      <td>4.0</td>\n",
       "      <td>4.3 v 4.4</td>\n",
       "      <td>NaN</td>\n",
       "      <td>1.14-1.24</td>\n",
       "      <td>4.3</td>\n",
       "      <td>1.33-1.43</td>\n",
       "      <td>4.4</td>\n",
       "      <td>4.03-4.13</td>\n",
       "      <td>...</td>\n",
       "      <td>29.57-30.07</td>\n",
       "      <td>4.3</td>\n",
       "      <td>0.0</td>\n",
       "      <td>0</td>\n",
       "      <td>0.0</td>\n",
       "      <td>Master Master</td>\n",
       "      <td>0.0</td>\n",
       "      <td>Master Master</td>\n",
       "      <td>Master Master</td>\n",
       "      <td>Master Master</td>\n",
       "    </tr>\n",
       "    <tr>\n",
       "      <th>38</th>\n",
       "      <td>2022-05-19</td>\n",
       "      <td>4</td>\n",
       "      <td>1.0</td>\n",
       "      <td>4.1 v 4.3</td>\n",
       "      <td>NaN</td>\n",
       "      <td>1:26-1:36</td>\n",
       "      <td>4.1</td>\n",
       "      <td>2:45-2:55</td>\n",
       "      <td>4.1</td>\n",
       "      <td>4:14-4:24</td>\n",
       "      <td>...</td>\n",
       "      <td>29.57-30.07</td>\n",
       "      <td>4.3</td>\n",
       "      <td>0.0</td>\n",
       "      <td>0</td>\n",
       "      <td>3.0</td>\n",
       "      <td>Master Master</td>\n",
       "      <td>0.0</td>\n",
       "      <td>Master Master</td>\n",
       "      <td>Master Master</td>\n",
       "      <td>Master Master</td>\n",
       "    </tr>\n",
       "    <tr>\n",
       "      <th>39</th>\n",
       "      <td>2022-05-19</td>\n",
       "      <td>4</td>\n",
       "      <td>2.0</td>\n",
       "      <td>4.2 v 4.4</td>\n",
       "      <td>NaN</td>\n",
       "      <td>1:27-1:37</td>\n",
       "      <td>4.4</td>\n",
       "      <td>2:45-2:55</td>\n",
       "      <td>4.2</td>\n",
       "      <td>4:14-4:24</td>\n",
       "      <td>...</td>\n",
       "      <td>NO TRIAL</td>\n",
       "      <td>NO TRIAL</td>\n",
       "      <td>0.0</td>\n",
       "      <td>0</td>\n",
       "      <td>0.0</td>\n",
       "      <td>Master Master</td>\n",
       "      <td>0.0</td>\n",
       "      <td>Master Master</td>\n",
       "      <td>Master Master</td>\n",
       "      <td>Master Master</td>\n",
       "    </tr>\n",
       "    <tr>\n",
       "      <th>40</th>\n",
       "      <td>2022-05-19</td>\n",
       "      <td>4</td>\n",
       "      <td>3.0</td>\n",
       "      <td>4.1 v 4.4</td>\n",
       "      <td>NaN</td>\n",
       "      <td>1:12-1:22</td>\n",
       "      <td>4.1</td>\n",
       "      <td>2:31-2:41</td>\n",
       "      <td>4.1</td>\n",
       "      <td>4:00-4:10</td>\n",
       "      <td>...</td>\n",
       "      <td>29:54-30:04</td>\n",
       "      <td>4.4</td>\n",
       "      <td>0.0</td>\n",
       "      <td>checked whole row</td>\n",
       "      <td>0.0</td>\n",
       "      <td>Master Master</td>\n",
       "      <td>0.0</td>\n",
       "      <td>Master Master</td>\n",
       "      <td>Master Master</td>\n",
       "      <td>Master Master</td>\n",
       "    </tr>\n",
       "    <tr>\n",
       "      <th>41</th>\n",
       "      <td>2022-05-19</td>\n",
       "      <td>4</td>\n",
       "      <td>4.0</td>\n",
       "      <td>4.2 v 4.3</td>\n",
       "      <td>NaN</td>\n",
       "      <td>2:22-2:32</td>\n",
       "      <td>4.2</td>\n",
       "      <td>3:41-3:51</td>\n",
       "      <td>4.2</td>\n",
       "      <td>5:09-5:19</td>\n",
       "      <td>...</td>\n",
       "      <td>29:54-30:04</td>\n",
       "      <td>4.4</td>\n",
       "      <td>0.0</td>\n",
       "      <td>0</td>\n",
       "      <td>2.0</td>\n",
       "      <td>Master Master</td>\n",
       "      <td>0.0</td>\n",
       "      <td>Master Master</td>\n",
       "      <td>Master Master</td>\n",
       "      <td>Master Master</td>\n",
       "    </tr>\n",
       "    <tr>\n",
       "      <th>42</th>\n",
       "      <td>2022-05-20</td>\n",
       "      <td>4</td>\n",
       "      <td>2.0</td>\n",
       "      <td>4.1 v 4.4</td>\n",
       "      <td>NaN</td>\n",
       "      <td>1.13-1.23</td>\n",
       "      <td>4.1</td>\n",
       "      <td>1.32-1.42</td>\n",
       "      <td>4.1</td>\n",
       "      <td>4.01-4.11</td>\n",
       "      <td>...</td>\n",
       "      <td>29.55-30.05</td>\n",
       "      <td>4.4</td>\n",
       "      <td>0.0</td>\n",
       "      <td>0</td>\n",
       "      <td>2.0</td>\n",
       "      <td>Master Master</td>\n",
       "      <td>1.0</td>\n",
       "      <td>Master Master</td>\n",
       "      <td>Master Master</td>\n",
       "      <td>Master Master</td>\n",
       "    </tr>\n",
       "    <tr>\n",
       "      <th>43</th>\n",
       "      <td>2022-05-20</td>\n",
       "      <td>4</td>\n",
       "      <td>1.0</td>\n",
       "      <td>4.2 v 4.3</td>\n",
       "      <td>NaN</td>\n",
       "      <td>1:13-1:23</td>\n",
       "      <td>4.3</td>\n",
       "      <td>2:31-2:41</td>\n",
       "      <td>4.3</td>\n",
       "      <td>4:00-4:10</td>\n",
       "      <td>...</td>\n",
       "      <td>29:54-30:04</td>\n",
       "      <td>4.2</td>\n",
       "      <td>0.0</td>\n",
       "      <td>0</td>\n",
       "      <td>4.0</td>\n",
       "      <td>Master Master</td>\n",
       "      <td>0.0</td>\n",
       "      <td>Master Master</td>\n",
       "      <td>Master Master</td>\n",
       "      <td>Master Master</td>\n",
       "    </tr>\n",
       "    <tr>\n",
       "      <th>44</th>\n",
       "      <td>2022-05-20</td>\n",
       "      <td>4</td>\n",
       "      <td>4.0</td>\n",
       "      <td>4.1 v 4.3</td>\n",
       "      <td>NaN</td>\n",
       "      <td>2:56-3:06</td>\n",
       "      <td>4.3</td>\n",
       "      <td>4:15-4:25</td>\n",
       "      <td>4.3</td>\n",
       "      <td>5:44-5:54</td>\n",
       "      <td>...</td>\n",
       "      <td>29:54-30:04</td>\n",
       "      <td>4.2</td>\n",
       "      <td>0.0</td>\n",
       "      <td>0</td>\n",
       "      <td>1.0</td>\n",
       "      <td>Master Master</td>\n",
       "      <td>0.0</td>\n",
       "      <td>Master Master</td>\n",
       "      <td>Master Master</td>\n",
       "      <td>Master Master</td>\n",
       "    </tr>\n",
       "    <tr>\n",
       "      <th>45</th>\n",
       "      <td>2022-05-20</td>\n",
       "      <td>4</td>\n",
       "      <td>3.0</td>\n",
       "      <td>4.2 v 4.4</td>\n",
       "      <td>NaN</td>\n",
       "      <td>2:57-3:07</td>\n",
       "      <td>4.4</td>\n",
       "      <td>4:15-4:25</td>\n",
       "      <td>4.4</td>\n",
       "      <td>5:44-5:54</td>\n",
       "      <td>...</td>\n",
       "      <td>29:54-30:04</td>\n",
       "      <td>4.2</td>\n",
       "      <td>0.0</td>\n",
       "      <td>checked whole row</td>\n",
       "      <td>1.0</td>\n",
       "      <td>Master Master</td>\n",
       "      <td>0.0</td>\n",
       "      <td>Master Master</td>\n",
       "      <td>Master Master</td>\n",
       "      <td>Master Master</td>\n",
       "    </tr>\n",
       "    <tr>\n",
       "      <th>46</th>\n",
       "      <td>2022-05-20</td>\n",
       "      <td>4</td>\n",
       "      <td>2.0</td>\n",
       "      <td>4.1 v 4.2</td>\n",
       "      <td>NaN</td>\n",
       "      <td>1:11-1:21</td>\n",
       "      <td>4.1</td>\n",
       "      <td>2:30-2:40</td>\n",
       "      <td>4.2</td>\n",
       "      <td>3:58-4:08</td>\n",
       "      <td>...</td>\n",
       "      <td>29:52-30:02</td>\n",
       "      <td>4.1</td>\n",
       "      <td>0.0</td>\n",
       "      <td>checked whole row</td>\n",
       "      <td>1.0</td>\n",
       "      <td>Master Master</td>\n",
       "      <td>0.0</td>\n",
       "      <td>Master Master</td>\n",
       "      <td>Master Master</td>\n",
       "      <td>Master Master</td>\n",
       "    </tr>\n",
       "    <tr>\n",
       "      <th>47</th>\n",
       "      <td>2022-05-20</td>\n",
       "      <td>4</td>\n",
       "      <td>1.0</td>\n",
       "      <td>4.3 v 4.4</td>\n",
       "      <td>NaN</td>\n",
       "      <td>1:12-1:22</td>\n",
       "      <td>4.3</td>\n",
       "      <td>2:30-2:40</td>\n",
       "      <td>4.3</td>\n",
       "      <td>3:58-4:08</td>\n",
       "      <td>...</td>\n",
       "      <td>29:53-30:03</td>\n",
       "      <td>4.3</td>\n",
       "      <td>0.0</td>\n",
       "      <td>0</td>\n",
       "      <td>1.0</td>\n",
       "      <td>Master Master</td>\n",
       "      <td>0.0</td>\n",
       "      <td>Master Master</td>\n",
       "      <td>Master Master</td>\n",
       "      <td>Master Master</td>\n",
       "    </tr>\n",
       "  </tbody>\n",
       "</table>\n",
       "<p>48 rows × 53 columns</p>\n",
       "</div>"
      ],
      "text/plain": [
       "         date  cage  box      match  scorer trial_1_time trial_1_winner  \\\n",
       "0  2022-05-19     1  1.0  1.1 v 1.2     NaN    1:12-1:22            1.1   \n",
       "1  2022-05-19     1  2.0  1.3 v 1.4     NaN    1:12-1:22            1.4   \n",
       "2  2022-05-19     1  3.0  1.1 v 1.3     NaN    1:07-1:17            1.3   \n",
       "3  2022-05-19     1  4.0  1.2 v 1.4     NaN    1:06-1:16            1.4   \n",
       "4  2022-05-19     1  2.0  1.2 v 1.3     NaN    1:11-1:21            1.2   \n",
       "5  2022-05-19     1  1.0  1.1 v 1.4     NaN    1.12-1.22            1.4   \n",
       "6  2022-05-20     1  4.0  1.1 v 1.4     NaN    1:08-1:18            1.1   \n",
       "7  2022-05-20     1  3.0  1.2 v 1.3     NaN    1:10-1:20            1.2   \n",
       "8  2022-05-20     1  2.0  1.1 v 1.3     NaN    1:05-1:15            1.1   \n",
       "9  2022-05-20     1  1.0  1.2 v 1.4     NaN    1:05-1:15            1.2   \n",
       "10 2022-05-20     1  4.0  1.1 v 1.2     NaN    1:06-1:16            1.1   \n",
       "11 2022-05-20     1  3.0  1.3 v 1.4     NaN    1:07-1:17            1.4   \n",
       "12 2022-05-19     2  3.0  2.1 v 2.2     NaN    1:14-1:24            2.1   \n",
       "13 2022-05-19     2  4.0  2.3 v 2.4     NaN    2.15-2.25            2.3   \n",
       "14 2022-05-19     2  1.0  2.1 v 2.3     NaN    1:04-1:14            2.3   \n",
       "15 2022-05-19     2  2.0  2.2 v 2.4     NaN    1:05-1:15            2.4   \n",
       "16 2022-05-19     2  3.0  2.1 v 2.4     NaN    2:36-2:46            2.1   \n",
       "17 2022-05-19     2  4.0  2.2 v 2.3     NaN    1:17-1:27            2.2   \n",
       "18 2022-05-20     2  2.0  2.1 v 2.4     NaN    1:09-1:19            2.1   \n",
       "19 2022-05-20     2  1.0  2.2 v 2.3     NaN    2.07-2.17            2.3   \n",
       "20 2022-05-20     2  4.0  2.1 v 2.3     NaN    1:10-1:20            2.3   \n",
       "21 2022-05-20     2  3.0  2.2 v 2.4     NaN    1:10-1:20            2.4   \n",
       "22 2022-05-20     2  2.0  2.1 v 2.2     NaN    1:06-1:16            2.1   \n",
       "23 2022-05-20     2  1.0  2.3 v 2.4     NaN    2.06-2.16            2.3   \n",
       "24 2022-05-19     3  1.0  3.1 v 3.2     NaN    1:12-1:22            3.1   \n",
       "25 2022-05-19     3  2.0  3.3 v 3.4     NaN    1:12-1:22            3.3   \n",
       "26 2022-05-19     3  3.0  3.1 v 3.3     NaN    1.40-1.50            3.3   \n",
       "27 2022-05-19     3  4.0  3.2 v 3.4     NaN    1:39-1:49            3.4   \n",
       "28 2022-05-19     3  1.0  3.1 v 3.4     NaN    2:08-2:18            3.4   \n",
       "29 2022-05-19     3  2.0  3.2 v 3.3     NaN    1.09-1.19            tie   \n",
       "30 2022-05-20     3  4.0  3.1 v 3.4     NaN    1:14-1:24            3.4   \n",
       "31 2022-05-20     3  3.0  3.2 v 3.3     NaN    1:13-1:24            3.2   \n",
       "32 2022-05-20     3  2.0  3.1 v 3.3     NaN    1.08-1.18            tie   \n",
       "33 2022-05-20     3  1.0  3.2 v 3.4     NaN    1:08-1:18            3.2   \n",
       "34 2022-05-20     3  3.0  3.3 v 3.4     NaN    1:31-1:41            3.4   \n",
       "35 2022-05-20     3  1.4  3.1 v 3.4     NaN    1:14-1:25            3.4   \n",
       "36 2022-05-19     4  3.0  4.1 v 4.2     NaN    1:14-1:24            4.1   \n",
       "37 2022-05-19     4  4.0  4.3 v 4.4     NaN    1.14-1.24            4.3   \n",
       "38 2022-05-19     4  1.0  4.1 v 4.3     NaN    1:26-1:36            4.1   \n",
       "39 2022-05-19     4  2.0  4.2 v 4.4     NaN    1:27-1:37            4.4   \n",
       "40 2022-05-19     4  3.0  4.1 v 4.4     NaN    1:12-1:22            4.1   \n",
       "41 2022-05-19     4  4.0  4.2 v 4.3     NaN    2:22-2:32            4.2   \n",
       "42 2022-05-20     4  2.0  4.1 v 4.4     NaN    1.13-1.23            4.1   \n",
       "43 2022-05-20     4  1.0  4.2 v 4.3     NaN    1:13-1:23            4.3   \n",
       "44 2022-05-20     4  4.0  4.1 v 4.3     NaN    2:56-3:06            4.3   \n",
       "45 2022-05-20     4  3.0  4.2 v 4.4     NaN    2:57-3:07            4.4   \n",
       "46 2022-05-20     4  2.0  4.1 v 4.2     NaN    1:11-1:21            4.1   \n",
       "47 2022-05-20     4  1.0  4.3 v 4.4     NaN    1:12-1:22            4.3   \n",
       "\n",
       "   trial_2_time trial_2_winner trial_3_time  ... trial_20_time  \\\n",
       "0     2:31-2:41            1.1    4:00-4:10  ...   29:53-30:03   \n",
       "1     2:30-2:40            1.4    3:59-4:09  ...   29:53-30:03   \n",
       "2     3:56-4:06            tie    5:14-5:24  ...   29:53-30:03   \n",
       "3     2:25-2:35            1.2    3:54-4:04  ...   29:48-29:58   \n",
       "4     2:30-2:40            1.3    4:00-4:10  ...   29:53-30:03   \n",
       "5     1.30-1.40            1.1    4.00-4.10  ...   29.53-30.03   \n",
       "6     2:28-2:38            1.1    3:56-4:06  ...      NO TRIAL   \n",
       "7     2:28-2:38            1.2    3:57-4:07  ...      NO TRIAL   \n",
       "8     2:24-2:34            tie    3:53-4:03  ...   29:47-29:57   \n",
       "9     2:26-2:36            1.4    3:52-4:02  ...   29:47-29:57   \n",
       "10    2:25-2:35            Tie    3:54-4:04  ...      NO TRIAL   \n",
       "11    2:26-2:36            1.3    3:55-4:05  ...   29:47-29:57   \n",
       "12  02:34-02:44            2.1    4:03-4:13  ...   29:58-30:08   \n",
       "13    2.33-2.43            2.3    4.02-4.12  ...   29.57-30.07   \n",
       "14    2:24-2:34            2.3    3:53-4:03  ...   29.57-30.07   \n",
       "15    2:25-2:35            2.4    3:53-4:03  ...   29:46-29:56   \n",
       "16    4:05:4:15            2.4    5:24-5:34  ...     1:18-1:28   \n",
       "17    2:35-2:45            2.3    4:04-4:14  ...   29:57-30:07   \n",
       "18    2:26-2:36            2.4    3:55-4:05  ...   29:50-30:00   \n",
       "19    2.26-2.36            2.2    3.54-4.04  ...   29.47-29.57   \n",
       "20    2:29-2:39            tie    3:58-4:08  ...   29:53-30:03   \n",
       "21    2:29-2:39            2.4    3:59-4:09  ...   29:52-30:02   \n",
       "22    2:25-2:35            2.2    3:54-4:04  ...   29:45-29:55   \n",
       "23    2.25-2.35            2.3    3.53-4.03  ...   29.46-29.56   \n",
       "24    2:31-2:41            3.1    4:00-4:10  ...   29:54-30:04   \n",
       "25    2:31-2:41            3.4    4:00-4:10  ...   29:54-30:04   \n",
       "26    1.58-3.08            3.1    3.28-3.38  ...   29:54-30:04   \n",
       "27    2:58-3:08            3.2    4:27-4:37  ...   29:54-30:04   \n",
       "28    3:28-3:38            3.4    4:56-5:06  ...      NO TRIAL   \n",
       "29    3.28-3.38            3.2    3.56-5.06  ...      NO TRIAL   \n",
       "30    2:33-2:43            3.4    4:02-4:12  ...   29:56-30:06   \n",
       "31    2:33-2:43            3.2    4:01-4:11  ...   29:56-30:06   \n",
       "32    1.26-1.36            3.1    3.55-3.05  ...   29.45-29.55   \n",
       "33    2:27-2:37            3.2    3:55-4:05  ...      NO TRIAL   \n",
       "34    2:50-3:00            3.3    4:18-4:28  ...   30:14-30:24   \n",
       "35    2:33-2:43            3.4    4:02-4:13  ...   29:56-30:06   \n",
       "36    2:33-2:43            4.1    4:02-4:12  ...   29:57-30:07   \n",
       "37    1.33-1.43            4.4    4.03-4.13  ...   29.57-30.07   \n",
       "38    2:45-2:55            4.1    4:14-4:24  ...   29.57-30.07   \n",
       "39    2:45-2:55            4.2    4:14-4:24  ...      NO TRIAL   \n",
       "40    2:31-2:41            4.1    4:00-4:10  ...   29:54-30:04   \n",
       "41    3:41-3:51            4.2    5:09-5:19  ...   29:54-30:04   \n",
       "42    1.32-1.42            4.1    4.01-4.11  ...   29.55-30.05   \n",
       "43    2:31-2:41            4.3    4:00-4:10  ...   29:54-30:04   \n",
       "44    4:15-4:25            4.3    5:44-5:54  ...   29:54-30:04   \n",
       "45    4:15-4:25            4.4    5:44-5:54  ...   29:54-30:04   \n",
       "46    2:30-2:40            4.2    3:58-4:08  ...   29:52-30:02   \n",
       "47    2:30-2:40            4.3    3:58-4:08  ...   29:53-30:03   \n",
       "\n",
       "   trial_20_winner mouse_1_wins       mouse_2_wins  ties     sheet_name  \\\n",
       "0              1.1         11.0                  0   0.0  Master Master   \n",
       "1              1.3          0.0                  9   0.0  Master Master   \n",
       "2              1.3          0.0                  9   0.0  Master Master   \n",
       "3              1.4          0.0  checked whole row   0.0  Master Master   \n",
       "4              1.2          0.0  checked whole row   0.0  Master Master   \n",
       "5              1.1          0.0  checked whole row   0.0  Master Master   \n",
       "6         NO TRIAL         16.0                  2   1.0  Master Master   \n",
       "7         NO TRIAL         16.0                  2   1.0  Master Master   \n",
       "8              1.1         16.0  checked whole row   1.0  Master Master   \n",
       "9              1.1         16.0  checked whole row   1.0  Master Master   \n",
       "10        NO TRIAL          5.0                  0  10.0  Master Master   \n",
       "11             1.3          5.0                  0  10.0  Master Master   \n",
       "12             2.1          5.0                  0  10.0  Master Master   \n",
       "13             2.3          5.0                  0  10.0  Master Master   \n",
       "14             2.3          7.0                  0   0.0  Master Master   \n",
       "15             2.2          7.0                  0   0.0  Master Master   \n",
       "16             2.1          7.0                  0   0.0  Master Master   \n",
       "17             2.2          0.0                  0   3.0  Master Master   \n",
       "18             2.1          0.0                  0   3.0  Master Master   \n",
       "19             2.3          0.0                  0   3.0  Master Master   \n",
       "20             2.1          6.0                  0  10.0  Master Master   \n",
       "21             2.4          0.0                 11   4.0  Master Master   \n",
       "22             2.1          0.0                 11   4.0  Master Master   \n",
       "23             2.4          0.0                 11   4.0  Master Master   \n",
       "24             3.2          0.0  checked whole row   4.0  Master Master   \n",
       "25             3.3          0.0                  0   0.0  Master Master   \n",
       "26             3.3          0.0                  0   0.0  Master Master   \n",
       "27             3.3          0.0  checked whole row   0.0  Master Master   \n",
       "28        NO TRIAL          0.0                  0   1.0  Master Master   \n",
       "29        NO TRIAL          0.0                  0   1.0  Master Master   \n",
       "30             3.1          0.0                  0   0.0  Master Master   \n",
       "31             3.3          0.0  checked whole row   0.0  Master Master   \n",
       "32             3.1          0.0  checked whole row   0.0  Master Master   \n",
       "33        NO TRIAL          0.0                  0   1.0  Master Master   \n",
       "34             3.4          0.0  checked whole row   1.0  Master Master   \n",
       "35             3.1          0.0                  0   0.0  Master Master   \n",
       "36             4.1          0.0                  0   0.0  Master Master   \n",
       "37             4.3          0.0                  0   0.0  Master Master   \n",
       "38             4.3          0.0                  0   3.0  Master Master   \n",
       "39        NO TRIAL          0.0                  0   0.0  Master Master   \n",
       "40             4.4          0.0  checked whole row   0.0  Master Master   \n",
       "41             4.4          0.0                  0   2.0  Master Master   \n",
       "42             4.4          0.0                  0   2.0  Master Master   \n",
       "43             4.2          0.0                  0   4.0  Master Master   \n",
       "44             4.2          0.0                  0   1.0  Master Master   \n",
       "45             4.2          0.0  checked whole row   1.0  Master Master   \n",
       "46             4.1          0.0  checked whole row   1.0  Master Master   \n",
       "47             4.3          0.0                  0   1.0  Master Master   \n",
       "\n",
       "   session_number_difference                processed_cage_num_of_winner  \\\n",
       "0                        NaN  Master Master                Master Master   \n",
       "1                        0.0  Master Master                Master Master   \n",
       "2                        0.0  Master Master                Master Master   \n",
       "3                        0.0  Master Master                Master Master   \n",
       "4                        0.0  Master Master                Master Master   \n",
       "5                        0.0  Master Master                Master Master   \n",
       "6                        1.0  Master Master                Master Master   \n",
       "7                        0.0  Master Master                Master Master   \n",
       "8                        0.0  Master Master                Master Master   \n",
       "9                        0.0  Master Master                Master Master   \n",
       "10                       0.0  Master Master                Master Master   \n",
       "11                       0.0  Master Master                Master Master   \n",
       "12                      -1.0  Master Master                Master Master   \n",
       "13                       0.0  Master Master                Master Master   \n",
       "14                       0.0  Master Master                Master Master   \n",
       "15                       0.0  Master Master                Master Master   \n",
       "16                       0.0  Master Master                Master Master   \n",
       "17                       0.0  Master Master                Master Master   \n",
       "18                       1.0  Master Master                Master Master   \n",
       "19                       0.0  Master Master                Master Master   \n",
       "20                       0.0  Master Master                Master Master   \n",
       "21                       0.0  Master Master                Master Master   \n",
       "22                       0.0  Master Master                Master Master   \n",
       "23                       0.0  Master Master                Master Master   \n",
       "24                      -1.0  Master Master                Master Master   \n",
       "25                       0.0  Master Master                Master Master   \n",
       "26                       0.0  Master Master                Master Master   \n",
       "27                       0.0  Master Master                Master Master   \n",
       "28                       0.0  Master Master                Master Master   \n",
       "29                       0.0  Master Master                Master Master   \n",
       "30                       1.0  Master Master                Master Master   \n",
       "31                       0.0  Master Master                Master Master   \n",
       "32                       0.0  Master Master                Master Master   \n",
       "33                       0.0  Master Master                Master Master   \n",
       "34                       0.0  Master Master                Master Master   \n",
       "35                       0.0  Master Master                Master Master   \n",
       "36                      -1.0  Master Master                Master Master   \n",
       "37                       0.0  Master Master                Master Master   \n",
       "38                       0.0  Master Master                Master Master   \n",
       "39                       0.0  Master Master                Master Master   \n",
       "40                       0.0  Master Master                Master Master   \n",
       "41                       0.0  Master Master                Master Master   \n",
       "42                       1.0  Master Master                Master Master   \n",
       "43                       0.0  Master Master                Master Master   \n",
       "44                       0.0  Master Master                Master Master   \n",
       "45                       0.0  Master Master                Master Master   \n",
       "46                       0.0  Master Master                Master Master   \n",
       "47                       0.0  Master Master                Master Master   \n",
       "\n",
       "   processed_cage_num_of_loser  \n",
       "0                Master Master  \n",
       "1                Master Master  \n",
       "2                Master Master  \n",
       "3                Master Master  \n",
       "4                Master Master  \n",
       "5                Master Master  \n",
       "6                Master Master  \n",
       "7                Master Master  \n",
       "8                Master Master  \n",
       "9                Master Master  \n",
       "10               Master Master  \n",
       "11               Master Master  \n",
       "12               Master Master  \n",
       "13               Master Master  \n",
       "14               Master Master  \n",
       "15               Master Master  \n",
       "16               Master Master  \n",
       "17               Master Master  \n",
       "18               Master Master  \n",
       "19               Master Master  \n",
       "20               Master Master  \n",
       "21               Master Master  \n",
       "22               Master Master  \n",
       "23               Master Master  \n",
       "24               Master Master  \n",
       "25               Master Master  \n",
       "26               Master Master  \n",
       "27               Master Master  \n",
       "28               Master Master  \n",
       "29               Master Master  \n",
       "30               Master Master  \n",
       "31               Master Master  \n",
       "32               Master Master  \n",
       "33               Master Master  \n",
       "34               Master Master  \n",
       "35               Master Master  \n",
       "36               Master Master  \n",
       "37               Master Master  \n",
       "38               Master Master  \n",
       "39               Master Master  \n",
       "40               Master Master  \n",
       "41               Master Master  \n",
       "42               Master Master  \n",
       "43               Master Master  \n",
       "44               Master Master  \n",
       "45               Master Master  \n",
       "46               Master Master  \n",
       "47               Master Master  \n",
       "\n",
       "[48 rows x 53 columns]"
      ]
     },
     "execution_count": 101,
     "metadata": {},
     "output_type": "execute_result"
    }
   ],
   "source": [
    "sheet_name_to_everything[key][\"processed_behavior_recording_dataframe\"]"
   ]
  },
  {
   "cell_type": "markdown",
   "id": "df5a7871",
   "metadata": {},
   "source": [
    "## Calculating Elo rating"
   ]
  },
  {
   "cell_type": "markdown",
   "id": "5a74ee77",
   "metadata": {},
   "source": [
    "- Example calculation"
   ]
  },
  {
   "cell_type": "code",
   "execution_count": 102,
   "id": "0f3bdd34",
   "metadata": {},
   "outputs": [
    {
     "data": {
      "text/plain": [
       "1019.9"
      ]
     },
     "execution_count": 102,
     "metadata": {},
     "output_type": "execute_result"
    }
   ],
   "source": [
    "calculation.calculate_elo_rating(subject_elo_rating=1000, agent_elo_rating=2000, score=1)"
   ]
  },
  {
   "cell_type": "code",
   "execution_count": 103,
   "id": "4bf42d10",
   "metadata": {},
   "outputs": [
    {
     "data": {
      "text/plain": [
       "defaultdict(<function elorating.calculation.update_elo_rating.<locals>.<lambda>()>,\n",
       "            {'A': 1010.0, 'B': 990.0})"
      ]
     },
     "execution_count": 103,
     "metadata": {},
     "output_type": "execute_result"
    }
   ],
   "source": [
    "calculation.update_elo_rating(winner_id=\"A\", loser_id=\"B\")"
   ]
  },
  {
   "cell_type": "markdown",
   "id": "317d3e5a",
   "metadata": {},
   "source": [
    "## Get the Elo rating for all the events"
   ]
  },
  {
   "cell_type": "markdown",
   "id": "6b955461",
   "metadata": {},
   "source": [
    "- Going through each row or interaction and calculating the new Elo rating for the winner and loser. This will create a new dataframe based off of the processed behavioral recording dataframe"
   ]
  },
  {
   "cell_type": "markdown",
   "id": "1caa5616",
   "metadata": {},
   "source": [
    "# NOTE: If there are a set of columns to keep, edit the cell below with the name of the columns each in quotation marks seperated by commas\n",
    "   - i.e. `['runner', 'date', 'match', 'winner', 'loser', 'notes', 'session_number',\n",
    "       'session_number_difference']`"
   ]
  },
  {
   "cell_type": "code",
   "execution_count": 108,
   "id": "bb945669",
   "metadata": {},
   "outputs": [],
   "source": [
    "all_columns_to_keep = []"
   ]
  },
  {
   "cell_type": "code",
   "execution_count": 109,
   "id": "27d12667",
   "metadata": {},
   "outputs": [],
   "source": [
    "def get_subject_cage_number(x):\n",
    "    \"\"\"\n",
    "    \"\"\"\n",
    "    if x[\"win_draw_loss\"] == 1:\n",
    "        return x[\"processed_cage_num_of_winner\"]\n",
    "    elif x[\"win_draw_loss\"] == 0:\n",
    "        return x[\"processed_cage_num_of_loser\"]\n",
    "    elif x[\"win_draw_loss\"] == 0.5:\n",
    "        if 1 == pairing_index:\n",
    "            return x[\"processed_cage_num_of_winner\"] \n",
    "        elif 1 == pairing_index:\n",
    "            return x[\"processed_cage_num_of_loser\"]"
   ]
  },
  {
   "cell_type": "code",
   "execution_count": 110,
   "id": "0bd7c67b",
   "metadata": {
    "scrolled": true
   },
   "outputs": [],
   "source": [
    "copy_sheet_name_to_everything = copy.copy(sheet_name_to_everything)\n",
    "for key, value in sheet_name_to_everything.items():\n",
    "    try:\n",
    "        if not all_columns_to_keep:\n",
    "            # Asking the user which columns to carry over to the Elo rating calculation dataframe\n",
    "            value[\"columns_to_keep_string\"] = input(\"\"\"Type all the columns that will be copied from the original dataframe to the Elo rating calculated dataframe. \n",
    "\n",
    "            All the available actions: {}\n",
    "            Each column must be put in quotes and seperated by a comma(,). i.e. 'length of observations', 'date', 'cage #'\n",
    "\n",
    "            NOTE: If left blank, all the columns will be kept\n",
    "            \"\"\".format(value[\"processed_behavior_recording_dataframe\"].columns))\n",
    "\n",
    "\n",
    "            # Making a list out of the string of inputted sheet names\n",
    "            if value[\"columns_to_keep_string\"]:\n",
    "                value[\"columns_to_keep_string\"] = \"[\" + value[\"columns_to_keep_string\"] + \"]\"\n",
    "                value[\"columns_to_keep_list\"] = ast.literal_eval(value[\"columns_to_keep_string\"])\n",
    "            else:\n",
    "                value[\"columns_to_keep_list\"] = value[\"processed_behavior_recording_dataframe\"].columns\n",
    "        else: \n",
    "            value[\"columns_to_keep_list\"] = all_columns_to_keep\n",
    "\n",
    "        try:\n",
    "            # Calculating the Elo rating    \n",
    "            value[\"index_to_elo_rating_and_meta_data\"] = calculation.iterate_elo_rating_calculation_for_dataframe(dataframe=value[\"processed_behavior_recording_dataframe\"], \\\n",
    "                                                                                                                       winner_id_column=value[\"winner_id_column\"], loser_id_column=value[\"loser_id_column\"], \\\n",
    "                                                                                                                                 additional_columns=value[\"columns_to_keep_list\"], tie_column=value[\"ties_column\"])\n",
    "\n",
    "        except:\n",
    "            nonexistent_columns = set(value[\"columns_to_keep_list\"]) - set(value[\"processed_behavior_recording_dataframe\"].columns)\n",
    "            print(\"WARNING: {} does not have {} columns\".format(key, nonexistent_columns))\n",
    "            warnings.warn(\"Look at warning from above or below\")\n",
    "            # Using all the column names if no column name is specified\n",
    "            # Removing the winner and loser column because they will be specified as the columns for the Elo rating calculation\n",
    "            value[\"columns_to_keep_list\"] =  sorted(list(set(value[\"processed_behavior_recording_dataframe\"].columns) - set([value[\"winner_id_column\"]]) - set([value[\"loser_id_column\"]])))\n",
    "            value[\"index_to_elo_rating_and_meta_data\"] = calculation.iterate_elo_rating_calculation_for_dataframe(dataframe=value[\"processed_behavior_recording_dataframe\"], \\\n",
    "                                                                                                                       winner_id_column=value[\"winner_id_column\"], loser_id_column=value[\"loser_id_column\"], \\\n",
    "                                                                                                                                 additional_columns=value[\"columns_to_keep_list\"], tie_column=value[\"ties_column\"])     \n",
    "\n",
    "        # Making a dataframe from the dictionary \n",
    "        value[\"elo_rating_dataframe\"] = pd.DataFrame.from_dict(value[\"index_to_elo_rating_and_meta_data\"], orient=\"index\")\n",
    "        try:\n",
    "            value[\"elo_rating_dataframe\"][\"cage_num_of_subject\"] = value[\"elo_rating_dataframe\"].apply(lambda x: get_subject_cage_number(x), axis = 1)\n",
    "            value[\"elo_rating_dataframe\"][\"cage_num_of_agent\"] = value[\"elo_rating_dataframe\"].apply(lambda x: get_subject_cage_number(x), axis = 1)\n",
    "        except:\n",
    "            value[\"elo_rating_dataframe\"][\"cage_num_of_subject\"] = key\n",
    "            value[\"elo_rating_dataframe\"][\"cage_num_of_agent\"] = key\n",
    "    except:\n",
    "        copy_sheet_name_to_everything.pop(key)\n",
    "sheet_name_to_everything = copy_sheet_name_to_everything"
   ]
  },
  {
   "cell_type": "code",
   "execution_count": null,
   "id": "928c63de",
   "metadata": {},
   "outputs": [],
   "source": [
    "raise ValueError()"
   ]
  },
  {
   "cell_type": "code",
   "execution_count": 107,
   "id": "0c982d91",
   "metadata": {
    "scrolled": true
   },
   "outputs": [
    {
     "ename": "KeyError",
     "evalue": "'elo_rating_dataframe'",
     "output_type": "error",
     "traceback": [
      "\u001b[0;31m---------------------------------------------------------------------------\u001b[0m",
      "\u001b[0;31mKeyError\u001b[0m                                  Traceback (most recent call last)",
      "Cell \u001b[0;32mIn[107], line 1\u001b[0m\n\u001b[0;32m----> 1\u001b[0m \u001b[43mvalue\u001b[49m\u001b[43m[\u001b[49m\u001b[38;5;124;43m\"\u001b[39;49m\u001b[38;5;124;43melo_rating_dataframe\u001b[39;49m\u001b[38;5;124;43m\"\u001b[39;49m\u001b[43m]\u001b[49m\n",
      "\u001b[0;31mKeyError\u001b[0m: 'elo_rating_dataframe'"
     ]
    }
   ],
   "source": [
    "value[\"elo_rating_dataframe\"]"
   ]
  },
  {
   "cell_type": "code",
   "execution_count": null,
   "id": "59feeb7e",
   "metadata": {},
   "outputs": [],
   "source": [
    "value[\"elo_rating_dataframe\"].head()"
   ]
  },
  {
   "cell_type": "code",
   "execution_count": null,
   "id": "7548b22c",
   "metadata": {},
   "outputs": [],
   "source": [
    "value[\"elo_rating_dataframe\"].tail()"
   ]
  },
  {
   "cell_type": "code",
   "execution_count": null,
   "id": "00a1a555",
   "metadata": {
    "scrolled": true
   },
   "outputs": [],
   "source": [
    "value[\"elo_rating_dataframe\"].groupby(\"subject_id\").count()"
   ]
  },
  {
   "cell_type": "markdown",
   "id": "e0232279",
   "metadata": {},
   "source": [
    "## Combining all the Elo rating dataframes into one"
   ]
  },
  {
   "cell_type": "code",
   "execution_count": null,
   "id": "bc444bb0",
   "metadata": {},
   "outputs": [],
   "source": [
    "# Putting all the dataframes into one list\n",
    "all_sheet_elo_scord_dataframe_list = []\n",
    "for key, value in sheet_name_to_everything.items():    \n",
    "    all_sheet_elo_scord_dataframe_list.append(value[\"elo_rating_dataframe\"])\n",
    "\n",
    "# Combining all the dataframes into one\n",
    "all_sheet_elo_scord_dataframe_combined = pd.concat(all_sheet_elo_scord_dataframe_list)"
   ]
  },
  {
   "cell_type": "code",
   "execution_count": null,
   "id": "ab021bd3",
   "metadata": {},
   "outputs": [],
   "source": [
    "all_sheet_elo_scord_dataframe_combined"
   ]
  },
  {
   "cell_type": "markdown",
   "id": "c6567731",
   "metadata": {},
   "source": [
    "- Adding the strain information"
   ]
  },
  {
   "cell_type": "code",
   "execution_count": null,
   "id": "f428400c",
   "metadata": {},
   "outputs": [],
   "source": [
    "all_subject_ids = set(all_sheet_elo_scord_dataframe_combined[\"subject_id\"].unique()).union(set(all_sheet_elo_scord_dataframe_combined[\"agent_id\"].unique()))"
   ]
  },
  {
   "cell_type": "markdown",
   "id": "0509c9f6",
   "metadata": {},
   "source": [
    "# NOTE: If there are strains that are associated to each cage, then create a dictionary of cage numbers to strains inside the `{}`\n",
    "- i.e. `cage_to_strain = {\"1\": \"C57\", \"2\": \"C57\", \"3\": \"C57\", \"4\": \"CD1\", \"5\": \"CD1\", \"6\": \"CD1\"}`"
   ]
  },
  {
   "cell_type": "code",
   "execution_count": null,
   "id": "7e0cf433",
   "metadata": {},
   "outputs": [],
   "source": [
    "cage_to_strain = {}"
   ]
  },
  {
   "cell_type": "code",
   "execution_count": null,
   "id": "6b350ff5",
   "metadata": {},
   "outputs": [],
   "source": [
    "if cage_to_strain:\n",
    "    all_sheet_elo_scord_dataframe_combined[\"subject_strain\"] = all_sheet_elo_scord_dataframe_combined[\"cage_num_of_subject\"].map(cage_to_strain)\n",
    "    all_sheet_elo_scord_dataframe_combined[\"agent_strain\"] = all_sheet_elo_scord_dataframe_combined[\"cage_num_of_agent\"].map(cage_to_strain)"
   ]
  },
  {
   "cell_type": "markdown",
   "id": "c6a01ced",
   "metadata": {},
   "source": [
    "- Adding the name of the experiment"
   ]
  },
  {
   "cell_type": "code",
   "execution_count": null,
   "id": "0552560e",
   "metadata": {},
   "outputs": [],
   "source": [
    "# Adding the name of the experiment\n",
    "all_sheet_elo_scord_dataframe_combined[\"experiment_type\"] = protocol_name"
   ]
  },
  {
   "cell_type": "markdown",
   "id": "a1585660",
   "metadata": {},
   "source": [
    "- Adding the cohort"
   ]
  },
  {
   "cell_type": "code",
   "execution_count": null,
   "id": "71517869",
   "metadata": {},
   "outputs": [],
   "source": [
    "all_sheet_elo_scord_dataframe_combined[\"cohort\"] = cohort_name"
   ]
  },
  {
   "cell_type": "code",
   "execution_count": null,
   "id": "c7bab1a1",
   "metadata": {
    "scrolled": false
   },
   "outputs": [],
   "source": [
    "all_sheet_elo_scord_dataframe_combined.head()"
   ]
  },
  {
   "cell_type": "code",
   "execution_count": null,
   "id": "53012f41",
   "metadata": {
    "scrolled": true
   },
   "outputs": [],
   "source": [
    "all_sheet_elo_scord_dataframe_combined.tail()"
   ]
  },
  {
   "cell_type": "code",
   "execution_count": null,
   "id": "d0c4a43f",
   "metadata": {
    "scrolled": true
   },
   "outputs": [],
   "source": [
    "# Checking to see how many rows for each subject in each cage\n",
    "all_sheet_elo_scord_dataframe_combined.groupby(['subject_id','cage_num_of_subject']).count()"
   ]
  },
  {
   "cell_type": "markdown",
   "id": "85b422ae",
   "metadata": {},
   "source": [
    "## Creating a dataframe with only the final Elo rating for each subject"
   ]
  },
  {
   "cell_type": "code",
   "execution_count": null,
   "id": "059fb549",
   "metadata": {},
   "outputs": [],
   "source": [
    "# Checking to see which cage and subject combination has more than one row\n",
    "all_sheet_elo_scord_dataframe_groupby = all_sheet_elo_scord_dataframe_combined.groupby(['subject_id','cage_num_of_subject']).size().reset_index()\n",
    "all_sheet_elo_scord_dataframe_groupby = all_sheet_elo_scord_dataframe_groupby[all_sheet_elo_scord_dataframe_groupby[0] >= 1]\n",
    "\n",
    "# Going through each combination and saving the combination to a dictionary\n",
    "index_to_subject_id_and_processed_cage_number = defaultdict(dict)\n",
    "for index, row in all_sheet_elo_scord_dataframe_groupby.iterrows():\n",
    "    index_to_subject_id_and_processed_cage_number[index]['subject_id'] = row['subject_id']\n",
    "    index_to_subject_id_and_processed_cage_number[index]['cage_num_of_subject'] = row['cage_num_of_subject']\n"
   ]
  },
  {
   "cell_type": "code",
   "execution_count": null,
   "id": "925f4ba9",
   "metadata": {
    "scrolled": true
   },
   "outputs": [],
   "source": [
    "index_to_subject_id_and_processed_cage_number"
   ]
  },
  {
   "cell_type": "markdown",
   "id": "e6d54e48",
   "metadata": {},
   "source": [
    "- Getting the final Elo rating for each cage and subject combination"
   ]
  },
  {
   "cell_type": "code",
   "execution_count": null,
   "id": "23352d25",
   "metadata": {},
   "outputs": [],
   "source": [
    "for index, (key, value) in enumerate(index_to_subject_id_and_processed_cage_number.items()):   \n",
    "    # The Elo rating dataframe for each cage and subject combination\n",
    "    per_subject_dataframe = all_sheet_elo_scord_dataframe_combined[(all_sheet_elo_scord_dataframe_combined[\"subject_id\"] == value[\"subject_id\"]) & (all_sheet_elo_scord_dataframe_combined[\"cage_num_of_subject\"] == value[\"cage_num_of_subject\"])]\n",
    "    # Getting the final Elo rating for each combination\n",
    "    # -1 Means that we're getting the data from the last row\n",
    "\n",
    "    index_to_subject_id_and_processed_cage_number[index][\"final_elo_rating\"] = per_subject_dataframe.iloc[-1][\"updated_elo_rating\"]\n",
    "    index_to_subject_id_and_processed_cage_number[index][\"cohort\"] = per_subject_dataframe.iloc[-1][\"cohort\"]\n",
    "    try:\n",
    "        index_to_subject_id_and_processed_cage_number[index][\"strain\"] = per_subject_dataframe.iloc[-1][\"strain\"]\n",
    "    except:\n",
    "        print(\"WARNING: {} in cage {} does not have strain information\".format(index_to_subject_id_and_processed_cage_number[key][\"subject_id\"], index_to_subject_id_and_processed_cage_number[key][\"cage_num_of_subject\"]))\n",
    "        warnings.warn(\"Look at warning from above or below\")\n"
   ]
  },
  {
   "cell_type": "code",
   "execution_count": null,
   "id": "67d194b4",
   "metadata": {},
   "outputs": [],
   "source": [
    "id_to_final_elo_rating_df = pd.DataFrame.from_dict(index_to_subject_id_and_processed_cage_number, orient=\"index\")\n",
    "# Adding protocol name\n",
    "id_to_final_elo_rating_df[\"experiment_type\"] = protocol_name\n",
    "# Adding rank\n",
    "id_to_final_elo_rating_df[\"rank\"] = id_to_final_elo_rating_df.groupby(\"cage_num_of_subject\")[\"final_elo_rating\"].rank(\"dense\", ascending=False)\n",
    "# Sorting by cage and then id\n",
    "id_to_final_elo_rating_df = id_to_final_elo_rating_df.sort_values(by=['cage_num_of_subject', \"subject_id\"], ascending=True).reset_index(drop=True)"
   ]
  },
  {
   "cell_type": "code",
   "execution_count": null,
   "id": "9b169b88",
   "metadata": {},
   "outputs": [],
   "source": [
    "id_to_final_elo_rating_df.head()"
   ]
  },
  {
   "cell_type": "code",
   "execution_count": null,
   "id": "af9e53d9",
   "metadata": {},
   "outputs": [],
   "source": [
    "id_to_final_elo_rating_df.tail()"
   ]
  },
  {
   "cell_type": "markdown",
   "id": "37d31b43",
   "metadata": {},
   "source": [
    "# Making plots for all sheets"
   ]
  },
  {
   "cell_type": "markdown",
   "id": "7d5ca831",
   "metadata": {},
   "source": [
    "- Getting the dates the files were being recorded to use for the file name"
   ]
  },
  {
   "cell_type": "code",
   "execution_count": null,
   "id": "ea99445b",
   "metadata": {
    "scrolled": false
   },
   "outputs": [],
   "source": [
    "all_sheet_elo_scord_dataframe_combined.head()"
   ]
  },
  {
   "cell_type": "code",
   "execution_count": null,
   "id": "b6d015a1",
   "metadata": {
    "scrolled": true
   },
   "outputs": [],
   "source": [
    "all_sheet_elo_scord_dataframe_combined.tail()"
   ]
  },
  {
   "cell_type": "markdown",
   "id": "4b5ff092",
   "metadata": {},
   "source": [
    "- Getting the earliest and the latest dates for all the recordings"
   ]
  },
  {
   "cell_type": "code",
   "execution_count": null,
   "id": "838db3a3",
   "metadata": {},
   "outputs": [],
   "source": [
    "all_earlist_dates = []\n",
    "all_latest_dates = []\n",
    "for key, value in sheet_name_to_everything.items():\n",
    "    try:\n",
    "        # Getting all the earliest dates for each sheet\n",
    "        all_earlist_dates.append(value[\"elo_rating_dataframe\"][value[\"session_divider_column\"]].min())\n",
    "        all_latest_dates.append(value[\"elo_rating_dataframe\"][value[\"session_divider_column\"]].max())\n",
    "    except:\n",
    "        print(\"WARNING: {} does not have dates as columns\".format(key))\n",
    "        warnings.warn(\"Look at warning from above or below\")"
   ]
  },
  {
   "cell_type": "code",
   "execution_count": null,
   "id": "44271cd5",
   "metadata": {},
   "outputs": [],
   "source": [
    "try:\n",
    "    # Turning the Dates into a easier to read format\n",
    "    # Getting the 0th part of split to remove seconds\n",
    "    earliest_date = str(min(all_earlist_dates)).split()[0]\n",
    "    latest_date = str(max(all_latest_dates)).split()[0]\n",
    "    print(\"Earlist date: {}\".format(earliest_date))\n",
    "    print(\"Latest date: {}\".format(latest_date))\n",
    "except:\n",
    "    earliest_date = None\n",
    "    latest_date = None"
   ]
  },
  {
   "cell_type": "markdown",
   "id": "ca32b0e7",
   "metadata": {},
   "source": [
    "- Getting the cage numbers"
   ]
  },
  {
   "cell_type": "code",
   "execution_count": null,
   "id": "6e2a7bf9",
   "metadata": {},
   "outputs": [],
   "source": [
    "all_cages_list = []\n",
    "# Creating a list of all the cage numbers\n",
    "for key, value in sheet_name_to_everything.items():\n",
    "    try:\n",
    "        for cage in value[\"elo_rating_dataframe\"][\"cage_num_of_subject\"].unique():\n",
    "            all_cages_list.append(cage)\n",
    "    except:\n",
    "        print(\"WARNING: {} does not have cage number as columns\".format(key))\n",
    "        warnings.warn(\"Look at warning from above or below\")"
   ]
  },
  {
   "cell_type": "code",
   "execution_count": null,
   "id": "82a1980b",
   "metadata": {},
   "outputs": [],
   "source": [
    "try:\n",
    "    all_cages_string = \"-\".join(sorted([sheet.lower().strip(\"cage\").strip() for sheet in all_cages_list]))\n",
    "    all_cages_string = \"cages-{}\".format(all_cages_string)\n",
    "    print(\"String of cage names to use for file name: {}\".format(all_cages_string))\n",
    "except: \n",
    "    warnings.warn(\"WARNING: There are no cage numbers to make a title out of\")\n",
    "    all_cages_string = None"
   ]
  },
  {
   "cell_type": "markdown",
   "id": "9a172d21",
   "metadata": {},
   "source": [
    "- Creating an output directory to save the plots"
   ]
  },
  {
   "cell_type": "code",
   "execution_count": null,
   "id": "f60a2448",
   "metadata": {},
   "outputs": [],
   "source": [
    "plot_output_directory = os.path.join(\".\", \"proc\", \"plots\", \"{}_elo_rating\".format(protocol_name))"
   ]
  },
  {
   "cell_type": "code",
   "execution_count": null,
   "id": "448aa7ac",
   "metadata": {},
   "outputs": [],
   "source": [
    "plot_output_directory"
   ]
  },
  {
   "cell_type": "code",
   "execution_count": null,
   "id": "52e1511c",
   "metadata": {},
   "outputs": [],
   "source": [
    "os.makedirs(plot_output_directory, exist_ok=True)"
   ]
  },
  {
   "cell_type": "markdown",
   "id": "7b7399c2",
   "metadata": {},
   "source": [
    "# **NOTE**: Sometimes this cell needs to be run again to make sure the size is correct"
   ]
  },
  {
   "cell_type": "code",
   "execution_count": null,
   "id": "28ced0f6",
   "metadata": {},
   "outputs": [],
   "source": [
    "# Getting the highest and lowest Elo rating for cutoffs of the Y-axis\n",
    "max_elo_rating = all_sheet_elo_scord_dataframe_combined[\"updated_elo_rating\"].max()\n",
    "min_elo_rating = all_sheet_elo_scord_dataframe_combined[\"updated_elo_rating\"].min()\n",
    "\n",
    "plt.rcParams[\"figure.figsize\"] = (13.5,7.5)\n",
    "# Making a plot for each sheet\n",
    "for key, value in sheet_name_to_everything.items():\n",
    "    # Setting the size of the figure\n",
    "    plt.rcParams[\"figure.figsize\"] = (13.5,7.5)\n",
    "    print(key)\n",
    "    elo_rating_dataframe = value[\"elo_rating_dataframe\"]\n",
    "    # Using a new figure template for each sheet\n",
    "    fig, ax = plt.subplots()        \n",
    "        \n",
    "    try:\n",
    "        # Drawing vertical lines that represent when each session begins\n",
    "        # Based on when a row has a different session than the previous row\n",
    "        for index, row in elo_rating_dataframe[elo_rating_dataframe['session_number_difference'].astype(bool)].iterrows():\n",
    "            # Offsetting by 0.5 to avoid drawing the line on the dot\n",
    "            # Drawing the lines a little above the max and a little below the minimum\n",
    "            plt.vlines(x=[row[\"total_match_number\"] - 0.5], ymin=min_elo_rating-50, ymax=max_elo_rating+50, colors='black', linestyle='dashed')\n",
    "    except:\n",
    "        print(\"WARNING: {} does not have a column for session divider\".format(key))\n",
    "        warnings.warn(\"Look at warning from above or below\")\n",
    "            \n",
    "    # Drawing a line for each subject\n",
    "    for subject in sorted(elo_rating_dataframe[\"subject_id\"].unique()):\n",
    "        # Getting all the rows with the current subject\n",
    "        subject_dataframe = elo_rating_dataframe[elo_rating_dataframe[\"subject_id\"] == subject]\n",
    "        # Making the current match number the X-Axis\n",
    "        plt.plot(subject_dataframe[\"total_match_number\"], subject_dataframe[\"updated_elo_rating\"], '-o', label=subject)\n",
    "\n",
    "    # Labeling the X/Y Axis and the title\n",
    "    ax.set_xlabel(\"Trial Number\")\n",
    "    ax.set_ylabel(\"Elo rating\")\n",
    "    # Formattnig Cohort and Experiment Name so that it's more readable with spacing and capitalization\n",
    "    try:\n",
    "        formatted_cohort_name = \" \".join(cohort_name.split(\"_\")).capitalize()\n",
    "    except:\n",
    "        formatted_cohort_name = cohort_name\n",
    "    try:\n",
    "        formatted_protocol_name = string.capwords(\" \".join(protocol_name.split(\"_\")))\n",
    "    except:\n",
    "        formatted_protocol_name = protocol_name\n",
    "    try:\n",
    "        formatted_cage_name = \" \".join((re.match(r\"([a-z]+)([0-9]+)\", key, re.I).groups())).capitalize()    \n",
    "    except:\n",
    "        formatted_cage_name = key\n",
    "    ax.set_title(\"{} Elo Rating for {} {}\".format(formatted_protocol_name, formatted_cohort_name, formatted_cage_name))\n",
    "    \n",
    "    # To show the legend\n",
    "    ax.legend(loc=\"upper left\")\n",
    "    # Setting the values of the Y-axis\n",
    "    plt.ylim(min_elo_rating-50, max_elo_rating+50) \n",
    "    # Saving the plot\n",
    "    file_name_parts_separated = [prefix_name, cohort_name, key, earliest_date, latest_date]\n",
    "    file_name_parts_combined = \"_\".join([part for part in file_name_parts_separated if part])\n",
    "    \n",
    "    file_name_full = \"elo_rating_{}.png\".format(file_name_parts_combined)\n",
    "    # Removing all the spaces and replacing them with underscores\n",
    "    file_name_full = \"_\".join(file_name_full.split(\" \"))\n",
    "    plt.savefig(os.path.join(plot_output_directory, file_name_full))\n",
    "    # Showing the plots\n",
    "    plt.show()"
   ]
  },
  {
   "cell_type": "markdown",
   "id": "7c854621",
   "metadata": {},
   "source": [
    "# Saving the Dataframes"
   ]
  },
  {
   "cell_type": "markdown",
   "id": "3232f85a",
   "metadata": {},
   "source": [
    "- Saving the dataframes to a file"
   ]
  },
  {
   "cell_type": "code",
   "execution_count": null,
   "id": "75e19fcf",
   "metadata": {},
   "outputs": [],
   "source": [
    "file_name_parts_separated = [cohort_name, all_cages_string, prefix_name, earliest_date, latest_date]\n",
    "file_name_parts_combined = \"_\".join([part for part in file_name_parts_separated if part])\n",
    "\n",
    "file_name_full = \"{}_elo-rating-history.csv\".format(file_name_parts_combined)\n",
    "print(file_name_full)\n",
    "all_sheet_elo_scord_dataframe_combined.to_csv(os.path.join(elo_rating_spreadsheet_output_directory, file_name_full))"
   ]
  },
  {
   "cell_type": "code",
   "execution_count": null,
   "id": "22ad9a78",
   "metadata": {},
   "outputs": [],
   "source": [
    "file_name_full = \"{}_final-elo-rating.csv\".format(file_name_parts_combined)\n",
    "print(file_name_full)\n",
    "id_to_final_elo_rating_df.to_csv(os.path.join(elo_rating_spreadsheet_output_directory, file_name_full))"
   ]
  },
  {
   "cell_type": "markdown",
   "id": "553e6b8c",
   "metadata": {},
   "source": [
    "# Seeing which subject is the dominant or submissive"
   ]
  },
  {
   "cell_type": "markdown",
   "id": "9f85f9be",
   "metadata": {},
   "source": [
    "- Grouping all the rows with the same pair"
   ]
  },
  {
   "cell_type": "code",
   "execution_count": null,
   "id": "190469ee",
   "metadata": {},
   "outputs": [],
   "source": [
    "all_processed_behavior_recording_list = []\n",
    "for key, value in sheet_name_to_everything.items():\n",
    "    all_processed_behavior_recording_list.append(value[\"processed_behavior_recording_dataframe\"])\n",
    "    "
   ]
  },
  {
   "cell_type": "markdown",
   "id": "36073799",
   "metadata": {},
   "source": [
    "- Combining all the dataframes from all the cages"
   ]
  },
  {
   "cell_type": "code",
   "execution_count": null,
   "id": "5cda6488",
   "metadata": {},
   "outputs": [],
   "source": [
    "all_processed_behavior_recording_df = pd.concat(all_processed_behavior_recording_list)"
   ]
  },
  {
   "cell_type": "code",
   "execution_count": null,
   "id": "ffe367e8",
   "metadata": {},
   "outputs": [],
   "source": [
    "all_processed_behavior_recording_df.head()"
   ]
  },
  {
   "cell_type": "markdown",
   "id": "66286f48",
   "metadata": {},
   "source": [
    "- Getting a tuple of the animal IDs to be able to group"
   ]
  },
  {
   "cell_type": "markdown",
   "id": "f789d4d6",
   "metadata": {},
   "source": [
    "# Note: This assumes that all the animal IDs are different across cages and that all IDs are numbers. i.e. there are no duplicate IDs in different cages."
   ]
  },
  {
   "cell_type": "code",
   "execution_count": null,
   "id": "0d2c0396",
   "metadata": {},
   "outputs": [],
   "source": [
    "# Getting the animal IDs from the Match string\n",
    "# i.e. Getting all the floats and removing all spaces\n",
    "# Sorting so that the animal IDs are always in the same order\n",
    "all_processed_behavior_recording_df[\"animal_id\"] =  all_processed_behavior_recording_df[\"match\"].apply(lambda x: sorted([subject_id.lower().strip() for subject_id in re.findall(r\"[-+]?(?:\\d*\\.\\d+|\\d+)\", x)]))\n"
   ]
  },
  {
   "cell_type": "code",
   "execution_count": null,
   "id": "fe7ffeb0",
   "metadata": {},
   "outputs": [],
   "source": [
    "# Making a tuple out of the list\n",
    "# Tuples are used because lists are mutable and can't be grouped with\n",
    "all_processed_behavior_recording_df[\"tuple_animal_id\"] = all_processed_behavior_recording_df[\"animal_id\"].apply(lambda x: tuple(x))"
   ]
  },
  {
   "cell_type": "code",
   "execution_count": null,
   "id": "603cdd56",
   "metadata": {
    "scrolled": true
   },
   "outputs": [],
   "source": [
    "all_processed_behavior_recording_df.head()"
   ]
  },
  {
   "cell_type": "markdown",
   "id": "a8fe8e70",
   "metadata": {},
   "source": [
    "- Removing columns that would be unnecessary for the pairings"
   ]
  },
  {
   "cell_type": "code",
   "execution_count": null,
   "id": "da9e307b",
   "metadata": {},
   "outputs": [],
   "source": [
    "all_processed_behavior_recording_df.columns"
   ]
  },
  {
   "cell_type": "code",
   "execution_count": null,
   "id": "75a6dfea",
   "metadata": {},
   "outputs": [],
   "source": [
    "# Getting only the columns that we need\n",
    "all_processed_behavior_recording_df = all_processed_behavior_recording_df[['date', 'winner', 'loser', 'animal_id', 'tuple_animal_id', \"processed_cage_num_of_winner\", \"processed_cage_num_of_loser\"]]"
   ]
  },
  {
   "cell_type": "code",
   "execution_count": null,
   "id": "45c30146",
   "metadata": {
    "scrolled": false
   },
   "outputs": [],
   "source": [
    "all_processed_behavior_recording_df.head()"
   ]
  },
  {
   "cell_type": "markdown",
   "id": "8e88c0aa",
   "metadata": {},
   "source": [
    "- Getting the ID of the winner and the loser for each pair with each match"
   ]
  },
  {
   "cell_type": "code",
   "execution_count": null,
   "id": "820af7c5",
   "metadata": {},
   "outputs": [],
   "source": [
    "all_wins_per_pair = all_processed_behavior_recording_df.groupby(\"tuple_animal_id\")['winner'].apply(list)\n",
    "all_loses_per_pair = all_processed_behavior_recording_df.groupby(\"tuple_animal_id\")['loser'].apply(list)"
   ]
  },
  {
   "cell_type": "code",
   "execution_count": null,
   "id": "e049ff2f",
   "metadata": {},
   "outputs": [],
   "source": [
    "all_wins_per_pair[:5]"
   ]
  },
  {
   "cell_type": "markdown",
   "id": "ef8666d1",
   "metadata": {},
   "source": [
    "- Making a dataframe of all the winner IDs and all the loser IDs for a given pair"
   ]
  },
  {
   "cell_type": "code",
   "execution_count": null,
   "id": "7072ae41",
   "metadata": {},
   "outputs": [],
   "source": [
    "all_competition_per_pair_df = pd.concat([all_wins_per_pair, all_loses_per_pair], axis=1).reset_index()"
   ]
  },
  {
   "cell_type": "code",
   "execution_count": null,
   "id": "8360dcbc",
   "metadata": {},
   "outputs": [],
   "source": [
    "all_competition_per_pair_df = all_competition_per_pair_df.rename(columns={k: prefix_name + \"_\" + k for k in all_competition_per_pair_df.columns})"
   ]
  },
  {
   "cell_type": "code",
   "execution_count": null,
   "id": "e71a308c",
   "metadata": {},
   "outputs": [],
   "source": [
    "all_competition_per_pair_df"
   ]
  },
  {
   "cell_type": "markdown",
   "id": "967554cb",
   "metadata": {},
   "source": [
    "- Adding the cage information"
   ]
  },
  {
   "cell_type": "code",
   "execution_count": null,
   "id": "dd98386c",
   "metadata": {},
   "outputs": [],
   "source": [
    "# Getting the cage number for each pair\n",
    "dropped_duplicate_all_processed_behavior_recording_df = all_processed_behavior_recording_df[[\"tuple_animal_id\"]].drop_duplicates()"
   ]
  },
  {
   "cell_type": "code",
   "execution_count": null,
   "id": "42815322",
   "metadata": {
    "scrolled": true
   },
   "outputs": [],
   "source": [
    "dropped_duplicate_all_processed_behavior_recording_df.head()"
   ]
  },
  {
   "cell_type": "markdown",
   "id": "48a5199f",
   "metadata": {},
   "source": [
    "- Calculating the overall winner and loser. Also seeing if there is signficant difference in the number of wins to see if one is dominant over the other"
   ]
  },
  {
   "cell_type": "code",
   "execution_count": null,
   "id": "51422776",
   "metadata": {},
   "outputs": [],
   "source": [
    "all_competition_per_pair_df[\"cohort\"] = cohort_name\n"
   ]
  },
  {
   "cell_type": "code",
   "execution_count": null,
   "id": "43c6308f",
   "metadata": {},
   "outputs": [],
   "source": [
    "all_competition_per_pair_df[\"{}_averaged_winner\".format(prefix_name)] = all_competition_per_pair_df[\"{}_winner\".format(prefix_name)].apply(lambda x: Counter(x).most_common(1)[0][0])\n",
    "all_competition_per_pair_df[\"{}_averaged_loser\".format(prefix_name)] = all_competition_per_pair_df[\"{}_loser\".format(prefix_name)].apply(lambda x: Counter(x).most_common(1)[0][0])\n",
    "all_competition_per_pair_df[\"{}_winner_count\".format(prefix_name)] = all_competition_per_pair_df.apply(lambda x: x[\"{}_winner\".format(prefix_name)].count(x[\"{}_averaged_winner\".format(prefix_name)]), axis=1)\n",
    "all_competition_per_pair_df[\"{}_loser_count\".format(prefix_name)] = all_competition_per_pair_df.apply(lambda x: x[\"{}_winner\".format(prefix_name)].count(x[\"{}_averaged_loser\".format(prefix_name)]), axis=1)\n",
    "all_competition_per_pair_df[\"{}_count_difference\".format(prefix_name)] = all_competition_per_pair_df[\"{}_winner_count\".format(prefix_name)] - all_competition_per_pair_df[\"{}_loser_count\".format(prefix_name)]\n",
    "all_competition_per_pair_df[\"{}_match_count\".format(prefix_name)] = all_competition_per_pair_df[\"{}_winner\".format(prefix_name)].apply(lambda x: len(x))\n",
    "all_competition_per_pair_df[\"{}_percent_win\".format(prefix_name)] = all_competition_per_pair_df.apply(lambda x: x[\"{}_winner_count\".format(prefix_name)] / x[\"{}_match_count\".format(prefix_name)], axis=1)\n",
    "all_competition_per_pair_df[\"{}_percentage_tie\".format(prefix_name)] = all_competition_per_pair_df[\"{}_percent_win\".format(prefix_name)].apply(lambda x: True if x < 0.75 else False)"
   ]
  },
  {
   "cell_type": "code",
   "execution_count": null,
   "id": "411bedc5",
   "metadata": {},
   "outputs": [],
   "source": [
    "all_competition_per_pair_df"
   ]
  },
  {
   "cell_type": "markdown",
   "id": "2fc0f692",
   "metadata": {},
   "source": [
    "- Saving the competiton pair results dataframe to a file"
   ]
  },
  {
   "cell_type": "code",
   "execution_count": null,
   "id": "c7c662b7",
   "metadata": {},
   "outputs": [],
   "source": [
    "file_name = \"{}_{}_grouped_by_pairs_cage_{}_date_{}_{}.csv\".format(cohort_name, prefix_name, all_cages_string, earliest_date, latest_date)\n"
   ]
  },
  {
   "cell_type": "code",
   "execution_count": null,
   "id": "8695f84d",
   "metadata": {},
   "outputs": [],
   "source": [
    "elo_rating_spreadsheet_output_directory"
   ]
  },
  {
   "cell_type": "code",
   "execution_count": null,
   "id": "ee4a3b0e",
   "metadata": {},
   "outputs": [],
   "source": [
    "file_name"
   ]
  },
  {
   "cell_type": "code",
   "execution_count": null,
   "id": "73ef04a7",
   "metadata": {},
   "outputs": [],
   "source": [
    "all_competition_per_pair_df.to_csv(os.path.join(elo_rating_spreadsheet_output_directory, file_name))"
   ]
  },
  {
   "cell_type": "markdown",
   "id": "5ca57108",
   "metadata": {},
   "source": [
    "\n",
    "# TODO"
   ]
  },
  {
   "cell_type": "markdown",
   "id": "36551309",
   "metadata": {},
   "source": [
    "# Reward Competition Elo Score Calculation"
   ]
  },
  {
   "cell_type": "code",
   "execution_count": null,
   "id": "0390821e",
   "metadata": {},
   "outputs": [],
   "source": [
    "import re\n",
    "import os\n",
    "import sys\n",
    "import string\n",
    "from collections import defaultdict\n",
    "import glob\n",
    "import warnings\n",
    "from datetime import datetime\n",
    "from datetime import timedelta\n",
    "import ast\n",
    "from collections import Counter"
   ]
  },
  {
   "cell_type": "code",
   "execution_count": null,
   "id": "9a4dcf34",
   "metadata": {},
   "outputs": [],
   "source": [
    "import matplotlib.pyplot as plt\n",
    "import numpy as np\n",
    "import pandas as pd\n",
    "import xlrd"
   ]
  },
  {
   "cell_type": "code",
   "execution_count": null,
   "id": "052adba7",
   "metadata": {},
   "outputs": [],
   "source": [
    "# setting path\n",
    "sys.path.append('../../../src')"
   ]
  },
  {
   "cell_type": "code",
   "execution_count": null,
   "id": "e1259e1a",
   "metadata": {},
   "outputs": [],
   "source": [
    "from eloscore import eloscore"
   ]
  },
  {
   "cell_type": "code",
   "execution_count": null,
   "id": "4a1d1184",
   "metadata": {},
   "outputs": [],
   "source": [
    "# Increase size of plot in jupyter\n",
    "\n",
    "plt.rcParams[\"figure.figsize\"] = (18,10)"
   ]
  },
  {
   "cell_type": "markdown",
   "id": "6c181553",
   "metadata": {},
   "source": [
    "## TODO: ADD Summary"
   ]
  },
  {
   "cell_type": "markdown",
   "id": "da072feb",
   "metadata": {},
   "source": [
    "# Make it iterate through a list of sheets"
   ]
  },
  {
   "cell_type": "markdown",
   "id": "d381f6a0",
   "metadata": {},
   "source": [
    "- Notebook that calcuates the Elo Score of mice competing over access to a tone associated reward port\n",
    "- The data is a spreadsheet of combination of subjects (as rows) against dates (as columns)"
   ]
  },
  {
   "cell_type": "markdown",
   "id": "96d0cdfa",
   "metadata": {},
   "source": [
    "## Name of protocol for naming"
   ]
  },
  {
   "cell_type": "markdown",
   "id": "af07ad3f",
   "metadata": {},
   "source": [
    "- This name will be used to name files and title plots. Please change if you are using a different protocol or adding more details\n",
    "    - **NOTE**: This should be changed based on the name the protocol"
   ]
  },
  {
   "cell_type": "code",
   "execution_count": null,
   "id": "2b665d42",
   "metadata": {},
   "outputs": [],
   "source": [
    "protocol_name = \"reward_competition\""
   ]
  },
  {
   "cell_type": "code",
   "execution_count": null,
   "id": "568c6d8f",
   "metadata": {},
   "outputs": [],
   "source": [
    "cohort_name = \"pilot_3\""
   ]
  },
  {
   "cell_type": "markdown",
   "id": "c01d0903",
   "metadata": {},
   "source": [
    "## Getting the file name of the raw data"
   ]
  },
  {
   "cell_type": "markdown",
   "id": "a5993b65",
   "metadata": {},
   "source": [
    "- Default input folder and keyword to search the files for \n",
    "    - **NOTE**: This should not be changed unless there is a consistent change with the file naming convention"
   ]
  },
  {
   "cell_type": "code",
   "execution_count": null,
   "id": "894b6ea5",
   "metadata": {},
   "outputs": [],
   "source": [
    "input_folder = \"./data\""
   ]
  },
  {
   "cell_type": "code",
   "execution_count": null,
   "id": "99b7aadb",
   "metadata": {},
   "outputs": [],
   "source": [
    "# Accomodates for both capitalization of the file names\n",
    "raw_data_file_keyword = '*[rR]eward*'"
   ]
  },
  {
   "cell_type": "markdown",
   "id": "6baa0338",
   "metadata": {},
   "source": [
    "# NOTE: If there is a set excel file used for this notebook, edit the cell below with the path to that in the \"\" (quotation marks)"
   ]
  },
  {
   "cell_type": "code",
   "execution_count": null,
   "id": "2456cf6c",
   "metadata": {},
   "outputs": [],
   "source": [
    "raw_data_file_path = \"./data/Reward_Comp_Scoring_Assignments (1).xlsx\""
   ]
  },
  {
   "cell_type": "markdown",
   "id": "f9638939",
   "metadata": {},
   "source": [
    "- Asking the user what the path to the recording files are, with the option of using wildcards"
   ]
  },
  {
   "cell_type": "code",
   "execution_count": null,
   "id": "4f5311a1",
   "metadata": {},
   "outputs": [],
   "source": [
    "if not raw_data_file_path:\n",
    "    raw_data_glob_pattern = input(\"\"\"Type out the path(address) of the raw behavioral recording excel sheets.\n",
    "    Remember that if you are using a relative path, it will be based off of the location of this Jupyter Notebook.\n",
    "\n",
    "    Globbing can also be used if you want to search with a wild card(Capitalization matters). \n",
    "    i.e. './data/*Home*' will be able to find './data/Homecage_observations.xlsx'\n",
    "\n",
    "    NOTE: If left blank, the path will automatically be guessed off of the default settings \n",
    "    \"\"\")"
   ]
  },
  {
   "cell_type": "markdown",
   "id": "5232c96f",
   "metadata": {},
   "source": [
    "- By default, this will search for files that are in the `./data` folder (in the folder that this notebook is in) that have key word you specified in the file name"
   ]
  },
  {
   "cell_type": "code",
   "execution_count": null,
   "id": "1dc95b53",
   "metadata": {},
   "outputs": [],
   "source": [
    "if not raw_data_file_path:\n",
    "\n",
    "    # Using the user inputted path/pattern\n",
    "    if raw_data_glob_pattern.strip():\n",
    "        # Getting a list of all matching files\n",
    "        raw_data_files_list = glob.glob(raw_data_glob_pattern.strip())\n",
    "        # Checking if there were any files that matched\n",
    "        if raw_data_files_list:\n",
    "            raw_data_file_path = raw_data_files_list[0]\n",
    "        else:\n",
    "            raise ValueError(\"No files were found with the path/pattern of {}. Please rerun the previous cell with the correct path\".format(raw_data_glob_pattern))\n",
    "\n",
    "    # Using the default pattern\n",
    "    else:\n",
    "        # Searching for matching files with recursion\n",
    "        if glob.glob(os.path.join(input_folder + \"**\", raw_data_file_keyword)):\n",
    "            raw_data_glob_pattern = os.path.join(input_folder + \"**\", raw_data_file_keyword)\n",
    "            # Getting a list of all matching files\n",
    "            raw_data_files_list = glob.glob(raw_data_glob_pattern)\n",
    "        # Searching for matching files only in the specified folder\n",
    "        elif glob.glob(os.path.join(input_folder, raw_data_file_keyword)):\n",
    "            raw_data_glob_pattern = glob.glob(os.path.join(input_folder, raw_data_file_keyword))\n",
    "            # Getting a list of all matching files\n",
    "            raw_data_files_list = glob.glob(raw_data_glob_pattern)\n",
    "        else:\n",
    "            raise ValueError(\"No files were found in {} that had the keyword {} in it\".format(input_folder, raw_data_file_keyword))\n"
   ]
  },
  {
   "cell_type": "markdown",
   "id": "ad71d527",
   "metadata": {},
   "source": [
    "- Checking to see if only one file is specified"
   ]
  },
  {
   "cell_type": "code",
   "execution_count": null,
   "id": "20379eec",
   "metadata": {},
   "outputs": [],
   "source": [
    "if not raw_data_file_path:\n",
    "\n",
    "    if len(raw_data_files_list) >= 2:\n",
    "        raise ValueError(\"More than one file was found with the path/pattern of {}. Please rerun the previous cell with the correct path\".format(raw_data_glob_pattern))\n",
    "    else:\n",
    "        # Using the first(and only file) as the file path\n",
    "        raw_data_file_path = raw_data_files_list[0]"
   ]
  },
  {
   "cell_type": "code",
   "execution_count": null,
   "id": "58f5962f",
   "metadata": {},
   "outputs": [],
   "source": [
    "raw_data_file_path"
   ]
  },
  {
   "cell_type": "markdown",
   "id": "831253b5",
   "metadata": {},
   "source": [
    "## Getting a list of all the sheets"
   ]
  },
  {
   "cell_type": "code",
   "execution_count": null,
   "id": "e09a2157",
   "metadata": {},
   "outputs": [],
   "source": [
    "# Getting the sheet names for the excel file\n",
    "xls = pd.ExcelFile(raw_data_file_path)\n",
    "raw_data_sheet_names = xls.sheet_names"
   ]
  },
  {
   "cell_type": "code",
   "execution_count": null,
   "id": "c2525a99",
   "metadata": {},
   "outputs": [],
   "source": [
    "raw_data_sheet_names"
   ]
  },
  {
   "cell_type": "markdown",
   "id": "f934b95a",
   "metadata": {},
   "source": [
    "# NOTE: If there is a set sheet names used for this notebook, edit the cell below with the name of the sheets each in quotation marks seperated by commas\n",
    "   - i.e. `['CAGE 1', 'CAGE 2', 'CAGE 3', 'CAGE 4']`"
   ]
  },
  {
   "cell_type": "code",
   "execution_count": null,
   "id": "05482d7b",
   "metadata": {},
   "outputs": [],
   "source": [
    "inputted_sheet_names_list = ['Master List']"
   ]
  },
  {
   "cell_type": "markdown",
   "id": "fdf8f316",
   "metadata": {},
   "source": [
    "- Asking the user what sheets they want to use"
   ]
  },
  {
   "cell_type": "code",
   "execution_count": null,
   "id": "2504971a",
   "metadata": {},
   "outputs": [],
   "source": [
    "if not inputted_sheet_names_list:\n",
    "\n",
    "    inputted_sheet_names_string = input(\"\"\"Type out the name of the sheets that you want to be processed. \n",
    "    Each name must be put in quotes and seperated by a comma(,). i.e. \"CAGE3\", \"CAGE4\"\n",
    "\n",
    "    The available sheets are: {}\n",
    "\n",
    "    Alternatively, you can use the index of the list of names above. \n",
    "    Remember, that Python is zero indexed so the first item will be have the 0 index, second the 1 index, and so on. \n",
    "    i.e. 1, 2\n",
    "\n",
    "    NOTE: If left blank, all sheets will be used\n",
    "    \"\"\".format(raw_data_sheet_names))"
   ]
  },
  {
   "cell_type": "code",
   "execution_count": null,
   "id": "78972ffc",
   "metadata": {},
   "outputs": [],
   "source": [
    "if not inputted_sheet_names_list:\n",
    "\n",
    "    # Making a list out of the string of inputted sheet names\n",
    "    if inputted_sheet_names_string:\n",
    "        inputted_sheet_names_string = \"[\" + inputted_sheet_names_string + \"]\"\n",
    "        # Turning the string into a list\n",
    "        inputted_sheet_names_list = ast.literal_eval(inputted_sheet_names_string)\n",
    "    # Using all the sheet names if no sheet name is specified\n",
    "    else:\n",
    "        inputted_sheet_names_list =  raw_data_sheet_names"
   ]
  },
  {
   "cell_type": "code",
   "execution_count": null,
   "id": "ba051f1b",
   "metadata": {},
   "outputs": [],
   "source": [
    "inputted_sheet_names_list"
   ]
  },
  {
   "cell_type": "markdown",
   "id": "93c4de41",
   "metadata": {},
   "source": [
    "- Converting all the numbers into the sheet name that the index of the number corresponds to"
   ]
  },
  {
   "cell_type": "code",
   "execution_count": null,
   "id": "7fb07957",
   "metadata": {},
   "outputs": [],
   "source": [
    "if not inputted_sheet_names_list:\n",
    "\n",
    "    for index, sheet in enumerate(inputted_sheet_names_list):\n",
    "        # Checking if the sheet name was a number\n",
    "        if isinstance(sheet, int) and str(sheet).isdigit():\n",
    "            inputted_sheet_names_list[index] =  raw_data_sheet_names[sheet]"
   ]
  },
  {
   "cell_type": "code",
   "execution_count": null,
   "id": "b75caf8b",
   "metadata": {},
   "outputs": [],
   "source": [
    "inputted_sheet_names_list"
   ]
  },
  {
   "cell_type": "markdown",
   "id": "7ad6552c",
   "metadata": {},
   "source": [
    "- Checking to see if all the sheets are in the excel file"
   ]
  },
  {
   "cell_type": "code",
   "execution_count": null,
   "id": "95dad76d",
   "metadata": {},
   "outputs": [],
   "source": [
    "if not set(inputted_sheet_names_list).issubset(raw_data_sheet_names):\n",
    "    # Getting all the sheets that were not in the original spreadsheet\n",
    "    not_included_sheet_names = set(inputted_sheet_names_list) - set(raw_data_sheet_names)\n",
    "    raise ValueError(\"All the listed sheet names are not in {}\".format(not_included_sheet_names))"
   ]
  },
  {
   "cell_type": "markdown",
   "id": "d6eb1958",
   "metadata": {},
   "source": [
    "# NOTE: If there is a set row that has the column names, then enter the row number in the quotation marks"
   ]
  },
  {
   "cell_type": "code",
   "execution_count": null,
   "id": "e1f9df82",
   "metadata": {},
   "outputs": [],
   "source": [
    "# Making the row number a string, so that \"0\" is treated as a True value\n",
    "all_header_row = header_row = \"0\"\n",
    "header_row = int(header_row)"
   ]
  },
  {
   "cell_type": "markdown",
   "id": "aa2d2996",
   "metadata": {},
   "source": [
    "## Finding the row for the header"
   ]
  },
  {
   "cell_type": "markdown",
   "id": "aeb25b64",
   "metadata": {},
   "source": [
    "- Headers are the row in a spreadsheet that has all the column names. Sometimes spreadsheets don't use the first row as the row with the column names. So, the row for the header will be asked or assumed to be the first row"
   ]
  },
  {
   "cell_type": "code",
   "execution_count": null,
   "id": "bc9f7602",
   "metadata": {},
   "outputs": [],
   "source": [
    "sheet_name_to_everything = defaultdict(dict)\n",
    "for sheet in inputted_sheet_names_list:\n",
    "    if not all_header_row:\n",
    "        print(\"\\nCurrent Sheet Name: {}\".format(sheet))    \n",
    "        per_sheet_dataframe = pd.read_excel(raw_data_file_path, sheet_name=sheet, header=0)\n",
    "\n",
    "        # Showing the columns that are chosen with the header being the 0th row\n",
    "        print(\"Columns Names: {}\".format(per_sheet_dataframe.columns))\n",
    "        # Show the dataframe that would be created with the header being the 0th row\n",
    "        print(\"First few rows of this dataframe:\")\n",
    "        print(pd.read_excel(raw_data_file_path, sheet_name=sheet, header=0).head())\n",
    "\n",
    "        # Allowing the user the choose the row number for the header\n",
    "        header_row = input(\"\"\"Type the row number to be used as the header\n",
    "        (AKA the row with the column name that you want to use.)\n",
    "        If you want to keep the column names that were displayed, type 0.\n",
    "        If you want to use a different row, then type the corresponding number. \n",
    "\n",
    "        The rows displayed in this cell are dataframes created from Pandas. \n",
    "        To use the row with the 0 index for column names, type 1. \n",
    "        For the row with the 1 index, it will be 2 and so on. i.e. 2\n",
    "\n",
    "        If you are looking at the original spread sheet, remember that Python is zero indexed. \n",
    "        So the first row will be 0, second will be 1, and so on. \n",
    "        i.e. 1\n",
    "\n",
    "        NOTE: If left blank, the original row that was used will be used.\n",
    "        \"\"\").strip()\n",
    "\n",
    "        if header_row == \"\":\n",
    "            header_row = 0\n",
    "        else:\n",
    "            header_row = int(header_row)\n",
    "    \n",
    "    # Checking if any of the column names are from empty cells\n",
    "    column_names = \"\".join([str(col) for col in pd.read_excel(raw_data_file_path, sheet_name=sheet, header=header_row).columns])\n",
    "    # If a column name came from an empty cell, it would have \"Unnamed\" in it\n",
    "    if \"Unnamed\" in column_names:\n",
    "        raise ValueError(\"\"\"Not all the cells in the chosen row are filled in.\n",
    "                         Please choose a row that has the name of the columns\n",
    "                         \n",
    "                         The values in this row are: {}\"\"\".format(column_names))\n",
    "    else:\n",
    "        sheet_name_to_everything[sheet][\"header_row\"] = header_row"
   ]
  },
  {
   "cell_type": "code",
   "execution_count": null,
   "id": "ae05e5e7",
   "metadata": {},
   "outputs": [],
   "source": [
    "sheet_name_to_everything"
   ]
  },
  {
   "cell_type": "markdown",
   "id": "0510e7f5",
   "metadata": {},
   "source": [
    "## Reading in all the spreadsheets"
   ]
  },
  {
   "cell_type": "code",
   "execution_count": null,
   "id": "7c4775bb",
   "metadata": {},
   "outputs": [],
   "source": [
    "# Going through each sheet and creating a dataframe of it\n",
    "for key, value in sheet_name_to_everything.items():\n",
    "    sheet_name_to_everything[key][\"original_behavior_recording_dataframe\"] = pd.read_excel(raw_data_file_path, sheet_name=key, header=value[\"header_row\"])"
   ]
  },
  {
   "cell_type": "code",
   "execution_count": null,
   "id": "209158a9",
   "metadata": {},
   "outputs": [],
   "source": [
    "sheet_name_to_everything[key][\"original_behavior_recording_dataframe\"].head()"
   ]
  },
  {
   "cell_type": "code",
   "execution_count": null,
   "id": "41dc2a81",
   "metadata": {},
   "outputs": [],
   "source": [
    "sheet_name_to_everything[key][\"original_behavior_recording_dataframe\"].tail()"
   ]
  },
  {
   "cell_type": "markdown",
   "id": "bbeac398",
   "metadata": {},
   "source": [
    "## Standarizing the Columns"
   ]
  },
  {
   "cell_type": "markdown",
   "id": "8e60a4ae",
   "metadata": {},
   "source": [
    "- Making all the column names lower case and removing any extra spaces in the beginning and at the end"
   ]
  },
  {
   "cell_type": "code",
   "execution_count": null,
   "id": "a1319521",
   "metadata": {},
   "outputs": [],
   "source": [
    "for key, value in sheet_name_to_everything.items():\n",
    "    # Creating a dictionary that maps the original column name to the standarized one\n",
    "    column_name_to_standarized = defaultdict(dict)\n",
    "    for col in sheet_name_to_everything[key][\"original_behavior_recording_dataframe\"]:\n",
    "        # Making the column name lower case and removing the spaces\n",
    "        column_name_to_standarized[col] = str(col).lower().strip()\n",
    "    sheet_name_to_everything[key][\"column_name_to_standarized\"] = column_name_to_standarized"
   ]
  },
  {
   "cell_type": "code",
   "execution_count": null,
   "id": "5e8cb649",
   "metadata": {},
   "outputs": [],
   "source": [
    "sheet_name_to_everything[key][\"column_name_to_standarized\"]"
   ]
  },
  {
   "cell_type": "code",
   "execution_count": null,
   "id": "85e608bb",
   "metadata": {},
   "outputs": [],
   "source": [
    "# Renaming all the columns to the lower case and space removed version\n",
    "for key, value in sheet_name_to_everything.items():\n",
    "    sheet_name_to_everything[key][\"processed_behavior_recording_dataframe\"] = sheet_name_to_everything[key][\"original_behavior_recording_dataframe\"].rename(columns=sheet_name_to_everything[key][\"column_name_to_standarized\"])"
   ]
  },
  {
   "cell_type": "code",
   "execution_count": null,
   "id": "c1899dc1",
   "metadata": {},
   "outputs": [],
   "source": [
    "sheet_name_to_everything[key][\"processed_behavior_recording_dataframe\"].head()"
   ]
  },
  {
   "cell_type": "markdown",
   "id": "061add08",
   "metadata": {},
   "source": [
    "## Removing Unnecessary Columns"
   ]
  },
  {
   "cell_type": "markdown",
   "id": "8bb9ce2f",
   "metadata": {},
   "source": [
    "# TODO: Pick which columns to drop or keep"
   ]
  },
  {
   "cell_type": "code",
   "execution_count": null,
   "id": "06cccaba",
   "metadata": {},
   "outputs": [],
   "source": [
    "reward_competition_df = sheet_name_to_everything[key][\"processed_behavior_recording_dataframe\"]"
   ]
  },
  {
   "cell_type": "code",
   "execution_count": null,
   "id": "aa072293",
   "metadata": {},
   "outputs": [],
   "source": [
    "reward_competition_df.columns"
   ]
  },
  {
   "cell_type": "code",
   "execution_count": null,
   "id": "41310fa9",
   "metadata": {},
   "outputs": [],
   "source": [
    "reward_competition_df = reward_competition_df.drop([\"mouse 1 wins\", \"mouse 2 wins\", \"ties\", \" \"], axis=1, errors=\"ignore\")"
   ]
  },
  {
   "cell_type": "code",
   "execution_count": null,
   "id": "dc90fcc6",
   "metadata": {},
   "outputs": [],
   "source": [
    "columns_to_keep = [col for col in reward_competition_df.columns if \"time\" not in col.lower().strip()]"
   ]
  },
  {
   "cell_type": "code",
   "execution_count": null,
   "id": "060100cf",
   "metadata": {},
   "outputs": [],
   "source": [
    "columns_to_keep"
   ]
  },
  {
   "cell_type": "code",
   "execution_count": null,
   "id": "a27bd953",
   "metadata": {},
   "outputs": [],
   "source": [
    "reward_competition_df = reward_competition_df[columns_to_keep].copy()"
   ]
  },
  {
   "cell_type": "code",
   "execution_count": null,
   "id": "b3d53b54",
   "metadata": {},
   "outputs": [],
   "source": [
    "reward_competition_df.head()"
   ]
  },
  {
   "cell_type": "code",
   "execution_count": null,
   "id": "567ec18d",
   "metadata": {},
   "outputs": [],
   "source": [
    "reward_competition_df = reward_competition_df.dropna(subset=[\"trial 1 winner\"])"
   ]
  },
  {
   "cell_type": "markdown",
   "id": "d2f17ac3",
   "metadata": {},
   "source": [
    "## Add both IDs as a column"
   ]
  },
  {
   "cell_type": "markdown",
   "id": "5d8b7bdf",
   "metadata": {},
   "source": [
    "# TODO: Pick the match column"
   ]
  },
  {
   "cell_type": "code",
   "execution_count": null,
   "id": "25a3f29c",
   "metadata": {},
   "outputs": [],
   "source": [
    "reward_competition_df[\"animal_ids\"] = reward_competition_df[\"match\"].apply(lambda x: tuple(sorted([all_ids.strip() for all_ids in re.findall(r\"[-+]?(?:\\d*\\.\\d+|\\d+)\", x)])))"
   ]
  },
  {
   "cell_type": "code",
   "execution_count": null,
   "id": "17b9c5b7",
   "metadata": {},
   "outputs": [],
   "source": [
    "reward_competition_df.head()"
   ]
  },
  {
   "cell_type": "code",
   "execution_count": null,
   "id": "8843422f",
   "metadata": {},
   "outputs": [],
   "source": [
    "reward_competition_df[\"cohort\"] = cohort_name"
   ]
  },
  {
   "cell_type": "code",
   "execution_count": null,
   "id": "dccfa249",
   "metadata": {},
   "outputs": [],
   "source": [
    "cage_to_strain = {\"1\": \"C57\", \"2\": \"C57\", \"3\": \"C57\", \"4\": \"CD1\", \"5\": \"CD1\", \"6\": \"CD1\"}"
   ]
  },
  {
   "cell_type": "markdown",
   "id": "ec1efd6e",
   "metadata": {},
   "source": [
    "# NOTE: If there are strains that are associated to each cage, then create a dictionary of cage numbers to strains inside the `{}`\n",
    "- i.e. `cage_to_strain = {\"1\": \"C57\", \"2\": \"C57\", \"3\": \"C57\", \"4\": \"CD1\", \"5\": \"CD1\", \"6\": \"CD1\"}`"
   ]
  },
  {
   "cell_type": "code",
   "execution_count": null,
   "id": "02d38f3e",
   "metadata": {},
   "outputs": [],
   "source": [
    "reward_competition_df[\"strain\"] = reward_competition_df[\"cage\"].astype(str).map(cage_to_strain)"
   ]
  },
  {
   "cell_type": "code",
   "execution_count": null,
   "id": "9481840b",
   "metadata": {},
   "outputs": [],
   "source": [
    "all_cages = \"_\".join([str(cage) for cage in sorted(reward_competition_df[\"cage\"].unique())])"
   ]
  },
  {
   "cell_type": "code",
   "execution_count": null,
   "id": "5dc24711",
   "metadata": {},
   "outputs": [],
   "source": [
    "all_cages"
   ]
  },
  {
   "cell_type": "code",
   "execution_count": null,
   "id": "2a4cfbe3",
   "metadata": {},
   "outputs": [],
   "source": [
    "earliest_date = reward_competition_df[\"date\"].min()\n",
    "latest_date = reward_competition_df[\"date\"].max()"
   ]
  },
  {
   "cell_type": "code",
   "execution_count": null,
   "id": "cf170fcd",
   "metadata": {},
   "outputs": [],
   "source": [
    "earliest_date = str(earliest_date.date()).replace(\"-\", \"\")"
   ]
  },
  {
   "cell_type": "code",
   "execution_count": null,
   "id": "1a4d1c35",
   "metadata": {},
   "outputs": [],
   "source": [
    "latest_date = str(latest_date.date()).replace(\"-\", \"\")"
   ]
  },
  {
   "cell_type": "code",
   "execution_count": null,
   "id": "7cd5d6ac",
   "metadata": {},
   "outputs": [],
   "source": [
    "earliest_date"
   ]
  },
  {
   "cell_type": "code",
   "execution_count": null,
   "id": "8fe8df7c",
   "metadata": {},
   "outputs": [],
   "source": [
    "latest_date"
   ]
  },
  {
   "cell_type": "code",
   "execution_count": null,
   "id": "e3615317",
   "metadata": {},
   "outputs": [],
   "source": [
    "file_name = \"{}_{}_trial_as_columns_cages_{}_date_{}_{}.csv\".format(cohort_name, protocol_name, all_cages, earliest_date, latest_date)\n",
    "\n",
    "reward_competition_df.to_csv(os.path.join(\"./proc/elo_score_spread_sheets/reward_competition_elo_score/\", file_name))"
   ]
  },
  {
   "cell_type": "markdown",
   "id": "f15e88e9",
   "metadata": {},
   "source": [
    "## Melt "
   ]
  },
  {
   "cell_type": "code",
   "execution_count": null,
   "id": "89efc8aa",
   "metadata": {},
   "outputs": [],
   "source": [
    "reward_competition_df[\"index\"] = reward_competition_df.index\n",
    "reward_competition_df = reward_competition_df.reset_index(drop=True)"
   ]
  },
  {
   "cell_type": "code",
   "execution_count": null,
   "id": "28718c74",
   "metadata": {},
   "outputs": [],
   "source": [
    "reward_competition_df.head()"
   ]
  },
  {
   "cell_type": "markdown",
   "id": "74737bf2",
   "metadata": {},
   "source": [
    "# TODO: Pick the columns to keep"
   ]
  },
  {
   "cell_type": "code",
   "execution_count": null,
   "id": "3d3c6258",
   "metadata": {},
   "outputs": [],
   "source": [
    "melted_reward_competition_df = reward_competition_df.melt(id_vars=[\"index\", \"date\", \"cage\", \"box\", \"match\", \"scorer\", \"animal_ids\"], \n",
    "        var_name=\"trial\", \n",
    "        value_name=\"winner\")"
   ]
  },
  {
   "cell_type": "code",
   "execution_count": null,
   "id": "9f98e812",
   "metadata": {},
   "outputs": [],
   "source": [
    "melted_reward_competition_df.head()"
   ]
  },
  {
   "cell_type": "markdown",
   "id": "790faff3",
   "metadata": {},
   "source": [
    "- Dropping all rows that don't contain Winner"
   ]
  },
  {
   "cell_type": "code",
   "execution_count": null,
   "id": "5a879256",
   "metadata": {},
   "outputs": [],
   "source": [
    "melted_reward_competition_df = melted_reward_competition_df.dropna(subset=\"winner\")"
   ]
  },
  {
   "cell_type": "markdown",
   "id": "4fd7438d",
   "metadata": {},
   "source": [
    "- Making all the ids into string"
   ]
  },
  {
   "cell_type": "code",
   "execution_count": null,
   "id": "5a8adfc0",
   "metadata": {},
   "outputs": [],
   "source": [
    "melted_reward_competition_df[\"winner\"] = melted_reward_competition_df[\"winner\"].astype(str)\n",
    "melted_reward_competition_df[\"winner\"] = melted_reward_competition_df[\"winner\"].apply(lambda x: x.lower().strip())"
   ]
  },
  {
   "cell_type": "code",
   "execution_count": null,
   "id": "7a210ea9",
   "metadata": {},
   "outputs": [],
   "source": [
    "melted_reward_competition_df[\"match\"].unique()"
   ]
  },
  {
   "cell_type": "markdown",
   "id": "199b86d4",
   "metadata": {},
   "source": [
    "- Making a different column for ties"
   ]
  },
  {
   "cell_type": "code",
   "execution_count": null,
   "id": "b208f218",
   "metadata": {},
   "outputs": [],
   "source": [
    "melted_reward_competition_df[\"tie\"] = melted_reward_competition_df[\"winner\"].apply(lambda x: True if \"tie\" in x.lower().strip() else False)"
   ]
  },
  {
   "cell_type": "markdown",
   "id": "e3724db9",
   "metadata": {},
   "source": [
    "- Replacing tie with the first animal id for elo score plotting"
   ]
  },
  {
   "cell_type": "code",
   "execution_count": null,
   "id": "f2364acc",
   "metadata": {},
   "outputs": [],
   "source": [
    "melted_reward_competition_df[\"winner\"] = melted_reward_competition_df.apply(lambda x: x[\"animal_ids\"][0] if x[\"tie\"] else x[\"winner\"], axis=1)"
   ]
  },
  {
   "cell_type": "code",
   "execution_count": null,
   "id": "c0d204a8",
   "metadata": {},
   "outputs": [],
   "source": [
    "melted_reward_competition_df[melted_reward_competition_df[\"tie\"]]"
   ]
  },
  {
   "cell_type": "markdown",
   "id": "8800e647",
   "metadata": {},
   "source": [
    "- Dropping all non tie and competition rows"
   ]
  },
  {
   "cell_type": "code",
   "execution_count": null,
   "id": "5029ff71",
   "metadata": {},
   "outputs": [],
   "source": [
    "melted_reward_competition_df[\"winner_is_number\"] = melted_reward_competition_df[\"winner\"].apply(lambda x: True if re.match(r'^-?\\d+(?:\\.\\d+)$', x) else False)\n"
   ]
  },
  {
   "cell_type": "code",
   "execution_count": null,
   "id": "378368f8",
   "metadata": {},
   "outputs": [],
   "source": [
    "melted_reward_competition_df = melted_reward_competition_df[melted_reward_competition_df[\"winner_is_number\"] == True]\n",
    "melted_reward_competition_df = melted_reward_competition_df.drop(columns=[\"winner_is_number\"])"
   ]
  },
  {
   "cell_type": "code",
   "execution_count": null,
   "id": "be86f881",
   "metadata": {},
   "outputs": [],
   "source": [
    "melted_reward_competition_df.head()"
   ]
  },
  {
   "cell_type": "markdown",
   "id": "49658506",
   "metadata": {},
   "source": [
    "- Getting the number of the trial so that we can order by number(instead of string, which would make 11 come before 2)"
   ]
  },
  {
   "cell_type": "code",
   "execution_count": null,
   "id": "f9722a26",
   "metadata": {},
   "outputs": [],
   "source": [
    "melted_reward_competition_df[\"trial_number\"] = melted_reward_competition_df[\"trial\"].apply(lambda x: int(x.lower().strip(\"trial\").strip(\"winner\")))"
   ]
  },
  {
   "cell_type": "code",
   "execution_count": null,
   "id": "1f1434b8",
   "metadata": {},
   "outputs": [],
   "source": [
    "melted_reward_competition_df = melted_reward_competition_df.sort_values([\"index\", \"trial_number\"])"
   ]
  },
  {
   "cell_type": "code",
   "execution_count": null,
   "id": "54ec2d97",
   "metadata": {},
   "outputs": [],
   "source": [
    "melted_reward_competition_df.head()"
   ]
  },
  {
   "cell_type": "code",
   "execution_count": null,
   "id": "43346627",
   "metadata": {},
   "outputs": [],
   "source": [
    "melted_reward_competition_df[\"trial_number\"].unique()"
   ]
  },
  {
   "cell_type": "markdown",
   "id": "6e8fad8c",
   "metadata": {},
   "source": [
    "## Add a column for the loser ID"
   ]
  },
  {
   "cell_type": "code",
   "execution_count": null,
   "id": "6eb9befc",
   "metadata": {},
   "outputs": [],
   "source": [
    "melted_reward_competition_df.columns"
   ]
  },
  {
   "cell_type": "code",
   "execution_count": null,
   "id": "d3ed529d",
   "metadata": {},
   "outputs": [],
   "source": [
    "melted_reward_competition_df.head()"
   ]
  },
  {
   "cell_type": "code",
   "execution_count": null,
   "id": "ff81e1d1",
   "metadata": {},
   "outputs": [],
   "source": [
    "melted_reward_competition_df[\"loser\"] = melted_reward_competition_df.apply(lambda x: (list(set(x[\"animal_ids\"]) - set([x[\"winner\"]]))[0]), axis=1)"
   ]
  },
  {
   "cell_type": "code",
   "execution_count": null,
   "id": "cd93ec20",
   "metadata": {},
   "outputs": [],
   "source": [
    "melted_reward_competition_df[\"loser\"].unique()"
   ]
  },
  {
   "cell_type": "code",
   "execution_count": null,
   "id": "4f9ebcb2",
   "metadata": {},
   "outputs": [],
   "source": [
    "melted_reward_competition_df.head(n=5)"
   ]
  },
  {
   "cell_type": "code",
   "execution_count": null,
   "id": "a901994e",
   "metadata": {},
   "outputs": [],
   "source": [
    "melted_reward_competition_df.tail(n=5)"
   ]
  },
  {
   "cell_type": "markdown",
   "id": "66148f9b",
   "metadata": {},
   "source": [
    "## Calculating ELO Score"
   ]
  },
  {
   "cell_type": "markdown",
   "id": "e56eee27",
   "metadata": {},
   "source": [
    "- Example calculation"
   ]
  },
  {
   "cell_type": "code",
   "execution_count": null,
   "id": "c6be2138",
   "metadata": {},
   "outputs": [],
   "source": [
    "eloscore.calculate_elo_score(subject_elo_score=1000, agent_elo_score=2000)"
   ]
  },
  {
   "cell_type": "markdown",
   "id": "7f1d3f26",
   "metadata": {},
   "source": [
    "# TODO: Find a way to account for ties"
   ]
  },
  {
   "cell_type": "markdown",
   "id": "d4326a25",
   "metadata": {},
   "source": [
    "## Get the Elo score for all the events"
   ]
  },
  {
   "cell_type": "code",
   "execution_count": null,
   "id": "936ad9fc",
   "metadata": {},
   "outputs": [],
   "source": [
    "eloscore.update_elo_score(winner_id=\"A\", loser_id=\"B\")"
   ]
  },
  {
   "cell_type": "markdown",
   "id": "9ec1ed24",
   "metadata": {},
   "source": [
    "- Function that creates a dictionary that has the original/updated elo score for each event"
   ]
  },
  {
   "cell_type": "code",
   "execution_count": null,
   "id": "ccf4fb0b",
   "metadata": {},
   "outputs": [],
   "source": [
    "cage_to_elo_score_dict = defaultdict(dict)\n",
    "for cage in melted_reward_competition_df[\"cage\"].unique():\n",
    "    cage_df = melted_reward_competition_df[melted_reward_competition_df[\"cage\"] == cage]\n",
    "    cage_to_elo_score_dict[cage] = eloscore.iterate_elo_score_calculation_for_dataframe(dataframe=cage_df, winner_column=\"winner\", loser_column=\"loser\", additional_columns=[\"index\", \"date\", \"cage\", \"box\", \"match\", \"scorer\", \"animal_ids\", \"trial\", \"trial_number\"])"
   ]
  },
  {
   "cell_type": "code",
   "execution_count": null,
   "id": "3d1fe0d6",
   "metadata": {},
   "outputs": [],
   "source": [
    "cage_to_elo_score_dict.keys()"
   ]
  },
  {
   "cell_type": "code",
   "execution_count": null,
   "id": "16044de3",
   "metadata": {},
   "outputs": [],
   "source": [
    "cage_to_elo_score_dict[list(cage_to_elo_score_dict.keys())[0]][0]"
   ]
  },
  {
   "cell_type": "markdown",
   "id": "336e6846",
   "metadata": {},
   "source": [
    "- Turning the dictionary into a dataframe"
   ]
  },
  {
   "cell_type": "code",
   "execution_count": null,
   "id": "1b92793a",
   "metadata": {},
   "outputs": [],
   "source": [
    "all_cage_elo_score_list = []\n",
    "for key in cage_to_elo_score_dict.keys():\n",
    "    cage_elo_score_df = pd.DataFrame.from_dict(cage_to_elo_score_dict[key], orient=\"index\")\n",
    "    cage_elo_score_df.insert(0, 'total_trial_number', range(0, 0 + len(cage_elo_score_df)))\n",
    "    print(cage_elo_score_df)\n",
    "    all_cage_elo_score_list.append(cage_elo_score_df)\n"
   ]
  },
  {
   "cell_type": "code",
   "execution_count": null,
   "id": "03e715e0",
   "metadata": {},
   "outputs": [],
   "source": [
    "all_cage_elo_score_df = pd.concat(all_cage_elo_score_list)"
   ]
  },
  {
   "cell_type": "code",
   "execution_count": null,
   "id": "9b6306a8",
   "metadata": {},
   "outputs": [],
   "source": [
    "all_cage_elo_score_df.head()"
   ]
  },
  {
   "cell_type": "code",
   "execution_count": null,
   "id": "8c9fa9ce",
   "metadata": {},
   "outputs": [],
   "source": [
    "all_cage_elo_score_df.tail()"
   ]
  },
  {
   "cell_type": "code",
   "execution_count": null,
   "id": "5287aab2",
   "metadata": {},
   "outputs": [],
   "source": []
  },
  {
   "cell_type": "code",
   "execution_count": null,
   "id": "5e6e75de",
   "metadata": {},
   "outputs": [],
   "source": [
    "if cage_to_strain:\n",
    "    all_cage_elo_score_df[\"strain\"] = all_cage_elo_score_df[\"cage\"].astype(str).map(cage_to_strain)"
   ]
  },
  {
   "cell_type": "markdown",
   "id": "a91f1389",
   "metadata": {},
   "source": [
    "- Adding the cohort"
   ]
  },
  {
   "cell_type": "code",
   "execution_count": null,
   "id": "dd3fba0c",
   "metadata": {},
   "outputs": [],
   "source": [
    "all_cage_elo_score_df[\"experiment_type\"] = protocol_name\n",
    "all_cage_elo_score_df[\"cohort\"] = cohort_name"
   ]
  },
  {
   "cell_type": "code",
   "execution_count": null,
   "id": "ec01b5ac",
   "metadata": {},
   "outputs": [],
   "source": [
    "all_cage_elo_score_df.head()"
   ]
  },
  {
   "cell_type": "code",
   "execution_count": null,
   "id": "3e248668",
   "metadata": {
    "scrolled": true
   },
   "outputs": [],
   "source": [
    "all_cage_elo_score_df.head()"
   ]
  },
  {
   "cell_type": "code",
   "execution_count": null,
   "id": "4dead17e",
   "metadata": {},
   "outputs": [],
   "source": []
  },
  {
   "cell_type": "markdown",
   "id": "81a88c92",
   "metadata": {},
   "source": [
    "## Saving the Elo Score Dataframes"
   ]
  },
  {
   "cell_type": "markdown",
   "id": "2fc878fc",
   "metadata": {},
   "source": [
    "- Create folders to save processed data"
   ]
  },
  {
   "cell_type": "code",
   "execution_count": null,
   "id": "a4addc34",
   "metadata": {},
   "outputs": [],
   "source": []
  },
  {
   "cell_type": "markdown",
   "id": "a68cda01",
   "metadata": {},
   "source": [
    "- Adding the cage information for each cage"
   ]
  },
  {
   "cell_type": "raw",
   "id": "1c54ab09",
   "metadata": {},
   "source": [
    "all_cage_elo_score_df[\"id_with_cage_number\"] = all_cage_elo_score_df.apply(lambda x: str(x[\"cage\"]) + \".\" + str(x[\"subject_id\"]), axis = 1)\n"
   ]
  },
  {
   "cell_type": "code",
   "execution_count": null,
   "id": "ddcb0407",
   "metadata": {},
   "outputs": [],
   "source": [
    "all_cage_elo_score_df.head()"
   ]
  },
  {
   "cell_type": "code",
   "execution_count": null,
   "id": "2b02a91a",
   "metadata": {},
   "outputs": [],
   "source": []
  },
  {
   "cell_type": "code",
   "execution_count": null,
   "id": "5c83e7af",
   "metadata": {},
   "outputs": [],
   "source": [
    "id_to_final_elo_score_dict = defaultdict(dict)\n",
    "for index, subject_id in enumerate(sorted(all_cage_elo_score_df[\"subject_id\"].unique())):\n",
    "    per_subject_df = all_cage_elo_score_df[all_cage_elo_score_df[\"subject_id\"] == subject_id]\n",
    "    id_to_final_elo_score_dict[index][\"subject_id\"] = subject_id\n",
    "\n",
    "    id_to_final_elo_score_dict[index][\"final_elo_score\"] = per_subject_df.iloc[-1][\"updated_elo_score\"]\n",
    "    id_to_final_elo_score_dict[index][\"cohort\"] = per_subject_df.iloc[-1][\"cohort\"]\n",
    "    id_to_final_elo_score_dict[index][\"strain\"] = per_subject_df.iloc[-1][\"strain\"]\n",
    "    id_to_final_elo_score_dict[index][\"cage\"] = per_subject_df.iloc[-1][\"cage\"]\n",
    "\n",
    "    "
   ]
  },
  {
   "cell_type": "code",
   "execution_count": null,
   "id": "e81dd62f",
   "metadata": {},
   "outputs": [],
   "source": [
    "id_to_final_elo_score_dict"
   ]
  },
  {
   "cell_type": "code",
   "execution_count": null,
   "id": "d5ae4aeb",
   "metadata": {},
   "outputs": [],
   "source": [
    "id_to_final_elo_score_df = pd.DataFrame.from_dict(id_to_final_elo_score_dict, orient=\"index\")\n",
    "# Adding protocol name\n",
    "id_to_final_elo_score_df[\"experiment_type\"] = protocol_name\n",
    "# Adding rank\n",
    "id_to_final_elo_score_df[\"rank\"] = id_to_final_elo_score_df.groupby(\"cage\")[\"final_elo_score\"].rank(\"dense\", ascending=False)\n",
    "# Sorting by cage and then id\n",
    "id_to_final_elo_score_df = id_to_final_elo_score_df.sort_values(by=['cage', \"subject_id\"], ascending=True).reset_index(drop=True)"
   ]
  },
  {
   "cell_type": "code",
   "execution_count": null,
   "id": "62513d29",
   "metadata": {},
   "outputs": [],
   "source": [
    "id_to_final_elo_score_df[\"rank\"] = id_to_final_elo_score_df.groupby(\"cage\")[\"final_elo_score\"].rank(\"dense\", ascending=False)"
   ]
  },
  {
   "cell_type": "code",
   "execution_count": null,
   "id": "c1ae3abf",
   "metadata": {},
   "outputs": [],
   "source": [
    "id_to_final_elo_score_df = id_to_final_elo_score_df.sort_values(by=['cage', \"subject_id\"], ascending=True).reset_index(drop=True)"
   ]
  },
  {
   "cell_type": "code",
   "execution_count": null,
   "id": "c94fd939",
   "metadata": {},
   "outputs": [],
   "source": [
    "id_to_final_elo_score_df.head()"
   ]
  },
  {
   "cell_type": "code",
   "execution_count": null,
   "id": "8c488af7",
   "metadata": {},
   "outputs": [],
   "source": [
    "id_to_final_elo_score_df.tail()"
   ]
  },
  {
   "cell_type": "markdown",
   "id": "5f5aaa5c",
   "metadata": {},
   "source": [
    "# Plotting the Elo Score by match number"
   ]
  },
  {
   "cell_type": "code",
   "execution_count": null,
   "id": "ce583c51",
   "metadata": {},
   "outputs": [],
   "source": [
    "plot_output_directory = \"./proc/plots/reward_competition/cage_{}_date_{}_{}\".format(all_cages, earliest_date, latest_date)"
   ]
  },
  {
   "cell_type": "code",
   "execution_count": null,
   "id": "95aea620",
   "metadata": {},
   "outputs": [],
   "source": [
    "plot_output_directory"
   ]
  },
  {
   "cell_type": "code",
   "execution_count": null,
   "id": "e388023c",
   "metadata": {},
   "outputs": [],
   "source": [
    "os.makedirs(plot_output_directory, exist_ok=True)"
   ]
  },
  {
   "cell_type": "code",
   "execution_count": null,
   "id": "3592ba4c",
   "metadata": {},
   "outputs": [],
   "source": [
    "all_cage_elo_score_df[\"subject_id\"] = all_cage_elo_score_df[\"subject_id\"].astype(str)\n",
    "all_cage_elo_score_df[\"agent_id\"] = all_cage_elo_score_df[\"agent_id\"].astype(str)"
   ]
  },
  {
   "cell_type": "code",
   "execution_count": null,
   "id": "2e098bd5",
   "metadata": {},
   "outputs": [],
   "source": [
    "# Increase size of plot in jupyter\n",
    "\n",
    "plt.rcParams[\"figure.figsize\"] = (18,10)"
   ]
  },
  {
   "cell_type": "code",
   "execution_count": null,
   "id": "c4c2c5b3",
   "metadata": {},
   "outputs": [],
   "source": [
    "for cage in all_cage_elo_score_df[\"cage\"].unique():\n",
    "    fig, ax = plt.subplots()\n",
    "    plt.rcParams[\"figure.figsize\"] = (18,10)\n",
    "    per_cage_df = all_cage_elo_score_df[all_cage_elo_score_df[\"cage\"] == cage]\n",
    "       \n",
    "    for index in per_cage_df[\"index\"].unique():\n",
    "        first_session_in_trial = per_cage_df[per_cage_df[\"index\"] == index].iloc[0][\"total_trial_number\"]\n",
    "        plt.vlines(x=[first_session_in_trial - 0.5], ymin=700, ymax=1300, colors='black', linestyle='dashed')\n",
    "\n",
    "    \n",
    "    \n",
    "    # Drawing a line for each subject\n",
    "    for subject in sorted(per_cage_df[\"subject_id\"].unique()):\n",
    "        # Getting all the rows with the current subject\n",
    "        subject_df = per_cage_df[per_cage_df[\"subject_id\"] == subject]\n",
    "        # Making the dates into days after the first session by subtracting all the dates by the first date\n",
    "        plt.plot(subject_df[\"total_trial_number\"], subject_df[\"updated_elo_score\"], '-o', label=subject)\n",
    "    \n",
    "    # Labeling the X/Y Axis and the title\n",
    "    ax.set_xlabel(\"Trial Number\")\n",
    "    ax.set_ylabel(\"Elo Score\")\n",
    "    ax.set_title(\"{} Elo Score for {}: Cage {}\".format(\" \".join(cohort_name.split(\"_\")).capitalize(), string.capwords(\" \".join(protocol_name.split(\"_\"))), cage))\n",
    "    # To show the legend\n",
    "    ax.legend(loc=\"upper left\")\n",
    "    plt.xticks(rotation=90)\n",
    "    plt.ylim(700, 1300) \n",
    "    file_name = \"{}_{}_elo_score_{}_date_{}_{}.png\".format(cohort_name, protocol_name, cage, earliest_date, latest_date)\n",
    "    plt.savefig(os.path.join(plot_output_directory, file_name))  \n",
    "    \n",
    "    plt.show()"
   ]
  },
  {
   "cell_type": "code",
   "execution_count": null,
   "id": "2ac03f99",
   "metadata": {},
   "outputs": [],
   "source": []
  },
  {
   "cell_type": "markdown",
   "id": "3f2f4f83",
   "metadata": {},
   "source": [
    "# Saving the Dataframes"
   ]
  },
  {
   "cell_type": "code",
   "execution_count": null,
   "id": "a8261cd6",
   "metadata": {},
   "outputs": [],
   "source": []
  },
  {
   "cell_type": "code",
   "execution_count": null,
   "id": "62b26f89",
   "metadata": {},
   "outputs": [],
   "source": [
    "elo_score_spreadsheet_output_directory = \"./proc/elo_score_spread_sheets/{}_elo_score/cage_{}_date_{}_{}\".format(protocol_name, all_cages, earliest_date, latest_date)"
   ]
  },
  {
   "cell_type": "code",
   "execution_count": null,
   "id": "d1ef15dd",
   "metadata": {},
   "outputs": [],
   "source": [
    "elo_score_spreadsheet_output_directory"
   ]
  },
  {
   "cell_type": "code",
   "execution_count": null,
   "id": "35fa770e",
   "metadata": {},
   "outputs": [],
   "source": [
    "os.makedirs(elo_score_spreadsheet_output_directory, exist_ok=True)"
   ]
  },
  {
   "cell_type": "code",
   "execution_count": null,
   "id": "d78aed7d",
   "metadata": {},
   "outputs": [],
   "source": [
    "file_name = \"{}_elo_score_history_cages_{}_date_{}_{}.csv\".format(protocol_name, all_cages, earliest_date, latest_date)\n",
    "all_cage_elo_score_df.to_csv(os.path.join(elo_score_spreadsheet_output_directory, file_name))"
   ]
  },
  {
   "cell_type": "code",
   "execution_count": null,
   "id": "175dd843",
   "metadata": {},
   "outputs": [],
   "source": [
    "file_name = \"{}_final_elo_score_cages_{}_date_{}_{}.csv\".format(protocol_name, all_cages, earliest_date, latest_date)\n",
    "id_to_final_elo_score_df.to_csv(os.path.join(elo_score_spreadsheet_output_directory, file_name))"
   ]
  },
  {
   "cell_type": "markdown",
   "id": "eb7fef7d",
   "metadata": {},
   "source": [
    "## Seeing which subject is the dominant or submissive"
   ]
  },
  {
   "cell_type": "markdown",
   "id": "37fb3a17",
   "metadata": {},
   "source": [
    "- Grouping all the rows with the same pair"
   ]
  },
  {
   "cell_type": "code",
   "execution_count": null,
   "id": "a5286020",
   "metadata": {},
   "outputs": [],
   "source": [
    "all_processed_behavior_recording_df = melted_reward_competition_df"
   ]
  },
  {
   "cell_type": "code",
   "execution_count": null,
   "id": "1e21b951",
   "metadata": {},
   "outputs": [],
   "source": [
    "all_processed_behavior_recording_df.head()"
   ]
  },
  {
   "cell_type": "code",
   "execution_count": null,
   "id": "3633a7ce",
   "metadata": {},
   "outputs": [],
   "source": [
    "all_processed_behavior_recording_df.columns"
   ]
  },
  {
   "cell_type": "code",
   "execution_count": null,
   "id": "fecf1235",
   "metadata": {},
   "outputs": [],
   "source": [
    "['date', 'cage', 'match', 'animal_ids', 'trial', 'winner', 'tie', 'loser']"
   ]
  },
  {
   "cell_type": "markdown",
   "id": "4708831c",
   "metadata": {},
   "source": [
    "- Removing columns that would be unnecessary for the pairings"
   ]
  },
  {
   "cell_type": "code",
   "execution_count": null,
   "id": "720e7dd6",
   "metadata": {},
   "outputs": [],
   "source": [
    "all_processed_behavior_recording_df = all_processed_behavior_recording_df[['date', 'cage', 'match', 'animal_ids', 'trial', 'winner', 'tie', 'loser']]\n",
    "all_processed_behavior_recording_df['processed_cage_number'] = all_processed_behavior_recording_df['cage'].astype(int)"
   ]
  },
  {
   "cell_type": "code",
   "execution_count": null,
   "id": "c8175559",
   "metadata": {},
   "outputs": [],
   "source": [
    "all_processed_behavior_recording_df.head()"
   ]
  },
  {
   "cell_type": "markdown",
   "id": "4039ddd4",
   "metadata": {},
   "source": [
    "- Adding a tie to the list of winners and losers if it's a tie"
   ]
  },
  {
   "cell_type": "code",
   "execution_count": null,
   "id": "d39798c2",
   "metadata": {},
   "outputs": [],
   "source": [
    "all_processed_behavior_recording_df[\"winner\"] = all_processed_behavior_recording_df.apply(lambda x: \"tie\" if x[\"tie\"] else x[\"winner\"], axis=1)\n",
    "all_processed_behavior_recording_df[\"loser\"] = all_processed_behavior_recording_df.apply(lambda x: \"tie\" if x[\"tie\"] else x[\"loser\"], axis=1)"
   ]
  },
  {
   "cell_type": "code",
   "execution_count": null,
   "id": "1ef43b07",
   "metadata": {},
   "outputs": [],
   "source": [
    "all_processed_behavior_recording_df[all_processed_behavior_recording_df[\"tie\"]].head()"
   ]
  },
  {
   "cell_type": "markdown",
   "id": "97ee7db1",
   "metadata": {},
   "source": [
    "- Making a list of all the wins and loses"
   ]
  },
  {
   "cell_type": "code",
   "execution_count": null,
   "id": "ce366c16",
   "metadata": {},
   "outputs": [],
   "source": [
    "all_wins_per_pair = all_processed_behavior_recording_df.groupby([\"animal_ids\", \"date\"])['winner'].apply(list)\n",
    "all_loses_per_pair = all_processed_behavior_recording_df.groupby([\"animal_ids\", \"date\"])['loser'].apply(list)"
   ]
  },
  {
   "cell_type": "code",
   "execution_count": null,
   "id": "06a350b0",
   "metadata": {},
   "outputs": [],
   "source": [
    "all_competition_per_pair_df = pd.concat([all_wins_per_pair, all_loses_per_pair], axis=1).reset_index()"
   ]
  },
  {
   "cell_type": "code",
   "execution_count": null,
   "id": "3e71fd41",
   "metadata": {},
   "outputs": [],
   "source": [
    "all_competition_per_pair_df = all_competition_per_pair_df.rename(columns={k: \"rc_\" + k for k in all_competition_per_pair_df.columns})"
   ]
  },
  {
   "cell_type": "code",
   "execution_count": null,
   "id": "46fddc4c",
   "metadata": {},
   "outputs": [],
   "source": [
    "all_competition_per_pair_df"
   ]
  },
  {
   "cell_type": "markdown",
   "id": "5eeac861",
   "metadata": {},
   "source": [
    "- Seeing how often the winners or losers change"
   ]
  },
  {
   "cell_type": "code",
   "execution_count": null,
   "id": "e4f38307",
   "metadata": {},
   "outputs": [],
   "source": [
    "# Dropping all the ties\n",
    "all_competition_per_pair_df[\"rc_winner_no_ties\"] = all_competition_per_pair_df.apply(lambda row: [x for x in row[\"rc_winner\"] if x in row[\"rc_animal_ids\"]], axis=1)\n",
    "all_competition_per_pair_df[\"rc_loser_no_ties\"] = all_competition_per_pair_df.apply(lambda row: [x for x in row[\"rc_loser\"] if x in row[\"rc_animal_ids\"]], axis=1)"
   ]
  },
  {
   "cell_type": "code",
   "execution_count": null,
   "id": "db19a452",
   "metadata": {},
   "outputs": [],
   "source": [
    "# Comparing the each item with the item after it to see if they are the same of not\n",
    "all_competition_per_pair_df[\"rc_different_result_as_previous\"] = all_competition_per_pair_df[\"rc_winner_no_ties\"].apply(lambda x: [True if left != right else False for (left, right) in zip(x[1:], x[:-1])])"
   ]
  },
  {
   "cell_type": "code",
   "execution_count": null,
   "id": "881ca185",
   "metadata": {},
   "outputs": [],
   "source": [
    "all_competition_per_pair_df[\"rc_number_of_switches\"] = all_competition_per_pair_df[\"rc_different_result_as_previous\"].apply(lambda x: sum(x))"
   ]
  },
  {
   "cell_type": "code",
   "execution_count": null,
   "id": "98fea097",
   "metadata": {},
   "outputs": [],
   "source": [
    "all_competition_per_pair_df"
   ]
  },
  {
   "cell_type": "markdown",
   "id": "761a200e",
   "metadata": {},
   "source": [
    "# NOTE: This assumes that Ties aren't the most common outcome for a given pair"
   ]
  },
  {
   "cell_type": "markdown",
   "id": "c7a1c52f",
   "metadata": {},
   "source": [
    "## Aggregate all the wins/loses across reward competition sessions"
   ]
  },
  {
   "cell_type": "markdown",
   "id": "964ccce5",
   "metadata": {},
   "source": [
    "- Getting the average number of switches between winner and loser"
   ]
  },
  {
   "cell_type": "code",
   "execution_count": null,
   "id": "9db92228",
   "metadata": {},
   "outputs": [],
   "source": [
    "# Renaming column to not be confused with previous version\n",
    "average_switches_per_pair_df = all_competition_per_pair_df.groupby('rc_animal_ids').mean().rename({'rc_number_of_switches': 'rc_average_number_of_switches'}, axis=1)  # new method"
   ]
  },
  {
   "cell_type": "markdown",
   "id": "84545997",
   "metadata": {},
   "source": [
    "- Combining all the trials into one list"
   ]
  },
  {
   "cell_type": "code",
   "execution_count": null,
   "id": "dd1a0364",
   "metadata": {},
   "outputs": [],
   "source": [
    "all_sessions_per_pair_df = pd.concat([all_competition_per_pair_df.groupby('rc_animal_ids')['rc_winner'].apply(list), all_competition_per_pair_df.groupby('rc_animal_ids')['rc_loser'].apply(list)], axis=1)\n",
    "all_sessions_per_pair_df = pd.concat([all_sessions_per_pair_df, average_switches_per_pair_df], axis=1)\n",
    "all_sessions_per_pair_df = all_sessions_per_pair_df.reset_index()"
   ]
  },
  {
   "cell_type": "code",
   "execution_count": null,
   "id": "e97d91e2",
   "metadata": {},
   "outputs": [],
   "source": [
    "all_sessions_per_pair_df.head()"
   ]
  },
  {
   "cell_type": "markdown",
   "id": "6799a7e7",
   "metadata": {},
   "source": [
    "- Flattening the list"
   ]
  },
  {
   "cell_type": "code",
   "execution_count": null,
   "id": "2f302df7",
   "metadata": {},
   "outputs": [],
   "source": [
    "all_sessions_per_pair_df[\"rc_winner\"] = all_sessions_per_pair_df[\"rc_winner\"].apply(lambda x: [element for innerList in x for element in innerList])\n",
    "all_sessions_per_pair_df[\"rc_loser\"] = all_sessions_per_pair_df[\"rc_loser\"].apply(lambda x: [element for innerList in x for element in innerList])"
   ]
  },
  {
   "cell_type": "code",
   "execution_count": null,
   "id": "e2407493",
   "metadata": {},
   "outputs": [],
   "source": [
    "all_sessions_per_pair_df.head()"
   ]
  },
  {
   "cell_type": "code",
   "execution_count": null,
   "id": "adbc13dd",
   "metadata": {},
   "outputs": [],
   "source": []
  },
  {
   "cell_type": "markdown",
   "id": "6f178206",
   "metadata": {},
   "source": [
    "- Calculating overall winner and loser based on who has the most wins/loses"
   ]
  },
  {
   "cell_type": "code",
   "execution_count": null,
   "id": "c1177288",
   "metadata": {},
   "outputs": [],
   "source": [
    "# Dropping all the ties\n",
    "all_sessions_per_pair_df[\"rc_winner_no_ties\"] = all_sessions_per_pair_df.apply(lambda row: [x for x in row[\"rc_winner\"] if x in row[\"rc_animal_ids\"]], axis=1)\n",
    "all_sessions_per_pair_df[\"rc_loser_no_ties\"] = all_sessions_per_pair_df.apply(lambda row: [x for x in row[\"rc_loser\"] if x in row[\"rc_animal_ids\"]], axis=1)"
   ]
  },
  {
   "cell_type": "code",
   "execution_count": null,
   "id": "9a744bb6",
   "metadata": {},
   "outputs": [],
   "source": [
    "# Putting the first ID for the winner and second for the loser if there is equal number of wins and loses \n",
    "all_sessions_per_pair_df[\"rc_averaged_winner\"] = all_sessions_per_pair_df.apply(lambda x: Counter(x[\"rc_winner_no_ties\"]).most_common(1)[0][0] if x[\"rc_winner_no_ties\"].count(Counter(x[\"rc_winner_no_ties\"]).most_common(1)[0][1]) != len(x[\"rc_winner_no_ties\"]) / 2 else x[\"rc_animal_ids\"][0], axis=1)\n",
    "all_sessions_per_pair_df[\"rc_averaged_loser\"] = all_sessions_per_pair_df.apply(lambda x: Counter(x[\"rc_loser_no_ties\"]).most_common(1)[0][0] if x[\"rc_loser_no_ties\"].count(Counter(x[\"rc_loser_no_ties\"]).most_common(1)[0][1]) != len(x[\"rc_winner_no_ties\"]) / 2 else x[\"rc_animal_ids\"][1], axis=1)\n"
   ]
  },
  {
   "cell_type": "markdown",
   "id": "6b85ebbc",
   "metadata": {},
   "source": [
    "- Checking to see if any of the IDs are the same or are ties"
   ]
  },
  {
   "cell_type": "code",
   "execution_count": null,
   "id": "f8446b13",
   "metadata": {},
   "outputs": [],
   "source": [
    "all_sessions_per_pair_df[\"rc_averaged_loser\"].unique()"
   ]
  },
  {
   "cell_type": "code",
   "execution_count": null,
   "id": "50f17321",
   "metadata": {},
   "outputs": [],
   "source": [
    "all_sessions_per_pair_df[\"rc_averaged_winner\"].unique()"
   ]
  },
  {
   "cell_type": "code",
   "execution_count": null,
   "id": "e8cd5a4b",
   "metadata": {},
   "outputs": [],
   "source": [
    "all_sessions_per_pair_df[all_sessions_per_pair_df[\"rc_averaged_loser\"] == all_sessions_per_pair_df[\"rc_averaged_winner\"]]"
   ]
  },
  {
   "cell_type": "markdown",
   "id": "2dee3210",
   "metadata": {},
   "source": [
    "- Counting the number of wins and loses"
   ]
  },
  {
   "cell_type": "code",
   "execution_count": null,
   "id": "2f61a2bf",
   "metadata": {},
   "outputs": [],
   "source": [
    "all_sessions_per_pair_df[\"rc_winner_count\"] = all_sessions_per_pair_df.apply(lambda x: x[\"rc_winner\"].count(x[\"rc_averaged_winner\"]), axis=1)\n",
    "all_sessions_per_pair_df[\"rc_loser_count\"] = all_sessions_per_pair_df.apply(lambda x: x[\"rc_winner\"].count(x[\"rc_averaged_loser\"]), axis=1)\n",
    "all_sessions_per_pair_df[\"rc_tie_count\"] = all_sessions_per_pair_df.apply(lambda x: x[\"rc_winner\"].count(\"tie\"), axis=1)\n",
    "all_sessions_per_pair_df[\"rc_all_match_count_including_ties\"] = all_sessions_per_pair_df[\"rc_winner\"].apply(lambda x: len(x))"
   ]
  },
  {
   "cell_type": "markdown",
   "id": "be113540",
   "metadata": {},
   "source": [
    "- Comparing the number of wins vs loses"
   ]
  },
  {
   "cell_type": "code",
   "execution_count": null,
   "id": "e12b506b",
   "metadata": {},
   "outputs": [],
   "source": [
    "all_sessions_per_pair_df[\"rc_winner_count_minus_loser_count\"] = all_sessions_per_pair_df[\"rc_winner_count\"] - all_sessions_per_pair_df[\"rc_loser_count\"]\n",
    "# winner number / (winner + loser number with no ties)\n",
    "all_sessions_per_pair_df[\"rc_win_to_win_plus_lost_ratio\"] = all_sessions_per_pair_df.apply(lambda x: x[\"rc_winner_count\"] / len(x[\"rc_winner_no_ties\"]), axis=1)\n",
    "# winner number / (winner + loser + tie)\n",
    "all_sessions_per_pair_df[\"rc_win_to_all_ratio\"] = all_sessions_per_pair_df.apply(lambda x: x[\"rc_winner_count\"] / x[\"rc_all_match_count_including_ties\"], axis=1)\n",
    "# all_sessions_per_pair_df[\"rc_is_win_to_all_ratio_tie\"] = all_sessions_per_pair_df[\"rc_win_to_all_ratio\"].apply(lambda x: True if x < 0.5 else False)\n",
    "all_sessions_per_pair_df[\"rc_is_win_to_win_and_loss_ratio_tie\"] = all_sessions_per_pair_df[\"rc_win_to_win_plus_lost_ratio\"].apply(lambda x: True if x < 0.6 else False)"
   ]
  },
  {
   "cell_type": "code",
   "execution_count": null,
   "id": "dbe87ab8",
   "metadata": {},
   "outputs": [],
   "source": [
    "all_sessions_per_pair_df[\"rc_is_win_to_win_and_loss_ratio_tie\"]"
   ]
  },
  {
   "cell_type": "markdown",
   "id": "ae36d52a",
   "metadata": {},
   "source": [
    "- Comparing the number of ties to the number of matches"
   ]
  },
  {
   "cell_type": "code",
   "execution_count": null,
   "id": "5c67d0fd",
   "metadata": {},
   "outputs": [],
   "source": [
    "all_sessions_per_pair_df[\"rc_tie_to_all_ratio\"] = all_sessions_per_pair_df.apply(lambda x: x[\"rc_tie_count\"] / x[\"rc_all_match_count_including_ties\"], axis=1)\n"
   ]
  },
  {
   "cell_type": "code",
   "execution_count": null,
   "id": "e63d89b2",
   "metadata": {},
   "outputs": [],
   "source": [
    "all_sessions_per_pair_df[~all_sessions_per_pair_df[\"rc_is_win_to_win_and_loss_ratio_tie\"]]"
   ]
  },
  {
   "cell_type": "code",
   "execution_count": null,
   "id": "c517a5f7",
   "metadata": {},
   "outputs": [],
   "source": [
    "all_sessions_per_pair_df.head()"
   ]
  },
  {
   "cell_type": "markdown",
   "id": "46525143",
   "metadata": {},
   "source": [
    "- Checking to see if there are any pairs with more than two sessions"
   ]
  },
  {
   "cell_type": "code",
   "execution_count": null,
   "id": "37a00608",
   "metadata": {},
   "outputs": [],
   "source": [
    "all_sessions_per_pair_df[all_sessions_per_pair_df[\"rc_all_match_count_including_ties\"] > 40]"
   ]
  },
  {
   "cell_type": "markdown",
   "id": "6d0f56fc",
   "metadata": {},
   "source": [
    "- Adding the cage information"
   ]
  },
  {
   "cell_type": "code",
   "execution_count": null,
   "id": "17ccfd6b",
   "metadata": {},
   "outputs": [],
   "source": [
    "dropped_cuplicate_all_processed_behavior_recording_df = all_processed_behavior_recording_df[[\"animal_ids\", \"processed_cage_number\"]].drop_duplicates()"
   ]
  },
  {
   "cell_type": "code",
   "execution_count": null,
   "id": "3419e201",
   "metadata": {},
   "outputs": [],
   "source": [
    "dropped_cuplicate_all_processed_behavior_recording_df"
   ]
  },
  {
   "cell_type": "code",
   "execution_count": null,
   "id": "1d29e3d8",
   "metadata": {},
   "outputs": [],
   "source": []
  },
  {
   "cell_type": "code",
   "execution_count": null,
   "id": "a62571c6",
   "metadata": {},
   "outputs": [],
   "source": [
    "pair_to_cage = pd.Series(dropped_cuplicate_all_processed_behavior_recording_df[\"processed_cage_number\"].values, index=dropped_cuplicate_all_processed_behavior_recording_df[\"animal_ids\"]).to_dict()"
   ]
  },
  {
   "cell_type": "code",
   "execution_count": null,
   "id": "3f2e2e2b",
   "metadata": {},
   "outputs": [],
   "source": [
    "pair_to_cage"
   ]
  },
  {
   "cell_type": "code",
   "execution_count": null,
   "id": "167e609e",
   "metadata": {},
   "outputs": [],
   "source": [
    "all_sessions_per_pair_df[\"processed_cage_number\"] = all_sessions_per_pair_df[\"rc_animal_ids\"].map(pair_to_cage)"
   ]
  },
  {
   "cell_type": "code",
   "execution_count": null,
   "id": "13f2cc8c",
   "metadata": {},
   "outputs": [],
   "source": [
    "all_sessions_per_pair_df"
   ]
  },
  {
   "cell_type": "code",
   "execution_count": null,
   "id": "fc6d86dd",
   "metadata": {},
   "outputs": [],
   "source": [
    "all_sessions_per_pair_df[\"cohort\"] = cohort_name\n",
    "all_sessions_per_pair_df[\"processed_cage_number\"] = all_sessions_per_pair_df[\"processed_cage_number\"].astype(int).astype(str)"
   ]
  },
  {
   "cell_type": "code",
   "execution_count": null,
   "id": "114b1068",
   "metadata": {},
   "outputs": [],
   "source": [
    "all_sessions_per_pair_df.head()"
   ]
  },
  {
   "cell_type": "markdown",
   "id": "d1068f4b",
   "metadata": {},
   "source": [
    "- Verifying if all the stats are correct"
   ]
  },
  {
   "cell_type": "code",
   "execution_count": null,
   "id": "5ae195ed",
   "metadata": {},
   "outputs": [],
   "source": [
    "all_sessions_per_pair_df[\"rc_winner\"][0].count(all_sessions_per_pair_df[\"rc_animal_ids\"][0][0])"
   ]
  },
  {
   "cell_type": "code",
   "execution_count": null,
   "id": "b2787292",
   "metadata": {},
   "outputs": [],
   "source": [
    "all_sessions_per_pair_df[\"rc_winner\"][0].count(all_sessions_per_pair_df[\"rc_animal_ids\"][1][0])"
   ]
  },
  {
   "cell_type": "code",
   "execution_count": null,
   "id": "a6e73666",
   "metadata": {},
   "outputs": [],
   "source": [
    "all_sessions_per_pair_df[\"rc_winner\"][0].count(\"tie\")"
   ]
  },
  {
   "cell_type": "code",
   "execution_count": null,
   "id": "29030bd6",
   "metadata": {},
   "outputs": [],
   "source": [
    "len(all_sessions_per_pair_df[\"rc_winner\"][0])"
   ]
  },
  {
   "cell_type": "code",
   "execution_count": null,
   "id": "c4be960f",
   "metadata": {},
   "outputs": [],
   "source": [
    "len(all_sessions_per_pair_df[\"rc_winner_no_ties\"][0])"
   ]
  },
  {
   "cell_type": "code",
   "execution_count": null,
   "id": "3e1a770f",
   "metadata": {},
   "outputs": [],
   "source": [
    "all_sessions_per_pair_df.tail()"
   ]
  },
  {
   "cell_type": "markdown",
   "id": "0ead7e82",
   "metadata": {},
   "source": [
    "# Getting the number of wins per winner and loser"
   ]
  },
  {
   "cell_type": "code",
   "execution_count": null,
   "id": "f98a12ac",
   "metadata": {},
   "outputs": [],
   "source": [
    "all_competition_per_pair_df[\"cohort\"] = cohort_name"
   ]
  },
  {
   "cell_type": "code",
   "execution_count": null,
   "id": "d9480c8a",
   "metadata": {},
   "outputs": [],
   "source": [
    "all_competition_per_pair_df[\"processed_cage_number\"] = all_competition_per_pair_df[\"rc_animal_ids\"].map(pair_to_cage).astype(str)"
   ]
  },
  {
   "cell_type": "code",
   "execution_count": null,
   "id": "499ef9bf",
   "metadata": {},
   "outputs": [],
   "source": [
    "all_competition_per_pair_df[\"strain\"] = all_competition_per_pair_df[\"processed_cage_number\"].map(cage_to_strain)"
   ]
  },
  {
   "cell_type": "code",
   "execution_count": null,
   "id": "25802431",
   "metadata": {},
   "outputs": [],
   "source": [
    "all_competition_per_pair_df.head()"
   ]
  },
  {
   "cell_type": "markdown",
   "id": "8ccc9f54",
   "metadata": {},
   "source": [
    "- Calculating overall winner and loser based on who has the most wins/loses"
   ]
  },
  {
   "cell_type": "code",
   "execution_count": null,
   "id": "9c697045",
   "metadata": {},
   "outputs": [],
   "source": [
    "# Dropping all the ties\n",
    "all_competition_per_pair_df[\"rc_winner_no_ties\"] = all_competition_per_pair_df.apply(lambda row: [x for x in row[\"rc_winner\"] if x in row[\"rc_animal_ids\"]], axis=1)\n",
    "all_competition_per_pair_df[\"rc_loser_no_ties\"] = all_competition_per_pair_df.apply(lambda row: [x for x in row[\"rc_loser\"] if x in row[\"rc_animal_ids\"]], axis=1)"
   ]
  },
  {
   "cell_type": "code",
   "execution_count": null,
   "id": "4b604296",
   "metadata": {},
   "outputs": [],
   "source": [
    "# Putting the first ID for the winner and second for the loser if there is equal number of wins and loses \n",
    "all_competition_per_pair_df[\"rc_averaged_winner\"] = all_competition_per_pair_df.apply(lambda x: Counter(x[\"rc_winner_no_ties\"]).most_common(1)[0][0] if x[\"rc_winner_no_ties\"].count(Counter(x[\"rc_winner_no_ties\"]).most_common(1)[0][1]) != len(x[\"rc_winner_no_ties\"]) / 2 else x[\"rc_animal_ids\"][0], axis=1)\n",
    "all_competition_per_pair_df[\"rc_averaged_loser\"] = all_competition_per_pair_df.apply(lambda x: Counter(x[\"rc_loser_no_ties\"]).most_common(1)[0][0] if x[\"rc_loser_no_ties\"].count(Counter(x[\"rc_loser_no_ties\"]).most_common(1)[0][1]) != len(x[\"rc_winner_no_ties\"]) / 2 else x[\"rc_animal_ids\"][1], axis=1)\n"
   ]
  },
  {
   "cell_type": "code",
   "execution_count": null,
   "id": "bcbba9ac",
   "metadata": {},
   "outputs": [],
   "source": [
    "Counter(all_competition_per_pair_df[\"rc_winner_no_ties\"][0]).most_common(1)[0][1]"
   ]
  },
  {
   "cell_type": "markdown",
   "id": "c04805eb",
   "metadata": {},
   "source": [
    "- Checking to see if any of the IDs are the same or are ties"
   ]
  },
  {
   "cell_type": "code",
   "execution_count": null,
   "id": "e4620c0d",
   "metadata": {},
   "outputs": [],
   "source": [
    "all_competition_per_pair_df[\"rc_averaged_loser\"].unique()"
   ]
  },
  {
   "cell_type": "code",
   "execution_count": null,
   "id": "e36a6a3f",
   "metadata": {},
   "outputs": [],
   "source": [
    "all_competition_per_pair_df[\"rc_averaged_winner\"].unique()"
   ]
  },
  {
   "cell_type": "markdown",
   "id": "06a01f91",
   "metadata": {},
   "source": [
    "- Counting the number of wins and loses"
   ]
  },
  {
   "cell_type": "code",
   "execution_count": null,
   "id": "a2d7cbd1",
   "metadata": {},
   "outputs": [],
   "source": [
    "all_competition_per_pair_df[\"rc_winner_count\"] = all_competition_per_pair_df.apply(lambda x: x[\"rc_winner\"].count(x[\"rc_averaged_winner\"]), axis=1)\n",
    "all_competition_per_pair_df[\"rc_loser_count\"] = all_competition_per_pair_df.apply(lambda x: x[\"rc_winner\"].count(x[\"rc_averaged_loser\"]), axis=1)\n",
    "all_competition_per_pair_df[\"rc_tie_count\"] = all_competition_per_pair_df.apply(lambda x: x[\"rc_winner\"].count(\"tie\"), axis=1)\n",
    "all_competition_per_pair_df[\"rc_all_match_count_including_ties\"] = all_competition_per_pair_df[\"rc_winner\"].apply(lambda x: len(x))"
   ]
  },
  {
   "cell_type": "code",
   "execution_count": null,
   "id": "bc56b990",
   "metadata": {},
   "outputs": [],
   "source": [
    "all_competition_per_pair_df.head()"
   ]
  },
  {
   "cell_type": "markdown",
   "id": "434a7f7d",
   "metadata": {},
   "source": [
    "- Comparing the number of wins vs loses"
   ]
  },
  {
   "cell_type": "code",
   "execution_count": null,
   "id": "ebeb498d",
   "metadata": {},
   "outputs": [],
   "source": [
    "all_competition_per_pair_df[\"rc_winner_count_minus_loser_count\"] = all_competition_per_pair_df[\"rc_winner_count\"] - all_competition_per_pair_df[\"rc_loser_count\"]\n",
    "# winner number / (winner + loser number with no ties)\n",
    "all_competition_per_pair_df[\"rc_win_to_win_plus_lost_ratio\"] = all_competition_per_pair_df.apply(lambda x: x[\"rc_winner_count\"] / len(x[\"rc_winner_no_ties\"]), axis=1)\n",
    "# winner number / (winner + loser + tie)\n",
    "all_competition_per_pair_df[\"rc_win_to_all_ratio\"] = all_competition_per_pair_df.apply(lambda x: x[\"rc_winner_count\"] / x[\"rc_all_match_count_including_ties\"], axis=1)\n",
    "all_competition_per_pair_df[\"rc_is_win_to_win_and_loss_ratio_tie\"] = all_competition_per_pair_df[\"rc_win_to_win_plus_lost_ratio\"].apply(lambda x: True if x < 0.6 else False)"
   ]
  },
  {
   "cell_type": "code",
   "execution_count": null,
   "id": "491d3d76",
   "metadata": {},
   "outputs": [],
   "source": [
    "all_competition_per_pair_df[\"rc_is_win_to_win_and_loss_ratio_tie\"]"
   ]
  },
  {
   "cell_type": "markdown",
   "id": "4f8ad02f",
   "metadata": {},
   "source": [
    "- Comparing the number of ties to the number of matches"
   ]
  },
  {
   "cell_type": "code",
   "execution_count": null,
   "id": "8eb6766d",
   "metadata": {},
   "outputs": [],
   "source": [
    "all_competition_per_pair_df[\"rc_tie_to_all_ratio\"] = all_competition_per_pair_df.apply(lambda x: x[\"rc_tie_count\"] / x[\"rc_all_match_count_including_ties\"], axis=1)\n"
   ]
  },
  {
   "cell_type": "markdown",
   "id": "17c5be75",
   "metadata": {},
   "source": [
    "- Saving the competition dataframe"
   ]
  },
  {
   "cell_type": "code",
   "execution_count": null,
   "id": "ab16eeca",
   "metadata": {},
   "outputs": [],
   "source": [
    "file_name = \"{}_{}_grouped_by_pairs_cage_{}_date_{}_{}.csv\".format(cohort_name, protocol_name, all_cages, earliest_date, latest_date)\n"
   ]
  },
  {
   "cell_type": "code",
   "execution_count": null,
   "id": "076bb7df",
   "metadata": {},
   "outputs": [],
   "source": [
    "elo_score_spreadsheet_output_directory"
   ]
  },
  {
   "cell_type": "code",
   "execution_count": null,
   "id": "dadbbb28",
   "metadata": {},
   "outputs": [],
   "source": [
    "file_name"
   ]
  },
  {
   "cell_type": "code",
   "execution_count": null,
   "id": "6e5e4d50",
   "metadata": {},
   "outputs": [],
   "source": [
    "file_name = \"{}_{}_all_competition_cage_{}_date_{}_{}.csv\".format(cohort_name, protocol_name, all_cages, earliest_date, latest_date)\n"
   ]
  },
  {
   "cell_type": "code",
   "execution_count": null,
   "id": "7cd8f233",
   "metadata": {},
   "outputs": [],
   "source": [
    "elo_score_spreadsheet_output_directory"
   ]
  },
  {
   "cell_type": "code",
   "execution_count": null,
   "id": "34609b48",
   "metadata": {},
   "outputs": [],
   "source": [
    "file_name"
   ]
  },
  {
   "cell_type": "code",
   "execution_count": null,
   "id": "0f79941a",
   "metadata": {},
   "outputs": [],
   "source": [
    "all_competition_per_pair_df.to_csv(os.path.join(elo_score_spreadsheet_output_directory, file_name))"
   ]
  },
  {
   "cell_type": "markdown",
   "id": "3ecedc2f",
   "metadata": {},
   "source": [
    "# Saving the spreadsheets"
   ]
  },
  {
   "cell_type": "code",
   "execution_count": null,
   "id": "de0a9cab",
   "metadata": {},
   "outputs": [],
   "source": []
  },
  {
   "cell_type": "code",
   "execution_count": null,
   "id": "40715a00",
   "metadata": {},
   "outputs": [],
   "source": [
    "file_name = \"{}_{}_grouped_by_pairs_cage_{}_date_{}_{}.csv\".format(cohort_name, protocol_name, all_cages, earliest_date, latest_date)\n"
   ]
  },
  {
   "cell_type": "code",
   "execution_count": null,
   "id": "38ee2da9",
   "metadata": {},
   "outputs": [],
   "source": [
    "elo_score_spreadsheet_output_directory"
   ]
  },
  {
   "cell_type": "code",
   "execution_count": null,
   "id": "73ab06ae",
   "metadata": {},
   "outputs": [],
   "source": [
    "file_name"
   ]
  },
  {
   "cell_type": "code",
   "execution_count": null,
   "id": "7aba5a98",
   "metadata": {},
   "outputs": [],
   "source": [
    "all_sessions_per_pair_df.to_csv(os.path.join(elo_score_spreadsheet_output_directory, file_name))"
   ]
  },
  {
   "cell_type": "code",
   "execution_count": null,
   "id": "d8079529",
   "metadata": {},
   "outputs": [],
   "source": [
    "reward_competition_df"
   ]
  },
  {
   "cell_type": "code",
   "execution_count": null,
   "id": "f9c6535a",
   "metadata": {},
   "outputs": [],
   "source": []
  }
 ],
 "metadata": {
  "kernelspec": {
   "display_name": "Python 3 (ipykernel)",
   "language": "python",
   "name": "python3"
  },
  "language_info": {
   "codemirror_mode": {
    "name": "ipython",
    "version": 3
   },
   "file_extension": ".py",
   "mimetype": "text/x-python",
   "name": "python",
   "nbconvert_exporter": "python",
   "pygments_lexer": "ipython3",
   "version": "3.9.15"
  },
  "vscode": {
   "interpreter": {
    "hash": "3f8ee54d6a5e4a8880ade41546e056b482b8e637dc064f40b470e6968242c2bb"
   }
  }
 },
 "nbformat": 4,
 "nbformat_minor": 5
}
