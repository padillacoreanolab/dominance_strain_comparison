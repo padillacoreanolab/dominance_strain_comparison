{
 "cells": [
  {
   "cell_type": "code",
   "execution_count": 2,
   "id": "5180f97c",
   "metadata": {},
   "outputs": [],
   "source": [
    "import glob\n",
    "\n",
    "import h5py\n",
    "import numpy as np\n",
    "import pandas as pd"
   ]
  },
  {
   "cell_type": "code",
   "execution_count": 6,
   "id": "69861f07",
   "metadata": {},
   "outputs": [],
   "source": [
    "h5_path = './data/cd1_predicted_frames/CAGE4_TUBETEST_1v2.fixed.mp4.predictions.000_CAGE4_TUBETEST_1v2.fixed.analysis.h5'"
   ]
  },
  {
   "cell_type": "code",
   "execution_count": 3,
   "id": "a6679b60",
   "metadata": {},
   "outputs": [],
   "source": [
    "dataset = h5py.File('./data/cd1_predicted_frames/CAGE4_TUBETEST_1v2.fixed.mp4.predictions.000_CAGE4_TUBETEST_1v2.fixed.analysis.h5', 'r')"
   ]
  },
  {
   "cell_type": "markdown",
   "id": "6a839ef7",
   "metadata": {},
   "source": [
    "- Options\n",
    "    - Separate the video by each side of the tube\n",
    "    - Keep the sides together"
   ]
  },
  {
   "cell_type": "code",
   "execution_count": 5,
   "id": "6111c024",
   "metadata": {},
   "outputs": [
    {
     "data": {
      "text/plain": [
       "<KeysViewHDF5 ['edge_inds', 'edge_names', 'instance_scores', 'labels_path', 'node_names', 'point_scores', 'provenance', 'track_names', 'track_occupancy', 'tracking_scores', 'tracks', 'video_ind', 'video_path']>"
      ]
     },
     "execution_count": 5,
     "metadata": {},
     "output_type": "execute_result"
    }
   ],
   "source": [
    "dataset.keys()"
   ]
  },
  {
   "cell_type": "code",
   "execution_count": 17,
   "id": "5da39ec5",
   "metadata": {
    "scrolled": true
   },
   "outputs": [
    {
     "ename": "ValueError",
     "evalue": "Dataset(s) incompatible with Pandas data types, not table, or no datasets found in HDF5 file.",
     "output_type": "error",
     "traceback": [
      "\u001b[0;31m---------------------------------------------------------------------------\u001b[0m",
      "\u001b[0;31mValueError\u001b[0m                                Traceback (most recent call last)",
      "\u001b[0;32m/tmp/ipykernel_709888/2558560453.py\u001b[0m in \u001b[0;36m<module>\u001b[0;34m\u001b[0m\n\u001b[0;32m----> 1\u001b[0;31m \u001b[0mdf\u001b[0m \u001b[0;34m=\u001b[0m \u001b[0mpd\u001b[0m\u001b[0;34m.\u001b[0m\u001b[0mread_hdf\u001b[0m\u001b[0;34m(\u001b[0m\u001b[0mh5_path\u001b[0m\u001b[0;34m)\u001b[0m\u001b[0;34m\u001b[0m\u001b[0;34m\u001b[0m\u001b[0m\n\u001b[0m",
      "\u001b[0;32m/nancy/projects/VAME/vame_env/lib/python3.7/site-packages/pandas/io/pytables.py\u001b[0m in \u001b[0;36mread_hdf\u001b[0;34m(path_or_buf, key, mode, errors, where, start, stop, columns, iterator, chunksize, **kwargs)\u001b[0m\n\u001b[1;32m    437\u001b[0m             \u001b[0;32mif\u001b[0m \u001b[0mlen\u001b[0m\u001b[0;34m(\u001b[0m\u001b[0mgroups\u001b[0m\u001b[0;34m)\u001b[0m \u001b[0;34m==\u001b[0m \u001b[0;36m0\u001b[0m\u001b[0;34m:\u001b[0m\u001b[0;34m\u001b[0m\u001b[0;34m\u001b[0m\u001b[0m\n\u001b[1;32m    438\u001b[0m                 raise ValueError(\n\u001b[0;32m--> 439\u001b[0;31m                     \u001b[0;34m\"Dataset(s) incompatible with Pandas data types, \"\u001b[0m\u001b[0;34m\u001b[0m\u001b[0;34m\u001b[0m\u001b[0m\n\u001b[0m\u001b[1;32m    440\u001b[0m                     \u001b[0;34m\"not table, or no datasets found in HDF5 file.\"\u001b[0m\u001b[0;34m\u001b[0m\u001b[0;34m\u001b[0m\u001b[0m\n\u001b[1;32m    441\u001b[0m                 )\n",
      "\u001b[0;31mValueError\u001b[0m: Dataset(s) incompatible with Pandas data types, not table, or no datasets found in HDF5 file."
     ]
    }
   ],
   "source": [
    "df = pd.read_hdf(h5_path)"
   ]
  },
  {
   "cell_type": "code",
   "execution_count": 15,
   "id": "400475a1",
   "metadata": {},
   "outputs": [],
   "source": [
    "example_df = pd.read_csv(\"./data/video-1.csv\", index_col=0, header=[0,1,2])"
   ]
  },
  {
   "cell_type": "code",
   "execution_count": 16,
   "id": "c5b597f4",
   "metadata": {},
   "outputs": [
    {
     "data": {
      "text/html": [
       "<div>\n",
       "<style scoped>\n",
       "    .dataframe tbody tr th:only-of-type {\n",
       "        vertical-align: middle;\n",
       "    }\n",
       "\n",
       "    .dataframe tbody tr th {\n",
       "        vertical-align: top;\n",
       "    }\n",
       "\n",
       "    .dataframe thead tr th {\n",
       "        text-align: left;\n",
       "    }\n",
       "</style>\n",
       "<table border=\"1\" class=\"dataframe\">\n",
       "  <thead>\n",
       "    <tr>\n",
       "      <th>scorer</th>\n",
       "      <th colspan=\"18\" halign=\"left\">DeepCut_resnet50_VAME-FinalNov7shuffle1_350000</th>\n",
       "    </tr>\n",
       "    <tr>\n",
       "      <th>bodyparts</th>\n",
       "      <th colspan=\"3\" halign=\"left\">Nose</th>\n",
       "      <th colspan=\"3\" halign=\"left\">Forehand-Left</th>\n",
       "      <th colspan=\"3\" halign=\"left\">Forehand-Right</th>\n",
       "      <th colspan=\"3\" halign=\"left\">Hindhand-Left</th>\n",
       "      <th colspan=\"3\" halign=\"left\">Hindhand-Right</th>\n",
       "      <th colspan=\"3\" halign=\"left\">Tailroot</th>\n",
       "    </tr>\n",
       "    <tr>\n",
       "      <th>coords</th>\n",
       "      <th>x</th>\n",
       "      <th>y</th>\n",
       "      <th>likelihood</th>\n",
       "      <th>x</th>\n",
       "      <th>y</th>\n",
       "      <th>likelihood</th>\n",
       "      <th>x</th>\n",
       "      <th>y</th>\n",
       "      <th>likelihood</th>\n",
       "      <th>x</th>\n",
       "      <th>y</th>\n",
       "      <th>likelihood</th>\n",
       "      <th>x</th>\n",
       "      <th>y</th>\n",
       "      <th>likelihood</th>\n",
       "      <th>x</th>\n",
       "      <th>y</th>\n",
       "      <th>likelihood</th>\n",
       "    </tr>\n",
       "  </thead>\n",
       "  <tbody>\n",
       "    <tr>\n",
       "      <th>0</th>\n",
       "      <td>379.317975</td>\n",
       "      <td>911.234954</td>\n",
       "      <td>1.0</td>\n",
       "      <td>323.975258</td>\n",
       "      <td>863.344640</td>\n",
       "      <td>1.0</td>\n",
       "      <td>374.574893</td>\n",
       "      <td>868.388032</td>\n",
       "      <td>1.0</td>\n",
       "      <td>235.991503</td>\n",
       "      <td>750.109876</td>\n",
       "      <td>1.0</td>\n",
       "      <td>320.932527</td>\n",
       "      <td>727.344460</td>\n",
       "      <td>1.0</td>\n",
       "      <td>287.096150</td>\n",
       "      <td>712.359906</td>\n",
       "      <td>1.000000</td>\n",
       "    </tr>\n",
       "    <tr>\n",
       "      <th>1</th>\n",
       "      <td>352.770493</td>\n",
       "      <td>932.695036</td>\n",
       "      <td>1.0</td>\n",
       "      <td>324.490868</td>\n",
       "      <td>862.656106</td>\n",
       "      <td>1.0</td>\n",
       "      <td>373.739357</td>\n",
       "      <td>877.411902</td>\n",
       "      <td>1.0</td>\n",
       "      <td>260.993583</td>\n",
       "      <td>793.434588</td>\n",
       "      <td>1.0</td>\n",
       "      <td>318.921153</td>\n",
       "      <td>727.962605</td>\n",
       "      <td>1.0</td>\n",
       "      <td>290.610608</td>\n",
       "      <td>734.828937</td>\n",
       "      <td>1.000000</td>\n",
       "    </tr>\n",
       "    <tr>\n",
       "      <th>2</th>\n",
       "      <td>323.450306</td>\n",
       "      <td>952.783498</td>\n",
       "      <td>1.0</td>\n",
       "      <td>312.932200</td>\n",
       "      <td>887.286848</td>\n",
       "      <td>1.0</td>\n",
       "      <td>348.825588</td>\n",
       "      <td>905.028284</td>\n",
       "      <td>1.0</td>\n",
       "      <td>277.930833</td>\n",
       "      <td>822.808193</td>\n",
       "      <td>1.0</td>\n",
       "      <td>320.172479</td>\n",
       "      <td>730.966355</td>\n",
       "      <td>1.0</td>\n",
       "      <td>293.222581</td>\n",
       "      <td>747.546816</td>\n",
       "      <td>1.000000</td>\n",
       "    </tr>\n",
       "    <tr>\n",
       "      <th>3</th>\n",
       "      <td>322.339995</td>\n",
       "      <td>957.686823</td>\n",
       "      <td>1.0</td>\n",
       "      <td>310.915744</td>\n",
       "      <td>899.386683</td>\n",
       "      <td>1.0</td>\n",
       "      <td>349.146741</td>\n",
       "      <td>904.790210</td>\n",
       "      <td>1.0</td>\n",
       "      <td>278.165046</td>\n",
       "      <td>822.775362</td>\n",
       "      <td>1.0</td>\n",
       "      <td>320.457282</td>\n",
       "      <td>731.553658</td>\n",
       "      <td>1.0</td>\n",
       "      <td>296.795987</td>\n",
       "      <td>749.779550</td>\n",
       "      <td>1.000000</td>\n",
       "    </tr>\n",
       "    <tr>\n",
       "      <th>4</th>\n",
       "      <td>321.909653</td>\n",
       "      <td>961.421213</td>\n",
       "      <td>1.0</td>\n",
       "      <td>309.072843</td>\n",
       "      <td>909.602562</td>\n",
       "      <td>1.0</td>\n",
       "      <td>349.270147</td>\n",
       "      <td>904.706641</td>\n",
       "      <td>1.0</td>\n",
       "      <td>278.351273</td>\n",
       "      <td>822.240499</td>\n",
       "      <td>1.0</td>\n",
       "      <td>320.698215</td>\n",
       "      <td>732.265580</td>\n",
       "      <td>1.0</td>\n",
       "      <td>299.903449</td>\n",
       "      <td>753.269333</td>\n",
       "      <td>0.999994</td>\n",
       "    </tr>\n",
       "    <tr>\n",
       "      <th>...</th>\n",
       "      <td>...</td>\n",
       "      <td>...</td>\n",
       "      <td>...</td>\n",
       "      <td>...</td>\n",
       "      <td>...</td>\n",
       "      <td>...</td>\n",
       "      <td>...</td>\n",
       "      <td>...</td>\n",
       "      <td>...</td>\n",
       "      <td>...</td>\n",
       "      <td>...</td>\n",
       "      <td>...</td>\n",
       "      <td>...</td>\n",
       "      <td>...</td>\n",
       "      <td>...</td>\n",
       "      <td>...</td>\n",
       "      <td>...</td>\n",
       "      <td>...</td>\n",
       "    </tr>\n",
       "    <tr>\n",
       "      <th>29992</th>\n",
       "      <td>677.533519</td>\n",
       "      <td>578.745465</td>\n",
       "      <td>1.0</td>\n",
       "      <td>636.415181</td>\n",
       "      <td>564.477034</td>\n",
       "      <td>1.0</td>\n",
       "      <td>682.732976</td>\n",
       "      <td>541.689991</td>\n",
       "      <td>1.0</td>\n",
       "      <td>587.515024</td>\n",
       "      <td>510.388803</td>\n",
       "      <td>1.0</td>\n",
       "      <td>651.346715</td>\n",
       "      <td>462.211248</td>\n",
       "      <td>1.0</td>\n",
       "      <td>581.673425</td>\n",
       "      <td>434.102119</td>\n",
       "      <td>1.000000</td>\n",
       "    </tr>\n",
       "    <tr>\n",
       "      <th>29993</th>\n",
       "      <td>679.119630</td>\n",
       "      <td>574.885421</td>\n",
       "      <td>1.0</td>\n",
       "      <td>636.945385</td>\n",
       "      <td>563.419916</td>\n",
       "      <td>1.0</td>\n",
       "      <td>682.355730</td>\n",
       "      <td>541.394161</td>\n",
       "      <td>1.0</td>\n",
       "      <td>587.436843</td>\n",
       "      <td>510.181781</td>\n",
       "      <td>1.0</td>\n",
       "      <td>651.538346</td>\n",
       "      <td>462.225548</td>\n",
       "      <td>1.0</td>\n",
       "      <td>580.899144</td>\n",
       "      <td>433.592916</td>\n",
       "      <td>1.000000</td>\n",
       "    </tr>\n",
       "    <tr>\n",
       "      <th>29994</th>\n",
       "      <td>678.925062</td>\n",
       "      <td>573.722989</td>\n",
       "      <td>1.0</td>\n",
       "      <td>639.467558</td>\n",
       "      <td>561.507620</td>\n",
       "      <td>1.0</td>\n",
       "      <td>682.160960</td>\n",
       "      <td>541.240808</td>\n",
       "      <td>1.0</td>\n",
       "      <td>587.457818</td>\n",
       "      <td>509.340193</td>\n",
       "      <td>1.0</td>\n",
       "      <td>651.453834</td>\n",
       "      <td>462.245982</td>\n",
       "      <td>1.0</td>\n",
       "      <td>580.846196</td>\n",
       "      <td>433.225684</td>\n",
       "      <td>1.000000</td>\n",
       "    </tr>\n",
       "    <tr>\n",
       "      <th>29995</th>\n",
       "      <td>679.336848</td>\n",
       "      <td>574.966761</td>\n",
       "      <td>1.0</td>\n",
       "      <td>639.000703</td>\n",
       "      <td>560.229738</td>\n",
       "      <td>1.0</td>\n",
       "      <td>682.378444</td>\n",
       "      <td>541.277768</td>\n",
       "      <td>1.0</td>\n",
       "      <td>587.305794</td>\n",
       "      <td>509.271055</td>\n",
       "      <td>1.0</td>\n",
       "      <td>651.565764</td>\n",
       "      <td>462.136036</td>\n",
       "      <td>1.0</td>\n",
       "      <td>580.652541</td>\n",
       "      <td>432.807769</td>\n",
       "      <td>1.000000</td>\n",
       "    </tr>\n",
       "    <tr>\n",
       "      <th>29996</th>\n",
       "      <td>680.833259</td>\n",
       "      <td>575.649763</td>\n",
       "      <td>1.0</td>\n",
       "      <td>638.583565</td>\n",
       "      <td>560.297896</td>\n",
       "      <td>1.0</td>\n",
       "      <td>682.420940</td>\n",
       "      <td>541.463179</td>\n",
       "      <td>1.0</td>\n",
       "      <td>587.183496</td>\n",
       "      <td>509.264368</td>\n",
       "      <td>1.0</td>\n",
       "      <td>651.264260</td>\n",
       "      <td>462.182539</td>\n",
       "      <td>1.0</td>\n",
       "      <td>580.204944</td>\n",
       "      <td>432.217451</td>\n",
       "      <td>1.000000</td>\n",
       "    </tr>\n",
       "  </tbody>\n",
       "</table>\n",
       "<p>29997 rows × 18 columns</p>\n",
       "</div>"
      ],
      "text/plain": [
       "scorer    DeepCut_resnet50_VAME-FinalNov7shuffle1_350000              \\\n",
       "bodyparts                                           Nose               \n",
       "coords                                                 x           y   \n",
       "0                                             379.317975  911.234954   \n",
       "1                                             352.770493  932.695036   \n",
       "2                                             323.450306  952.783498   \n",
       "3                                             322.339995  957.686823   \n",
       "4                                             321.909653  961.421213   \n",
       "...                                                  ...         ...   \n",
       "29992                                         677.533519  578.745465   \n",
       "29993                                         679.119630  574.885421   \n",
       "29994                                         678.925062  573.722989   \n",
       "29995                                         679.336848  574.966761   \n",
       "29996                                         680.833259  575.649763   \n",
       "\n",
       "scorer                                                                    \\\n",
       "bodyparts            Forehand-Left                        Forehand-Right   \n",
       "coords    likelihood             x           y likelihood              x   \n",
       "0                1.0    323.975258  863.344640        1.0     374.574893   \n",
       "1                1.0    324.490868  862.656106        1.0     373.739357   \n",
       "2                1.0    312.932200  887.286848        1.0     348.825588   \n",
       "3                1.0    310.915744  899.386683        1.0     349.146741   \n",
       "4                1.0    309.072843  909.602562        1.0     349.270147   \n",
       "...              ...           ...         ...        ...            ...   \n",
       "29992            1.0    636.415181  564.477034        1.0     682.732976   \n",
       "29993            1.0    636.945385  563.419916        1.0     682.355730   \n",
       "29994            1.0    639.467558  561.507620        1.0     682.160960   \n",
       "29995            1.0    639.000703  560.229738        1.0     682.378444   \n",
       "29996            1.0    638.583565  560.297896        1.0     682.420940   \n",
       "\n",
       "scorer                                                                 \\\n",
       "bodyparts                        Hindhand-Left                          \n",
       "coords              y likelihood             x           y likelihood   \n",
       "0          868.388032        1.0    235.991503  750.109876        1.0   \n",
       "1          877.411902        1.0    260.993583  793.434588        1.0   \n",
       "2          905.028284        1.0    277.930833  822.808193        1.0   \n",
       "3          904.790210        1.0    278.165046  822.775362        1.0   \n",
       "4          904.706641        1.0    278.351273  822.240499        1.0   \n",
       "...               ...        ...           ...         ...        ...   \n",
       "29992      541.689991        1.0    587.515024  510.388803        1.0   \n",
       "29993      541.394161        1.0    587.436843  510.181781        1.0   \n",
       "29994      541.240808        1.0    587.457818  509.340193        1.0   \n",
       "29995      541.277768        1.0    587.305794  509.271055        1.0   \n",
       "29996      541.463179        1.0    587.183496  509.264368        1.0   \n",
       "\n",
       "scorer                                                                   \\\n",
       "bodyparts Hindhand-Right                           Tailroot               \n",
       "coords                 x           y likelihood           x           y   \n",
       "0             320.932527  727.344460        1.0  287.096150  712.359906   \n",
       "1             318.921153  727.962605        1.0  290.610608  734.828937   \n",
       "2             320.172479  730.966355        1.0  293.222581  747.546816   \n",
       "3             320.457282  731.553658        1.0  296.795987  749.779550   \n",
       "4             320.698215  732.265580        1.0  299.903449  753.269333   \n",
       "...                  ...         ...        ...         ...         ...   \n",
       "29992         651.346715  462.211248        1.0  581.673425  434.102119   \n",
       "29993         651.538346  462.225548        1.0  580.899144  433.592916   \n",
       "29994         651.453834  462.245982        1.0  580.846196  433.225684   \n",
       "29995         651.565764  462.136036        1.0  580.652541  432.807769   \n",
       "29996         651.264260  462.182539        1.0  580.204944  432.217451   \n",
       "\n",
       "scorer                \n",
       "bodyparts             \n",
       "coords    likelihood  \n",
       "0           1.000000  \n",
       "1           1.000000  \n",
       "2           1.000000  \n",
       "3           1.000000  \n",
       "4           0.999994  \n",
       "...              ...  \n",
       "29992       1.000000  \n",
       "29993       1.000000  \n",
       "29994       1.000000  \n",
       "29995       1.000000  \n",
       "29996       1.000000  \n",
       "\n",
       "[29997 rows x 18 columns]"
      ]
     },
     "execution_count": 16,
     "metadata": {},
     "output_type": "execute_result"
    }
   ],
   "source": [
    "example_df"
   ]
  },
  {
   "cell_type": "code",
   "execution_count": null,
   "id": "fc9bfb17",
   "metadata": {},
   "outputs": [],
   "source": [
    "example_df[]"
   ]
  },
  {
   "cell_type": "code",
   "execution_count": 63,
   "id": "1ee90b4a",
   "metadata": {},
   "outputs": [],
   "source": [
    "with h5py.File(h5_path, \"r\") as f:\n",
    "    dset_names = list(f.keys())\n",
    "    locations = f[\"tracks\"][:].T\n",
    "    tracking_scores = f[\"tracking_scores\"][:]\n",
    "    instances_scores = f[\"instance_scores\"][:]\n",
    "    node_names = [n.decode() for n in f[\"node_names\"][:]]\n"
   ]
  },
  {
   "cell_type": "code",
   "execution_count": 64,
   "id": "21de1233",
   "metadata": {},
   "outputs": [
    {
     "name": "stdout",
     "output_type": "stream",
     "text": [
      "===HDF5 datasets===\n",
      "['edge_inds', 'edge_names', 'instance_scores', 'labels_path', 'node_names', 'point_scores', 'provenance', 'track_names', 'track_occupancy', 'tracking_scores', 'tracks', 'video_ind', 'video_path']\n",
      "\n",
      "===locations data shape===\n",
      "(194, 6, 2, 2)\n",
      "\n",
      "===nodes===\n",
      "0: ear\n",
      "1: nose\n",
      "2: tail_base\n",
      "3: thorax\n",
      "4: front_foot\n",
      "5: rear_foot\n",
      "\n"
     ]
    }
   ],
   "source": [
    "print(\"===HDF5 datasets===\")\n",
    "print(dset_names)\n",
    "print()\n",
    "\n",
    "print(\"===locations data shape===\")\n",
    "print(locations.shape)\n",
    "print()\n",
    "\n",
    "print(\"===nodes===\")\n",
    "for i, name in enumerate(node_names):\n",
    "    print(f\"{i}: {name}\")\n",
    "print()"
   ]
  },
  {
   "cell_type": "code",
   "execution_count": 65,
   "id": "bd3eb2b5",
   "metadata": {},
   "outputs": [
    {
     "data": {
      "text/plain": [
       "array([[[[ 636.18554688, 1315.63500977],\n",
       "         [ 763.41711426,  764.22235107]],\n",
       "\n",
       "        [[ 731.88220215, 1207.74133301],\n",
       "         [ 839.62005615,  835.98730469]],\n",
       "\n",
       "        [[ 224.43968201,           nan],\n",
       "         [ 752.24365234,           nan]],\n",
       "\n",
       "        [[ 444.06677246, 1403.75061035],\n",
       "         [ 736.12164307,  736.31848145]],\n",
       "\n",
       "        [[ 559.8215332 , 1287.79211426],\n",
       "         [ 856.13677979,  883.53204346]],\n",
       "\n",
       "        [[ 168.12338257,           nan],\n",
       "         [ 887.70623779,           nan]]],\n",
       "\n",
       "\n",
       "       [[[ 680.47436523, 1240.11132812],\n",
       "         [ 764.23657227,  771.94647217]],\n",
       "\n",
       "        [[ 775.67022705, 1136.28613281],\n",
       "         [ 840.25872803,  844.39770508]],\n",
       "\n",
       "        [[ 267.95581055, 1656.20471191],\n",
       "         [ 787.62969971,  792.44732666]],\n",
       "\n",
       "        [[ 504.30621338, 1431.85974121],\n",
       "         [ 728.2098999 ,  743.88330078]],\n",
       "\n",
       "        [[ 564.33746338, 1279.53369141],\n",
       "         [ 855.76104736,  879.46813965]],\n",
       "\n",
       "        [[          nan, 1663.79040527],\n",
       "         [          nan,  872.43157959]]],\n",
       "\n",
       "\n",
       "       [[[ 715.9987793 , 1176.17297363],\n",
       "         [ 760.16168213,  779.62359619]],\n",
       "\n",
       "        [[ 816.02160645, 1084.06237793],\n",
       "         [ 835.62127686,  855.87145996]],\n",
       "\n",
       "        [[ 343.76968384, 1615.87609863],\n",
       "         [ 775.77478027,  808.27655029]],\n",
       "\n",
       "        [[ 555.70288086, 1351.98852539],\n",
       "         [ 731.76989746,  736.10894775]],\n",
       "\n",
       "        [[ 727.97674561, 1272.24060059],\n",
       "         [ 848.21002197,  880.21533203]],\n",
       "\n",
       "        [[          nan, 1476.14416504],\n",
       "         [          nan,  875.80517578]]],\n",
       "\n",
       "\n",
       "       ...,\n",
       "\n",
       "\n",
       "       [[[          nan,  528.40264893],\n",
       "         [          nan,  755.98712158]],\n",
       "\n",
       "        [[          nan,  416.10256958],\n",
       "         [          nan,  768.29541016]],\n",
       "\n",
       "        [[          nan,  831.92059326],\n",
       "         [          nan,  828.13323975]],\n",
       "\n",
       "        [[          nan,  655.88122559],\n",
       "         [          nan,  719.8828125 ]],\n",
       "\n",
       "        [[          nan,  555.44415283],\n",
       "         [          nan,  871.59472656]],\n",
       "\n",
       "        [[          nan,  683.66192627],\n",
       "         [          nan,  860.20806885]]],\n",
       "\n",
       "\n",
       "       [[[          nan,  511.98892212],\n",
       "         [          nan,  755.79473877]],\n",
       "\n",
       "        [[          nan,  404.09301758],\n",
       "         [          nan,  771.99279785]],\n",
       "\n",
       "        [[          nan,  820.20404053],\n",
       "         [          nan,  827.74700928]],\n",
       "\n",
       "        [[          nan,  648.28710938],\n",
       "         [          nan,  720.29400635]],\n",
       "\n",
       "        [[          nan,  531.99707031],\n",
       "         [          nan,  864.41998291]],\n",
       "\n",
       "        [[          nan,  695.80224609],\n",
       "         [          nan,  863.52789307]]],\n",
       "\n",
       "\n",
       "       [[[          nan,  499.72628784],\n",
       "         [          nan,  756.2578125 ]],\n",
       "\n",
       "        [[          nan,  388.08221436],\n",
       "         [          nan,  800.33251953]],\n",
       "\n",
       "        [[          nan,  811.78912354],\n",
       "         [          nan,  827.76525879]],\n",
       "\n",
       "        [[          nan,  631.67242432],\n",
       "         [          nan,  723.49334717]],\n",
       "\n",
       "        [[          nan,  480.04037476],\n",
       "         [          nan,  868.09545898]],\n",
       "\n",
       "        [[          nan,  688.12310791],\n",
       "         [          nan,  863.42663574]]]])"
      ]
     },
     "execution_count": 65,
     "metadata": {},
     "output_type": "execute_result"
    }
   ],
   "source": [
    "locations"
   ]
  },
  {
   "cell_type": "code",
   "execution_count": 66,
   "id": "61bc3ea3",
   "metadata": {},
   "outputs": [
    {
     "name": "stdout",
     "output_type": "stream",
     "text": [
      "frame count: 194\n",
      "node count: 6\n",
      "instance count: 2\n"
     ]
    }
   ],
   "source": [
    "frame_count, node_count, _, instance_count = locations.shape\n",
    "\n",
    "print(\"frame count:\", frame_count)\n",
    "print(\"node count:\", node_count)\n",
    "print(\"instance count:\", instance_count)"
   ]
  },
  {
   "cell_type": "code",
   "execution_count": 67,
   "id": "b18ff116",
   "metadata": {},
   "outputs": [],
   "source": [
    "from scipy.interpolate import interp1d\n",
    "\n",
    "def fill_missing(Y, kind=\"linear\"):\n",
    "    \"\"\"Fills missing values independently along each dimension after the first.\"\"\"\n",
    "\n",
    "    # Store initial shape.\n",
    "    initial_shape = Y.shape\n",
    "\n",
    "    # Flatten after first dim.\n",
    "    Y = Y.reshape((initial_shape[0], -1))\n",
    "\n",
    "    # Interpolate along each slice.\n",
    "    for i in range(Y.shape[-1]):\n",
    "        y = Y[:, i]\n",
    "\n",
    "        # Build interpolant.\n",
    "        x = np.flatnonzero(~np.isnan(y))\n",
    "        f = interp1d(x, y[x], kind=kind, fill_value=np.nan, bounds_error=False)\n",
    "\n",
    "        # Fill missing\n",
    "        xq = np.flatnonzero(np.isnan(y))\n",
    "        y[xq] = f(xq)\n",
    "        \n",
    "        # Fill leading or trailing NaNs with the nearest non-NaN values\n",
    "        mask = np.isnan(y)\n",
    "        y[mask] = np.interp(np.flatnonzero(mask), np.flatnonzero(~mask), y[~mask])\n",
    "\n",
    "        # Save slice\n",
    "        Y[:, i] = y\n",
    "\n",
    "    # Restore to initial shape.\n",
    "    Y = Y.reshape(initial_shape)\n",
    "\n",
    "    return Y"
   ]
  },
  {
   "cell_type": "code",
   "execution_count": 68,
   "id": "e079d598",
   "metadata": {},
   "outputs": [],
   "source": [
    "locations = fill_missing(locations)"
   ]
  },
  {
   "cell_type": "code",
   "execution_count": 69,
   "id": "83a14b8c",
   "metadata": {},
   "outputs": [],
   "source": [
    "HEAD_INDEX = 0\n",
    "THORAX_INDEX = 1\n",
    "ABDO_INDEX = 2"
   ]
  },
  {
   "cell_type": "code",
   "execution_count": 70,
   "id": "28059da4",
   "metadata": {},
   "outputs": [],
   "source": [
    "head_loc = locations[:, HEAD_INDEX, :, :]\n",
    "thorax_loc = locations[:, THORAX_INDEX, :, :]\n",
    "abdo_loc = locations[:, ABDO_INDEX, :, :]"
   ]
  },
  {
   "cell_type": "code",
   "execution_count": 72,
   "id": "a7ce114b",
   "metadata": {},
   "outputs": [
    {
     "data": {
      "text/plain": [
       "(194, 6, 2, 2)"
      ]
     },
     "execution_count": 72,
     "metadata": {},
     "output_type": "execute_result"
    }
   ],
   "source": [
    "locations.shape"
   ]
  },
  {
   "cell_type": "markdown",
   "id": "44dbd660",
   "metadata": {},
   "source": [
    "- SLEAP coordinates\n",
    "    - frame number, node number, x or y, id number"
   ]
  },
  {
   "cell_type": "markdown",
   "id": "289d7453",
   "metadata": {},
   "source": [
    "- X coordinate is 0, Y coordinate is 1"
   ]
  },
  {
   "cell_type": "code",
   "execution_count": null,
   "id": "f56b2885",
   "metadata": {},
   "outputs": [],
   "source": []
  },
  {
   "cell_type": "code",
   "execution_count": 73,
   "id": "feb41396",
   "metadata": {},
   "outputs": [
    {
     "data": {
      "text/plain": [
       "array([[ 636.18554688, 1315.63500977],\n",
       "       [ 763.41711426,  764.22235107]])"
      ]
     },
     "execution_count": 73,
     "metadata": {},
     "output_type": "execute_result"
    }
   ],
   "source": [
    "locations[0][0]"
   ]
  },
  {
   "cell_type": "code",
   "execution_count": 74,
   "id": "3698f8cb",
   "metadata": {},
   "outputs": [
    {
     "data": {
      "text/plain": [
       "array([[807.97918701, 816.16604614],\n",
       "       [748.00238037, 769.96801758]])"
      ]
     },
     "execution_count": 74,
     "metadata": {},
     "output_type": "execute_result"
    }
   ],
   "source": [
    "locations[100][0]"
   ]
  },
  {
   "cell_type": "code",
   "execution_count": 75,
   "id": "ea1f2569",
   "metadata": {},
   "outputs": [
    {
     "data": {
      "text/plain": [
       "array([751.7901001, 755.9498291])"
      ]
     },
     "execution_count": 75,
     "metadata": {},
     "output_type": "execute_result"
    }
   ],
   "source": [
    "locations[190][0][1]"
   ]
  },
  {
   "cell_type": "code",
   "execution_count": 76,
   "id": "eae6b719",
   "metadata": {},
   "outputs": [
    {
     "data": {
      "text/plain": [
       "array([ 636.18554688,  680.47436523,  715.9987793 ,  771.855896  ,\n",
       "        827.88275146,  839.89123535,  835.81665039,  824.12072754,\n",
       "        820.20666504,  823.92272949,  832.19024658,  839.95068359,\n",
       "        851.86431885,  852.27661133,  851.9161377 ,  847.76660156,\n",
       "        836.38787842,  836.37268066,  840.05383301,  852.03717041,\n",
       "        870.07324219,  888.10931396,  864.08325195,  844.08752441,\n",
       "        816.04382324,  819.61529541,  848.05718994,  860.03613281,\n",
       "        883.84130859,  884.40637207,  876.52850342,  859.6038208 ,\n",
       "        848.3168335 ,  855.93341064,  868.24139404,  855.89404297,\n",
       "        843.89520264,  860.059021  ,  864.30053711,  864.14373779,\n",
       "        864.36187744,  831.50213623,  900.09375   ,  907.59606934,\n",
       "        896.00823975,  895.94885254,  896.15307617,  904.00921631,\n",
       "        906.17596436,  908.3427124 ,  902.2880249 ,  896.2333374 ,\n",
       "        896.22851562,  903.61737061,  912.37158203,  919.965271  ,\n",
       "        936.37457275,  955.89367676,  964.1697998 ,  956.43377686,\n",
       "        963.97918701,  980.11981201,  959.81451416,  955.59112549,\n",
       "        995.88568115, 1000.41345215,  999.72546387,  992.03625488,\n",
       "        964.22497559,  919.9085083 ,  908.02038574,  908.14324951,\n",
       "        899.98797607,  896.3694458 ,  887.96734619,  876.51904297,\n",
       "        871.84136963,  916.2600708 ,  872.26159668,  828.26312256,\n",
       "        888.25299072,  804.03442383,  800.49835205,  803.86895752,\n",
       "        803.88012695,  803.90808105,  804.51898193,  807.75830078,\n",
       "        796.28405762,  788.03308105,  775.70495605,  784.50469971,\n",
       "        784.44055176,  791.68341064,  791.63189697,  791.902771  ,\n",
       "        792.08825684,  792.31097412,  799.99945068,  808.02172852,\n",
       "        807.97918701,  812.24163818,  871.47174072,  883.93395996,\n",
       "        856.1038208 ,  863.53662109,  876.08856201,  887.81121826,\n",
       "        884.48291016,  884.14056396,  884.15539551,  883.8951416 ,\n",
       "        883.59307861,  880.38543701,  879.79974365,  879.9977417 ,\n",
       "        880.40203857,  880.11218262,  879.73199463,  831.75604248,\n",
       "        836.36175537,  828.21350098,  829.60565186,  830.99780273,\n",
       "        832.38995361,  844.05554199,  847.72674561,  815.87481689,\n",
       "        784.02288818,  752.17095947,  720.31903076,  720.26483154,\n",
       "        733.54557292,  746.82631429,  760.10705566,  773.38779704,\n",
       "        786.66853841,  799.94927979,  788.00958252,  760.1026001 ,\n",
       "        747.6762085 ,  724.08666992,  731.78948975,  743.91833496,\n",
       "        739.68041992,  739.78173828,  732.16845703,  731.71179199,\n",
       "        732.02856445,  731.63513184,  732.10888672,  732.04473877,\n",
       "        727.75006104,  723.78253174,  723.73449707,  723.65667725,\n",
       "        735.92840576,  724.43304443,  719.74749756,  704.41693115,\n",
       "        703.88360596,  680.15356445,  660.17681885,  639.84509277,\n",
       "        608.21740723,  588.49389648,  587.62286377,  584.3838501 ,\n",
       "        596.10028076,  596.03344727,  588.2623291 ,  584.14868164,\n",
       "        571.93237305,  559.85772705,  552.06658936,  548.30413818,\n",
       "        536.0357666 ,  516.24176025,  515.80041504,  515.77923584,\n",
       "        496.35369873,  488.30712891,  464.24725342,  455.81793213,\n",
       "        440.19165039,  431.81118774,  424.10031128,  411.65600586,\n",
       "        392.39355469,  360.13046265,  407.81848145,  407.81848145,\n",
       "        407.81848145,  407.81848145])"
      ]
     },
     "execution_count": 76,
     "metadata": {},
     "output_type": "execute_result"
    }
   ],
   "source": [
    "locations[:, 0, 0, 0]"
   ]
  },
  {
   "cell_type": "code",
   "execution_count": 77,
   "id": "cb273432",
   "metadata": {},
   "outputs": [
    {
     "data": {
      "text/plain": [
       "(194, 6, 2, 2)"
      ]
     },
     "execution_count": 77,
     "metadata": {},
     "output_type": "execute_result"
    }
   ],
   "source": [
    "locations.shape"
   ]
  },
  {
   "cell_type": "code",
   "execution_count": 78,
   "id": "7608fb47",
   "metadata": {},
   "outputs": [
    {
     "data": {
      "text/plain": [
       "array([[[636.18554688, 763.41711426],\n",
       "        [731.88220215, 839.62005615],\n",
       "        [224.43968201, 752.24365234],\n",
       "        [444.06677246, 736.12164307],\n",
       "        [559.8215332 , 856.13677979],\n",
       "        [168.12338257, 887.70623779]],\n",
       "\n",
       "       [[680.47436523, 764.23657227],\n",
       "        [775.67022705, 840.25872803],\n",
       "        [267.95581055, 787.62969971],\n",
       "        [504.30621338, 728.2098999 ],\n",
       "        [564.33746338, 855.76104736],\n",
       "        [302.61659749, 877.08459473]],\n",
       "\n",
       "       [[715.9987793 , 760.16168213],\n",
       "        [816.02160645, 835.62127686],\n",
       "        [343.76968384, 775.77478027],\n",
       "        [555.70288086, 731.76989746],\n",
       "        [727.97674561, 848.21002197],\n",
       "        [437.10981242, 866.46295166]],\n",
       "\n",
       "       ...,\n",
       "\n",
       "       [[407.81848145, 751.7901001 ],\n",
       "        [440.12734985, 764.06341553],\n",
       "        [147.87149048, 844.17193604],\n",
       "        [255.85533142, 720.01757812],\n",
       "        [436.09719849, 871.95184326],\n",
       "        [123.85195923, 880.06799316]],\n",
       "\n",
       "       [[407.81848145, 751.7901001 ],\n",
       "        [440.12734985, 764.06341553],\n",
       "        [147.87149048, 844.17193604],\n",
       "        [255.85533142, 720.01757812],\n",
       "        [436.09719849, 871.95184326],\n",
       "        [123.85195923, 880.06799316]],\n",
       "\n",
       "       [[407.81848145, 751.7901001 ],\n",
       "        [440.12734985, 764.06341553],\n",
       "        [147.87149048, 844.17193604],\n",
       "        [255.85533142, 720.01757812],\n",
       "        [436.09719849, 871.95184326],\n",
       "        [123.85195923, 880.06799316]]])"
      ]
     },
     "execution_count": 78,
     "metadata": {},
     "output_type": "execute_result"
    }
   ],
   "source": [
    "locations[:,:,:,0]"
   ]
  },
  {
   "cell_type": "code",
   "execution_count": 37,
   "id": "07598aa0",
   "metadata": {},
   "outputs": [],
   "source": [
    "def produce_df(rows, columns, row_names=None, column_names=None):\n",
    "    \"\"\"rows is a list of lists that will be used to build a MultiIndex\n",
    "    columns is a list of lists that will be used to build a MultiIndex\"\"\"\n",
    "    row_index = pd.MultiIndex.from_product(rows, names=row_names)\n",
    "    col_index = pd.MultiIndex.from_product(columns, names=column_names)\n",
    "    return pd.DataFrame(index=row_index, columns=col_index)"
   ]
  },
  {
   "cell_type": "code",
   "execution_count": 43,
   "id": "a70edb2f",
   "metadata": {},
   "outputs": [
    {
     "data": {
      "text/html": [
       "<div>\n",
       "<style scoped>\n",
       "    .dataframe tbody tr th:only-of-type {\n",
       "        vertical-align: middle;\n",
       "    }\n",
       "\n",
       "    .dataframe tbody tr th {\n",
       "        vertical-align: top;\n",
       "    }\n",
       "\n",
       "    .dataframe thead tr th {\n",
       "        text-align: left;\n",
       "    }\n",
       "</style>\n",
       "<table border=\"1\" class=\"dataframe\">\n",
       "  <thead>\n",
       "    <tr>\n",
       "      <th></th>\n",
       "      <th colspan=\"2\" halign=\"left\">ear</th>\n",
       "      <th colspan=\"2\" halign=\"left\">nose</th>\n",
       "      <th colspan=\"2\" halign=\"left\">tail_base</th>\n",
       "      <th colspan=\"2\" halign=\"left\">thorax</th>\n",
       "      <th colspan=\"2\" halign=\"left\">front_foot</th>\n",
       "      <th colspan=\"2\" halign=\"left\">rear_foot</th>\n",
       "    </tr>\n",
       "    <tr>\n",
       "      <th></th>\n",
       "      <th>x</th>\n",
       "      <th>y</th>\n",
       "      <th>x</th>\n",
       "      <th>y</th>\n",
       "      <th>x</th>\n",
       "      <th>y</th>\n",
       "      <th>x</th>\n",
       "      <th>y</th>\n",
       "      <th>x</th>\n",
       "      <th>y</th>\n",
       "      <th>x</th>\n",
       "      <th>y</th>\n",
       "    </tr>\n",
       "  </thead>\n",
       "  <tbody>\n",
       "    <tr>\n",
       "      <th>a</th>\n",
       "      <td>NaN</td>\n",
       "      <td>NaN</td>\n",
       "      <td>NaN</td>\n",
       "      <td>NaN</td>\n",
       "      <td>NaN</td>\n",
       "      <td>NaN</td>\n",
       "      <td>NaN</td>\n",
       "      <td>NaN</td>\n",
       "      <td>NaN</td>\n",
       "      <td>NaN</td>\n",
       "      <td>NaN</td>\n",
       "      <td>NaN</td>\n",
       "    </tr>\n",
       "    <tr>\n",
       "      <th>b</th>\n",
       "      <td>NaN</td>\n",
       "      <td>NaN</td>\n",
       "      <td>NaN</td>\n",
       "      <td>NaN</td>\n",
       "      <td>NaN</td>\n",
       "      <td>NaN</td>\n",
       "      <td>NaN</td>\n",
       "      <td>NaN</td>\n",
       "      <td>NaN</td>\n",
       "      <td>NaN</td>\n",
       "      <td>NaN</td>\n",
       "      <td>NaN</td>\n",
       "    </tr>\n",
       "  </tbody>\n",
       "</table>\n",
       "</div>"
      ],
      "text/plain": [
       "   ear      nose      tail_base      thorax      front_foot      rear_foot  \\\n",
       "     x    y    x    y         x    y      x    y          x    y         x   \n",
       "a  NaN  NaN  NaN  NaN       NaN  NaN    NaN  NaN        NaN  NaN       NaN   \n",
       "b  NaN  NaN  NaN  NaN       NaN  NaN    NaN  NaN        NaN  NaN       NaN   \n",
       "\n",
       "        \n",
       "     y  \n",
       "a  NaN  \n",
       "b  NaN  "
      ]
     },
     "execution_count": 43,
     "metadata": {},
     "output_type": "execute_result"
    }
   ],
   "source": [
    "produce_df([['a', 'b']], [node_names, ['x', 'y']])\n"
   ]
  },
  {
   "cell_type": "code",
   "execution_count": 39,
   "id": "e73679de",
   "metadata": {},
   "outputs": [
    {
     "data": {
      "text/plain": [
       "['ear', 'nose', 'tail_base', 'thorax', 'front_foot', 'rear_foot']"
      ]
     },
     "execution_count": 39,
     "metadata": {},
     "output_type": "execute_result"
    }
   ],
   "source": [
    "node_names"
   ]
  },
  {
   "cell_type": "code",
   "execution_count": 54,
   "id": "f4a527f4",
   "metadata": {},
   "outputs": [
    {
     "data": {
      "text/plain": [
       "(2, 194)"
      ]
     },
     "execution_count": 54,
     "metadata": {},
     "output_type": "execute_result"
    }
   ],
   "source": [
    "instances_scores.shape"
   ]
  },
  {
   "cell_type": "code",
   "execution_count": 53,
   "id": "c7a3edbb",
   "metadata": {},
   "outputs": [
    {
     "data": {
      "text/plain": [
       "array([[          nan,  -60.09309769, -100.22259521,  -54.80153656,\n",
       "         -15.63673973,  -10.24626732,   -9.22846603,   -2.67489958,\n",
       "          -0.32433128,   -0.73331463,   -3.07362914,   -6.64051628,\n",
       "          -7.30306911,   -3.73756838,   -5.03766775,  -75.62200165,\n",
       "          -8.53457642,   -7.05034494,  -31.60495567,   -4.25989389,\n",
       "         -46.05050659,  -38.78982544,  -48.99094391,  -28.59298706,\n",
       "         -29.63674355,  -26.98335075,   -7.85521555,   -8.05189228,\n",
       "          -4.20230198,   -6.68486738,   -9.52558708,   -6.74027109,\n",
       "          -3.03634191,  -48.7921257 ,  -48.12660599,  -53.58452225,\n",
       "         -58.90586472,  -10.65644264,  -51.15689468,   -1.80665171,\n",
       "         -22.71046638,  -20.84678459,  -14.03412056,  -24.31245995,\n",
       "         -22.00974274,   -4.0145793 ,  -31.80082893,  -50.56274414,\n",
       "          -1.02093506,  -52.80811691,   -1.79668963,  -87.19734192,\n",
       "         -54.07027817,  -73.33692932,   -9.53038406,   -6.73071575,\n",
       "         -12.23271179,  -27.28444672,  -47.55476761,  -22.14280891,\n",
       "          -7.26715565,  -20.3056736 ,  -23.5846405 ,  -26.08363342,\n",
       "         -14.25373936,  -15.43168545,  -20.39112473,  -15.69044209,\n",
       "         -26.48877716,  -10.7066288 ,  -13.58592892,    0.        ,\n",
       "         -48.74827194,  -14.1648531 ,   -9.77313709,  -43.08334732,\n",
       "         -19.17538071,  -20.36204147,  -38.490242  ,  -55.43645859,\n",
       "         -50.76249695,  -13.15830898,   -3.51351881,   -6.02460623,\n",
       "         -16.83878517,  -10.82722855,   -5.90426922,  -48.15361404,\n",
       "         -47.64542389,  -42.19348526,  -52.95380783,  -63.43729019,\n",
       "         -64.82227325,  -23.04452896,   -4.28284788,  -10.9503727 ,\n",
       "          -1.74963212,   -2.46645761,   -5.82799578,   -6.94252443,\n",
       "          -6.63589525,  -10.0647459 ,  -68.46630859,  -28.52374458,\n",
       "         -23.58776474,  -22.51758385,  -14.88844872,           nan,\n",
       "         -21.45993423,  -27.04245377,  -13.88026524,   -9.22001839,\n",
       "          -4.06466198,  -11.29724789,  -11.0849514 ,  -14.24139595,\n",
       "         -11.95378685,  -56.38854599,   -2.03318501,  -30.8406868 ,\n",
       "         -42.09142685,  -54.16696167,           nan,           nan,\n",
       "          -4.62789965,   -2.79257607,  -41.9899826 ,           nan,\n",
       "                  nan,  -55.15161896,  -28.16432571,  -24.04520607,\n",
       "                  nan,  -35.94192886,  -33.00780106,           nan,\n",
       "         -24.89923668,  -50.83052063,  -18.27838326,   -4.92044067,\n",
       "         -43.81162262,  -42.68521118,  -15.5059042 ,  -18.44551277,\n",
       "         -18.48019409,  -17.82787323,  -60.62065506,   -3.21903014,\n",
       "          -4.33719969,   -1.16634321,   -4.47237253,   -2.39229059,\n",
       "          -3.11810899,   -0.23752107,   -0.36588216,   -2.51921487,\n",
       "         -24.58415031,  -43.02834702,  -13.94058037,   -8.50237179,\n",
       "         -20.48482895,  -44.83418655,  -31.25059128,  -21.06724167,\n",
       "         -13.19830799,  -47.2902565 ,  -32.29806519,  -26.74221802,\n",
       "         -42.67860413,  -43.02923965,  -20.91833305,  -10.86858559,\n",
       "         -61.42644119,   -8.72410583,   -6.10281324,  -26.16659164,\n",
       "         -25.06561279,  -14.33378601,    0.        ,  -34.56469345,\n",
       "         -17.64071083,  -44.53145218,  -45.23743057,  -11.36162376,\n",
       "         -31.30130959,  -32.18455124,  -20.31562233,  -23.14177513,\n",
       "         -24.73469543,   -6.33215141,  -68.32883453,           nan,\n",
       "                  nan,           nan],\n",
       "       [          nan, -118.30713654,  -48.67367554,  -24.67598534,\n",
       "         -53.82758331,  -22.51878166,  -67.74302673,   -0.94398212,\n",
       "          -7.93919086,   -2.21023464,   -1.96651554,   -7.63076162,\n",
       "          -4.5657711 ,   -2.23527598,  -34.89217377,  -32.70508575,\n",
       "         -47.20146942,  -65.67266083,  -15.01681042,  -38.95875549,\n",
       "         -48.06544113,  -60.04721069,  -56.73980331,  -64.29013824,\n",
       "         -53.68239212,  -40.55276871,  -72.92225647,  -62.03595734,\n",
       "         -59.35877228, -137.8293457 ,  -52.64863205,  -33.75691223,\n",
       "         -55.56312561,  -30.30568123,   -3.40114117,  -35.72079849,\n",
       "         -42.33125305,  -25.14561272,  -29.32037926,  -33.21506119,\n",
       "         -26.80882645,  -53.36528015,  -27.41596794,  -27.23893166,\n",
       "         -37.49476242,  -29.90453529,  -32.96618271,  -41.55877686,\n",
       "         -59.73371506,  -51.40680313,  -39.80280685,  -79.36430359,\n",
       "         -70.47763062,  -63.56605148, -166.08305359,  -54.99372482,\n",
       "         -23.23529816,  -29.34687233,   -6.80182314,  -63.82542038,\n",
       "         -42.63536835,  -47.47520065,  -32.96133804,  -39.55552673,\n",
       "         -44.5603447 ,  -35.76860809,  -31.91091919,  -37.48628235,\n",
       "        -101.35440826,  -63.7125473 ,   -7.79301262,  -51.42932129,\n",
       "         -28.01138115,  -26.64673233,  -44.70596313,  -16.33417511,\n",
       "         -40.47631454,  -37.52243042,  -47.43376923,  -19.9312973 ,\n",
       "         -43.09882355,  -33.41540146,  -14.80835438,  -16.29567337,\n",
       "          -1.79139793,  -32.16872406,  -16.82460976,  -49.86318207,\n",
       "         -62.2959938 ,  -37.00398254,  -27.75259972,  -54.34246826,\n",
       "         -28.92155838,   -9.96509361,  -35.76478577,  -39.1444931 ,\n",
       "         -36.1695137 ,  -35.01209259,  -66.82589722,  -36.15488434,\n",
       "           0.        ,  -51.52917099,  -47.15077591,  -50.85031891,\n",
       "         -30.72148705,   -4.51839542,  -23.54860115,  -55.71020889,\n",
       "          -5.68748665,  -52.68736267,  -28.74667931,  -54.57329941,\n",
       "         -53.33135223,  -53.71110916,  -59.54709625,  -52.38887405,\n",
       "         -59.34372711,  -53.88389206,  -52.88475418, -126.14388275,\n",
       "         -46.90210342,           nan,  -50.44581223,  -75.92115021,\n",
       "         -75.57181549,  -55.01821136,  -12.93034649,  -30.63908577,\n",
       "         -22.09992218,  -34.17522049,   -6.74920273,  -11.85406876,\n",
       "          -7.10474539,  -62.31745148,  -60.73548508,  -63.6366272 ,\n",
       "         -61.37035751,  -67.56193542,   -2.76275826,  -11.76923561,\n",
       "          -9.83516884,  -11.32549572,  -11.33477879,  -32.2294693 ,\n",
       "         -23.83658028,  -66.97198486,  -67.17810059,  -18.50961113,\n",
       "         -10.50483418,   -9.76095581,   -7.13041353,   -4.92210722,\n",
       "          -3.76782084,  -10.81253529,  -10.02121258,  -17.77429199,\n",
       "         -18.28758812,  -10.90195847,   -2.39214897,   -5.66901016,\n",
       "         -11.85543823,  -11.11199665,  -19.84697914,  -57.61249161,\n",
       "         -83.50952911,  -46.88952255,  -41.03403091,   -4.74706411,\n",
       "         -11.67203236,   -7.05491066,   -5.73356962,  -18.55762863,\n",
       "         -66.72395325,  -63.60659409,  -68.50460052,  -73.0182724 ,\n",
       "         -60.09685898,  -65.52376556,  -71.7986908 ,   -6.83125544,\n",
       "          -8.80317116,   -6.24496698,  -10.4201746 ,  -23.6154995 ,\n",
       "         -30.05360985,   -7.37554932,  -20.83374214,  -26.31267738,\n",
       "         -27.40725899,  -48.42728043,  -29.29358101,  -27.97324753,\n",
       "         -35.74231339,  -20.2014637 ]])"
      ]
     },
     "execution_count": 53,
     "metadata": {},
     "output_type": "execute_result"
    }
   ],
   "source": [
    "tracking_scores"
   ]
  },
  {
   "cell_type": "code",
   "execution_count": 55,
   "id": "ae29d88f",
   "metadata": {},
   "outputs": [
    {
     "data": {
      "text/html": [
       "<div>\n",
       "<style scoped>\n",
       "    .dataframe tbody tr th:only-of-type {\n",
       "        vertical-align: middle;\n",
       "    }\n",
       "\n",
       "    .dataframe tbody tr th {\n",
       "        vertical-align: top;\n",
       "    }\n",
       "\n",
       "    .dataframe thead th {\n",
       "        text-align: right;\n",
       "    }\n",
       "</style>\n",
       "<table border=\"1\" class=\"dataframe\">\n",
       "  <thead>\n",
       "    <tr style=\"text-align: right;\">\n",
       "      <th></th>\n",
       "      <th></th>\n",
       "      <th></th>\n",
       "      <th></th>\n",
       "      <th>0</th>\n",
       "    </tr>\n",
       "    <tr>\n",
       "      <th>time</th>\n",
       "      <th>sub</th>\n",
       "      <th>meas</th>\n",
       "      <th>cond</th>\n",
       "      <th></th>\n",
       "    </tr>\n",
       "  </thead>\n",
       "  <tbody>\n",
       "    <tr>\n",
       "      <th rowspan=\"8\" valign=\"top\">1</th>\n",
       "      <th rowspan=\"4\" valign=\"top\">1</th>\n",
       "      <th rowspan=\"2\" valign=\"top\">m1</th>\n",
       "      <th>A</th>\n",
       "      <td>0</td>\n",
       "    </tr>\n",
       "    <tr>\n",
       "      <th>B</th>\n",
       "      <td>1</td>\n",
       "    </tr>\n",
       "    <tr>\n",
       "      <th rowspan=\"2\" valign=\"top\">m2</th>\n",
       "      <th>A</th>\n",
       "      <td>2</td>\n",
       "    </tr>\n",
       "    <tr>\n",
       "      <th>B</th>\n",
       "      <td>3</td>\n",
       "    </tr>\n",
       "    <tr>\n",
       "      <th rowspan=\"4\" valign=\"top\">2</th>\n",
       "      <th rowspan=\"2\" valign=\"top\">m1</th>\n",
       "      <th>A</th>\n",
       "      <td>4</td>\n",
       "    </tr>\n",
       "    <tr>\n",
       "      <th>B</th>\n",
       "      <td>5</td>\n",
       "    </tr>\n",
       "    <tr>\n",
       "      <th rowspan=\"2\" valign=\"top\">m2</th>\n",
       "      <th>A</th>\n",
       "      <td>6</td>\n",
       "    </tr>\n",
       "    <tr>\n",
       "      <th>B</th>\n",
       "      <td>7</td>\n",
       "    </tr>\n",
       "    <tr>\n",
       "      <th rowspan=\"8\" valign=\"top\">2</th>\n",
       "      <th rowspan=\"4\" valign=\"top\">1</th>\n",
       "      <th rowspan=\"2\" valign=\"top\">m1</th>\n",
       "      <th>A</th>\n",
       "      <td>8</td>\n",
       "    </tr>\n",
       "    <tr>\n",
       "      <th>B</th>\n",
       "      <td>9</td>\n",
       "    </tr>\n",
       "    <tr>\n",
       "      <th rowspan=\"2\" valign=\"top\">m2</th>\n",
       "      <th>A</th>\n",
       "      <td>10</td>\n",
       "    </tr>\n",
       "    <tr>\n",
       "      <th>B</th>\n",
       "      <td>11</td>\n",
       "    </tr>\n",
       "    <tr>\n",
       "      <th rowspan=\"4\" valign=\"top\">2</th>\n",
       "      <th rowspan=\"2\" valign=\"top\">m1</th>\n",
       "      <th>A</th>\n",
       "      <td>12</td>\n",
       "    </tr>\n",
       "    <tr>\n",
       "      <th>B</th>\n",
       "      <td>13</td>\n",
       "    </tr>\n",
       "    <tr>\n",
       "      <th rowspan=\"2\" valign=\"top\">m2</th>\n",
       "      <th>A</th>\n",
       "      <td>14</td>\n",
       "    </tr>\n",
       "    <tr>\n",
       "      <th>B</th>\n",
       "      <td>15</td>\n",
       "    </tr>\n",
       "    <tr>\n",
       "      <th rowspan=\"8\" valign=\"top\">3</th>\n",
       "      <th rowspan=\"4\" valign=\"top\">1</th>\n",
       "      <th rowspan=\"2\" valign=\"top\">m1</th>\n",
       "      <th>A</th>\n",
       "      <td>16</td>\n",
       "    </tr>\n",
       "    <tr>\n",
       "      <th>B</th>\n",
       "      <td>17</td>\n",
       "    </tr>\n",
       "    <tr>\n",
       "      <th rowspan=\"2\" valign=\"top\">m2</th>\n",
       "      <th>A</th>\n",
       "      <td>18</td>\n",
       "    </tr>\n",
       "    <tr>\n",
       "      <th>B</th>\n",
       "      <td>19</td>\n",
       "    </tr>\n",
       "    <tr>\n",
       "      <th rowspan=\"4\" valign=\"top\">2</th>\n",
       "      <th rowspan=\"2\" valign=\"top\">m1</th>\n",
       "      <th>A</th>\n",
       "      <td>20</td>\n",
       "    </tr>\n",
       "    <tr>\n",
       "      <th>B</th>\n",
       "      <td>21</td>\n",
       "    </tr>\n",
       "    <tr>\n",
       "      <th rowspan=\"2\" valign=\"top\">m2</th>\n",
       "      <th>A</th>\n",
       "      <td>22</td>\n",
       "    </tr>\n",
       "    <tr>\n",
       "      <th>B</th>\n",
       "      <td>23</td>\n",
       "    </tr>\n",
       "  </tbody>\n",
       "</table>\n",
       "</div>"
      ],
      "text/plain": [
       "                     0\n",
       "time sub meas cond    \n",
       "1    1   m1   A      0\n",
       "              B      1\n",
       "         m2   A      2\n",
       "              B      3\n",
       "     2   m1   A      4\n",
       "              B      5\n",
       "         m2   A      6\n",
       "              B      7\n",
       "2    1   m1   A      8\n",
       "              B      9\n",
       "         m2   A     10\n",
       "              B     11\n",
       "     2   m1   A     12\n",
       "              B     13\n",
       "         m2   A     14\n",
       "              B     15\n",
       "3    1   m1   A     16\n",
       "              B     17\n",
       "         m2   A     18\n",
       "              B     19\n",
       "     2   m1   A     20\n",
       "              B     21\n",
       "         m2   A     22\n",
       "              B     23"
      ]
     },
     "execution_count": 55,
     "metadata": {},
     "output_type": "execute_result"
    }
   ],
   "source": [
    "a=np.arange(24).reshape((3,2,2,2))\n",
    "iterables=[[1,2,3],[1,2],['m1','m2'],['A','B']]\n",
    "index = pd.MultiIndex.from_product(iterables, names=['time','sub','meas','cond'])\n",
    "\n",
    "pd.DataFrame(a.reshape(24, 1),index=index)"
   ]
  },
  {
   "cell_type": "code",
   "execution_count": 57,
   "id": "2c60c81e",
   "metadata": {},
   "outputs": [
    {
     "data": {
      "text/plain": [
       "(3, 2, 2, 2)"
      ]
     },
     "execution_count": 57,
     "metadata": {},
     "output_type": "execute_result"
    }
   ],
   "source": [
    "a.shape"
   ]
  },
  {
   "cell_type": "markdown",
   "id": "de753b51",
   "metadata": {},
   "source": [
    "- Getting all the coordinates for only one animal"
   ]
  },
  {
   "cell_type": "code",
   "execution_count": 79,
   "id": "74097265",
   "metadata": {
    "scrolled": true
   },
   "outputs": [
    {
     "data": {
      "text/plain": [
       "array([[[636.18554688, 763.41711426],\n",
       "        [731.88220215, 839.62005615],\n",
       "        [224.43968201, 752.24365234],\n",
       "        [444.06677246, 736.12164307],\n",
       "        [559.8215332 , 856.13677979],\n",
       "        [168.12338257, 887.70623779]],\n",
       "\n",
       "       [[680.47436523, 764.23657227],\n",
       "        [775.67022705, 840.25872803],\n",
       "        [267.95581055, 787.62969971],\n",
       "        [504.30621338, 728.2098999 ],\n",
       "        [564.33746338, 855.76104736],\n",
       "        [302.61659749, 877.08459473]],\n",
       "\n",
       "       [[715.9987793 , 760.16168213],\n",
       "        [816.02160645, 835.62127686],\n",
       "        [343.76968384, 775.77478027],\n",
       "        [555.70288086, 731.76989746],\n",
       "        [727.97674561, 848.21002197],\n",
       "        [437.10981242, 866.46295166]],\n",
       "\n",
       "       ...,\n",
       "\n",
       "       [[407.81848145, 751.7901001 ],\n",
       "        [440.12734985, 764.06341553],\n",
       "        [147.87149048, 844.17193604],\n",
       "        [255.85533142, 720.01757812],\n",
       "        [436.09719849, 871.95184326],\n",
       "        [123.85195923, 880.06799316]],\n",
       "\n",
       "       [[407.81848145, 751.7901001 ],\n",
       "        [440.12734985, 764.06341553],\n",
       "        [147.87149048, 844.17193604],\n",
       "        [255.85533142, 720.01757812],\n",
       "        [436.09719849, 871.95184326],\n",
       "        [123.85195923, 880.06799316]],\n",
       "\n",
       "       [[407.81848145, 751.7901001 ],\n",
       "        [440.12734985, 764.06341553],\n",
       "        [147.87149048, 844.17193604],\n",
       "        [255.85533142, 720.01757812],\n",
       "        [436.09719849, 871.95184326],\n",
       "        [123.85195923, 880.06799316]]])"
      ]
     },
     "execution_count": 79,
     "metadata": {},
     "output_type": "execute_result"
    }
   ],
   "source": [
    "locations[:,:,:,0]"
   ]
  },
  {
   "cell_type": "markdown",
   "id": "1c8fed73",
   "metadata": {},
   "source": [
    "SLEAP coordinates\n",
    "frame number, node number, x or y, id numberm"
   ]
  },
  {
   "cell_type": "code",
   "execution_count": 80,
   "id": "d86647e4",
   "metadata": {},
   "outputs": [
    {
     "data": {
      "text/plain": [
       "array([[636.18554688, 763.41711426],\n",
       "       [731.88220215, 839.62005615],\n",
       "       [224.43968201, 752.24365234],\n",
       "       [444.06677246, 736.12164307],\n",
       "       [559.8215332 , 856.13677979],\n",
       "       [168.12338257, 887.70623779]])"
      ]
     },
     "execution_count": 80,
     "metadata": {},
     "output_type": "execute_result"
    }
   ],
   "source": [
    "locations[:,:,:,0][0]"
   ]
  },
  {
   "cell_type": "markdown",
   "id": "6de51bee",
   "metadata": {},
   "source": [
    "- Getting coordinates for one animal and one axis"
   ]
  },
  {
   "cell_type": "code",
   "execution_count": 82,
   "id": "f2709470",
   "metadata": {},
   "outputs": [
    {
     "data": {
      "text/plain": [
       "array([[636.18554688, 731.88220215, 224.43968201, 444.06677246,\n",
       "        559.8215332 , 168.12338257],\n",
       "       [680.47436523, 775.67022705, 267.95581055, 504.30621338,\n",
       "        564.33746338, 302.61659749],\n",
       "       [715.9987793 , 816.02160645, 343.76968384, 555.70288086,\n",
       "        727.97674561, 437.10981242],\n",
       "       ...,\n",
       "       [407.81848145, 440.12734985, 147.87149048, 255.85533142,\n",
       "        436.09719849, 123.85195923],\n",
       "       [407.81848145, 440.12734985, 147.87149048, 255.85533142,\n",
       "        436.09719849, 123.85195923],\n",
       "       [407.81848145, 440.12734985, 147.87149048, 255.85533142,\n",
       "        436.09719849, 123.85195923]])"
      ]
     },
     "execution_count": 82,
     "metadata": {},
     "output_type": "execute_result"
    }
   ],
   "source": [
    "locations[:,:,0,0]"
   ]
  },
  {
   "cell_type": "code",
   "execution_count": 83,
   "id": "6f640fb6",
   "metadata": {},
   "outputs": [
    {
     "data": {
      "text/plain": [
       "(194, 6, 2)"
      ]
     },
     "execution_count": 83,
     "metadata": {},
     "output_type": "execute_result"
    }
   ],
   "source": [
    "locations[:,:,:,0].shape"
   ]
  },
  {
   "cell_type": "code",
   "execution_count": 85,
   "id": "10fb3db4",
   "metadata": {},
   "outputs": [],
   "source": [
    "m,n,r = locations[:,:,:,0].shape\n",
    "out_arr = np.column_stack((np.repeat(np.arange(m),n),locations[:,:,:,0].reshape(m*n,-1)))\n",
    "out_df = pd.DataFrame(out_arr)"
   ]
  },
  {
   "cell_type": "code",
   "execution_count": 86,
   "id": "30b7a550",
   "metadata": {
    "scrolled": true
   },
   "outputs": [
    {
     "data": {
      "text/html": [
       "<div>\n",
       "<style scoped>\n",
       "    .dataframe tbody tr th:only-of-type {\n",
       "        vertical-align: middle;\n",
       "    }\n",
       "\n",
       "    .dataframe tbody tr th {\n",
       "        vertical-align: top;\n",
       "    }\n",
       "\n",
       "    .dataframe thead th {\n",
       "        text-align: right;\n",
       "    }\n",
       "</style>\n",
       "<table border=\"1\" class=\"dataframe\">\n",
       "  <thead>\n",
       "    <tr style=\"text-align: right;\">\n",
       "      <th></th>\n",
       "      <th>0</th>\n",
       "      <th>1</th>\n",
       "      <th>2</th>\n",
       "    </tr>\n",
       "  </thead>\n",
       "  <tbody>\n",
       "    <tr>\n",
       "      <th>0</th>\n",
       "      <td>0.0</td>\n",
       "      <td>636.185547</td>\n",
       "      <td>763.417114</td>\n",
       "    </tr>\n",
       "    <tr>\n",
       "      <th>1</th>\n",
       "      <td>0.0</td>\n",
       "      <td>731.882202</td>\n",
       "      <td>839.620056</td>\n",
       "    </tr>\n",
       "    <tr>\n",
       "      <th>2</th>\n",
       "      <td>0.0</td>\n",
       "      <td>224.439682</td>\n",
       "      <td>752.243652</td>\n",
       "    </tr>\n",
       "    <tr>\n",
       "      <th>3</th>\n",
       "      <td>0.0</td>\n",
       "      <td>444.066772</td>\n",
       "      <td>736.121643</td>\n",
       "    </tr>\n",
       "    <tr>\n",
       "      <th>4</th>\n",
       "      <td>0.0</td>\n",
       "      <td>559.821533</td>\n",
       "      <td>856.136780</td>\n",
       "    </tr>\n",
       "    <tr>\n",
       "      <th>...</th>\n",
       "      <td>...</td>\n",
       "      <td>...</td>\n",
       "      <td>...</td>\n",
       "    </tr>\n",
       "    <tr>\n",
       "      <th>1159</th>\n",
       "      <td>193.0</td>\n",
       "      <td>440.127350</td>\n",
       "      <td>764.063416</td>\n",
       "    </tr>\n",
       "    <tr>\n",
       "      <th>1160</th>\n",
       "      <td>193.0</td>\n",
       "      <td>147.871490</td>\n",
       "      <td>844.171936</td>\n",
       "    </tr>\n",
       "    <tr>\n",
       "      <th>1161</th>\n",
       "      <td>193.0</td>\n",
       "      <td>255.855331</td>\n",
       "      <td>720.017578</td>\n",
       "    </tr>\n",
       "    <tr>\n",
       "      <th>1162</th>\n",
       "      <td>193.0</td>\n",
       "      <td>436.097198</td>\n",
       "      <td>871.951843</td>\n",
       "    </tr>\n",
       "    <tr>\n",
       "      <th>1163</th>\n",
       "      <td>193.0</td>\n",
       "      <td>123.851959</td>\n",
       "      <td>880.067993</td>\n",
       "    </tr>\n",
       "  </tbody>\n",
       "</table>\n",
       "<p>1164 rows × 3 columns</p>\n",
       "</div>"
      ],
      "text/plain": [
       "          0           1           2\n",
       "0       0.0  636.185547  763.417114\n",
       "1       0.0  731.882202  839.620056\n",
       "2       0.0  224.439682  752.243652\n",
       "3       0.0  444.066772  736.121643\n",
       "4       0.0  559.821533  856.136780\n",
       "...     ...         ...         ...\n",
       "1159  193.0  440.127350  764.063416\n",
       "1160  193.0  147.871490  844.171936\n",
       "1161  193.0  255.855331  720.017578\n",
       "1162  193.0  436.097198  871.951843\n",
       "1163  193.0  123.851959  880.067993\n",
       "\n",
       "[1164 rows x 3 columns]"
      ]
     },
     "execution_count": 86,
     "metadata": {},
     "output_type": "execute_result"
    }
   ],
   "source": [
    "out_df"
   ]
  },
  {
   "cell_type": "code",
   "execution_count": 89,
   "id": "f54799ca",
   "metadata": {},
   "outputs": [
    {
     "data": {
      "text/plain": [
       "array([[636.18554688, 731.88220215, 224.43968201, 444.06677246,\n",
       "        559.8215332 , 168.12338257],\n",
       "       [680.47436523, 775.67022705, 267.95581055, 504.30621338,\n",
       "        564.33746338, 302.61659749],\n",
       "       [715.9987793 , 816.02160645, 343.76968384, 555.70288086,\n",
       "        727.97674561, 437.10981242],\n",
       "       ...,\n",
       "       [407.81848145, 440.12734985, 147.87149048, 255.85533142,\n",
       "        436.09719849, 123.85195923],\n",
       "       [407.81848145, 440.12734985, 147.87149048, 255.85533142,\n",
       "        436.09719849, 123.85195923],\n",
       "       [407.81848145, 440.12734985, 147.87149048, 255.85533142,\n",
       "        436.09719849, 123.85195923]])"
      ]
     },
     "execution_count": 89,
     "metadata": {},
     "output_type": "execute_result"
    }
   ],
   "source": [
    "locations[:,:,0,0]"
   ]
  },
  {
   "cell_type": "code",
   "execution_count": 88,
   "id": "08957d98",
   "metadata": {},
   "outputs": [
    {
     "data": {
      "text/plain": [
       "array([[636.18554688, 731.88220215, 224.43968201, ..., 665.32248942,\n",
       "        752.17095947, 798.02960205],\n",
       "       [512.1338501 , 639.76861572, 818.686561  , ..., 852.06243896,\n",
       "        831.59442139, 728.4574585 ],\n",
       "       [848.08789062, 855.96240234, 796.378479  , ..., 720.01757812,\n",
       "        871.95184326, 880.06799316]])"
      ]
     },
     "execution_count": 88,
     "metadata": {},
     "output_type": "execute_result"
    }
   ],
   "source": [
    "locations[:,:,:,0].transpose(2,0,1).reshape(3,-1)"
   ]
  },
  {
   "cell_type": "code",
   "execution_count": 92,
   "id": "cf1317e2",
   "metadata": {},
   "outputs": [
    {
     "data": {
      "text/plain": [
       "array([[636.18554688, 763.41711426],\n",
       "       [731.88220215, 839.62005615],\n",
       "       [224.43968201, 752.24365234],\n",
       "       [444.06677246, 736.12164307],\n",
       "       [559.8215332 , 856.13677979],\n",
       "       [168.12338257, 887.70623779]])"
      ]
     },
     "execution_count": 92,
     "metadata": {},
     "output_type": "execute_result"
    }
   ],
   "source": [
    "locations[:,:,:,0][0]"
   ]
  },
  {
   "cell_type": "code",
   "execution_count": 91,
   "id": "bc52a0aa",
   "metadata": {},
   "outputs": [
    {
     "data": {
      "text/plain": [
       "(6, 2)"
      ]
     },
     "execution_count": 91,
     "metadata": {},
     "output_type": "execute_result"
    }
   ],
   "source": [
    "locations[:,:,:,0][0].shape"
   ]
  },
  {
   "cell_type": "code",
   "execution_count": 96,
   "id": "d77adbb4",
   "metadata": {},
   "outputs": [],
   "source": [
    "animal_1_array = locations[:,:,:,0].reshape(locations[:,:,:,0].shape[0], (locations[:,:,:,0].shape[1]*locations[:,:,:,0].shape[2]))"
   ]
  },
  {
   "cell_type": "code",
   "execution_count": 97,
   "id": "3b0a6d3f",
   "metadata": {},
   "outputs": [
    {
     "data": {
      "text/plain": [
       "array([[636.18554688, 763.41711426, 731.88220215, ..., 856.13677979,\n",
       "        168.12338257, 887.70623779],\n",
       "       [680.47436523, 764.23657227, 775.67022705, ..., 855.76104736,\n",
       "        302.61659749, 877.08459473],\n",
       "       [715.9987793 , 760.16168213, 816.02160645, ..., 848.21002197,\n",
       "        437.10981242, 866.46295166],\n",
       "       ...,\n",
       "       [407.81848145, 751.7901001 , 440.12734985, ..., 871.95184326,\n",
       "        123.85195923, 880.06799316],\n",
       "       [407.81848145, 751.7901001 , 440.12734985, ..., 871.95184326,\n",
       "        123.85195923, 880.06799316],\n",
       "       [407.81848145, 751.7901001 , 440.12734985, ..., 871.95184326,\n",
       "        123.85195923, 880.06799316]])"
      ]
     },
     "execution_count": 97,
     "metadata": {},
     "output_type": "execute_result"
    }
   ],
   "source": [
    "animal_1_array"
   ]
  },
  {
   "cell_type": "code",
   "execution_count": 99,
   "id": "8709591f",
   "metadata": {},
   "outputs": [],
   "source": [
    "header = pd.MultiIndex.from_product([node_names,\n",
    "                                     ['x', 'y']],\n",
    "                                    names=['nodes','xy'])"
   ]
  },
  {
   "cell_type": "code",
   "execution_count": 100,
   "id": "b186bad0",
   "metadata": {},
   "outputs": [
    {
     "data": {
      "text/html": [
       "<div>\n",
       "<style scoped>\n",
       "    .dataframe tbody tr th:only-of-type {\n",
       "        vertical-align: middle;\n",
       "    }\n",
       "\n",
       "    .dataframe tbody tr th {\n",
       "        vertical-align: top;\n",
       "    }\n",
       "\n",
       "    .dataframe thead tr th {\n",
       "        text-align: left;\n",
       "    }\n",
       "</style>\n",
       "<table border=\"1\" class=\"dataframe\">\n",
       "  <thead>\n",
       "    <tr>\n",
       "      <th>nodes</th>\n",
       "      <th colspan=\"2\" halign=\"left\">ear</th>\n",
       "      <th colspan=\"2\" halign=\"left\">nose</th>\n",
       "      <th colspan=\"2\" halign=\"left\">tail_base</th>\n",
       "      <th colspan=\"2\" halign=\"left\">thorax</th>\n",
       "      <th colspan=\"2\" halign=\"left\">front_foot</th>\n",
       "      <th colspan=\"2\" halign=\"left\">rear_foot</th>\n",
       "    </tr>\n",
       "    <tr>\n",
       "      <th>xy</th>\n",
       "      <th>x</th>\n",
       "      <th>y</th>\n",
       "      <th>x</th>\n",
       "      <th>y</th>\n",
       "      <th>x</th>\n",
       "      <th>y</th>\n",
       "      <th>x</th>\n",
       "      <th>y</th>\n",
       "      <th>x</th>\n",
       "      <th>y</th>\n",
       "      <th>x</th>\n",
       "      <th>y</th>\n",
       "    </tr>\n",
       "  </thead>\n",
       "  <tbody>\n",
       "    <tr>\n",
       "      <th>0</th>\n",
       "      <td>636.185547</td>\n",
       "      <td>763.417114</td>\n",
       "      <td>731.882202</td>\n",
       "      <td>839.620056</td>\n",
       "      <td>224.439682</td>\n",
       "      <td>752.243652</td>\n",
       "      <td>444.066772</td>\n",
       "      <td>736.121643</td>\n",
       "      <td>559.821533</td>\n",
       "      <td>856.136780</td>\n",
       "      <td>168.123383</td>\n",
       "      <td>887.706238</td>\n",
       "    </tr>\n",
       "    <tr>\n",
       "      <th>1</th>\n",
       "      <td>680.474365</td>\n",
       "      <td>764.236572</td>\n",
       "      <td>775.670227</td>\n",
       "      <td>840.258728</td>\n",
       "      <td>267.955811</td>\n",
       "      <td>787.629700</td>\n",
       "      <td>504.306213</td>\n",
       "      <td>728.209900</td>\n",
       "      <td>564.337463</td>\n",
       "      <td>855.761047</td>\n",
       "      <td>302.616597</td>\n",
       "      <td>877.084595</td>\n",
       "    </tr>\n",
       "    <tr>\n",
       "      <th>2</th>\n",
       "      <td>715.998779</td>\n",
       "      <td>760.161682</td>\n",
       "      <td>816.021606</td>\n",
       "      <td>835.621277</td>\n",
       "      <td>343.769684</td>\n",
       "      <td>775.774780</td>\n",
       "      <td>555.702881</td>\n",
       "      <td>731.769897</td>\n",
       "      <td>727.976746</td>\n",
       "      <td>848.210022</td>\n",
       "      <td>437.109812</td>\n",
       "      <td>866.462952</td>\n",
       "    </tr>\n",
       "    <tr>\n",
       "      <th>3</th>\n",
       "      <td>771.855896</td>\n",
       "      <td>771.493469</td>\n",
       "      <td>867.729797</td>\n",
       "      <td>843.865845</td>\n",
       "      <td>395.809326</td>\n",
       "      <td>775.524414</td>\n",
       "      <td>623.946594</td>\n",
       "      <td>724.140747</td>\n",
       "      <td>771.931091</td>\n",
       "      <td>864.343689</td>\n",
       "      <td>571.603027</td>\n",
       "      <td>855.841309</td>\n",
       "    </tr>\n",
       "    <tr>\n",
       "      <th>4</th>\n",
       "      <td>827.882751</td>\n",
       "      <td>767.876892</td>\n",
       "      <td>919.877197</td>\n",
       "      <td>839.806763</td>\n",
       "      <td>440.052307</td>\n",
       "      <td>764.176453</td>\n",
       "      <td>659.968140</td>\n",
       "      <td>723.991455</td>\n",
       "      <td>791.741943</td>\n",
       "      <td>868.098816</td>\n",
       "      <td>580.077698</td>\n",
       "      <td>855.778442</td>\n",
       "    </tr>\n",
       "    <tr>\n",
       "      <th>...</th>\n",
       "      <td>...</td>\n",
       "      <td>...</td>\n",
       "      <td>...</td>\n",
       "      <td>...</td>\n",
       "      <td>...</td>\n",
       "      <td>...</td>\n",
       "      <td>...</td>\n",
       "      <td>...</td>\n",
       "      <td>...</td>\n",
       "      <td>...</td>\n",
       "      <td>...</td>\n",
       "      <td>...</td>\n",
       "    </tr>\n",
       "    <tr>\n",
       "      <th>189</th>\n",
       "      <td>360.130463</td>\n",
       "      <td>743.406555</td>\n",
       "      <td>455.833435</td>\n",
       "      <td>768.313965</td>\n",
       "      <td>147.871490</td>\n",
       "      <td>844.171936</td>\n",
       "      <td>299.962158</td>\n",
       "      <td>723.643066</td>\n",
       "      <td>436.097198</td>\n",
       "      <td>871.951843</td>\n",
       "      <td>127.941246</td>\n",
       "      <td>880.165527</td>\n",
       "    </tr>\n",
       "    <tr>\n",
       "      <th>190</th>\n",
       "      <td>407.818481</td>\n",
       "      <td>751.790100</td>\n",
       "      <td>440.127350</td>\n",
       "      <td>764.063416</td>\n",
       "      <td>147.871490</td>\n",
       "      <td>844.171936</td>\n",
       "      <td>255.855331</td>\n",
       "      <td>720.017578</td>\n",
       "      <td>436.097198</td>\n",
       "      <td>871.951843</td>\n",
       "      <td>123.851959</td>\n",
       "      <td>880.067993</td>\n",
       "    </tr>\n",
       "    <tr>\n",
       "      <th>191</th>\n",
       "      <td>407.818481</td>\n",
       "      <td>751.790100</td>\n",
       "      <td>440.127350</td>\n",
       "      <td>764.063416</td>\n",
       "      <td>147.871490</td>\n",
       "      <td>844.171936</td>\n",
       "      <td>255.855331</td>\n",
       "      <td>720.017578</td>\n",
       "      <td>436.097198</td>\n",
       "      <td>871.951843</td>\n",
       "      <td>123.851959</td>\n",
       "      <td>880.067993</td>\n",
       "    </tr>\n",
       "    <tr>\n",
       "      <th>192</th>\n",
       "      <td>407.818481</td>\n",
       "      <td>751.790100</td>\n",
       "      <td>440.127350</td>\n",
       "      <td>764.063416</td>\n",
       "      <td>147.871490</td>\n",
       "      <td>844.171936</td>\n",
       "      <td>255.855331</td>\n",
       "      <td>720.017578</td>\n",
       "      <td>436.097198</td>\n",
       "      <td>871.951843</td>\n",
       "      <td>123.851959</td>\n",
       "      <td>880.067993</td>\n",
       "    </tr>\n",
       "    <tr>\n",
       "      <th>193</th>\n",
       "      <td>407.818481</td>\n",
       "      <td>751.790100</td>\n",
       "      <td>440.127350</td>\n",
       "      <td>764.063416</td>\n",
       "      <td>147.871490</td>\n",
       "      <td>844.171936</td>\n",
       "      <td>255.855331</td>\n",
       "      <td>720.017578</td>\n",
       "      <td>436.097198</td>\n",
       "      <td>871.951843</td>\n",
       "      <td>123.851959</td>\n",
       "      <td>880.067993</td>\n",
       "    </tr>\n",
       "  </tbody>\n",
       "</table>\n",
       "<p>194 rows × 12 columns</p>\n",
       "</div>"
      ],
      "text/plain": [
       "nodes         ear                    nose               tail_base              \\\n",
       "xy              x           y           x           y           x           y   \n",
       "0      636.185547  763.417114  731.882202  839.620056  224.439682  752.243652   \n",
       "1      680.474365  764.236572  775.670227  840.258728  267.955811  787.629700   \n",
       "2      715.998779  760.161682  816.021606  835.621277  343.769684  775.774780   \n",
       "3      771.855896  771.493469  867.729797  843.865845  395.809326  775.524414   \n",
       "4      827.882751  767.876892  919.877197  839.806763  440.052307  764.176453   \n",
       "..            ...         ...         ...         ...         ...         ...   \n",
       "189    360.130463  743.406555  455.833435  768.313965  147.871490  844.171936   \n",
       "190    407.818481  751.790100  440.127350  764.063416  147.871490  844.171936   \n",
       "191    407.818481  751.790100  440.127350  764.063416  147.871490  844.171936   \n",
       "192    407.818481  751.790100  440.127350  764.063416  147.871490  844.171936   \n",
       "193    407.818481  751.790100  440.127350  764.063416  147.871490  844.171936   \n",
       "\n",
       "nodes      thorax              front_foot               rear_foot              \n",
       "xy              x           y           x           y           x           y  \n",
       "0      444.066772  736.121643  559.821533  856.136780  168.123383  887.706238  \n",
       "1      504.306213  728.209900  564.337463  855.761047  302.616597  877.084595  \n",
       "2      555.702881  731.769897  727.976746  848.210022  437.109812  866.462952  \n",
       "3      623.946594  724.140747  771.931091  864.343689  571.603027  855.841309  \n",
       "4      659.968140  723.991455  791.741943  868.098816  580.077698  855.778442  \n",
       "..            ...         ...         ...         ...         ...         ...  \n",
       "189    299.962158  723.643066  436.097198  871.951843  127.941246  880.165527  \n",
       "190    255.855331  720.017578  436.097198  871.951843  123.851959  880.067993  \n",
       "191    255.855331  720.017578  436.097198  871.951843  123.851959  880.067993  \n",
       "192    255.855331  720.017578  436.097198  871.951843  123.851959  880.067993  \n",
       "193    255.855331  720.017578  436.097198  871.951843  123.851959  880.067993  \n",
       "\n",
       "[194 rows x 12 columns]"
      ]
     },
     "execution_count": 100,
     "metadata": {},
     "output_type": "execute_result"
    }
   ],
   "source": [
    "pd.DataFrame(animal_1_array, columns=header)"
   ]
  },
  {
   "cell_type": "code",
   "execution_count": null,
   "id": "17b1deff",
   "metadata": {},
   "outputs": [],
   "source": []
  }
 ],
 "metadata": {
  "kernelspec": {
   "display_name": "Python [conda env:vame_env] *",
   "language": "python",
   "name": "conda-env-vame_env-py"
  },
  "language_info": {
   "codemirror_mode": {
    "name": "ipython",
    "version": 3
   },
   "file_extension": ".py",
   "mimetype": "text/x-python",
   "name": "python",
   "nbconvert_exporter": "python",
   "pygments_lexer": "ipython3",
   "version": "3.7.16"
  }
 },
 "nbformat": 4,
 "nbformat_minor": 5
}
