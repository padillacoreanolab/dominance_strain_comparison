{
 "cells": [
  {
   "cell_type": "markdown",
   "id": "cd97c972",
   "metadata": {},
   "source": [
    "# Home Cage Observation Fight Chase Plotting"
   ]
  },
  {
   "cell_type": "markdown",
   "id": "2e0f58e4",
   "metadata": {},
   "source": [
    "## Importing other Python Libraries/Modules"
   ]
  },
  {
   "cell_type": "code",
   "execution_count": 1,
   "id": "cf755b46",
   "metadata": {},
   "outputs": [],
   "source": [
    "import re\n",
    "import os\n",
    "import sys\n",
    "import string\n",
    "import glob\n",
    "import ast\n",
    "from collections import Counter\n",
    "from collections import defaultdict\n",
    "import warnings"
   ]
  },
  {
   "cell_type": "code",
   "execution_count": 2,
   "id": "1c9bfe6f",
   "metadata": {},
   "outputs": [],
   "source": [
    "import matplotlib.pyplot as plt\n",
    "import numpy as np\n",
    "import pandas as pd"
   ]
  },
  {
   "cell_type": "code",
   "execution_count": 3,
   "id": "6ea31ca1",
   "metadata": {},
   "outputs": [],
   "source": [
    "# Increase size of plot in jupyter\n",
    "\n",
    "plt.rcParams[\"figure.figsize\"] = (18,10)"
   ]
  },
  {
   "cell_type": "markdown",
   "id": "8b7c1562",
   "metadata": {},
   "source": [
    "# Summary"
   ]
  },
  {
   "cell_type": "markdown",
   "id": "6944ae01",
   "metadata": {},
   "source": [
    "## Name of protocol for naming"
   ]
  },
  {
   "cell_type": "markdown",
   "id": "2aa7153c",
   "metadata": {},
   "source": [
    "- This name will be used to name files and title plots. Please change if you are using a different protocol or adding more details\n",
    "    - **NOTE**: This should be changed based on the name the protocol"
   ]
  },
  {
   "cell_type": "code",
   "execution_count": 4,
   "id": "a8b74f87",
   "metadata": {},
   "outputs": [],
   "source": [
    "protocol_name = \"cage\""
   ]
  },
  {
   "cell_type": "code",
   "execution_count": 5,
   "id": "60d5b1c3",
   "metadata": {},
   "outputs": [],
   "source": [
    "prefix_name = \"hco\""
   ]
  },
  {
   "cell_type": "code",
   "execution_count": 6,
   "id": "af647bb1",
   "metadata": {},
   "outputs": [],
   "source": [
    "cohort_name = \"\""
   ]
  },
  {
   "cell_type": "markdown",
   "id": "a5269e1e",
   "metadata": {},
   "source": [
    "## Getting the file name of the raw data"
   ]
  },
  {
   "cell_type": "markdown",
   "id": "7fe8bdd3",
   "metadata": {},
   "source": [
    "- Default input folder and keyword to search the files for \n",
    "    - **NOTE**: This should not be changed unless there is a consistent change with the file naming convention"
   ]
  },
  {
   "cell_type": "code",
   "execution_count": 7,
   "id": "f7b97a31",
   "metadata": {},
   "outputs": [],
   "source": [
    "input_folder = os.path.join(\".\", \"data\")"
   ]
  },
  {
   "cell_type": "code",
   "execution_count": 8,
   "id": "57f07dee",
   "metadata": {},
   "outputs": [],
   "source": [
    "# Accomodates for both capitalization of the file names\n",
    "raw_data_file_keyword = '*[cC]age*'"
   ]
  },
  {
   "cell_type": "markdown",
   "id": "c077260f",
   "metadata": {},
   "source": [
    "# NOTE: If there is a set excel file used for this notebook, make the cell below into a code cell and put the path in the \"\" (quotation marks)"
   ]
  },
  {
   "cell_type": "code",
   "execution_count": 9,
   "id": "cb949aa6",
   "metadata": {},
   "outputs": [],
   "source": [
    "raw_data_file_path = \"\""
   ]
  },
  {
   "cell_type": "markdown",
   "id": "76ea0990",
   "metadata": {},
   "source": [
    "- Asking the user what the path to the recording files are, with the option of using wildcards"
   ]
  },
  {
   "cell_type": "code",
   "execution_count": 10,
   "id": "906e10d0",
   "metadata": {
    "scrolled": true
   },
   "outputs": [
    {
     "name": "stdout",
     "output_type": "stream",
     "text": [
      "Type out the path(address) of the raw behavioral recording excel sheets.\n",
      "    Remember that if you are using a relative path, it will be based off of the location of this Jupyter Notebook.\n",
      "\n",
      "    Globbing can also be used if you want to search with a wild card(Capitalization matters). \n",
      "    i.e. './data/*Home*' will be able to find './data/Homecage_observations.xlsx'\n",
      "\n",
      "    NOTE: If left blank, the path will automatically be guessed off of the default settings \n",
      "    \n"
     ]
    }
   ],
   "source": [
    "if not raw_data_file_path:\n",
    "    raw_data_glob_pattern = input(\"\"\"Type out the path(address) of the raw behavioral recording excel sheets.\n",
    "    Remember that if you are using a relative path, it will be based off of the location of this Jupyter Notebook.\n",
    "\n",
    "    Globbing can also be used if you want to search with a wild card(Capitalization matters). \n",
    "    i.e. './data/*Home*' will be able to find './data/Homecage_observations.xlsx'\n",
    "\n",
    "    NOTE: If left blank, the path will automatically be guessed off of the default settings \n",
    "    \"\"\")"
   ]
  },
  {
   "cell_type": "markdown",
   "id": "964be5c0",
   "metadata": {},
   "source": [
    "- By default, this will search for files that are in the `./data` folder (in the folder that this notebook is in) that have key word you specified in the file name"
   ]
  },
  {
   "cell_type": "code",
   "execution_count": 11,
   "id": "3d963fb9",
   "metadata": {},
   "outputs": [],
   "source": [
    "if not raw_data_file_path:\n",
    "    # Using the user inputted path/pattern\n",
    "    if raw_data_glob_pattern.strip():\n",
    "        # Getting a list of all matching files\n",
    "        raw_data_files_list = glob.glob(raw_data_glob_pattern.strip(), recursive=True)\n",
    "        # Checking if there were any files that matched\n",
    "        if not raw_data_files_list:\n",
    "            raise ValueError(\"No files were found with the path/pattern of {}. Please rerun the previous cell with the correct path\".format(raw_data_glob_pattern))\n",
    "\n",
    "    # Using the default pattern\n",
    "    else:\n",
    "        raw_data_glob_pattern = os.path.join(input_folder + \"**\", raw_data_file_keyword)\n",
    "        raw_data_files_list = glob.glob(raw_data_glob_pattern.strip(), recursive=True)\n",
    "        # Searching for matching files with recursion\n",
    "        if not raw_data_files_list:\n",
    "            raise ValueError(\"No files were found in {} that had the keyword {} in it\".format(input_folder, raw_data_file_keyword))\n"
   ]
  },
  {
   "cell_type": "code",
   "execution_count": 12,
   "id": "cbb2b352",
   "metadata": {},
   "outputs": [
    {
     "data": {
      "text/plain": [
       "['./data/pilot_1_iwata_Home_Cage_Behaviors_Data.xlsx',\n",
       " './data/pilot_2_iwata_Home_Cage_Behaviors_Data.xlsx',\n",
       " './data/pilot_3_iwata_Home_Cage_Behaviors_Data.xlsx']"
      ]
     },
     "execution_count": 12,
     "metadata": {},
     "output_type": "execute_result"
    }
   ],
   "source": [
    "raw_data_files_list"
   ]
  },
  {
   "cell_type": "markdown",
   "id": "539ffb33",
   "metadata": {},
   "source": [
    "## Getting a list of all the sheets"
   ]
  },
  {
   "cell_type": "code",
   "execution_count": 13,
   "id": "bb3ff67b",
   "metadata": {},
   "outputs": [],
   "source": [
    "file_name_to_sheet_names = defaultdict(dict)\n",
    "for file_path in raw_data_files_list:\n",
    "    # Getting the sheet names for the excel file\n",
    "    xls = pd.ExcelFile(file_path)\n",
    "    file_name = os.path.basename(file_path)\n",
    "    file_name_to_sheet_names[file_name][\"sheet_names\"] = [sheet for sheet in xls.sheet_names if \"CAGE\" in sheet]\n",
    "    file_name_to_sheet_names[file_name][\"file_path\"] = file_path\n",
    "    file_name_to_sheet_names[file_name][\"pilot\"] = file_name.split(\"_\")[1]\n"
   ]
  },
  {
   "cell_type": "markdown",
   "id": "c08d5f17",
   "metadata": {},
   "source": [
    "- Getting the dataframe for each file"
   ]
  },
  {
   "cell_type": "code",
   "execution_count": 14,
   "id": "cdcbb67c",
   "metadata": {},
   "outputs": [],
   "source": [
    "for file_name, value in file_name_to_sheet_names.items():\n",
    "    value[\"hco_dataframe\"] = {}\n",
    "    for sheet in value[\"sheet_names\"]:\n",
    "        if \"Unnamed: 0\" in pd.read_excel(value[\"file_path\"], sheet_name=sheet).columns:\n",
    "            value[\"hco_dataframe\"][sheet] = pd.read_excel(value[\"file_path\"], sheet_name=sheet, header=1)\n",
    "        else:\n",
    "            value[\"hco_dataframe\"][sheet] = pd.read_excel(value[\"file_path\"], sheet_name=sheet)\n",
    "        value[\"hco_dataframe\"][sheet][\"cage\"] = sheet\n",
    "        value[\"hco_dataframe\"][sheet][\"pilot\"] = value[\"pilot\"]"
   ]
  },
  {
   "cell_type": "code",
   "execution_count": 15,
   "id": "9ebd157c",
   "metadata": {},
   "outputs": [
    {
     "data": {
      "text/html": [
       "<div>\n",
       "<style scoped>\n",
       "    .dataframe tbody tr th:only-of-type {\n",
       "        vertical-align: middle;\n",
       "    }\n",
       "\n",
       "    .dataframe tbody tr th {\n",
       "        vertical-align: top;\n",
       "    }\n",
       "\n",
       "    .dataframe thead th {\n",
       "        text-align: right;\n",
       "    }\n",
       "</style>\n",
       "<table border=\"1\" class=\"dataframe\">\n",
       "  <thead>\n",
       "    <tr style=\"text-align: right;\">\n",
       "      <th></th>\n",
       "      <th>observer</th>\n",
       "      <th>notes</th>\n",
       "      <th>length of observations</th>\n",
       "      <th>date</th>\n",
       "      <th>cage #</th>\n",
       "      <th>winner</th>\n",
       "      <th>loser</th>\n",
       "      <th>action</th>\n",
       "      <th>removed_subject_id</th>\n",
       "      <th>cage</th>\n",
       "      <th>pilot</th>\n",
       "    </tr>\n",
       "  </thead>\n",
       "  <tbody>\n",
       "    <tr>\n",
       "      <th>0</th>\n",
       "      <td>Meghan</td>\n",
       "      <td>12:40 - 1:10; a few hours after tube testing</td>\n",
       "      <td>30</td>\n",
       "      <td>2022-09-07</td>\n",
       "      <td>6</td>\n",
       "      <td>NaN</td>\n",
       "      <td>NaN</td>\n",
       "      <td>NaN</td>\n",
       "      <td>NaN</td>\n",
       "      <td>CAGE6</td>\n",
       "      <td>3</td>\n",
       "    </tr>\n",
       "    <tr>\n",
       "      <th>1</th>\n",
       "      <td>Meghan</td>\n",
       "      <td>12:30-1PM; isolated for 45 min, did tube test ...</td>\n",
       "      <td>30</td>\n",
       "      <td>2022-09-08</td>\n",
       "      <td>6</td>\n",
       "      <td>NaN</td>\n",
       "      <td>NaN</td>\n",
       "      <td>NaN</td>\n",
       "      <td>NaN</td>\n",
       "      <td>CAGE6</td>\n",
       "      <td>3</td>\n",
       "    </tr>\n",
       "    <tr>\n",
       "      <th>2</th>\n",
       "      <td>Meghan</td>\n",
       "      <td>2:17-2:47PM; after 3 hours of isolation</td>\n",
       "      <td>30</td>\n",
       "      <td>2022-09-14</td>\n",
       "      <td>6</td>\n",
       "      <td>NaN</td>\n",
       "      <td>NaN</td>\n",
       "      <td>NaN</td>\n",
       "      <td>NaN</td>\n",
       "      <td>CAGE6</td>\n",
       "      <td>3</td>\n",
       "    </tr>\n",
       "    <tr>\n",
       "      <th>3</th>\n",
       "      <td>Jocelyn</td>\n",
       "      <td>9:12-9:42pm, nothing</td>\n",
       "      <td>30</td>\n",
       "      <td>2022-09-19</td>\n",
       "      <td>6</td>\n",
       "      <td>NaN</td>\n",
       "      <td>NaN</td>\n",
       "      <td>NaN</td>\n",
       "      <td>NaN</td>\n",
       "      <td>CAGE6</td>\n",
       "      <td>3</td>\n",
       "    </tr>\n",
       "    <tr>\n",
       "      <th>4</th>\n",
       "      <td>Naeliz</td>\n",
       "      <td>start 2:21pm, right after RT, nothing happened...</td>\n",
       "      <td>30</td>\n",
       "      <td>2022-09-21</td>\n",
       "      <td>6</td>\n",
       "      <td>NaN</td>\n",
       "      <td>NaN</td>\n",
       "      <td>NaN</td>\n",
       "      <td>NaN</td>\n",
       "      <td>CAGE6</td>\n",
       "      <td>3</td>\n",
       "    </tr>\n",
       "    <tr>\n",
       "      <th>5</th>\n",
       "      <td>Naeliz</td>\n",
       "      <td>start3:35pm, right after Rt, no before feed, o...</td>\n",
       "      <td>30</td>\n",
       "      <td>2022-09-23</td>\n",
       "      <td>6</td>\n",
       "      <td>NaN</td>\n",
       "      <td>NaN</td>\n",
       "      <td>NaN</td>\n",
       "      <td>NaN</td>\n",
       "      <td>CAGE6</td>\n",
       "      <td>3</td>\n",
       "    </tr>\n",
       "  </tbody>\n",
       "</table>\n",
       "</div>"
      ],
      "text/plain": [
       "  observer                                             notes   \\\n",
       "0   Meghan       12:40 - 1:10; a few hours after tube testing   \n",
       "1   Meghan  12:30-1PM; isolated for 45 min, did tube test ...   \n",
       "2   Meghan            2:17-2:47PM; after 3 hours of isolation   \n",
       "3  Jocelyn                               9:12-9:42pm, nothing   \n",
       "4   Naeliz  start 2:21pm, right after RT, nothing happened...   \n",
       "5   Naeliz  start3:35pm, right after Rt, no before feed, o...   \n",
       "\n",
       "   length of observations       date  cage #  winner  loser  action  \\\n",
       "0                      30 2022-09-07       6     NaN    NaN     NaN   \n",
       "1                      30 2022-09-08       6     NaN    NaN     NaN   \n",
       "2                      30 2022-09-14       6     NaN    NaN     NaN   \n",
       "3                      30 2022-09-19       6     NaN    NaN     NaN   \n",
       "4                      30 2022-09-21       6     NaN    NaN     NaN   \n",
       "5                      30 2022-09-23       6     NaN    NaN     NaN   \n",
       "\n",
       "   removed_subject_id   cage pilot  \n",
       "0                 NaN  CAGE6     3  \n",
       "1                 NaN  CAGE6     3  \n",
       "2                 NaN  CAGE6     3  \n",
       "3                 NaN  CAGE6     3  \n",
       "4                 NaN  CAGE6     3  \n",
       "5                 NaN  CAGE6     3  "
      ]
     },
     "execution_count": 15,
     "metadata": {},
     "output_type": "execute_result"
    }
   ],
   "source": [
    "value[\"hco_dataframe\"][\"CAGE6\"]"
   ]
  },
  {
   "cell_type": "markdown",
   "id": "15834e87",
   "metadata": {},
   "source": [
    "## Standarizing the Columns"
   ]
  },
  {
   "cell_type": "markdown",
   "id": "af7890d3",
   "metadata": {},
   "source": [
    "- Making all the column names lower case and removing any extra spaces in the beginning and at the end\n",
    "    - One dictionary per sheet"
   ]
  },
  {
   "cell_type": "code",
   "execution_count": 16,
   "id": "fa920f0d",
   "metadata": {},
   "outputs": [],
   "source": [
    "for file_name, file_value in file_name_to_sheet_names.items():\n",
    "    for sheet, sheet_value in file_value[\"hco_dataframe\"].items():\n",
    "        # Creating a dictionary that maps the original column name to the standarized one\n",
    "        column_name_to_standarized = defaultdict(dict)\n",
    "        for col in sheet_value:\n",
    "            # Making the column name lower case and removing the spaces\n",
    "            column_name_to_standarized[col] = \"_\".join(str(col).lower().strip().split(\" \"))\n",
    "        file_name_to_sheet_names[file_name][\"hco_dataframe\"][sheet] = sheet_value.rename(columns=column_name_to_standarized)"
   ]
  },
  {
   "cell_type": "markdown",
   "id": "c296e765",
   "metadata": {},
   "source": [
    "## Combining All Dataframes"
   ]
  },
  {
   "cell_type": "code",
   "execution_count": 17,
   "id": "ac55c30e",
   "metadata": {},
   "outputs": [
    {
     "name": "stdout",
     "output_type": "stream",
     "text": [
      "pilot_1_iwata_Home_Cage_Behaviors_Data.xlsx\n",
      "pilot_2_iwata_Home_Cage_Behaviors_Data.xlsx\n",
      "pilot_3_iwata_Home_Cage_Behaviors_Data.xlsx\n"
     ]
    }
   ],
   "source": [
    "all_dataframes = []\n",
    "for file_name, file_value in file_name_to_sheet_names.items():\n",
    "    print(file_name)\n",
    "    for sheet, sheet_value in file_value[\"hco_dataframe\"].items():\n",
    "        all_dataframes.append(sheet_value)"
   ]
  },
  {
   "cell_type": "code",
   "execution_count": 18,
   "id": "316fe934",
   "metadata": {},
   "outputs": [],
   "source": [
    "concatted_all_dataframe = pd.concat(all_dataframes)"
   ]
  },
  {
   "cell_type": "code",
   "execution_count": 19,
   "id": "9cc0d4f9",
   "metadata": {},
   "outputs": [
    {
     "data": {
      "text/plain": [
       "Index(['oberserver', 'notes', 'length_of_observations', 'date', 'cage_#',\n",
       "       'winner', 'loser', 'action', 'removed_subject_id', '1', '2', '3', '4',\n",
       "       'cage', 'pilot', 'unnamed:_9', 'unnamed:_10', 'unnamed:_11',\n",
       "       'unnamed:_12', 'observer', 'initiator', 'reciever', 'as_count',\n",
       "       'face_sniffing_count', 'fs_count'],\n",
       "      dtype='object')"
      ]
     },
     "execution_count": 19,
     "metadata": {},
     "output_type": "execute_result"
    }
   ],
   "source": [
    "concatted_all_dataframe.columns"
   ]
  },
  {
   "cell_type": "code",
   "execution_count": 20,
   "id": "0916c93b",
   "metadata": {},
   "outputs": [],
   "source": [
    "concatted_all_dataframe = concatted_all_dataframe[['notes', 'date', 'winner', 'loser', 'action', 'cage', 'pilot', 'length_of_observations', 'removed_subject_id']]"
   ]
  },
  {
   "cell_type": "markdown",
   "id": "0d4e5d68",
   "metadata": {},
   "source": [
    "## Preprocessing the dataframes"
   ]
  },
  {
   "cell_type": "markdown",
   "id": "5de2e8c9",
   "metadata": {},
   "source": [
    "- Removing all rows that don't involve HCO\n",
    "    - Anything tube test related or other ways incomprehensible, I have labled \"NA\" in removed_subject_id"
   ]
  },
  {
   "cell_type": "code",
   "execution_count": 21,
   "id": "88c424bb",
   "metadata": {},
   "outputs": [
    {
     "data": {
      "text/html": [
       "<div>\n",
       "<style scoped>\n",
       "    .dataframe tbody tr th:only-of-type {\n",
       "        vertical-align: middle;\n",
       "    }\n",
       "\n",
       "    .dataframe tbody tr th {\n",
       "        vertical-align: top;\n",
       "    }\n",
       "\n",
       "    .dataframe thead th {\n",
       "        text-align: right;\n",
       "    }\n",
       "</style>\n",
       "<table border=\"1\" class=\"dataframe\">\n",
       "  <thead>\n",
       "    <tr style=\"text-align: right;\">\n",
       "      <th></th>\n",
       "      <th>notes</th>\n",
       "      <th>date</th>\n",
       "      <th>winner</th>\n",
       "      <th>loser</th>\n",
       "      <th>action</th>\n",
       "      <th>cage</th>\n",
       "      <th>pilot</th>\n",
       "      <th>length_of_observations</th>\n",
       "      <th>removed_subject_id</th>\n",
       "    </tr>\n",
       "  </thead>\n",
       "  <tbody>\n",
       "    <tr>\n",
       "      <th>172</th>\n",
       "      <td>C57</td>\n",
       "      <td>2022-07-06</td>\n",
       "      <td>1.3</td>\n",
       "      <td>1.2</td>\n",
       "      <td>fs</td>\n",
       "      <td>CAGE1</td>\n",
       "      <td>2</td>\n",
       "      <td>30.0</td>\n",
       "      <td>remove</td>\n",
       "    </tr>\n",
       "    <tr>\n",
       "      <th>173</th>\n",
       "      <td>#4 remove</td>\n",
       "      <td>NaT</td>\n",
       "      <td>1.2</td>\n",
       "      <td>1.4</td>\n",
       "      <td>as</td>\n",
       "      <td>CAGE1</td>\n",
       "      <td>2</td>\n",
       "      <td>NaN</td>\n",
       "      <td>remove</td>\n",
       "    </tr>\n",
       "    <tr>\n",
       "      <th>174</th>\n",
       "      <td>lots of exploration</td>\n",
       "      <td>NaT</td>\n",
       "      <td>1.1</td>\n",
       "      <td>1.4</td>\n",
       "      <td>fs</td>\n",
       "      <td>CAGE1</td>\n",
       "      <td>2</td>\n",
       "      <td>NaN</td>\n",
       "      <td>remove</td>\n",
       "    </tr>\n",
       "    <tr>\n",
       "      <th>175</th>\n",
       "      <td>grooming and bald patches</td>\n",
       "      <td>NaT</td>\n",
       "      <td>1.2</td>\n",
       "      <td>1.1</td>\n",
       "      <td>as</td>\n",
       "      <td>CAGE1</td>\n",
       "      <td>2</td>\n",
       "      <td>NaN</td>\n",
       "      <td>remove</td>\n",
       "    </tr>\n",
       "    <tr>\n",
       "      <th>176</th>\n",
       "      <td>NaN</td>\n",
       "      <td>NaT</td>\n",
       "      <td>1.4</td>\n",
       "      <td>1.1</td>\n",
       "      <td>fs</td>\n",
       "      <td>CAGE1</td>\n",
       "      <td>2</td>\n",
       "      <td>NaN</td>\n",
       "      <td>remove</td>\n",
       "    </tr>\n",
       "  </tbody>\n",
       "</table>\n",
       "</div>"
      ],
      "text/plain": [
       "                         notes       date  winner  loser action   cage pilot  \\\n",
       "172                        C57 2022-07-06     1.3    1.2     fs  CAGE1     2   \n",
       "173                 #4 remove         NaT     1.2    1.4     as  CAGE1     2   \n",
       "174       lots of exploration         NaT     1.1    1.4     fs  CAGE1     2   \n",
       "175  grooming and bald patches        NaT     1.2    1.1     as  CAGE1     2   \n",
       "176                        NaN        NaT     1.4    1.1     fs  CAGE1     2   \n",
       "\n",
       "     length_of_observations removed_subject_id  \n",
       "172                    30.0             remove  \n",
       "173                     NaN             remove  \n",
       "174                     NaN             remove  \n",
       "175                     NaN             remove  \n",
       "176                     NaN             remove  "
      ]
     },
     "execution_count": 21,
     "metadata": {},
     "output_type": "execute_result"
    }
   ],
   "source": [
    "concatted_all_dataframe[concatted_all_dataframe[\"removed_subject_id\"] == \"remove\"].head()"
   ]
  },
  {
   "cell_type": "code",
   "execution_count": 22,
   "id": "69102cbc",
   "metadata": {},
   "outputs": [],
   "source": [
    "concatted_all_dataframe = concatted_all_dataframe[~(concatted_all_dataframe[\"removed_subject_id\"] == \"remove\")]"
   ]
  },
  {
   "cell_type": "code",
   "execution_count": 23,
   "id": "898dc4a5",
   "metadata": {},
   "outputs": [
    {
     "data": {
      "text/plain": [
       "array([nan, 3.1, 4.4, 1.1, 1.2, 2.3, 2.2, 2.1, 4.1, 5.3, 6.1, 4.3, 5.1],\n",
       "      dtype=object)"
      ]
     },
     "execution_count": 23,
     "metadata": {},
     "output_type": "execute_result"
    }
   ],
   "source": [
    "concatted_all_dataframe[\"removed_subject_id\"].unique()"
   ]
  },
  {
   "cell_type": "markdown",
   "id": "8be40fd8",
   "metadata": {},
   "source": [
    "- Fixing the actions, like filling in the rows with no actions as \"NA\""
   ]
  },
  {
   "cell_type": "code",
   "execution_count": 24,
   "id": "1da60e53",
   "metadata": {},
   "outputs": [
    {
     "data": {
      "text/plain": [
       "array(['c', 'f', 'g', 'groom (g)', nan, 'mount (m)', 'm', 'fs', 'ag',\n",
       "       'as', 'fs ', 'ag ', 'as ', 'f ', 'b', 's'], dtype=object)"
      ]
     },
     "execution_count": 24,
     "metadata": {},
     "output_type": "execute_result"
    }
   ],
   "source": [
    "concatted_all_dataframe[\"action\"].unique()"
   ]
  },
  {
   "cell_type": "code",
   "execution_count": 25,
   "id": "baeb08ea",
   "metadata": {},
   "outputs": [
    {
     "data": {
      "text/html": [
       "<div>\n",
       "<style scoped>\n",
       "    .dataframe tbody tr th:only-of-type {\n",
       "        vertical-align: middle;\n",
       "    }\n",
       "\n",
       "    .dataframe tbody tr th {\n",
       "        vertical-align: top;\n",
       "    }\n",
       "\n",
       "    .dataframe thead th {\n",
       "        text-align: right;\n",
       "    }\n",
       "</style>\n",
       "<table border=\"1\" class=\"dataframe\">\n",
       "  <thead>\n",
       "    <tr style=\"text-align: right;\">\n",
       "      <th></th>\n",
       "      <th>notes</th>\n",
       "      <th>date</th>\n",
       "      <th>winner</th>\n",
       "      <th>loser</th>\n",
       "      <th>action</th>\n",
       "      <th>cage</th>\n",
       "      <th>pilot</th>\n",
       "      <th>length_of_observations</th>\n",
       "      <th>removed_subject_id</th>\n",
       "    </tr>\n",
       "  </thead>\n",
       "  <tbody>\n",
       "    <tr>\n",
       "      <th>0</th>\n",
       "      <td>isolated all animals for 30 min. then reintrod...</td>\n",
       "      <td>2022-05-04</td>\n",
       "      <td>3.1</td>\n",
       "      <td>3.4</td>\n",
       "      <td>c</td>\n",
       "      <td>CAGE3</td>\n",
       "      <td>1</td>\n",
       "      <td>30.0</td>\n",
       "      <td>NaN</td>\n",
       "    </tr>\n",
       "    <tr>\n",
       "      <th>1</th>\n",
       "      <td>NaN</td>\n",
       "      <td>NaT</td>\n",
       "      <td>3.1</td>\n",
       "      <td>3.4</td>\n",
       "      <td>f</td>\n",
       "      <td>CAGE3</td>\n",
       "      <td>1</td>\n",
       "      <td>NaN</td>\n",
       "      <td>NaN</td>\n",
       "    </tr>\n",
       "    <tr>\n",
       "      <th>2</th>\n",
       "      <td>NaN</td>\n",
       "      <td>NaT</td>\n",
       "      <td>3.1</td>\n",
       "      <td>3.2</td>\n",
       "      <td>f</td>\n",
       "      <td>CAGE3</td>\n",
       "      <td>1</td>\n",
       "      <td>NaN</td>\n",
       "      <td>NaN</td>\n",
       "    </tr>\n",
       "    <tr>\n",
       "      <th>3</th>\n",
       "      <td>NaN</td>\n",
       "      <td>NaT</td>\n",
       "      <td>3.1</td>\n",
       "      <td>3.4</td>\n",
       "      <td>f</td>\n",
       "      <td>CAGE3</td>\n",
       "      <td>1</td>\n",
       "      <td>NaN</td>\n",
       "      <td>NaN</td>\n",
       "    </tr>\n",
       "    <tr>\n",
       "      <th>4</th>\n",
       "      <td>NaN</td>\n",
       "      <td>NaT</td>\n",
       "      <td>3.1</td>\n",
       "      <td>3.2</td>\n",
       "      <td>f</td>\n",
       "      <td>CAGE3</td>\n",
       "      <td>1</td>\n",
       "      <td>NaN</td>\n",
       "      <td>NaN</td>\n",
       "    </tr>\n",
       "  </tbody>\n",
       "</table>\n",
       "</div>"
      ],
      "text/plain": [
       "                                               notes       date  winner  \\\n",
       "0  isolated all animals for 30 min. then reintrod... 2022-05-04     3.1   \n",
       "1                                                NaN        NaT     3.1   \n",
       "2                                                NaN        NaT     3.1   \n",
       "3                                                NaN        NaT     3.1   \n",
       "4                                                NaN        NaT     3.1   \n",
       "\n",
       "   loser action   cage pilot  length_of_observations removed_subject_id  \n",
       "0    3.4      c  CAGE3     1                    30.0                NaN  \n",
       "1    3.4      f  CAGE3     1                     NaN                NaN  \n",
       "2    3.2      f  CAGE3     1                     NaN                NaN  \n",
       "3    3.4      f  CAGE3     1                     NaN                NaN  \n",
       "4    3.2      f  CAGE3     1                     NaN                NaN  "
      ]
     },
     "execution_count": 25,
     "metadata": {},
     "output_type": "execute_result"
    }
   ],
   "source": [
    "concatted_all_dataframe.head()"
   ]
  },
  {
   "cell_type": "code",
   "execution_count": 26,
   "id": "b0c21601",
   "metadata": {},
   "outputs": [],
   "source": [
    "concatted_all_dataframe[\"action\"] = concatted_all_dataframe[\"action\"].fillna(\"NA\")"
   ]
  },
  {
   "cell_type": "code",
   "execution_count": 27,
   "id": "8188255a",
   "metadata": {},
   "outputs": [],
   "source": [
    "concatted_all_dataframe[\"action\"] = concatted_all_dataframe[\"action\"].apply(lambda x: x.strip())"
   ]
  },
  {
   "cell_type": "code",
   "execution_count": 28,
   "id": "baa9e1f7",
   "metadata": {},
   "outputs": [
    {
     "data": {
      "text/plain": [
       "array(['c', 'f', 'g', 'groom (g)', 'NA', 'mount (m)', 'm', 'fs', 'ag',\n",
       "       'as', 'b', 's'], dtype=object)"
      ]
     },
     "execution_count": 28,
     "metadata": {},
     "output_type": "execute_result"
    }
   ],
   "source": [
    "concatted_all_dataframe[\"action\"].unique()"
   ]
  },
  {
   "cell_type": "markdown",
   "id": "16d68bb3",
   "metadata": {},
   "source": [
    "- Getting the rows where the dates first appear"
   ]
  },
  {
   "cell_type": "code",
   "execution_count": 29,
   "id": "4ca71502",
   "metadata": {},
   "outputs": [
    {
     "data": {
      "text/html": [
       "<div>\n",
       "<style scoped>\n",
       "    .dataframe tbody tr th:only-of-type {\n",
       "        vertical-align: middle;\n",
       "    }\n",
       "\n",
       "    .dataframe tbody tr th {\n",
       "        vertical-align: top;\n",
       "    }\n",
       "\n",
       "    .dataframe thead th {\n",
       "        text-align: right;\n",
       "    }\n",
       "</style>\n",
       "<table border=\"1\" class=\"dataframe\">\n",
       "  <thead>\n",
       "    <tr style=\"text-align: right;\">\n",
       "      <th></th>\n",
       "      <th>notes</th>\n",
       "      <th>date</th>\n",
       "      <th>winner</th>\n",
       "      <th>loser</th>\n",
       "      <th>action</th>\n",
       "      <th>cage</th>\n",
       "      <th>pilot</th>\n",
       "      <th>length_of_observations</th>\n",
       "      <th>removed_subject_id</th>\n",
       "    </tr>\n",
       "  </thead>\n",
       "  <tbody>\n",
       "    <tr>\n",
       "      <th>0</th>\n",
       "      <td>isolated all animals for 30 min. then reintrod...</td>\n",
       "      <td>2022-05-04</td>\n",
       "      <td>3.1</td>\n",
       "      <td>3.4</td>\n",
       "      <td>c</td>\n",
       "      <td>CAGE3</td>\n",
       "      <td>1</td>\n",
       "      <td>30.0</td>\n",
       "      <td>NaN</td>\n",
       "    </tr>\n",
       "    <tr>\n",
       "      <th>26</th>\n",
       "      <td>right after tubetesting, and without dominant ...</td>\n",
       "      <td>2022-05-05</td>\n",
       "      <td>3.4</td>\n",
       "      <td>3.3</td>\n",
       "      <td>f</td>\n",
       "      <td>CAGE3</td>\n",
       "      <td>1</td>\n",
       "      <td>30.0</td>\n",
       "      <td>NaN</td>\n",
       "    </tr>\n",
       "    <tr>\n",
       "      <th>34</th>\n",
       "      <td>right after tubetesting, and without dominant ...</td>\n",
       "      <td>2022-05-06</td>\n",
       "      <td>3.2</td>\n",
       "      <td>3.3</td>\n",
       "      <td>g</td>\n",
       "      <td>CAGE3</td>\n",
       "      <td>1</td>\n",
       "      <td>30.0</td>\n",
       "      <td>NaN</td>\n",
       "    </tr>\n",
       "    <tr>\n",
       "      <th>39</th>\n",
       "      <td>powervacuum in cage 3, wasnt able to reintrodu...</td>\n",
       "      <td>2022-05-11</td>\n",
       "      <td>3.3</td>\n",
       "      <td>3.4</td>\n",
       "      <td>c</td>\n",
       "      <td>CAGE3</td>\n",
       "      <td>1</td>\n",
       "      <td>30.0</td>\n",
       "      <td>3.1</td>\n",
       "    </tr>\n",
       "    <tr>\n",
       "      <th>51</th>\n",
       "      <td>homecage observation in their regular homecage...</td>\n",
       "      <td>2022-05-13</td>\n",
       "      <td>3.1</td>\n",
       "      <td>3.4</td>\n",
       "      <td>f</td>\n",
       "      <td>CAGE3</td>\n",
       "      <td>1</td>\n",
       "      <td>30.0</td>\n",
       "      <td>NaN</td>\n",
       "    </tr>\n",
       "  </tbody>\n",
       "</table>\n",
       "</div>"
      ],
      "text/plain": [
       "                                                notes       date  winner  \\\n",
       "0   isolated all animals for 30 min. then reintrod... 2022-05-04     3.1   \n",
       "26  right after tubetesting, and without dominant ... 2022-05-05     3.4   \n",
       "34  right after tubetesting, and without dominant ... 2022-05-06     3.2   \n",
       "39  powervacuum in cage 3, wasnt able to reintrodu... 2022-05-11     3.3   \n",
       "51  homecage observation in their regular homecage... 2022-05-13     3.1   \n",
       "\n",
       "    loser action   cage pilot  length_of_observations removed_subject_id  \n",
       "0     3.4      c  CAGE3     1                    30.0                NaN  \n",
       "26    3.3      f  CAGE3     1                    30.0                NaN  \n",
       "34    3.3      g  CAGE3     1                    30.0                NaN  \n",
       "39    3.4      c  CAGE3     1                    30.0                3.1  \n",
       "51    3.4      f  CAGE3     1                    30.0                NaN  "
      ]
     },
     "execution_count": 29,
     "metadata": {},
     "output_type": "execute_result"
    }
   ],
   "source": [
    "concatted_all_dataframe[~(concatted_all_dataframe[\"date\"].isna())].head()"
   ]
  },
  {
   "cell_type": "code",
   "execution_count": 30,
   "id": "bbbbf8bf",
   "metadata": {},
   "outputs": [],
   "source": [
    "concatted_all_dataframe[\"new_session\"] = False"
   ]
  },
  {
   "cell_type": "code",
   "execution_count": 31,
   "id": "21656784",
   "metadata": {},
   "outputs": [],
   "source": [
    "concatted_all_dataframe.loc[~(concatted_all_dataframe[\"date\"].isna()), 'new_session'] = True"
   ]
  },
  {
   "cell_type": "markdown",
   "id": "01d928a9",
   "metadata": {},
   "source": [
    "- Getting the session number"
   ]
  },
  {
   "cell_type": "code",
   "execution_count": 32,
   "id": "a142b662",
   "metadata": {},
   "outputs": [],
   "source": [
    "concatted_all_dataframe = concatted_all_dataframe.reset_index(drop = True)\n",
    "concatted_all_dataframe = concatted_all_dataframe.reset_index(drop = False)\n"
   ]
  },
  {
   "cell_type": "code",
   "execution_count": 33,
   "id": "092ab1d4",
   "metadata": {},
   "outputs": [],
   "source": [
    "first_row_of_each_date = concatted_all_dataframe[~(concatted_all_dataframe[\"date\"].isna())].index"
   ]
  },
  {
   "cell_type": "code",
   "execution_count": 34,
   "id": "c68fbed3",
   "metadata": {},
   "outputs": [],
   "source": [
    "concatted_all_dataframe[\"session_number\"] = concatted_all_dataframe[\"index\"].apply(lambda x: list(first_row_of_each_date).index(x) if x in first_row_of_each_date else np.nan)"
   ]
  },
  {
   "cell_type": "markdown",
   "id": "4c2e3d89",
   "metadata": {},
   "source": [
    "- Filling in the missing rows"
   ]
  },
  {
   "cell_type": "code",
   "execution_count": 35,
   "id": "91fb1e7e",
   "metadata": {},
   "outputs": [],
   "source": [
    "concatted_all_dataframe[\"date\"] = concatted_all_dataframe[\"date\"].ffill()\n",
    "concatted_all_dataframe[\"length_of_observations\"] = concatted_all_dataframe[\"length_of_observations\"].ffill()\n",
    "concatted_all_dataframe[\"session_number\"] = concatted_all_dataframe[\"session_number\"].ffill()"
   ]
  },
  {
   "cell_type": "code",
   "execution_count": 36,
   "id": "4efce5b6",
   "metadata": {
    "scrolled": true
   },
   "outputs": [
    {
     "data": {
      "text/html": [
       "<div>\n",
       "<style scoped>\n",
       "    .dataframe tbody tr th:only-of-type {\n",
       "        vertical-align: middle;\n",
       "    }\n",
       "\n",
       "    .dataframe tbody tr th {\n",
       "        vertical-align: top;\n",
       "    }\n",
       "\n",
       "    .dataframe thead th {\n",
       "        text-align: right;\n",
       "    }\n",
       "</style>\n",
       "<table border=\"1\" class=\"dataframe\">\n",
       "  <thead>\n",
       "    <tr style=\"text-align: right;\">\n",
       "      <th></th>\n",
       "      <th>index</th>\n",
       "      <th>notes</th>\n",
       "      <th>date</th>\n",
       "      <th>winner</th>\n",
       "      <th>loser</th>\n",
       "      <th>action</th>\n",
       "      <th>cage</th>\n",
       "      <th>pilot</th>\n",
       "      <th>length_of_observations</th>\n",
       "      <th>removed_subject_id</th>\n",
       "      <th>new_session</th>\n",
       "      <th>session_number</th>\n",
       "    </tr>\n",
       "  </thead>\n",
       "  <tbody>\n",
       "    <tr>\n",
       "      <th>0</th>\n",
       "      <td>0</td>\n",
       "      <td>isolated all animals for 30 min. then reintrod...</td>\n",
       "      <td>2022-05-04</td>\n",
       "      <td>3.1</td>\n",
       "      <td>3.4</td>\n",
       "      <td>c</td>\n",
       "      <td>CAGE3</td>\n",
       "      <td>1</td>\n",
       "      <td>30.0</td>\n",
       "      <td>NaN</td>\n",
       "      <td>True</td>\n",
       "      <td>0.0</td>\n",
       "    </tr>\n",
       "    <tr>\n",
       "      <th>1</th>\n",
       "      <td>1</td>\n",
       "      <td>NaN</td>\n",
       "      <td>2022-05-04</td>\n",
       "      <td>3.1</td>\n",
       "      <td>3.4</td>\n",
       "      <td>f</td>\n",
       "      <td>CAGE3</td>\n",
       "      <td>1</td>\n",
       "      <td>30.0</td>\n",
       "      <td>NaN</td>\n",
       "      <td>False</td>\n",
       "      <td>0.0</td>\n",
       "    </tr>\n",
       "    <tr>\n",
       "      <th>2</th>\n",
       "      <td>2</td>\n",
       "      <td>NaN</td>\n",
       "      <td>2022-05-04</td>\n",
       "      <td>3.1</td>\n",
       "      <td>3.2</td>\n",
       "      <td>f</td>\n",
       "      <td>CAGE3</td>\n",
       "      <td>1</td>\n",
       "      <td>30.0</td>\n",
       "      <td>NaN</td>\n",
       "      <td>False</td>\n",
       "      <td>0.0</td>\n",
       "    </tr>\n",
       "    <tr>\n",
       "      <th>3</th>\n",
       "      <td>3</td>\n",
       "      <td>NaN</td>\n",
       "      <td>2022-05-04</td>\n",
       "      <td>3.1</td>\n",
       "      <td>3.4</td>\n",
       "      <td>f</td>\n",
       "      <td>CAGE3</td>\n",
       "      <td>1</td>\n",
       "      <td>30.0</td>\n",
       "      <td>NaN</td>\n",
       "      <td>False</td>\n",
       "      <td>0.0</td>\n",
       "    </tr>\n",
       "    <tr>\n",
       "      <th>4</th>\n",
       "      <td>4</td>\n",
       "      <td>NaN</td>\n",
       "      <td>2022-05-04</td>\n",
       "      <td>3.1</td>\n",
       "      <td>3.2</td>\n",
       "      <td>f</td>\n",
       "      <td>CAGE3</td>\n",
       "      <td>1</td>\n",
       "      <td>30.0</td>\n",
       "      <td>NaN</td>\n",
       "      <td>False</td>\n",
       "      <td>0.0</td>\n",
       "    </tr>\n",
       "    <tr>\n",
       "      <th>...</th>\n",
       "      <td>...</td>\n",
       "      <td>...</td>\n",
       "      <td>...</td>\n",
       "      <td>...</td>\n",
       "      <td>...</td>\n",
       "      <td>...</td>\n",
       "      <td>...</td>\n",
       "      <td>...</td>\n",
       "      <td>...</td>\n",
       "      <td>...</td>\n",
       "      <td>...</td>\n",
       "      <td>...</td>\n",
       "    </tr>\n",
       "    <tr>\n",
       "      <th>2703</th>\n",
       "      <td>2703</td>\n",
       "      <td>12:30-1PM; isolated for 45 min, did tube test ...</td>\n",
       "      <td>2022-09-08</td>\n",
       "      <td>NaN</td>\n",
       "      <td>NaN</td>\n",
       "      <td>NA</td>\n",
       "      <td>CAGE6</td>\n",
       "      <td>3</td>\n",
       "      <td>30.0</td>\n",
       "      <td>NaN</td>\n",
       "      <td>True</td>\n",
       "      <td>144.0</td>\n",
       "    </tr>\n",
       "    <tr>\n",
       "      <th>2704</th>\n",
       "      <td>2704</td>\n",
       "      <td>2:17-2:47PM; after 3 hours of isolation</td>\n",
       "      <td>2022-09-14</td>\n",
       "      <td>NaN</td>\n",
       "      <td>NaN</td>\n",
       "      <td>NA</td>\n",
       "      <td>CAGE6</td>\n",
       "      <td>3</td>\n",
       "      <td>30.0</td>\n",
       "      <td>NaN</td>\n",
       "      <td>True</td>\n",
       "      <td>145.0</td>\n",
       "    </tr>\n",
       "    <tr>\n",
       "      <th>2705</th>\n",
       "      <td>2705</td>\n",
       "      <td>9:12-9:42pm, nothing</td>\n",
       "      <td>2022-09-19</td>\n",
       "      <td>NaN</td>\n",
       "      <td>NaN</td>\n",
       "      <td>NA</td>\n",
       "      <td>CAGE6</td>\n",
       "      <td>3</td>\n",
       "      <td>30.0</td>\n",
       "      <td>NaN</td>\n",
       "      <td>True</td>\n",
       "      <td>146.0</td>\n",
       "    </tr>\n",
       "    <tr>\n",
       "      <th>2706</th>\n",
       "      <td>2706</td>\n",
       "      <td>start 2:21pm, right after RT, nothing happened...</td>\n",
       "      <td>2022-09-21</td>\n",
       "      <td>NaN</td>\n",
       "      <td>NaN</td>\n",
       "      <td>NA</td>\n",
       "      <td>CAGE6</td>\n",
       "      <td>3</td>\n",
       "      <td>30.0</td>\n",
       "      <td>NaN</td>\n",
       "      <td>True</td>\n",
       "      <td>147.0</td>\n",
       "    </tr>\n",
       "    <tr>\n",
       "      <th>2707</th>\n",
       "      <td>2707</td>\n",
       "      <td>start3:35pm, right after Rt, no before feed, o...</td>\n",
       "      <td>2022-09-23</td>\n",
       "      <td>NaN</td>\n",
       "      <td>NaN</td>\n",
       "      <td>NA</td>\n",
       "      <td>CAGE6</td>\n",
       "      <td>3</td>\n",
       "      <td>30.0</td>\n",
       "      <td>NaN</td>\n",
       "      <td>True</td>\n",
       "      <td>148.0</td>\n",
       "    </tr>\n",
       "  </tbody>\n",
       "</table>\n",
       "<p>2708 rows × 12 columns</p>\n",
       "</div>"
      ],
      "text/plain": [
       "      index                                              notes       date  \\\n",
       "0         0  isolated all animals for 30 min. then reintrod... 2022-05-04   \n",
       "1         1                                                NaN 2022-05-04   \n",
       "2         2                                                NaN 2022-05-04   \n",
       "3         3                                                NaN 2022-05-04   \n",
       "4         4                                                NaN 2022-05-04   \n",
       "...     ...                                                ...        ...   \n",
       "2703   2703  12:30-1PM; isolated for 45 min, did tube test ... 2022-09-08   \n",
       "2704   2704            2:17-2:47PM; after 3 hours of isolation 2022-09-14   \n",
       "2705   2705                               9:12-9:42pm, nothing 2022-09-19   \n",
       "2706   2706  start 2:21pm, right after RT, nothing happened... 2022-09-21   \n",
       "2707   2707  start3:35pm, right after Rt, no before feed, o... 2022-09-23   \n",
       "\n",
       "      winner  loser action   cage pilot  length_of_observations  \\\n",
       "0        3.1    3.4      c  CAGE3     1                    30.0   \n",
       "1        3.1    3.4      f  CAGE3     1                    30.0   \n",
       "2        3.1    3.2      f  CAGE3     1                    30.0   \n",
       "3        3.1    3.4      f  CAGE3     1                    30.0   \n",
       "4        3.1    3.2      f  CAGE3     1                    30.0   \n",
       "...      ...    ...    ...    ...   ...                     ...   \n",
       "2703     NaN    NaN     NA  CAGE6     3                    30.0   \n",
       "2704     NaN    NaN     NA  CAGE6     3                    30.0   \n",
       "2705     NaN    NaN     NA  CAGE6     3                    30.0   \n",
       "2706     NaN    NaN     NA  CAGE6     3                    30.0   \n",
       "2707     NaN    NaN     NA  CAGE6     3                    30.0   \n",
       "\n",
       "     removed_subject_id  new_session  session_number  \n",
       "0                   NaN         True             0.0  \n",
       "1                   NaN        False             0.0  \n",
       "2                   NaN        False             0.0  \n",
       "3                   NaN        False             0.0  \n",
       "4                   NaN        False             0.0  \n",
       "...                 ...          ...             ...  \n",
       "2703                NaN         True           144.0  \n",
       "2704                NaN         True           145.0  \n",
       "2705                NaN         True           146.0  \n",
       "2706                NaN         True           147.0  \n",
       "2707                NaN         True           148.0  \n",
       "\n",
       "[2708 rows x 12 columns]"
      ]
     },
     "execution_count": 36,
     "metadata": {},
     "output_type": "execute_result"
    }
   ],
   "source": [
    "concatted_all_dataframe"
   ]
  },
  {
   "cell_type": "markdown",
   "id": "68adf69d",
   "metadata": {},
   "source": [
    "## Accounting for the power vacuums"
   ]
  },
  {
   "cell_type": "code",
   "execution_count": 37,
   "id": "82d466fd",
   "metadata": {},
   "outputs": [],
   "source": [
    "concatted_all_dataframe[\"cage_number\"] = concatted_all_dataframe[\"cage\"].apply(lambda x: int(re.search(r'\\d+', x).group()))"
   ]
  },
  {
   "cell_type": "code",
   "execution_count": 38,
   "id": "77f6fe33",
   "metadata": {},
   "outputs": [],
   "source": [
    "per_cage_id_suffix = [.1, .2, .3, .4]"
   ]
  },
  {
   "cell_type": "code",
   "execution_count": 39,
   "id": "f262f91d",
   "metadata": {},
   "outputs": [],
   "source": [
    "concatted_all_dataframe[\"original_subject_index\"] = concatted_all_dataframe[\"cage_number\"].apply(lambda x: [x + num for num in per_cage_id_suffix])"
   ]
  },
  {
   "cell_type": "code",
   "execution_count": 40,
   "id": "243175b0",
   "metadata": {},
   "outputs": [],
   "source": [
    "concatted_all_dataframe[\"current_subject_index\"] = concatted_all_dataframe.apply(lambda x: sorted(list(set(x[\"original_subject_index\"]) - set([x[\"removed_subject_id\"]]))), axis=1)"
   ]
  },
  {
   "cell_type": "code",
   "execution_count": 41,
   "id": "7f0caaef",
   "metadata": {
    "scrolled": true
   },
   "outputs": [
    {
     "data": {
      "text/html": [
       "<div>\n",
       "<style scoped>\n",
       "    .dataframe tbody tr th:only-of-type {\n",
       "        vertical-align: middle;\n",
       "    }\n",
       "\n",
       "    .dataframe tbody tr th {\n",
       "        vertical-align: top;\n",
       "    }\n",
       "\n",
       "    .dataframe thead th {\n",
       "        text-align: right;\n",
       "    }\n",
       "</style>\n",
       "<table border=\"1\" class=\"dataframe\">\n",
       "  <thead>\n",
       "    <tr style=\"text-align: right;\">\n",
       "      <th></th>\n",
       "      <th>index</th>\n",
       "      <th>notes</th>\n",
       "      <th>date</th>\n",
       "      <th>winner</th>\n",
       "      <th>loser</th>\n",
       "      <th>action</th>\n",
       "      <th>cage</th>\n",
       "      <th>pilot</th>\n",
       "      <th>length_of_observations</th>\n",
       "      <th>removed_subject_id</th>\n",
       "      <th>new_session</th>\n",
       "      <th>session_number</th>\n",
       "      <th>cage_number</th>\n",
       "      <th>original_subject_index</th>\n",
       "      <th>current_subject_index</th>\n",
       "    </tr>\n",
       "  </thead>\n",
       "  <tbody>\n",
       "    <tr>\n",
       "      <th>39</th>\n",
       "      <td>39</td>\n",
       "      <td>powervacuum in cage 3, wasnt able to reintrodu...</td>\n",
       "      <td>2022-05-11</td>\n",
       "      <td>3.3</td>\n",
       "      <td>3.4</td>\n",
       "      <td>c</td>\n",
       "      <td>CAGE3</td>\n",
       "      <td>1</td>\n",
       "      <td>30.0</td>\n",
       "      <td>3.1</td>\n",
       "      <td>True</td>\n",
       "      <td>3.0</td>\n",
       "      <td>3</td>\n",
       "      <td>[3.1, 3.2, 3.3, 3.4]</td>\n",
       "      <td>[3.2, 3.3, 3.4]</td>\n",
       "    </tr>\n",
       "    <tr>\n",
       "      <th>40</th>\n",
       "      <td>40</td>\n",
       "      <td>NaN</td>\n",
       "      <td>2022-05-11</td>\n",
       "      <td>3.3</td>\n",
       "      <td>3.4</td>\n",
       "      <td>c</td>\n",
       "      <td>CAGE3</td>\n",
       "      <td>1</td>\n",
       "      <td>30.0</td>\n",
       "      <td>3.1</td>\n",
       "      <td>False</td>\n",
       "      <td>3.0</td>\n",
       "      <td>3</td>\n",
       "      <td>[3.1, 3.2, 3.3, 3.4]</td>\n",
       "      <td>[3.2, 3.3, 3.4]</td>\n",
       "    </tr>\n",
       "    <tr>\n",
       "      <th>41</th>\n",
       "      <td>41</td>\n",
       "      <td>NaN</td>\n",
       "      <td>2022-05-11</td>\n",
       "      <td>3.4</td>\n",
       "      <td>3.2</td>\n",
       "      <td>c</td>\n",
       "      <td>CAGE3</td>\n",
       "      <td>1</td>\n",
       "      <td>30.0</td>\n",
       "      <td>3.1</td>\n",
       "      <td>False</td>\n",
       "      <td>3.0</td>\n",
       "      <td>3</td>\n",
       "      <td>[3.1, 3.2, 3.3, 3.4]</td>\n",
       "      <td>[3.2, 3.3, 3.4]</td>\n",
       "    </tr>\n",
       "    <tr>\n",
       "      <th>42</th>\n",
       "      <td>42</td>\n",
       "      <td>NaN</td>\n",
       "      <td>2022-05-11</td>\n",
       "      <td>3.3</td>\n",
       "      <td>3.4</td>\n",
       "      <td>c</td>\n",
       "      <td>CAGE3</td>\n",
       "      <td>1</td>\n",
       "      <td>30.0</td>\n",
       "      <td>3.1</td>\n",
       "      <td>False</td>\n",
       "      <td>3.0</td>\n",
       "      <td>3</td>\n",
       "      <td>[3.1, 3.2, 3.3, 3.4]</td>\n",
       "      <td>[3.2, 3.3, 3.4]</td>\n",
       "    </tr>\n",
       "    <tr>\n",
       "      <th>43</th>\n",
       "      <td>43</td>\n",
       "      <td>NaN</td>\n",
       "      <td>2022-05-11</td>\n",
       "      <td>3.3</td>\n",
       "      <td>3.2</td>\n",
       "      <td>c</td>\n",
       "      <td>CAGE3</td>\n",
       "      <td>1</td>\n",
       "      <td>30.0</td>\n",
       "      <td>3.1</td>\n",
       "      <td>False</td>\n",
       "      <td>3.0</td>\n",
       "      <td>3</td>\n",
       "      <td>[3.1, 3.2, 3.3, 3.4]</td>\n",
       "      <td>[3.2, 3.3, 3.4]</td>\n",
       "    </tr>\n",
       "  </tbody>\n",
       "</table>\n",
       "</div>"
      ],
      "text/plain": [
       "    index                                              notes       date  \\\n",
       "39     39  powervacuum in cage 3, wasnt able to reintrodu... 2022-05-11   \n",
       "40     40                                                NaN 2022-05-11   \n",
       "41     41                                                NaN 2022-05-11   \n",
       "42     42                                                NaN 2022-05-11   \n",
       "43     43                                                NaN 2022-05-11   \n",
       "\n",
       "    winner  loser action   cage pilot  length_of_observations  \\\n",
       "39     3.3    3.4      c  CAGE3     1                    30.0   \n",
       "40     3.3    3.4      c  CAGE3     1                    30.0   \n",
       "41     3.4    3.2      c  CAGE3     1                    30.0   \n",
       "42     3.3    3.4      c  CAGE3     1                    30.0   \n",
       "43     3.3    3.2      c  CAGE3     1                    30.0   \n",
       "\n",
       "   removed_subject_id  new_session  session_number  cage_number  \\\n",
       "39                3.1         True             3.0            3   \n",
       "40                3.1        False             3.0            3   \n",
       "41                3.1        False             3.0            3   \n",
       "42                3.1        False             3.0            3   \n",
       "43                3.1        False             3.0            3   \n",
       "\n",
       "   original_subject_index current_subject_index  \n",
       "39   [3.1, 3.2, 3.3, 3.4]       [3.2, 3.3, 3.4]  \n",
       "40   [3.1, 3.2, 3.3, 3.4]       [3.2, 3.3, 3.4]  \n",
       "41   [3.1, 3.2, 3.3, 3.4]       [3.2, 3.3, 3.4]  \n",
       "42   [3.1, 3.2, 3.3, 3.4]       [3.2, 3.3, 3.4]  \n",
       "43   [3.1, 3.2, 3.3, 3.4]       [3.2, 3.3, 3.4]  "
      ]
     },
     "execution_count": 41,
     "metadata": {},
     "output_type": "execute_result"
    }
   ],
   "source": [
    "concatted_all_dataframe[~(concatted_all_dataframe[\"removed_subject_id\"].isna())].head()"
   ]
  },
  {
   "cell_type": "code",
   "execution_count": 42,
   "id": "68e0893c",
   "metadata": {},
   "outputs": [],
   "source": [
    "groupby_action_count_series = concatted_all_dataframe.groupby([\"winner\", \"action\", \"session_number\", \"cage\", \"pilot\"]).count()[\"index\"]"
   ]
  },
  {
   "cell_type": "code",
   "execution_count": 43,
   "id": "efa063d6",
   "metadata": {},
   "outputs": [],
   "source": [
    "groupby_action_count_df = pd.DataFrame(groupby_action_count_series).reset_index()"
   ]
  },
  {
   "cell_type": "code",
   "execution_count": 44,
   "id": "1edea8d5",
   "metadata": {},
   "outputs": [
    {
     "data": {
      "text/html": [
       "<div>\n",
       "<style scoped>\n",
       "    .dataframe tbody tr th:only-of-type {\n",
       "        vertical-align: middle;\n",
       "    }\n",
       "\n",
       "    .dataframe tbody tr th {\n",
       "        vertical-align: top;\n",
       "    }\n",
       "\n",
       "    .dataframe thead th {\n",
       "        text-align: right;\n",
       "    }\n",
       "</style>\n",
       "<table border=\"1\" class=\"dataframe\">\n",
       "  <thead>\n",
       "    <tr style=\"text-align: right;\">\n",
       "      <th></th>\n",
       "      <th>winner</th>\n",
       "      <th>action</th>\n",
       "      <th>session_number</th>\n",
       "      <th>cage</th>\n",
       "      <th>pilot</th>\n",
       "      <th>index</th>\n",
       "    </tr>\n",
       "  </thead>\n",
       "  <tbody>\n",
       "    <tr>\n",
       "      <th>0</th>\n",
       "      <td>1.1</td>\n",
       "      <td>ag</td>\n",
       "      <td>15.0</td>\n",
       "      <td>CAGE1</td>\n",
       "      <td>2</td>\n",
       "      <td>3</td>\n",
       "    </tr>\n",
       "    <tr>\n",
       "      <th>1</th>\n",
       "      <td>1.1</td>\n",
       "      <td>ag</td>\n",
       "      <td>18.0</td>\n",
       "      <td>CAGE1</td>\n",
       "      <td>2</td>\n",
       "      <td>1</td>\n",
       "    </tr>\n",
       "    <tr>\n",
       "      <th>2</th>\n",
       "      <td>1.1</td>\n",
       "      <td>ag</td>\n",
       "      <td>20.0</td>\n",
       "      <td>CAGE1</td>\n",
       "      <td>2</td>\n",
       "      <td>1</td>\n",
       "    </tr>\n",
       "    <tr>\n",
       "      <th>3</th>\n",
       "      <td>1.1</td>\n",
       "      <td>ag</td>\n",
       "      <td>23.0</td>\n",
       "      <td>CAGE1</td>\n",
       "      <td>2</td>\n",
       "      <td>1</td>\n",
       "    </tr>\n",
       "    <tr>\n",
       "      <th>4</th>\n",
       "      <td>1.1</td>\n",
       "      <td>ag</td>\n",
       "      <td>24.0</td>\n",
       "      <td>CAGE1</td>\n",
       "      <td>2</td>\n",
       "      <td>1</td>\n",
       "    </tr>\n",
       "    <tr>\n",
       "      <th>...</th>\n",
       "      <td>...</td>\n",
       "      <td>...</td>\n",
       "      <td>...</td>\n",
       "      <td>...</td>\n",
       "      <td>...</td>\n",
       "      <td>...</td>\n",
       "    </tr>\n",
       "    <tr>\n",
       "      <th>704</th>\n",
       "      <td>6.4</td>\n",
       "      <td>fs</td>\n",
       "      <td>100.0</td>\n",
       "      <td>CAGE6</td>\n",
       "      <td>2</td>\n",
       "      <td>8</td>\n",
       "    </tr>\n",
       "    <tr>\n",
       "      <th>705</th>\n",
       "      <td>6.4</td>\n",
       "      <td>fs</td>\n",
       "      <td>101.0</td>\n",
       "      <td>CAGE6</td>\n",
       "      <td>2</td>\n",
       "      <td>2</td>\n",
       "    </tr>\n",
       "    <tr>\n",
       "      <th>706</th>\n",
       "      <td>6.4</td>\n",
       "      <td>fs</td>\n",
       "      <td>103.0</td>\n",
       "      <td>CAGE6</td>\n",
       "      <td>2</td>\n",
       "      <td>1</td>\n",
       "    </tr>\n",
       "    <tr>\n",
       "      <th>707</th>\n",
       "      <td>6.4</td>\n",
       "      <td>fs</td>\n",
       "      <td>104.0</td>\n",
       "      <td>CAGE6</td>\n",
       "      <td>2</td>\n",
       "      <td>1</td>\n",
       "    </tr>\n",
       "    <tr>\n",
       "      <th>708</th>\n",
       "      <td>6.4</td>\n",
       "      <td>s</td>\n",
       "      <td>99.0</td>\n",
       "      <td>CAGE6</td>\n",
       "      <td>2</td>\n",
       "      <td>1</td>\n",
       "    </tr>\n",
       "  </tbody>\n",
       "</table>\n",
       "<p>709 rows × 6 columns</p>\n",
       "</div>"
      ],
      "text/plain": [
       "     winner action  session_number   cage pilot  index\n",
       "0       1.1     ag            15.0  CAGE1     2      3\n",
       "1       1.1     ag            18.0  CAGE1     2      1\n",
       "2       1.1     ag            20.0  CAGE1     2      1\n",
       "3       1.1     ag            23.0  CAGE1     2      1\n",
       "4       1.1     ag            24.0  CAGE1     2      1\n",
       "..      ...    ...             ...    ...   ...    ...\n",
       "704     6.4     fs           100.0  CAGE6     2      8\n",
       "705     6.4     fs           101.0  CAGE6     2      2\n",
       "706     6.4     fs           103.0  CAGE6     2      1\n",
       "707     6.4     fs           104.0  CAGE6     2      1\n",
       "708     6.4      s            99.0  CAGE6     2      1\n",
       "\n",
       "[709 rows x 6 columns]"
      ]
     },
     "execution_count": 44,
     "metadata": {},
     "output_type": "execute_result"
    }
   ],
   "source": [
    "groupby_action_count_df"
   ]
  },
  {
   "cell_type": "code",
   "execution_count": 45,
   "id": "bf85b3e4",
   "metadata": {},
   "outputs": [],
   "source": [
    "\n",
    "session_to_current_subject_id = pd.Series(concatted_all_dataframe[\"current_subject_index\"].values,index=concatted_all_dataframe[\"session_number\"]).to_dict()\n",
    "session_to_length_of_observations = pd.Series(concatted_all_dataframe[\"length_of_observations\"].values,index=concatted_all_dataframe[\"session_number\"]).to_dict()"
   ]
  },
  {
   "cell_type": "code",
   "execution_count": 46,
   "id": "ad77ab26",
   "metadata": {},
   "outputs": [],
   "source": [
    "groupby_action_count_df[\"current_subject_index\"] = groupby_action_count_df[\"session_number\"].map(session_to_current_subject_id)\n",
    "groupby_action_count_df[\"length_of_observations\"] = groupby_action_count_df[\"session_number\"].map(session_to_length_of_observations)"
   ]
  },
  {
   "cell_type": "code",
   "execution_count": 50,
   "id": "c39351e9",
   "metadata": {},
   "outputs": [
    {
     "data": {
      "text/html": [
       "<div>\n",
       "<style scoped>\n",
       "    .dataframe tbody tr th:only-of-type {\n",
       "        vertical-align: middle;\n",
       "    }\n",
       "\n",
       "    .dataframe tbody tr th {\n",
       "        vertical-align: top;\n",
       "    }\n",
       "\n",
       "    .dataframe thead th {\n",
       "        text-align: right;\n",
       "    }\n",
       "</style>\n",
       "<table border=\"1\" class=\"dataframe\">\n",
       "  <thead>\n",
       "    <tr style=\"text-align: right;\">\n",
       "      <th></th>\n",
       "      <th>winner</th>\n",
       "      <th>action</th>\n",
       "      <th>session_number</th>\n",
       "      <th>cage</th>\n",
       "      <th>pilot</th>\n",
       "      <th>index</th>\n",
       "      <th>current_subject_index</th>\n",
       "      <th>length_of_observations</th>\n",
       "    </tr>\n",
       "  </thead>\n",
       "  <tbody>\n",
       "    <tr>\n",
       "      <th>0</th>\n",
       "      <td>1.1</td>\n",
       "      <td>ag</td>\n",
       "      <td>15.0</td>\n",
       "      <td>CAGE1</td>\n",
       "      <td>2</td>\n",
       "      <td>3</td>\n",
       "      <td>[1.1, 1.2, 1.3, 1.4]</td>\n",
       "      <td>30.0</td>\n",
       "    </tr>\n",
       "    <tr>\n",
       "      <th>1</th>\n",
       "      <td>1.1</td>\n",
       "      <td>ag</td>\n",
       "      <td>18.0</td>\n",
       "      <td>CAGE1</td>\n",
       "      <td>2</td>\n",
       "      <td>1</td>\n",
       "      <td>[1.1, 1.2, 1.3, 1.4]</td>\n",
       "      <td>30.0</td>\n",
       "    </tr>\n",
       "    <tr>\n",
       "      <th>2</th>\n",
       "      <td>1.1</td>\n",
       "      <td>ag</td>\n",
       "      <td>20.0</td>\n",
       "      <td>CAGE1</td>\n",
       "      <td>2</td>\n",
       "      <td>1</td>\n",
       "      <td>[1.1, 1.2, 1.3, 1.4]</td>\n",
       "      <td>30.0</td>\n",
       "    </tr>\n",
       "    <tr>\n",
       "      <th>3</th>\n",
       "      <td>1.1</td>\n",
       "      <td>ag</td>\n",
       "      <td>23.0</td>\n",
       "      <td>CAGE1</td>\n",
       "      <td>2</td>\n",
       "      <td>1</td>\n",
       "      <td>[1.1, 1.3, 1.4]</td>\n",
       "      <td>30.0</td>\n",
       "    </tr>\n",
       "    <tr>\n",
       "      <th>4</th>\n",
       "      <td>1.1</td>\n",
       "      <td>ag</td>\n",
       "      <td>24.0</td>\n",
       "      <td>CAGE1</td>\n",
       "      <td>2</td>\n",
       "      <td>1</td>\n",
       "      <td>[1.1, 1.2, 1.3, 1.4]</td>\n",
       "      <td>15.0</td>\n",
       "    </tr>\n",
       "    <tr>\n",
       "      <th>...</th>\n",
       "      <td>...</td>\n",
       "      <td>...</td>\n",
       "      <td>...</td>\n",
       "      <td>...</td>\n",
       "      <td>...</td>\n",
       "      <td>...</td>\n",
       "      <td>...</td>\n",
       "      <td>...</td>\n",
       "    </tr>\n",
       "    <tr>\n",
       "      <th>704</th>\n",
       "      <td>6.4</td>\n",
       "      <td>fs</td>\n",
       "      <td>100.0</td>\n",
       "      <td>CAGE6</td>\n",
       "      <td>2</td>\n",
       "      <td>8</td>\n",
       "      <td>[6.1, 6.2, 6.3, 6.4]</td>\n",
       "      <td>30.0</td>\n",
       "    </tr>\n",
       "    <tr>\n",
       "      <th>705</th>\n",
       "      <td>6.4</td>\n",
       "      <td>fs</td>\n",
       "      <td>101.0</td>\n",
       "      <td>CAGE6</td>\n",
       "      <td>2</td>\n",
       "      <td>2</td>\n",
       "      <td>[6.2, 6.3, 6.4]</td>\n",
       "      <td>30.0</td>\n",
       "    </tr>\n",
       "    <tr>\n",
       "      <th>706</th>\n",
       "      <td>6.4</td>\n",
       "      <td>fs</td>\n",
       "      <td>103.0</td>\n",
       "      <td>CAGE6</td>\n",
       "      <td>2</td>\n",
       "      <td>1</td>\n",
       "      <td>[6.2, 6.3, 6.4]</td>\n",
       "      <td>30.0</td>\n",
       "    </tr>\n",
       "    <tr>\n",
       "      <th>707</th>\n",
       "      <td>6.4</td>\n",
       "      <td>fs</td>\n",
       "      <td>104.0</td>\n",
       "      <td>CAGE6</td>\n",
       "      <td>2</td>\n",
       "      <td>1</td>\n",
       "      <td>[6.1, 6.2, 6.3, 6.4]</td>\n",
       "      <td>15.0</td>\n",
       "    </tr>\n",
       "    <tr>\n",
       "      <th>708</th>\n",
       "      <td>6.4</td>\n",
       "      <td>s</td>\n",
       "      <td>99.0</td>\n",
       "      <td>CAGE6</td>\n",
       "      <td>2</td>\n",
       "      <td>1</td>\n",
       "      <td>[6.1, 6.2, 6.3, 6.4]</td>\n",
       "      <td>30.0</td>\n",
       "    </tr>\n",
       "  </tbody>\n",
       "</table>\n",
       "<p>709 rows × 8 columns</p>\n",
       "</div>"
      ],
      "text/plain": [
       "     winner action  session_number   cage pilot  index current_subject_index  \\\n",
       "0       1.1     ag            15.0  CAGE1     2      3  [1.1, 1.2, 1.3, 1.4]   \n",
       "1       1.1     ag            18.0  CAGE1     2      1  [1.1, 1.2, 1.3, 1.4]   \n",
       "2       1.1     ag            20.0  CAGE1     2      1  [1.1, 1.2, 1.3, 1.4]   \n",
       "3       1.1     ag            23.0  CAGE1     2      1       [1.1, 1.3, 1.4]   \n",
       "4       1.1     ag            24.0  CAGE1     2      1  [1.1, 1.2, 1.3, 1.4]   \n",
       "..      ...    ...             ...    ...   ...    ...                   ...   \n",
       "704     6.4     fs           100.0  CAGE6     2      8  [6.1, 6.2, 6.3, 6.4]   \n",
       "705     6.4     fs           101.0  CAGE6     2      2       [6.2, 6.3, 6.4]   \n",
       "706     6.4     fs           103.0  CAGE6     2      1       [6.2, 6.3, 6.4]   \n",
       "707     6.4     fs           104.0  CAGE6     2      1  [6.1, 6.2, 6.3, 6.4]   \n",
       "708     6.4      s            99.0  CAGE6     2      1  [6.1, 6.2, 6.3, 6.4]   \n",
       "\n",
       "     length_of_observations  \n",
       "0                      30.0  \n",
       "1                      30.0  \n",
       "2                      30.0  \n",
       "3                      30.0  \n",
       "4                      15.0  \n",
       "..                      ...  \n",
       "704                    30.0  \n",
       "705                    30.0  \n",
       "706                    30.0  \n",
       "707                    15.0  \n",
       "708                    30.0  \n",
       "\n",
       "[709 rows x 8 columns]"
      ]
     },
     "execution_count": 50,
     "metadata": {},
     "output_type": "execute_result"
    }
   ],
   "source": [
    "groupby_action_count_df"
   ]
  },
  {
   "cell_type": "markdown",
   "id": "87251308",
   "metadata": {},
   "source": [
    "## Getting the blank values"
   ]
  },
  {
   "cell_type": "code",
   "execution_count": 53,
   "id": "6b27579a",
   "metadata": {},
   "outputs": [],
   "source": [
    "new_session_dataframe = concatted_all_dataframe[concatted_all_dataframe[\"new_session\"]]"
   ]
  },
  {
   "cell_type": "code",
   "execution_count": 61,
   "id": "6bb9d418",
   "metadata": {
    "scrolled": true
   },
   "outputs": [
    {
     "name": "stderr",
     "output_type": "stream",
     "text": [
      "/tmp/ipykernel_21713/2258039612.py:1: SettingWithCopyWarning: \n",
      "A value is trying to be set on a copy of a slice from a DataFrame.\n",
      "Try using .loc[row_indexer,col_indexer] = value instead\n",
      "\n",
      "See the caveats in the documentation: https://pandas.pydata.org/pandas-docs/stable/user_guide/indexing.html#returning-a-view-versus-a-copy\n",
      "  new_session_dataframe[\"subject_per_15_min\"] = new_session_dataframe.apply(lambda x: [(x[\"pilot\"], subj) for subj in x[\"current_subject_index\"]] * int(x[\"length_of_observations\"] / 15), axis=1)\n"
     ]
    }
   ],
   "source": [
    "new_session_dataframe[\"subject_per_15_min\"] = new_session_dataframe.apply(lambda x: [(x[\"pilot\"], subj) for subj in x[\"current_subject_index\"]] * int(x[\"length_of_observations\"] / 15), axis=1)"
   ]
  },
  {
   "cell_type": "code",
   "execution_count": 69,
   "id": "e105b022",
   "metadata": {},
   "outputs": [],
   "source": [
    "two_dimensional_all_pilot_and_subject = new_session_dataframe[\"subject_per_15_min\"].to_list()"
   ]
  },
  {
   "cell_type": "code",
   "execution_count": 70,
   "id": "ad687959",
   "metadata": {},
   "outputs": [],
   "source": [
    "flattened_all_pilot_and_subject = [item for sublist in two_dimensional_all_pilot_and_subject for item in sublist]"
   ]
  },
  {
   "cell_type": "code",
   "execution_count": 73,
   "id": "fa4481ee",
   "metadata": {},
   "outputs": [],
   "source": [
    "pilot_and_id_to_15min_sess_count = Counter(flattened_all_pilot_and_subject)"
   ]
  },
  {
   "cell_type": "code",
   "execution_count": 74,
   "id": "29741364",
   "metadata": {},
   "outputs": [
    {
     "data": {
      "text/plain": [
       "Counter({('1', 3.1): 8,\n",
       "         ('1', 3.2): 10,\n",
       "         ('1', 3.3): 10,\n",
       "         ('1', 3.4): 10,\n",
       "         ('1', 4.1): 15,\n",
       "         ('1', 4.2): 15,\n",
       "         ('1', 4.3): 15,\n",
       "         ('1', 4.4): 9,\n",
       "         ('2', 1.1): 27,\n",
       "         ('2', 1.2): 29,\n",
       "         ('2', 1.3): 31,\n",
       "         ('2', 1.4): 31,\n",
       "         ('2', 2.1): 31,\n",
       "         ('2', 2.2): 31,\n",
       "         ('2', 2.3): 29,\n",
       "         ('2', 2.4): 33,\n",
       "         ('2', 3.1): 28,\n",
       "         ('2', 3.2): 32,\n",
       "         ('2', 3.3): 32,\n",
       "         ('2', 3.4): 32,\n",
       "         ('2', 4.1): 22,\n",
       "         ('2', 4.2): 26,\n",
       "         ('2', 4.3): 26,\n",
       "         ('2', 4.4): 26,\n",
       "         ('2', 5.1): 26,\n",
       "         ('2', 5.2): 26,\n",
       "         ('2', 5.3): 22,\n",
       "         ('2', 5.4): 26,\n",
       "         ('2', 6.1): 22,\n",
       "         ('2', 6.2): 26,\n",
       "         ('2', 6.3): 26,\n",
       "         ('2', 6.4): 26,\n",
       "         ('3', 1.1): 12,\n",
       "         ('3', 1.2): 12,\n",
       "         ('3', 1.3): 12,\n",
       "         ('3', 1.4): 12,\n",
       "         ('3', 2.1): 12,\n",
       "         ('3', 2.2): 12,\n",
       "         ('3', 2.3): 12,\n",
       "         ('3', 2.4): 12,\n",
       "         ('3', 3.1): 12,\n",
       "         ('3', 3.2): 12,\n",
       "         ('3', 3.3): 12,\n",
       "         ('3', 3.4): 12,\n",
       "         ('3', 4.1): 15,\n",
       "         ('3', 4.2): 15,\n",
       "         ('3', 4.3): 13,\n",
       "         ('3', 4.4): 15,\n",
       "         ('3', 5.1): 13,\n",
       "         ('3', 5.2): 15,\n",
       "         ('3', 5.3): 15,\n",
       "         ('3', 5.4): 15,\n",
       "         ('3', 6.1): 12,\n",
       "         ('3', 6.2): 12,\n",
       "         ('3', 6.3): 12,\n",
       "         ('3', 6.4): 12})"
      ]
     },
     "execution_count": 74,
     "metadata": {},
     "output_type": "execute_result"
    }
   ],
   "source": [
    "pilot_and_id_to_15min_sess_count"
   ]
  },
  {
   "cell_type": "markdown",
   "id": "0178ff4d",
   "metadata": {},
   "source": [
    "## Getting the number of times that a chace or fight occured"
   ]
  },
  {
   "cell_type": "code",
   "execution_count": 48,
   "id": "92ca7aee",
   "metadata": {},
   "outputs": [
    {
     "ename": "ValueError",
     "evalue": "",
     "output_type": "error",
     "traceback": [
      "\u001b[0;31m---------------------------------------------------------------------------\u001b[0m",
      "\u001b[0;31mValueError\u001b[0m                                Traceback (most recent call last)",
      "Cell \u001b[0;32mIn[48], line 1\u001b[0m\n\u001b[0;32m----> 1\u001b[0m \u001b[38;5;28;01mraise\u001b[39;00m \u001b[38;5;167;01mValueError\u001b[39;00m()\n",
      "\u001b[0;31mValueError\u001b[0m: "
     ]
    }
   ],
   "source": [
    "raise ValueError()"
   ]
  },
  {
   "cell_type": "code",
   "execution_count": null,
   "id": "192ba928",
   "metadata": {},
   "outputs": [],
   "source": [
    "first_row_of_each_date"
   ]
  },
  {
   "cell_type": "code",
   "execution_count": null,
   "id": "aaa65e06",
   "metadata": {},
   "outputs": [],
   "source": [
    "filtered_all_dataframe = concatted_all_dataframe[concatted_all_dataframe[\"action\"].isin([\"c\", \"f\", \"NA\"])]"
   ]
  },
  {
   "cell_type": "markdown",
   "id": "585488d3",
   "metadata": {},
   "source": [
    "- Removing rows without an action and date\n",
    "    - Rows can have only a date if there is no fighting for that day. But it needs at least the action or the date."
   ]
  },
  {
   "cell_type": "code",
   "execution_count": null,
   "id": "a82a3ab5",
   "metadata": {},
   "outputs": [],
   "source": [
    "filtered_all_dataframe = filtered_all_dataframe[~((filtered_all_dataframe[\"action\"] == \"NA\") & (filtered_all_dataframe[\"date\"].isna()))]"
   ]
  },
  {
   "cell_type": "code",
   "execution_count": null,
   "id": "0b432fb4",
   "metadata": {},
   "outputs": [],
   "source": [
    "filtered_all_dataframe.head()"
   ]
  },
  {
   "cell_type": "code",
   "execution_count": null,
   "id": "af296438",
   "metadata": {},
   "outputs": [],
   "source": [
    "filtered_all_dataframe[~(filtered_all_dataframe[\"date\"].isna())]"
   ]
  },
  {
   "cell_type": "code",
   "execution_count": null,
   "id": "bea9be01",
   "metadata": {},
   "outputs": [],
   "source": [
    "raise ValueError()"
   ]
  },
  {
   "cell_type": "code",
   "execution_count": null,
   "id": "041903a6",
   "metadata": {},
   "outputs": [],
   "source": [
    "filtered_all_dataframe[\"date\"] = filtered_all_dataframe[\"date\"].ffill()"
   ]
  },
  {
   "cell_type": "code",
   "execution_count": null,
   "id": "5e0d5904",
   "metadata": {
    "scrolled": true
   },
   "outputs": [],
   "source": [
    "filtered_all_dataframe"
   ]
  },
  {
   "cell_type": "code",
   "execution_count": null,
   "id": "08e3a66d",
   "metadata": {},
   "outputs": [],
   "source": [
    "raise ValueError()"
   ]
  },
  {
   "cell_type": "markdown",
   "id": "8783c180",
   "metadata": {},
   "source": [
    "## Dropping All Rows without a Winner"
   ]
  },
  {
   "cell_type": "markdown",
   "id": "226600e1",
   "metadata": {},
   "source": [
    "- Because we will be filling all empty cells with the previous value, we must remove all rows that don't have any data. This is usually cells that don't have any winners or losers filled in the row.\n",
    "    "
   ]
  },
  {
   "cell_type": "markdown",
   "id": "3cafe473",
   "metadata": {},
   "source": [
    "# **NOTE**: If there is a set column that is used for the winner and loser,  the rows up by session, then enter it in the cell below between the quotation marks. Default is `\"winner\"` and `\"loser\"`"
   ]
  },
  {
   "cell_type": "code",
   "execution_count": null,
   "id": "2a9108b2",
   "metadata": {},
   "outputs": [],
   "source": [
    "all_winner_id_column = winner_id_column = \"\"\n",
    "all_loser_id_column = loser_id_column = \"\""
   ]
  },
  {
   "cell_type": "code",
   "execution_count": null,
   "id": "c886fba8",
   "metadata": {
    "scrolled": true
   },
   "outputs": [],
   "source": [
    "for key, value in sheet_name_to_everything.items():\n",
    "    if not all_winner_id_column:\n",
    "        # Asking users to specify which column is the one with the winner's information\n",
    "        value[\"winner_id_column\"] = input(\"\"\"Type the name of the column of the subject that has won the interaction.\n",
    "        i.e. \"winner\"\n",
    "\n",
    "        The available columns are: {}\n",
    "\n",
    "        Note: If left blank, the column with \"winner\" in the name will be used as the column\n",
    "        \"\"\".format(value[\"processed_behavior_recording_dataframe\"].columns))\n",
    "    \n",
    "    \n",
    "        # Looks for columns with \"winner\" in them if none of inputted\n",
    "        if not value[\"winner_id_column\"]:\n",
    "            value[\"winner_id_column\"] = [col for col in value[\"processed_behavior_recording_dataframe\"].columns if \"winner\" in col.lower()][0]\n",
    "    else:\n",
    "        value[\"winner_id_column\"] = all_winner_id_column\n",
    "    # Standarizing the column name of the winner IDs\n",
    "    value[\"processed_behavior_recording_dataframe\"] = value[\"processed_behavior_recording_dataframe\"].rename(columns={value[\"winner_id_column\"]: \"winner\"})\n",
    "    value[\"winner_id_column\"] = \"winner\"\n",
    "    \n",
    "    if not all_loser_id_column:   \n",
    "        # Asking users to specify which column is the one with the winner's information\n",
    "        value[\"loser_id_column\"] = input(\"\"\"Type the name of the column of the subject that has won the interaction.\n",
    "        i.e. \"loser\"\n",
    "\n",
    "        The available columns are: {}\n",
    "\n",
    "        Note: If left blank, the column with \"loser\" in the name will be used as the column\n",
    "        \"\"\".format(value[\"processed_behavior_recording_dataframe\"].columns))\n",
    "\n",
    "        # Looks for columns with \"loser\" in them if none of inputted\n",
    "        if not value[\"loser_id_column\"]:\n",
    "            value[\"loser_id_column\"] = [col for col in value[\"processed_behavior_recording_dataframe\"].columns if \"loser\" in col.lower()][0]\n",
    "    else:\n",
    "        value[\"loser_id_column\"] = all_loser_id_column\n",
    "\n",
    "    # Standarizing the column name of the loser IDs\n",
    "    value[\"processed_behavior_recording_dataframe\"] = value[\"processed_behavior_recording_dataframe\"].rename(columns={value[\"loser_id_column\"]: \"loser\"})\n",
    "    value[\"loser_id_column\"] = \"loser\"\n",
    "        \n",
    "    # Dropping all rows that don't have any values in the winner column\n",
    "    value[\"processed_behavior_recording_dataframe\"] = value[\"processed_behavior_recording_dataframe\"].dropna(subset=value[\"winner_id_column\"])\n",
    "    # Dropping all rows that don't have any values in the loser column\n",
    "    value[\"processed_behavior_recording_dataframe\"] = value[\"processed_behavior_recording_dataframe\"].dropna(subset=value[\"loser_id_column\"])\n",
    "    \n",
    "    # Getting all the floats from the strings, removing any spaces and other characters\n",
    "    value[\"processed_behavior_recording_dataframe\"][value[\"winner_id_column\"]] = value[\"processed_behavior_recording_dataframe\"][value[\"winner_id_column\"]].astype(str).apply(lambda x: re.findall(r\"[-+]?(?:\\d*\\.\\d+|\\d+)\", x)[0] if re.findall(r\"[-+]?(?:\\d*\\.\\d+|\\d+)\", x) else x)\n",
    "    value[\"processed_behavior_recording_dataframe\"][value[\"loser_id_column\"]] = value[\"processed_behavior_recording_dataframe\"][value[\"loser_id_column\"]].astype(str).apply(lambda x: re.findall(r\"[-+]?(?:\\d*\\.\\d+|\\d+)\", x)[0] if re.findall(r\"[-+]?(?:\\d*\\.\\d+|\\d+)\", x) else x)"
   ]
  },
  {
   "cell_type": "code",
   "execution_count": null,
   "id": "84c574da",
   "metadata": {
    "scrolled": true
   },
   "outputs": [],
   "source": [
    "value[\"processed_behavior_recording_dataframe\"].head()"
   ]
  },
  {
   "cell_type": "code",
   "execution_count": null,
   "id": "4dee64d6",
   "metadata": {
    "scrolled": false
   },
   "outputs": [],
   "source": [
    "value[\"processed_behavior_recording_dataframe\"].tail()"
   ]
  },
  {
   "cell_type": "markdown",
   "id": "461d46d2",
   "metadata": {},
   "source": [
    "# Finding the rows with ties"
   ]
  },
  {
   "cell_type": "markdown",
   "id": "7f26bc3c",
   "metadata": {},
   "source": [
    "- If a trial is a tie, there should be another column that indicates that it is a tie. The points will be counted for less. If there is no column, then none of the trials will be counted as ties."
   ]
  },
  {
   "cell_type": "markdown",
   "id": "cca06551",
   "metadata": {},
   "source": [
    "# NOTE: If there is a set column that denotes whether the match has a winner or not, then replace the `None` with the name of the column with quotation marks"
   ]
  },
  {
   "cell_type": "code",
   "execution_count": null,
   "id": "219bc564",
   "metadata": {},
   "outputs": [],
   "source": [
    "all_ties_column = None"
   ]
  },
  {
   "cell_type": "code",
   "execution_count": null,
   "id": "5e7a6a45",
   "metadata": {
    "scrolled": true
   },
   "outputs": [],
   "source": [
    "for key, value in sheet_name_to_everything.items():\n",
    "    \n",
    "    if all_ties_column is None:\n",
    "        value[\"ties_column\"] = None\n",
    "    elif all_ties_column:\n",
    "        value[\"ties_column\"] = all_ties_column\n",
    "    else:\n",
    "    \n",
    "        # Asking users to specify which column is the one with the winner's information\n",
    "        value[\"ties_column\"] = input(\"\"\"Type the name of the column that specifies whether or not a tie has occured\n",
    "        i.e. \"tie\"\n",
    "\n",
    "        The available columns are: {}\n",
    "\n",
    "        Note: If left blank, the column with \"ties\" in the name will be used as the column. \n",
    "        If there are none, then this part will be skipped\n",
    "\n",
    "        \"\"\".format(value[\"processed_behavior_recording_dataframe\"].columns))\n",
    "\n",
    "        # Looks for columns with \"tie\" in them if none of inputted\n",
    "        if not value[\"ties_column\"]:\n",
    "            if [col for col in value[\"processed_behavior_recording_dataframe\"].columns if \"tie\" in col.lower()]:\n",
    "                value[\"ties_column\"] = [col for col in value[\"processed_behavior_recording_dataframe\"].columns if \"tie\" in col.lower()][0]\n",
    "            else: \n",
    "                value[\"ties_column\"] = None\n",
    "    current_processed_behavior_recording_dataframe = value[\"processed_behavior_recording_dataframe\"].copy()\n",
    "    try:\n",
    "        # Standarizing the name of the tie column\n",
    "        value[\"processed_behavior_recording_dataframe\"] = value[\"processed_behavior_recording_dataframe\"].rename(columns={value[\"ties_column\"]: \"match_is_tie\"})\n",
    "        value[\"ties_column\"] = \"match_is_tie\"\n",
    "        # Fillling in the tie column with 0s so that we can fill in the other columns with the previous values\n",
    "        value[\"processed_behavior_recording_dataframe\"][value[\"ties_column\"]] = value[\"processed_behavior_recording_dataframe\"][value[\"ties_column\"]].fillna()\n",
    "        # Converting all the tie values into bool so we can filter for the cells with ties\n",
    "        value[\"processed_behavior_recording_dataframe\"][value[\"ties_column\"]] = value[\"processed_behavior_recording_dataframe\"][value[\"ties_column\"]].astype(bool)\n",
    "    except:\n",
    "        value[\"processed_behavior_recording_dataframe\"] = current_processed_behavior_recording_dataframe\n",
    "        value[\"ties_column\"] = None"
   ]
  },
  {
   "cell_type": "markdown",
   "id": "10a8cf50",
   "metadata": {},
   "source": [
    "## Adding the session number"
   ]
  },
  {
   "cell_type": "markdown",
   "id": "1b477728",
   "metadata": {},
   "source": [
    "- We are adding the session number to all the trials. The session number is counting the number of recording sessions that have happened up until that trial. Usually, each session in the spreadsheet is divided up by a session's first row having the date filled in. So we will label a new session when a date is filled in."
   ]
  },
  {
   "cell_type": "markdown",
   "id": "3d0684e8",
   "metadata": {},
   "source": [
    "# NOTE: If there is a set column that divides the rows up by session, then enter it in the cell below between the quotation marks. Default is `\"date\"`"
   ]
  },
  {
   "cell_type": "markdown",
   "id": "221fc47a",
   "metadata": {},
   "source": [
    "# TODO: Recheck starting here"
   ]
  },
  {
   "cell_type": "code",
   "execution_count": null,
   "id": "3850841d",
   "metadata": {},
   "outputs": [],
   "source": [
    "all_session_divider_column = \"\""
   ]
  },
  {
   "cell_type": "code",
   "execution_count": null,
   "id": "f348210b",
   "metadata": {
    "scrolled": true
   },
   "outputs": [],
   "source": [
    "for key, value in sheet_name_to_everything.items():\n",
    "    if not all_session_divider_column:\n",
    "        # Allowing the user to choose the column that indicates a new session\n",
    "        session_divider_column = input(\"\"\"Type the name of the column to be used to divide the rows into sessions. \n",
    "        Pick a column that has a value in the cell only with the first row of each session.\n",
    "        This is usually the \"date\" column.\n",
    "\n",
    "        If left blank, the default session divider column will be used. The default is \"date\"\n",
    "\n",
    "        The available columns are: {}\n",
    "\n",
    "        NOTE: If left blank, the column with \"date\" in the name will be used as the column\n",
    "        \"\"\".format(value[\"processed_behavior_recording_dataframe\"].columns))\n",
    "    else:\n",
    "        session_divider_column = all_session_divider_column\n",
    "        \n",
    "    # Making the column name lowercase and removing any punctuation\n",
    "    value[\"session_divider_column\"] = session_divider_column.lower().strip('\"').strip(\"'\").strip()\n",
    "\n",
    "    # Looks for columns with \"date\" in them if none is inputted\n",
    "    if not value[\"session_divider_column\"]:\n",
    "        value[\"session_divider_column\"] = [col for col in value[\"processed_behavior_recording_dataframe\"].columns if \"date\" in col.lower()][0]\n",
    "\n",
    "    # Checks if that column is in the dataframe\n",
    "    if value[\"session_divider_column\"] not in value[\"processed_behavior_recording_dataframe\"].columns:\n",
    "        print(\"WARNING: {} is not a column in {}\".format(value[\"session_divider_column\"], key))\n",
    "        warnings.warn(\"Look at warning from above or below\")\n",
    "        value[\"session_divider_column\"] = None\n",
    "    \n",
    "    # Standarizing all the session divider columns so that they are named date\n",
    "    if value[\"session_divider_column\"]:\n",
    "        value[\"processed_behavior_recording_dataframe\"] = value[\"processed_behavior_recording_dataframe\"].rename(columns={value[\"session_divider_column\"]: \"date\"})\n",
    "        value[\"session_divider_column\"] = \"date\""
   ]
  },
  {
   "cell_type": "code",
   "execution_count": null,
   "id": "a788c391",
   "metadata": {},
   "outputs": [],
   "source": []
  },
  {
   "cell_type": "markdown",
   "id": "5556e988",
   "metadata": {},
   "source": [
    "# TODO: Make this standarized between sheets and get difference for each row"
   ]
  },
  {
   "cell_type": "code",
   "execution_count": null,
   "id": "192347f7",
   "metadata": {},
   "outputs": [],
   "source": [
    "for key, value in sheet_name_to_everything.items():\n",
    "    current_processed_behavior_recording_dataframe = value[\"processed_behavior_recording_dataframe\"].copy()\n",
    "    try:\n",
    "        value[\"processed_behavior_recording_dataframe\"][value[\"session_divider_column\"]] = value[\"processed_behavior_recording_dataframe\"][value[\"session_divider_column\"]].fillna(method='ffill')\n",
    "\n",
    "    except:\n",
    "        print(\"WARNING: {} does not have a session divider column\".format(key))\n",
    "        warnings.warn(\"Look at warning from above or below\")\n",
    "        value[\"processed_behavior_recording_dataframe\"] = current_processed_behavior_recording_dataframe"
   ]
  },
  {
   "cell_type": "code",
   "execution_count": null,
   "id": "75cf8c7d",
   "metadata": {
    "scrolled": true
   },
   "outputs": [],
   "source": [
    "value[\"processed_behavior_recording_dataframe\"].head()"
   ]
  },
  {
   "cell_type": "code",
   "execution_count": null,
   "id": "ca567b95",
   "metadata": {},
   "outputs": [],
   "source": [
    "value[\"processed_behavior_recording_dataframe\"].tail()"
   ]
  },
  {
   "cell_type": "markdown",
   "id": "f708c8a8",
   "metadata": {},
   "source": [
    "# Getting the Session number differences"
   ]
  },
  {
   "cell_type": "markdown",
   "id": "7ee5244c",
   "metadata": {},
   "source": [
    "- Getting the indexes of where each new session starts. So that we can add the session number to each row."
   ]
  },
  {
   "cell_type": "markdown",
   "id": "74411454",
   "metadata": {},
   "source": [
    "# TODO: Can remove set about not including tie columns"
   ]
  },
  {
   "cell_type": "code",
   "execution_count": null,
   "id": "a581a200",
   "metadata": {
    "scrolled": false
   },
   "outputs": [],
   "source": [
    "# Example of the columns that will be kept, removing the ties column\n",
    "list(set(value[\"processed_behavior_recording_dataframe\"].columns) - set([value[\"ties_column\"]]))"
   ]
  },
  {
   "cell_type": "code",
   "execution_count": null,
   "id": "14e8b48a",
   "metadata": {},
   "outputs": [],
   "source": [
    "# TODO: Add this\n"
   ]
  },
  {
   "cell_type": "code",
   "execution_count": null,
   "id": "e3e8c273",
   "metadata": {},
   "outputs": [],
   "source": [
    "for key, value in sheet_name_to_everything.items():\n",
    "    # Removing tie columns because not all rows are ties, so we do not want to fill them in\n",
    "    if value[\"ties_column\"]:\n",
    "        non_ties_columns = list(set(value[\"processed_behavior_recording_dataframe\"].columns) - set([value[\"ties_column\"]]))\n",
    "        value[\"processed_behavior_recording_dataframe\"][non_ties_columns] = value[\"processed_behavior_recording_dataframe\"][non_ties_columns].fillna(method='ffill')\n",
    "    else:\n",
    "        # Filling all the empty cells with the value in the previous cell\n",
    "        value[\"processed_behavior_recording_dataframe\"] = value[\"processed_behavior_recording_dataframe\"].fillna(method='ffill')\n",
    "\n",
    "    try:\n",
    "        # Seeing which rows have a different session than the previous one\n",
    "        # This will be used to plot vertical lines for each new session\n",
    "        value[\"processed_behavior_recording_dataframe\"][\"session_number_difference\"] = value[\"processed_behavior_recording_dataframe\"][value[\"session_divider_column\"]].astype('category').cat.codes.diff()\n",
    "\n",
    "    \n",
    "    except:\n",
    "        print(\"WARNING: {} does not have a session divider column\".format(key))\n",
    "        warnings.warn(\"Look at warning from above or below\")"
   ]
  },
  {
   "cell_type": "code",
   "execution_count": null,
   "id": "3a4a0b36",
   "metadata": {},
   "outputs": [],
   "source": [
    "value[\"processed_behavior_recording_dataframe\"].head(n=15)"
   ]
  },
  {
   "cell_type": "code",
   "execution_count": null,
   "id": "d8cfbbb2",
   "metadata": {},
   "outputs": [],
   "source": [
    "value[\"processed_behavior_recording_dataframe\"].head(n=15)"
   ]
  },
  {
   "cell_type": "code",
   "execution_count": null,
   "id": "5fd9704d",
   "metadata": {
    "scrolled": false
   },
   "outputs": [],
   "source": [
    "value[\"processed_behavior_recording_dataframe\"].tail(n=15)"
   ]
  },
  {
   "cell_type": "code",
   "execution_count": null,
   "id": "e07f9612",
   "metadata": {},
   "outputs": [],
   "source": [
    "raise ValueError()"
   ]
  },
  {
   "cell_type": "markdown",
   "id": "c9ec4831",
   "metadata": {},
   "source": [
    "## Getting the cage number"
   ]
  },
  {
   "cell_type": "markdown",
   "id": "1121860b",
   "metadata": {},
   "source": [
    "- The cage number is sometimes not consistent throughout a spreadsheet for the same cage. So we will try to standarize it into one value.\n",
    "    - **NOTE**: This assumes cage numbers are actual numbers. And not entirely consisting of letters. If that isn't the case, then you must edit this cell for your needs."
   ]
  },
  {
   "cell_type": "markdown",
   "id": "3cd993b5",
   "metadata": {},
   "source": [
    "# NOTE: If there is a column that has the cage number information, replace the `None` with the column name in quotation marks"
   ]
  },
  {
   "cell_type": "markdown",
   "id": "93b3eea0",
   "metadata": {},
   "source": [
    "# TODO: Refactor starting here"
   ]
  },
  {
   "cell_type": "markdown",
   "id": "a10da7d2",
   "metadata": {},
   "source": [
    "- Change this when you have winner and loser cage"
   ]
  },
  {
   "cell_type": "code",
   "execution_count": null,
   "id": "33a28850",
   "metadata": {},
   "outputs": [],
   "source": [
    "cage_num_of_winner_column = None\n",
    "cage_num_of_loser_column = None"
   ]
  },
  {
   "cell_type": "markdown",
   "id": "dde331ee",
   "metadata": {},
   "source": [
    "- Change this when you have id to cage"
   ]
  },
  {
   "cell_type": "code",
   "execution_count": null,
   "id": "beb4ca9d",
   "metadata": {},
   "outputs": [],
   "source": [
    "id_to_cage = {}"
   ]
  },
  {
   "cell_type": "code",
   "execution_count": null,
   "id": "d37595b0",
   "metadata": {
    "scrolled": false
   },
   "outputs": [],
   "source": [
    "for key, value in sheet_name_to_everything.items():   \n",
    "    # When you have a dictionary of IDs to Cage Numbers\n",
    "    if id_to_cage:\n",
    "        # Specifying the name by default\n",
    "        value[\"cage_num_of_winner_column\"] = \"original_cage_num_of_winner\"\n",
    "        value[\"cage_num_of_loser_column\"] = \"original_cage_num_of_loser\"\n",
    "        # Mapping the IDs to the cage number\n",
    "        value[\"processed_behavior_recording_dataframe\"][value[\"cage_num_of_winner_column\"]] = value[\"processed_behavior_recording_dataframe\"][value[\"winner_id_column\"]].map(id_to_cage)\n",
    "        value[\"processed_behavior_recording_dataframe\"][value[\"cage_num_of_loser_column\"]] = value[\"processed_behavior_recording_dataframe\"][value[\"loser_id_column\"]].map(id_to_cage)\n",
    "        continue\n",
    "        \n",
    "    # When you have a column that specifies the cage number\n",
    "    elif cage_num_of_winner_column and cage_num_of_loser_column:\n",
    "        value[\"cage_num_of_winner_column\"] = cage_num_of_winner_column\n",
    "        value[\"cage_num_of_loser_column\"] = cage_num_of_loser_column\n",
    "    elif cage_num_of_winner_column:\n",
    "        value[\"cage_num_of_winner_column\"] = cage_num_of_winner_column\n",
    "    elif cage_num_of_loser_column:\n",
    "        value[\"cage_num_of_loser_column\"] = cage_num_of_loser_column\n",
    "\n",
    "    \n",
    "    if not cage_num_of_winner_column:\n",
    "        # Asking the user which column has the cage number\n",
    "        value[\"cage_num_of_winner_column\"] = input(\"\"\"Type the name of the column of the cage of the WINNER subject\n",
    "        i.e. \"cage_num_of_winner\"\n",
    "\n",
    "        The available columns are: {}\n",
    "\n",
    "        Note: If left blank, the column with \"winner\" and \"cage\" will be used as the column. If there is none, then the sheet name will be used.\n",
    "        \"\"\".format(value[\"processed_behavior_recording_dataframe\"].columns))        \n",
    "        \n",
    "        # Getting the column that has \"winner\" and \"cage\" in its name if no column is specified\n",
    "        if not value[\"cage_num_of_winner_column\"]:\n",
    "            # Checking to see if there are any columns with the winner and cage in the name\n",
    "            column_names_with_cage = [col for col in value[\"processed_behavior_recording_dataframe\"].columns if \"cage\" in col.lower() and \"winner\" in col.lower()]\n",
    "            # Using the column with cage in the name if there are none with winner and cage\n",
    "            column_names_with_cage += [col for col in value[\"processed_behavior_recording_dataframe\"].columns if \"cage\" in col.lower()]\n",
    "            if column_names_with_cage:\n",
    "                value[\"winnner_cage_column\"] = column_names_with_cage[0]\n",
    "            else:\n",
    "                # Using the default name as the cage column name if there are none\n",
    "                value[\"cage_num_of_winner_column\"] = \"original_cage_num_of_winner\"\n",
    "    \n",
    "    if not cage_num_of_loser_column:\n",
    "        # Asking the user which column has the cage number\n",
    "        value[\"cage_num_of_loser_column\"] = input(\"\"\"Type the name of the column of the cage of the LOSER subject\n",
    "        i.e. \"cage_num_of_loser\"\n",
    "\n",
    "        The available columns are: {}\n",
    "\n",
    "        Note: If left blank, the column with \"loser\" and \"cage\" will be used as the column. If there is none, then the sheet name will be used.\n",
    "        \"\"\".format(value[\"processed_behavior_recording_dataframe\"].columns))        \n",
    "        \n",
    "        # Getting the column that has \"loser\" and \"cage\" in its name if no column is specified\n",
    "        if not value[\"cage_num_of_loser_column\"]:\n",
    "            # Checking to see if there are any columns with the loser and cage in the name\n",
    "            column_names_with_cage = [col for col in value[\"processed_behavior_recording_dataframe\"].columns if \"cage\" in col.lower() and \"loser\" in col.lower()]\n",
    "            # Using the column with cage in the name if there are none with loser and cage\n",
    "            column_names_with_cage += [col for col in value[\"processed_behavior_recording_dataframe\"].columns if \"cage\" in col.lower()]\n",
    "            if column_names_with_cage:\n",
    "                value[\"winnner_cage_column\"] = column_names_with_cage[0]\n",
    "            else:\n",
    "                # Using the default name as the cage column name if there are none\n",
    "                value[\"cage_num_of_loser_column\"] = \"original_cage_num_of_loser\"\n",
    "    \n",
    "    # Using the spreadsheet name as the cage number if there are no columns that match\n",
    "    if value[\"cage_num_of_winner_column\"] not in value[\"processed_behavior_recording_dataframe\"].columns:\n",
    "        value[\"processed_behavior_recording_dataframe\"][value[\"cage_num_of_winner_column\"]] = key\n",
    "\n",
    "    if value[\"cage_num_of_loser_column\"] not in value[\"processed_behavior_recording_dataframe\"].columns:\n",
    "        value[\"processed_behavior_recording_dataframe\"][value[\"cage_num_of_loser_column\"]] = key       \n",
    "    \n",
    "    # Turning the cage names into the float number only\n",
    "    # Or using the same name if there are no floats\n",
    "    value[\"processed_behavior_recording_dataframe\"][\"processed_cage_num_of_winner\"] = value[\"processed_behavior_recording_dataframe\"][value[\"cage_num_of_winner_column\"]].apply(lambda x: re.findall(r'\\d+', str(x))[0] if re.findall(r'\\d+', str(x)) else x)\n",
    "    value[\"processed_behavior_recording_dataframe\"][\"processed_cage_num_of_loser\"] = value[\"processed_behavior_recording_dataframe\"][value[\"cage_num_of_loser_column\"]].apply(lambda x: re.findall(r'\\d+', str(x))[0] if re.findall(r'\\d+', str(x)) else x)\n",
    "\n",
    "    "
   ]
  },
  {
   "cell_type": "code",
   "execution_count": null,
   "id": "cdc5d88d",
   "metadata": {},
   "outputs": [],
   "source": [
    "sheet_name_to_everything[\"CAGE1\"][\"processed_behavior_recording_dataframe\"]"
   ]
  },
  {
   "cell_type": "markdown",
   "id": "df5a7871",
   "metadata": {},
   "source": [
    "## Calculating Elo rating"
   ]
  },
  {
   "cell_type": "markdown",
   "id": "5a74ee77",
   "metadata": {},
   "source": [
    "- Example calculation"
   ]
  },
  {
   "cell_type": "code",
   "execution_count": null,
   "id": "0f3bdd34",
   "metadata": {},
   "outputs": [],
   "source": [
    "calculation.calculate_elo_rating(subject_elo_rating=1000, agent_elo_rating=2000, score=1)"
   ]
  },
  {
   "cell_type": "code",
   "execution_count": null,
   "id": "4bf42d10",
   "metadata": {},
   "outputs": [],
   "source": [
    "calculation.update_elo_rating(winner_id=\"A\", loser_id=\"B\")"
   ]
  },
  {
   "cell_type": "markdown",
   "id": "317d3e5a",
   "metadata": {},
   "source": [
    "## Get the Elo rating for all the events"
   ]
  },
  {
   "cell_type": "markdown",
   "id": "6b955461",
   "metadata": {},
   "source": [
    "- Going through each row or interaction and calculating the new Elo rating for the winner and loser. This will create a new dataframe based off of the processed behavioral recording dataframe"
   ]
  },
  {
   "cell_type": "markdown",
   "id": "1caa5616",
   "metadata": {},
   "source": [
    "# NOTE: If there are a set of columns to keep, edit the cell below with the name of the columns each in quotation marks seperated by commas\n",
    "   - i.e. `['runner', 'date', 'match', 'winner', 'loser', 'notes', 'session_number',\n",
    "       'session_number_difference']`"
   ]
  },
  {
   "cell_type": "code",
   "execution_count": null,
   "id": "bb945669",
   "metadata": {},
   "outputs": [],
   "source": [
    "all_columns_to_keep = [\"\"]"
   ]
  },
  {
   "cell_type": "code",
   "execution_count": null,
   "id": "27d12667",
   "metadata": {},
   "outputs": [],
   "source": [
    "def get_subject_cage_number(x):\n",
    "    \"\"\"\n",
    "    \"\"\"\n",
    "    if x[\"win_draw_loss\"] == 1:\n",
    "        return x[\"processed_cage_num_of_winner\"]\n",
    "    elif x[\"win_draw_loss\"] == 0:\n",
    "        return x[\"processed_cage_num_of_loser\"]\n",
    "    elif x[\"win_draw_loss\"] == 0.5:\n",
    "        if 1 == pairing_index:\n",
    "            return x[\"processed_cage_num_of_winner\"] \n",
    "        elif 1 == pairing_index:\n",
    "            return x[\"processed_cage_num_of_loser\"]"
   ]
  },
  {
   "cell_type": "code",
   "execution_count": null,
   "id": "0bd7c67b",
   "metadata": {
    "scrolled": true
   },
   "outputs": [],
   "source": [
    "for key, value in sheet_name_to_everything.items():\n",
    "    if not all_columns_to_keep:\n",
    "        # Asking the user which columns to carry over to the Elo rating calculation dataframe\n",
    "        value[\"columns_to_keep_string\"] = input(\"\"\"Type all the columns that will be copied from the original dataframe to the Elo rating calculated dataframe. \n",
    "\n",
    "        All the available actions: {}\n",
    "        Each column must be put in quotes and seperated by a comma(,). i.e. 'length of observations', 'date', 'cage #'\n",
    "\n",
    "        NOTE: If left blank, all the columns will be kept\n",
    "        \"\"\".format(value[\"processed_behavior_recording_dataframe\"].columns))\n",
    "\n",
    "\n",
    "        # Making a list out of the string of inputted sheet names\n",
    "        if value[\"columns_to_keep_string\"]:\n",
    "            value[\"columns_to_keep_string\"] = \"[\" + value[\"columns_to_keep_string\"] + \"]\"\n",
    "            value[\"columns_to_keep_list\"] = ast.literal_eval(value[\"columns_to_keep_string\"])\n",
    "    else: \n",
    "        value[\"columns_to_keep_list\"] = all_columns_to_keep\n",
    "    try:\n",
    "        # Calculating the Elo rating    \n",
    "        value[\"index_to_elo_rating_and_meta_data\"] = calculation.iterate_elo_rating_calculation_for_dataframe(dataframe=value[\"processed_behavior_recording_dataframe\"], \\\n",
    "                                                                                                                   winner_id_column=value[\"winner_id_column\"], loser_id_column=value[\"loser_id_column\"], \\\n",
    "                                                                                                                             additional_columns=value[\"columns_to_keep_list\"], tie_column=value[\"ties_column\"])\n",
    "    \n",
    "    except:\n",
    "        nonexistent_columns = set(value[\"columns_to_keep_list\"]) - set(value[\"processed_behavior_recording_dataframe\"].columns)\n",
    "        print(\"WARNING: {} does not have {} columns\".format(key, nonexistent_columns))\n",
    "        warnings.warn(\"Look at warning from above or below\")\n",
    "        # Using all the column names if no column name is specified\n",
    "        # Removing the winner and loser column because they will be specified as the columns for the Elo rating calculation\n",
    "        value[\"columns_to_keep_list\"] =  sorted(list(set(value[\"processed_behavior_recording_dataframe\"].columns) - set([value[\"winner_id_column\"]]) - set([value[\"loser_id_column\"]])))\n",
    "        value[\"index_to_elo_rating_and_meta_data\"] = calculation.iterate_elo_rating_calculation_for_dataframe(dataframe=value[\"processed_behavior_recording_dataframe\"], \\\n",
    "                                                                                                                   winner_id_column=value[\"winner_id_column\"], loser_id_column=value[\"loser_id_column\"], \\\n",
    "                                                                                                                             additional_columns=value[\"columns_to_keep_list\"], tie_column=value[\"ties_column\"])     \n",
    "\n",
    "    # Making a dataframe from the dictionary \n",
    "    value[\"elo_rating_dataframe\"] = pd.DataFrame.from_dict(value[\"index_to_elo_rating_and_meta_data\"], orient=\"index\")\n",
    "    value[\"elo_rating_dataframe\"][\"cage_num_of_subject\"] = value[\"elo_rating_dataframe\"].apply(lambda x: get_subject_cage_number(x), axis = 1)\n",
    "    value[\"elo_rating_dataframe\"][\"cage_num_of_agent\"] = value[\"elo_rating_dataframe\"].apply(lambda x: get_subject_cage_number(x), axis = 1)\n"
   ]
  },
  {
   "cell_type": "code",
   "execution_count": null,
   "id": "0c982d91",
   "metadata": {
    "scrolled": true
   },
   "outputs": [],
   "source": [
    "value[\"elo_rating_dataframe\"]"
   ]
  },
  {
   "cell_type": "code",
   "execution_count": null,
   "id": "59feeb7e",
   "metadata": {},
   "outputs": [],
   "source": [
    "value[\"elo_rating_dataframe\"].head()"
   ]
  },
  {
   "cell_type": "code",
   "execution_count": null,
   "id": "7548b22c",
   "metadata": {},
   "outputs": [],
   "source": [
    "value[\"elo_rating_dataframe\"].tail()"
   ]
  },
  {
   "cell_type": "code",
   "execution_count": null,
   "id": "00a1a555",
   "metadata": {
    "scrolled": true
   },
   "outputs": [],
   "source": [
    "value[\"elo_rating_dataframe\"].groupby(\"subject_id\").count()"
   ]
  },
  {
   "cell_type": "markdown",
   "id": "e0232279",
   "metadata": {},
   "source": [
    "## Combining all the Elo rating dataframes into one"
   ]
  },
  {
   "cell_type": "code",
   "execution_count": null,
   "id": "bc444bb0",
   "metadata": {},
   "outputs": [],
   "source": [
    "# Putting all the dataframes into one list\n",
    "all_sheet_elo_scord_dataframe_list = []\n",
    "for key, value in sheet_name_to_everything.items():    \n",
    "    all_sheet_elo_scord_dataframe_list.append(value[\"elo_rating_dataframe\"])\n",
    "\n",
    "# Combining all the dataframes into one\n",
    "all_sheet_elo_scord_dataframe_combined = pd.concat(all_sheet_elo_scord_dataframe_list)"
   ]
  },
  {
   "cell_type": "code",
   "execution_count": null,
   "id": "ab021bd3",
   "metadata": {},
   "outputs": [],
   "source": [
    "all_sheet_elo_scord_dataframe_combined"
   ]
  },
  {
   "cell_type": "markdown",
   "id": "c6567731",
   "metadata": {},
   "source": [
    "- Adding the strain information"
   ]
  },
  {
   "cell_type": "code",
   "execution_count": null,
   "id": "f428400c",
   "metadata": {},
   "outputs": [],
   "source": [
    "all_subject_ids = set(all_sheet_elo_scord_dataframe_combined[\"subject_id\"].unique()).union(set(all_sheet_elo_scord_dataframe_combined[\"agent_id\"].unique()))"
   ]
  },
  {
   "cell_type": "markdown",
   "id": "0509c9f6",
   "metadata": {},
   "source": [
    "# NOTE: If there are strains that are associated to each cage, then create a dictionary of cage numbers to strains inside the `{}`\n",
    "- i.e. `cage_to_strain = {\"1\": \"C57\", \"2\": \"C57\", \"3\": \"C57\", \"4\": \"CD1\", \"5\": \"CD1\", \"6\": \"CD1\"}`"
   ]
  },
  {
   "cell_type": "code",
   "execution_count": null,
   "id": "7e0cf433",
   "metadata": {},
   "outputs": [],
   "source": [
    "cage_to_strain = {}"
   ]
  },
  {
   "cell_type": "code",
   "execution_count": null,
   "id": "6b350ff5",
   "metadata": {},
   "outputs": [],
   "source": [
    "if cage_to_strain:\n",
    "    all_sheet_elo_scord_dataframe_combined[\"subject_strain\"] = all_sheet_elo_scord_dataframe_combined[\"cage_num_of_subject\"].map(cage_to_strain)\n",
    "    all_sheet_elo_scord_dataframe_combined[\"agent_strain\"] = all_sheet_elo_scord_dataframe_combined[\"cage_num_of_agent\"].map(cage_to_strain)"
   ]
  },
  {
   "cell_type": "markdown",
   "id": "c6a01ced",
   "metadata": {},
   "source": [
    "- Adding the name of the experiment"
   ]
  },
  {
   "cell_type": "code",
   "execution_count": null,
   "id": "0552560e",
   "metadata": {},
   "outputs": [],
   "source": [
    "# Adding the name of the experiment\n",
    "all_sheet_elo_scord_dataframe_combined[\"experiment_type\"] = protocol_name"
   ]
  },
  {
   "cell_type": "markdown",
   "id": "a1585660",
   "metadata": {},
   "source": [
    "- Adding the cohort"
   ]
  },
  {
   "cell_type": "code",
   "execution_count": null,
   "id": "71517869",
   "metadata": {},
   "outputs": [],
   "source": [
    "all_sheet_elo_scord_dataframe_combined[\"cohort\"] = cohort_name"
   ]
  },
  {
   "cell_type": "code",
   "execution_count": null,
   "id": "c7bab1a1",
   "metadata": {
    "scrolled": false
   },
   "outputs": [],
   "source": [
    "all_sheet_elo_scord_dataframe_combined.head()"
   ]
  },
  {
   "cell_type": "code",
   "execution_count": null,
   "id": "53012f41",
   "metadata": {
    "scrolled": true
   },
   "outputs": [],
   "source": [
    "all_sheet_elo_scord_dataframe_combined.tail()"
   ]
  },
  {
   "cell_type": "code",
   "execution_count": null,
   "id": "d0c4a43f",
   "metadata": {
    "scrolled": true
   },
   "outputs": [],
   "source": [
    "# Checking to see how many rows for each subject in each cage\n",
    "all_sheet_elo_scord_dataframe_combined.groupby(['subject_id','cage_num_of_subject']).count()"
   ]
  },
  {
   "cell_type": "markdown",
   "id": "85b422ae",
   "metadata": {},
   "source": [
    "## Creating a dataframe with only the final Elo rating for each subject"
   ]
  },
  {
   "cell_type": "code",
   "execution_count": null,
   "id": "059fb549",
   "metadata": {},
   "outputs": [],
   "source": [
    "# Checking to see which cage and subject combination has more than one row\n",
    "all_sheet_elo_scord_dataframe_groupby = all_sheet_elo_scord_dataframe_combined.groupby(['subject_id','cage_num_of_subject']).size().reset_index()\n",
    "all_sheet_elo_scord_dataframe_groupby = all_sheet_elo_scord_dataframe_groupby[all_sheet_elo_scord_dataframe_groupby[0] >= 1]\n",
    "\n",
    "# Going through each combination and saving the combination to a dictionary\n",
    "index_to_subject_id_and_processed_cage_number = defaultdict(dict)\n",
    "for index, row in all_sheet_elo_scord_dataframe_groupby.iterrows():\n",
    "    index_to_subject_id_and_processed_cage_number[index]['subject_id'] = row['subject_id']\n",
    "    index_to_subject_id_and_processed_cage_number[index]['cage_num_of_subject'] = row['cage_num_of_subject']\n"
   ]
  },
  {
   "cell_type": "code",
   "execution_count": null,
   "id": "925f4ba9",
   "metadata": {
    "scrolled": true
   },
   "outputs": [],
   "source": [
    "index_to_subject_id_and_processed_cage_number"
   ]
  },
  {
   "cell_type": "markdown",
   "id": "e6d54e48",
   "metadata": {},
   "source": [
    "- Getting the final Elo rating for each cage and subject combination"
   ]
  },
  {
   "cell_type": "code",
   "execution_count": null,
   "id": "23352d25",
   "metadata": {},
   "outputs": [],
   "source": [
    "for index, (key, value) in enumerate(index_to_subject_id_and_processed_cage_number.items()):   \n",
    "    # The Elo rating dataframe for each cage and subject combination\n",
    "    per_subject_dataframe = all_sheet_elo_scord_dataframe_combined[(all_sheet_elo_scord_dataframe_combined[\"subject_id\"] == value[\"subject_id\"]) & (all_sheet_elo_scord_dataframe_combined[\"cage_num_of_subject\"] == value[\"cage_num_of_subject\"])]\n",
    "    # Getting the final Elo rating for each combination\n",
    "    # -1 Means that we're getting the data from the last row\n",
    "\n",
    "    index_to_subject_id_and_processed_cage_number[index][\"final_elo_rating\"] = per_subject_dataframe.iloc[-1][\"updated_elo_rating\"]\n",
    "    index_to_subject_id_and_processed_cage_number[index][\"cohort\"] = per_subject_dataframe.iloc[-1][\"cohort\"]\n",
    "    try:\n",
    "        index_to_subject_id_and_processed_cage_number[index][\"strain\"] = per_subject_dataframe.iloc[-1][\"strain\"]\n",
    "    except:\n",
    "        print(\"WARNING: {} in cage {} does not have strain information\".format(index_to_subject_id_and_processed_cage_number[key][\"subject_id\"], index_to_subject_id_and_processed_cage_number[key][\"cage_num_of_subject\"]))\n",
    "        warnings.warn(\"Look at warning from above or below\")\n"
   ]
  },
  {
   "cell_type": "code",
   "execution_count": null,
   "id": "67d194b4",
   "metadata": {},
   "outputs": [],
   "source": [
    "id_to_final_elo_rating_df = pd.DataFrame.from_dict(index_to_subject_id_and_processed_cage_number, orient=\"index\")\n",
    "# Adding protocol name\n",
    "id_to_final_elo_rating_df[\"experiment_type\"] = protocol_name\n",
    "# Adding rank\n",
    "id_to_final_elo_rating_df[\"rank\"] = id_to_final_elo_rating_df.groupby(\"cage_num_of_subject\")[\"final_elo_rating\"].rank(\"dense\", ascending=False)\n",
    "# Sorting by cage and then id\n",
    "id_to_final_elo_rating_df = id_to_final_elo_rating_df.sort_values(by=['cage_num_of_subject', \"subject_id\"], ascending=True).reset_index(drop=True)"
   ]
  },
  {
   "cell_type": "code",
   "execution_count": null,
   "id": "9b169b88",
   "metadata": {},
   "outputs": [],
   "source": [
    "id_to_final_elo_rating_df.head()"
   ]
  },
  {
   "cell_type": "code",
   "execution_count": null,
   "id": "af9e53d9",
   "metadata": {},
   "outputs": [],
   "source": [
    "id_to_final_elo_rating_df.tail()"
   ]
  },
  {
   "cell_type": "markdown",
   "id": "37d31b43",
   "metadata": {},
   "source": [
    "# Making plots for all sheets"
   ]
  },
  {
   "cell_type": "markdown",
   "id": "7d5ca831",
   "metadata": {},
   "source": [
    "- Getting the dates the files were being recorded to use for the file name"
   ]
  },
  {
   "cell_type": "code",
   "execution_count": null,
   "id": "ea99445b",
   "metadata": {
    "scrolled": false
   },
   "outputs": [],
   "source": [
    "all_sheet_elo_scord_dataframe_combined.head()"
   ]
  },
  {
   "cell_type": "code",
   "execution_count": null,
   "id": "b6d015a1",
   "metadata": {
    "scrolled": true
   },
   "outputs": [],
   "source": [
    "all_sheet_elo_scord_dataframe_combined.tail()"
   ]
  },
  {
   "cell_type": "markdown",
   "id": "4b5ff092",
   "metadata": {},
   "source": [
    "- Getting the earliest and the latest dates for all the recordings"
   ]
  },
  {
   "cell_type": "code",
   "execution_count": null,
   "id": "838db3a3",
   "metadata": {},
   "outputs": [],
   "source": [
    "all_earlist_dates = []\n",
    "all_latest_dates = []\n",
    "for key, value in sheet_name_to_everything.items():\n",
    "    try:\n",
    "        # Getting all the earliest dates for each sheet\n",
    "        all_earlist_dates.append(value[\"elo_rating_dataframe\"][value[\"session_divider_column\"]].min())\n",
    "        all_latest_dates.append(value[\"elo_rating_dataframe\"][value[\"session_divider_column\"]].max())\n",
    "    except:\n",
    "        print(\"WARNING: {} does not have dates as columns\".format(key, nonexistent_columns))\n",
    "        warnings.warn(\"Look at warning from above or below\")"
   ]
  },
  {
   "cell_type": "code",
   "execution_count": null,
   "id": "44271cd5",
   "metadata": {},
   "outputs": [],
   "source": [
    "try:\n",
    "    # Turning the Dates into a easier to read format\n",
    "    # Getting the 0th part of split to remove seconds\n",
    "    earliest_date = str(min(all_earlist_dates)).split()[0]\n",
    "    latest_date = str(max(all_latest_dates)).split()[0]\n",
    "    print(\"Earlist date: {}\".format(earliest_date))\n",
    "    print(\"Latest date: {}\".format(latest_date))\n",
    "except:\n",
    "    earliest_date = None\n",
    "    latest_date = None"
   ]
  },
  {
   "cell_type": "markdown",
   "id": "ca32b0e7",
   "metadata": {},
   "source": [
    "- Getting the cage numbers"
   ]
  },
  {
   "cell_type": "code",
   "execution_count": null,
   "id": "6e2a7bf9",
   "metadata": {},
   "outputs": [],
   "source": [
    "all_cages_list = []\n",
    "# Creating a list of all the cage numbers\n",
    "for key, value in sheet_name_to_everything.items():\n",
    "    try:\n",
    "        for cage in value[\"elo_rating_dataframe\"][\"cage_num_of_subject\"].unique():\n",
    "            all_cages_list.append(cage)\n",
    "    except:\n",
    "        print(\"WARNING: {} does not have cage number as columns\".format(key))\n",
    "        warnings.warn(\"Look at warning from above or below\")"
   ]
  },
  {
   "cell_type": "code",
   "execution_count": null,
   "id": "82a1980b",
   "metadata": {},
   "outputs": [],
   "source": [
    "try:\n",
    "    all_cages_string = \"-\".join(sorted([sheet.lower().strip(\"cage\").strip() for sheet in all_cages_list]))\n",
    "    all_cages_string = \"cages-{}\".format(all_cages_string)\n",
    "    print(\"String of cage names to use for file name: {}\".format(all_cages_string))\n",
    "except: \n",
    "    warnings.warn(\"WARNING: There are no cage numbers to make a title out of\")\n",
    "    all_cages_string = None"
   ]
  },
  {
   "cell_type": "markdown",
   "id": "9a172d21",
   "metadata": {},
   "source": [
    "- Creating an output directory to save the plots"
   ]
  },
  {
   "cell_type": "code",
   "execution_count": null,
   "id": "f60a2448",
   "metadata": {},
   "outputs": [],
   "source": [
    "plot_output_directory = os.path.join(\".\", \"proc\", \"plots\", \"{}_elo_rating\".format(protocol_name))"
   ]
  },
  {
   "cell_type": "code",
   "execution_count": null,
   "id": "448aa7ac",
   "metadata": {},
   "outputs": [],
   "source": [
    "plot_output_directory"
   ]
  },
  {
   "cell_type": "code",
   "execution_count": null,
   "id": "52e1511c",
   "metadata": {},
   "outputs": [],
   "source": [
    "os.makedirs(plot_output_directory, exist_ok=True)"
   ]
  },
  {
   "cell_type": "markdown",
   "id": "7b7399c2",
   "metadata": {},
   "source": [
    "# **NOTE**: Sometimes this cell needs to be run again to make sure the size is correct"
   ]
  },
  {
   "cell_type": "code",
   "execution_count": null,
   "id": "28ced0f6",
   "metadata": {},
   "outputs": [],
   "source": [
    "# Getting the highest and lowest Elo rating for cutoffs of the Y-axis\n",
    "max_elo_rating = all_sheet_elo_scord_dataframe_combined[\"updated_elo_rating\"].max()\n",
    "min_elo_rating = all_sheet_elo_scord_dataframe_combined[\"updated_elo_rating\"].min()\n",
    "\n",
    "plt.rcParams[\"figure.figsize\"] = (13.5,7.5)\n",
    "# Making a plot for each sheet\n",
    "for key, value in sheet_name_to_everything.items():\n",
    "    # Setting the size of the figure\n",
    "    plt.rcParams[\"figure.figsize\"] = (13.5,7.5)\n",
    "    print(key)\n",
    "    elo_rating_dataframe = value[\"elo_rating_dataframe\"]\n",
    "    # Using a new figure template for each sheet\n",
    "    fig, ax = plt.subplots()        \n",
    "        \n",
    "    try:\n",
    "        # Drawing vertical lines that represent when each session begins\n",
    "        # Based on when a row has a different session than the previous row\n",
    "        for index, row in elo_rating_dataframe[elo_rating_dataframe['session_number_difference'].astype(bool)].iterrows():\n",
    "            # Offsetting by 0.5 to avoid drawing the line on the dot\n",
    "            # Drawing the lines a little above the max and a little below the minimum\n",
    "            plt.vlines(x=[row[\"total_match_number\"] - 0.5], ymin=min_elo_rating-50, ymax=max_elo_rating+50, colors='black', linestyle='dashed')\n",
    "    except:\n",
    "        print(\"WARNING: {} does not have a column for session divider\".format(key))\n",
    "        warnings.warn(\"Look at warning from above or below\")\n",
    "            \n",
    "    # Drawing a line for each subject\n",
    "    for subject in sorted(elo_rating_dataframe[\"subject_id\"].unique()):\n",
    "        # Getting all the rows with the current subject\n",
    "        subject_dataframe = elo_rating_dataframe[elo_rating_dataframe[\"subject_id\"] == subject]\n",
    "        # Making the current match number the X-Axis\n",
    "        plt.plot(subject_dataframe[\"total_match_number\"], subject_dataframe[\"updated_elo_rating\"], '-o', label=subject)\n",
    "\n",
    "    # Labeling the X/Y Axis and the title\n",
    "    ax.set_xlabel(\"Trial Number\")\n",
    "    ax.set_ylabel(\"Elo rating\")\n",
    "    # Formattnig Cohort and Experiment Name so that it's more readable with spacing and capitalization\n",
    "    formatted_cohort_name = \" \".join(cohort_name.split(\"_\")).capitalize()\n",
    "    formatted_protocol_name = string.capwords(\" \".join(protocol_name.split(\"_\")))\n",
    "    formatted_cage_name = \" \".join((re.match(r\"([a-z]+)([0-9]+)\", key, re.I).groups())).capitalize()    \n",
    "    ax.set_title(\"{} Elo Rating for {} {}\".format(formatted_protocol_name, formatted_cohort_name, formatted_cage_name))\n",
    "    \n",
    "    # To show the legend\n",
    "    ax.legend(loc=\"upper left\")\n",
    "    # Setting the values of the Y-axis\n",
    "    plt.ylim(min_elo_rating-50, max_elo_rating+50) \n",
    "    # Saving the plot\n",
    "    file_name_parts_separated = [prefix_name, cohort_name, key, earliest_date, latest_date]\n",
    "    file_name_parts_combined = \"_\".join([part for part in file_name_parts_separated if part])\n",
    "    \n",
    "    file_name_full = \"elo_rating_{}.png\".format(file_name_parts_combined)\n",
    "    # Removing all the spaces and replacing them with underscores\n",
    "    file_name_full = \"_\".join(file_name_full.split(\" \"))\n",
    "    plt.savefig(os.path.join(plot_output_directory, file_name_full))\n",
    "    # Showing the plots\n",
    "    plt.show()"
   ]
  },
  {
   "cell_type": "markdown",
   "id": "7e1bce9b",
   "metadata": {},
   "source": [
    "# TODO: Continue Editing from here"
   ]
  },
  {
   "cell_type": "markdown",
   "id": "7c854621",
   "metadata": {},
   "source": [
    "# Saving the Dataframes"
   ]
  },
  {
   "cell_type": "markdown",
   "id": "26de535f",
   "metadata": {},
   "source": [
    "- Creating a subfolder to put the Elo rating Spreadsheets"
   ]
  },
  {
   "cell_type": "code",
   "execution_count": null,
   "id": "cfad2519",
   "metadata": {},
   "outputs": [],
   "source": [
    "elo_rating_spreadsheet_output_directory = os.path.join(\".\", \"proc\", \"elo_rating_spread_sheets\", \"{}\".format(protocol_name))"
   ]
  },
  {
   "cell_type": "code",
   "execution_count": null,
   "id": "13772e59",
   "metadata": {},
   "outputs": [],
   "source": [
    "elo_rating_spreadsheet_output_directory"
   ]
  },
  {
   "cell_type": "code",
   "execution_count": null,
   "id": "354be11f",
   "metadata": {},
   "outputs": [],
   "source": [
    "os.makedirs(elo_rating_spreadsheet_output_directory, exist_ok=True)"
   ]
  },
  {
   "cell_type": "markdown",
   "id": "3232f85a",
   "metadata": {},
   "source": [
    "- Saving the dataframes to a file"
   ]
  },
  {
   "cell_type": "code",
   "execution_count": null,
   "id": "75e19fcf",
   "metadata": {},
   "outputs": [],
   "source": [
    "file_name_parts_separated = [cohort_name, all_cages_string, prefix_name, earliest_date, latest_date]\n",
    "file_name_parts_combined = \"_\".join([part for part in file_name_parts_separated if part])\n",
    "\n",
    "file_name_full = \"{}_elo-rating-history.csv\".format(file_name_parts_combined)\n",
    "print(file_name_full)\n",
    "all_sheet_elo_scord_dataframe_combined.to_csv(os.path.join(elo_rating_spreadsheet_output_directory, file_name_full))"
   ]
  },
  {
   "cell_type": "code",
   "execution_count": null,
   "id": "22ad9a78",
   "metadata": {},
   "outputs": [],
   "source": [
    "file_name_full = \"{}_final-elo-rating.csv\".format(file_name_parts_combined)\n",
    "print(file_name_full)\n",
    "id_to_final_elo_rating_df.to_csv(os.path.join(elo_rating_spreadsheet_output_directory, file_name_full))"
   ]
  },
  {
   "cell_type": "markdown",
   "id": "553e6b8c",
   "metadata": {},
   "source": [
    "# Seeing which subject is the dominant or submissive"
   ]
  },
  {
   "cell_type": "markdown",
   "id": "9f85f9be",
   "metadata": {},
   "source": [
    "- Grouping all the rows with the same pair"
   ]
  },
  {
   "cell_type": "code",
   "execution_count": null,
   "id": "190469ee",
   "metadata": {},
   "outputs": [],
   "source": [
    "all_processed_behavior_recording_list = []\n",
    "for key, value in sheet_name_to_everything.items():\n",
    "    all_processed_behavior_recording_list.append(value[\"processed_behavior_recording_dataframe\"])\n",
    "    "
   ]
  },
  {
   "cell_type": "markdown",
   "id": "36073799",
   "metadata": {},
   "source": [
    "- Combining all the dataframes from all the cages"
   ]
  },
  {
   "cell_type": "code",
   "execution_count": null,
   "id": "5cda6488",
   "metadata": {},
   "outputs": [],
   "source": [
    "all_processed_behavior_recording_df = pd.concat(all_processed_behavior_recording_list)"
   ]
  },
  {
   "cell_type": "code",
   "execution_count": null,
   "id": "ffe367e8",
   "metadata": {},
   "outputs": [],
   "source": [
    "all_processed_behavior_recording_df.head()"
   ]
  },
  {
   "cell_type": "markdown",
   "id": "66286f48",
   "metadata": {},
   "source": [
    "- Getting a tuple of the animal IDs to be able to group"
   ]
  },
  {
   "cell_type": "markdown",
   "id": "f789d4d6",
   "metadata": {},
   "source": [
    "# Note: This assumes that all the animal IDs are different across cages and that all IDs are numbers. i.e. there are no duplicate IDs in different cages."
   ]
  },
  {
   "cell_type": "raw",
   "id": "04aaece0",
   "metadata": {},
   "source": [
    "# Getting the animal IDs from the Match string\n",
    "# i.e. Getting all the floats and removing all spaces\n",
    "# Sorting so that the animal IDs are always in the same order\n",
    "all_processed_behavior_recording_df[\"animal_id\"] =  all_processed_behavior_recording_df[\"match\"].apply(lambda x: sorted([subject_id.lower().strip() for subject_id in re.findall(r\"[-+]?(?:\\d*\\.\\d+|\\d+)\", x)]))\n"
   ]
  },
  {
   "cell_type": "raw",
   "id": "bd2e58c7",
   "metadata": {},
   "source": [
    "# Making a tuple out of the list\n",
    "# Tuples are used because lists are mutable and can't be grouped with\n",
    "all_processed_behavior_recording_df[\"tuple_animal_id\"] = all_processed_behavior_recording_df[\"animal_id\"].apply(lambda x: tuple(x))"
   ]
  },
  {
   "cell_type": "code",
   "execution_count": null,
   "id": "0d2c0396",
   "metadata": {},
   "outputs": [],
   "source": [
    "# Getting the animal IDs from the Match string\n",
    "# i.e. Getting all the floats and removing all spaces\n",
    "# Sorting so that the animal IDs are always in the same order\n",
    "all_processed_behavior_recording_df[\"animal_id\"] =  all_processed_behavior_recording_df.apply(lambda x: sorted([subject_id.lower().strip() for subject_id in re.findall(r\"[-+]?(?:\\d*\\.\\d+|\\d+)\", x)]))\n"
   ]
  },
  {
   "cell_type": "code",
   "execution_count": null,
   "id": "fe7ffeb0",
   "metadata": {},
   "outputs": [],
   "source": [
    "# Making a tuple out of the list\n",
    "# Tuples are used because lists are mutable and can't be grouped with\n",
    "all_processed_behavior_recording_df[\"tuple_animal_id\"] = all_processed_behavior_recording_df[\"animal_id\"].apply(lambda x: tuple(x))"
   ]
  },
  {
   "cell_type": "code",
   "execution_count": null,
   "id": "603cdd56",
   "metadata": {
    "scrolled": true
   },
   "outputs": [],
   "source": [
    "all_processed_behavior_recording_df.head()"
   ]
  },
  {
   "cell_type": "markdown",
   "id": "a8fe8e70",
   "metadata": {},
   "source": [
    "- Removing columns that would be unnecessary for the pairings"
   ]
  },
  {
   "cell_type": "code",
   "execution_count": null,
   "id": "da9e307b",
   "metadata": {},
   "outputs": [],
   "source": [
    "all_processed_behavior_recording_df.columns"
   ]
  },
  {
   "cell_type": "code",
   "execution_count": null,
   "id": "75a6dfea",
   "metadata": {},
   "outputs": [],
   "source": [
    "# Getting only the columns that we need\n",
    "all_processed_behavior_recording_df = all_processed_behavior_recording_df[['runner', 'date', 'match', 'winner', 'loser', 'notes', 'animal_id', 'tuple_animal_id', \"processed_cage_number\"]]\n",
    "# Converting the cage number to an integer\n",
    "all_processed_behavior_recording_df['processed_cage_number'] = all_processed_behavior_recording_df['processed_cage_number'].astype(int)"
   ]
  },
  {
   "cell_type": "code",
   "execution_count": null,
   "id": "45c30146",
   "metadata": {
    "scrolled": false
   },
   "outputs": [],
   "source": [
    "all_processed_behavior_recording_df.head()"
   ]
  },
  {
   "cell_type": "markdown",
   "id": "8e88c0aa",
   "metadata": {},
   "source": [
    "- Getting the ID of the winner and the loser for each pair with each match"
   ]
  },
  {
   "cell_type": "code",
   "execution_count": null,
   "id": "820af7c5",
   "metadata": {},
   "outputs": [],
   "source": [
    "all_wins_per_pair = all_processed_behavior_recording_df.groupby(\"tuple_animal_id\")['winner'].apply(list)\n",
    "all_loses_per_pair = all_processed_behavior_recording_df.groupby(\"tuple_animal_id\")['loser'].apply(list)"
   ]
  },
  {
   "cell_type": "code",
   "execution_count": null,
   "id": "e049ff2f",
   "metadata": {},
   "outputs": [],
   "source": [
    "all_wins_per_pair[:5]"
   ]
  },
  {
   "cell_type": "markdown",
   "id": "ef8666d1",
   "metadata": {},
   "source": [
    "- Making a dataframe of all the winner IDs and all the loser IDs for a given pair"
   ]
  },
  {
   "cell_type": "code",
   "execution_count": null,
   "id": "7072ae41",
   "metadata": {},
   "outputs": [],
   "source": [
    "all_competition_per_pair_df = pd.concat([all_wins_per_pair, all_loses_per_pair], axis=1).reset_index()"
   ]
  },
  {
   "cell_type": "code",
   "execution_count": null,
   "id": "8360dcbc",
   "metadata": {},
   "outputs": [],
   "source": [
    "all_competition_per_pair_df = all_competition_per_pair_df.rename(columns={k: prefix_name + \"_\" + k for k in all_competition_per_pair_df.columns})"
   ]
  },
  {
   "cell_type": "code",
   "execution_count": null,
   "id": "e71a308c",
   "metadata": {},
   "outputs": [],
   "source": [
    "all_competition_per_pair_df"
   ]
  },
  {
   "cell_type": "code",
   "execution_count": null,
   "id": "9761f728",
   "metadata": {},
   "outputs": [],
   "source": [
    "raise ValueError()"
   ]
  },
  {
   "cell_type": "markdown",
   "id": "967554cb",
   "metadata": {},
   "source": [
    "- Adding the cage information"
   ]
  },
  {
   "cell_type": "code",
   "execution_count": null,
   "id": "dd98386c",
   "metadata": {},
   "outputs": [],
   "source": [
    "# Getting the cage number for each pair\n",
    "dropped_duplicate_all_processed_behavior_recording_df = all_processed_behavior_recording_df[[\"tuple_animal_id\", \"processed_cage_number\"]].drop_duplicates()"
   ]
  },
  {
   "cell_type": "code",
   "execution_count": null,
   "id": "42815322",
   "metadata": {
    "scrolled": true
   },
   "outputs": [],
   "source": [
    "dropped_duplicate_all_processed_behavior_recording_df.head()"
   ]
  },
  {
   "cell_type": "markdown",
   "id": "57649764",
   "metadata": {},
   "source": [
    "- Creating a dictionary so that we can create a column for the cage number based on the IDs"
   ]
  },
  {
   "cell_type": "markdown",
   "id": "b46978cd",
   "metadata": {},
   "source": [
    "## TODO: EDIT below"
   ]
  },
  {
   "cell_type": "code",
   "execution_count": null,
   "id": "f72cb22a",
   "metadata": {},
   "outputs": [],
   "source": [
    "try:\n",
    "    pair_to_cage = pd.Series(dropped_duplicate_all_processed_behavior_recording_df[\"processed_cage_number\"].values, index=dropped_duplicate_all_processed_behavior_recording_df[\"tuple_animal_id\"]).to_dict()\n",
    "    display(pair_to_cage)\n",
    "except:\n",
    "    #TODO: \n",
    "    pass"
   ]
  },
  {
   "cell_type": "code",
   "execution_count": null,
   "id": "bc41a65b",
   "metadata": {},
   "outputs": [],
   "source": [
    "try:\n",
    "    all_competition_per_pair_df[\"processed_cage_number\"] = all_competition_per_pair_df[\"{}_tuple_animal_id\".format(prefix_name)].map(pair_to_cage)\n",
    "    all_competition_per_pair_df[\"processed_cage_number\"] = all_competition_per_pair_df[\"processed_cage_number\"].astype(int).astype(str)\n",
    "    display(all_competition_per_pair_df.head())\n",
    "except:\n",
    "    pass"
   ]
  },
  {
   "cell_type": "code",
   "execution_count": null,
   "id": "51422776",
   "metadata": {},
   "outputs": [],
   "source": [
    "all_competition_per_pair_df[\"cohort\"] = cohort_name\n"
   ]
  },
  {
   "cell_type": "markdown",
   "id": "48a5199f",
   "metadata": {},
   "source": [
    "- Calculating the overall winner and loser. Also seeing if there is signficant difference in the number of wins to see if one is dominant over the other"
   ]
  },
  {
   "cell_type": "code",
   "execution_count": null,
   "id": "43c6308f",
   "metadata": {},
   "outputs": [],
   "source": [
    "all_competition_per_pair_df[\"{}_averaged_winner\".format(prefix_name)] = all_competition_per_pair_df[\"{}_winner\".format(prefix_name)].apply(lambda x: Counter(x).most_common(1)[0][0])\n",
    "all_competition_per_pair_df[\"{}_averaged_loser\".format(prefix_name)] = all_competition_per_pair_df[\"{}_loser\".format(prefix_name)].apply(lambda x: Counter(x).most_common(1)[0][0])\n",
    "all_competition_per_pair_df[\"{}_winner_count\".format(prefix_name)] = all_competition_per_pair_df.apply(lambda x: x[\"{}_winner\".format(prefix_name)].count(x[\"{}_averaged_winner\".format(prefix_name)]), axis=1)\n",
    "all_competition_per_pair_df[\"{}_loser_count\".format(prefix_name)] = all_competition_per_pair_df.apply(lambda x: x[\"{}_winner\".format(prefix_name)].count(x[\"{}_averaged_loser\".format(prefix_name)]), axis=1)\n",
    "all_competition_per_pair_df[\"{}_count_difference\".format(prefix_name)] = all_competition_per_pair_df[\"{}_winner_count\".format(prefix_name)] - all_competition_per_pair_df[\"{}_loser_count\".format(prefix_name)]\n",
    "all_competition_per_pair_df[\"{}_match_count\".format(prefix_name)] = all_competition_per_pair_df[\"{}_winner\".format(prefix_name)].apply(lambda x: len(x))\n",
    "all_competition_per_pair_df[\"{}_percent_win\".format(prefix_name)] = all_competition_per_pair_df.apply(lambda x: x[\"{}_winner_count\".format(prefix_name)] / x[\"{}_match_count\".format(prefix_name)], axis=1)\n",
    "all_competition_per_pair_df[\"{}_percentage_tie\".format(prefix_name)] = all_competition_per_pair_df[\"{}_percent_win\".format(prefix_name)].apply(lambda x: True if x < 0.75 else False)"
   ]
  },
  {
   "cell_type": "code",
   "execution_count": null,
   "id": "411bedc5",
   "metadata": {},
   "outputs": [],
   "source": [
    "all_competition_per_pair_df"
   ]
  },
  {
   "cell_type": "markdown",
   "id": "2fc0f692",
   "metadata": {},
   "source": [
    "- Saving the competiton pair results dataframe to a file"
   ]
  },
  {
   "cell_type": "code",
   "execution_count": null,
   "id": "c7c662b7",
   "metadata": {},
   "outputs": [],
   "source": [
    "file_name = \"{}_{}_grouped_by_pairs_cage_{}_date_{}_{}.csv\".format(cohort_name, prefix_name, all_cages_string, earliest_date, latest_date)\n"
   ]
  },
  {
   "cell_type": "code",
   "execution_count": null,
   "id": "8695f84d",
   "metadata": {},
   "outputs": [],
   "source": [
    "elo_rating_spreadsheet_output_directory"
   ]
  },
  {
   "cell_type": "code",
   "execution_count": null,
   "id": "ee4a3b0e",
   "metadata": {},
   "outputs": [],
   "source": [
    "file_name"
   ]
  },
  {
   "cell_type": "code",
   "execution_count": null,
   "id": "73ef04a7",
   "metadata": {},
   "outputs": [],
   "source": [
    "\n",
    "\n",
    "\n",
    "\n",
    "\n",
    "all_competition_per_pair_df.to_csv(os.path.join(elo_rating_spreadsheet_output_directory, file_name))"
   ]
  }
 ],
 "metadata": {
  "kernelspec": {
   "display_name": "Python 3 (ipykernel)",
   "language": "python",
   "name": "python3"
  },
  "language_info": {
   "codemirror_mode": {
    "name": "ipython",
    "version": 3
   },
   "file_extension": ".py",
   "mimetype": "text/x-python",
   "name": "python",
   "nbconvert_exporter": "python",
   "pygments_lexer": "ipython3",
   "version": "3.9.15"
  },
  "vscode": {
   "interpreter": {
    "hash": "3f8ee54d6a5e4a8880ade41546e056b482b8e637dc064f40b470e6968242c2bb"
   }
  }
 },
 "nbformat": 4,
 "nbformat_minor": 5
}
