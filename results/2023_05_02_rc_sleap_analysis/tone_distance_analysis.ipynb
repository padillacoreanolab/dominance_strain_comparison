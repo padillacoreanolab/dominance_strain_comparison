{
 "cells": [
  {
   "cell_type": "markdown",
   "id": "ec0f0e72",
   "metadata": {},
   "source": [
    "# MED-PC Extracting the Recording Data and Metadata"
   ]
  },
  {
   "cell_type": "markdown",
   "id": "3e96b039",
   "metadata": {},
   "source": [
    "## Importing the Python Libraries"
   ]
  },
  {
   "cell_type": "code",
   "execution_count": 1,
   "id": "df497936",
   "metadata": {},
   "outputs": [],
   "source": [
    "import sys\n",
    "import glob\n",
    "from collections import defaultdict\n",
    "import os\n",
    "import datetime\n",
    "import numpy as np\n",
    "import pandas as pd\n",
    "import matplotlib.pyplot as plt\n",
    "from moviepy.editor import *\n",
    "from datetime import datetime\n",
    "from IPython.display import Video\n",
    "from pathlib import Path"
   ]
  },
  {
   "cell_type": "code",
   "execution_count": 2,
   "id": "b6678428",
   "metadata": {},
   "outputs": [],
   "source": [
    "from medpc2excel.medpc_read import medpc_read\n",
    "import cv2\n",
    "import h5py\n",
    "import numpy as np\n",
    "from functools import reduce\n",
    "from scipy.interpolate import interp1d"
   ]
  },
  {
   "cell_type": "markdown",
   "id": "b16fd1ac",
   "metadata": {},
   "source": [
    "# Getting Tone Times"
   ]
  },
  {
   "cell_type": "code",
   "execution_count": 3,
   "id": "a48d3b6f",
   "metadata": {},
   "outputs": [],
   "source": [
    "tone_start_df = pd.read_excel(\"./data/reward_comp_tone_sleap_frames.xlsx\")"
   ]
  },
  {
   "cell_type": "markdown",
   "id": "8a2ab722",
   "metadata": {},
   "source": [
    "- Getting the file name as opposed to the whole path"
   ]
  },
  {
   "cell_type": "code",
   "execution_count": 4,
   "id": "94dffae7",
   "metadata": {},
   "outputs": [],
   "source": [
    "tone_start_df[\"File Name\"] = tone_start_df[\"File Name\"].apply(lambda x: x.split(\".\")[0])"
   ]
  },
  {
   "cell_type": "markdown",
   "id": "69bee7e1",
   "metadata": {},
   "source": [
    "- Getting the subject name from the file name"
   ]
  },
  {
   "cell_type": "code",
   "execution_count": 5,
   "id": "4208e96a",
   "metadata": {},
   "outputs": [],
   "source": [
    "tone_start_df[\"subj_1\"] = tone_start_df[\"File Name\"].apply(lambda x: sorted(x.split(\"_\")[-1].split(\".\")[0].split(\"v\"))[0].replace(\"-\", \".\").strip())"
   ]
  },
  {
   "cell_type": "code",
   "execution_count": 6,
   "id": "e761c33f",
   "metadata": {},
   "outputs": [],
   "source": [
    "tone_start_df[\"subj_2\"] = tone_start_df[\"File Name\"].apply(lambda x: sorted(x.split(\"_\")[-1].split(\".\")[0].split(\"v\"))[1].replace(\"-\", \".\").strip())"
   ]
  },
  {
   "cell_type": "markdown",
   "id": "57f42d29",
   "metadata": {},
   "source": [
    "- Creating a tuple of the subject names so we can cross reference data sets"
   ]
  },
  {
   "cell_type": "code",
   "execution_count": 7,
   "id": "abe2ceca",
   "metadata": {},
   "outputs": [],
   "source": [
    "tone_start_df[\"all_subj\"] = tone_start_df.apply(lambda x: tuple(sorted([x[\"subj_1\"], x[\"subj_2\"]])) , axis=1)"
   ]
  },
  {
   "cell_type": "code",
   "execution_count": 8,
   "id": "89e44aff",
   "metadata": {},
   "outputs": [],
   "source": [
    "tone_start_df = tone_start_df[tone_start_df[\"Frame Start\"].astype(str).str.isnumeric()]"
   ]
  },
  {
   "cell_type": "code",
   "execution_count": 9,
   "id": "dfed3a76",
   "metadata": {},
   "outputs": [],
   "source": [
    "# ITIs from MED-PC code\n",
    "all_itis = [80, 90, 80, 75, 100, 95, 90, 80, 90, 100, 90, 120, 90, 85, 90, 95, 120, 80, 95, 80, 90, 80, 75, 100, 95, 90, 80, 90, 100, 90, 120, 90, 85, 90, 95, 90, 80, 90, 100, 90, 90, 90, 90, 90, 90, 90, 90, 90, 90, 90, 90, 90, 90, 90, 90, 90, 90, 90, 90 ]"
   ]
  },
  {
   "cell_type": "code",
   "execution_count": 10,
   "id": "7fe890ee",
   "metadata": {},
   "outputs": [],
   "source": [
    "# Converting the seconds into frames\n",
    "all_itis = [num * 30 for num in all_itis]"
   ]
  },
  {
   "cell_type": "markdown",
   "id": "0b312f8d",
   "metadata": {},
   "source": [
    "- Function that let's you cumuatively add a list of items"
   ]
  },
  {
   "cell_type": "code",
   "execution_count": 11,
   "id": "2b43b59c",
   "metadata": {},
   "outputs": [],
   "source": [
    "def get_running_total(lst):\n",
    "    \"\"\"\n",
    "    \"\"\"\n",
    "    return reduce(lambda acc, x: acc + [acc[-1] + x] if acc else [x], lst, [])"
   ]
  },
  {
   "cell_type": "code",
   "execution_count": 12,
   "id": "db7c2a3b",
   "metadata": {},
   "outputs": [],
   "source": [
    "tone_start_df[\"all_tone_frame\"] = tone_start_df.apply(lambda row: get_running_total([row[\"Frame Start\"]] + all_itis), axis=1)"
   ]
  },
  {
   "cell_type": "code",
   "execution_count": 13,
   "id": "9cac6641",
   "metadata": {},
   "outputs": [
    {
     "data": {
      "text/html": [
       "<div>\n",
       "<style scoped>\n",
       "    .dataframe tbody tr th:only-of-type {\n",
       "        vertical-align: middle;\n",
       "    }\n",
       "\n",
       "    .dataframe tbody tr th {\n",
       "        vertical-align: top;\n",
       "    }\n",
       "\n",
       "    .dataframe thead th {\n",
       "        text-align: right;\n",
       "    }\n",
       "</style>\n",
       "<table border=\"1\" class=\"dataframe\">\n",
       "  <thead>\n",
       "    <tr style=\"text-align: right;\">\n",
       "      <th></th>\n",
       "      <th>File Name</th>\n",
       "      <th>Frame Start</th>\n",
       "      <th>FPS</th>\n",
       "      <th>Strain</th>\n",
       "      <th>subj_1</th>\n",
       "      <th>subj_2</th>\n",
       "      <th>all_subj</th>\n",
       "      <th>all_tone_frame</th>\n",
       "    </tr>\n",
       "  </thead>\n",
       "  <tbody>\n",
       "    <tr>\n",
       "      <th>0</th>\n",
       "      <td>10-03-22_Test_1_1-1v1-2</td>\n",
       "      <td>2135</td>\n",
       "      <td>30</td>\n",
       "      <td>C57</td>\n",
       "      <td>1.1</td>\n",
       "      <td>1.2</td>\n",
       "      <td>(1.1, 1.2)</td>\n",
       "      <td>[2135, 4535, 7235, 9635, 11885, 14885, 17735, ...</td>\n",
       "    </tr>\n",
       "    <tr>\n",
       "      <th>1</th>\n",
       "      <td>10-03-22_Test_2_1-3v1-4</td>\n",
       "      <td>2123</td>\n",
       "      <td>29</td>\n",
       "      <td>C57</td>\n",
       "      <td>1.3</td>\n",
       "      <td>1.4</td>\n",
       "      <td>(1.3, 1.4)</td>\n",
       "      <td>[2123, 4523, 7223, 9623, 11873, 14873, 17723, ...</td>\n",
       "    </tr>\n",
       "    <tr>\n",
       "      <th>2</th>\n",
       "      <td>10-03-22_Test_3_2-1v2-2</td>\n",
       "      <td>2125</td>\n",
       "      <td>29</td>\n",
       "      <td>C57</td>\n",
       "      <td>2.1</td>\n",
       "      <td>2.2</td>\n",
       "      <td>(2.1, 2.2)</td>\n",
       "      <td>[2125, 4525, 7225, 9625, 11875, 14875, 17725, ...</td>\n",
       "    </tr>\n",
       "    <tr>\n",
       "      <th>3</th>\n",
       "      <td>10-03-22_Test_13_2-2v2-4</td>\n",
       "      <td>2138</td>\n",
       "      <td>30</td>\n",
       "      <td>C57</td>\n",
       "      <td>2.2</td>\n",
       "      <td>2.4</td>\n",
       "      <td>(2.2, 2.4)</td>\n",
       "      <td>[2138, 4538, 7238, 9638, 11888, 14888, 17738, ...</td>\n",
       "    </tr>\n",
       "    <tr>\n",
       "      <th>4</th>\n",
       "      <td>10-03-22_Test_14_2-1v2-3</td>\n",
       "      <td>2127</td>\n",
       "      <td>29</td>\n",
       "      <td>C57</td>\n",
       "      <td>2.1</td>\n",
       "      <td>2.3</td>\n",
       "      <td>(2.1, 2.3)</td>\n",
       "      <td>[2127, 4527, 7227, 9627, 11877, 14877, 17727, ...</td>\n",
       "    </tr>\n",
       "  </tbody>\n",
       "</table>\n",
       "</div>"
      ],
      "text/plain": [
       "                  File Name Frame Start  FPS Strain subj_1 subj_2    all_subj  \\\n",
       "0   10-03-22_Test_1_1-1v1-2        2135   30    C57    1.1    1.2  (1.1, 1.2)   \n",
       "1   10-03-22_Test_2_1-3v1-4        2123   29    C57    1.3    1.4  (1.3, 1.4)   \n",
       "2   10-03-22_Test_3_2-1v2-2        2125   29    C57    2.1    2.2  (2.1, 2.2)   \n",
       "3  10-03-22_Test_13_2-2v2-4        2138   30    C57    2.2    2.4  (2.2, 2.4)   \n",
       "4  10-03-22_Test_14_2-1v2-3        2127   29    C57    2.1    2.3  (2.1, 2.3)   \n",
       "\n",
       "                                      all_tone_frame  \n",
       "0  [2135, 4535, 7235, 9635, 11885, 14885, 17735, ...  \n",
       "1  [2123, 4523, 7223, 9623, 11873, 14873, 17723, ...  \n",
       "2  [2125, 4525, 7225, 9625, 11875, 14875, 17725, ...  \n",
       "3  [2138, 4538, 7238, 9638, 11888, 14888, 17738, ...  \n",
       "4  [2127, 4527, 7227, 9627, 11877, 14877, 17727, ...  "
      ]
     },
     "execution_count": 13,
     "metadata": {},
     "output_type": "execute_result"
    }
   ],
   "source": [
    "tone_start_df.head()"
   ]
  },
  {
   "cell_type": "markdown",
   "id": "d5b4f799",
   "metadata": {},
   "source": [
    "# Get Coordinates of all the corners"
   ]
  },
  {
   "cell_type": "markdown",
   "id": "2cfaa142",
   "metadata": {},
   "source": [
    "- Reading in all the files with the corner coordinate and the pose tracking\""
   ]
  },
  {
   "cell_type": "code",
   "execution_count": 14,
   "id": "e32590e5",
   "metadata": {},
   "outputs": [],
   "source": [
    "all_corner_h5 = glob.glob(\"/scratch/back_up/dominance_strain_comparison/proc/distance_calculation/corner_labeling/*/*/*.corner.h5\")"
   ]
  },
  {
   "cell_type": "code",
   "execution_count": 15,
   "id": "d905d4ab",
   "metadata": {},
   "outputs": [],
   "source": [
    "all_pose_estimation_h5 = glob.glob(\"/scratch/back_up/dominance_strain_comparison/proc/distance_calculation/h5/*/*/*.h5\")"
   ]
  },
  {
   "cell_type": "code",
   "execution_count": 16,
   "id": "45cd93c2",
   "metadata": {},
   "outputs": [
    {
     "data": {
      "text/plain": [
       "33"
      ]
     },
     "execution_count": 16,
     "metadata": {},
     "output_type": "execute_result"
    }
   ],
   "source": [
    "len(all_corner_h5)"
   ]
  },
  {
   "cell_type": "code",
   "execution_count": 17,
   "id": "2192ec06",
   "metadata": {},
   "outputs": [
    {
     "data": {
      "text/plain": [
       "33"
      ]
     },
     "execution_count": 17,
     "metadata": {},
     "output_type": "execute_result"
    }
   ],
   "source": [
    "len(all_pose_estimation_h5)"
   ]
  },
  {
   "cell_type": "markdown",
   "id": "9a56a565",
   "metadata": {},
   "source": [
    "- Matching all the video file names to the corresponding corner and pose tracking coordinate file"
   ]
  },
  {
   "cell_type": "code",
   "execution_count": 18,
   "id": "73e09d2b",
   "metadata": {},
   "outputs": [],
   "source": [
    "file_name_to_corner = {item.split(\"/\")[-1].split(\".\")[0].strip(): item for item in all_corner_h5}"
   ]
  },
  {
   "cell_type": "code",
   "execution_count": 19,
   "id": "0066a554",
   "metadata": {},
   "outputs": [],
   "source": [
    "file_name_to_pose_estimation = {item.split(\"/\")[-1].split(\".\")[0].strip(): item for item in all_pose_estimation_h5}"
   ]
  },
  {
   "cell_type": "code",
   "execution_count": 20,
   "id": "8c491469",
   "metadata": {},
   "outputs": [],
   "source": [
    "tone_start_df[\"corner_file\"] = tone_start_df[\"File Name\"].map(file_name_to_corner)\n",
    "tone_start_df[\"pose_estimation_file\"] = tone_start_df[\"File Name\"].map(file_name_to_pose_estimation)"
   ]
  },
  {
   "cell_type": "code",
   "execution_count": 21,
   "id": "9b5402f9",
   "metadata": {},
   "outputs": [
    {
     "data": {
      "text/html": [
       "<div>\n",
       "<style scoped>\n",
       "    .dataframe tbody tr th:only-of-type {\n",
       "        vertical-align: middle;\n",
       "    }\n",
       "\n",
       "    .dataframe tbody tr th {\n",
       "        vertical-align: top;\n",
       "    }\n",
       "\n",
       "    .dataframe thead th {\n",
       "        text-align: right;\n",
       "    }\n",
       "</style>\n",
       "<table border=\"1\" class=\"dataframe\">\n",
       "  <thead>\n",
       "    <tr style=\"text-align: right;\">\n",
       "      <th></th>\n",
       "      <th>File Name</th>\n",
       "      <th>Frame Start</th>\n",
       "      <th>FPS</th>\n",
       "      <th>Strain</th>\n",
       "      <th>subj_1</th>\n",
       "      <th>subj_2</th>\n",
       "      <th>all_subj</th>\n",
       "      <th>all_tone_frame</th>\n",
       "      <th>corner_file</th>\n",
       "      <th>pose_estimation_file</th>\n",
       "    </tr>\n",
       "  </thead>\n",
       "  <tbody>\n",
       "    <tr>\n",
       "      <th>0</th>\n",
       "      <td>10-03-22_Test_1_1-1v1-2</td>\n",
       "      <td>2135</td>\n",
       "      <td>30</td>\n",
       "      <td>C57</td>\n",
       "      <td>1.1</td>\n",
       "      <td>1.2</td>\n",
       "      <td>(1.1, 1.2)</td>\n",
       "      <td>[2135, 4535, 7235, 9635, 11885, 14885, 17735, ...</td>\n",
       "      <td>/scratch/back_up/dominance_strain_comparison/p...</td>\n",
       "      <td>/scratch/back_up/dominance_strain_comparison/p...</td>\n",
       "    </tr>\n",
       "    <tr>\n",
       "      <th>1</th>\n",
       "      <td>10-03-22_Test_2_1-3v1-4</td>\n",
       "      <td>2123</td>\n",
       "      <td>29</td>\n",
       "      <td>C57</td>\n",
       "      <td>1.3</td>\n",
       "      <td>1.4</td>\n",
       "      <td>(1.3, 1.4)</td>\n",
       "      <td>[2123, 4523, 7223, 9623, 11873, 14873, 17723, ...</td>\n",
       "      <td>/scratch/back_up/dominance_strain_comparison/p...</td>\n",
       "      <td>/scratch/back_up/dominance_strain_comparison/p...</td>\n",
       "    </tr>\n",
       "    <tr>\n",
       "      <th>2</th>\n",
       "      <td>10-03-22_Test_3_2-1v2-2</td>\n",
       "      <td>2125</td>\n",
       "      <td>29</td>\n",
       "      <td>C57</td>\n",
       "      <td>2.1</td>\n",
       "      <td>2.2</td>\n",
       "      <td>(2.1, 2.2)</td>\n",
       "      <td>[2125, 4525, 7225, 9625, 11875, 14875, 17725, ...</td>\n",
       "      <td>/scratch/back_up/dominance_strain_comparison/p...</td>\n",
       "      <td>/scratch/back_up/dominance_strain_comparison/p...</td>\n",
       "    </tr>\n",
       "    <tr>\n",
       "      <th>3</th>\n",
       "      <td>10-03-22_Test_13_2-2v2-4</td>\n",
       "      <td>2138</td>\n",
       "      <td>30</td>\n",
       "      <td>C57</td>\n",
       "      <td>2.2</td>\n",
       "      <td>2.4</td>\n",
       "      <td>(2.2, 2.4)</td>\n",
       "      <td>[2138, 4538, 7238, 9638, 11888, 14888, 17738, ...</td>\n",
       "      <td>/scratch/back_up/dominance_strain_comparison/p...</td>\n",
       "      <td>/scratch/back_up/dominance_strain_comparison/p...</td>\n",
       "    </tr>\n",
       "    <tr>\n",
       "      <th>4</th>\n",
       "      <td>10-03-22_Test_14_2-1v2-3</td>\n",
       "      <td>2127</td>\n",
       "      <td>29</td>\n",
       "      <td>C57</td>\n",
       "      <td>2.1</td>\n",
       "      <td>2.3</td>\n",
       "      <td>(2.1, 2.3)</td>\n",
       "      <td>[2127, 4527, 7227, 9627, 11877, 14877, 17727, ...</td>\n",
       "      <td>/scratch/back_up/dominance_strain_comparison/p...</td>\n",
       "      <td>/scratch/back_up/dominance_strain_comparison/p...</td>\n",
       "    </tr>\n",
       "  </tbody>\n",
       "</table>\n",
       "</div>"
      ],
      "text/plain": [
       "                  File Name Frame Start  FPS Strain subj_1 subj_2    all_subj  \\\n",
       "0   10-03-22_Test_1_1-1v1-2        2135   30    C57    1.1    1.2  (1.1, 1.2)   \n",
       "1   10-03-22_Test_2_1-3v1-4        2123   29    C57    1.3    1.4  (1.3, 1.4)   \n",
       "2   10-03-22_Test_3_2-1v2-2        2125   29    C57    2.1    2.2  (2.1, 2.2)   \n",
       "3  10-03-22_Test_13_2-2v2-4        2138   30    C57    2.2    2.4  (2.2, 2.4)   \n",
       "4  10-03-22_Test_14_2-1v2-3        2127   29    C57    2.1    2.3  (2.1, 2.3)   \n",
       "\n",
       "                                      all_tone_frame  \\\n",
       "0  [2135, 4535, 7235, 9635, 11885, 14885, 17735, ...   \n",
       "1  [2123, 4523, 7223, 9623, 11873, 14873, 17723, ...   \n",
       "2  [2125, 4525, 7225, 9625, 11875, 14875, 17725, ...   \n",
       "3  [2138, 4538, 7238, 9638, 11888, 14888, 17738, ...   \n",
       "4  [2127, 4527, 7227, 9627, 11877, 14877, 17727, ...   \n",
       "\n",
       "                                         corner_file  \\\n",
       "0  /scratch/back_up/dominance_strain_comparison/p...   \n",
       "1  /scratch/back_up/dominance_strain_comparison/p...   \n",
       "2  /scratch/back_up/dominance_strain_comparison/p...   \n",
       "3  /scratch/back_up/dominance_strain_comparison/p...   \n",
       "4  /scratch/back_up/dominance_strain_comparison/p...   \n",
       "\n",
       "                                pose_estimation_file  \n",
       "0  /scratch/back_up/dominance_strain_comparison/p...  \n",
       "1  /scratch/back_up/dominance_strain_comparison/p...  \n",
       "2  /scratch/back_up/dominance_strain_comparison/p...  \n",
       "3  /scratch/back_up/dominance_strain_comparison/p...  \n",
       "4  /scratch/back_up/dominance_strain_comparison/p...  "
      ]
     },
     "execution_count": 21,
     "metadata": {},
     "output_type": "execute_result"
    }
   ],
   "source": [
    "tone_start_df.head()"
   ]
  },
  {
   "cell_type": "markdown",
   "id": "d36a61ab",
   "metadata": {},
   "source": [
    "- Function that gets the SLEAP data"
   ]
  },
  {
   "cell_type": "code",
   "execution_count": 22,
   "id": "327773d1",
   "metadata": {},
   "outputs": [],
   "source": [
    "def get_sleap_coordinates(filename):\n",
    "    \"\"\"\n",
    "    \"\"\"\n",
    "    with h5py.File(filename, \"r\") as f:\n",
    "        dset_names = list(f.keys())\n",
    "        locations = f[\"tracks\"][:].T\n",
    "        node_names = [n.decode() for n in f[\"node_names\"][:]]\n",
    "        track_names = [n.decode() for n in f[\"track_names\"][:]]\n",
    "    return locations, node_names, track_names"
   ]
  },
  {
   "cell_type": "code",
   "execution_count": 23,
   "id": "19571d23",
   "metadata": {
    "scrolled": true
   },
   "outputs": [],
   "source": [
    "corner_node_names = get_sleap_coordinates(all_corner_h5[0])[1]"
   ]
  },
  {
   "cell_type": "code",
   "execution_count": 24,
   "id": "ceac9411",
   "metadata": {},
   "outputs": [
    {
     "data": {
      "text/plain": [
       "['box_bottom_left',\n",
       " 'reward_port',\n",
       " 'box_bottom_right',\n",
       " 'box_top_left',\n",
       " 'box_top_right']"
      ]
     },
     "execution_count": 24,
     "metadata": {},
     "output_type": "execute_result"
    }
   ],
   "source": [
    "corner_node_names"
   ]
  },
  {
   "cell_type": "markdown",
   "id": "42cd9658",
   "metadata": {},
   "source": [
    "- Getting the coordinates of each corner and the reward port"
   ]
  },
  {
   "cell_type": "code",
   "execution_count": 25,
   "id": "8990865c",
   "metadata": {},
   "outputs": [],
   "source": [
    "for index, node in enumerate(corner_node_names):\n",
    "    tone_start_df[\"{}_coordinates\".format(node)] = tone_start_df[\"corner_file\"].apply(lambda x: get_sleap_coordinates(x)[0][0,index,:,0])"
   ]
  },
  {
   "cell_type": "code",
   "execution_count": 26,
   "id": "01ab16c4",
   "metadata": {},
   "outputs": [
    {
     "data": {
      "text/html": [
       "<div>\n",
       "<style scoped>\n",
       "    .dataframe tbody tr th:only-of-type {\n",
       "        vertical-align: middle;\n",
       "    }\n",
       "\n",
       "    .dataframe tbody tr th {\n",
       "        vertical-align: top;\n",
       "    }\n",
       "\n",
       "    .dataframe thead th {\n",
       "        text-align: right;\n",
       "    }\n",
       "</style>\n",
       "<table border=\"1\" class=\"dataframe\">\n",
       "  <thead>\n",
       "    <tr style=\"text-align: right;\">\n",
       "      <th></th>\n",
       "      <th>File Name</th>\n",
       "      <th>Frame Start</th>\n",
       "      <th>FPS</th>\n",
       "      <th>Strain</th>\n",
       "      <th>subj_1</th>\n",
       "      <th>subj_2</th>\n",
       "      <th>all_subj</th>\n",
       "      <th>all_tone_frame</th>\n",
       "      <th>corner_file</th>\n",
       "      <th>pose_estimation_file</th>\n",
       "      <th>box_bottom_left_coordinates</th>\n",
       "      <th>reward_port_coordinates</th>\n",
       "      <th>box_bottom_right_coordinates</th>\n",
       "      <th>box_top_left_coordinates</th>\n",
       "      <th>box_top_right_coordinates</th>\n",
       "    </tr>\n",
       "  </thead>\n",
       "  <tbody>\n",
       "    <tr>\n",
       "      <th>0</th>\n",
       "      <td>10-03-22_Test_1_1-1v1-2</td>\n",
       "      <td>2135</td>\n",
       "      <td>30</td>\n",
       "      <td>C57</td>\n",
       "      <td>1.1</td>\n",
       "      <td>1.2</td>\n",
       "      <td>(1.1, 1.2)</td>\n",
       "      <td>[2135, 4535, 7235, 9635, 11885, 14885, 17735, ...</td>\n",
       "      <td>/scratch/back_up/dominance_strain_comparison/p...</td>\n",
       "      <td>/scratch/back_up/dominance_strain_comparison/p...</td>\n",
       "      <td>[390.9854761048566, 550.1045501415538]</td>\n",
       "      <td>[513.8875473467701, 571.6172631900606]</td>\n",
       "      <td>[638.3064796862376, 555.5861352215592]</td>\n",
       "      <td>[408.330015339179, 256.61728326956387]</td>\n",
       "      <td>[644.898096304591, 260.851923832358]</td>\n",
       "    </tr>\n",
       "    <tr>\n",
       "      <th>1</th>\n",
       "      <td>10-03-22_Test_2_1-3v1-4</td>\n",
       "      <td>2123</td>\n",
       "      <td>29</td>\n",
       "      <td>C57</td>\n",
       "      <td>1.3</td>\n",
       "      <td>1.4</td>\n",
       "      <td>(1.3, 1.4)</td>\n",
       "      <td>[2123, 4523, 7223, 9623, 11873, 14873, 17723, ...</td>\n",
       "      <td>/scratch/back_up/dominance_strain_comparison/p...</td>\n",
       "      <td>/scratch/back_up/dominance_strain_comparison/p...</td>\n",
       "      <td>[351.0497840352974, 626.2728051332355]</td>\n",
       "      <td>[519.576353919354, 659.5076696013427]</td>\n",
       "      <td>[693.7994220451658, 629.0949247066953]</td>\n",
       "      <td>[352.9002955462512, 212.30683090705492]</td>\n",
       "      <td>[694.5621623710648, 212.07868790475084]</td>\n",
       "    </tr>\n",
       "    <tr>\n",
       "      <th>2</th>\n",
       "      <td>10-03-22_Test_3_2-1v2-2</td>\n",
       "      <td>2125</td>\n",
       "      <td>29</td>\n",
       "      <td>C57</td>\n",
       "      <td>2.1</td>\n",
       "      <td>2.2</td>\n",
       "      <td>(2.1, 2.2)</td>\n",
       "      <td>[2125, 4525, 7225, 9625, 11875, 14875, 17725, ...</td>\n",
       "      <td>/scratch/back_up/dominance_strain_comparison/p...</td>\n",
       "      <td>/scratch/back_up/dominance_strain_comparison/p...</td>\n",
       "      <td>[336.35679625338616, 588.6368242233518]</td>\n",
       "      <td>[508.9149672788628, 621.5982963374584]</td>\n",
       "      <td>[680.1398630208826, 585.5933059960898]</td>\n",
       "      <td>[343.6821422185993, 166.10302351623739]</td>\n",
       "      <td>[675.7125022249096, 169.20404824713103]</td>\n",
       "    </tr>\n",
       "    <tr>\n",
       "      <th>3</th>\n",
       "      <td>10-03-22_Test_13_2-2v2-4</td>\n",
       "      <td>2138</td>\n",
       "      <td>30</td>\n",
       "      <td>C57</td>\n",
       "      <td>2.2</td>\n",
       "      <td>2.4</td>\n",
       "      <td>(2.2, 2.4)</td>\n",
       "      <td>[2138, 4538, 7238, 9638, 11888, 14888, 17738, ...</td>\n",
       "      <td>/scratch/back_up/dominance_strain_comparison/p...</td>\n",
       "      <td>/scratch/back_up/dominance_strain_comparison/p...</td>\n",
       "      <td>[389.47144456886895, 548.2629792077062]</td>\n",
       "      <td>[512.0763306227065, 569.902165576138]</td>\n",
       "      <td>[637.5798522460396, 557.7260413970237]</td>\n",
       "      <td>[409.4781326203461, 254.70146395943902]</td>\n",
       "      <td>[643.5017427415908, 262.46446072195494]</td>\n",
       "    </tr>\n",
       "    <tr>\n",
       "      <th>4</th>\n",
       "      <td>10-03-22_Test_14_2-1v2-3</td>\n",
       "      <td>2127</td>\n",
       "      <td>29</td>\n",
       "      <td>C57</td>\n",
       "      <td>2.1</td>\n",
       "      <td>2.3</td>\n",
       "      <td>(2.1, 2.3)</td>\n",
       "      <td>[2127, 4527, 7227, 9627, 11877, 14877, 17727, ...</td>\n",
       "      <td>/scratch/back_up/dominance_strain_comparison/p...</td>\n",
       "      <td>/scratch/back_up/dominance_strain_comparison/p...</td>\n",
       "      <td>[348.83436667302124, 625.1914641653954]</td>\n",
       "      <td>[521.0751140419263, 658.3645972713236]</td>\n",
       "      <td>[692.7881935097188, 628.0072119332935]</td>\n",
       "      <td>[350.74679246264736, 214.02687569988802]</td>\n",
       "      <td>[695.0034616441534, 206.79059001184606]</td>\n",
       "    </tr>\n",
       "  </tbody>\n",
       "</table>\n",
       "</div>"
      ],
      "text/plain": [
       "                  File Name Frame Start  FPS Strain subj_1 subj_2    all_subj  \\\n",
       "0   10-03-22_Test_1_1-1v1-2        2135   30    C57    1.1    1.2  (1.1, 1.2)   \n",
       "1   10-03-22_Test_2_1-3v1-4        2123   29    C57    1.3    1.4  (1.3, 1.4)   \n",
       "2   10-03-22_Test_3_2-1v2-2        2125   29    C57    2.1    2.2  (2.1, 2.2)   \n",
       "3  10-03-22_Test_13_2-2v2-4        2138   30    C57    2.2    2.4  (2.2, 2.4)   \n",
       "4  10-03-22_Test_14_2-1v2-3        2127   29    C57    2.1    2.3  (2.1, 2.3)   \n",
       "\n",
       "                                      all_tone_frame  \\\n",
       "0  [2135, 4535, 7235, 9635, 11885, 14885, 17735, ...   \n",
       "1  [2123, 4523, 7223, 9623, 11873, 14873, 17723, ...   \n",
       "2  [2125, 4525, 7225, 9625, 11875, 14875, 17725, ...   \n",
       "3  [2138, 4538, 7238, 9638, 11888, 14888, 17738, ...   \n",
       "4  [2127, 4527, 7227, 9627, 11877, 14877, 17727, ...   \n",
       "\n",
       "                                         corner_file  \\\n",
       "0  /scratch/back_up/dominance_strain_comparison/p...   \n",
       "1  /scratch/back_up/dominance_strain_comparison/p...   \n",
       "2  /scratch/back_up/dominance_strain_comparison/p...   \n",
       "3  /scratch/back_up/dominance_strain_comparison/p...   \n",
       "4  /scratch/back_up/dominance_strain_comparison/p...   \n",
       "\n",
       "                                pose_estimation_file  \\\n",
       "0  /scratch/back_up/dominance_strain_comparison/p...   \n",
       "1  /scratch/back_up/dominance_strain_comparison/p...   \n",
       "2  /scratch/back_up/dominance_strain_comparison/p...   \n",
       "3  /scratch/back_up/dominance_strain_comparison/p...   \n",
       "4  /scratch/back_up/dominance_strain_comparison/p...   \n",
       "\n",
       "               box_bottom_left_coordinates  \\\n",
       "0   [390.9854761048566, 550.1045501415538]   \n",
       "1   [351.0497840352974, 626.2728051332355]   \n",
       "2  [336.35679625338616, 588.6368242233518]   \n",
       "3  [389.47144456886895, 548.2629792077062]   \n",
       "4  [348.83436667302124, 625.1914641653954]   \n",
       "\n",
       "                  reward_port_coordinates  \\\n",
       "0  [513.8875473467701, 571.6172631900606]   \n",
       "1   [519.576353919354, 659.5076696013427]   \n",
       "2  [508.9149672788628, 621.5982963374584]   \n",
       "3   [512.0763306227065, 569.902165576138]   \n",
       "4  [521.0751140419263, 658.3645972713236]   \n",
       "\n",
       "             box_bottom_right_coordinates  \\\n",
       "0  [638.3064796862376, 555.5861352215592]   \n",
       "1  [693.7994220451658, 629.0949247066953]   \n",
       "2  [680.1398630208826, 585.5933059960898]   \n",
       "3  [637.5798522460396, 557.7260413970237]   \n",
       "4  [692.7881935097188, 628.0072119332935]   \n",
       "\n",
       "                   box_top_left_coordinates  \\\n",
       "0    [408.330015339179, 256.61728326956387]   \n",
       "1   [352.9002955462512, 212.30683090705492]   \n",
       "2   [343.6821422185993, 166.10302351623739]   \n",
       "3   [409.4781326203461, 254.70146395943902]   \n",
       "4  [350.74679246264736, 214.02687569988802]   \n",
       "\n",
       "                 box_top_right_coordinates  \n",
       "0     [644.898096304591, 260.851923832358]  \n",
       "1  [694.5621623710648, 212.07868790475084]  \n",
       "2  [675.7125022249096, 169.20404824713103]  \n",
       "3  [643.5017427415908, 262.46446072195494]  \n",
       "4  [695.0034616441534, 206.79059001184606]  "
      ]
     },
     "execution_count": 26,
     "metadata": {},
     "output_type": "execute_result"
    }
   ],
   "source": [
    "tone_start_df.head()"
   ]
  },
  {
   "cell_type": "code",
   "execution_count": 27,
   "id": "58dafbec",
   "metadata": {},
   "outputs": [],
   "source": [
    "corner_columns = [col for col in tone_start_df.columns if \"coordinates\" in col]"
   ]
  },
  {
   "cell_type": "code",
   "execution_count": 28,
   "id": "469387e6",
   "metadata": {
    "scrolled": true
   },
   "outputs": [
    {
     "data": {
      "text/plain": [
       "<matplotlib.legend.Legend at 0x7f6bad38e370>"
      ]
     },
     "execution_count": 28,
     "metadata": {},
     "output_type": "execute_result"
    },
    {
     "data": {
      "image/png": "[encoded data removed]",
      "text/plain": [
       "<Figure size 640x480 with 1 Axes>"
      ]
     },
     "metadata": {},
     "output_type": "display_data"
    }
   ],
   "source": [
    "fig, ax = plt.subplots()\n",
    "\n",
    "for index, row in tone_start_df.iterrows():\n",
    "    for corner in corner_columns:\n",
    "        plt.scatter(row[corner][0], row[corner][1], label=corner)\n",
    "    break\n",
    "plt.legend()"
   ]
  },
  {
   "cell_type": "markdown",
   "id": "1fe503de",
   "metadata": {},
   "source": [
    "# Getting the distances between corners"
   ]
  },
  {
   "cell_type": "markdown",
   "id": "b95c299f",
   "metadata": {},
   "source": [
    "- Getting the average width and height so that we can convert pixels to cm"
   ]
  },
  {
   "cell_type": "code",
   "execution_count": 29,
   "id": "e482163f",
   "metadata": {},
   "outputs": [],
   "source": [
    "tone_start_df[\"bottom_width\"] = tone_start_df.apply(lambda row: row[\"box_bottom_right_coordinates\"][0] - row[\"box_bottom_left_coordinates\"][0], axis=1)\n",
    "tone_start_df[\"top_width\"] = tone_start_df.apply(lambda row: row[\"box_top_right_coordinates\"][0] - row[\"box_top_left_coordinates\"][0], axis=1)"
   ]
  },
  {
   "cell_type": "code",
   "execution_count": 30,
   "id": "8b336513",
   "metadata": {},
   "outputs": [],
   "source": [
    "tone_start_df[\"right_height\"] = tone_start_df.apply(lambda row: row[\"box_bottom_right_coordinates\"][1] - row[\"box_top_right_coordinates\"][1], axis=1)\n",
    "tone_start_df[\"left_height\"] = tone_start_df.apply(lambda row: row[\"box_bottom_left_coordinates\"][1] - row[\"box_top_left_coordinates\"][1], axis=1)"
   ]
  },
  {
   "cell_type": "code",
   "execution_count": 31,
   "id": "b5dfa5d9",
   "metadata": {},
   "outputs": [],
   "source": [
    "tone_start_df[\"average_height\"] = tone_start_df.apply(lambda row: (row[\"right_height\"] + row[\"left_height\"])/2, axis=1)\n",
    "tone_start_df[\"average_width\"] = tone_start_df.apply(lambda row: (row[\"bottom_width\"] + row[\"top_width\"])/2, axis=1)"
   ]
  },
  {
   "cell_type": "markdown",
   "id": "c7477f44",
   "metadata": {},
   "source": [
    "- Getthing the pixel to cm ratio"
   ]
  },
  {
   "cell_type": "code",
   "execution_count": 32,
   "id": "20a1b86d",
   "metadata": {},
   "outputs": [],
   "source": [
    "tone_start_df[\"width_ratio\"] = 29.5 / tone_start_df[\"average_width\"]\n",
    "tone_start_df[\"height_ratio\"] = 24 / tone_start_df[\"average_height\"]\n"
   ]
  },
  {
   "cell_type": "code",
   "execution_count": 33,
   "id": "26077fab",
   "metadata": {},
   "outputs": [],
   "source": [
    "tone_start_df[\"reward_port_scaled\"] = tone_start_df.apply(lambda row: np.array([row[\"reward_port_coordinates\"][0] * row[\"width_ratio\"], row[\"reward_port_coordinates\"][1] * row[\"height_ratio\"]]), axis=1)"
   ]
  },
  {
   "cell_type": "code",
   "execution_count": 34,
   "id": "00b10123",
   "metadata": {
    "scrolled": true
   },
   "outputs": [
    {
     "data": {
      "text/plain": [
       "0        [62.65767561559346, 46.6450642268789]\n",
       "1      [44.79031206327622, 38.095121316373195]\n",
       "2       [44.42939704940567, 35.56550022490564]\n",
       "3      [62.66437903191042, 46.457593353668756]\n",
       "4       [44.67155311688311, 37.96517782319081]\n",
       "5       [43.48033926710607, 35.45305995884919]\n",
       "6       [63.67403573088538, 47.18483629837384]\n",
       "7      [43.50130361232485, 35.355649768653635]\n",
       "8      [63.61830704527882, 47.078440172566104]\n",
       "9       [64.53216327469285, 47.11044009374468]\n",
       "10       [63.43516068508019, 47.6202483305839]\n",
       "11       [62.85596760361868, 46.5217960004979]\n",
       "12      [44.98362245572794, 37.64878595279556]\n",
       "13      [65.42517992066077, 46.61455513415089]\n",
       "14     [63.046091498234816, 46.91265128411644]\n",
       "15      [63.55260453352851, 46.89055487864883]\n",
       "17    [63.627820961484495, 45.886329355603685]\n",
       "18     [43.099918367994746, 35.61912482253337]\n",
       "19       [64.1506118178146, 47.81908162396559]\n",
       "20    [44.148772051313195, 35.101527543757406]\n",
       "21      [65.32806162465717, 47.14667016127896]\n",
       "22      [44.60117189021549, 35.16013544211507]\n",
       "23     [63.621935390422685, 48.66490362779104]\n",
       "25        [64.7349073595104, 47.1960362461108]\n",
       "26     [44.449771691227774, 35.27069165469139]\n",
       "27      [45.23039882907401, 38.42726000163575]\n",
       "28      [66.14479176194439, 45.97324364602988]\n",
       "29     [63.51597071652843, 45.067431366650126]\n",
       "30      [46.29374595873089, 38.32418812034114]\n",
       "31      [65.36581893697407, 46.12533517822409]\n",
       "32      [63.24442428963159, 47.18610458137927]\n",
       "33      [65.99655044542487, 47.41504173255363]\n",
       "34      [64.80340983209457, 48.08385092655211]\n",
       "Name: reward_port_scaled, dtype: object"
      ]
     },
     "execution_count": 34,
     "metadata": {},
     "output_type": "execute_result"
    }
   ],
   "source": [
    "tone_start_df[\"reward_port_scaled\"]"
   ]
  },
  {
   "cell_type": "markdown",
   "id": "39f6d6c8",
   "metadata": {},
   "source": [
    "# Getting the coordinates of each mouse"
   ]
  },
  {
   "cell_type": "markdown",
   "id": "8925d45e",
   "metadata": {},
   "source": [
    "- Function that fills missing coordinates by interpolating"
   ]
  },
  {
   "cell_type": "code",
   "execution_count": 35,
   "id": "6e93341e",
   "metadata": {},
   "outputs": [],
   "source": [
    "from scipy.interpolate import interp1d\n",
    "\n",
    "def fill_missing(Y, kind=\"linear\"):\n",
    "    \"\"\"Fills missing values independently along each dimension after the first.\"\"\"\n",
    "\n",
    "    # Store initial shape.\n",
    "    initial_shape = Y.shape\n",
    "\n",
    "    # Flatten after first dim.\n",
    "    Y = Y.reshape((initial_shape[0], -1))\n",
    "\n",
    "    # Interpolate along each slice.\n",
    "    for i in range(Y.shape[-1]):\n",
    "        y = Y[:, i]\n",
    "\n",
    "        # Build interpolant.\n",
    "        x = np.flatnonzero(~np.isnan(y))\n",
    "        f = interp1d(x, y[x], kind=kind, fill_value=np.nan, bounds_error=False)\n",
    "\n",
    "        # Fill missing\n",
    "        xq = np.flatnonzero(np.isnan(y))\n",
    "        y[xq] = f(xq)\n",
    "        \n",
    "        # Fill leading or trailing NaNs with the nearest non-NaN values\n",
    "        mask = np.isnan(y)\n",
    "        y[mask] = np.interp(np.flatnonzero(mask), np.flatnonzero(~mask), y[~mask])\n",
    "\n",
    "        # Save slice\n",
    "        Y[:, i] = y\n",
    "\n",
    "    # Restore to initial shape.\n",
    "    Y = Y.reshape(initial_shape)\n",
    "\n",
    "    return Y\n"
   ]
  },
  {
   "cell_type": "code",
   "execution_count": 36,
   "id": "eff17a67",
   "metadata": {},
   "outputs": [],
   "source": [
    "body_part_node_names = get_sleap_coordinates(all_pose_estimation_h5[0])[1]"
   ]
  },
  {
   "cell_type": "code",
   "execution_count": 37,
   "id": "fd04d688",
   "metadata": {},
   "outputs": [
    {
     "data": {
      "text/plain": [
       "['left_ear', 'right_ear', 'nose', 'tail_base', 'thorax', 'forehead']"
      ]
     },
     "execution_count": 37,
     "metadata": {},
     "output_type": "execute_result"
    }
   ],
   "source": [
    "body_part_node_names"
   ]
  },
  {
   "cell_type": "markdown",
   "id": "5cf5539e",
   "metadata": {},
   "source": [
    "- Function that scales each coordinate"
   ]
  },
  {
   "cell_type": "code",
   "execution_count": 38,
   "id": "14ed4aff",
   "metadata": {},
   "outputs": [],
   "source": [
    "def scale_coordinates(row, coordinate_col, height_ratio_col=\"height_ratio\", width_ratio_col=\"width_ratio\"):\n",
    "    \"\"\"\n",
    "    \"\"\"\n",
    "    return np.dstack((row[coordinate_col][:,:,0] * row[width_ratio_col], row[coordinate_col][:,:,1] * row[height_ratio_col]))\n"
   ]
  },
  {
   "cell_type": "code",
   "execution_count": 39,
   "id": "cbf4d0b4",
   "metadata": {},
   "outputs": [],
   "source": [
    "for num in range(2):\n",
    "    tone_start_df[\"pose_estimation_subj_{}_original_coordinates\".format(num + 1)] = tone_start_df[\"pose_estimation_file\"].apply(lambda x: fill_missing(get_sleap_coordinates(x)[0][:,:,:,num]))\n",
    "    tone_start_df[\"pose_estimation_subj_{}_scaled_coordinates\".format(num + 1)] = tone_start_df.apply(lambda row: scale_coordinates(row, \"pose_estimation_subj_{}_original_coordinates\".format(num + 1)), axis=1)     \n",
    "    tone_start_df[\"pose_estimation_subj_{}_thorax_coordinates\".format(num + 1)] = tone_start_df[\"pose_estimation_subj_{}_scaled_coordinates\".format(num + 1)].apply(lambda x: x[:,4,:])\n",
    "    tone_start_df[\"pose_estimation_subj_{}_name\".format(num + 1)] = tone_start_df[\"pose_estimation_file\"].apply(lambda x: get_sleap_coordinates(x)[2][num])\n"
   ]
  },
  {
   "cell_type": "code",
   "execution_count": 40,
   "id": "fbd46863",
   "metadata": {},
   "outputs": [
    {
     "data": {
      "text/html": [
       "<div>\n",
       "<style scoped>\n",
       "    .dataframe tbody tr th:only-of-type {\n",
       "        vertical-align: middle;\n",
       "    }\n",
       "\n",
       "    .dataframe tbody tr th {\n",
       "        vertical-align: top;\n",
       "    }\n",
       "\n",
       "    .dataframe thead th {\n",
       "        text-align: right;\n",
       "    }\n",
       "</style>\n",
       "<table border=\"1\" class=\"dataframe\">\n",
       "  <thead>\n",
       "    <tr style=\"text-align: right;\">\n",
       "      <th></th>\n",
       "      <th>File Name</th>\n",
       "      <th>Frame Start</th>\n",
       "      <th>FPS</th>\n",
       "      <th>Strain</th>\n",
       "      <th>subj_1</th>\n",
       "      <th>subj_2</th>\n",
       "      <th>all_subj</th>\n",
       "      <th>all_tone_frame</th>\n",
       "      <th>corner_file</th>\n",
       "      <th>pose_estimation_file</th>\n",
       "      <th>...</th>\n",
       "      <th>height_ratio</th>\n",
       "      <th>reward_port_scaled</th>\n",
       "      <th>pose_estimation_subj_1_original_coordinates</th>\n",
       "      <th>pose_estimation_subj_1_scaled_coordinates</th>\n",
       "      <th>pose_estimation_subj_1_thorax_coordinates</th>\n",
       "      <th>pose_estimation_subj_1_name</th>\n",
       "      <th>pose_estimation_subj_2_original_coordinates</th>\n",
       "      <th>pose_estimation_subj_2_scaled_coordinates</th>\n",
       "      <th>pose_estimation_subj_2_thorax_coordinates</th>\n",
       "      <th>pose_estimation_subj_2_name</th>\n",
       "    </tr>\n",
       "  </thead>\n",
       "  <tbody>\n",
       "    <tr>\n",
       "      <th>0</th>\n",
       "      <td>10-03-22_Test_1_1-1v1-2</td>\n",
       "      <td>2135</td>\n",
       "      <td>30</td>\n",
       "      <td>C57</td>\n",
       "      <td>1.1</td>\n",
       "      <td>1.2</td>\n",
       "      <td>(1.1, 1.2)</td>\n",
       "      <td>[2135, 4535, 7235, 9635, 11885, 14885, 17735, ...</td>\n",
       "      <td>/scratch/back_up/dominance_strain_comparison/p...</td>\n",
       "      <td>/scratch/back_up/dominance_strain_comparison/p...</td>\n",
       "      <td>...</td>\n",
       "      <td>0.081602</td>\n",
       "      <td>[62.65767561559346, 46.6450642268789]</td>\n",
       "      <td>[[[520.4361572265625, 564.3905639648438], [499...</td>\n",
       "      <td>[[[63.45613955133118, 46.055351719549506], [60...</td>\n",
       "      <td>[[64.2990287199225, 44.027829978141874], [64.2...</td>\n",
       "      <td>1.1</td>\n",
       "      <td>[[[368.9432067871094, 284.2481384277344], [392...</td>\n",
       "      <td>[[[44.98479072084644, 23.195192880177135], [47...</td>\n",
       "      <td>[[47.306155506552955, 24.141277551998048], [47...</td>\n",
       "      <td>1.2</td>\n",
       "    </tr>\n",
       "    <tr>\n",
       "      <th>1</th>\n",
       "      <td>10-03-22_Test_2_1-3v1-4</td>\n",
       "      <td>2123</td>\n",
       "      <td>29</td>\n",
       "      <td>C57</td>\n",
       "      <td>1.3</td>\n",
       "      <td>1.4</td>\n",
       "      <td>(1.3, 1.4)</td>\n",
       "      <td>[2123, 4523, 7223, 9623, 11873, 14873, 17723, ...</td>\n",
       "      <td>/scratch/back_up/dominance_strain_comparison/p...</td>\n",
       "      <td>/scratch/back_up/dominance_strain_comparison/p...</td>\n",
       "      <td>...</td>\n",
       "      <td>0.057763</td>\n",
       "      <td>[44.79031206327622, 38.095121316373195]</td>\n",
       "      <td>[[[680.289306640625, 400.05560302734375], [676...</td>\n",
       "      <td>[[[58.644644060289274, 23.108399542698006], [5...</td>\n",
       "      <td>[[61.7094413419158, 22.198077497602327], [61.7...</td>\n",
       "      <td>1.3</td>\n",
       "      <td>[[[531.3592529296875, 648.0527954101562], [499...</td>\n",
       "      <td>[[[45.80606214447569, 37.43345376936677], [43....</td>\n",
       "      <td>[[46.209723992701065, 34.683338490517976], [46...</td>\n",
       "      <td>1.4</td>\n",
       "    </tr>\n",
       "    <tr>\n",
       "      <th>2</th>\n",
       "      <td>10-03-22_Test_3_2-1v2-2</td>\n",
       "      <td>2125</td>\n",
       "      <td>29</td>\n",
       "      <td>C57</td>\n",
       "      <td>2.1</td>\n",
       "      <td>2.2</td>\n",
       "      <td>(2.1, 2.2)</td>\n",
       "      <td>[2125, 4525, 7225, 9625, 11875, 14875, 17725, ...</td>\n",
       "      <td>/scratch/back_up/dominance_strain_comparison/p...</td>\n",
       "      <td>/scratch/back_up/dominance_strain_comparison/p...</td>\n",
       "      <td>...</td>\n",
       "      <td>0.057216</td>\n",
       "      <td>[44.42939704940567, 35.56550022490564]</td>\n",
       "      <td>[[[315.74310302734375, 508.35687255859375], [3...</td>\n",
       "      <td>[[[27.565068021130507, 29.086254855981128], [2...</td>\n",
       "      <td>[[30.34017396475596, 30.427972245799346], [30....</td>\n",
       "      <td>2.1</td>\n",
       "      <td>[[[520.195556640625, 616.1532592773438], [499....</td>\n",
       "      <td>[[[45.41421733556245, 35.25395582729842], [43....</td>\n",
       "      <td>[[47.534636695053486, 32.74008833373921], [47....</td>\n",
       "      <td>2.2</td>\n",
       "    </tr>\n",
       "    <tr>\n",
       "      <th>3</th>\n",
       "      <td>10-03-22_Test_13_2-2v2-4</td>\n",
       "      <td>2138</td>\n",
       "      <td>30</td>\n",
       "      <td>C57</td>\n",
       "      <td>2.2</td>\n",
       "      <td>2.4</td>\n",
       "      <td>(2.2, 2.4)</td>\n",
       "      <td>[2138, 4538, 7238, 9638, 11888, 14888, 17738, ...</td>\n",
       "      <td>/scratch/back_up/dominance_strain_comparison/p...</td>\n",
       "      <td>/scratch/back_up/dominance_strain_comparison/p...</td>\n",
       "      <td>...</td>\n",
       "      <td>0.081519</td>\n",
       "      <td>[62.66437903191042, 46.457593353668756]</td>\n",
       "      <td>[[[563.5345458984375, 584.265380859375], [552....</td>\n",
       "      <td>[[[68.96148146275858, 47.628461715267704], [67...</td>\n",
       "      <td>[[71.41175226058016, 45.614624361532364], [71....</td>\n",
       "      <td>2.2</td>\n",
       "      <td>[[[383.81134033203125, 507.93603515625], [387....</td>\n",
       "      <td>[[[46.96819178903383, 41.40620477746066], [47....</td>\n",
       "      <td>[[50.947502939058204, 41.122758181192154], [50...</td>\n",
       "      <td>2.4</td>\n",
       "    </tr>\n",
       "    <tr>\n",
       "      <th>4</th>\n",
       "      <td>10-03-22_Test_14_2-1v2-3</td>\n",
       "      <td>2127</td>\n",
       "      <td>29</td>\n",
       "      <td>C57</td>\n",
       "      <td>2.1</td>\n",
       "      <td>2.3</td>\n",
       "      <td>(2.1, 2.3)</td>\n",
       "      <td>[2127, 4527, 7227, 9627, 11877, 14877, 17727, ...</td>\n",
       "      <td>/scratch/back_up/dominance_strain_comparison/p...</td>\n",
       "      <td>/scratch/back_up/dominance_strain_comparison/p...</td>\n",
       "      <td>...</td>\n",
       "      <td>0.057666</td>\n",
       "      <td>[44.67155311688311, 37.96517782319081]</td>\n",
       "      <td>[[[352.04791259765625, 239.75645446777344], [3...</td>\n",
       "      <td>[[[30.180921336474817, 13.825768374929051], [3...</td>\n",
       "      <td>[[35.329769344397896, 13.176087411670519], [35...</td>\n",
       "      <td>2.1</td>\n",
       "      <td>[[[440.73870849609375, 235.83706665039062], [4...</td>\n",
       "      <td>[[[37.784346434294605, 13.599753403799516], [3...</td>\n",
       "      <td>[[36.037506728469545, 14.767165547980444], [36...</td>\n",
       "      <td>2.3</td>\n",
       "    </tr>\n",
       "  </tbody>\n",
       "</table>\n",
       "<p>5 rows × 32 columns</p>\n",
       "</div>"
      ],
      "text/plain": [
       "                  File Name Frame Start  FPS Strain subj_1 subj_2    all_subj  \\\n",
       "0   10-03-22_Test_1_1-1v1-2        2135   30    C57    1.1    1.2  (1.1, 1.2)   \n",
       "1   10-03-22_Test_2_1-3v1-4        2123   29    C57    1.3    1.4  (1.3, 1.4)   \n",
       "2   10-03-22_Test_3_2-1v2-2        2125   29    C57    2.1    2.2  (2.1, 2.2)   \n",
       "3  10-03-22_Test_13_2-2v2-4        2138   30    C57    2.2    2.4  (2.2, 2.4)   \n",
       "4  10-03-22_Test_14_2-1v2-3        2127   29    C57    2.1    2.3  (2.1, 2.3)   \n",
       "\n",
       "                                      all_tone_frame  \\\n",
       "0  [2135, 4535, 7235, 9635, 11885, 14885, 17735, ...   \n",
       "1  [2123, 4523, 7223, 9623, 11873, 14873, 17723, ...   \n",
       "2  [2125, 4525, 7225, 9625, 11875, 14875, 17725, ...   \n",
       "3  [2138, 4538, 7238, 9638, 11888, 14888, 17738, ...   \n",
       "4  [2127, 4527, 7227, 9627, 11877, 14877, 17727, ...   \n",
       "\n",
       "                                         corner_file  \\\n",
       "0  /scratch/back_up/dominance_strain_comparison/p...   \n",
       "1  /scratch/back_up/dominance_strain_comparison/p...   \n",
       "2  /scratch/back_up/dominance_strain_comparison/p...   \n",
       "3  /scratch/back_up/dominance_strain_comparison/p...   \n",
       "4  /scratch/back_up/dominance_strain_comparison/p...   \n",
       "\n",
       "                                pose_estimation_file  ... height_ratio  \\\n",
       "0  /scratch/back_up/dominance_strain_comparison/p...  ...     0.081602   \n",
       "1  /scratch/back_up/dominance_strain_comparison/p...  ...     0.057763   \n",
       "2  /scratch/back_up/dominance_strain_comparison/p...  ...     0.057216   \n",
       "3  /scratch/back_up/dominance_strain_comparison/p...  ...     0.081519   \n",
       "4  /scratch/back_up/dominance_strain_comparison/p...  ...     0.057666   \n",
       "\n",
       "                        reward_port_scaled  \\\n",
       "0    [62.65767561559346, 46.6450642268789]   \n",
       "1  [44.79031206327622, 38.095121316373195]   \n",
       "2   [44.42939704940567, 35.56550022490564]   \n",
       "3  [62.66437903191042, 46.457593353668756]   \n",
       "4   [44.67155311688311, 37.96517782319081]   \n",
       "\n",
       "         pose_estimation_subj_1_original_coordinates  \\\n",
       "0  [[[520.4361572265625, 564.3905639648438], [499...   \n",
       "1  [[[680.289306640625, 400.05560302734375], [676...   \n",
       "2  [[[315.74310302734375, 508.35687255859375], [3...   \n",
       "3  [[[563.5345458984375, 584.265380859375], [552....   \n",
       "4  [[[352.04791259765625, 239.75645446777344], [3...   \n",
       "\n",
       "           pose_estimation_subj_1_scaled_coordinates  \\\n",
       "0  [[[63.45613955133118, 46.055351719549506], [60...   \n",
       "1  [[[58.644644060289274, 23.108399542698006], [5...   \n",
       "2  [[[27.565068021130507, 29.086254855981128], [2...   \n",
       "3  [[[68.96148146275858, 47.628461715267704], [67...   \n",
       "4  [[[30.180921336474817, 13.825768374929051], [3...   \n",
       "\n",
       "           pose_estimation_subj_1_thorax_coordinates  \\\n",
       "0  [[64.2990287199225, 44.027829978141874], [64.2...   \n",
       "1  [[61.7094413419158, 22.198077497602327], [61.7...   \n",
       "2  [[30.34017396475596, 30.427972245799346], [30....   \n",
       "3  [[71.41175226058016, 45.614624361532364], [71....   \n",
       "4  [[35.329769344397896, 13.176087411670519], [35...   \n",
       "\n",
       "   pose_estimation_subj_1_name  \\\n",
       "0                          1.1   \n",
       "1                          1.3   \n",
       "2                          2.1   \n",
       "3                          2.2   \n",
       "4                          2.1   \n",
       "\n",
       "         pose_estimation_subj_2_original_coordinates  \\\n",
       "0  [[[368.9432067871094, 284.2481384277344], [392...   \n",
       "1  [[[531.3592529296875, 648.0527954101562], [499...   \n",
       "2  [[[520.195556640625, 616.1532592773438], [499....   \n",
       "3  [[[383.81134033203125, 507.93603515625], [387....   \n",
       "4  [[[440.73870849609375, 235.83706665039062], [4...   \n",
       "\n",
       "           pose_estimation_subj_2_scaled_coordinates  \\\n",
       "0  [[[44.98479072084644, 23.195192880177135], [47...   \n",
       "1  [[[45.80606214447569, 37.43345376936677], [43....   \n",
       "2  [[[45.41421733556245, 35.25395582729842], [43....   \n",
       "3  [[[46.96819178903383, 41.40620477746066], [47....   \n",
       "4  [[[37.784346434294605, 13.599753403799516], [3...   \n",
       "\n",
       "           pose_estimation_subj_2_thorax_coordinates  \\\n",
       "0  [[47.306155506552955, 24.141277551998048], [47...   \n",
       "1  [[46.209723992701065, 34.683338490517976], [46...   \n",
       "2  [[47.534636695053486, 32.74008833373921], [47....   \n",
       "3  [[50.947502939058204, 41.122758181192154], [50...   \n",
       "4  [[36.037506728469545, 14.767165547980444], [36...   \n",
       "\n",
       "   pose_estimation_subj_2_name  \n",
       "0                          1.2  \n",
       "1                          1.4  \n",
       "2                          2.2  \n",
       "3                          2.4  \n",
       "4                          2.3  \n",
       "\n",
       "[5 rows x 32 columns]"
      ]
     },
     "execution_count": 40,
     "metadata": {},
     "output_type": "execute_result"
    }
   ],
   "source": [
    "tone_start_df.head()"
   ]
  },
  {
   "cell_type": "code",
   "execution_count": 41,
   "id": "4568bff4",
   "metadata": {},
   "outputs": [
    {
     "data": {
      "text/plain": [
       "(55952, 2)"
      ]
     },
     "execution_count": 41,
     "metadata": {},
     "output_type": "execute_result"
    }
   ],
   "source": [
    "tone_start_df[\"pose_estimation_subj_1_thorax_coordinates\"].iloc[0].shape"
   ]
  },
  {
   "cell_type": "markdown",
   "id": "d62d85ca",
   "metadata": {},
   "source": [
    "# Calculating the distance from thorax to reward port"
   ]
  },
  {
   "cell_type": "code",
   "execution_count": 42,
   "id": "d2af9d9d",
   "metadata": {},
   "outputs": [],
   "source": [
    "tone_start_df[\"thorax_to_reward_port_distance_subj_1\"] = tone_start_df.apply(lambda row: np.linalg.norm(row[\"pose_estimation_subj_1_thorax_coordinates\"] - row[\"reward_port_scaled\"], axis=1), axis=1)\n",
    "tone_start_df[\"thorax_to_reward_port_distance_subj_2\"] = tone_start_df.apply(lambda row: np.linalg.norm(row[\"pose_estimation_subj_2_thorax_coordinates\"] - row[\"reward_port_scaled\"], axis=1), axis=1)\n",
    "\n"
   ]
  },
  {
   "cell_type": "code",
   "execution_count": 43,
   "id": "bf4ab1db",
   "metadata": {},
   "outputs": [],
   "source": [
    "frame_range = 20 * 30"
   ]
  },
  {
   "cell_type": "code",
   "execution_count": 44,
   "id": "4cad6b71",
   "metadata": {},
   "outputs": [],
   "source": [
    "tone_start_df[\"thorax_to_reward_port_tone_slices_subj_1\"] = tone_start_df.apply(lambda row:  np.vstack([row[\"thorax_to_reward_port_distance_subj_1\"][tone_frame-frame_range:tone_frame+frame_range] for tone_frame in row[\"all_tone_frame\"] if tone_frame <= row[\"thorax_to_reward_port_distance_subj_1\"].shape[0]]), axis=1)\n",
    "tone_start_df[\"thorax_to_reward_port_tone_slices_subj_2\"] = tone_start_df.apply(lambda row:  np.vstack([row[\"thorax_to_reward_port_distance_subj_2\"][tone_frame-frame_range:tone_frame+frame_range] for tone_frame in row[\"all_tone_frame\"] if tone_frame <= row[\"thorax_to_reward_port_distance_subj_2\"].shape[0]]), axis=1)\n"
   ]
  },
  {
   "cell_type": "code",
   "execution_count": 45,
   "id": "c015d988",
   "metadata": {},
   "outputs": [
    {
     "data": {
      "image/png": "[encoded data removed]",
      "text/plain": [
       "<Figure size 640x480 with 1 Axes>"
      ]
     },
     "metadata": {},
     "output_type": "display_data"
    }
   ],
   "source": [
    "# Iterate over each row in the array\n",
    "for i, row in enumerate(tone_start_df[\"thorax_to_reward_port_tone_slices_subj_1\"].iloc[0]):\n",
    "    # Plot the row data\n",
    "    plt.plot(row, label=f'Line {i+1}')\n",
    "\n"
   ]
  },
  {
   "cell_type": "markdown",
   "id": "46a9c165",
   "metadata": {},
   "source": [
    "# Averaging across trials"
   ]
  },
  {
   "cell_type": "code",
   "execution_count": 46,
   "id": "8a70241e",
   "metadata": {},
   "outputs": [],
   "source": [
    "tone_start_df[\"thorax_to_reward_port_tone_trial_average_subj_1\"] = tone_start_df[\"thorax_to_reward_port_tone_slices_subj_1\"].apply(lambda x: np.mean(x, axis=0))\n",
    "tone_start_df[\"thorax_to_reward_port_tone_trial_average_subj_2\"] = tone_start_df[\"thorax_to_reward_port_tone_slices_subj_2\"].apply(lambda x: np.mean(x, axis=0))"
   ]
  },
  {
   "cell_type": "code",
   "execution_count": null,
   "id": "9b5f35c9",
   "metadata": {},
   "outputs": [],
   "source": [
    "# Iterate over each row in the array\n",
    "for i, row in enumerate(tone_start_df[\"thorax_to_reward_port_tone_slices_subj_1\"].iloc[0]):\n",
    "    # Plot the row data\n",
    "    plt.plot(row, label=f'Line {i+1}')"
   ]
  },
  {
   "cell_type": "markdown",
   "id": "61bbb6e6",
   "metadata": {},
   "source": [
    "- TODO: Combine subject 1 and 2 data"
   ]
  },
  {
   "cell_type": "code",
   "execution_count": 47,
   "id": "5e835e3d",
   "metadata": {},
   "outputs": [],
   "source": [
    "c57_mean_distance = np.mean(tone_start_df[tone_start_df[\"Strain\"] == \"C57\"][\"thorax_to_reward_port_tone_trial_average_subj_1\"], axis=0)\n",
    "cd1_mean_distance = np.mean(tone_start_df[tone_start_df[\"Strain\"] == \"CD1\"][\"thorax_to_reward_port_tone_trial_average_subj_1\"], axis=0)\n",
    "# c57_sem_distance = np.std(tone_start_df[tone_start_df[\"Strain\"] == \"C57\"][\"thorax_to_reward_port_tone_trial_average_subj_1\"].to_list(), axis=0)\n",
    "# cd1_sem_distance = np.std(tone_start_df[tone_start_df[\"Strain\"] == \"CD1\"][\"thorax_to_reward_port_tone_trial_average_subj_1\"].to_list(), axis=0)\n",
    "cd1_sem_distance = np.std(tone_start_df[tone_start_df[\"Strain\"] == \"CD1\"][\"thorax_to_reward_port_tone_trial_average_subj_1\"].to_list(), axis=0) / np.sqrt(tone_start_df[tone_start_df[\"Strain\"] == \"CD1\"][\"thorax_to_reward_port_tone_trial_average_subj_1\"].iloc[0].shape[0])  \n",
    "c57_sem_distance = np.std(tone_start_df[tone_start_df[\"Strain\"] == \"C57\"][\"thorax_to_reward_port_tone_trial_average_subj_1\"].to_list(), axis=0) / np.sqrt(tone_start_df[tone_start_df[\"Strain\"] == \"C57\"][\"thorax_to_reward_port_tone_trial_average_subj_1\"].iloc[0].shape[0])  "
   ]
  },
  {
   "cell_type": "code",
   "execution_count": 48,
   "id": "22c1e5ca",
   "metadata": {},
   "outputs": [
    {
     "data": {
      "text/plain": [
       "(1200,)"
      ]
     },
     "execution_count": 48,
     "metadata": {},
     "output_type": "execute_result"
    }
   ],
   "source": [
    "tone_start_df[tone_start_df[\"Strain\"] == \"CD1\"][\"thorax_to_reward_port_tone_trial_average_subj_1\"].iloc[0].shape"
   ]
  },
  {
   "cell_type": "code",
   "execution_count": 49,
   "id": "3aa9b34e",
   "metadata": {},
   "outputs": [
    {
     "data": {
      "text/plain": [
       "4.0"
      ]
     },
     "execution_count": 49,
     "metadata": {},
     "output_type": "execute_result"
    }
   ],
   "source": [
    "np.sqrt(tone_start_df[tone_start_df[\"Strain\"] == \"CD1\"][\"thorax_to_reward_port_tone_trial_average_subj_1\"].shape[0])  "
   ]
  },
  {
   "cell_type": "raw",
   "id": "701a8444",
   "metadata": {},
   "source": [
    "c57s mustard: ffaf00 ffcf66 (Leo's #400000)\n",
    "cd1s teal: 15616f 73a0a9 (Leo's #001620)"
   ]
  },
  {
   "cell_type": "code",
   "execution_count": 50,
   "id": "0a33a750",
   "metadata": {},
   "outputs": [
    {
     "data": {
      "text/plain": [
       "<matplotlib.legend.Legend at 0x7f6b9f0b8dc0>"
      ]
     },
     "execution_count": 50,
     "metadata": {},
     "output_type": "execute_result"
    },
    {
     "data": {
      "image/png": "[encoded data removed]",
      "text/plain": [
       "<Figure size 640x480 with 1 Axes>"
      ]
     },
     "metadata": {},
     "output_type": "display_data"
    }
   ],
   "source": [
    "# Add shading for the standard error\n",
    "plt.plot(cd1_mean_distance, color=\"#ffaf00\", label=\"CD1\")\n",
    "plt.fill_between(range(len(cd1_mean_distance)), cd1_mean_distance - cd1_sem_distance, cd1_mean_distance + cd1_sem_distance, color=\"#ffaf00\", alpha=0.2)\n",
    "\n",
    "# Add shading for the standard error\n",
    "plt.plot(c57_mean_distance, color=\"#15616f\", label=\"C57\")\n",
    "plt.fill_between(range(len(c57_mean_distance)), c57_mean_distance - c57_sem_distance, c57_mean_distance + c57_sem_distance, color=\"#15616f\", alpha=0.2)\n",
    "plt.ylabel(\"Distance of thorax to reward port (cm)\")\n",
    "plt.xlabel(\"Time from tone onset (seconds)\")\n",
    "\n",
    "xticks = plt.xticks()[0]  # Get current x-axis ticks\n",
    "plt.xticks(xticks, xticks // 30 - 20)  # Set new x-axis ticks\n",
    "plt.xlim(0, 1200)\n",
    "plt.ylim(0, 12)\n",
    "plt.title(\"C57 are closer to the reward port\")\n",
    "\n",
    "plt.legend()"
   ]
  },
  {
   "cell_type": "markdown",
   "id": "6efb99f0",
   "metadata": {},
   "source": [
    "# Adding the win and loss information"
   ]
  },
  {
   "cell_type": "markdown",
   "id": "dc2e59f2",
   "metadata": {},
   "source": [
    "# Incorporating Winning and Losing"
   ]
  },
  {
   "cell_type": "code",
   "execution_count": 51,
   "id": "b711efe1",
   "metadata": {},
   "outputs": [],
   "source": [
    "rc_outcome_df = pd.read_excel(\"./data/iwata_pilot_3_reward_competition.xlsx\")"
   ]
  },
  {
   "cell_type": "code",
   "execution_count": 52,
   "id": "887c637c",
   "metadata": {},
   "outputs": [],
   "source": [
    "rc_outcome_df[\"subj_1\"] = rc_outcome_df[\"Match\"].apply(lambda x: sorted([num.strip() for num in x.split(\"vs\")])[0])\n",
    "rc_outcome_df[\"subj_2\"] = rc_outcome_df[\"Match\"].apply(lambda x: sorted([num.strip() for num in x.split(\"vs\")])[1])\n",
    "rc_outcome_df[\"all_subj\"] = rc_outcome_df.apply(lambda x: tuple(sorted([x[\"subj_1\"], x[\"subj_2\"]])) , axis=1)"
   ]
  },
  {
   "cell_type": "code",
   "execution_count": 53,
   "id": "03326147",
   "metadata": {},
   "outputs": [
    {
     "data": {
      "text/html": [
       "<div>\n",
       "<style scoped>\n",
       "    .dataframe tbody tr th:only-of-type {\n",
       "        vertical-align: middle;\n",
       "    }\n",
       "\n",
       "    .dataframe tbody tr th {\n",
       "        vertical-align: top;\n",
       "    }\n",
       "\n",
       "    .dataframe thead th {\n",
       "        text-align: right;\n",
       "    }\n",
       "</style>\n",
       "<table border=\"1\" class=\"dataframe\">\n",
       "  <thead>\n",
       "    <tr style=\"text-align: right;\">\n",
       "      <th></th>\n",
       "      <th>Date</th>\n",
       "      <th>Cage</th>\n",
       "      <th>Box</th>\n",
       "      <th>Match</th>\n",
       "      <th>Scorer</th>\n",
       "      <th>Trial 1 Winner</th>\n",
       "      <th>Trial 2 Winner</th>\n",
       "      <th>Trial 3 Winner</th>\n",
       "      <th>Trial 4 Winner</th>\n",
       "      <th>Trial 5 Winner</th>\n",
       "      <th>...</th>\n",
       "      <th>Trial 16 Winner</th>\n",
       "      <th>Trial 17 Winner</th>\n",
       "      <th>Trial 18 Winner</th>\n",
       "      <th>Trial 19 Winner</th>\n",
       "      <th>Mouse 1 Wins</th>\n",
       "      <th>Mouse 2 Wins</th>\n",
       "      <th>Ties</th>\n",
       "      <th>subj_1</th>\n",
       "      <th>subj_2</th>\n",
       "      <th>all_subj</th>\n",
       "    </tr>\n",
       "  </thead>\n",
       "  <tbody>\n",
       "    <tr>\n",
       "      <th>0</th>\n",
       "      <td>2022-10-03</td>\n",
       "      <td>1</td>\n",
       "      <td>1</td>\n",
       "      <td>1.1 vs 1.2</td>\n",
       "      <td>Jocelyn</td>\n",
       "      <td>1.1</td>\n",
       "      <td>1.2</td>\n",
       "      <td>1.2</td>\n",
       "      <td>1.1</td>\n",
       "      <td>tie</td>\n",
       "      <td>...</td>\n",
       "      <td>1.2</td>\n",
       "      <td>1.2</td>\n",
       "      <td>1.2</td>\n",
       "      <td>1.2</td>\n",
       "      <td>NaN</td>\n",
       "      <td>NaN</td>\n",
       "      <td>NaN</td>\n",
       "      <td>1.1</td>\n",
       "      <td>1.2</td>\n",
       "      <td>(1.1, 1.2)</td>\n",
       "    </tr>\n",
       "    <tr>\n",
       "      <th>1</th>\n",
       "      <td>2022-10-03</td>\n",
       "      <td>1</td>\n",
       "      <td>2</td>\n",
       "      <td>1.3 vs 1.4</td>\n",
       "      <td>Jocelyn</td>\n",
       "      <td>1.3</td>\n",
       "      <td>1.4</td>\n",
       "      <td>1.3</td>\n",
       "      <td>1.4</td>\n",
       "      <td>1.4</td>\n",
       "      <td>...</td>\n",
       "      <td>1.3</td>\n",
       "      <td>1.3</td>\n",
       "      <td>1.4</td>\n",
       "      <td>tie</td>\n",
       "      <td>NaN</td>\n",
       "      <td>NaN</td>\n",
       "      <td>NaN</td>\n",
       "      <td>1.3</td>\n",
       "      <td>1.4</td>\n",
       "      <td>(1.3, 1.4)</td>\n",
       "    </tr>\n",
       "    <tr>\n",
       "      <th>2</th>\n",
       "      <td>2022-10-03</td>\n",
       "      <td>2</td>\n",
       "      <td>3</td>\n",
       "      <td>2.1 vs 2.2</td>\n",
       "      <td>Jocelyn</td>\n",
       "      <td>2.2</td>\n",
       "      <td>2.1</td>\n",
       "      <td>2.1</td>\n",
       "      <td>2.1</td>\n",
       "      <td>2.1</td>\n",
       "      <td>...</td>\n",
       "      <td>2.2</td>\n",
       "      <td>2.1</td>\n",
       "      <td>2.1</td>\n",
       "      <td>2.2</td>\n",
       "      <td>NaN</td>\n",
       "      <td>NaN</td>\n",
       "      <td>NaN</td>\n",
       "      <td>2.1</td>\n",
       "      <td>2.2</td>\n",
       "      <td>(2.1, 2.2)</td>\n",
       "    </tr>\n",
       "    <tr>\n",
       "      <th>3</th>\n",
       "      <td>2022-10-03</td>\n",
       "      <td>2</td>\n",
       "      <td>4</td>\n",
       "      <td>2.3 vs 2.4</td>\n",
       "      <td>Jocelyn</td>\n",
       "      <td>2.4</td>\n",
       "      <td>2.4</td>\n",
       "      <td>2.4</td>\n",
       "      <td>2.3</td>\n",
       "      <td>2.4</td>\n",
       "      <td>...</td>\n",
       "      <td>2.4</td>\n",
       "      <td>2.4</td>\n",
       "      <td>2.4</td>\n",
       "      <td>2.3</td>\n",
       "      <td>NaN</td>\n",
       "      <td>NaN</td>\n",
       "      <td>NaN</td>\n",
       "      <td>2.3</td>\n",
       "      <td>2.4</td>\n",
       "      <td>(2.3, 2.4)</td>\n",
       "    </tr>\n",
       "    <tr>\n",
       "      <th>4</th>\n",
       "      <td>2022-10-03</td>\n",
       "      <td>3</td>\n",
       "      <td>1</td>\n",
       "      <td>3.1 vs 3.2</td>\n",
       "      <td>Meghan</td>\n",
       "      <td>3.2</td>\n",
       "      <td>3.1</td>\n",
       "      <td>3.1</td>\n",
       "      <td>3.2</td>\n",
       "      <td>3.2</td>\n",
       "      <td>...</td>\n",
       "      <td>3.1</td>\n",
       "      <td>3.1</td>\n",
       "      <td>3.1</td>\n",
       "      <td>3.1</td>\n",
       "      <td>NaN</td>\n",
       "      <td>NaN</td>\n",
       "      <td>NaN</td>\n",
       "      <td>3.1</td>\n",
       "      <td>3.2</td>\n",
       "      <td>(3.1, 3.2)</td>\n",
       "    </tr>\n",
       "    <tr>\n",
       "      <th>...</th>\n",
       "      <td>...</td>\n",
       "      <td>...</td>\n",
       "      <td>...</td>\n",
       "      <td>...</td>\n",
       "      <td>...</td>\n",
       "      <td>...</td>\n",
       "      <td>...</td>\n",
       "      <td>...</td>\n",
       "      <td>...</td>\n",
       "      <td>...</td>\n",
       "      <td>...</td>\n",
       "      <td>...</td>\n",
       "      <td>...</td>\n",
       "      <td>...</td>\n",
       "      <td>...</td>\n",
       "      <td>...</td>\n",
       "      <td>...</td>\n",
       "      <td>...</td>\n",
       "      <td>...</td>\n",
       "      <td>...</td>\n",
       "      <td>...</td>\n",
       "    </tr>\n",
       "    <tr>\n",
       "      <th>67</th>\n",
       "      <td>2022-10-04</td>\n",
       "      <td>3</td>\n",
       "      <td>4</td>\n",
       "      <td>3.1vs3.2</td>\n",
       "      <td>Leo</td>\n",
       "      <td>3.2</td>\n",
       "      <td>3.2</td>\n",
       "      <td>3.2</td>\n",
       "      <td>3.1</td>\n",
       "      <td>3.1</td>\n",
       "      <td>...</td>\n",
       "      <td>3.2</td>\n",
       "      <td>3.2</td>\n",
       "      <td>3.2</td>\n",
       "      <td>3.1</td>\n",
       "      <td>NaN</td>\n",
       "      <td>NaN</td>\n",
       "      <td>NaN</td>\n",
       "      <td>3.1</td>\n",
       "      <td>3.2</td>\n",
       "      <td>(3.1, 3.2)</td>\n",
       "    </tr>\n",
       "    <tr>\n",
       "      <th>68</th>\n",
       "      <td>2022-10-04</td>\n",
       "      <td>2</td>\n",
       "      <td>1</td>\n",
       "      <td>2.3vs2.4</td>\n",
       "      <td>Aidan</td>\n",
       "      <td>2.4</td>\n",
       "      <td>2.3</td>\n",
       "      <td>2.3</td>\n",
       "      <td>2.3</td>\n",
       "      <td>2.3</td>\n",
       "      <td>...</td>\n",
       "      <td>2.3</td>\n",
       "      <td>2.3</td>\n",
       "      <td>2.3</td>\n",
       "      <td>tie</td>\n",
       "      <td>16.0</td>\n",
       "      <td>2.0</td>\n",
       "      <td>1.0</td>\n",
       "      <td>2.3</td>\n",
       "      <td>2.4</td>\n",
       "      <td>(2.3, 2.4)</td>\n",
       "    </tr>\n",
       "    <tr>\n",
       "      <th>69</th>\n",
       "      <td>2022-10-04</td>\n",
       "      <td>2</td>\n",
       "      <td>2</td>\n",
       "      <td>2.1vs2.2</td>\n",
       "      <td>Albert</td>\n",
       "      <td>2.2</td>\n",
       "      <td>2.2</td>\n",
       "      <td>2.2</td>\n",
       "      <td>tie</td>\n",
       "      <td>2.2</td>\n",
       "      <td>...</td>\n",
       "      <td>2.2</td>\n",
       "      <td>2.2</td>\n",
       "      <td>2.2</td>\n",
       "      <td>2.2</td>\n",
       "      <td>0.0</td>\n",
       "      <td>17.0</td>\n",
       "      <td>2.0</td>\n",
       "      <td>2.1</td>\n",
       "      <td>2.2</td>\n",
       "      <td>(2.1, 2.2)</td>\n",
       "    </tr>\n",
       "    <tr>\n",
       "      <th>70</th>\n",
       "      <td>2022-10-04</td>\n",
       "      <td>1</td>\n",
       "      <td>3</td>\n",
       "      <td>1.3vs1.4</td>\n",
       "      <td>Aidan</td>\n",
       "      <td>1.3</td>\n",
       "      <td>1.3</td>\n",
       "      <td>1.4</td>\n",
       "      <td>1.4</td>\n",
       "      <td>1.4</td>\n",
       "      <td>...</td>\n",
       "      <td>1.3</td>\n",
       "      <td>tie</td>\n",
       "      <td>tie</td>\n",
       "      <td>1.3</td>\n",
       "      <td>9.0</td>\n",
       "      <td>6.0</td>\n",
       "      <td>3.0</td>\n",
       "      <td>1.3</td>\n",
       "      <td>1.4</td>\n",
       "      <td>(1.3, 1.4)</td>\n",
       "    </tr>\n",
       "    <tr>\n",
       "      <th>71</th>\n",
       "      <td>2022-10-04</td>\n",
       "      <td>1</td>\n",
       "      <td>4</td>\n",
       "      <td>1.1vs1.2</td>\n",
       "      <td>Albert</td>\n",
       "      <td>1.1</td>\n",
       "      <td>1.1</td>\n",
       "      <td>1.1</td>\n",
       "      <td>1.1</td>\n",
       "      <td>1.1</td>\n",
       "      <td>...</td>\n",
       "      <td>1.1</td>\n",
       "      <td>1.1</td>\n",
       "      <td>1.1</td>\n",
       "      <td>1.1</td>\n",
       "      <td>18.0</td>\n",
       "      <td>0.0</td>\n",
       "      <td>1.0</td>\n",
       "      <td>1.1</td>\n",
       "      <td>1.2</td>\n",
       "      <td>(1.1, 1.2)</td>\n",
       "    </tr>\n",
       "  </tbody>\n",
       "</table>\n",
       "<p>72 rows × 30 columns</p>\n",
       "</div>"
      ],
      "text/plain": [
       "         Date  Cage  Box       Match   Scorer Trial 1 Winner Trial 2 Winner  \\\n",
       "0  2022-10-03     1    1  1.1 vs 1.2  Jocelyn            1.1            1.2   \n",
       "1  2022-10-03     1    2  1.3 vs 1.4  Jocelyn            1.3            1.4   \n",
       "2  2022-10-03     2    3  2.1 vs 2.2  Jocelyn            2.2            2.1   \n",
       "3  2022-10-03     2    4  2.3 vs 2.4  Jocelyn            2.4            2.4   \n",
       "4  2022-10-03     3    1  3.1 vs 3.2   Meghan            3.2            3.1   \n",
       "..        ...   ...  ...         ...      ...            ...            ...   \n",
       "67 2022-10-04     3    4    3.1vs3.2      Leo            3.2            3.2   \n",
       "68 2022-10-04     2    1    2.3vs2.4    Aidan            2.4            2.3   \n",
       "69 2022-10-04     2    2    2.1vs2.2   Albert            2.2            2.2   \n",
       "70 2022-10-04     1    3    1.3vs1.4    Aidan            1.3            1.3   \n",
       "71 2022-10-04     1    4    1.1vs1.2   Albert            1.1            1.1   \n",
       "\n",
       "   Trial 3 Winner Trial 4 Winner Trial 5 Winner  ... Trial 16 Winner  \\\n",
       "0             1.2            1.1            tie  ...             1.2   \n",
       "1             1.3            1.4            1.4  ...             1.3   \n",
       "2             2.1            2.1            2.1  ...             2.2   \n",
       "3             2.4            2.3            2.4  ...             2.4   \n",
       "4             3.1            3.2            3.2  ...             3.1   \n",
       "..            ...            ...            ...  ...             ...   \n",
       "67            3.2            3.1            3.1  ...             3.2   \n",
       "68            2.3            2.3            2.3  ...             2.3   \n",
       "69            2.2           tie             2.2  ...             2.2   \n",
       "70            1.4            1.4            1.4  ...             1.3   \n",
       "71            1.1            1.1            1.1  ...             1.1   \n",
       "\n",
       "   Trial 17 Winner Trial 18 Winner Trial 19 Winner Mouse 1 Wins Mouse 2 Wins  \\\n",
       "0              1.2             1.2             1.2          NaN          NaN   \n",
       "1              1.3             1.4             tie          NaN          NaN   \n",
       "2              2.1             2.1             2.2          NaN          NaN   \n",
       "3              2.4             2.4             2.3          NaN          NaN   \n",
       "4              3.1             3.1             3.1          NaN          NaN   \n",
       "..             ...             ...             ...          ...          ...   \n",
       "67             3.2             3.2             3.1          NaN          NaN   \n",
       "68             2.3             2.3             tie         16.0          2.0   \n",
       "69             2.2             2.2             2.2          0.0         17.0   \n",
       "70             tie             tie             1.3          9.0          6.0   \n",
       "71             1.1             1.1             1.1         18.0          0.0   \n",
       "\n",
       "   Ties subj_1 subj_2    all_subj  \n",
       "0   NaN    1.1    1.2  (1.1, 1.2)  \n",
       "1   NaN    1.3    1.4  (1.3, 1.4)  \n",
       "2   NaN    2.1    2.2  (2.1, 2.2)  \n",
       "3   NaN    2.3    2.4  (2.3, 2.4)  \n",
       "4   NaN    3.1    3.2  (3.1, 3.2)  \n",
       "..  ...    ...    ...         ...  \n",
       "67  NaN    3.1    3.2  (3.1, 3.2)  \n",
       "68  1.0    2.3    2.4  (2.3, 2.4)  \n",
       "69  2.0    2.1    2.2  (2.1, 2.2)  \n",
       "70  3.0    1.3    1.4  (1.3, 1.4)  \n",
       "71  1.0    1.1    1.2  (1.1, 1.2)  \n",
       "\n",
       "[72 rows x 30 columns]"
      ]
     },
     "execution_count": 53,
     "metadata": {},
     "output_type": "execute_result"
    }
   ],
   "source": [
    "rc_outcome_df"
   ]
  },
  {
   "cell_type": "code",
   "execution_count": 54,
   "id": "247987f4",
   "metadata": {},
   "outputs": [
    {
     "data": {
      "text/plain": [
       "array(['1.1', '1.3', '2.1', '2.3', '3.1', '3.3', '4.1', '4.3', '5.1',\n",
       "       '5.3', '6.1', '6.3', '2.2', '1.2', '4.2', '3.2', '6.2', '5.2'],\n",
       "      dtype=object)"
      ]
     },
     "execution_count": 54,
     "metadata": {},
     "output_type": "execute_result"
    }
   ],
   "source": [
    "rc_outcome_df[\"subj_1\"].unique()"
   ]
  },
  {
   "cell_type": "code",
   "execution_count": 55,
   "id": "d990920c",
   "metadata": {},
   "outputs": [
    {
     "data": {
      "text/plain": [
       "array(['1.1', '1.3', '2.1', '2.3', '3.1', '3.3', '4.1', '4.3', '5.1',\n",
       "       '5.3', '6.1', '6.3', '2.2', '1.2', '4.2', '3.2', '6.2', '5.2'],\n",
       "      dtype=object)"
      ]
     },
     "execution_count": 55,
     "metadata": {},
     "output_type": "execute_result"
    }
   ],
   "source": [
    "rc_outcome_df[\"subj_1\"].unique()"
   ]
  },
  {
   "cell_type": "code",
   "execution_count": 56,
   "id": "2cb44313",
   "metadata": {},
   "outputs": [
    {
     "ename": "ValueError",
     "evalue": "",
     "output_type": "error",
     "traceback": [
      "\u001b[0;31m---------------------------------------------------------------------------\u001b[0m",
      "\u001b[0;31mValueError\u001b[0m                                Traceback (most recent call last)",
      "Cell \u001b[0;32mIn[56], line 1\u001b[0m\n\u001b[0;32m----> 1\u001b[0m \u001b[38;5;28;01mraise\u001b[39;00m \u001b[38;5;167;01mValueError\u001b[39;00m()\n",
      "\u001b[0;31mValueError\u001b[0m: "
     ]
    }
   ],
   "source": [
    "raise ValueError()"
   ]
  },
  {
   "cell_type": "code",
   "execution_count": null,
   "id": "721a23f3",
   "metadata": {},
   "outputs": [],
   "source": [
    "np.mean(tone_start_df[\"thorax_to_reward_port_tone_slices_subj_1\"].iloc[0], axis=0)\n"
   ]
  },
  {
   "cell_type": "code",
   "execution_count": null,
   "id": "be51274c",
   "metadata": {},
   "outputs": [],
   "source": []
  },
  {
   "cell_type": "code",
   "execution_count": null,
   "id": "99e49d43",
   "metadata": {},
   "outputs": [],
   "source": [
    "plt.plot(cd1_mean_distance)"
   ]
  },
  {
   "cell_type": "code",
   "execution_count": null,
   "id": "2209f1e5",
   "metadata": {},
   "outputs": [],
   "source": [
    "for num in tone_start_df[\"thorax_to_reward_port_tone_slices_subj_1\"]:\n",
    "    print(num.shape)"
   ]
  },
  {
   "cell_type": "code",
   "execution_count": null,
   "id": "3abecdc0",
   "metadata": {},
   "outputs": [],
   "source": [
    " np.vstack([arr[start:end] for start, end in ranges])"
   ]
  },
  {
   "cell_type": "code",
   "execution_count": null,
   "id": "94139ef0",
   "metadata": {},
   "outputs": [],
   "source": [
    "((23)**2 + (29.5)**2)**0.5"
   ]
  },
  {
   "cell_type": "code",
   "execution_count": null,
   "id": "f0338dfe",
   "metadata": {},
   "outputs": [],
   "source": [
    "tone_start_df[\"thorax_to_reward_port_distance_subj_1\"].iloc[0].shape"
   ]
  },
  {
   "cell_type": "code",
   "execution_count": null,
   "id": "213b02e0",
   "metadata": {},
   "outputs": [],
   "source": [
    "for num in range(2):\n",
    "#     print(num)"
   ]
  },
  {
   "cell_type": "code",
   "execution_count": null,
   "id": "e0ced056",
   "metadata": {},
   "outputs": [],
   "source": [
    "tone_start_df[\"pose_estimation_subj_2_thorax_coordinates\"].iloc[0]"
   ]
  },
  {
   "cell_type": "code",
   "execution_count": null,
   "id": "0b91eb31",
   "metadata": {},
   "outputs": [],
   "source": [
    "tone_start_df[\"pose_estimation_subj_1_thorax_coordinates\"] = "
   ]
  },
  {
   "cell_type": "code",
   "execution_count": null,
   "id": "ed58a564",
   "metadata": {},
   "outputs": [],
   "source": [
    "tone_start_df[\"pose_estimation_subj_1_coordinates\"].iloc[0][:,:,1] * tone_start_df[\"height_ratio\"].iloc[0]"
   ]
  },
  {
   "cell_type": "code",
   "execution_count": null,
   "id": "2821716e",
   "metadata": {},
   "outputs": [],
   "source": [
    "(tone_start_df[\"pose_estimation_subj_1_coordinates\"].iloc[0][:,:,1] * tone_start_df[\"height_ratio\"].iloc[0]).shape"
   ]
  },
  {
   "cell_type": "code",
   "execution_count": null,
   "id": "f7897066",
   "metadata": {},
   "outputs": [],
   "source": [
    "np.dstack((tone_start_df[\"pose_estimation_subj_1_coordinates\"].iloc[0][:,:,0] * tone_start_df[\"width_ratio\"].iloc[0], tone_start_df[\"pose_estimation_subj_1_coordinates\"].iloc[0][:,:,1] * tone_start_df[\"height_ratio\"].iloc[0]))"
   ]
  },
  {
   "cell_type": "code",
   "execution_count": null,
   "id": "cb9cde3b",
   "metadata": {},
   "outputs": [],
   "source": [
    "tone_start_df[\"pose_estimation_subj_1_coordinates\"].iloc[0][:,:,:]"
   ]
  },
  {
   "cell_type": "markdown",
   "id": "3a18e47f",
   "metadata": {},
   "source": [
    "3000: the number of frames;\n",
    "\n",
    "13: the number of nodes in the skeleton (we’ve also loaded and displayed the node_names dataset with the names of these 13 nodes);\n",
    "\n",
    "2: for the x and y coordinates;\n",
    "\n",
    "2: the number of distinct animal identities which were found (we have 2 flies in the video clip and they were tracked perfectly, so we ended up with exactly 2 track, but there may be more tracks than animals if tracking didn’t work as well)."
   ]
  },
  {
   "cell_type": "code",
   "execution_count": null,
   "id": "d2eed4f5",
   "metadata": {},
   "outputs": [],
   "source": [
    "tone_start_df[\"pose_estimation_subj_1\"] = \n",
    "tone_start_df[\"pose_estimation_subj_1\"] = "
   ]
  },
  {
   "cell_type": "code",
   "execution_count": null,
   "id": "6c1898fa",
   "metadata": {
    "scrolled": true
   },
   "outputs": [],
   "source": [
    "node_names"
   ]
  },
  {
   "cell_type": "code",
   "execution_count": null,
   "id": "c6568063",
   "metadata": {},
   "outputs": [],
   "source": [
    "tone_start_df[\"pose_estimation_file\"].apply(lambda x: get_sleap_coordinates(x)[0][0,index,:,0])"
   ]
  },
  {
   "cell_type": "code",
   "execution_count": null,
   "id": "e1df37b8",
   "metadata": {},
   "outputs": [],
   "source": [
    "for index, node in enumerate(corner_node_names):\n",
    "    tone_start_df[\"{}_coordinates\".format(node)] = tone_start_df[\"pose_estimation_file\"].apply(lambda x: get_sleap_coordinates(x)[0][0,index,:,0])"
   ]
  },
  {
   "cell_type": "markdown",
   "id": "17d71c0e",
   "metadata": {},
   "source": [
    "# Calculate Distance from Thorax to Reward Port"
   ]
  },
  {
   "cell_type": "code",
   "execution_count": null,
   "id": "3d47501e",
   "metadata": {},
   "outputs": [],
   "source": [
    "for index, node in enumerate(corner_node_names):\n",
    "    tone_start_df[\"{}_coordinates\".format(node)] = tone_start_df[\"corner_file\"].apply(lambda x: get_sleap_coordinates(x)[0][0,index,:,0])"
   ]
  },
  {
   "cell_type": "code",
   "execution_count": null,
   "id": "5265f79d",
   "metadata": {},
   "outputs": [],
   "source": [
    "raise ValueError()"
   ]
  },
  {
   "cell_type": "markdown",
   "id": "0235e64c",
   "metadata": {},
   "source": [
    "- Calculating Horizontal and Vertical Distances"
   ]
  },
  {
   "cell_type": "code",
   "execution_count": null,
   "id": "8a1e1d34",
   "metadata": {},
   "outputs": [],
   "source": [
    "tone_start_df[\"horizontal_length\"] = tone_start_df.apply(lambda row: row[\"box_bottom_left_coordinates\"][])"
   ]
  },
  {
   "cell_type": "code",
   "execution_count": null,
   "id": "b76f1729",
   "metadata": {},
   "outputs": [],
   "source": [
    "filename = all_corner_h5[0]"
   ]
  },
  {
   "cell_type": "code",
   "execution_count": null,
   "id": "b9e17c1d",
   "metadata": {},
   "outputs": [],
   "source": [
    "\n",
    "with h5py.File(filename, \"r\") as f:\n",
    "    dset_names = list(f.keys())\n",
    "    locations = f[\"tracks\"][:].T\n",
    "    node_names = [n.decode() for n in f[\"node_names\"][:]]\n",
    "\n",
    "print(\"===filename===\")\n",
    "print(filename)\n",
    "print()\n",
    "\n",
    "print(\"===HDF5 datasets===\")\n",
    "print(dset_names)\n",
    "print()\n",
    "\n",
    "print(\"===locations data shape===\")\n",
    "print(locations.shape)\n",
    "print()\n",
    "\n",
    "print(\"===nodes===\")\n",
    "for i, name in enumerate(node_names):\n",
    "    print(f\"{i}: {name}\")\n",
    "print()"
   ]
  },
  {
   "cell_type": "code",
   "execution_count": null,
   "id": "5ce83b7e",
   "metadata": {},
   "outputs": [],
   "source": [
    "locations[0,1,0,0]"
   ]
  },
  {
   "cell_type": "code",
   "execution_count": null,
   "id": "859c6d16",
   "metadata": {},
   "outputs": [],
   "source": [
    "locations[0,1,1,0]"
   ]
  },
  {
   "cell_type": "code",
   "execution_count": null,
   "id": "539c78c3",
   "metadata": {},
   "outputs": [],
   "source": [
    "for index, row in tone_start_df.iterrows():\n",
    "    print(row[\"corner_file\"])\n",
    "    "
   ]
  }
 ],
 "metadata": {
  "kernelspec": {
   "display_name": "Python 3 (ipykernel)",
   "language": "python",
   "name": "python3"
  },
  "language_info": {
   "codemirror_mode": {
    "name": "ipython",
    "version": 3
   },
   "file_extension": ".py",
   "mimetype": "text/x-python",
   "name": "python",
   "nbconvert_exporter": "python",
   "pygments_lexer": "ipython3",
   "version": "3.9.15"
  }
 },
 "nbformat": 4,
 "nbformat_minor": 5
}
