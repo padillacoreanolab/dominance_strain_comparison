{
 "cells": [
  {
   "cell_type": "markdown",
   "metadata": {
    "cell_id": "c3a02adc9e884466bc8c79db549cc3d2",
    "deepnote_cell_type": "text-cell-h1",
    "formattedRanges": [
     {
      "fromCodePoint": 0,
      "marks": {
       "bold": true,
       "underline": true
      },
      "toCodePoint": 17,
      "type": "marks"
     }
    ]
   },
   "source": [
    "# Reward competition distance from port analysis"
   ]
  },
  {
   "cell_type": "markdown",
   "metadata": {
    "cell_id": "4546bee655b14a5dbf393161f1228e60",
    "deepnote_cell_type": "text-cell-p",
    "formattedRanges": []
   },
   "source": [
    "Brief 1-2 sentence description of notebook."
   ]
  },
  {
   "cell_type": "code",
   "execution_count": 11,
   "metadata": {},
   "outputs": [],
   "source": [
    "from datetime import datetime\n"
   ]
  },
  {
   "cell_type": "code",
   "execution_count": 1,
   "metadata": {
    "cell_id": "03b495cefa6a4798a44c7f2e4c6a3ea7",
    "deepnote_cell_type": "code",
    "deepnote_to_be_reexecuted": false,
    "execution_millis": 21,
    "execution_start": 1691424003626,
    "source_hash": null
   },
   "outputs": [],
   "source": [
    "# Imports of all used packages and libraries\n",
    "import pandas as pd"
   ]
  },
  {
   "cell_type": "markdown",
   "metadata": {
    "cell_id": "d290bac2c17940bfbc0f9296beaf70e5",
    "deepnote_cell_type": "text-cell-h2",
    "formattedRanges": []
   },
   "source": [
    "## Inputs & Data"
   ]
  },
  {
   "cell_type": "markdown",
   "metadata": {
    "cell_id": "e528ce19c608425292151930d380f49f",
    "deepnote_cell_type": "text-cell-p",
    "formattedRanges": []
   },
   "source": [
    "Explanation of each input and where it comes from."
   ]
  },
  {
   "cell_type": "code",
   "execution_count": 16,
   "metadata": {
    "cell_id": "6cf83a5811054461a718a71673d09aab",
    "deepnote_cell_type": "code",
    "deepnote_to_be_reexecuted": false,
    "execution_millis": 373,
    "execution_start": 1691424003628,
    "source_hash": null
   },
   "outputs": [],
   "source": [
    "# Inputs and Required data loading\n",
    "# input varaible names are in all caps snake case\n",
    "# Whenever an input changes or is used for processing \n",
    "# the vairables are all lower in snake case\n",
    "INPUT_VARIABLE = 1\n",
    "OUTPUT_DIR = r\"/root/work/\" # where data is saved should always be shown in the inputs"
   ]
  },
  {
   "cell_type": "code",
   "execution_count": 17,
   "metadata": {},
   "outputs": [],
   "source": [
    "TONE_START_DF = pd.read_excel(\"./data/reward_comp_tone_sleap_frames.xlsx\")"
   ]
  },
  {
   "cell_type": "markdown",
   "metadata": {
    "cell_id": "e3ee4891d43a4ac287413afc552ca289",
    "deepnote_cell_type": "text-cell-h2",
    "formattedRanges": []
   },
   "source": [
    "## Outputs"
   ]
  },
  {
   "cell_type": "markdown",
   "metadata": {
    "cell_id": "9ccbf6cc70fd4d379fa29317f733771f",
    "deepnote_cell_type": "text-cell-p",
    "formattedRanges": []
   },
   "source": [
    "Describe each output that the notebook creates. "
   ]
  },
  {
   "cell_type": "markdown",
   "metadata": {
    "cell_id": "fc8e8920a6944918a15fac575cdf6e78",
    "deepnote_cell_type": "text-cell-bullet",
    "formattedRanges": []
   },
   "source": [
    "- Is it a plot or is it data?"
   ]
  },
  {
   "cell_type": "markdown",
   "metadata": {
    "cell_id": "1e639d4776a84aa9ac8ded2e14fa57db",
    "deepnote_cell_type": "text-cell-bullet",
    "formattedRanges": []
   },
   "source": [
    "- How valuable is the output and why is it valuable or useful?"
   ]
  },
  {
   "cell_type": "markdown",
   "metadata": {
    "cell_id": "e3ee4891d43a4ac287413afc552ca289",
    "deepnote_cell_type": "text-cell-h2",
    "formattedRanges": []
   },
   "source": [
    "## Functions"
   ]
  },
  {
   "cell_type": "code",
   "execution_count": 4,
   "metadata": {
    "cell_id": "89aaba237c644628b1b37604b75e7cb1",
    "deepnote_cell_type": "code"
   },
   "outputs": [],
   "source": [
    "# As much code and as many cells as required\n",
    "# includes EDA and playing with data\n",
    "# GO HAM!\n",
    "\n",
    "# Ideally functions are defined here first and then data is processed using the functions\n",
    "\n",
    "# function names are short and in snake case all lowercase\n",
    "# a function name should be unique but does not have to describe the function\n",
    "# doc strings describe functions not function names\n",
    "\n"
   ]
  },
  {
   "cell_type": "markdown",
   "metadata": {
    "cell_id": "8999d19b6b7d4d63bc90f0b0bd9ab085",
    "deepnote_cell_type": "text-cell-h2",
    "formattedRanges": []
   },
   "source": [
    "## Processing"
   ]
  },
  {
   "cell_type": "markdown",
   "metadata": {
    "cell_id": "9b36cdf08567463082b005cb0dec684b",
    "deepnote_cell_type": "text-cell-p",
    "formattedRanges": []
   },
   "source": [
    "Describe what is done to the data here and how inputs are manipulated to generate outputs. "
   ]
  },
  {
   "cell_type": "markdown",
   "metadata": {},
   "source": [
    "- Getting the file name as opposed to the whole path"
   ]
  },
  {
   "cell_type": "code",
   "execution_count": 18,
   "metadata": {},
   "outputs": [],
   "source": [
    "TONE_START_DF[\"File Name\"] = TONE_START_DF[\"File Name\"].apply(lambda x: x.split(\".\")[0])"
   ]
  },
  {
   "cell_type": "code",
   "execution_count": 19,
   "metadata": {},
   "outputs": [],
   "source": [
    "TONE_START_DF[\"date\"] = TONE_START_DF[\"File Name\"].apply(lambda x: datetime.strptime(x.split(\"_\")[0].strip(\"\"), '%m-%d-%y').strftime('%Y-%m-%d'))\n",
    "\n"
   ]
  },
  {
   "cell_type": "code",
   "execution_count": 20,
   "metadata": {},
   "outputs": [
    {
     "data": {
      "text/html": [
       "<div>\n",
       "<style scoped>\n",
       "    .dataframe tbody tr th:only-of-type {\n",
       "        vertical-align: middle;\n",
       "    }\n",
       "\n",
       "    .dataframe tbody tr th {\n",
       "        vertical-align: top;\n",
       "    }\n",
       "\n",
       "    .dataframe thead th {\n",
       "        text-align: right;\n",
       "    }\n",
       "</style>\n",
       "<table border=\"1\" class=\"dataframe\">\n",
       "  <thead>\n",
       "    <tr style=\"text-align: right;\">\n",
       "      <th></th>\n",
       "      <th>File Name</th>\n",
       "      <th>Frame Start</th>\n",
       "      <th>FPS</th>\n",
       "      <th>Strain</th>\n",
       "      <th>date</th>\n",
       "    </tr>\n",
       "  </thead>\n",
       "  <tbody>\n",
       "    <tr>\n",
       "      <th>0</th>\n",
       "      <td>10-03-22_Test_1_1-1v1-2</td>\n",
       "      <td>2135</td>\n",
       "      <td>30</td>\n",
       "      <td>C57</td>\n",
       "      <td>2022-10-03</td>\n",
       "    </tr>\n",
       "    <tr>\n",
       "      <th>1</th>\n",
       "      <td>10-03-22_Test_2_1-3v1-4</td>\n",
       "      <td>2123</td>\n",
       "      <td>29</td>\n",
       "      <td>C57</td>\n",
       "      <td>2022-10-03</td>\n",
       "    </tr>\n",
       "    <tr>\n",
       "      <th>2</th>\n",
       "      <td>10-03-22_Test_3_2-1v2-2</td>\n",
       "      <td>2125</td>\n",
       "      <td>29</td>\n",
       "      <td>C57</td>\n",
       "      <td>2022-10-03</td>\n",
       "    </tr>\n",
       "    <tr>\n",
       "      <th>3</th>\n",
       "      <td>10-03-22_Test_13_2-2v2-4</td>\n",
       "      <td>2138</td>\n",
       "      <td>30</td>\n",
       "      <td>C57</td>\n",
       "      <td>2022-10-03</td>\n",
       "    </tr>\n",
       "    <tr>\n",
       "      <th>4</th>\n",
       "      <td>10-03-22_Test_14_2-1v2-3</td>\n",
       "      <td>2127</td>\n",
       "      <td>29</td>\n",
       "      <td>C57</td>\n",
       "      <td>2022-10-03</td>\n",
       "    </tr>\n",
       "    <tr>\n",
       "      <th>5</th>\n",
       "      <td>10-03-22_Test_15_1-2v1-4</td>\n",
       "      <td>2126</td>\n",
       "      <td>29</td>\n",
       "      <td>C57</td>\n",
       "      <td>2022-10-03</td>\n",
       "    </tr>\n",
       "    <tr>\n",
       "      <th>6</th>\n",
       "      <td>10-03-22_Test_16_1-1v1-3</td>\n",
       "      <td>2139</td>\n",
       "      <td>30</td>\n",
       "      <td>C57</td>\n",
       "      <td>2022-10-03</td>\n",
       "    </tr>\n",
       "    <tr>\n",
       "      <th>7</th>\n",
       "      <td>10-03-22_Test_19_3-2v3-4</td>\n",
       "      <td>2090</td>\n",
       "      <td>30</td>\n",
       "      <td>C57</td>\n",
       "      <td>2022-10-03</td>\n",
       "    </tr>\n",
       "    <tr>\n",
       "      <th>8</th>\n",
       "      <td>10-03-22_Test_20_3-1v3-3</td>\n",
       "      <td>2100</td>\n",
       "      <td>30</td>\n",
       "      <td>C57</td>\n",
       "      <td>2022-10-03</td>\n",
       "    </tr>\n",
       "    <tr>\n",
       "      <th>9</th>\n",
       "      <td>10-04-22_Test_7_3-1v3-4</td>\n",
       "      <td>1838</td>\n",
       "      <td>30</td>\n",
       "      <td>C57</td>\n",
       "      <td>2022-10-04</td>\n",
       "    </tr>\n",
       "    <tr>\n",
       "      <th>10</th>\n",
       "      <td>10-04-22_Test_8_3-2v3-3</td>\n",
       "      <td>2093</td>\n",
       "      <td>30</td>\n",
       "      <td>C57</td>\n",
       "      <td>2022-10-04</td>\n",
       "    </tr>\n",
       "    <tr>\n",
       "      <th>11</th>\n",
       "      <td>10-04-22_Test_9_2-1v2-4</td>\n",
       "      <td>2016</td>\n",
       "      <td>30</td>\n",
       "      <td>C57</td>\n",
       "      <td>2022-10-04</td>\n",
       "    </tr>\n",
       "    <tr>\n",
       "      <th>12</th>\n",
       "      <td>10-04-22_Test_10_2-2v2-3</td>\n",
       "      <td>2006</td>\n",
       "      <td>29</td>\n",
       "      <td>C57</td>\n",
       "      <td>2022-10-04</td>\n",
       "    </tr>\n",
       "    <tr>\n",
       "      <th>13</th>\n",
       "      <td>10-04-22_Test_11_1-1v1-4</td>\n",
       "      <td>2016</td>\n",
       "      <td>30</td>\n",
       "      <td>C57</td>\n",
       "      <td>2022-10-04</td>\n",
       "    </tr>\n",
       "    <tr>\n",
       "      <th>14</th>\n",
       "      <td>10-04-22_Test_12_1-2v1-3</td>\n",
       "      <td>2017</td>\n",
       "      <td>30</td>\n",
       "      <td>C57</td>\n",
       "      <td>2022-10-04</td>\n",
       "    </tr>\n",
       "    <tr>\n",
       "      <th>15</th>\n",
       "      <td>10-04-22_Test_17_3-1v3-3</td>\n",
       "      <td>2086</td>\n",
       "      <td>30</td>\n",
       "      <td>C57</td>\n",
       "      <td>2022-10-04</td>\n",
       "    </tr>\n",
       "    <tr>\n",
       "      <th>16</th>\n",
       "      <td>10-04-22_Test_18_3-2v3-4</td>\n",
       "      <td>Missing?</td>\n",
       "      <td>29</td>\n",
       "      <td>C57</td>\n",
       "      <td>2022-10-04</td>\n",
       "    </tr>\n",
       "    <tr>\n",
       "      <th>17</th>\n",
       "      <td>10-04-22_Test_21_1-1v1-3</td>\n",
       "      <td>2026</td>\n",
       "      <td>30</td>\n",
       "      <td>C57</td>\n",
       "      <td>2022-10-04</td>\n",
       "    </tr>\n",
       "    <tr>\n",
       "      <th>18</th>\n",
       "      <td>10-03-22_Test_7_4-1v4-2</td>\n",
       "      <td>2023</td>\n",
       "      <td>29</td>\n",
       "      <td>CD1</td>\n",
       "      <td>2022-10-03</td>\n",
       "    </tr>\n",
       "    <tr>\n",
       "      <th>19</th>\n",
       "      <td>10-03-22_Test_8_4-3v4-4</td>\n",
       "      <td>2034</td>\n",
       "      <td>30</td>\n",
       "      <td>CD1</td>\n",
       "      <td>2022-10-03</td>\n",
       "    </tr>\n",
       "    <tr>\n",
       "      <th>20</th>\n",
       "      <td>10-03-22_Test_11_6-1v6-2</td>\n",
       "      <td>2110</td>\n",
       "      <td>29</td>\n",
       "      <td>CD1</td>\n",
       "      <td>2022-10-03</td>\n",
       "    </tr>\n",
       "    <tr>\n",
       "      <th>21</th>\n",
       "      <td>10-03-22_Test_12_6-3v6-4</td>\n",
       "      <td>2121</td>\n",
       "      <td>30</td>\n",
       "      <td>CD1</td>\n",
       "      <td>2022-10-03</td>\n",
       "    </tr>\n",
       "    <tr>\n",
       "      <th>22</th>\n",
       "      <td>10-03-22_Test_23_5-2v5-4</td>\n",
       "      <td>2057</td>\n",
       "      <td>29</td>\n",
       "      <td>CD1</td>\n",
       "      <td>2022-10-03</td>\n",
       "    </tr>\n",
       "    <tr>\n",
       "      <th>23</th>\n",
       "      <td>10-03-22_Test_24_5-1v5-3</td>\n",
       "      <td>2067</td>\n",
       "      <td>30</td>\n",
       "      <td>CD1</td>\n",
       "      <td>2022-10-03</td>\n",
       "    </tr>\n",
       "    <tr>\n",
       "      <th>24</th>\n",
       "      <td>10-03-22_Test_31_4-2v4-3</td>\n",
       "      <td>missing?</td>\n",
       "      <td>29</td>\n",
       "      <td>CD1</td>\n",
       "      <td>2022-10-03</td>\n",
       "    </tr>\n",
       "    <tr>\n",
       "      <th>25</th>\n",
       "      <td>10-03-22_Test_32_4-1v4-4</td>\n",
       "      <td>2015</td>\n",
       "      <td>30</td>\n",
       "      <td>CD1</td>\n",
       "      <td>2022-10-03</td>\n",
       "    </tr>\n",
       "    <tr>\n",
       "      <th>26</th>\n",
       "      <td>10-03-22_Test_35_6-2v6-3</td>\n",
       "      <td>2010</td>\n",
       "      <td>29</td>\n",
       "      <td>CD1</td>\n",
       "      <td>2022-10-03</td>\n",
       "    </tr>\n",
       "    <tr>\n",
       "      <th>27</th>\n",
       "      <td>10-04-22_Test_2_6-2v6-3</td>\n",
       "      <td>2113</td>\n",
       "      <td>29</td>\n",
       "      <td>CD1</td>\n",
       "      <td>2022-10-04</td>\n",
       "    </tr>\n",
       "    <tr>\n",
       "      <th>28</th>\n",
       "      <td>10-04-22_Test_3_5-1v5-4</td>\n",
       "      <td>1757</td>\n",
       "      <td>29</td>\n",
       "      <td>CD1</td>\n",
       "      <td>2022-10-04</td>\n",
       "    </tr>\n",
       "    <tr>\n",
       "      <th>29</th>\n",
       "      <td>10-04-22_Test_13_5-1v5-3</td>\n",
       "      <td>2020</td>\n",
       "      <td>30</td>\n",
       "      <td>CD1</td>\n",
       "      <td>2022-10-04</td>\n",
       "    </tr>\n",
       "    <tr>\n",
       "      <th>30</th>\n",
       "      <td>10-04-22_Test_14_5-2v5-4</td>\n",
       "      <td>2006</td>\n",
       "      <td>29</td>\n",
       "      <td>CD1</td>\n",
       "      <td>2022-10-04</td>\n",
       "    </tr>\n",
       "    <tr>\n",
       "      <th>31</th>\n",
       "      <td>10-04-22_Test_15_6-1v6-3</td>\n",
       "      <td>2020</td>\n",
       "      <td>29</td>\n",
       "      <td>CD1</td>\n",
       "      <td>2022-10-04</td>\n",
       "    </tr>\n",
       "    <tr>\n",
       "      <th>32</th>\n",
       "      <td>10-04-22_Test_16_6-2v6-4</td>\n",
       "      <td>2022</td>\n",
       "      <td>29</td>\n",
       "      <td>CD1</td>\n",
       "      <td>2022-10-04</td>\n",
       "    </tr>\n",
       "    <tr>\n",
       "      <th>33</th>\n",
       "      <td>10-04-22_Test_19_4-1v4-3</td>\n",
       "      <td>2085</td>\n",
       "      <td>30</td>\n",
       "      <td>CD1</td>\n",
       "      <td>2022-10-04</td>\n",
       "    </tr>\n",
       "    <tr>\n",
       "      <th>34</th>\n",
       "      <td>10-04-22_Test_20_4-2v4-4</td>\n",
       "      <td>2084</td>\n",
       "      <td>30</td>\n",
       "      <td>CD1</td>\n",
       "      <td>2022-10-04</td>\n",
       "    </tr>\n",
       "    <tr>\n",
       "      <th>35</th>\n",
       "      <td>10-04-22_Test_29_4-3v4-4</td>\n",
       "      <td>missing?</td>\n",
       "      <td>30</td>\n",
       "      <td>CD1</td>\n",
       "      <td>2022-10-04</td>\n",
       "    </tr>\n",
       "  </tbody>\n",
       "</table>\n",
       "</div>"
      ],
      "text/plain": [
       "                   File Name Frame Start  FPS Strain        date\n",
       "0    10-03-22_Test_1_1-1v1-2        2135   30    C57  2022-10-03\n",
       "1    10-03-22_Test_2_1-3v1-4        2123   29    C57  2022-10-03\n",
       "2    10-03-22_Test_3_2-1v2-2        2125   29    C57  2022-10-03\n",
       "3   10-03-22_Test_13_2-2v2-4        2138   30    C57  2022-10-03\n",
       "4   10-03-22_Test_14_2-1v2-3        2127   29    C57  2022-10-03\n",
       "5   10-03-22_Test_15_1-2v1-4        2126   29    C57  2022-10-03\n",
       "6   10-03-22_Test_16_1-1v1-3        2139   30    C57  2022-10-03\n",
       "7   10-03-22_Test_19_3-2v3-4        2090   30    C57  2022-10-03\n",
       "8   10-03-22_Test_20_3-1v3-3        2100   30    C57  2022-10-03\n",
       "9    10-04-22_Test_7_3-1v3-4        1838   30    C57  2022-10-04\n",
       "10   10-04-22_Test_8_3-2v3-3        2093   30    C57  2022-10-04\n",
       "11   10-04-22_Test_9_2-1v2-4        2016   30    C57  2022-10-04\n",
       "12  10-04-22_Test_10_2-2v2-3        2006   29    C57  2022-10-04\n",
       "13  10-04-22_Test_11_1-1v1-4        2016   30    C57  2022-10-04\n",
       "14  10-04-22_Test_12_1-2v1-3        2017   30    C57  2022-10-04\n",
       "15  10-04-22_Test_17_3-1v3-3        2086   30    C57  2022-10-04\n",
       "16  10-04-22_Test_18_3-2v3-4    Missing?   29    C57  2022-10-04\n",
       "17  10-04-22_Test_21_1-1v1-3        2026   30    C57  2022-10-04\n",
       "18   10-03-22_Test_7_4-1v4-2        2023   29    CD1  2022-10-03\n",
       "19   10-03-22_Test_8_4-3v4-4        2034   30    CD1  2022-10-03\n",
       "20  10-03-22_Test_11_6-1v6-2        2110   29    CD1  2022-10-03\n",
       "21  10-03-22_Test_12_6-3v6-4        2121   30    CD1  2022-10-03\n",
       "22  10-03-22_Test_23_5-2v5-4        2057   29    CD1  2022-10-03\n",
       "23  10-03-22_Test_24_5-1v5-3        2067   30    CD1  2022-10-03\n",
       "24  10-03-22_Test_31_4-2v4-3    missing?   29    CD1  2022-10-03\n",
       "25  10-03-22_Test_32_4-1v4-4        2015   30    CD1  2022-10-03\n",
       "26  10-03-22_Test_35_6-2v6-3        2010   29    CD1  2022-10-03\n",
       "27   10-04-22_Test_2_6-2v6-3        2113   29    CD1  2022-10-04\n",
       "28   10-04-22_Test_3_5-1v5-4        1757   29    CD1  2022-10-04\n",
       "29  10-04-22_Test_13_5-1v5-3        2020   30    CD1  2022-10-04\n",
       "30  10-04-22_Test_14_5-2v5-4        2006   29    CD1  2022-10-04\n",
       "31  10-04-22_Test_15_6-1v6-3        2020   29    CD1  2022-10-04\n",
       "32  10-04-22_Test_16_6-2v6-4        2022   29    CD1  2022-10-04\n",
       "33  10-04-22_Test_19_4-1v4-3        2085   30    CD1  2022-10-04\n",
       "34  10-04-22_Test_20_4-2v4-4        2084   30    CD1  2022-10-04\n",
       "35  10-04-22_Test_29_4-3v4-4    missing?   30    CD1  2022-10-04"
      ]
     },
     "execution_count": 20,
     "metadata": {},
     "output_type": "execute_result"
    }
   ],
   "source": [
    "TONE_START_DF"
   ]
  },
  {
   "cell_type": "markdown",
   "metadata": {},
   "source": [
    "- Getting the subject name from the file name"
   ]
  },
  {
   "cell_type": "code",
   "execution_count": 21,
   "metadata": {},
   "outputs": [],
   "source": [
    "TONE_START_DF[\"all_subj\"] = TONE_START_DF[\"File Name\"].apply(lambda x: sorted(x.split(\"_\")[-1].split(\".\")[0].split(\"v\")))"
   ]
  },
  {
   "cell_type": "code",
   "execution_count": 22,
   "metadata": {},
   "outputs": [],
   "source": [
    "TONE_START_DF[\"all_subj\"] = TONE_START_DF[\"all_subj\"].apply(lambda x: tuple([subj.replace(\"-\", \".\").strip() for subj in x]))"
   ]
  },
  {
   "cell_type": "markdown",
   "metadata": {},
   "source": [
    "- Making separate rows for each subject"
   ]
  },
  {
   "cell_type": "code",
   "execution_count": 23,
   "metadata": {},
   "outputs": [],
   "source": [
    "TONE_START_DF[\"subj_id\"] = TONE_START_DF[\"all_subj\"]"
   ]
  },
  {
   "cell_type": "code",
   "execution_count": 227,
   "metadata": {},
   "outputs": [],
   "source": [
    "tone_start_df = tone_start_df.explode(column=\"subj_id\")"
   ]
  },
  {
   "cell_type": "code",
   "execution_count": 230,
   "metadata": {},
   "outputs": [],
   "source": [
    "tone_start_df[\"subj_index\"] = tone_start_df.apply(lambda x: list(x[\"all_subj\"]).index(x[\"subj_id\"]), axis=1)"
   ]
  },
  {
   "cell_type": "markdown",
   "metadata": {
    "created_in_deepnote_cell": true,
    "deepnote_cell_type": "markdown"
   },
   "source": [
    "<a style='text-decoration:none;line-height:16px;display:flex;color:#5B5B62;padding:10px;justify-content:end;' href='https://deepnote.com?utm_source=created-in-deepnote-cell&projectId=a4490980-3f6a-4f44-80eb-ebd789a5b21f' target=\"_blank\">\n",
    "<img alt='Created in deepnote.com' style='display:inline;max-height:16px;margin:0px;margin-right:7.5px;' src='data:image/svg+xml;base64,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' > </img>\n",
    "Created in <span style='font-weight:600;margin-left:4px;'>Deepnote</span></a>"
   ]
  }
 ],
 "metadata": {
  "deepnote": {},
  "deepnote_execution_queue": [],
  "deepnote_notebook_id": "cf8fe3695d074ee7887fdf6459cbf5ce",
  "kernelspec": {
   "display_name": "Python 3 (ipykernel)",
   "language": "python",
   "name": "python3"
  },
  "language_info": {
   "codemirror_mode": {
    "name": "ipython",
    "version": 3
   },
   "file_extension": ".py",
   "mimetype": "text/x-python",
   "name": "python",
   "nbconvert_exporter": "python",
   "pygments_lexer": "ipython3",
   "version": "3.9.16"
  }
 },
 "nbformat": 4,
 "nbformat_minor": 4
}
