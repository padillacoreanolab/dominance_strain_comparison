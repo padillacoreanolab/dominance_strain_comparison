{
 "cells": [
  {
   "cell_type": "markdown",
   "metadata": {
    "cell_id": "c3a02adc9e884466bc8c79db549cc3d2",
    "deepnote_cell_type": "text-cell-h1",
    "formattedRanges": [
     {
      "fromCodePoint": 0,
      "marks": {
       "bold": true,
       "underline": true
      },
      "toCodePoint": 17,
      "type": "marks"
     }
    ]
   },
   "source": [
    "# Reward competition distance from port analysis"
   ]
  },
  {
   "cell_type": "markdown",
   "metadata": {
    "cell_id": "4546bee655b14a5dbf393161f1228e60",
    "deepnote_cell_type": "text-cell-p",
    "formattedRanges": []
   },
   "source": [
    "Brief 1-2 sentence description of notebook."
   ]
  },
  {
   "cell_type": "code",
   "execution_count": 24,
   "metadata": {},
   "outputs": [],
   "source": [
    "import glob\n",
    "from datetime import datetime\n",
    "from functools import reduce\n"
   ]
  },
  {
   "cell_type": "code",
   "execution_count": 42,
   "metadata": {
    "cell_id": "03b495cefa6a4798a44c7f2e4c6a3ea7",
    "deepnote_cell_type": "code",
    "deepnote_to_be_reexecuted": false,
    "execution_millis": 21,
    "execution_start": 1691424003626,
    "source_hash": null
   },
   "outputs": [],
   "source": [
    "# Imports of all used packages and libraries\n",
    "import pandas as pd\n",
    "import h5py"
   ]
  },
  {
   "cell_type": "markdown",
   "metadata": {
    "cell_id": "d290bac2c17940bfbc0f9296beaf70e5",
    "deepnote_cell_type": "text-cell-h2",
    "formattedRanges": []
   },
   "source": [
    "## Inputs & Data"
   ]
  },
  {
   "cell_type": "markdown",
   "metadata": {
    "cell_id": "e528ce19c608425292151930d380f49f",
    "deepnote_cell_type": "text-cell-p",
    "formattedRanges": []
   },
   "source": [
    "Explanation of each input and where it comes from."
   ]
  },
  {
   "cell_type": "code",
   "execution_count": 3,
   "metadata": {
    "cell_id": "6cf83a5811054461a718a71673d09aab",
    "deepnote_cell_type": "code",
    "deepnote_to_be_reexecuted": false,
    "execution_millis": 373,
    "execution_start": 1691424003628,
    "source_hash": null
   },
   "outputs": [],
   "source": [
    "# Inputs and Required data loading\n",
    "# input varaible names are in all caps snake case\n",
    "# Whenever an input changes or is used for processing \n",
    "# the vairables are all lower in snake case\n",
    "OUTPUT_DIR = \"./proc\" # where data is saved should always be shown in the inputs\n",
    "# ITIs from MED-PC code\n",
    "ALL_ITIS = [80, 90, 80, 75, 100, 95, 90, 80, 90, 100, 90, 120, 90, 85, 90, 95, 120, 80, 95, 80, 90, 80, 75, 100, 95, 90, 80, 90, 100, 90, 120, 90, 85, 90, 95, 90, 80, 90, 100, 90, 90, 90, 90, 90, 90, 90, 90, 90, 90, 90, 90, 90, 90, 90, 90, 90, 90, 90, 90 ]\n",
    "# Converting the seconds into frames\n",
    "ALL_ITIS = [num * 30 for num in ALL_ITIS]"
   ]
  },
  {
   "cell_type": "code",
   "execution_count": 4,
   "metadata": {},
   "outputs": [],
   "source": [
    "TONE_START_DF = pd.read_excel(\"./data/reward_comp_tone_sleap_frames.xlsx\")"
   ]
  },
  {
   "cell_type": "markdown",
   "metadata": {
    "cell_id": "e3ee4891d43a4ac287413afc552ca289",
    "deepnote_cell_type": "text-cell-h2",
    "formattedRanges": []
   },
   "source": [
    "## Outputs"
   ]
  },
  {
   "cell_type": "markdown",
   "metadata": {
    "cell_id": "9ccbf6cc70fd4d379fa29317f733771f",
    "deepnote_cell_type": "text-cell-p",
    "formattedRanges": []
   },
   "source": [
    "Describe each output that the notebook creates. "
   ]
  },
  {
   "cell_type": "markdown",
   "metadata": {
    "cell_id": "fc8e8920a6944918a15fac575cdf6e78",
    "deepnote_cell_type": "text-cell-bullet",
    "formattedRanges": []
   },
   "source": [
    "- Is it a plot or is it data?"
   ]
  },
  {
   "cell_type": "markdown",
   "metadata": {
    "cell_id": "1e639d4776a84aa9ac8ded2e14fa57db",
    "deepnote_cell_type": "text-cell-bullet",
    "formattedRanges": []
   },
   "source": [
    "- How valuable is the output and why is it valuable or useful?"
   ]
  },
  {
   "cell_type": "markdown",
   "metadata": {
    "cell_id": "e3ee4891d43a4ac287413afc552ca289",
    "deepnote_cell_type": "text-cell-h2",
    "formattedRanges": []
   },
   "source": [
    "## Functions"
   ]
  },
  {
   "cell_type": "code",
   "execution_count": 5,
   "metadata": {
    "cell_id": "89aaba237c644628b1b37604b75e7cb1",
    "deepnote_cell_type": "code"
   },
   "outputs": [],
   "source": [
    "# As much code and as many cells as required\n",
    "# includes EDA and playing with data\n",
    "# GO HAM!\n",
    "\n",
    "# Ideally functions are defined here first and then data is processed using the functions\n",
    "\n",
    "# function names are short and in snake case all lowercase\n",
    "# a function name should be unique but does not have to describe the function\n",
    "# doc strings describe functions not function names\n",
    "\n"
   ]
  },
  {
   "cell_type": "code",
   "execution_count": 6,
   "metadata": {
    "tags": []
   },
   "outputs": [],
   "source": [
    "\n",
    "def get_running_total(lst: list) -> list:\n",
    "    \"\"\"\n",
    "    Compute the running total for a list of numbers.\n",
    "    \n",
    "    Given a list of numbers, this function returns a new list \n",
    "    where each element is the cumulative sum of the elements \n",
    "    up to that point in the original list.\n",
    "\n",
    "    Parameters:\n",
    "    - lst (list): A list of numbers.\n",
    "\n",
    "    Returns:\n",
    "    - list: A list containing the running total.\n",
    "\n",
    "    Example:\n",
    "    >>> get_running_total([1, 2, 3, 4])\n",
    "    [1, 3, 6, 10]\n",
    "    \"\"\"\n",
    "\n",
    "    def accumulator(acc, x):\n",
    "        if acc:\n",
    "            return acc + [acc[-1] + x]\n",
    "        else:\n",
    "            return [x]\n",
    "        \n",
    "    return reduce(accumulator, lst, [])"
   ]
  },
  {
   "cell_type": "code",
   "execution_count": 41,
   "metadata": {
    "tags": []
   },
   "outputs": [],
   "source": [
    "\n",
    "def extract_sleap_data_from_h5(filename: str) -> tuple:\n",
    "    \"\"\"\n",
    "    Extract relevant SLEAP data from an h5 file.\n",
    "\n",
    "    Given a filename for an h5 file, this function retrieves:\n",
    "    - locations of the tracks,\n",
    "    - names of the nodes,\n",
    "    - names of the tracks.\n",
    "\n",
    "    Parameters:\n",
    "    - filename (str): The path to the h5 file.\n",
    "\n",
    "    Returns:\n",
    "    - tuple: A tuple containing:\n",
    "      * locations (numpy.ndarray): Array of track locations.\n",
    "      * node_names (list[str]): List of node names.\n",
    "      * track_names (list[str]): List of track names.\n",
    "\n",
    "    Example:\n",
    "    >>> locations, node_names, track_names = extract_sleap_data_from_h5(\"path/to/file.h5\")\n",
    "    \"\"\"\n",
    "\n",
    "    with h5py.File(filename, \"r\") as f:\n",
    "        locations = f[\"tracks\"][:].T\n",
    "        node_names = [n.decode() for n in f[\"node_names\"][:]]\n",
    "        track_names = [n.decode() for n in f[\"track_names\"][:]]\n",
    "    \n",
    "    return locations, node_names, track_names"
   ]
  },
  {
   "cell_type": "markdown",
   "metadata": {
    "cell_id": "8999d19b6b7d4d63bc90f0b0bd9ab085",
    "deepnote_cell_type": "text-cell-h2",
    "formattedRanges": []
   },
   "source": [
    "## Processing"
   ]
  },
  {
   "cell_type": "markdown",
   "metadata": {
    "cell_id": "9b36cdf08567463082b005cb0dec684b",
    "deepnote_cell_type": "text-cell-p",
    "formattedRanges": []
   },
   "source": [
    "Describe what is done to the data here and how inputs are manipulated to generate outputs. "
   ]
  },
  {
   "cell_type": "markdown",
   "metadata": {},
   "source": [
    "- Getting the file name as opposed to the whole path"
   ]
  },
  {
   "cell_type": "code",
   "execution_count": 7,
   "metadata": {
    "tags": []
   },
   "outputs": [
    {
     "data": {
      "text/html": [
       "<div>\n",
       "<style scoped>\n",
       "    .dataframe tbody tr th:only-of-type {\n",
       "        vertical-align: middle;\n",
       "    }\n",
       "\n",
       "    .dataframe tbody tr th {\n",
       "        vertical-align: top;\n",
       "    }\n",
       "\n",
       "    .dataframe thead th {\n",
       "        text-align: right;\n",
       "    }\n",
       "</style>\n",
       "<table border=\"1\" class=\"dataframe\">\n",
       "  <thead>\n",
       "    <tr style=\"text-align: right;\">\n",
       "      <th></th>\n",
       "      <th>File Name</th>\n",
       "      <th>Frame Start</th>\n",
       "      <th>FPS</th>\n",
       "      <th>Strain</th>\n",
       "    </tr>\n",
       "  </thead>\n",
       "  <tbody>\n",
       "    <tr>\n",
       "      <th>0</th>\n",
       "      <td>10-03-22_Test_1_1-1v1-2</td>\n",
       "      <td>2135</td>\n",
       "      <td>30</td>\n",
       "      <td>C57</td>\n",
       "    </tr>\n",
       "    <tr>\n",
       "      <th>1</th>\n",
       "      <td>10-03-22_Test_2_1-3v1-4</td>\n",
       "      <td>2123</td>\n",
       "      <td>29</td>\n",
       "      <td>C57</td>\n",
       "    </tr>\n",
       "    <tr>\n",
       "      <th>2</th>\n",
       "      <td>10-03-22_Test_3_2-1v2-2</td>\n",
       "      <td>2125</td>\n",
       "      <td>29</td>\n",
       "      <td>C57</td>\n",
       "    </tr>\n",
       "    <tr>\n",
       "      <th>3</th>\n",
       "      <td>10-03-22_Test_13_2-2v2-4</td>\n",
       "      <td>2138</td>\n",
       "      <td>30</td>\n",
       "      <td>C57</td>\n",
       "    </tr>\n",
       "    <tr>\n",
       "      <th>4</th>\n",
       "      <td>10-03-22_Test_14_2-1v2-3</td>\n",
       "      <td>2127</td>\n",
       "      <td>29</td>\n",
       "      <td>C57</td>\n",
       "    </tr>\n",
       "  </tbody>\n",
       "</table>\n",
       "</div>"
      ],
      "text/plain": [
       "                  File Name Frame Start  FPS Strain\n",
       "0   10-03-22_Test_1_1-1v1-2        2135   30    C57\n",
       "1   10-03-22_Test_2_1-3v1-4        2123   29    C57\n",
       "2   10-03-22_Test_3_2-1v2-2        2125   29    C57\n",
       "3  10-03-22_Test_13_2-2v2-4        2138   30    C57\n",
       "4  10-03-22_Test_14_2-1v2-3        2127   29    C57"
      ]
     },
     "execution_count": 7,
     "metadata": {},
     "output_type": "execute_result"
    }
   ],
   "source": [
    "TONE_START_DF.head()"
   ]
  },
  {
   "cell_type": "markdown",
   "metadata": {},
   "source": [
    "- Removing \"fixed\" as part of the file name"
   ]
  },
  {
   "cell_type": "code",
   "execution_count": 8,
   "metadata": {
    "tags": []
   },
   "outputs": [],
   "source": [
    "TONE_START_DF[\"file_base\"] = TONE_START_DF[\"File Name\"].apply(lambda x: x.split(\".\")[0])"
   ]
  },
  {
   "cell_type": "markdown",
   "metadata": {},
   "source": [
    "- Getting the date based on the file base"
   ]
  },
  {
   "cell_type": "code",
   "execution_count": 9,
   "metadata": {},
   "outputs": [],
   "source": [
    "TONE_START_DF[\"date\"] = TONE_START_DF[\"file_base\"].apply(lambda x: datetime.strptime(x.split(\"_\")[0].strip(\"\"), '%m-%d-%y').strftime('%Y-%m-%d'))\n",
    "\n"
   ]
  },
  {
   "cell_type": "code",
   "execution_count": 10,
   "metadata": {},
   "outputs": [
    {
     "data": {
      "text/html": [
       "<div>\n",
       "<style scoped>\n",
       "    .dataframe tbody tr th:only-of-type {\n",
       "        vertical-align: middle;\n",
       "    }\n",
       "\n",
       "    .dataframe tbody tr th {\n",
       "        vertical-align: top;\n",
       "    }\n",
       "\n",
       "    .dataframe thead th {\n",
       "        text-align: right;\n",
       "    }\n",
       "</style>\n",
       "<table border=\"1\" class=\"dataframe\">\n",
       "  <thead>\n",
       "    <tr style=\"text-align: right;\">\n",
       "      <th></th>\n",
       "      <th>File Name</th>\n",
       "      <th>Frame Start</th>\n",
       "      <th>FPS</th>\n",
       "      <th>Strain</th>\n",
       "      <th>file_base</th>\n",
       "      <th>date</th>\n",
       "    </tr>\n",
       "  </thead>\n",
       "  <tbody>\n",
       "    <tr>\n",
       "      <th>0</th>\n",
       "      <td>10-03-22_Test_1_1-1v1-2</td>\n",
       "      <td>2135</td>\n",
       "      <td>30</td>\n",
       "      <td>C57</td>\n",
       "      <td>10-03-22_Test_1_1-1v1-2</td>\n",
       "      <td>2022-10-03</td>\n",
       "    </tr>\n",
       "    <tr>\n",
       "      <th>1</th>\n",
       "      <td>10-03-22_Test_2_1-3v1-4</td>\n",
       "      <td>2123</td>\n",
       "      <td>29</td>\n",
       "      <td>C57</td>\n",
       "      <td>10-03-22_Test_2_1-3v1-4</td>\n",
       "      <td>2022-10-03</td>\n",
       "    </tr>\n",
       "    <tr>\n",
       "      <th>2</th>\n",
       "      <td>10-03-22_Test_3_2-1v2-2</td>\n",
       "      <td>2125</td>\n",
       "      <td>29</td>\n",
       "      <td>C57</td>\n",
       "      <td>10-03-22_Test_3_2-1v2-2</td>\n",
       "      <td>2022-10-03</td>\n",
       "    </tr>\n",
       "    <tr>\n",
       "      <th>3</th>\n",
       "      <td>10-03-22_Test_13_2-2v2-4</td>\n",
       "      <td>2138</td>\n",
       "      <td>30</td>\n",
       "      <td>C57</td>\n",
       "      <td>10-03-22_Test_13_2-2v2-4</td>\n",
       "      <td>2022-10-03</td>\n",
       "    </tr>\n",
       "    <tr>\n",
       "      <th>4</th>\n",
       "      <td>10-03-22_Test_14_2-1v2-3</td>\n",
       "      <td>2127</td>\n",
       "      <td>29</td>\n",
       "      <td>C57</td>\n",
       "      <td>10-03-22_Test_14_2-1v2-3</td>\n",
       "      <td>2022-10-03</td>\n",
       "    </tr>\n",
       "  </tbody>\n",
       "</table>\n",
       "</div>"
      ],
      "text/plain": [
       "                  File Name Frame Start  FPS Strain                 file_base  \\\n",
       "0   10-03-22_Test_1_1-1v1-2        2135   30    C57   10-03-22_Test_1_1-1v1-2   \n",
       "1   10-03-22_Test_2_1-3v1-4        2123   29    C57   10-03-22_Test_2_1-3v1-4   \n",
       "2   10-03-22_Test_3_2-1v2-2        2125   29    C57   10-03-22_Test_3_2-1v2-2   \n",
       "3  10-03-22_Test_13_2-2v2-4        2138   30    C57  10-03-22_Test_13_2-2v2-4   \n",
       "4  10-03-22_Test_14_2-1v2-3        2127   29    C57  10-03-22_Test_14_2-1v2-3   \n",
       "\n",
       "         date  \n",
       "0  2022-10-03  \n",
       "1  2022-10-03  \n",
       "2  2022-10-03  \n",
       "3  2022-10-03  \n",
       "4  2022-10-03  "
      ]
     },
     "execution_count": 10,
     "metadata": {},
     "output_type": "execute_result"
    }
   ],
   "source": [
    "TONE_START_DF.head()"
   ]
  },
  {
   "cell_type": "markdown",
   "metadata": {},
   "source": [
    "- Getting the subject name from the file name"
   ]
  },
  {
   "cell_type": "code",
   "execution_count": 11,
   "metadata": {},
   "outputs": [],
   "source": [
    "TONE_START_DF[\"all_subj\"] = TONE_START_DF[\"file_base\"].apply(lambda x: sorted(x.split(\"_\")[-1].split(\".\")[0].split(\"v\")))"
   ]
  },
  {
   "cell_type": "markdown",
   "metadata": {},
   "source": [
    "- Replacing the hyphen with a period so that we have a shared ID across datasets"
   ]
  },
  {
   "cell_type": "code",
   "execution_count": 12,
   "metadata": {},
   "outputs": [],
   "source": [
    "TONE_START_DF[\"all_subj\"] = TONE_START_DF[\"all_subj\"].apply(lambda x: tuple([subj.replace(\"-\", \".\").strip() for subj in x]))"
   ]
  },
  {
   "cell_type": "code",
   "execution_count": 13,
   "metadata": {
    "tags": []
   },
   "outputs": [
    {
     "data": {
      "text/html": [
       "<div>\n",
       "<style scoped>\n",
       "    .dataframe tbody tr th:only-of-type {\n",
       "        vertical-align: middle;\n",
       "    }\n",
       "\n",
       "    .dataframe tbody tr th {\n",
       "        vertical-align: top;\n",
       "    }\n",
       "\n",
       "    .dataframe thead th {\n",
       "        text-align: right;\n",
       "    }\n",
       "</style>\n",
       "<table border=\"1\" class=\"dataframe\">\n",
       "  <thead>\n",
       "    <tr style=\"text-align: right;\">\n",
       "      <th></th>\n",
       "      <th>File Name</th>\n",
       "      <th>Frame Start</th>\n",
       "      <th>FPS</th>\n",
       "      <th>Strain</th>\n",
       "      <th>file_base</th>\n",
       "      <th>date</th>\n",
       "      <th>all_subj</th>\n",
       "    </tr>\n",
       "  </thead>\n",
       "  <tbody>\n",
       "    <tr>\n",
       "      <th>0</th>\n",
       "      <td>10-03-22_Test_1_1-1v1-2</td>\n",
       "      <td>2135</td>\n",
       "      <td>30</td>\n",
       "      <td>C57</td>\n",
       "      <td>10-03-22_Test_1_1-1v1-2</td>\n",
       "      <td>2022-10-03</td>\n",
       "      <td>(1.1, 1.2)</td>\n",
       "    </tr>\n",
       "    <tr>\n",
       "      <th>1</th>\n",
       "      <td>10-03-22_Test_2_1-3v1-4</td>\n",
       "      <td>2123</td>\n",
       "      <td>29</td>\n",
       "      <td>C57</td>\n",
       "      <td>10-03-22_Test_2_1-3v1-4</td>\n",
       "      <td>2022-10-03</td>\n",
       "      <td>(1.3, 1.4)</td>\n",
       "    </tr>\n",
       "    <tr>\n",
       "      <th>2</th>\n",
       "      <td>10-03-22_Test_3_2-1v2-2</td>\n",
       "      <td>2125</td>\n",
       "      <td>29</td>\n",
       "      <td>C57</td>\n",
       "      <td>10-03-22_Test_3_2-1v2-2</td>\n",
       "      <td>2022-10-03</td>\n",
       "      <td>(2.1, 2.2)</td>\n",
       "    </tr>\n",
       "    <tr>\n",
       "      <th>3</th>\n",
       "      <td>10-03-22_Test_13_2-2v2-4</td>\n",
       "      <td>2138</td>\n",
       "      <td>30</td>\n",
       "      <td>C57</td>\n",
       "      <td>10-03-22_Test_13_2-2v2-4</td>\n",
       "      <td>2022-10-03</td>\n",
       "      <td>(2.2, 2.4)</td>\n",
       "    </tr>\n",
       "    <tr>\n",
       "      <th>4</th>\n",
       "      <td>10-03-22_Test_14_2-1v2-3</td>\n",
       "      <td>2127</td>\n",
       "      <td>29</td>\n",
       "      <td>C57</td>\n",
       "      <td>10-03-22_Test_14_2-1v2-3</td>\n",
       "      <td>2022-10-03</td>\n",
       "      <td>(2.1, 2.3)</td>\n",
       "    </tr>\n",
       "  </tbody>\n",
       "</table>\n",
       "</div>"
      ],
      "text/plain": [
       "                  File Name Frame Start  FPS Strain                 file_base  \\\n",
       "0   10-03-22_Test_1_1-1v1-2        2135   30    C57   10-03-22_Test_1_1-1v1-2   \n",
       "1   10-03-22_Test_2_1-3v1-4        2123   29    C57   10-03-22_Test_2_1-3v1-4   \n",
       "2   10-03-22_Test_3_2-1v2-2        2125   29    C57   10-03-22_Test_3_2-1v2-2   \n",
       "3  10-03-22_Test_13_2-2v2-4        2138   30    C57  10-03-22_Test_13_2-2v2-4   \n",
       "4  10-03-22_Test_14_2-1v2-3        2127   29    C57  10-03-22_Test_14_2-1v2-3   \n",
       "\n",
       "         date    all_subj  \n",
       "0  2022-10-03  (1.1, 1.2)  \n",
       "1  2022-10-03  (1.3, 1.4)  \n",
       "2  2022-10-03  (2.1, 2.2)  \n",
       "3  2022-10-03  (2.2, 2.4)  \n",
       "4  2022-10-03  (2.1, 2.3)  "
      ]
     },
     "execution_count": 13,
     "metadata": {},
     "output_type": "execute_result"
    }
   ],
   "source": [
    "TONE_START_DF.head()"
   ]
  },
  {
   "cell_type": "markdown",
   "metadata": {},
   "source": [
    "- Making separate rows for each subject"
   ]
  },
  {
   "cell_type": "code",
   "execution_count": 14,
   "metadata": {},
   "outputs": [],
   "source": [
    "TONE_START_DF[\"subj_id\"] = TONE_START_DF[\"all_subj\"]"
   ]
  },
  {
   "cell_type": "code",
   "execution_count": 15,
   "metadata": {},
   "outputs": [],
   "source": [
    "TONE_START_DF = TONE_START_DF.explode(column=\"subj_id\")"
   ]
  },
  {
   "cell_type": "code",
   "execution_count": 16,
   "metadata": {
    "tags": []
   },
   "outputs": [
    {
     "data": {
      "text/html": [
       "<div>\n",
       "<style scoped>\n",
       "    .dataframe tbody tr th:only-of-type {\n",
       "        vertical-align: middle;\n",
       "    }\n",
       "\n",
       "    .dataframe tbody tr th {\n",
       "        vertical-align: top;\n",
       "    }\n",
       "\n",
       "    .dataframe thead th {\n",
       "        text-align: right;\n",
       "    }\n",
       "</style>\n",
       "<table border=\"1\" class=\"dataframe\">\n",
       "  <thead>\n",
       "    <tr style=\"text-align: right;\">\n",
       "      <th></th>\n",
       "      <th>File Name</th>\n",
       "      <th>Frame Start</th>\n",
       "      <th>FPS</th>\n",
       "      <th>Strain</th>\n",
       "      <th>file_base</th>\n",
       "      <th>date</th>\n",
       "      <th>all_subj</th>\n",
       "      <th>subj_id</th>\n",
       "    </tr>\n",
       "  </thead>\n",
       "  <tbody>\n",
       "    <tr>\n",
       "      <th>0</th>\n",
       "      <td>10-03-22_Test_1_1-1v1-2</td>\n",
       "      <td>2135</td>\n",
       "      <td>30</td>\n",
       "      <td>C57</td>\n",
       "      <td>10-03-22_Test_1_1-1v1-2</td>\n",
       "      <td>2022-10-03</td>\n",
       "      <td>(1.1, 1.2)</td>\n",
       "      <td>1.1</td>\n",
       "    </tr>\n",
       "    <tr>\n",
       "      <th>0</th>\n",
       "      <td>10-03-22_Test_1_1-1v1-2</td>\n",
       "      <td>2135</td>\n",
       "      <td>30</td>\n",
       "      <td>C57</td>\n",
       "      <td>10-03-22_Test_1_1-1v1-2</td>\n",
       "      <td>2022-10-03</td>\n",
       "      <td>(1.1, 1.2)</td>\n",
       "      <td>1.2</td>\n",
       "    </tr>\n",
       "    <tr>\n",
       "      <th>1</th>\n",
       "      <td>10-03-22_Test_2_1-3v1-4</td>\n",
       "      <td>2123</td>\n",
       "      <td>29</td>\n",
       "      <td>C57</td>\n",
       "      <td>10-03-22_Test_2_1-3v1-4</td>\n",
       "      <td>2022-10-03</td>\n",
       "      <td>(1.3, 1.4)</td>\n",
       "      <td>1.3</td>\n",
       "    </tr>\n",
       "    <tr>\n",
       "      <th>1</th>\n",
       "      <td>10-03-22_Test_2_1-3v1-4</td>\n",
       "      <td>2123</td>\n",
       "      <td>29</td>\n",
       "      <td>C57</td>\n",
       "      <td>10-03-22_Test_2_1-3v1-4</td>\n",
       "      <td>2022-10-03</td>\n",
       "      <td>(1.3, 1.4)</td>\n",
       "      <td>1.4</td>\n",
       "    </tr>\n",
       "    <tr>\n",
       "      <th>2</th>\n",
       "      <td>10-03-22_Test_3_2-1v2-2</td>\n",
       "      <td>2125</td>\n",
       "      <td>29</td>\n",
       "      <td>C57</td>\n",
       "      <td>10-03-22_Test_3_2-1v2-2</td>\n",
       "      <td>2022-10-03</td>\n",
       "      <td>(2.1, 2.2)</td>\n",
       "      <td>2.1</td>\n",
       "    </tr>\n",
       "  </tbody>\n",
       "</table>\n",
       "</div>"
      ],
      "text/plain": [
       "                 File Name Frame Start  FPS Strain                file_base  \\\n",
       "0  10-03-22_Test_1_1-1v1-2        2135   30    C57  10-03-22_Test_1_1-1v1-2   \n",
       "0  10-03-22_Test_1_1-1v1-2        2135   30    C57  10-03-22_Test_1_1-1v1-2   \n",
       "1  10-03-22_Test_2_1-3v1-4        2123   29    C57  10-03-22_Test_2_1-3v1-4   \n",
       "1  10-03-22_Test_2_1-3v1-4        2123   29    C57  10-03-22_Test_2_1-3v1-4   \n",
       "2  10-03-22_Test_3_2-1v2-2        2125   29    C57  10-03-22_Test_3_2-1v2-2   \n",
       "\n",
       "         date    all_subj subj_id  \n",
       "0  2022-10-03  (1.1, 1.2)     1.1  \n",
       "0  2022-10-03  (1.1, 1.2)     1.2  \n",
       "1  2022-10-03  (1.3, 1.4)     1.3  \n",
       "1  2022-10-03  (1.3, 1.4)     1.4  \n",
       "2  2022-10-03  (2.1, 2.2)     2.1  "
      ]
     },
     "execution_count": 16,
     "metadata": {},
     "output_type": "execute_result"
    }
   ],
   "source": [
    "TONE_START_DF.head()"
   ]
  },
  {
   "cell_type": "markdown",
   "metadata": {},
   "source": [
    "- Getting the index of the subject from the tuple of both subjects"
   ]
  },
  {
   "cell_type": "code",
   "execution_count": 17,
   "metadata": {},
   "outputs": [],
   "source": [
    "TONE_START_DF[\"subj_index\"] = TONE_START_DF.apply(lambda x: list(x[\"all_subj\"]).index(x[\"subj_id\"]), axis=1)"
   ]
  },
  {
   "cell_type": "code",
   "execution_count": 18,
   "metadata": {
    "tags": []
   },
   "outputs": [
    {
     "data": {
      "text/html": [
       "<div>\n",
       "<style scoped>\n",
       "    .dataframe tbody tr th:only-of-type {\n",
       "        vertical-align: middle;\n",
       "    }\n",
       "\n",
       "    .dataframe tbody tr th {\n",
       "        vertical-align: top;\n",
       "    }\n",
       "\n",
       "    .dataframe thead th {\n",
       "        text-align: right;\n",
       "    }\n",
       "</style>\n",
       "<table border=\"1\" class=\"dataframe\">\n",
       "  <thead>\n",
       "    <tr style=\"text-align: right;\">\n",
       "      <th></th>\n",
       "      <th>File Name</th>\n",
       "      <th>Frame Start</th>\n",
       "      <th>FPS</th>\n",
       "      <th>Strain</th>\n",
       "      <th>file_base</th>\n",
       "      <th>date</th>\n",
       "      <th>all_subj</th>\n",
       "      <th>subj_id</th>\n",
       "      <th>subj_index</th>\n",
       "    </tr>\n",
       "  </thead>\n",
       "  <tbody>\n",
       "    <tr>\n",
       "      <th>0</th>\n",
       "      <td>10-03-22_Test_1_1-1v1-2</td>\n",
       "      <td>2135</td>\n",
       "      <td>30</td>\n",
       "      <td>C57</td>\n",
       "      <td>10-03-22_Test_1_1-1v1-2</td>\n",
       "      <td>2022-10-03</td>\n",
       "      <td>(1.1, 1.2)</td>\n",
       "      <td>1.1</td>\n",
       "      <td>0</td>\n",
       "    </tr>\n",
       "    <tr>\n",
       "      <th>0</th>\n",
       "      <td>10-03-22_Test_1_1-1v1-2</td>\n",
       "      <td>2135</td>\n",
       "      <td>30</td>\n",
       "      <td>C57</td>\n",
       "      <td>10-03-22_Test_1_1-1v1-2</td>\n",
       "      <td>2022-10-03</td>\n",
       "      <td>(1.1, 1.2)</td>\n",
       "      <td>1.2</td>\n",
       "      <td>1</td>\n",
       "    </tr>\n",
       "    <tr>\n",
       "      <th>1</th>\n",
       "      <td>10-03-22_Test_2_1-3v1-4</td>\n",
       "      <td>2123</td>\n",
       "      <td>29</td>\n",
       "      <td>C57</td>\n",
       "      <td>10-03-22_Test_2_1-3v1-4</td>\n",
       "      <td>2022-10-03</td>\n",
       "      <td>(1.3, 1.4)</td>\n",
       "      <td>1.3</td>\n",
       "      <td>0</td>\n",
       "    </tr>\n",
       "    <tr>\n",
       "      <th>1</th>\n",
       "      <td>10-03-22_Test_2_1-3v1-4</td>\n",
       "      <td>2123</td>\n",
       "      <td>29</td>\n",
       "      <td>C57</td>\n",
       "      <td>10-03-22_Test_2_1-3v1-4</td>\n",
       "      <td>2022-10-03</td>\n",
       "      <td>(1.3, 1.4)</td>\n",
       "      <td>1.4</td>\n",
       "      <td>1</td>\n",
       "    </tr>\n",
       "    <tr>\n",
       "      <th>2</th>\n",
       "      <td>10-03-22_Test_3_2-1v2-2</td>\n",
       "      <td>2125</td>\n",
       "      <td>29</td>\n",
       "      <td>C57</td>\n",
       "      <td>10-03-22_Test_3_2-1v2-2</td>\n",
       "      <td>2022-10-03</td>\n",
       "      <td>(2.1, 2.2)</td>\n",
       "      <td>2.1</td>\n",
       "      <td>0</td>\n",
       "    </tr>\n",
       "  </tbody>\n",
       "</table>\n",
       "</div>"
      ],
      "text/plain": [
       "                 File Name Frame Start  FPS Strain                file_base  \\\n",
       "0  10-03-22_Test_1_1-1v1-2        2135   30    C57  10-03-22_Test_1_1-1v1-2   \n",
       "0  10-03-22_Test_1_1-1v1-2        2135   30    C57  10-03-22_Test_1_1-1v1-2   \n",
       "1  10-03-22_Test_2_1-3v1-4        2123   29    C57  10-03-22_Test_2_1-3v1-4   \n",
       "1  10-03-22_Test_2_1-3v1-4        2123   29    C57  10-03-22_Test_2_1-3v1-4   \n",
       "2  10-03-22_Test_3_2-1v2-2        2125   29    C57  10-03-22_Test_3_2-1v2-2   \n",
       "\n",
       "         date    all_subj subj_id  subj_index  \n",
       "0  2022-10-03  (1.1, 1.2)     1.1           0  \n",
       "0  2022-10-03  (1.1, 1.2)     1.2           1  \n",
       "1  2022-10-03  (1.3, 1.4)     1.3           0  \n",
       "1  2022-10-03  (1.3, 1.4)     1.4           1  \n",
       "2  2022-10-03  (2.1, 2.2)     2.1           0  "
      ]
     },
     "execution_count": 18,
     "metadata": {},
     "output_type": "execute_result"
    }
   ],
   "source": [
    "TONE_START_DF.head()"
   ]
  },
  {
   "cell_type": "markdown",
   "metadata": {},
   "source": [
    "- Dropping all rows that don't have numbers for frame start"
   ]
  },
  {
   "cell_type": "code",
   "execution_count": 19,
   "metadata": {
    "tags": []
   },
   "outputs": [],
   "source": [
    "TONE_START_DF = TONE_START_DF[TONE_START_DF[\"Frame Start\"].astype(str).str.isnumeric()]"
   ]
  },
  {
   "cell_type": "code",
   "execution_count": 20,
   "metadata": {
    "tags": []
   },
   "outputs": [],
   "source": [
    "TONE_START_DF[\"Frame Start\"] = TONE_START_DF[\"Frame Start\"].astype(int)"
   ]
  },
  {
   "cell_type": "code",
   "execution_count": 21,
   "metadata": {
    "tags": []
   },
   "outputs": [],
   "source": [
    "TONE_START_DF[\"all_tone_frame\"] = TONE_START_DF.apply(lambda row: get_running_total([row[\"Frame Start\"]] + ALL_ITIS), axis=1)"
   ]
  },
  {
   "cell_type": "code",
   "execution_count": 38,
   "metadata": {
    "tags": []
   },
   "outputs": [
    {
     "data": {
      "text/html": [
       "<div>\n",
       "<style scoped>\n",
       "    .dataframe tbody tr th:only-of-type {\n",
       "        vertical-align: middle;\n",
       "    }\n",
       "\n",
       "    .dataframe tbody tr th {\n",
       "        vertical-align: top;\n",
       "    }\n",
       "\n",
       "    .dataframe thead th {\n",
       "        text-align: right;\n",
       "    }\n",
       "</style>\n",
       "<table border=\"1\" class=\"dataframe\">\n",
       "  <thead>\n",
       "    <tr style=\"text-align: right;\">\n",
       "      <th></th>\n",
       "      <th>File Name</th>\n",
       "      <th>Frame Start</th>\n",
       "      <th>FPS</th>\n",
       "      <th>Strain</th>\n",
       "      <th>file_base</th>\n",
       "      <th>date</th>\n",
       "      <th>all_subj</th>\n",
       "      <th>subj_id</th>\n",
       "      <th>subj_index</th>\n",
       "      <th>all_tone_frame</th>\n",
       "    </tr>\n",
       "  </thead>\n",
       "  <tbody>\n",
       "    <tr>\n",
       "      <th>0</th>\n",
       "      <td>10-03-22_Test_1_1-1v1-2</td>\n",
       "      <td>2135</td>\n",
       "      <td>30</td>\n",
       "      <td>C57</td>\n",
       "      <td>10-03-22_Test_1_1-1v1-2</td>\n",
       "      <td>2022-10-03</td>\n",
       "      <td>(1.1, 1.2)</td>\n",
       "      <td>1.1</td>\n",
       "      <td>0</td>\n",
       "      <td>[2135, 4535, 7235, 9635, 11885, 14885, 17735, ...</td>\n",
       "    </tr>\n",
       "    <tr>\n",
       "      <th>0</th>\n",
       "      <td>10-03-22_Test_1_1-1v1-2</td>\n",
       "      <td>2135</td>\n",
       "      <td>30</td>\n",
       "      <td>C57</td>\n",
       "      <td>10-03-22_Test_1_1-1v1-2</td>\n",
       "      <td>2022-10-03</td>\n",
       "      <td>(1.1, 1.2)</td>\n",
       "      <td>1.2</td>\n",
       "      <td>1</td>\n",
       "      <td>[2135, 4535, 7235, 9635, 11885, 14885, 17735, ...</td>\n",
       "    </tr>\n",
       "    <tr>\n",
       "      <th>1</th>\n",
       "      <td>10-03-22_Test_2_1-3v1-4</td>\n",
       "      <td>2123</td>\n",
       "      <td>29</td>\n",
       "      <td>C57</td>\n",
       "      <td>10-03-22_Test_2_1-3v1-4</td>\n",
       "      <td>2022-10-03</td>\n",
       "      <td>(1.3, 1.4)</td>\n",
       "      <td>1.3</td>\n",
       "      <td>0</td>\n",
       "      <td>[2123, 4523, 7223, 9623, 11873, 14873, 17723, ...</td>\n",
       "    </tr>\n",
       "    <tr>\n",
       "      <th>1</th>\n",
       "      <td>10-03-22_Test_2_1-3v1-4</td>\n",
       "      <td>2123</td>\n",
       "      <td>29</td>\n",
       "      <td>C57</td>\n",
       "      <td>10-03-22_Test_2_1-3v1-4</td>\n",
       "      <td>2022-10-03</td>\n",
       "      <td>(1.3, 1.4)</td>\n",
       "      <td>1.4</td>\n",
       "      <td>1</td>\n",
       "      <td>[2123, 4523, 7223, 9623, 11873, 14873, 17723, ...</td>\n",
       "    </tr>\n",
       "    <tr>\n",
       "      <th>2</th>\n",
       "      <td>10-03-22_Test_3_2-1v2-2</td>\n",
       "      <td>2125</td>\n",
       "      <td>29</td>\n",
       "      <td>C57</td>\n",
       "      <td>10-03-22_Test_3_2-1v2-2</td>\n",
       "      <td>2022-10-03</td>\n",
       "      <td>(2.1, 2.2)</td>\n",
       "      <td>2.1</td>\n",
       "      <td>0</td>\n",
       "      <td>[2125, 4525, 7225, 9625, 11875, 14875, 17725, ...</td>\n",
       "    </tr>\n",
       "  </tbody>\n",
       "</table>\n",
       "</div>"
      ],
      "text/plain": [
       "                 File Name  Frame Start  FPS Strain                file_base  \\\n",
       "0  10-03-22_Test_1_1-1v1-2         2135   30    C57  10-03-22_Test_1_1-1v1-2   \n",
       "0  10-03-22_Test_1_1-1v1-2         2135   30    C57  10-03-22_Test_1_1-1v1-2   \n",
       "1  10-03-22_Test_2_1-3v1-4         2123   29    C57  10-03-22_Test_2_1-3v1-4   \n",
       "1  10-03-22_Test_2_1-3v1-4         2123   29    C57  10-03-22_Test_2_1-3v1-4   \n",
       "2  10-03-22_Test_3_2-1v2-2         2125   29    C57  10-03-22_Test_3_2-1v2-2   \n",
       "\n",
       "         date    all_subj subj_id  subj_index  \\\n",
       "0  2022-10-03  (1.1, 1.2)     1.1           0   \n",
       "0  2022-10-03  (1.1, 1.2)     1.2           1   \n",
       "1  2022-10-03  (1.3, 1.4)     1.3           0   \n",
       "1  2022-10-03  (1.3, 1.4)     1.4           1   \n",
       "2  2022-10-03  (2.1, 2.2)     2.1           0   \n",
       "\n",
       "                                      all_tone_frame  \n",
       "0  [2135, 4535, 7235, 9635, 11885, 14885, 17735, ...  \n",
       "0  [2135, 4535, 7235, 9635, 11885, 14885, 17735, ...  \n",
       "1  [2123, 4523, 7223, 9623, 11873, 14873, 17723, ...  \n",
       "1  [2123, 4523, 7223, 9623, 11873, 14873, 17723, ...  \n",
       "2  [2125, 4525, 7225, 9625, 11875, 14875, 17725, ...  "
      ]
     },
     "execution_count": 38,
     "metadata": {},
     "output_type": "execute_result"
    }
   ],
   "source": [
    "TONE_START_DF.head()"
   ]
  },
  {
   "cell_type": "markdown",
   "metadata": {},
   "source": [
    "# Get Coordinates of all the corners"
   ]
  },
  {
   "cell_type": "markdown",
   "metadata": {},
   "source": [
    "- Reading in all the files with the corner coordinate and the pose tracking\""
   ]
  },
  {
   "cell_type": "code",
   "execution_count": 25,
   "metadata": {
    "tags": []
   },
   "outputs": [],
   "source": [
    "all_corner_h5 = glob.glob(\"./data/corner_labeling/*.corner.h5\")"
   ]
  },
  {
   "cell_type": "code",
   "execution_count": 26,
   "metadata": {},
   "outputs": [],
   "source": [
    "all_pose_estimation_h5 = glob.glob(\"./data/sleap_pose_tracking/*.h5\")"
   ]
  },
  {
   "cell_type": "code",
   "execution_count": 32,
   "metadata": {
    "tags": []
   },
   "outputs": [
    {
     "data": {
      "text/plain": [
       "['./data/corner_labeling/10-04-22_Test_21_1-1v1-3.fixed.corner.h5',\n",
       " './data/corner_labeling/10-03-22_Test_15_1-2v1-4.fixed.corner.h5',\n",
       " './data/corner_labeling/10-04-22_Test_19_4-1v4-3.fixed.corner.h5',\n",
       " './data/corner_labeling/10-04-22_Test_15_6-1v6-3.fixed.corner.h5',\n",
       " './data/corner_labeling/10-04-22_Test_11_1-1v1-4.fixed.corner.h5']"
      ]
     },
     "execution_count": 32,
     "metadata": {},
     "output_type": "execute_result"
    }
   ],
   "source": [
    "all_corner_h5[:5]"
   ]
  },
  {
   "cell_type": "code",
   "execution_count": 33,
   "metadata": {
    "tags": []
   },
   "outputs": [
    {
     "data": {
      "text/plain": [
       "['./data/sleap_pose_tracking/10-03-22_Test_7_4-1v4-2.fixed.analysis.h5',\n",
       " './data/sleap_pose_tracking/10-04-22_Test_8_3-2v3-3.fixed.analysis.h5',\n",
       " './data/sleap_pose_tracking/10-03-22_Test_8_4-3v4-4.fixed.analysis.h5',\n",
       " './data/sleap_pose_tracking/10-03-22_Test_19_3-2v3-4.fixed.analysis.h5',\n",
       " './data/sleap_pose_tracking/10-04-22_Test_16_6-2v6-4.fixed.analysis.h5']"
      ]
     },
     "execution_count": 33,
     "metadata": {},
     "output_type": "execute_result"
    }
   ],
   "source": [
    "all_pose_estimation_h5[:5]"
   ]
  },
  {
   "cell_type": "code",
   "execution_count": 27,
   "metadata": {},
   "outputs": [
    {
     "data": {
      "text/plain": [
       "33"
      ]
     },
     "execution_count": 27,
     "metadata": {},
     "output_type": "execute_result"
    }
   ],
   "source": [
    "len(all_corner_h5)"
   ]
  },
  {
   "cell_type": "code",
   "execution_count": 28,
   "metadata": {},
   "outputs": [
    {
     "data": {
      "text/plain": [
       "33"
      ]
     },
     "execution_count": 28,
     "metadata": {},
     "output_type": "execute_result"
    }
   ],
   "source": [
    "len(all_pose_estimation_h5)"
   ]
  },
  {
   "cell_type": "markdown",
   "metadata": {},
   "source": [
    "- Matching all the video file names to the corresponding corner and pose tracking coordinate file"
   ]
  },
  {
   "cell_type": "code",
   "execution_count": 29,
   "metadata": {},
   "outputs": [],
   "source": [
    "file_name_to_corner = {item.split(\"/\")[-1].split(\".\")[0].strip(): item for item in all_corner_h5}"
   ]
  },
  {
   "cell_type": "code",
   "execution_count": 30,
   "metadata": {},
   "outputs": [],
   "source": [
    "file_name_to_pose_estimation = {item.split(\"/\")[-1].split(\".\")[0].strip(): item for item in all_pose_estimation_h5}"
   ]
  },
  {
   "cell_type": "code",
   "execution_count": 36,
   "metadata": {
    "tags": []
   },
   "outputs": [
    {
     "data": {
      "text/plain": [
       "'./data/corner_labeling/10-04-22_Test_21_1-1v1-3.fixed.corner.h5'"
      ]
     },
     "execution_count": 36,
     "metadata": {},
     "output_type": "execute_result"
    }
   ],
   "source": [
    "file_name_to_corner[list(file_name_to_corner.keys())[0]]"
   ]
  },
  {
   "cell_type": "code",
   "execution_count": 39,
   "metadata": {},
   "outputs": [],
   "source": [
    "TONE_START_DF[\"corner_file\"] = TONE_START_DF[\"File Name\"].map(file_name_to_corner)\n",
    "TONE_START_DF[\"pose_estimation_file\"] = TONE_START_DF[\"File Name\"].map(file_name_to_pose_estimation)"
   ]
  },
  {
   "cell_type": "code",
   "execution_count": 40,
   "metadata": {},
   "outputs": [
    {
     "data": {
      "text/html": [
       "<div>\n",
       "<style scoped>\n",
       "    .dataframe tbody tr th:only-of-type {\n",
       "        vertical-align: middle;\n",
       "    }\n",
       "\n",
       "    .dataframe tbody tr th {\n",
       "        vertical-align: top;\n",
       "    }\n",
       "\n",
       "    .dataframe thead th {\n",
       "        text-align: right;\n",
       "    }\n",
       "</style>\n",
       "<table border=\"1\" class=\"dataframe\">\n",
       "  <thead>\n",
       "    <tr style=\"text-align: right;\">\n",
       "      <th></th>\n",
       "      <th>File Name</th>\n",
       "      <th>Frame Start</th>\n",
       "      <th>FPS</th>\n",
       "      <th>Strain</th>\n",
       "      <th>file_base</th>\n",
       "      <th>date</th>\n",
       "      <th>all_subj</th>\n",
       "      <th>subj_id</th>\n",
       "      <th>subj_index</th>\n",
       "      <th>all_tone_frame</th>\n",
       "      <th>corner_file</th>\n",
       "      <th>pose_estimation_file</th>\n",
       "    </tr>\n",
       "  </thead>\n",
       "  <tbody>\n",
       "    <tr>\n",
       "      <th>0</th>\n",
       "      <td>10-03-22_Test_1_1-1v1-2</td>\n",
       "      <td>2135</td>\n",
       "      <td>30</td>\n",
       "      <td>C57</td>\n",
       "      <td>10-03-22_Test_1_1-1v1-2</td>\n",
       "      <td>2022-10-03</td>\n",
       "      <td>(1.1, 1.2)</td>\n",
       "      <td>1.1</td>\n",
       "      <td>0</td>\n",
       "      <td>[2135, 4535, 7235, 9635, 11885, 14885, 17735, ...</td>\n",
       "      <td>./data/corner_labeling/10-03-22_Test_1_1-1v1-2...</td>\n",
       "      <td>./data/sleap_pose_tracking/10-03-22_Test_1_1-1...</td>\n",
       "    </tr>\n",
       "    <tr>\n",
       "      <th>0</th>\n",
       "      <td>10-03-22_Test_1_1-1v1-2</td>\n",
       "      <td>2135</td>\n",
       "      <td>30</td>\n",
       "      <td>C57</td>\n",
       "      <td>10-03-22_Test_1_1-1v1-2</td>\n",
       "      <td>2022-10-03</td>\n",
       "      <td>(1.1, 1.2)</td>\n",
       "      <td>1.2</td>\n",
       "      <td>1</td>\n",
       "      <td>[2135, 4535, 7235, 9635, 11885, 14885, 17735, ...</td>\n",
       "      <td>./data/corner_labeling/10-03-22_Test_1_1-1v1-2...</td>\n",
       "      <td>./data/sleap_pose_tracking/10-03-22_Test_1_1-1...</td>\n",
       "    </tr>\n",
       "    <tr>\n",
       "      <th>1</th>\n",
       "      <td>10-03-22_Test_2_1-3v1-4</td>\n",
       "      <td>2123</td>\n",
       "      <td>29</td>\n",
       "      <td>C57</td>\n",
       "      <td>10-03-22_Test_2_1-3v1-4</td>\n",
       "      <td>2022-10-03</td>\n",
       "      <td>(1.3, 1.4)</td>\n",
       "      <td>1.3</td>\n",
       "      <td>0</td>\n",
       "      <td>[2123, 4523, 7223, 9623, 11873, 14873, 17723, ...</td>\n",
       "      <td>./data/corner_labeling/10-03-22_Test_2_1-3v1-4...</td>\n",
       "      <td>./data/sleap_pose_tracking/10-03-22_Test_2_1-3...</td>\n",
       "    </tr>\n",
       "    <tr>\n",
       "      <th>1</th>\n",
       "      <td>10-03-22_Test_2_1-3v1-4</td>\n",
       "      <td>2123</td>\n",
       "      <td>29</td>\n",
       "      <td>C57</td>\n",
       "      <td>10-03-22_Test_2_1-3v1-4</td>\n",
       "      <td>2022-10-03</td>\n",
       "      <td>(1.3, 1.4)</td>\n",
       "      <td>1.4</td>\n",
       "      <td>1</td>\n",
       "      <td>[2123, 4523, 7223, 9623, 11873, 14873, 17723, ...</td>\n",
       "      <td>./data/corner_labeling/10-03-22_Test_2_1-3v1-4...</td>\n",
       "      <td>./data/sleap_pose_tracking/10-03-22_Test_2_1-3...</td>\n",
       "    </tr>\n",
       "    <tr>\n",
       "      <th>2</th>\n",
       "      <td>10-03-22_Test_3_2-1v2-2</td>\n",
       "      <td>2125</td>\n",
       "      <td>29</td>\n",
       "      <td>C57</td>\n",
       "      <td>10-03-22_Test_3_2-1v2-2</td>\n",
       "      <td>2022-10-03</td>\n",
       "      <td>(2.1, 2.2)</td>\n",
       "      <td>2.1</td>\n",
       "      <td>0</td>\n",
       "      <td>[2125, 4525, 7225, 9625, 11875, 14875, 17725, ...</td>\n",
       "      <td>./data/corner_labeling/10-03-22_Test_3_2-1v2-2...</td>\n",
       "      <td>./data/sleap_pose_tracking/10-03-22_Test_3_2-1...</td>\n",
       "    </tr>\n",
       "  </tbody>\n",
       "</table>\n",
       "</div>"
      ],
      "text/plain": [
       "                 File Name  Frame Start  FPS Strain                file_base  \\\n",
       "0  10-03-22_Test_1_1-1v1-2         2135   30    C57  10-03-22_Test_1_1-1v1-2   \n",
       "0  10-03-22_Test_1_1-1v1-2         2135   30    C57  10-03-22_Test_1_1-1v1-2   \n",
       "1  10-03-22_Test_2_1-3v1-4         2123   29    C57  10-03-22_Test_2_1-3v1-4   \n",
       "1  10-03-22_Test_2_1-3v1-4         2123   29    C57  10-03-22_Test_2_1-3v1-4   \n",
       "2  10-03-22_Test_3_2-1v2-2         2125   29    C57  10-03-22_Test_3_2-1v2-2   \n",
       "\n",
       "         date    all_subj subj_id  subj_index  \\\n",
       "0  2022-10-03  (1.1, 1.2)     1.1           0   \n",
       "0  2022-10-03  (1.1, 1.2)     1.2           1   \n",
       "1  2022-10-03  (1.3, 1.4)     1.3           0   \n",
       "1  2022-10-03  (1.3, 1.4)     1.4           1   \n",
       "2  2022-10-03  (2.1, 2.2)     2.1           0   \n",
       "\n",
       "                                      all_tone_frame  \\\n",
       "0  [2135, 4535, 7235, 9635, 11885, 14885, 17735, ...   \n",
       "0  [2135, 4535, 7235, 9635, 11885, 14885, 17735, ...   \n",
       "1  [2123, 4523, 7223, 9623, 11873, 14873, 17723, ...   \n",
       "1  [2123, 4523, 7223, 9623, 11873, 14873, 17723, ...   \n",
       "2  [2125, 4525, 7225, 9625, 11875, 14875, 17725, ...   \n",
       "\n",
       "                                         corner_file  \\\n",
       "0  ./data/corner_labeling/10-03-22_Test_1_1-1v1-2...   \n",
       "0  ./data/corner_labeling/10-03-22_Test_1_1-1v1-2...   \n",
       "1  ./data/corner_labeling/10-03-22_Test_2_1-3v1-4...   \n",
       "1  ./data/corner_labeling/10-03-22_Test_2_1-3v1-4...   \n",
       "2  ./data/corner_labeling/10-03-22_Test_3_2-1v2-2...   \n",
       "\n",
       "                                pose_estimation_file  \n",
       "0  ./data/sleap_pose_tracking/10-03-22_Test_1_1-1...  \n",
       "0  ./data/sleap_pose_tracking/10-03-22_Test_1_1-1...  \n",
       "1  ./data/sleap_pose_tracking/10-03-22_Test_2_1-3...  \n",
       "1  ./data/sleap_pose_tracking/10-03-22_Test_2_1-3...  \n",
       "2  ./data/sleap_pose_tracking/10-03-22_Test_3_2-1...  "
      ]
     },
     "execution_count": 40,
     "metadata": {},
     "output_type": "execute_result"
    }
   ],
   "source": [
    "TONE_START_DF.head()"
   ]
  },
  {
   "cell_type": "markdown",
   "metadata": {},
   "source": [
    "- Function that gets the SLEAP data"
   ]
  },
  {
   "cell_type": "code",
   "execution_count": 43,
   "metadata": {
    "scrolled": true
   },
   "outputs": [],
   "source": [
    "corner_node_names = extract_sleap_data_from_h5(all_corner_h5[0])[1]"
   ]
  },
  {
   "cell_type": "code",
   "execution_count": 44,
   "metadata": {},
   "outputs": [
    {
     "data": {
      "text/plain": [
       "['box_bottom_left',\n",
       " 'reward_port',\n",
       " 'box_bottom_right',\n",
       " 'box_top_left',\n",
       " 'box_top_right']"
      ]
     },
     "execution_count": 44,
     "metadata": {},
     "output_type": "execute_result"
    }
   ],
   "source": [
    "corner_node_names"
   ]
  },
  {
   "cell_type": "markdown",
   "metadata": {},
   "source": [
    "- Getting the coordinates of each corner and the reward port"
   ]
  },
  {
   "cell_type": "code",
   "execution_count": 45,
   "metadata": {},
   "outputs": [
    {
     "ename": "TypeError",
     "evalue": "expected str, bytes or os.PathLike object, not float",
     "output_type": "error",
     "traceback": [
      "\u001b[0;31m---------------------------------------------------------------------------\u001b[0m",
      "\u001b[0;31mTypeError\u001b[0m                                 Traceback (most recent call last)",
      "Cell \u001b[0;32mIn[45], line 2\u001b[0m\n\u001b[1;32m      1\u001b[0m \u001b[38;5;28;01mfor\u001b[39;00m index, node \u001b[38;5;129;01min\u001b[39;00m \u001b[38;5;28menumerate\u001b[39m(corner_node_names):\n\u001b[0;32m----> 2\u001b[0m     TONE_START_DF[\u001b[38;5;124m\"\u001b[39m\u001b[38;5;132;01m{}\u001b[39;00m\u001b[38;5;124m_coordinates\u001b[39m\u001b[38;5;124m\"\u001b[39m\u001b[38;5;241m.\u001b[39mformat(node)] \u001b[38;5;241m=\u001b[39m \u001b[43mTONE_START_DF\u001b[49m\u001b[43m[\u001b[49m\u001b[38;5;124;43m\"\u001b[39;49m\u001b[38;5;124;43mcorner_file\u001b[39;49m\u001b[38;5;124;43m\"\u001b[39;49m\u001b[43m]\u001b[49m\u001b[38;5;241;43m.\u001b[39;49m\u001b[43mapply\u001b[49m\u001b[43m(\u001b[49m\u001b[38;5;28;43;01mlambda\u001b[39;49;00m\u001b[43m \u001b[49m\u001b[43mx\u001b[49m\u001b[43m:\u001b[49m\u001b[43m \u001b[49m\u001b[43mextract_sleap_data_from_h5\u001b[49m\u001b[43m(\u001b[49m\u001b[43mx\u001b[49m\u001b[43m)\u001b[49m\u001b[43m[\u001b[49m\u001b[38;5;241;43m0\u001b[39;49m\u001b[43m]\u001b[49m\u001b[43m[\u001b[49m\u001b[38;5;241;43m0\u001b[39;49m\u001b[43m,\u001b[49m\u001b[43mindex\u001b[49m\u001b[43m,\u001b[49m\u001b[43m:\u001b[49m\u001b[43m,\u001b[49m\u001b[38;5;241;43m0\u001b[39;49m\u001b[43m]\u001b[49m\u001b[43m)\u001b[49m\n",
      "File \u001b[0;32m/nancy/projects/dominance_strain_comparison/bin/elo_score_calculation_env/lib/python3.9/site-packages/pandas/core/series.py:4771\u001b[0m, in \u001b[0;36mSeries.apply\u001b[0;34m(self, func, convert_dtype, args, **kwargs)\u001b[0m\n\u001b[1;32m   4661\u001b[0m \u001b[38;5;28;01mdef\u001b[39;00m \u001b[38;5;21mapply\u001b[39m(\n\u001b[1;32m   4662\u001b[0m     \u001b[38;5;28mself\u001b[39m,\n\u001b[1;32m   4663\u001b[0m     func: AggFuncType,\n\u001b[0;32m   (...)\u001b[0m\n\u001b[1;32m   4666\u001b[0m     \u001b[38;5;241m*\u001b[39m\u001b[38;5;241m*\u001b[39mkwargs,\n\u001b[1;32m   4667\u001b[0m ) \u001b[38;5;241m-\u001b[39m\u001b[38;5;241m>\u001b[39m DataFrame \u001b[38;5;241m|\u001b[39m Series:\n\u001b[1;32m   4668\u001b[0m \u001b[38;5;250m    \u001b[39m\u001b[38;5;124;03m\"\"\"\u001b[39;00m\n\u001b[1;32m   4669\u001b[0m \u001b[38;5;124;03m    Invoke function on values of Series.\u001b[39;00m\n\u001b[1;32m   4670\u001b[0m \n\u001b[0;32m   (...)\u001b[0m\n\u001b[1;32m   4769\u001b[0m \u001b[38;5;124;03m    dtype: float64\u001b[39;00m\n\u001b[1;32m   4770\u001b[0m \u001b[38;5;124;03m    \"\"\"\u001b[39;00m\n\u001b[0;32m-> 4771\u001b[0m     \u001b[38;5;28;01mreturn\u001b[39;00m \u001b[43mSeriesApply\u001b[49m\u001b[43m(\u001b[49m\u001b[38;5;28;43mself\u001b[39;49m\u001b[43m,\u001b[49m\u001b[43m \u001b[49m\u001b[43mfunc\u001b[49m\u001b[43m,\u001b[49m\u001b[43m \u001b[49m\u001b[43mconvert_dtype\u001b[49m\u001b[43m,\u001b[49m\u001b[43m \u001b[49m\u001b[43margs\u001b[49m\u001b[43m,\u001b[49m\u001b[43m \u001b[49m\u001b[43mkwargs\u001b[49m\u001b[43m)\u001b[49m\u001b[38;5;241;43m.\u001b[39;49m\u001b[43mapply\u001b[49m\u001b[43m(\u001b[49m\u001b[43m)\u001b[49m\n",
      "File \u001b[0;32m/nancy/projects/dominance_strain_comparison/bin/elo_score_calculation_env/lib/python3.9/site-packages/pandas/core/apply.py:1123\u001b[0m, in \u001b[0;36mSeriesApply.apply\u001b[0;34m(self)\u001b[0m\n\u001b[1;32m   1120\u001b[0m     \u001b[38;5;28;01mreturn\u001b[39;00m \u001b[38;5;28mself\u001b[39m\u001b[38;5;241m.\u001b[39mapply_str()\n\u001b[1;32m   1122\u001b[0m \u001b[38;5;66;03m# self.f is Callable\u001b[39;00m\n\u001b[0;32m-> 1123\u001b[0m \u001b[38;5;28;01mreturn\u001b[39;00m \u001b[38;5;28;43mself\u001b[39;49m\u001b[38;5;241;43m.\u001b[39;49m\u001b[43mapply_standard\u001b[49m\u001b[43m(\u001b[49m\u001b[43m)\u001b[49m\n",
      "File \u001b[0;32m/nancy/projects/dominance_strain_comparison/bin/elo_score_calculation_env/lib/python3.9/site-packages/pandas/core/apply.py:1174\u001b[0m, in \u001b[0;36mSeriesApply.apply_standard\u001b[0;34m(self)\u001b[0m\n\u001b[1;32m   1172\u001b[0m     \u001b[38;5;28;01melse\u001b[39;00m:\n\u001b[1;32m   1173\u001b[0m         values \u001b[38;5;241m=\u001b[39m obj\u001b[38;5;241m.\u001b[39mastype(\u001b[38;5;28mobject\u001b[39m)\u001b[38;5;241m.\u001b[39m_values\n\u001b[0;32m-> 1174\u001b[0m         mapped \u001b[38;5;241m=\u001b[39m \u001b[43mlib\u001b[49m\u001b[38;5;241;43m.\u001b[39;49m\u001b[43mmap_infer\u001b[49m\u001b[43m(\u001b[49m\n\u001b[1;32m   1175\u001b[0m \u001b[43m            \u001b[49m\u001b[43mvalues\u001b[49m\u001b[43m,\u001b[49m\n\u001b[1;32m   1176\u001b[0m \u001b[43m            \u001b[49m\u001b[43mf\u001b[49m\u001b[43m,\u001b[49m\n\u001b[1;32m   1177\u001b[0m \u001b[43m            \u001b[49m\u001b[43mconvert\u001b[49m\u001b[38;5;241;43m=\u001b[39;49m\u001b[38;5;28;43mself\u001b[39;49m\u001b[38;5;241;43m.\u001b[39;49m\u001b[43mconvert_dtype\u001b[49m\u001b[43m,\u001b[49m\n\u001b[1;32m   1178\u001b[0m \u001b[43m        \u001b[49m\u001b[43m)\u001b[49m\n\u001b[1;32m   1180\u001b[0m \u001b[38;5;28;01mif\u001b[39;00m \u001b[38;5;28mlen\u001b[39m(mapped) \u001b[38;5;129;01mand\u001b[39;00m \u001b[38;5;28misinstance\u001b[39m(mapped[\u001b[38;5;241m0\u001b[39m], ABCSeries):\n\u001b[1;32m   1181\u001b[0m     \u001b[38;5;66;03m# GH#43986 Need to do list(mapped) in order to get treated as nested\u001b[39;00m\n\u001b[1;32m   1182\u001b[0m     \u001b[38;5;66;03m#  See also GH#25959 regarding EA support\u001b[39;00m\n\u001b[1;32m   1183\u001b[0m     \u001b[38;5;28;01mreturn\u001b[39;00m obj\u001b[38;5;241m.\u001b[39m_constructor_expanddim(\u001b[38;5;28mlist\u001b[39m(mapped), index\u001b[38;5;241m=\u001b[39mobj\u001b[38;5;241m.\u001b[39mindex)\n",
      "File \u001b[0;32m/nancy/projects/dominance_strain_comparison/bin/elo_score_calculation_env/lib/python3.9/site-packages/pandas/_libs/lib.pyx:2924\u001b[0m, in \u001b[0;36mpandas._libs.lib.map_infer\u001b[0;34m()\u001b[0m\n",
      "Cell \u001b[0;32mIn[45], line 2\u001b[0m, in \u001b[0;36m<lambda>\u001b[0;34m(x)\u001b[0m\n\u001b[1;32m      1\u001b[0m \u001b[38;5;28;01mfor\u001b[39;00m index, node \u001b[38;5;129;01min\u001b[39;00m \u001b[38;5;28menumerate\u001b[39m(corner_node_names):\n\u001b[0;32m----> 2\u001b[0m     TONE_START_DF[\u001b[38;5;124m\"\u001b[39m\u001b[38;5;132;01m{}\u001b[39;00m\u001b[38;5;124m_coordinates\u001b[39m\u001b[38;5;124m\"\u001b[39m\u001b[38;5;241m.\u001b[39mformat(node)] \u001b[38;5;241m=\u001b[39m TONE_START_DF[\u001b[38;5;124m\"\u001b[39m\u001b[38;5;124mcorner_file\u001b[39m\u001b[38;5;124m\"\u001b[39m]\u001b[38;5;241m.\u001b[39mapply(\u001b[38;5;28;01mlambda\u001b[39;00m x: \u001b[43mextract_sleap_data_from_h5\u001b[49m\u001b[43m(\u001b[49m\u001b[43mx\u001b[49m\u001b[43m)\u001b[49m[\u001b[38;5;241m0\u001b[39m][\u001b[38;5;241m0\u001b[39m,index,:,\u001b[38;5;241m0\u001b[39m])\n",
      "Cell \u001b[0;32mIn[41], line 25\u001b[0m, in \u001b[0;36mextract_sleap_data_from_h5\u001b[0;34m(filename)\u001b[0m\n\u001b[1;32m      3\u001b[0m \u001b[38;5;28;01mdef\u001b[39;00m \u001b[38;5;21mextract_sleap_data_from_h5\u001b[39m(filename: \u001b[38;5;28mstr\u001b[39m) \u001b[38;5;241m-\u001b[39m\u001b[38;5;241m>\u001b[39m \u001b[38;5;28mtuple\u001b[39m:\n\u001b[1;32m      4\u001b[0m \u001b[38;5;250m    \u001b[39m\u001b[38;5;124;03m\"\"\"\u001b[39;00m\n\u001b[1;32m      5\u001b[0m \u001b[38;5;124;03m    Extract relevant SLEAP data from an h5 file.\u001b[39;00m\n\u001b[1;32m      6\u001b[0m \n\u001b[0;32m   (...)\u001b[0m\n\u001b[1;32m     22\u001b[0m \u001b[38;5;124;03m    >>> locations, node_names, track_names = extract_sleap_data_from_h5(\"path/to/file.h5\")\u001b[39;00m\n\u001b[1;32m     23\u001b[0m \u001b[38;5;124;03m    \"\"\"\u001b[39;00m\n\u001b[0;32m---> 25\u001b[0m     \u001b[38;5;28;01mwith\u001b[39;00m \u001b[43mh5py\u001b[49m\u001b[38;5;241;43m.\u001b[39;49m\u001b[43mFile\u001b[49m\u001b[43m(\u001b[49m\u001b[43mfilename\u001b[49m\u001b[43m,\u001b[49m\u001b[43m \u001b[49m\u001b[38;5;124;43m\"\u001b[39;49m\u001b[38;5;124;43mr\u001b[39;49m\u001b[38;5;124;43m\"\u001b[39;49m\u001b[43m)\u001b[49m \u001b[38;5;28;01mas\u001b[39;00m f:\n\u001b[1;32m     26\u001b[0m         locations \u001b[38;5;241m=\u001b[39m f[\u001b[38;5;124m\"\u001b[39m\u001b[38;5;124mtracks\u001b[39m\u001b[38;5;124m\"\u001b[39m][:]\u001b[38;5;241m.\u001b[39mT\n\u001b[1;32m     27\u001b[0m         node_names \u001b[38;5;241m=\u001b[39m [n\u001b[38;5;241m.\u001b[39mdecode() \u001b[38;5;28;01mfor\u001b[39;00m n \u001b[38;5;129;01min\u001b[39;00m f[\u001b[38;5;124m\"\u001b[39m\u001b[38;5;124mnode_names\u001b[39m\u001b[38;5;124m\"\u001b[39m][:]]\n",
      "File \u001b[0;32m/nancy/projects/dominance_strain_comparison/bin/elo_score_calculation_env/lib/python3.9/site-packages/h5py/_hl/files.py:509\u001b[0m, in \u001b[0;36mFile.__init__\u001b[0;34m(self, name, mode, driver, libver, userblock_size, swmr, rdcc_nslots, rdcc_nbytes, rdcc_w0, track_order, fs_strategy, fs_persist, fs_threshold, fs_page_size, page_buf_size, min_meta_keep, min_raw_keep, locking, alignment_threshold, alignment_interval, **kwds)\u001b[0m\n\u001b[1;32m    507\u001b[0m     name \u001b[38;5;241m=\u001b[39m \u001b[38;5;28mrepr\u001b[39m(name)\u001b[38;5;241m.\u001b[39mencode(\u001b[38;5;124m'\u001b[39m\u001b[38;5;124mASCII\u001b[39m\u001b[38;5;124m'\u001b[39m, \u001b[38;5;124m'\u001b[39m\u001b[38;5;124mreplace\u001b[39m\u001b[38;5;124m'\u001b[39m)\n\u001b[1;32m    508\u001b[0m \u001b[38;5;28;01melse\u001b[39;00m:\n\u001b[0;32m--> 509\u001b[0m     name \u001b[38;5;241m=\u001b[39m \u001b[43mfilename_encode\u001b[49m\u001b[43m(\u001b[49m\u001b[43mname\u001b[49m\u001b[43m)\u001b[49m\n\u001b[1;32m    511\u001b[0m \u001b[38;5;28;01mif\u001b[39;00m track_order \u001b[38;5;129;01mis\u001b[39;00m \u001b[38;5;28;01mNone\u001b[39;00m:\n\u001b[1;32m    512\u001b[0m     track_order \u001b[38;5;241m=\u001b[39m h5\u001b[38;5;241m.\u001b[39mget_config()\u001b[38;5;241m.\u001b[39mtrack_order\n",
      "File \u001b[0;32m/nancy/projects/dominance_strain_comparison/bin/elo_score_calculation_env/lib/python3.9/site-packages/h5py/_hl/compat.py:19\u001b[0m, in \u001b[0;36mfilename_encode\u001b[0;34m(filename)\u001b[0m\n\u001b[1;32m     11\u001b[0m \u001b[38;5;28;01mdef\u001b[39;00m \u001b[38;5;21mfilename_encode\u001b[39m(filename):\n\u001b[1;32m     12\u001b[0m \u001b[38;5;250m    \u001b[39m\u001b[38;5;124;03m\"\"\"\u001b[39;00m\n\u001b[1;32m     13\u001b[0m \u001b[38;5;124;03m    Encode filename for use in the HDF5 library.\u001b[39;00m\n\u001b[1;32m     14\u001b[0m \n\u001b[0;32m   (...)\u001b[0m\n\u001b[1;32m     17\u001b[0m \u001b[38;5;124;03m    filenames in h5py for more information.\u001b[39;00m\n\u001b[1;32m     18\u001b[0m \u001b[38;5;124;03m    \"\"\"\u001b[39;00m\n\u001b[0;32m---> 19\u001b[0m     filename \u001b[38;5;241m=\u001b[39m \u001b[43mfspath\u001b[49m\u001b[43m(\u001b[49m\u001b[43mfilename\u001b[49m\u001b[43m)\u001b[49m\n\u001b[1;32m     20\u001b[0m     \u001b[38;5;28;01mif\u001b[39;00m sys\u001b[38;5;241m.\u001b[39mplatform \u001b[38;5;241m==\u001b[39m \u001b[38;5;124m\"\u001b[39m\u001b[38;5;124mwin32\u001b[39m\u001b[38;5;124m\"\u001b[39m:\n\u001b[1;32m     21\u001b[0m         \u001b[38;5;28;01mif\u001b[39;00m \u001b[38;5;28misinstance\u001b[39m(filename, \u001b[38;5;28mstr\u001b[39m):\n",
      "\u001b[0;31mTypeError\u001b[0m: expected str, bytes or os.PathLike object, not float"
     ]
    }
   ],
   "source": [
    "for index, node in enumerate(corner_node_names):\n",
    "    TONE_START_DF[\"{}_coordinates\".format(node)] = TONE_START_DF[\"corner_file\"].apply(lambda x: extract_sleap_data_from_h5(x)[0][0,index,:,0])"
   ]
  },
  {
   "cell_type": "code",
   "execution_count": 250,
   "metadata": {},
   "outputs": [
    {
     "data": {
      "text/html": [
       "<div>\n",
       "<style scoped>\n",
       "    .dataframe tbody tr th:only-of-type {\n",
       "        vertical-align: middle;\n",
       "    }\n",
       "\n",
       "    .dataframe tbody tr th {\n",
       "        vertical-align: top;\n",
       "    }\n",
       "\n",
       "    .dataframe thead th {\n",
       "        text-align: right;\n",
       "    }\n",
       "</style>\n",
       "<table border=\"1\" class=\"dataframe\">\n",
       "  <thead>\n",
       "    <tr style=\"text-align: right;\">\n",
       "      <th></th>\n",
       "      <th>File Name</th>\n",
       "      <th>Frame Start</th>\n",
       "      <th>FPS</th>\n",
       "      <th>Strain</th>\n",
       "      <th>date</th>\n",
       "      <th>all_subj</th>\n",
       "      <th>subj_id</th>\n",
       "      <th>subj_index</th>\n",
       "      <th>all_tone_frame</th>\n",
       "      <th>corner_file</th>\n",
       "      <th>pose_estimation_file</th>\n",
       "      <th>box_bottom_left_coordinates</th>\n",
       "      <th>reward_port_coordinates</th>\n",
       "      <th>box_bottom_right_coordinates</th>\n",
       "      <th>box_top_left_coordinates</th>\n",
       "      <th>box_top_right_coordinates</th>\n",
       "    </tr>\n",
       "  </thead>\n",
       "  <tbody>\n",
       "    <tr>\n",
       "      <th>0</th>\n",
       "      <td>10-03-22_Test_1_1-1v1-2</td>\n",
       "      <td>2135</td>\n",
       "      <td>30</td>\n",
       "      <td>C57</td>\n",
       "      <td>2022-10-03</td>\n",
       "      <td>(1.1, 1.2)</td>\n",
       "      <td>1.1</td>\n",
       "      <td>0</td>\n",
       "      <td>[2135, 4535, 7235, 9635, 11885, 14885, 17735, ...</td>\n",
       "      <td>./data/corner_labeling/10-03-22_Test_1_1-1v1-2...</td>\n",
       "      <td>./data/sleap_pose_tracking/10-03-22_Test_1_1-1...</td>\n",
       "      <td>[390.9854761048566, 550.1045501415538]</td>\n",
       "      <td>[513.8875473467701, 571.6172631900606]</td>\n",
       "      <td>[638.3064796862376, 555.5861352215592]</td>\n",
       "      <td>[408.330015339179, 256.61728326956387]</td>\n",
       "      <td>[644.898096304591, 260.851923832358]</td>\n",
       "    </tr>\n",
       "    <tr>\n",
       "      <th>0</th>\n",
       "      <td>10-03-22_Test_1_1-1v1-2</td>\n",
       "      <td>2135</td>\n",
       "      <td>30</td>\n",
       "      <td>C57</td>\n",
       "      <td>2022-10-03</td>\n",
       "      <td>(1.1, 1.2)</td>\n",
       "      <td>1.2</td>\n",
       "      <td>1</td>\n",
       "      <td>[2135, 4535, 7235, 9635, 11885, 14885, 17735, ...</td>\n",
       "      <td>./data/corner_labeling/10-03-22_Test_1_1-1v1-2...</td>\n",
       "      <td>./data/sleap_pose_tracking/10-03-22_Test_1_1-1...</td>\n",
       "      <td>[390.9854761048566, 550.1045501415538]</td>\n",
       "      <td>[513.8875473467701, 571.6172631900606]</td>\n",
       "      <td>[638.3064796862376, 555.5861352215592]</td>\n",
       "      <td>[408.330015339179, 256.61728326956387]</td>\n",
       "      <td>[644.898096304591, 260.851923832358]</td>\n",
       "    </tr>\n",
       "    <tr>\n",
       "      <th>1</th>\n",
       "      <td>10-03-22_Test_2_1-3v1-4</td>\n",
       "      <td>2123</td>\n",
       "      <td>29</td>\n",
       "      <td>C57</td>\n",
       "      <td>2022-10-03</td>\n",
       "      <td>(1.3, 1.4)</td>\n",
       "      <td>1.3</td>\n",
       "      <td>0</td>\n",
       "      <td>[2123, 4523, 7223, 9623, 11873, 14873, 17723, ...</td>\n",
       "      <td>./data/corner_labeling/10-03-22_Test_2_1-3v1-4...</td>\n",
       "      <td>./data/sleap_pose_tracking/10-03-22_Test_2_1-3...</td>\n",
       "      <td>[351.0497840352974, 626.2728051332355]</td>\n",
       "      <td>[519.576353919354, 659.5076696013427]</td>\n",
       "      <td>[693.7994220451658, 629.0949247066953]</td>\n",
       "      <td>[352.9002955462512, 212.30683090705492]</td>\n",
       "      <td>[694.5621623710648, 212.07868790475084]</td>\n",
       "    </tr>\n",
       "    <tr>\n",
       "      <th>1</th>\n",
       "      <td>10-03-22_Test_2_1-3v1-4</td>\n",
       "      <td>2123</td>\n",
       "      <td>29</td>\n",
       "      <td>C57</td>\n",
       "      <td>2022-10-03</td>\n",
       "      <td>(1.3, 1.4)</td>\n",
       "      <td>1.4</td>\n",
       "      <td>1</td>\n",
       "      <td>[2123, 4523, 7223, 9623, 11873, 14873, 17723, ...</td>\n",
       "      <td>./data/corner_labeling/10-03-22_Test_2_1-3v1-4...</td>\n",
       "      <td>./data/sleap_pose_tracking/10-03-22_Test_2_1-3...</td>\n",
       "      <td>[351.0497840352974, 626.2728051332355]</td>\n",
       "      <td>[519.576353919354, 659.5076696013427]</td>\n",
       "      <td>[693.7994220451658, 629.0949247066953]</td>\n",
       "      <td>[352.9002955462512, 212.30683090705492]</td>\n",
       "      <td>[694.5621623710648, 212.07868790475084]</td>\n",
       "    </tr>\n",
       "    <tr>\n",
       "      <th>2</th>\n",
       "      <td>10-03-22_Test_3_2-1v2-2</td>\n",
       "      <td>2125</td>\n",
       "      <td>29</td>\n",
       "      <td>C57</td>\n",
       "      <td>2022-10-03</td>\n",
       "      <td>(2.1, 2.2)</td>\n",
       "      <td>2.1</td>\n",
       "      <td>0</td>\n",
       "      <td>[2125, 4525, 7225, 9625, 11875, 14875, 17725, ...</td>\n",
       "      <td>./data/corner_labeling/10-03-22_Test_3_2-1v2-2...</td>\n",
       "      <td>./data/sleap_pose_tracking/10-03-22_Test_3_2-1...</td>\n",
       "      <td>[336.35679625338616, 588.6368242233518]</td>\n",
       "      <td>[508.9149672788628, 621.5982963374584]</td>\n",
       "      <td>[680.1398630208826, 585.5933059960898]</td>\n",
       "      <td>[343.6821422185993, 166.10302351623739]</td>\n",
       "      <td>[675.7125022249096, 169.20404824713103]</td>\n",
       "    </tr>\n",
       "  </tbody>\n",
       "</table>\n",
       "</div>"
      ],
      "text/plain": [
       "                 File Name Frame Start  FPS Strain        date    all_subj  \\\n",
       "0  10-03-22_Test_1_1-1v1-2        2135   30    C57  2022-10-03  (1.1, 1.2)   \n",
       "0  10-03-22_Test_1_1-1v1-2        2135   30    C57  2022-10-03  (1.1, 1.2)   \n",
       "1  10-03-22_Test_2_1-3v1-4        2123   29    C57  2022-10-03  (1.3, 1.4)   \n",
       "1  10-03-22_Test_2_1-3v1-4        2123   29    C57  2022-10-03  (1.3, 1.4)   \n",
       "2  10-03-22_Test_3_2-1v2-2        2125   29    C57  2022-10-03  (2.1, 2.2)   \n",
       "\n",
       "  subj_id  subj_index                                     all_tone_frame  \\\n",
       "0     1.1           0  [2135, 4535, 7235, 9635, 11885, 14885, 17735, ...   \n",
       "0     1.2           1  [2135, 4535, 7235, 9635, 11885, 14885, 17735, ...   \n",
       "1     1.3           0  [2123, 4523, 7223, 9623, 11873, 14873, 17723, ...   \n",
       "1     1.4           1  [2123, 4523, 7223, 9623, 11873, 14873, 17723, ...   \n",
       "2     2.1           0  [2125, 4525, 7225, 9625, 11875, 14875, 17725, ...   \n",
       "\n",
       "                                         corner_file  \\\n",
       "0  ./data/corner_labeling/10-03-22_Test_1_1-1v1-2...   \n",
       "0  ./data/corner_labeling/10-03-22_Test_1_1-1v1-2...   \n",
       "1  ./data/corner_labeling/10-03-22_Test_2_1-3v1-4...   \n",
       "1  ./data/corner_labeling/10-03-22_Test_2_1-3v1-4...   \n",
       "2  ./data/corner_labeling/10-03-22_Test_3_2-1v2-2...   \n",
       "\n",
       "                                pose_estimation_file  \\\n",
       "0  ./data/sleap_pose_tracking/10-03-22_Test_1_1-1...   \n",
       "0  ./data/sleap_pose_tracking/10-03-22_Test_1_1-1...   \n",
       "1  ./data/sleap_pose_tracking/10-03-22_Test_2_1-3...   \n",
       "1  ./data/sleap_pose_tracking/10-03-22_Test_2_1-3...   \n",
       "2  ./data/sleap_pose_tracking/10-03-22_Test_3_2-1...   \n",
       "\n",
       "               box_bottom_left_coordinates  \\\n",
       "0   [390.9854761048566, 550.1045501415538]   \n",
       "0   [390.9854761048566, 550.1045501415538]   \n",
       "1   [351.0497840352974, 626.2728051332355]   \n",
       "1   [351.0497840352974, 626.2728051332355]   \n",
       "2  [336.35679625338616, 588.6368242233518]   \n",
       "\n",
       "                  reward_port_coordinates  \\\n",
       "0  [513.8875473467701, 571.6172631900606]   \n",
       "0  [513.8875473467701, 571.6172631900606]   \n",
       "1   [519.576353919354, 659.5076696013427]   \n",
       "1   [519.576353919354, 659.5076696013427]   \n",
       "2  [508.9149672788628, 621.5982963374584]   \n",
       "\n",
       "             box_bottom_right_coordinates  \\\n",
       "0  [638.3064796862376, 555.5861352215592]   \n",
       "0  [638.3064796862376, 555.5861352215592]   \n",
       "1  [693.7994220451658, 629.0949247066953]   \n",
       "1  [693.7994220451658, 629.0949247066953]   \n",
       "2  [680.1398630208826, 585.5933059960898]   \n",
       "\n",
       "                  box_top_left_coordinates  \\\n",
       "0   [408.330015339179, 256.61728326956387]   \n",
       "0   [408.330015339179, 256.61728326956387]   \n",
       "1  [352.9002955462512, 212.30683090705492]   \n",
       "1  [352.9002955462512, 212.30683090705492]   \n",
       "2  [343.6821422185993, 166.10302351623739]   \n",
       "\n",
       "                 box_top_right_coordinates  \n",
       "0     [644.898096304591, 260.851923832358]  \n",
       "0     [644.898096304591, 260.851923832358]  \n",
       "1  [694.5621623710648, 212.07868790475084]  \n",
       "1  [694.5621623710648, 212.07868790475084]  \n",
       "2  [675.7125022249096, 169.20404824713103]  "
      ]
     },
     "execution_count": 250,
     "metadata": {},
     "output_type": "execute_result"
    }
   ],
   "source": [
    "tone_start_df.head()"
   ]
  },
  {
   "cell_type": "code",
   "execution_count": 251,
   "metadata": {},
   "outputs": [],
   "source": [
    "corner_columns = [col for col in tone_start_df.columns if \"coordinates\" in col]"
   ]
  },
  {
   "cell_type": "code",
   "execution_count": 252,
   "metadata": {
    "scrolled": true
   },
   "outputs": [
    {
     "data": {
      "text/plain": [
       "<matplotlib.legend.Legend at 0x7fbc6c7f3940>"
      ]
     },
     "execution_count": 252,
     "metadata": {},
     "output_type": "execute_result"
    },
    {
     "data": {
      "image/png": "[encoded data removed]",
      "text/plain": [
       "<Figure size 640x480 with 1 Axes>"
      ]
     },
     "metadata": {},
     "output_type": "display_data"
    }
   ],
   "source": [
    "fig, ax = plt.subplots()\n",
    "\n",
    "for index, row in tone_start_df.iterrows():\n",
    "    for corner in corner_columns:\n",
    "        plt.scatter(row[corner][0], row[corner][1], label=corner)\n",
    "    break\n",
    "plt.legend()"
   ]
  },
  {
   "cell_type": "markdown",
   "metadata": {
    "created_in_deepnote_cell": true,
    "deepnote_cell_type": "markdown"
   },
   "source": [
    "<a style='text-decoration:none;line-height:16px;display:flex;color:#5B5B62;padding:10px;justify-content:end;' href='https://deepnote.com?utm_source=created-in-deepnote-cell&projectId=a4490980-3f6a-4f44-80eb-ebd789a5b21f' target=\"_blank\">\n",
    "<img alt='Created in deepnote.com' style='display:inline;max-height:16px;margin:0px;margin-right:7.5px;' src='data:image/svg+xml;base64,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' > </img>\n",
    "Created in <span style='font-weight:600;margin-left:4px;'>Deepnote</span></a>"
   ]
  }
 ],
 "metadata": {
  "deepnote": {},
  "deepnote_execution_queue": [],
  "deepnote_notebook_id": "cf8fe3695d074ee7887fdf6459cbf5ce",
  "kernelspec": {
   "display_name": "Python 3 (ipykernel)",
   "language": "python",
   "name": "python3"
  },
  "language_info": {
   "codemirror_mode": {
    "name": "ipython",
    "version": 3
   },
   "file_extension": ".py",
   "mimetype": "text/x-python",
   "name": "python",
   "nbconvert_exporter": "python",
   "pygments_lexer": "ipython3",
   "version": "3.9.15"
  }
 },
 "nbformat": 4,
 "nbformat_minor": 4
}
